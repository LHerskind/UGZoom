{
 "cells": [
  {
   "cell_type": "code",
   "execution_count": 1,
   "metadata": {
    "collapsed": false
   },
   "outputs": [],
   "source": [
    "import numpy as np\n",
    "import seaborn as sns\n",
    "\n",
    "import pandas as pd\n",
    "pd.set_option('display.max_colwidth', -1)\n",
    "pd.set_option('display.max_columns', None)  \n",
    "import matplotlib.pyplot as plt\n",
    "from tabulate import tabulate\n",
    "\n",
    "import scipy\n",
    "\n",
    "import plotly.express as px\n",
    "import plotly\n",
    "import statsmodels.stats.api as sms\n",
    "\n",
    "import warnings\n",
    "warnings.filterwarnings(\"ignore\")"
   ]
  },
  {
   "cell_type": "code",
   "execution_count": 2,
   "metadata": {
    "collapsed": false
   },
   "outputs": [],
   "source": [
    "data = pd.read_csv(\"ufm_samlet_18nov2019.csv\", delimiter=\";\", decimal=\",\")\n",
    "len(data)\n",
    "data = data.loc[(data[\"hovedinsttx\"] == \"Uddannelsen på landsplan\")]\n",
    "#data = data.loc[(data[\"afbrud_n\"] > 100)]\n",
    "data[\"maanedloen_nyudd\"] = data[\"maanedloen_nyudd\"].astype(float) * 1000\n",
    "data[\"maanedloenp75_nyudd\"] = data[\"maanedloenp75_nyudd\"].astype(float) * 1000\n",
    "data[\"maanedloenp25_nyudd\"] = data[\"maanedloenp25_nyudd\"].astype(float) * 1000"
   ]
  },
  {
   "cell_type": "markdown",
   "metadata": {},
   "source": [
    "# Løn, Relevans \n",
    "Vi ser på sammenhængen mellem lønnen, og hvad eleverne mener om uddannelserne."
   ]
  },
  {
   "cell_type": "code",
   "execution_count": 10,
   "metadata": {
    "collapsed": true
   },
   "outputs": [],
   "source": [
    "def nice_plot(x, y, show_us = False):\n",
    "\n",
    "    x_konf = sms.DescrStatsW(data_løn[x]).tconfint_mean()\n",
    "    y_konf = sms.DescrStatsW(data_løn[y]).tconfint_mean()\n",
    "    # print(\"x, konfidens: \", x_konf), print(\"y, konfidens: \", y_konf)\n",
    "    \n",
    "    title = \"{0} vs. {1}\".format(x, y)\n",
    "    \n",
    "    line = dict(color=None, width=0)\n",
    "    fill_color = \"LightSkyBlue\"\n",
    "    \n",
    "    fig = px.scatter(data_løn, x=x, y=y, hover_data=['Titel'], marginal_y=\"histogram\", marginal_x=\"histogram\", trendline='lowess', title=title)\n",
    "    fig.add_shape(plotly.graph_objs.layout.Shape( type='rect', x0 = x_konf[0], x1 = x_konf[1], y0 = data_løn[y].min(), y1 = data_løn[y].max(), line = line, fillcolor = fill_color, opacity=0.5, layer=\"below\"))\n",
    "    fig.add_shape(plotly.graph_objs.layout.Shape( type='rect', x0 = data_løn[x].min(), x1 = data_løn[x].max(), y0 = y_konf[0], y1 = y_konf[1], line = line, fillcolor = fill_color, opacity=0.5, layer=\"below\"))    \n",
    "    \n",
    "    if show_us:        \n",
    "\n",
    "        size_x = (data_løn[x].max() - data_løn[x].min()) / 40\n",
    "        size_y = (data_løn[y].max() - data_løn[y].min()) / 20\n",
    "\n",
    "        hmm = data_løn.loc[data_løn[\"Titel\"] == \"Økonomi\"]\n",
    "        fig.add_shape(plotly.graph_objs.layout.Shape(type='circle', x0 = hmm[x].values[0] - size_x, x1 = hmm[x].values[0] + size_x, y0 = hmm[y].values[0] - size_y, y1 = hmm[y].values[0] + size_y, line_color=\"Yellow\"))\n",
    "\n",
    "        #hmm = data_løn.loc[data_løn[\"Titel\"] == \"Digitale medieteknologier\"]\n",
    "        #fig.add_shape(plotly.graph_objs.layout.Shape(type='circle', x0 = hmm[x].values[0] - size_x, x1 = hmm[x].values[0] + size_x, y0 = hmm[y].values[0] - size_y, y1 = hmm[y].values[0] + size_y, line_color=\"Green\"))\n",
    "\n",
    "        #hmm = data_løn.loc[data_løn[\"Titel\"] == \"Anvendt kemi\"]\n",
    "        #fig.add_shape(plotly.graph_objs.layout.Shape(type='circle', x0 = hmm[x].values[0] - size_x, x1 = hmm[x].values[0] + size_x, y0 = hmm[y].values[0] - size_y, y1 = hmm[y].values[0] + size_y, line_color=\"Red\"))\n",
    "\n",
    "        #hmm = data_løn.loc[data_løn[\"Titel\"] == \"Fysik\"]\n",
    "        #fig.add_shape(plotly.graph_objs.layout.Shape(type='circle', x0 = hmm[x].values[0] - size_x, x1 = hmm[x].values[0] + size_x, y0 = hmm[y].values[0] - size_y, y1 = hmm[y].values[0] + size_y, line_color=\"Orange\"))\n",
    "\n",
    "    \n",
    "    fig.update_shapes(dict(xref='x', yref='y'))\n",
    "    fig.show()"
   ]
  },
  {
   "cell_type": "code",
   "execution_count": 11,
   "metadata": {
    "collapsed": false
   },
   "outputs": [
    {
     "name": "stdout",
     "output_type": "stream",
     "text": [
      "['stress_eksamen_likert'] 244\n",
      "  frafald 1. år    ledighed    stress    eksamensstress    kvalitet    relevans    faglighed    socialt    tidsforbrug\n",
      "---------------  ----------  --------  ----------------  ----------  ----------  -----------  ---------  -------------\n",
      "        9.37295    12.0697   3.51594           3.00488     4.17012     3.65316      4.4857      3.82832       38.0246\n",
      "        8          12        3.53              2.97        4.155       3.64         4.505       3.85          38\n",
      "        6.27722     7.56857  0.254053          0.326687    0.276233    0.273534     0.194443    0.25665        4.43743\n"
     ]
    },
    {
     "data": {
      "text/html": [
       "<style  type=\"text/css\" >\n",
       "    #T_abd8f9cc_3edb_11ea_b871_708bcdac036crow0_col0 {\n",
       "            background-color:  #b40426;\n",
       "        }    #T_abd8f9cc_3edb_11ea_b871_708bcdac036crow0_col1 {\n",
       "            background-color:  #799cf8;\n",
       "        }    #T_abd8f9cc_3edb_11ea_b871_708bcdac036crow0_col2 {\n",
       "            background-color:  #d4dbe6;\n",
       "        }    #T_abd8f9cc_3edb_11ea_b871_708bcdac036crow0_col3 {\n",
       "            background-color:  #bad0f8;\n",
       "        }    #T_abd8f9cc_3edb_11ea_b871_708bcdac036crow0_col4 {\n",
       "            background-color:  #3b4cc0;\n",
       "        }    #T_abd8f9cc_3edb_11ea_b871_708bcdac036crow0_col5 {\n",
       "            background-color:  #5875e1;\n",
       "        }    #T_abd8f9cc_3edb_11ea_b871_708bcdac036crow0_col6 {\n",
       "            background-color:  #3b4cc0;\n",
       "        }    #T_abd8f9cc_3edb_11ea_b871_708bcdac036crow0_col7 {\n",
       "            background-color:  #3b4cc0;\n",
       "        }    #T_abd8f9cc_3edb_11ea_b871_708bcdac036crow0_col8 {\n",
       "            background-color:  #7da0f9;\n",
       "        }    #T_abd8f9cc_3edb_11ea_b871_708bcdac036crow1_col0 {\n",
       "            background-color:  #8db0fe;\n",
       "        }    #T_abd8f9cc_3edb_11ea_b871_708bcdac036crow1_col1 {\n",
       "            background-color:  #b40426;\n",
       "        }    #T_abd8f9cc_3edb_11ea_b871_708bcdac036crow1_col2 {\n",
       "            background-color:  #3e51c5;\n",
       "        }    #T_abd8f9cc_3edb_11ea_b871_708bcdac036crow1_col3 {\n",
       "            background-color:  #4c66d6;\n",
       "        }    #T_abd8f9cc_3edb_11ea_b871_708bcdac036crow1_col4 {\n",
       "            background-color:  #7597f6;\n",
       "        }    #T_abd8f9cc_3edb_11ea_b871_708bcdac036crow1_col5 {\n",
       "            background-color:  #3b4cc0;\n",
       "        }    #T_abd8f9cc_3edb_11ea_b871_708bcdac036crow1_col6 {\n",
       "            background-color:  #a2c1ff;\n",
       "        }    #T_abd8f9cc_3edb_11ea_b871_708bcdac036crow1_col7 {\n",
       "            background-color:  #4358cb;\n",
       "        }    #T_abd8f9cc_3edb_11ea_b871_708bcdac036crow1_col8 {\n",
       "            background-color:  #3b4cc0;\n",
       "        }    #T_abd8f9cc_3edb_11ea_b871_708bcdac036crow2_col0 {\n",
       "            background-color:  #ecd3c5;\n",
       "        }    #T_abd8f9cc_3edb_11ea_b871_708bcdac036crow2_col1 {\n",
       "            background-color:  #6384eb;\n",
       "        }    #T_abd8f9cc_3edb_11ea_b871_708bcdac036crow2_col2 {\n",
       "            background-color:  #b40426;\n",
       "        }    #T_abd8f9cc_3edb_11ea_b871_708bcdac036crow2_col3 {\n",
       "            background-color:  #ec7f63;\n",
       "        }    #T_abd8f9cc_3edb_11ea_b871_708bcdac036crow2_col4 {\n",
       "            background-color:  #7597f6;\n",
       "        }    #T_abd8f9cc_3edb_11ea_b871_708bcdac036crow2_col5 {\n",
       "            background-color:  #7ea1fa;\n",
       "        }    #T_abd8f9cc_3edb_11ea_b871_708bcdac036crow2_col6 {\n",
       "            background-color:  #5d7ce6;\n",
       "        }    #T_abd8f9cc_3edb_11ea_b871_708bcdac036crow2_col7 {\n",
       "            background-color:  #7597f6;\n",
       "        }    #T_abd8f9cc_3edb_11ea_b871_708bcdac036crow2_col8 {\n",
       "            background-color:  #6180e9;\n",
       "        }    #T_abd8f9cc_3edb_11ea_b871_708bcdac036crow3_col0 {\n",
       "            background-color:  #e0dbd8;\n",
       "        }    #T_abd8f9cc_3edb_11ea_b871_708bcdac036crow3_col1 {\n",
       "            background-color:  #7ea1fa;\n",
       "        }    #T_abd8f9cc_3edb_11ea_b871_708bcdac036crow3_col2 {\n",
       "            background-color:  #ea7b60;\n",
       "        }    #T_abd8f9cc_3edb_11ea_b871_708bcdac036crow3_col3 {\n",
       "            background-color:  #b40426;\n",
       "        }    #T_abd8f9cc_3edb_11ea_b871_708bcdac036crow3_col4 {\n",
       "            background-color:  #86a9fc;\n",
       "        }    #T_abd8f9cc_3edb_11ea_b871_708bcdac036crow3_col5 {\n",
       "            background-color:  #97b8ff;\n",
       "        }    #T_abd8f9cc_3edb_11ea_b871_708bcdac036crow3_col6 {\n",
       "            background-color:  #6687ed;\n",
       "        }    #T_abd8f9cc_3edb_11ea_b871_708bcdac036crow3_col7 {\n",
       "            background-color:  #9dbdff;\n",
       "        }    #T_abd8f9cc_3edb_11ea_b871_708bcdac036crow3_col8 {\n",
       "            background-color:  #7b9ff9;\n",
       "        }    #T_abd8f9cc_3edb_11ea_b871_708bcdac036crow4_col0 {\n",
       "            background-color:  #3b4cc0;\n",
       "        }    #T_abd8f9cc_3edb_11ea_b871_708bcdac036crow4_col1 {\n",
       "            background-color:  #6180e9;\n",
       "        }    #T_abd8f9cc_3edb_11ea_b871_708bcdac036crow4_col2 {\n",
       "            background-color:  #3b4cc0;\n",
       "        }    #T_abd8f9cc_3edb_11ea_b871_708bcdac036crow4_col3 {\n",
       "            background-color:  #4257c9;\n",
       "        }    #T_abd8f9cc_3edb_11ea_b871_708bcdac036crow4_col4 {\n",
       "            background-color:  #b40426;\n",
       "        }    #T_abd8f9cc_3edb_11ea_b871_708bcdac036crow4_col5 {\n",
       "            background-color:  #f7b497;\n",
       "        }    #T_abd8f9cc_3edb_11ea_b871_708bcdac036crow4_col6 {\n",
       "            background-color:  #f39475;\n",
       "        }    #T_abd8f9cc_3edb_11ea_b871_708bcdac036crow4_col7 {\n",
       "            background-color:  #dadce0;\n",
       "        }    #T_abd8f9cc_3edb_11ea_b871_708bcdac036crow4_col8 {\n",
       "            background-color:  #ccd9ed;\n",
       "        }    #T_abd8f9cc_3edb_11ea_b871_708bcdac036crow5_col0 {\n",
       "            background-color:  #6c8ff1;\n",
       "        }    #T_abd8f9cc_3edb_11ea_b871_708bcdac036crow5_col1 {\n",
       "            background-color:  #3b4cc0;\n",
       "        }    #T_abd8f9cc_3edb_11ea_b871_708bcdac036crow5_col2 {\n",
       "            background-color:  #5977e3;\n",
       "        }    #T_abd8f9cc_3edb_11ea_b871_708bcdac036crow5_col3 {\n",
       "            background-color:  #6a8bef;\n",
       "        }    #T_abd8f9cc_3edb_11ea_b871_708bcdac036crow5_col4 {\n",
       "            background-color:  #f7ad90;\n",
       "        }    #T_abd8f9cc_3edb_11ea_b871_708bcdac036crow5_col5 {\n",
       "            background-color:  #b40426;\n",
       "        }    #T_abd8f9cc_3edb_11ea_b871_708bcdac036crow5_col6 {\n",
       "            background-color:  #dcdddd;\n",
       "        }    #T_abd8f9cc_3edb_11ea_b871_708bcdac036crow5_col7 {\n",
       "            background-color:  #bbd1f8;\n",
       "        }    #T_abd8f9cc_3edb_11ea_b871_708bcdac036crow5_col8 {\n",
       "            background-color:  #e0dbd8;\n",
       "        }    #T_abd8f9cc_3edb_11ea_b871_708bcdac036crow6_col0 {\n",
       "            background-color:  #5572df;\n",
       "        }    #T_abd8f9cc_3edb_11ea_b871_708bcdac036crow6_col1 {\n",
       "            background-color:  #a7c5fe;\n",
       "        }    #T_abd8f9cc_3edb_11ea_b871_708bcdac036crow6_col2 {\n",
       "            background-color:  #3d50c3;\n",
       "        }    #T_abd8f9cc_3edb_11ea_b871_708bcdac036crow6_col3 {\n",
       "            background-color:  #3b4cc0;\n",
       "        }    #T_abd8f9cc_3edb_11ea_b871_708bcdac036crow6_col4 {\n",
       "            background-color:  #f08b6e;\n",
       "        }    #T_abd8f9cc_3edb_11ea_b871_708bcdac036crow6_col5 {\n",
       "            background-color:  #dfdbd9;\n",
       "        }    #T_abd8f9cc_3edb_11ea_b871_708bcdac036crow6_col6 {\n",
       "            background-color:  #b40426;\n",
       "        }    #T_abd8f9cc_3edb_11ea_b871_708bcdac036crow6_col7 {\n",
       "            background-color:  #8db0fe;\n",
       "        }    #T_abd8f9cc_3edb_11ea_b871_708bcdac036crow6_col8 {\n",
       "            background-color:  #84a7fc;\n",
       "        }    #T_abd8f9cc_3edb_11ea_b871_708bcdac036crow7_col0 {\n",
       "            background-color:  #7ea1fa;\n",
       "        }    #T_abd8f9cc_3edb_11ea_b871_708bcdac036crow7_col1 {\n",
       "            background-color:  #7396f5;\n",
       "        }    #T_abd8f9cc_3edb_11ea_b871_708bcdac036crow7_col2 {\n",
       "            background-color:  #80a3fa;\n",
       "        }    #T_abd8f9cc_3edb_11ea_b871_708bcdac036crow7_col3 {\n",
       "            background-color:  #9dbdff;\n",
       "        }    #T_abd8f9cc_3edb_11ea_b871_708bcdac036crow7_col4 {\n",
       "            background-color:  #f1ccb8;\n",
       "        }    #T_abd8f9cc_3edb_11ea_b871_708bcdac036crow7_col5 {\n",
       "            background-color:  #d7dce3;\n",
       "        }    #T_abd8f9cc_3edb_11ea_b871_708bcdac036crow7_col6 {\n",
       "            background-color:  #b1cbfc;\n",
       "        }    #T_abd8f9cc_3edb_11ea_b871_708bcdac036crow7_col7 {\n",
       "            background-color:  #b40426;\n",
       "        }    #T_abd8f9cc_3edb_11ea_b871_708bcdac036crow7_col8 {\n",
       "            background-color:  #dadce0;\n",
       "        }    #T_abd8f9cc_3edb_11ea_b871_708bcdac036crow8_col0 {\n",
       "            background-color:  #9ebeff;\n",
       "        }    #T_abd8f9cc_3edb_11ea_b871_708bcdac036crow8_col1 {\n",
       "            background-color:  #4961d2;\n",
       "        }    #T_abd8f9cc_3edb_11ea_b871_708bcdac036crow8_col2 {\n",
       "            background-color:  #4a63d3;\n",
       "        }    #T_abd8f9cc_3edb_11ea_b871_708bcdac036crow8_col3 {\n",
       "            background-color:  #5a78e4;\n",
       "        }    #T_abd8f9cc_3edb_11ea_b871_708bcdac036crow8_col4 {\n",
       "            background-color:  #dedcdb;\n",
       "        }    #T_abd8f9cc_3edb_11ea_b871_708bcdac036crow8_col5 {\n",
       "            background-color:  #e6d7cf;\n",
       "        }    #T_abd8f9cc_3edb_11ea_b871_708bcdac036crow8_col6 {\n",
       "            background-color:  #8caffe;\n",
       "        }    #T_abd8f9cc_3edb_11ea_b871_708bcdac036crow8_col7 {\n",
       "            background-color:  #cad8ef;\n",
       "        }    #T_abd8f9cc_3edb_11ea_b871_708bcdac036crow8_col8 {\n",
       "            background-color:  #b40426;\n",
       "        }</style>  \n",
       "<table id=\"T_abd8f9cc_3edb_11ea_b871_708bcdac036c\" > \n",
       "<thead>    <tr> \n",
       "        <th class=\"blank level0\" ></th> \n",
       "        <th class=\"col_heading level0 col0\" >frafald 1. år</th> \n",
       "        <th class=\"col_heading level0 col1\" >ledighed</th> \n",
       "        <th class=\"col_heading level0 col2\" >stress</th> \n",
       "        <th class=\"col_heading level0 col3\" >eksamensstress</th> \n",
       "        <th class=\"col_heading level0 col4\" >kvalitet</th> \n",
       "        <th class=\"col_heading level0 col5\" >relevans</th> \n",
       "        <th class=\"col_heading level0 col6\" >faglighed</th> \n",
       "        <th class=\"col_heading level0 col7\" >socialt</th> \n",
       "        <th class=\"col_heading level0 col8\" >tidsforbrug</th> \n",
       "    </tr></thead> \n",
       "<tbody>    <tr> \n",
       "        <th id=\"T_abd8f9cc_3edb_11ea_b871_708bcdac036clevel0_row0\" class=\"row_heading level0 row0\" >frafald 1. år</th> \n",
       "        <td id=\"T_abd8f9cc_3edb_11ea_b871_708bcdac036crow0_col0\" class=\"data row0 col0\" >1</td> \n",
       "        <td id=\"T_abd8f9cc_3edb_11ea_b871_708bcdac036crow0_col1\" class=\"data row0 col1\" >-0.114193</td> \n",
       "        <td id=\"T_abd8f9cc_3edb_11ea_b871_708bcdac036crow0_col2\" class=\"data row0 col2\" >0.351384</td> \n",
       "        <td id=\"T_abd8f9cc_3edb_11ea_b871_708bcdac036crow0_col3\" class=\"data row0 col3\" >0.275258</td> \n",
       "        <td id=\"T_abd8f9cc_3edb_11ea_b871_708bcdac036crow0_col4\" class=\"data row0 col4\" >-0.486787</td> \n",
       "        <td id=\"T_abd8f9cc_3edb_11ea_b871_708bcdac036crow0_col5\" class=\"data row0 col5\" >-0.251887</td> \n",
       "        <td id=\"T_abd8f9cc_3edb_11ea_b871_708bcdac036crow0_col6\" class=\"data row0 col6\" >-0.356977</td> \n",
       "        <td id=\"T_abd8f9cc_3edb_11ea_b871_708bcdac036crow0_col7\" class=\"data row0 col7\" >-0.173333</td> \n",
       "        <td id=\"T_abd8f9cc_3edb_11ea_b871_708bcdac036crow0_col8\" class=\"data row0 col8\" >-0.0453171</td> \n",
       "    </tr>    <tr> \n",
       "        <th id=\"T_abd8f9cc_3edb_11ea_b871_708bcdac036clevel0_row1\" class=\"row_heading level0 row1\" >ledighed</th> \n",
       "        <td id=\"T_abd8f9cc_3edb_11ea_b871_708bcdac036crow1_col0\" class=\"data row1 col0\" >-0.114193</td> \n",
       "        <td id=\"T_abd8f9cc_3edb_11ea_b871_708bcdac036crow1_col1\" class=\"data row1 col1\" >1</td> \n",
       "        <td id=\"T_abd8f9cc_3edb_11ea_b871_708bcdac036crow1_col2\" class=\"data row1 col2\" >-0.203172</td> \n",
       "        <td id=\"T_abd8f9cc_3edb_11ea_b871_708bcdac036crow1_col3\" class=\"data row1 col3\" >-0.0971037</td> \n",
       "        <td id=\"T_abd8f9cc_3edb_11ea_b871_708bcdac036crow1_col4\" class=\"data row1 col4\" >-0.213886</td> \n",
       "        <td id=\"T_abd8f9cc_3edb_11ea_b871_708bcdac036crow1_col5\" class=\"data row1 col5\" >-0.384305</td> \n",
       "        <td id=\"T_abd8f9cc_3edb_11ea_b871_708bcdac036crow1_col6\" class=\"data row1 col6\" >0.0662817</td> \n",
       "        <td id=\"T_abd8f9cc_3edb_11ea_b871_708bcdac036crow1_col7\" class=\"data row1 col7\" >-0.137094</td> \n",
       "        <td id=\"T_abd8f9cc_3edb_11ea_b871_708bcdac036crow1_col8\" class=\"data row1 col8\" >-0.315755</td> \n",
       "    </tr>    <tr> \n",
       "        <th id=\"T_abd8f9cc_3edb_11ea_b871_708bcdac036clevel0_row2\" class=\"row_heading level0 row2\" >stress</th> \n",
       "        <td id=\"T_abd8f9cc_3edb_11ea_b871_708bcdac036crow2_col0\" class=\"data row2 col0\" >0.351384</td> \n",
       "        <td id=\"T_abd8f9cc_3edb_11ea_b871_708bcdac036crow2_col1\" class=\"data row2 col1\" >-0.203172</td> \n",
       "        <td id=\"T_abd8f9cc_3edb_11ea_b871_708bcdac036crow2_col2\" class=\"data row2 col2\" >1</td> \n",
       "        <td id=\"T_abd8f9cc_3edb_11ea_b871_708bcdac036crow2_col3\" class=\"data row2 col3\" >0.777615</td> \n",
       "        <td id=\"T_abd8f9cc_3edb_11ea_b871_708bcdac036crow2_col4\" class=\"data row2 col4\" >-0.218726</td> \n",
       "        <td id=\"T_abd8f9cc_3edb_11ea_b871_708bcdac036crow2_col5\" class=\"data row2 col5\" >-0.0965902</td> \n",
       "        <td id=\"T_abd8f9cc_3edb_11ea_b871_708bcdac036crow2_col6\" class=\"data row2 col6\" >-0.204638</td> \n",
       "        <td id=\"T_abd8f9cc_3edb_11ea_b871_708bcdac036crow2_col7\" class=\"data row2 col7\" >0.0385148</td> \n",
       "        <td id=\"T_abd8f9cc_3edb_11ea_b871_708bcdac036crow2_col8\" class=\"data row2 col8\" >-0.156202</td> \n",
       "    </tr>    <tr> \n",
       "        <th id=\"T_abd8f9cc_3edb_11ea_b871_708bcdac036clevel0_row3\" class=\"row_heading level0 row3\" >eksamensstress</th> \n",
       "        <td id=\"T_abd8f9cc_3edb_11ea_b871_708bcdac036crow3_col0\" class=\"data row3 col0\" >0.275258</td> \n",
       "        <td id=\"T_abd8f9cc_3edb_11ea_b871_708bcdac036crow3_col1\" class=\"data row3 col1\" >-0.0971037</td> \n",
       "        <td id=\"T_abd8f9cc_3edb_11ea_b871_708bcdac036crow3_col2\" class=\"data row3 col2\" >0.777615</td> \n",
       "        <td id=\"T_abd8f9cc_3edb_11ea_b871_708bcdac036crow3_col3\" class=\"data row3 col3\" >1</td> \n",
       "        <td id=\"T_abd8f9cc_3edb_11ea_b871_708bcdac036crow3_col4\" class=\"data row3 col4\" >-0.141241</td> \n",
       "        <td id=\"T_abd8f9cc_3edb_11ea_b871_708bcdac036crow3_col5\" class=\"data row3 col5\" >0.00463951</td> \n",
       "        <td id=\"T_abd8f9cc_3edb_11ea_b871_708bcdac036crow3_col6\" class=\"data row3 col6\" >-0.169286</td> \n",
       "        <td id=\"T_abd8f9cc_3edb_11ea_b871_708bcdac036crow3_col7\" class=\"data row3 col7\" >0.173803</td> \n",
       "        <td id=\"T_abd8f9cc_3edb_11ea_b871_708bcdac036crow3_col8\" class=\"data row3 col8\" >-0.0505138</td> \n",
       "    </tr>    <tr> \n",
       "        <th id=\"T_abd8f9cc_3edb_11ea_b871_708bcdac036clevel0_row4\" class=\"row_heading level0 row4\" >kvalitet</th> \n",
       "        <td id=\"T_abd8f9cc_3edb_11ea_b871_708bcdac036crow4_col0\" class=\"data row4 col0\" >-0.486787</td> \n",
       "        <td id=\"T_abd8f9cc_3edb_11ea_b871_708bcdac036crow4_col1\" class=\"data row4 col1\" >-0.213886</td> \n",
       "        <td id=\"T_abd8f9cc_3edb_11ea_b871_708bcdac036crow4_col2\" class=\"data row4 col2\" >-0.218726</td> \n",
       "        <td id=\"T_abd8f9cc_3edb_11ea_b871_708bcdac036crow4_col3\" class=\"data row4 col3\" >-0.141241</td> \n",
       "        <td id=\"T_abd8f9cc_3edb_11ea_b871_708bcdac036crow4_col4\" class=\"data row4 col4\" >1</td> \n",
       "        <td id=\"T_abd8f9cc_3edb_11ea_b871_708bcdac036crow4_col5\" class=\"data row4 col5\" >0.551215</td> \n",
       "        <td id=\"T_abd8f9cc_3edb_11ea_b871_708bcdac036crow4_col6\" class=\"data row4 col6\" >0.677587</td> \n",
       "        <td id=\"T_abd8f9cc_3edb_11ea_b871_708bcdac036crow4_col7\" class=\"data row4 col7\" >0.401041</td> \n",
       "        <td id=\"T_abd8f9cc_3edb_11ea_b871_708bcdac036crow4_col8\" class=\"data row4 col8\" >0.263258</td> \n",
       "    </tr>    <tr> \n",
       "        <th id=\"T_abd8f9cc_3edb_11ea_b871_708bcdac036clevel0_row5\" class=\"row_heading level0 row5\" >relevans</th> \n",
       "        <td id=\"T_abd8f9cc_3edb_11ea_b871_708bcdac036crow5_col0\" class=\"data row5 col0\" >-0.251887</td> \n",
       "        <td id=\"T_abd8f9cc_3edb_11ea_b871_708bcdac036crow5_col1\" class=\"data row5 col1\" >-0.384305</td> \n",
       "        <td id=\"T_abd8f9cc_3edb_11ea_b871_708bcdac036crow5_col2\" class=\"data row5 col2\" >-0.0965902</td> \n",
       "        <td id=\"T_abd8f9cc_3edb_11ea_b871_708bcdac036crow5_col3\" class=\"data row5 col3\" >0.00463951</td> \n",
       "        <td id=\"T_abd8f9cc_3edb_11ea_b871_708bcdac036crow5_col4\" class=\"data row5 col4\" >0.551215</td> \n",
       "        <td id=\"T_abd8f9cc_3edb_11ea_b871_708bcdac036crow5_col5\" class=\"data row5 col5\" >1</td> \n",
       "        <td id=\"T_abd8f9cc_3edb_11ea_b871_708bcdac036crow5_col6\" class=\"data row5 col6\" >0.31932</td> \n",
       "        <td id=\"T_abd8f9cc_3edb_11ea_b871_708bcdac036crow5_col7\" class=\"data row5 col7\" >0.277762</td> \n",
       "        <td id=\"T_abd8f9cc_3edb_11ea_b871_708bcdac036crow5_col8\" class=\"data row5 col8\" >0.358081</td> \n",
       "    </tr>    <tr> \n",
       "        <th id=\"T_abd8f9cc_3edb_11ea_b871_708bcdac036clevel0_row6\" class=\"row_heading level0 row6\" >faglighed</th> \n",
       "        <td id=\"T_abd8f9cc_3edb_11ea_b871_708bcdac036crow6_col0\" class=\"data row6 col0\" >-0.356977</td> \n",
       "        <td id=\"T_abd8f9cc_3edb_11ea_b871_708bcdac036crow6_col1\" class=\"data row6 col1\" >0.0662817</td> \n",
       "        <td id=\"T_abd8f9cc_3edb_11ea_b871_708bcdac036crow6_col2\" class=\"data row6 col2\" >-0.204638</td> \n",
       "        <td id=\"T_abd8f9cc_3edb_11ea_b871_708bcdac036crow6_col3\" class=\"data row6 col3\" >-0.169286</td> \n",
       "        <td id=\"T_abd8f9cc_3edb_11ea_b871_708bcdac036crow6_col4\" class=\"data row6 col4\" >0.677587</td> \n",
       "        <td id=\"T_abd8f9cc_3edb_11ea_b871_708bcdac036crow6_col5\" class=\"data row6 col5\" >0.31932</td> \n",
       "        <td id=\"T_abd8f9cc_3edb_11ea_b871_708bcdac036crow6_col6\" class=\"data row6 col6\" >1</td> \n",
       "        <td id=\"T_abd8f9cc_3edb_11ea_b871_708bcdac036crow6_col7\" class=\"data row6 col7\" >0.122947</td> \n",
       "        <td id=\"T_abd8f9cc_3edb_11ea_b871_708bcdac036crow6_col8\" class=\"data row6 col8\" >-0.0177385</td> \n",
       "    </tr>    <tr> \n",
       "        <th id=\"T_abd8f9cc_3edb_11ea_b871_708bcdac036clevel0_row7\" class=\"row_heading level0 row7\" >socialt</th> \n",
       "        <td id=\"T_abd8f9cc_3edb_11ea_b871_708bcdac036crow7_col0\" class=\"data row7 col0\" >-0.173333</td> \n",
       "        <td id=\"T_abd8f9cc_3edb_11ea_b871_708bcdac036crow7_col1\" class=\"data row7 col1\" >-0.137094</td> \n",
       "        <td id=\"T_abd8f9cc_3edb_11ea_b871_708bcdac036crow7_col2\" class=\"data row7 col2\" >0.0385148</td> \n",
       "        <td id=\"T_abd8f9cc_3edb_11ea_b871_708bcdac036crow7_col3\" class=\"data row7 col3\" >0.173803</td> \n",
       "        <td id=\"T_abd8f9cc_3edb_11ea_b871_708bcdac036crow7_col4\" class=\"data row7 col4\" >0.401041</td> \n",
       "        <td id=\"T_abd8f9cc_3edb_11ea_b871_708bcdac036crow7_col5\" class=\"data row7 col5\" >0.277762</td> \n",
       "        <td id=\"T_abd8f9cc_3edb_11ea_b871_708bcdac036crow7_col6\" class=\"data row7 col6\" >0.122947</td> \n",
       "        <td id=\"T_abd8f9cc_3edb_11ea_b871_708bcdac036crow7_col7\" class=\"data row7 col7\" >1</td> \n",
       "        <td id=\"T_abd8f9cc_3edb_11ea_b871_708bcdac036crow7_col8\" class=\"data row7 col8\" >0.330883</td> \n",
       "    </tr>    <tr> \n",
       "        <th id=\"T_abd8f9cc_3edb_11ea_b871_708bcdac036clevel0_row8\" class=\"row_heading level0 row8\" >tidsforbrug</th> \n",
       "        <td id=\"T_abd8f9cc_3edb_11ea_b871_708bcdac036crow8_col0\" class=\"data row8 col0\" >-0.0453171</td> \n",
       "        <td id=\"T_abd8f9cc_3edb_11ea_b871_708bcdac036crow8_col1\" class=\"data row8 col1\" >-0.315755</td> \n",
       "        <td id=\"T_abd8f9cc_3edb_11ea_b871_708bcdac036crow8_col2\" class=\"data row8 col2\" >-0.156202</td> \n",
       "        <td id=\"T_abd8f9cc_3edb_11ea_b871_708bcdac036crow8_col3\" class=\"data row8 col3\" >-0.0505138</td> \n",
       "        <td id=\"T_abd8f9cc_3edb_11ea_b871_708bcdac036crow8_col4\" class=\"data row8 col4\" >0.263258</td> \n",
       "        <td id=\"T_abd8f9cc_3edb_11ea_b871_708bcdac036crow8_col5\" class=\"data row8 col5\" >0.358081</td> \n",
       "        <td id=\"T_abd8f9cc_3edb_11ea_b871_708bcdac036crow8_col6\" class=\"data row8 col6\" >-0.0177385</td> \n",
       "        <td id=\"T_abd8f9cc_3edb_11ea_b871_708bcdac036crow8_col7\" class=\"data row8 col7\" >0.330883</td> \n",
       "        <td id=\"T_abd8f9cc_3edb_11ea_b871_708bcdac036crow8_col8\" class=\"data row8 col8\" >1</td> \n",
       "    </tr></tbody> \n",
       "</table> "
      ],
      "text/plain": [
       "<pandas.io.formats.style.Styler at 0x1f08b8fd9e8>"
      ]
     },
     "execution_count": 11,
     "metadata": {},
     "output_type": "execute_result"
    }
   ],
   "source": [
    "sort_by = ['stress_eksamen_likert']\n",
    "\n",
    "parameters = [\"Titel\", \"afbrud\", \"ledighed_nyudd\", \"stress_daglig_likert\",  \"stress_eksamen_likert\", \"kvalitet_likert\", \"relevans_overens_udd_job_likert\", \"undervisere_faglighed_likert\", \"socialtmotivation_likert\", \"tidsforbrug_p50\"] #  \"maanedloen_nyudd\",\n",
    "\n",
    "data_løn = data\n",
    "data_løn[\"l_diff\"] = data_løn[\"maanedloenp75_nyudd\"] - data_løn[\"maanedloenp25_nyudd\"]\n",
    "\n",
    "data_løn = data_løn.sort_values(by=sort_by)[parameters].dropna()#subset=[sort_by])\n",
    "column_dict = {\"Titel\": \"Titel\", \"ensom_likert\": \"ensom\", \"relevans_overens_udd_job_likert\": \"relevans\", \"afbrud\": \"frafald 1. år\", \"ledighed_nyudd\": \"ledighed\", \"stress_daglig_likert\": \"stress\", \"kvalitet_likert\": \"kvalitet\", \"undervisere_faglighed_likert\": \"faglighed\", \"maanedloen_nyudd\": \"månedsløn\", \"tidsforbrug_p50\": \"tidsforbrug\", \"stress_eksamen_likert\": \"eksamensstress\", \"socialtmotivation_likert\": \"socialt\"}\n",
    "data_løn = data_løn.rename(columns=column_dict)\n",
    "\n",
    "data_løn_means_removed = data_løn\n",
    "#for parameter in data_løn.columns.values[1:]:\n",
    "#    data_løn_means_removed[parameter] = data_løn_means_removed[parameter] - data_løn_means_removed[parameter].mean() \n",
    "\n",
    "smallest = data_løn[:10]\n",
    "largest = data_løn[-10:]\n",
    "print(sort_by, len(data_løn))\n",
    "print(tabulate([data_løn.mean(), data_løn.median(), data_løn.std()], headers=data_løn.mean().index))\n",
    "corr = data_løn.corr()\n",
    "corr.style.background_gradient(cmap='coolwarm')"
   ]
  },
  {
   "cell_type": "code",
   "execution_count": 12,
   "metadata": {
    "collapsed": false
   },
   "outputs": [
    {
     "data": {
      "text/html": [
       "<div>\n",
       "<style scoped>\n",
       "    .dataframe tbody tr th:only-of-type {\n",
       "        vertical-align: middle;\n",
       "    }\n",
       "\n",
       "    .dataframe tbody tr th {\n",
       "        vertical-align: top;\n",
       "    }\n",
       "\n",
       "    .dataframe thead th {\n",
       "        text-align: right;\n",
       "    }\n",
       "</style>\n",
       "<table border=\"1\" class=\"dataframe\">\n",
       "  <thead>\n",
       "    <tr style=\"text-align: right;\">\n",
       "      <th></th>\n",
       "      <th>Titel</th>\n",
       "      <th>frafald 1. år</th>\n",
       "      <th>ledighed</th>\n",
       "      <th>stress</th>\n",
       "      <th>eksamensstress</th>\n",
       "      <th>kvalitet</th>\n",
       "      <th>relevans</th>\n",
       "      <th>faglighed</th>\n",
       "      <th>socialt</th>\n",
       "      <th>tidsforbrug</th>\n",
       "    </tr>\n",
       "  </thead>\n",
       "  <tbody>\n",
       "    <tr>\n",
       "      <th>200</th>\n",
       "      <td>Bæredygtig energi</td>\n",
       "      <td>5.0</td>\n",
       "      <td>12.0</td>\n",
       "      <td>3.37</td>\n",
       "      <td>3.40</td>\n",
       "      <td>4.51</td>\n",
       "      <td>3.62</td>\n",
       "      <td>4.33</td>\n",
       "      <td>4.04</td>\n",
       "      <td>44.0</td>\n",
       "    </tr>\n",
       "    <tr>\n",
       "      <th>2449</th>\n",
       "      <td>Grafisk kommunikation</td>\n",
       "      <td>2.0</td>\n",
       "      <td>19.0</td>\n",
       "      <td>3.37</td>\n",
       "      <td>3.45</td>\n",
       "      <td>4.36</td>\n",
       "      <td>4.19</td>\n",
       "      <td>4.53</td>\n",
       "      <td>3.83</td>\n",
       "      <td>48.0</td>\n",
       "    </tr>\n",
       "    <tr>\n",
       "      <th>812</th>\n",
       "      <td>Visuel kommunikation</td>\n",
       "      <td>2.0</td>\n",
       "      <td>16.0</td>\n",
       "      <td>3.51</td>\n",
       "      <td>3.54</td>\n",
       "      <td>4.59</td>\n",
       "      <td>4.17</td>\n",
       "      <td>4.61</td>\n",
       "      <td>4.34</td>\n",
       "      <td>42.0</td>\n",
       "    </tr>\n",
       "    <tr>\n",
       "      <th>2526</th>\n",
       "      <td>Tv- og medietilrettelæggelse</td>\n",
       "      <td>4.0</td>\n",
       "      <td>14.0</td>\n",
       "      <td>3.67</td>\n",
       "      <td>3.86</td>\n",
       "      <td>4.13</td>\n",
       "      <td>3.53</td>\n",
       "      <td>4.24</td>\n",
       "      <td>4.14</td>\n",
       "      <td>37.0</td>\n",
       "    </tr>\n",
       "    <tr>\n",
       "      <th>386</th>\n",
       "      <td>Lærer fra Den frie Lærerskole</td>\n",
       "      <td>7.0</td>\n",
       "      <td>19.0</td>\n",
       "      <td>4.11</td>\n",
       "      <td>4.83</td>\n",
       "      <td>4.63</td>\n",
       "      <td>4.15</td>\n",
       "      <td>4.69</td>\n",
       "      <td>4.67</td>\n",
       "      <td>35.0</td>\n",
       "    </tr>\n",
       "  </tbody>\n",
       "</table>\n",
       "</div>"
      ],
      "text/plain": [
       "                              Titel  frafald 1. år  ledighed  stress  \\\n",
       "200   Bæredygtig energi              5.0            12.0      3.37     \n",
       "2449  Grafisk kommunikation          2.0            19.0      3.37     \n",
       "812   Visuel kommunikation           2.0            16.0      3.51     \n",
       "2526  Tv- og medietilrettelæggelse   4.0            14.0      3.67     \n",
       "386   Lærer fra Den frie Lærerskole  7.0            19.0      4.11     \n",
       "\n",
       "      eksamensstress  kvalitet  relevans  faglighed  socialt  tidsforbrug  \n",
       "200   3.40            4.51      3.62      4.33       4.04     44.0         \n",
       "2449  3.45            4.36      4.19      4.53       3.83     48.0         \n",
       "812   3.54            4.59      4.17      4.61       4.34     42.0         \n",
       "2526  3.86            4.13      3.53      4.24       4.14     37.0         \n",
       "386   4.83            4.63      4.15      4.69       4.67     35.0         "
      ]
     },
     "execution_count": 12,
     "metadata": {},
     "output_type": "execute_result"
    }
   ],
   "source": [
    "data_løn.loc[data_løn[\"stress\"] - data_løn[\"eksamensstress\"] < 0]"
   ]
  },
  {
   "cell_type": "code",
   "execution_count": 13,
   "metadata": {
    "collapsed": false,
    "scrolled": false
   },
   "outputs": [
    {
     "name": "stdout",
     "output_type": "stream",
     "text": [
      "  frafald 1. år    ledighed    stress    eksamensstress    kvalitet    relevans    faglighed    socialt    tidsforbrug\n",
      "---------------  ----------  --------  ----------------  ----------  ----------  -----------  ---------  -------------\n",
      "        5.1        12.2      3                 2.376       4.161          3.607     4.449      3.744           40.75\n",
      "        4.5         9.5      2.985             2.415       4.17           3.595     4.405      3.805           42.5\n",
      "        4.58136     8.77876  0.158465          0.114232    0.162785       0.301     0.177792   0.317497         7.2005\n"
     ]
    },
    {
     "data": {
      "text/html": [
       "<div>\n",
       "<style scoped>\n",
       "    .dataframe tbody tr th:only-of-type {\n",
       "        vertical-align: middle;\n",
       "    }\n",
       "\n",
       "    .dataframe tbody tr th {\n",
       "        vertical-align: top;\n",
       "    }\n",
       "\n",
       "    .dataframe thead th {\n",
       "        text-align: right;\n",
       "    }\n",
       "</style>\n",
       "<table border=\"1\" class=\"dataframe\">\n",
       "  <thead>\n",
       "    <tr style=\"text-align: right;\">\n",
       "      <th></th>\n",
       "      <th>Titel</th>\n",
       "      <th>frafald 1. år</th>\n",
       "      <th>ledighed</th>\n",
       "      <th>stress</th>\n",
       "      <th>eksamensstress</th>\n",
       "      <th>kvalitet</th>\n",
       "      <th>relevans</th>\n",
       "      <th>faglighed</th>\n",
       "      <th>socialt</th>\n",
       "      <th>tidsforbrug</th>\n",
       "    </tr>\n",
       "  </thead>\n",
       "  <tbody>\n",
       "    <tr>\n",
       "      <th>3181</th>\n",
       "      <td>Arkitekt</td>\n",
       "      <td>4.0</td>\n",
       "      <td>11.0</td>\n",
       "      <td>2.74</td>\n",
       "      <td>2.10</td>\n",
       "      <td>4.13</td>\n",
       "      <td>3.53</td>\n",
       "      <td>4.46</td>\n",
       "      <td>4.12</td>\n",
       "      <td>45.0</td>\n",
       "    </tr>\n",
       "    <tr>\n",
       "      <th>1614</th>\n",
       "      <td>Veterinærmedicin</td>\n",
       "      <td>1.0</td>\n",
       "      <td>6.0</td>\n",
       "      <td>2.89</td>\n",
       "      <td>2.26</td>\n",
       "      <td>4.43</td>\n",
       "      <td>3.66</td>\n",
       "      <td>4.74</td>\n",
       "      <td>4.03</td>\n",
       "      <td>52.0</td>\n",
       "    </tr>\n",
       "    <tr>\n",
       "      <th>2593</th>\n",
       "      <td>Designledelse</td>\n",
       "      <td>10.0</td>\n",
       "      <td>27.0</td>\n",
       "      <td>2.97</td>\n",
       "      <td>2.38</td>\n",
       "      <td>4.21</td>\n",
       "      <td>3.29</td>\n",
       "      <td>4.53</td>\n",
       "      <td>3.76</td>\n",
       "      <td>35.0</td>\n",
       "    </tr>\n",
       "    <tr>\n",
       "      <th>1804</th>\n",
       "      <td>Odontologi</td>\n",
       "      <td>0.0</td>\n",
       "      <td>3.0</td>\n",
       "      <td>2.84</td>\n",
       "      <td>2.38</td>\n",
       "      <td>4.35</td>\n",
       "      <td>4.17</td>\n",
       "      <td>4.40</td>\n",
       "      <td>4.13</td>\n",
       "      <td>47.0</td>\n",
       "    </tr>\n",
       "    <tr>\n",
       "      <th>1699</th>\n",
       "      <td>Jura</td>\n",
       "      <td>1.0</td>\n",
       "      <td>5.0</td>\n",
       "      <td>3.21</td>\n",
       "      <td>2.41</td>\n",
       "      <td>4.09</td>\n",
       "      <td>3.73</td>\n",
       "      <td>4.37</td>\n",
       "      <td>3.43</td>\n",
       "      <td>33.0</td>\n",
       "    </tr>\n",
       "    <tr>\n",
       "      <th>1777</th>\n",
       "      <td>Farmaci</td>\n",
       "      <td>1.0</td>\n",
       "      <td>8.0</td>\n",
       "      <td>3.04</td>\n",
       "      <td>2.42</td>\n",
       "      <td>4.15</td>\n",
       "      <td>3.81</td>\n",
       "      <td>4.41</td>\n",
       "      <td>3.85</td>\n",
       "      <td>45.0</td>\n",
       "    </tr>\n",
       "    <tr>\n",
       "      <th>1252</th>\n",
       "      <td>Lyd- og musikteknologi</td>\n",
       "      <td>13.0</td>\n",
       "      <td>13.0</td>\n",
       "      <td>3.00</td>\n",
       "      <td>2.43</td>\n",
       "      <td>4.20</td>\n",
       "      <td>3.25</td>\n",
       "      <td>4.20</td>\n",
       "      <td>3.27</td>\n",
       "      <td>40.0</td>\n",
       "    </tr>\n",
       "    <tr>\n",
       "      <th>3211</th>\n",
       "      <td>Farmaceutisk videnskab</td>\n",
       "      <td>5.0</td>\n",
       "      <td>4.0</td>\n",
       "      <td>3.10</td>\n",
       "      <td>2.45</td>\n",
       "      <td>3.85</td>\n",
       "      <td>3.90</td>\n",
       "      <td>4.25</td>\n",
       "      <td>3.60</td>\n",
       "      <td>45.5</td>\n",
       "    </tr>\n",
       "    <tr>\n",
       "      <th>1100</th>\n",
       "      <td>Tværkulturelle studier</td>\n",
       "      <td>6.0</td>\n",
       "      <td>23.0</td>\n",
       "      <td>2.96</td>\n",
       "      <td>2.45</td>\n",
       "      <td>4.19</td>\n",
       "      <td>3.40</td>\n",
       "      <td>4.73</td>\n",
       "      <td>3.90</td>\n",
       "      <td>35.0</td>\n",
       "    </tr>\n",
       "    <tr>\n",
       "      <th>898</th>\n",
       "      <td>Amerikanske studier</td>\n",
       "      <td>10.0</td>\n",
       "      <td>22.0</td>\n",
       "      <td>3.25</td>\n",
       "      <td>2.48</td>\n",
       "      <td>4.01</td>\n",
       "      <td>3.33</td>\n",
       "      <td>4.40</td>\n",
       "      <td>3.35</td>\n",
       "      <td>30.0</td>\n",
       "    </tr>\n",
       "  </tbody>\n",
       "</table>\n",
       "</div>"
      ],
      "text/plain": [
       "                       Titel  frafald 1. år  ledighed  stress  eksamensstress  \\\n",
       "3181  Arkitekt                4.0            11.0      2.74    2.10             \n",
       "1614  Veterinærmedicin        1.0            6.0       2.89    2.26             \n",
       "2593  Designledelse           10.0           27.0      2.97    2.38             \n",
       "1804  Odontologi              0.0            3.0       2.84    2.38             \n",
       "1699  Jura                    1.0            5.0       3.21    2.41             \n",
       "1777  Farmaci                 1.0            8.0       3.04    2.42             \n",
       "1252  Lyd- og musikteknologi  13.0           13.0      3.00    2.43             \n",
       "3211  Farmaceutisk videnskab  5.0            4.0       3.10    2.45             \n",
       "1100  Tværkulturelle studier  6.0            23.0      2.96    2.45             \n",
       "898   Amerikanske studier     10.0           22.0      3.25    2.48             \n",
       "\n",
       "      kvalitet  relevans  faglighed  socialt  tidsforbrug  \n",
       "3181  4.13      3.53      4.46       4.12     45.0         \n",
       "1614  4.43      3.66      4.74       4.03     52.0         \n",
       "2593  4.21      3.29      4.53       3.76     35.0         \n",
       "1804  4.35      4.17      4.40       4.13     47.0         \n",
       "1699  4.09      3.73      4.37       3.43     33.0         \n",
       "1777  4.15      3.81      4.41       3.85     45.0         \n",
       "1252  4.20      3.25      4.20       3.27     40.0         \n",
       "3211  3.85      3.90      4.25       3.60     45.5         \n",
       "1100  4.19      3.40      4.73       3.90     35.0         \n",
       "898   4.01      3.33      4.40       3.35     30.0         "
      ]
     },
     "execution_count": 13,
     "metadata": {},
     "output_type": "execute_result"
    }
   ],
   "source": [
    "print(tabulate([smallest.mean(), smallest.median(), smallest.std()], headers=smallest.mean().index))\n",
    "smallest"
   ]
  },
  {
   "cell_type": "code",
   "execution_count": 14,
   "metadata": {
    "collapsed": false
   },
   "outputs": [
    {
     "name": "stdout",
     "output_type": "stream",
     "text": [
      "  frafald 1. år    ledighed    stress    eksamensstress    kvalitet    relevans    faglighed    socialt    tidsforbrug\n",
      "---------------  ----------  --------  ----------------  ----------  ----------  -----------  ---------  -------------\n",
      "        11.3       10.2      3.918             3.84        4.094        3.614       4.4        4.051          37.45\n",
      "         6.5       10.5      3.97              3.73        4.08         3.555       4.35       3.97           37\n",
      "         8.2334     4.61399  0.173192          0.366818    0.322773     0.25782     0.210608   0.265265        2.16603\n"
     ]
    },
    {
     "data": {
      "text/html": [
       "<div>\n",
       "<style scoped>\n",
       "    .dataframe tbody tr th:only-of-type {\n",
       "        vertical-align: middle;\n",
       "    }\n",
       "\n",
       "    .dataframe tbody tr th {\n",
       "        vertical-align: top;\n",
       "    }\n",
       "\n",
       "    .dataframe thead th {\n",
       "        text-align: right;\n",
       "    }\n",
       "</style>\n",
       "<table border=\"1\" class=\"dataframe\">\n",
       "  <thead>\n",
       "    <tr style=\"text-align: right;\">\n",
       "      <th></th>\n",
       "      <th>Titel</th>\n",
       "      <th>frafald 1. år</th>\n",
       "      <th>ledighed</th>\n",
       "      <th>stress</th>\n",
       "      <th>eksamensstress</th>\n",
       "      <th>kvalitet</th>\n",
       "      <th>relevans</th>\n",
       "      <th>faglighed</th>\n",
       "      <th>socialt</th>\n",
       "      <th>tidsforbrug</th>\n",
       "    </tr>\n",
       "  </thead>\n",
       "  <tbody>\n",
       "    <tr>\n",
       "      <th>1172</th>\n",
       "      <td>Jordbrugsteknolog</td>\n",
       "      <td>17.0</td>\n",
       "      <td>10.0</td>\n",
       "      <td>3.84</td>\n",
       "      <td>3.62</td>\n",
       "      <td>4.08</td>\n",
       "      <td>3.65</td>\n",
       "      <td>4.43</td>\n",
       "      <td>3.96</td>\n",
       "      <td>38.0</td>\n",
       "    </tr>\n",
       "    <tr>\n",
       "      <th>1178</th>\n",
       "      <td>Journalist</td>\n",
       "      <td>6.0</td>\n",
       "      <td>11.0</td>\n",
       "      <td>3.63</td>\n",
       "      <td>3.62</td>\n",
       "      <td>4.08</td>\n",
       "      <td>3.58</td>\n",
       "      <td>4.22</td>\n",
       "      <td>4.22</td>\n",
       "      <td>37.0</td>\n",
       "    </tr>\n",
       "    <tr>\n",
       "      <th>1231</th>\n",
       "      <td>Geofysik og rumteknologi</td>\n",
       "      <td>4.0</td>\n",
       "      <td>11.0</td>\n",
       "      <td>3.85</td>\n",
       "      <td>3.62</td>\n",
       "      <td>4.56</td>\n",
       "      <td>3.93</td>\n",
       "      <td>4.76</td>\n",
       "      <td>4.18</td>\n",
       "      <td>41.0</td>\n",
       "    </tr>\n",
       "    <tr>\n",
       "      <th>23</th>\n",
       "      <td>Automationsteknolog</td>\n",
       "      <td>23.0</td>\n",
       "      <td>3.0</td>\n",
       "      <td>3.97</td>\n",
       "      <td>3.62</td>\n",
       "      <td>3.79</td>\n",
       "      <td>3.48</td>\n",
       "      <td>4.27</td>\n",
       "      <td>3.90</td>\n",
       "      <td>41.0</td>\n",
       "    </tr>\n",
       "    <tr>\n",
       "      <th>2391</th>\n",
       "      <td>Produktionsteknolog</td>\n",
       "      <td>18.0</td>\n",
       "      <td>10.0</td>\n",
       "      <td>3.99</td>\n",
       "      <td>3.72</td>\n",
       "      <td>3.87</td>\n",
       "      <td>3.36</td>\n",
       "      <td>4.24</td>\n",
       "      <td>3.84</td>\n",
       "      <td>38.0</td>\n",
       "    </tr>\n",
       "    <tr>\n",
       "      <th>2484</th>\n",
       "      <td>Kommunikation</td>\n",
       "      <td>6.0</td>\n",
       "      <td>8.0</td>\n",
       "      <td>3.97</td>\n",
       "      <td>3.74</td>\n",
       "      <td>4.22</td>\n",
       "      <td>3.69</td>\n",
       "      <td>4.43</td>\n",
       "      <td>3.82</td>\n",
       "      <td>35.0</td>\n",
       "    </tr>\n",
       "    <tr>\n",
       "      <th>1249</th>\n",
       "      <td>Landinspektørvidenskab</td>\n",
       "      <td>4.0</td>\n",
       "      <td>4.0</td>\n",
       "      <td>3.98</td>\n",
       "      <td>3.82</td>\n",
       "      <td>4.00</td>\n",
       "      <td>3.45</td>\n",
       "      <td>4.56</td>\n",
       "      <td>3.98</td>\n",
       "      <td>37.0</td>\n",
       "    </tr>\n",
       "    <tr>\n",
       "      <th>2526</th>\n",
       "      <td>Tv- og medietilrettelæggelse</td>\n",
       "      <td>4.0</td>\n",
       "      <td>14.0</td>\n",
       "      <td>3.67</td>\n",
       "      <td>3.86</td>\n",
       "      <td>4.13</td>\n",
       "      <td>3.53</td>\n",
       "      <td>4.24</td>\n",
       "      <td>4.14</td>\n",
       "      <td>37.0</td>\n",
       "    </tr>\n",
       "    <tr>\n",
       "      <th>28</th>\n",
       "      <td>Energiteknolog</td>\n",
       "      <td>24.0</td>\n",
       "      <td>12.0</td>\n",
       "      <td>4.17</td>\n",
       "      <td>3.95</td>\n",
       "      <td>3.58</td>\n",
       "      <td>3.32</td>\n",
       "      <td>4.16</td>\n",
       "      <td>3.80</td>\n",
       "      <td>35.5</td>\n",
       "    </tr>\n",
       "    <tr>\n",
       "      <th>386</th>\n",
       "      <td>Lærer fra Den frie Lærerskole</td>\n",
       "      <td>7.0</td>\n",
       "      <td>19.0</td>\n",
       "      <td>4.11</td>\n",
       "      <td>4.83</td>\n",
       "      <td>4.63</td>\n",
       "      <td>4.15</td>\n",
       "      <td>4.69</td>\n",
       "      <td>4.67</td>\n",
       "      <td>35.0</td>\n",
       "    </tr>\n",
       "  </tbody>\n",
       "</table>\n",
       "</div>"
      ],
      "text/plain": [
       "                              Titel  frafald 1. år  ledighed  stress  \\\n",
       "1172  Jordbrugsteknolog              17.0           10.0      3.84     \n",
       "1178  Journalist                     6.0            11.0      3.63     \n",
       "1231  Geofysik og rumteknologi       4.0            11.0      3.85     \n",
       "23    Automationsteknolog            23.0           3.0       3.97     \n",
       "2391  Produktionsteknolog            18.0           10.0      3.99     \n",
       "2484  Kommunikation                  6.0            8.0       3.97     \n",
       "1249  Landinspektørvidenskab         4.0            4.0       3.98     \n",
       "2526  Tv- og medietilrettelæggelse   4.0            14.0      3.67     \n",
       "28    Energiteknolog                 24.0           12.0      4.17     \n",
       "386   Lærer fra Den frie Lærerskole  7.0            19.0      4.11     \n",
       "\n",
       "      eksamensstress  kvalitet  relevans  faglighed  socialt  tidsforbrug  \n",
       "1172  3.62            4.08      3.65      4.43       3.96     38.0         \n",
       "1178  3.62            4.08      3.58      4.22       4.22     37.0         \n",
       "1231  3.62            4.56      3.93      4.76       4.18     41.0         \n",
       "23    3.62            3.79      3.48      4.27       3.90     41.0         \n",
       "2391  3.72            3.87      3.36      4.24       3.84     38.0         \n",
       "2484  3.74            4.22      3.69      4.43       3.82     35.0         \n",
       "1249  3.82            4.00      3.45      4.56       3.98     37.0         \n",
       "2526  3.86            4.13      3.53      4.24       4.14     37.0         \n",
       "28    3.95            3.58      3.32      4.16       3.80     35.5         \n",
       "386   4.83            4.63      4.15      4.69       4.67     35.0         "
      ]
     },
     "execution_count": 14,
     "metadata": {},
     "output_type": "execute_result"
    }
   ],
   "source": [
    "print(tabulate([largest.mean(), largest.median(), largest.std()], headers=largest.mean().index))\n",
    "largest"
   ]
  },
  {
   "cell_type": "code",
   "execution_count": 21,
   "metadata": {
    "collapsed": false,
    "scrolled": false
   },
   "outputs": [
    {
     "data": {
      "application/vnd.plotly.v1+json": {
       "config": {
        "plotlyServerURL": "https://plot.ly"
       },
       "data": [
        {
         "customdata": [
          [
           "Arkitekt"
          ],
          [
           "Veterinærmedicin"
          ],
          [
           "Designledelse"
          ],
          [
           "Odontologi"
          ],
          [
           "Jura"
          ],
          [
           "Farmaci"
          ],
          [
           "Lyd- og musikteknologi"
          ],
          [
           "Farmaceutisk videnskab"
          ],
          [
           "Tværkulturelle studier"
          ],
          [
           "Amerikanske studier"
          ],
          [
           "Engelsk"
          ],
          [
           "Medialogy"
          ],
          [
           "Medicin og teknologi"
          ],
          [
           "Humanbiologi"
          ],
          [
           "Molecular Biology"
          ],
          [
           "Musikvidenskab"
          ],
          [
           "Informationsvidenskab og kulturformidling"
          ],
          [
           "Human ernæring"
          ],
          [
           "Erhvervssprog og international virksomhedskommunikation"
          ],
          [
           "Industrielt design"
          ],
          [
           "Religionsvidenskab"
          ],
          [
           "Sundhedsteknologi"
          ],
          [
           "Radiograf"
          ],
          [
           "Bioteknologi"
          ],
          [
           "Biologi-bioteknologi"
          ],
          [
           "Landskabsarkitektur"
          ],
          [
           "Corporate Communication"
          ],
          [
           "Biokemi"
          ],
          [
           "Byggeri"
          ],
          [
           "Moderne kultur og kulturformidling"
          ],
          [
           "Sygeplejerske"
          ],
          [
           "Uddannelsesvidenskab"
          ],
          [
           "Filosofi"
          ],
          [
           "Bioinformatik"
          ],
          [
           "Digital design og interaktive teknologier"
          ],
          [
           "Astronomi"
          ],
          [
           "Miljøvidenskab"
          ],
          [
           "Global udvikling"
          ],
          [
           "Samfundsvidenskabelig jura"
          ],
          [
           "Fransk sprog, litteratur og kultur"
          ],
          [
           "Tekstildesign, -håndværk og formidling"
          ],
          [
           "Erhvervsøkonomi og virksomhedskommunikation"
          ],
          [
           "Bygningsdesign"
          ],
          [
           "Fødevareteknologi"
          ],
          [
           "Audiologi"
          ],
          [
           "Cultural Sociology"
          ],
          [
           "Mechatronics Engineering"
          ],
          [
           "Medicine with Industrial Specialisation"
          ],
          [
           "Antropologi"
          ],
          [
           "Biologi"
          ],
          [
           "Anvendt kemi"
          ],
          [
           "It-ledelse"
          ],
          [
           "Molekylær ernæring og fødevareteknologi"
          ],
          [
           "Film- og medievidenskab"
          ],
          [
           "Erhvervsøkonomi og psykologi"
          ],
          [
           "It, kommunikation og organisation"
          ],
          [
           "Datalogi"
          ],
          [
           "Fysik"
          ],
          [
           "Olie- og gasteknologi"
          ],
          [
           "Kultur, kommunikation og globalisering"
          ],
          [
           "Dansk"
          ],
          [
           "Erhvervsøkonomi - erhvervssprog, negot."
          ],
          [
           "Medicin"
          ],
          [
           "Webudvikling"
          ],
          [
           "Fysik og nanoteknologi"
          ],
          [
           "Agronomi"
          ],
          [
           "Pædagogisk filosofi"
          ],
          [
           "Pædagogisk psykologi"
          ],
          [
           "Husdyrvidenskab"
          ],
          [
           "Pædagogik"
          ],
          [
           "Socialt arbejde"
          ],
          [
           "Økonomi"
          ],
          [
           "Erhvervsøkonomi og erhvervsjura"
          ],
          [
           "It-design og applikationsudvikling"
          ],
          [
           "Matematik-økonomi"
          ],
          [
           "Historie"
          ],
          [
           "Bioanalytiker"
          ],
          [
           "Design og business"
          ],
          [
           "Forvaltning"
          ],
          [
           "Kemi og bioteknologi"
          ],
          [
           "Kultur og formidling"
          ],
          [
           "Socialrådgiver"
          ],
          [
           "Tysk"
          ],
          [
           "Litteraturvidenskab"
          ],
          [
           "Erhvervsøkonomi, cand.soc."
          ],
          [
           "Teologi"
          ],
          [
           "Geologi"
          ],
          [
           "Diplomingeniør - bygningsdesign"
          ],
          [
           "Tandplejer"
          ],
          [
           "It-didaktisk design"
          ],
          [
           "Bioinformatik og systembiologi"
          ],
          [
           "Jordbrugsøkonomi"
          ],
          [
           "Fysioterapeut"
          ],
          [
           "Samfundsfag"
          ],
          [
           "Statskundskab"
          ],
          [
           "Sociologi"
          ],
          [
           "Erhvervsøkonomi, cand.merc."
          ],
          [
           "Designer"
          ],
          [
           "Dramaturgi"
          ],
          [
           "Teknologibaseret forretningsudvikling"
          ],
          [
           "Mechanical Engineering"
          ],
          [
           "Softwaredesign"
          ],
          [
           "Agro-Environmental Management"
          ],
          [
           "Transport og logistik"
          ],
          [
           "Matematik"
          ],
          [
           "Sundhedsfremme og sundhedsstrategier"
          ],
          [
           "Kriminologi"
          ],
          [
           "Socialvidenskab"
          ],
          [
           "Ernæring og sundhed"
          ],
          [
           "Kemi (civilingeniør)"
          ],
          [
           "Diplomingeniør - softwareteknologi"
          ],
          [
           "Digital innovation og management"
          ],
          [
           "Kunsthistorie"
          ],
          [
           "Digital design"
          ],
          [
           "Psykologi"
          ],
          [
           "Sundhedsfaglig kandidat"
          ],
          [
           "Psykomotorisk terapeut"
          ],
          [
           "Medievidenskab"
          ],
          [
           "Ergoterapi"
          ],
          [
           "Erhvervsøkonomi og filosofi"
          ],
          [
           "Spansk sprog og kultur"
          ],
          [
           "Mellemøststudier"
          ],
          [
           "Molekylær medicin"
          ],
          [
           "Diplomingeniør - bygning"
          ],
          [
           "Humanistisk-samfundsvidenskabelig idrætsvidenskab"
          ],
          [
           "Informationsvidenskab"
          ],
          [
           "Software"
          ],
          [
           "Folkesundhedsvidenskab"
          ],
          [
           "Diplomingeniør - elektrisk energiteknologi"
          ],
          [
           "Audiologopædi"
          ],
          [
           "Pædagogisk sociologi"
          ],
          [
           "Nanoscience"
          ],
          [
           "Klinisk sygepleje"
          ],
          [
           "Sygepleje"
          ],
          [
           "Anvendt kulturanalyse"
          ],
          [
           "Fødevarevidenskab"
          ],
          [
           "Geografi"
          ],
          [
           "Optometrist"
          ],
          [
           "Bygningskonstruktør"
          ],
          [
           "Ergoterapeut"
          ],
          [
           "Pædagog"
          ],
          [
           "Arbejdslivsstudier"
          ],
          [
           "Fysioterapi"
          ],
          [
           "Have- og parkingeniør"
          ],
          [
           "Kommunikation"
          ],
          [
           "Klinisk ernæring"
          ],
          [
           "Tourism"
          ],
          [
           "Digitale medieteknologier"
          ],
          [
           "Interaktive digitale medier"
          ],
          [
           "International sikkerhed og folkeret"
          ],
          [
           "Design og innovation"
          ],
          [
           "Politisk kommunikation og ledelse"
          ],
          [
           "Lingvistik"
          ],
          [
           "Humanfysiologi"
          ],
          [
           "Laboratorie- og fødevareteknologi"
          ],
          [
           "Medicinalkemi"
          ],
          [
           "Journalistik"
          ],
          [
           "Spil"
          ],
          [
           "Offentlig administration"
          ],
          [
           "Æstetik og kultur"
          ],
          [
           "Softwareudvikling"
          ],
          [
           "IT Product Design"
          ],
          [
           "Kemi"
          ],
          [
           "Revisorkandidat, cand.merc.aud."
          ],
          [
           "Jordemoder"
          ],
          [
           "Oplevelsesøkonomi"
          ],
          [
           "Vision, Graphics and Interactive Systems"
          ],
          [
           "Kemisk og biokemisk teknologi"
          ],
          [
           "Energy Engineering"
          ],
          [
           "Diplomingeniør - maskinteknik"
          ],
          [
           "Industriel økonomi og teknologiledelse"
          ],
          [
           "Materiale- og procesteknologi"
          ],
          [
           "Miljøteknologi"
          ],
          [
           "Byggeteknologi"
          ],
          [
           "Geofysik"
          ],
          [
           "Digital konceptudvikling"
          ],
          [
           "Statistik"
          ],
          [
           "Webkommunikation"
          ],
          [
           "Informationsteknologi"
          ],
          [
           "Farmateknologi"
          ],
          [
           "Multimediedesigner"
          ],
          [
           "International handel og markedsføring"
          ],
          [
           "Business Administration and Information Systems"
          ],
          [
           "Maskinmester"
          ],
          [
           "Politik og administration"
          ],
          [
           "Bæredygtigt design"
          ],
          [
           "Virksomhedsledelse"
          ],
          [
           "Didaktik"
          ],
          [
           "Energiteknologi"
          ],
          [
           "Elektroteknologi"
          ],
          [
           "Lærer i folkeskolen"
          ],
          [
           "Mekanik"
          ],
          [
           "Diplomingeniør - elektronik"
          ],
          [
           "Læring og forandringsprocesser"
          ],
          [
           "International Hospitality Management"
          ],
          [
           "Anvendt filosofi"
          ],
          [
           "Diplomingeniør - eksport og teknologi"
          ],
          [
           "Jordbrug"
          ],
          [
           "Financial Controller"
          ],
          [
           "Pædagogisk antropologi"
          ],
          [
           "Europastudier"
          ],
          [
           "Administrationsøkonom"
          ],
          [
           "International Public Administration and Politics"
          ],
          [
           "Matematisk modellering og computing"
          ],
          [
           "Designteknolog"
          ],
          [
           "Laborant"
          ],
          [
           "Retorik"
          ],
          [
           "IT-teknolog"
          ],
          [
           "Konstruktion og mekanik"
          ],
          [
           "Water and Environment Engineering"
          ],
          [
           "Datamatiker"
          ],
          [
           "Elinstallatør"
          ],
          [
           "Finans"
          ],
          [
           "Markedsføringsøkonom"
          ],
          [
           "Bæredygtig energi"
          ],
          [
           "Procesteknolog"
          ],
          [
           "Lyd og akustisk teknologi"
          ],
          [
           "Serviceøkonom"
          ],
          [
           "Produktudvikling og teknisk integration"
          ],
          [
           "Medieproduktion og ledelse"
          ],
          [
           "It, læring og organisatorisk omstilling"
          ],
          [
           "Miljøteknolog"
          ],
          [
           "Innovation and Business"
          ],
          [
           "Idræt"
          ],
          [
           "Grafisk kommunikation"
          ],
          [
           "Økonomi og informationsteknologi"
          ],
          [
           "Veje og trafik"
          ],
          [
           "Ledelse og informatik i byggeriet"
          ],
          [
           "Logistikøkonom"
          ],
          [
           "Diakoni og socialpædagogik"
          ],
          [
           "Finansøkonom"
          ],
          [
           "Visuel kommunikation"
          ],
          [
           "Handelsøkonom"
          ],
          [
           "Multiplatform storytelling and production"
          ],
          [
           "Jordbrugsteknolog"
          ],
          [
           "Journalist"
          ],
          [
           "Geofysik og rumteknologi"
          ],
          [
           "Automationsteknolog"
          ],
          [
           "Produktionsteknolog"
          ],
          [
           "Kommunikation"
          ],
          [
           "Landinspektørvidenskab"
          ],
          [
           "Tv- og medietilrettelæggelse"
          ],
          [
           "Energiteknolog"
          ],
          [
           "Lærer fra Den frie Lærerskole"
          ]
         ],
         "hoverlabel": {
          "namelength": 0
         },
         "hovertemplate": "ledighed=%{x}<br>frafald 1. år=%{y}<br>Titel=%{customdata[0]}",
         "legendgroup": "",
         "marker": {
          "color": "#636efa",
          "symbol": "circle"
         },
         "mode": "markers",
         "name": "",
         "showlegend": false,
         "type": "scatter",
         "x": [
          11,
          6,
          27,
          3,
          5,
          8,
          13,
          4,
          23,
          22,
          22,
          24,
          4,
          6,
          17,
          16,
          19,
          24,
          18,
          21,
          24,
          1,
          3,
          12,
          14,
          13,
          12,
          18,
          1,
          25,
          1,
          15,
          30,
          5,
          12,
          13,
          10,
          10,
          5,
          23,
          21,
          9,
          14,
          10,
          8,
          12,
          7,
          17,
          23,
          23,
          12,
          12,
          14,
          19,
          7,
          6,
          3,
          6,
          10,
          27,
          16,
          14,
          1,
          13,
          5,
          11,
          17,
          12,
          12,
          14,
          10,
          2,
          6,
          15,
          3,
          26,
          5,
          16,
          11,
          11,
          36,
          6,
          16,
          27,
          7,
          18,
          17,
          4,
          8,
          12,
          8,
          7,
          6,
          14,
          6,
          17,
          7,
          27,
          24,
          7,
          6,
          3,
          18,
          2,
          3,
          20,
          18,
          28,
          11,
          18,
          5,
          6,
          31,
          24,
          10,
          7,
          20,
          20,
          5,
          19,
          22,
          22,
          14,
          4,
          10,
          13,
          3,
          11,
          3,
          2,
          13,
          14,
          1,
          3,
          23,
          8,
          13,
          1,
          7,
          10,
          8,
          12,
          5,
          14,
          22,
          10,
          19,
          5,
          37,
          20,
          6,
          12,
          14,
          12,
          13,
          17,
          12,
          12,
          12,
          31,
          7,
          19,
          12,
          2,
          2,
          28,
          4,
          6,
          5,
          5,
          4,
          6,
          11,
          4,
          18,
          20,
          2,
          16,
          0,
          7,
          15,
          12,
          6,
          3,
          18,
          16,
          16,
          13,
          22,
          4,
          6,
          1,
          5,
          19,
          13,
          30,
          12,
          16,
          10,
          17,
          26,
          19,
          10,
          2,
          12,
          7,
          18,
          11,
          2,
          2,
          10,
          2,
          4,
          8,
          12,
          13,
          2,
          9,
          15,
          14,
          16,
          22,
          7,
          15,
          19,
          4,
          1,
          6,
          7,
          7,
          6,
          16,
          8,
          21,
          10,
          11,
          11,
          3,
          10,
          8,
          4,
          14,
          12,
          19
         ],
         "xaxis": "x",
         "y": [
          4,
          1,
          10,
          0,
          1,
          1,
          13,
          5,
          6,
          10,
          5,
          11,
          3,
          3,
          6,
          6,
          15,
          7,
          9,
          9,
          10,
          3,
          20,
          4,
          2,
          2,
          8,
          6,
          7,
          11,
          13,
          13,
          8,
          9,
          5,
          13,
          8,
          6,
          12,
          8,
          10,
          3,
          5,
          2,
          2,
          13,
          3,
          2,
          7,
          2,
          5,
          12,
          5,
          5,
          3,
          5,
          8,
          8,
          6,
          7,
          4,
          6,
          1,
          21,
          5,
          2,
          16,
          8,
          4,
          12,
          15,
          6,
          4,
          17,
          5,
          5,
          18,
          6,
          12,
          8,
          8,
          14,
          4,
          8,
          16,
          3,
          4,
          29,
          10,
          10,
          5,
          4,
          13,
          5,
          4,
          6,
          5,
          6,
          6,
          11,
          5,
          11,
          8,
          10,
          6,
          4,
          6,
          11,
          18,
          3,
          17,
          3,
          8,
          6,
          2,
          8,
          13,
          5,
          13,
          10,
          7,
          10,
          3,
          18,
          4,
          8,
          7,
          5,
          23,
          5,
          16,
          7,
          10,
          26,
          5,
          5,
          14,
          23,
          18,
          14,
          10,
          11,
          5,
          9,
          8,
          10,
          9,
          8,
          8,
          6,
          3,
          4,
          10,
          8,
          19,
          7,
          7,
          7,
          25,
          3,
          14,
          13,
          5,
          11,
          9,
          6,
          2,
          5,
          5,
          17,
          3,
          11,
          5,
          6,
          3,
          11,
          4,
          8,
          7,
          8,
          18,
          11,
          4,
          13,
          12,
          9,
          14,
          12,
          4,
          5,
          15,
          16,
          30,
          9,
          11,
          15,
          27,
          16,
          24,
          13,
          9,
          21,
          14,
          6,
          9,
          17,
          8,
          29,
          7,
          2,
          22,
          14,
          19,
          16,
          5,
          16,
          4,
          21,
          17,
          3,
          9,
          18,
          2,
          5,
          2,
          24,
          3,
          17,
          23,
          8,
          21,
          2,
          24,
          2,
          17,
          6,
          4,
          23,
          18,
          6,
          4,
          4,
          24,
          7
         ],
         "yaxis": "y"
        },
        {
         "alignmentgroup": "True",
         "bingroup": "x",
         "hoverlabel": {
          "namelength": 0
         },
         "hovertemplate": "ledighed=%{x}<br>count=%{y}",
         "legendgroup": "",
         "marker": {
          "color": "#636efa"
         },
         "name": "",
         "offsetgroup": "",
         "opacity": 0.5,
         "showlegend": false,
         "type": "histogram",
         "x": [
          11,
          6,
          27,
          3,
          5,
          8,
          13,
          4,
          23,
          22,
          22,
          24,
          4,
          6,
          17,
          16,
          19,
          24,
          18,
          21,
          24,
          1,
          3,
          12,
          14,
          13,
          12,
          18,
          1,
          25,
          1,
          15,
          30,
          5,
          12,
          13,
          10,
          10,
          5,
          23,
          21,
          9,
          14,
          10,
          8,
          12,
          7,
          17,
          23,
          23,
          12,
          12,
          14,
          19,
          7,
          6,
          3,
          6,
          10,
          27,
          16,
          14,
          1,
          13,
          5,
          11,
          17,
          12,
          12,
          14,
          10,
          2,
          6,
          15,
          3,
          26,
          5,
          16,
          11,
          11,
          36,
          6,
          16,
          27,
          7,
          18,
          17,
          4,
          8,
          12,
          8,
          7,
          6,
          14,
          6,
          17,
          7,
          27,
          24,
          7,
          6,
          3,
          18,
          2,
          3,
          20,
          18,
          28,
          11,
          18,
          5,
          6,
          31,
          24,
          10,
          7,
          20,
          20,
          5,
          19,
          22,
          22,
          14,
          4,
          10,
          13,
          3,
          11,
          3,
          2,
          13,
          14,
          1,
          3,
          23,
          8,
          13,
          1,
          7,
          10,
          8,
          12,
          5,
          14,
          22,
          10,
          19,
          5,
          37,
          20,
          6,
          12,
          14,
          12,
          13,
          17,
          12,
          12,
          12,
          31,
          7,
          19,
          12,
          2,
          2,
          28,
          4,
          6,
          5,
          5,
          4,
          6,
          11,
          4,
          18,
          20,
          2,
          16,
          0,
          7,
          15,
          12,
          6,
          3,
          18,
          16,
          16,
          13,
          22,
          4,
          6,
          1,
          5,
          19,
          13,
          30,
          12,
          16,
          10,
          17,
          26,
          19,
          10,
          2,
          12,
          7,
          18,
          11,
          2,
          2,
          10,
          2,
          4,
          8,
          12,
          13,
          2,
          9,
          15,
          14,
          16,
          22,
          7,
          15,
          19,
          4,
          1,
          6,
          7,
          7,
          6,
          16,
          8,
          21,
          10,
          11,
          11,
          3,
          10,
          8,
          4,
          14,
          12,
          19
         ],
         "xaxis": "x3",
         "yaxis": "y3"
        },
        {
         "alignmentgroup": "True",
         "bingroup": "y",
         "hoverlabel": {
          "namelength": 0
         },
         "hovertemplate": "frafald 1. år=%{y}<br>count=%{x}",
         "legendgroup": "",
         "marker": {
          "color": "#636efa"
         },
         "name": "",
         "offsetgroup": "",
         "opacity": 0.5,
         "showlegend": false,
         "type": "histogram",
         "xaxis": "x2",
         "y": [
          4,
          1,
          10,
          0,
          1,
          1,
          13,
          5,
          6,
          10,
          5,
          11,
          3,
          3,
          6,
          6,
          15,
          7,
          9,
          9,
          10,
          3,
          20,
          4,
          2,
          2,
          8,
          6,
          7,
          11,
          13,
          13,
          8,
          9,
          5,
          13,
          8,
          6,
          12,
          8,
          10,
          3,
          5,
          2,
          2,
          13,
          3,
          2,
          7,
          2,
          5,
          12,
          5,
          5,
          3,
          5,
          8,
          8,
          6,
          7,
          4,
          6,
          1,
          21,
          5,
          2,
          16,
          8,
          4,
          12,
          15,
          6,
          4,
          17,
          5,
          5,
          18,
          6,
          12,
          8,
          8,
          14,
          4,
          8,
          16,
          3,
          4,
          29,
          10,
          10,
          5,
          4,
          13,
          5,
          4,
          6,
          5,
          6,
          6,
          11,
          5,
          11,
          8,
          10,
          6,
          4,
          6,
          11,
          18,
          3,
          17,
          3,
          8,
          6,
          2,
          8,
          13,
          5,
          13,
          10,
          7,
          10,
          3,
          18,
          4,
          8,
          7,
          5,
          23,
          5,
          16,
          7,
          10,
          26,
          5,
          5,
          14,
          23,
          18,
          14,
          10,
          11,
          5,
          9,
          8,
          10,
          9,
          8,
          8,
          6,
          3,
          4,
          10,
          8,
          19,
          7,
          7,
          7,
          25,
          3,
          14,
          13,
          5,
          11,
          9,
          6,
          2,
          5,
          5,
          17,
          3,
          11,
          5,
          6,
          3,
          11,
          4,
          8,
          7,
          8,
          18,
          11,
          4,
          13,
          12,
          9,
          14,
          12,
          4,
          5,
          15,
          16,
          30,
          9,
          11,
          15,
          27,
          16,
          24,
          13,
          9,
          21,
          14,
          6,
          9,
          17,
          8,
          29,
          7,
          2,
          22,
          14,
          19,
          16,
          5,
          16,
          4,
          21,
          17,
          3,
          9,
          18,
          2,
          5,
          2,
          24,
          3,
          17,
          23,
          8,
          21,
          2,
          24,
          2,
          17,
          6,
          4,
          23,
          18,
          6,
          4,
          4,
          24,
          7
         ],
         "yaxis": "y2"
        },
        {
         "hoverlabel": {
          "namelength": 0
         },
         "hovertemplate": "<b>LOWESS trendline</b><br><br>ledighed=%{x}<br>frafald 1. år=%{y} <b>(trend)</b>",
         "legendgroup": "",
         "marker": {
          "color": "#636efa",
          "symbol": "circle"
         },
         "mode": "lines",
         "name": "",
         "showlegend": false,
         "type": "scatter",
         "x": [
          0,
          1,
          1,
          1,
          1,
          1,
          1,
          1,
          1,
          2,
          2,
          2,
          2,
          2,
          2,
          2,
          2,
          2,
          2,
          2,
          3,
          3,
          3,
          3,
          3,
          3,
          3,
          3,
          3,
          3,
          3,
          4,
          4,
          4,
          4,
          4,
          4,
          4,
          4,
          4,
          4,
          4,
          5,
          5,
          5,
          5,
          5,
          5,
          5,
          5,
          5,
          5,
          5,
          5,
          6,
          6,
          6,
          6,
          6,
          6,
          6,
          6,
          6,
          6,
          6,
          6,
          6,
          6,
          6,
          6,
          6,
          7,
          7,
          7,
          7,
          7,
          7,
          7,
          7,
          7,
          7,
          7,
          7,
          7,
          7,
          8,
          8,
          8,
          8,
          8,
          8,
          8,
          8,
          8,
          9,
          9,
          10,
          10,
          10,
          10,
          10,
          10,
          10,
          10,
          10,
          10,
          10,
          10,
          10,
          10,
          11,
          11,
          11,
          11,
          11,
          11,
          11,
          11,
          11,
          11,
          12,
          12,
          12,
          12,
          12,
          12,
          12,
          12,
          12,
          12,
          12,
          12,
          12,
          12,
          12,
          12,
          12,
          12,
          12,
          12,
          12,
          13,
          13,
          13,
          13,
          13,
          13,
          13,
          13,
          13,
          13,
          13,
          14,
          14,
          14,
          14,
          14,
          14,
          14,
          14,
          14,
          14,
          14,
          14,
          15,
          15,
          15,
          15,
          15,
          16,
          16,
          16,
          16,
          16,
          16,
          16,
          16,
          16,
          16,
          17,
          17,
          17,
          17,
          17,
          17,
          17,
          18,
          18,
          18,
          18,
          18,
          18,
          18,
          18,
          18,
          19,
          19,
          19,
          19,
          19,
          19,
          19,
          19,
          19,
          20,
          20,
          20,
          20,
          20,
          21,
          21,
          21,
          22,
          22,
          22,
          22,
          22,
          22,
          22,
          23,
          23,
          23,
          23,
          23,
          24,
          24,
          24,
          24,
          24,
          25,
          26,
          26,
          27,
          27,
          27,
          27,
          28,
          28,
          30,
          30,
          31,
          31,
          36,
          37
         ],
         "xaxis": "x",
         "y": [
          8.072017673890905,
          8.173248562429356,
          8.173248562429356,
          8.173248562429356,
          8.173248562429356,
          8.173248562429356,
          8.173248562429356,
          8.173248562429356,
          8.173248562429356,
          8.27146971391794,
          8.27146971391794,
          8.27146971391794,
          8.27146971391794,
          8.27146971391794,
          8.27146971391794,
          8.27146971391794,
          8.27146971391794,
          8.27146971391794,
          8.27146971391794,
          8.27146971391794,
          8.36734089154099,
          8.36734089154099,
          8.36734089154099,
          8.36734089154099,
          8.36734089154099,
          8.36734089154099,
          8.36734089154099,
          8.36734089154099,
          8.36734089154099,
          8.36734089154099,
          8.36734089154099,
          8.465157024269356,
          8.465157024269356,
          8.465157024269356,
          8.465157024269356,
          8.465157024269356,
          8.465157024269356,
          8.465157024269356,
          8.465157024269356,
          8.465157024269356,
          8.465157024269356,
          8.465157024269356,
          8.565129053951184,
          8.565129053951184,
          8.565129053951184,
          8.565129053951184,
          8.565129053951184,
          8.565129053951184,
          8.565129053951184,
          8.565129053951184,
          8.565129053951184,
          8.565129053951184,
          8.565129053951184,
          8.565129053951184,
          8.66551492767096,
          8.66551492767096,
          8.66551492767096,
          8.66551492767096,
          8.66551492767096,
          8.66551492767096,
          8.66551492767096,
          8.66551492767096,
          8.66551492767096,
          8.66551492767096,
          8.66551492767096,
          8.66551492767096,
          8.66551492767096,
          8.66551492767096,
          8.66551492767096,
          8.66551492767096,
          8.66551492767096,
          8.752915405664536,
          8.752915405664536,
          8.752915405664536,
          8.752915405664536,
          8.752915405664536,
          8.752915405664536,
          8.752915405664536,
          8.752915405664536,
          8.752915405664536,
          8.752915405664536,
          8.752915405664536,
          8.752915405664536,
          8.752915405664536,
          8.752915405664536,
          8.827441101818849,
          8.827441101818849,
          8.827441101818849,
          8.827441101818849,
          8.827441101818849,
          8.827441101818849,
          8.827441101818849,
          8.827441101818849,
          8.827441101818849,
          8.869404905304807,
          8.869404905304807,
          8.928115989742347,
          8.928115989742347,
          8.928115989742347,
          8.928115989742347,
          8.928115989742347,
          8.928115989742347,
          8.928115989742347,
          8.928115989742347,
          8.928115989742347,
          8.928115989742347,
          8.928115989742347,
          8.928115989742347,
          8.928115989742347,
          8.928115989742347,
          8.974133966180462,
          8.974133966180462,
          8.974133966180462,
          8.974133966180462,
          8.974133966180462,
          8.974133966180462,
          8.974133966180462,
          8.974133966180462,
          8.974133966180462,
          8.974133966180462,
          8.962694934882224,
          8.962694934882224,
          8.962694934882224,
          8.962694934882224,
          8.962694934882224,
          8.962694934882224,
          8.962694934882224,
          8.962694934882224,
          8.962694934882224,
          8.962694934882224,
          8.962694934882224,
          8.962694934882224,
          8.962694934882224,
          8.962694934882224,
          8.962694934882224,
          8.962694934882224,
          8.962694934882224,
          8.962694934882224,
          8.962694934882224,
          8.962694934882224,
          8.962694934882224,
          8.785262423006884,
          8.785262423006884,
          8.785262423006884,
          8.785262423006884,
          8.785262423006884,
          8.785262423006884,
          8.785262423006884,
          8.785262423006884,
          8.785262423006884,
          8.785262423006884,
          8.785262423006884,
          8.662864745630552,
          8.662864745630552,
          8.662864745630552,
          8.662864745630552,
          8.662864745630552,
          8.662864745630552,
          8.662864745630552,
          8.662864745630552,
          8.662864745630552,
          8.662864745630552,
          8.662864745630552,
          8.662864745630552,
          8.526457012760355,
          8.526457012760355,
          8.526457012760355,
          8.526457012760355,
          8.526457012760355,
          8.389354939045779,
          8.389354939045779,
          8.389354939045779,
          8.389354939045779,
          8.389354939045779,
          8.389354939045779,
          8.389354939045779,
          8.389354939045779,
          8.389354939045779,
          8.389354939045779,
          8.251028288415181,
          8.251028288415181,
          8.251028288415181,
          8.251028288415181,
          8.251028288415181,
          8.251028288415181,
          8.251028288415181,
          8.134227797997658,
          8.134227797997658,
          8.134227797997658,
          8.134227797997658,
          8.134227797997658,
          8.134227797997658,
          8.134227797997658,
          8.134227797997658,
          8.134227797997658,
          8.04527562448169,
          8.04527562448169,
          8.04527562448169,
          8.04527562448169,
          8.04527562448169,
          8.04527562448169,
          8.04527562448169,
          8.04527562448169,
          8.04527562448169,
          7.990819689520985,
          7.990819689520985,
          7.990819689520985,
          7.990819689520985,
          7.990819689520985,
          7.946677830642327,
          7.946677830642327,
          7.946677830642327,
          7.899103954756493,
          7.899103954756493,
          7.899103954756493,
          7.899103954756493,
          7.899103954756493,
          7.899103954756493,
          7.899103954756493,
          7.853441903006673,
          7.853441903006673,
          7.853441903006673,
          7.853441903006673,
          7.853441903006673,
          7.814923770899218,
          7.814923770899218,
          7.814923770899218,
          7.814923770899218,
          7.814923770899218,
          7.780942882674263,
          7.749316838239173,
          7.749316838239173,
          7.71919455325271,
          7.71919455325271,
          7.71919455325271,
          7.71919455325271,
          7.690639485428038,
          7.690639485428038,
          7.639492138474155,
          7.639492138474155,
          7.617212898401288,
          7.617212898401288,
          7.529849587118614,
          7.516778067630586
         ],
         "yaxis": "y"
        }
       ],
       "layout": {
        "barmode": "overlay",
        "legend": {
         "tracegroupgap": 0
        },
        "shapes": [
         {
          "fillcolor": "LightSkyBlue",
          "layer": "below",
          "line": {
           "width": 0
          },
          "opacity": 0.5,
          "type": "rect",
          "x0": 11.115261697226948,
          "x1": 13.024082565068134,
          "xref": "x",
          "y0": 0,
          "y1": 30,
          "yref": "y"
         },
         {
          "fillcolor": "LightSkyBlue",
          "layer": "below",
          "line": {
           "width": 0
          },
          "opacity": 0.5,
          "type": "rect",
          "x0": 0,
          "x1": 37,
          "xref": "x",
          "y0": 8.581381007349307,
          "y1": 10.164520631994954,
          "yref": "y"
         }
        ],
        "template": {
         "data": {
          "bar": [
           {
            "error_x": {
             "color": "#2a3f5f"
            },
            "error_y": {
             "color": "#2a3f5f"
            },
            "marker": {
             "line": {
              "color": "#E5ECF6",
              "width": 0.5
             }
            },
            "type": "bar"
           }
          ],
          "barpolar": [
           {
            "marker": {
             "line": {
              "color": "#E5ECF6",
              "width": 0.5
             }
            },
            "type": "barpolar"
           }
          ],
          "carpet": [
           {
            "aaxis": {
             "endlinecolor": "#2a3f5f",
             "gridcolor": "white",
             "linecolor": "white",
             "minorgridcolor": "white",
             "startlinecolor": "#2a3f5f"
            },
            "baxis": {
             "endlinecolor": "#2a3f5f",
             "gridcolor": "white",
             "linecolor": "white",
             "minorgridcolor": "white",
             "startlinecolor": "#2a3f5f"
            },
            "type": "carpet"
           }
          ],
          "choropleth": [
           {
            "colorbar": {
             "outlinewidth": 0,
             "ticks": ""
            },
            "type": "choropleth"
           }
          ],
          "contour": [
           {
            "colorbar": {
             "outlinewidth": 0,
             "ticks": ""
            },
            "colorscale": [
             [
              0,
              "#0d0887"
             ],
             [
              0.1111111111111111,
              "#46039f"
             ],
             [
              0.2222222222222222,
              "#7201a8"
             ],
             [
              0.3333333333333333,
              "#9c179e"
             ],
             [
              0.4444444444444444,
              "#bd3786"
             ],
             [
              0.5555555555555556,
              "#d8576b"
             ],
             [
              0.6666666666666666,
              "#ed7953"
             ],
             [
              0.7777777777777778,
              "#fb9f3a"
             ],
             [
              0.8888888888888888,
              "#fdca26"
             ],
             [
              1,
              "#f0f921"
             ]
            ],
            "type": "contour"
           }
          ],
          "contourcarpet": [
           {
            "colorbar": {
             "outlinewidth": 0,
             "ticks": ""
            },
            "type": "contourcarpet"
           }
          ],
          "heatmap": [
           {
            "colorbar": {
             "outlinewidth": 0,
             "ticks": ""
            },
            "colorscale": [
             [
              0,
              "#0d0887"
             ],
             [
              0.1111111111111111,
              "#46039f"
             ],
             [
              0.2222222222222222,
              "#7201a8"
             ],
             [
              0.3333333333333333,
              "#9c179e"
             ],
             [
              0.4444444444444444,
              "#bd3786"
             ],
             [
              0.5555555555555556,
              "#d8576b"
             ],
             [
              0.6666666666666666,
              "#ed7953"
             ],
             [
              0.7777777777777778,
              "#fb9f3a"
             ],
             [
              0.8888888888888888,
              "#fdca26"
             ],
             [
              1,
              "#f0f921"
             ]
            ],
            "type": "heatmap"
           }
          ],
          "heatmapgl": [
           {
            "colorbar": {
             "outlinewidth": 0,
             "ticks": ""
            },
            "colorscale": [
             [
              0,
              "#0d0887"
             ],
             [
              0.1111111111111111,
              "#46039f"
             ],
             [
              0.2222222222222222,
              "#7201a8"
             ],
             [
              0.3333333333333333,
              "#9c179e"
             ],
             [
              0.4444444444444444,
              "#bd3786"
             ],
             [
              0.5555555555555556,
              "#d8576b"
             ],
             [
              0.6666666666666666,
              "#ed7953"
             ],
             [
              0.7777777777777778,
              "#fb9f3a"
             ],
             [
              0.8888888888888888,
              "#fdca26"
             ],
             [
              1,
              "#f0f921"
             ]
            ],
            "type": "heatmapgl"
           }
          ],
          "histogram": [
           {
            "marker": {
             "colorbar": {
              "outlinewidth": 0,
              "ticks": ""
             }
            },
            "type": "histogram"
           }
          ],
          "histogram2d": [
           {
            "colorbar": {
             "outlinewidth": 0,
             "ticks": ""
            },
            "colorscale": [
             [
              0,
              "#0d0887"
             ],
             [
              0.1111111111111111,
              "#46039f"
             ],
             [
              0.2222222222222222,
              "#7201a8"
             ],
             [
              0.3333333333333333,
              "#9c179e"
             ],
             [
              0.4444444444444444,
              "#bd3786"
             ],
             [
              0.5555555555555556,
              "#d8576b"
             ],
             [
              0.6666666666666666,
              "#ed7953"
             ],
             [
              0.7777777777777778,
              "#fb9f3a"
             ],
             [
              0.8888888888888888,
              "#fdca26"
             ],
             [
              1,
              "#f0f921"
             ]
            ],
            "type": "histogram2d"
           }
          ],
          "histogram2dcontour": [
           {
            "colorbar": {
             "outlinewidth": 0,
             "ticks": ""
            },
            "colorscale": [
             [
              0,
              "#0d0887"
             ],
             [
              0.1111111111111111,
              "#46039f"
             ],
             [
              0.2222222222222222,
              "#7201a8"
             ],
             [
              0.3333333333333333,
              "#9c179e"
             ],
             [
              0.4444444444444444,
              "#bd3786"
             ],
             [
              0.5555555555555556,
              "#d8576b"
             ],
             [
              0.6666666666666666,
              "#ed7953"
             ],
             [
              0.7777777777777778,
              "#fb9f3a"
             ],
             [
              0.8888888888888888,
              "#fdca26"
             ],
             [
              1,
              "#f0f921"
             ]
            ],
            "type": "histogram2dcontour"
           }
          ],
          "mesh3d": [
           {
            "colorbar": {
             "outlinewidth": 0,
             "ticks": ""
            },
            "type": "mesh3d"
           }
          ],
          "parcoords": [
           {
            "line": {
             "colorbar": {
              "outlinewidth": 0,
              "ticks": ""
             }
            },
            "type": "parcoords"
           }
          ],
          "pie": [
           {
            "automargin": true,
            "type": "pie"
           }
          ],
          "scatter": [
           {
            "marker": {
             "colorbar": {
              "outlinewidth": 0,
              "ticks": ""
             }
            },
            "type": "scatter"
           }
          ],
          "scatter3d": [
           {
            "line": {
             "colorbar": {
              "outlinewidth": 0,
              "ticks": ""
             }
            },
            "marker": {
             "colorbar": {
              "outlinewidth": 0,
              "ticks": ""
             }
            },
            "type": "scatter3d"
           }
          ],
          "scattercarpet": [
           {
            "marker": {
             "colorbar": {
              "outlinewidth": 0,
              "ticks": ""
             }
            },
            "type": "scattercarpet"
           }
          ],
          "scattergeo": [
           {
            "marker": {
             "colorbar": {
              "outlinewidth": 0,
              "ticks": ""
             }
            },
            "type": "scattergeo"
           }
          ],
          "scattergl": [
           {
            "marker": {
             "colorbar": {
              "outlinewidth": 0,
              "ticks": ""
             }
            },
            "type": "scattergl"
           }
          ],
          "scattermapbox": [
           {
            "marker": {
             "colorbar": {
              "outlinewidth": 0,
              "ticks": ""
             }
            },
            "type": "scattermapbox"
           }
          ],
          "scatterpolar": [
           {
            "marker": {
             "colorbar": {
              "outlinewidth": 0,
              "ticks": ""
             }
            },
            "type": "scatterpolar"
           }
          ],
          "scatterpolargl": [
           {
            "marker": {
             "colorbar": {
              "outlinewidth": 0,
              "ticks": ""
             }
            },
            "type": "scatterpolargl"
           }
          ],
          "scatterternary": [
           {
            "marker": {
             "colorbar": {
              "outlinewidth": 0,
              "ticks": ""
             }
            },
            "type": "scatterternary"
           }
          ],
          "surface": [
           {
            "colorbar": {
             "outlinewidth": 0,
             "ticks": ""
            },
            "colorscale": [
             [
              0,
              "#0d0887"
             ],
             [
              0.1111111111111111,
              "#46039f"
             ],
             [
              0.2222222222222222,
              "#7201a8"
             ],
             [
              0.3333333333333333,
              "#9c179e"
             ],
             [
              0.4444444444444444,
              "#bd3786"
             ],
             [
              0.5555555555555556,
              "#d8576b"
             ],
             [
              0.6666666666666666,
              "#ed7953"
             ],
             [
              0.7777777777777778,
              "#fb9f3a"
             ],
             [
              0.8888888888888888,
              "#fdca26"
             ],
             [
              1,
              "#f0f921"
             ]
            ],
            "type": "surface"
           }
          ],
          "table": [
           {
            "cells": {
             "fill": {
              "color": "#EBF0F8"
             },
             "line": {
              "color": "white"
             }
            },
            "header": {
             "fill": {
              "color": "#C8D4E3"
             },
             "line": {
              "color": "white"
             }
            },
            "type": "table"
           }
          ]
         },
         "layout": {
          "annotationdefaults": {
           "arrowcolor": "#2a3f5f",
           "arrowhead": 0,
           "arrowwidth": 1
          },
          "coloraxis": {
           "colorbar": {
            "outlinewidth": 0,
            "ticks": ""
           }
          },
          "colorscale": {
           "diverging": [
            [
             0,
             "#8e0152"
            ],
            [
             0.1,
             "#c51b7d"
            ],
            [
             0.2,
             "#de77ae"
            ],
            [
             0.3,
             "#f1b6da"
            ],
            [
             0.4,
             "#fde0ef"
            ],
            [
             0.5,
             "#f7f7f7"
            ],
            [
             0.6,
             "#e6f5d0"
            ],
            [
             0.7,
             "#b8e186"
            ],
            [
             0.8,
             "#7fbc41"
            ],
            [
             0.9,
             "#4d9221"
            ],
            [
             1,
             "#276419"
            ]
           ],
           "sequential": [
            [
             0,
             "#0d0887"
            ],
            [
             0.1111111111111111,
             "#46039f"
            ],
            [
             0.2222222222222222,
             "#7201a8"
            ],
            [
             0.3333333333333333,
             "#9c179e"
            ],
            [
             0.4444444444444444,
             "#bd3786"
            ],
            [
             0.5555555555555556,
             "#d8576b"
            ],
            [
             0.6666666666666666,
             "#ed7953"
            ],
            [
             0.7777777777777778,
             "#fb9f3a"
            ],
            [
             0.8888888888888888,
             "#fdca26"
            ],
            [
             1,
             "#f0f921"
            ]
           ],
           "sequentialminus": [
            [
             0,
             "#0d0887"
            ],
            [
             0.1111111111111111,
             "#46039f"
            ],
            [
             0.2222222222222222,
             "#7201a8"
            ],
            [
             0.3333333333333333,
             "#9c179e"
            ],
            [
             0.4444444444444444,
             "#bd3786"
            ],
            [
             0.5555555555555556,
             "#d8576b"
            ],
            [
             0.6666666666666666,
             "#ed7953"
            ],
            [
             0.7777777777777778,
             "#fb9f3a"
            ],
            [
             0.8888888888888888,
             "#fdca26"
            ],
            [
             1,
             "#f0f921"
            ]
           ]
          },
          "colorway": [
           "#636efa",
           "#EF553B",
           "#00cc96",
           "#ab63fa",
           "#FFA15A",
           "#19d3f3",
           "#FF6692",
           "#B6E880",
           "#FF97FF",
           "#FECB52"
          ],
          "font": {
           "color": "#2a3f5f"
          },
          "geo": {
           "bgcolor": "white",
           "lakecolor": "white",
           "landcolor": "#E5ECF6",
           "showlakes": true,
           "showland": true,
           "subunitcolor": "white"
          },
          "hoverlabel": {
           "align": "left"
          },
          "hovermode": "closest",
          "mapbox": {
           "style": "light"
          },
          "paper_bgcolor": "white",
          "plot_bgcolor": "#E5ECF6",
          "polar": {
           "angularaxis": {
            "gridcolor": "white",
            "linecolor": "white",
            "ticks": ""
           },
           "bgcolor": "#E5ECF6",
           "radialaxis": {
            "gridcolor": "white",
            "linecolor": "white",
            "ticks": ""
           }
          },
          "scene": {
           "xaxis": {
            "backgroundcolor": "#E5ECF6",
            "gridcolor": "white",
            "gridwidth": 2,
            "linecolor": "white",
            "showbackground": true,
            "ticks": "",
            "zerolinecolor": "white"
           },
           "yaxis": {
            "backgroundcolor": "#E5ECF6",
            "gridcolor": "white",
            "gridwidth": 2,
            "linecolor": "white",
            "showbackground": true,
            "ticks": "",
            "zerolinecolor": "white"
           },
           "zaxis": {
            "backgroundcolor": "#E5ECF6",
            "gridcolor": "white",
            "gridwidth": 2,
            "linecolor": "white",
            "showbackground": true,
            "ticks": "",
            "zerolinecolor": "white"
           }
          },
          "shapedefaults": {
           "line": {
            "color": "#2a3f5f"
           }
          },
          "ternary": {
           "aaxis": {
            "gridcolor": "white",
            "linecolor": "white",
            "ticks": ""
           },
           "baxis": {
            "gridcolor": "white",
            "linecolor": "white",
            "ticks": ""
           },
           "bgcolor": "#E5ECF6",
           "caxis": {
            "gridcolor": "white",
            "linecolor": "white",
            "ticks": ""
           }
          },
          "title": {
           "x": 0.05
          },
          "xaxis": {
           "automargin": true,
           "gridcolor": "white",
           "linecolor": "white",
           "ticks": "",
           "title": {
            "standoff": 15
           },
           "zerolinecolor": "white",
           "zerolinewidth": 2
          },
          "yaxis": {
           "automargin": true,
           "gridcolor": "white",
           "linecolor": "white",
           "ticks": "",
           "title": {
            "standoff": 15
           },
           "zerolinecolor": "white",
           "zerolinewidth": 2
          }
         }
        },
        "title": {
         "text": "ledighed vs. frafald 1. år"
        },
        "xaxis": {
         "anchor": "y",
         "domain": [
          0,
          0.7363
         ],
         "title": {
          "text": "ledighed"
         }
        },
        "xaxis2": {
         "anchor": "y2",
         "domain": [
          0.7413,
          1
         ],
         "matches": "x2",
         "showgrid": true,
         "showline": false,
         "showticklabels": false,
         "ticks": ""
        },
        "xaxis3": {
         "anchor": "y3",
         "domain": [
          0,
          0.7363
         ],
         "matches": "x",
         "showgrid": true,
         "showticklabels": false
        },
        "xaxis4": {
         "anchor": "y4",
         "domain": [
          0.7413,
          1
         ],
         "matches": "x2",
         "showgrid": true,
         "showline": false,
         "showticklabels": false,
         "ticks": ""
        },
        "yaxis": {
         "anchor": "x",
         "domain": [
          0,
          0.7326
         ],
         "title": {
          "text": "frafald 1. år"
         }
        },
        "yaxis2": {
         "anchor": "x2",
         "domain": [
          0,
          0.7326
         ],
         "matches": "y",
         "showgrid": true,
         "showticklabels": false
        },
        "yaxis3": {
         "anchor": "x3",
         "domain": [
          0.7426,
          1
         ],
         "matches": "y3",
         "showgrid": true,
         "showline": false,
         "showticklabels": false,
         "ticks": ""
        },
        "yaxis4": {
         "anchor": "x4",
         "domain": [
          0.7426,
          1
         ],
         "matches": "y3",
         "showgrid": true,
         "showline": false,
         "showticklabels": false,
         "ticks": ""
        }
       }
      },
      "text/html": [
       "<div>\n",
       "        \n",
       "        \n",
       "            <div id=\"627f9050-bf5c-4703-9c07-4b27bc7e7ef2\" class=\"plotly-graph-div\" style=\"height:525px; width:100%;\"></div>\n",
       "            <script type=\"text/javascript\">\n",
       "                require([\"plotly\"], function(Plotly) {\n",
       "                    window.PLOTLYENV=window.PLOTLYENV || {};\n",
       "                    \n",
       "                if (document.getElementById(\"627f9050-bf5c-4703-9c07-4b27bc7e7ef2\")) {\n",
       "                    Plotly.newPlot(\n",
       "                        '627f9050-bf5c-4703-9c07-4b27bc7e7ef2',\n",
       "                        [{\"customdata\": [[\"Arkitekt\"], [\"Veterin\\u00e6rmedicin\"], [\"Designledelse\"], [\"Odontologi\"], [\"Jura\"], [\"Farmaci\"], [\"Lyd- og musikteknologi\"], [\"Farmaceutisk videnskab\"], [\"Tv\\u00e6rkulturelle studier\"], [\"Amerikanske studier\"], [\"Engelsk\"], [\"Medialogy\"], [\"Medicin og teknologi\"], [\"Humanbiologi\"], [\"Molecular Biology\"], [\"Musikvidenskab\"], [\"Informationsvidenskab og kulturformidling\"], [\"Human ern\\u00e6ring\"], [\"Erhvervssprog og international virksomhedskommunikation\"], [\"Industrielt design\"], [\"Religionsvidenskab\"], [\"Sundhedsteknologi\"], [\"Radiograf\"], [\"Bioteknologi\"], [\"Biologi-bioteknologi\"], [\"Landskabsarkitektur\"], [\"Corporate Communication\"], [\"Biokemi\"], [\"Byggeri\"], [\"Moderne kultur og kulturformidling\"], [\"Sygeplejerske\"], [\"Uddannelsesvidenskab\"], [\"Filosofi\"], [\"Bioinformatik\"], [\"Digital design og interaktive teknologier\"], [\"Astronomi\"], [\"Milj\\u00f8videnskab\"], [\"Global udvikling\"], [\"Samfundsvidenskabelig jura\"], [\"Fransk sprog, litteratur og kultur\"], [\"Tekstildesign, -h\\u00e5ndv\\u00e6rk og formidling\"], [\"Erhvervs\\u00f8konomi og virksomhedskommunikation\"], [\"Bygningsdesign\"], [\"F\\u00f8devareteknologi\"], [\"Audiologi\"], [\"Cultural Sociology\"], [\"Mechatronics Engineering\"], [\"Medicine with Industrial Specialisation\"], [\"Antropologi\"], [\"Biologi\"], [\"Anvendt kemi\"], [\"It-ledelse\"], [\"Molekyl\\u00e6r ern\\u00e6ring og f\\u00f8devareteknologi\"], [\"Film- og medievidenskab\"], [\"Erhvervs\\u00f8konomi og psykologi\"], [\"It, kommunikation og organisation\"], [\"Datalogi\"], [\"Fysik\"], [\"Olie- og gasteknologi\"], [\"Kultur, kommunikation og globalisering\"], [\"Dansk\"], [\"Erhvervs\\u00f8konomi - erhvervssprog, negot.\"], [\"Medicin\"], [\"Webudvikling\"], [\"Fysik og nanoteknologi\"], [\"Agronomi\"], [\"P\\u00e6dagogisk filosofi\"], [\"P\\u00e6dagogisk psykologi\"], [\"Husdyrvidenskab\"], [\"P\\u00e6dagogik\"], [\"Socialt arbejde\"], [\"\\u00d8konomi\"], [\"Erhvervs\\u00f8konomi og erhvervsjura\"], [\"It-design og applikationsudvikling\"], [\"Matematik-\\u00f8konomi\"], [\"Historie\"], [\"Bioanalytiker\"], [\"Design og business\"], [\"Forvaltning\"], [\"Kemi og bioteknologi\"], [\"Kultur og formidling\"], [\"Socialr\\u00e5dgiver\"], [\"Tysk\"], [\"Litteraturvidenskab\"], [\"Erhvervs\\u00f8konomi, cand.soc.\"], [\"Teologi\"], [\"Geologi\"], [\"Diplomingeni\\u00f8r - bygningsdesign\"], [\"Tandplejer\"], [\"It-didaktisk design\"], [\"Bioinformatik og systembiologi\"], [\"Jordbrugs\\u00f8konomi\"], [\"Fysioterapeut\"], [\"Samfundsfag\"], [\"Statskundskab\"], [\"Sociologi\"], [\"Erhvervs\\u00f8konomi, cand.merc.\"], [\"Designer\"], [\"Dramaturgi\"], [\"Teknologibaseret forretningsudvikling\"], [\"Mechanical Engineering\"], [\"Softwaredesign\"], [\"Agro-Environmental Management\"], [\"Transport og logistik\"], [\"Matematik\"], [\"Sundhedsfremme og sundhedsstrategier\"], [\"Kriminologi\"], [\"Socialvidenskab\"], [\"Ern\\u00e6ring og sundhed\"], [\"Kemi (civilingeni\\u00f8r)\"], [\"Diplomingeni\\u00f8r - softwareteknologi\"], [\"Digital innovation og management\"], [\"Kunsthistorie\"], [\"Digital design\"], [\"Psykologi\"], [\"Sundhedsfaglig kandidat\"], [\"Psykomotorisk terapeut\"], [\"Medievidenskab\"], [\"Ergoterapi\"], [\"Erhvervs\\u00f8konomi og filosofi\"], [\"Spansk sprog og kultur\"], [\"Mellem\\u00f8ststudier\"], [\"Molekyl\\u00e6r medicin\"], [\"Diplomingeni\\u00f8r - bygning\"], [\"Humanistisk-samfundsvidenskabelig idr\\u00e6tsvidenskab\"], [\"Informationsvidenskab\"], [\"Software\"], [\"Folkesundhedsvidenskab\"], [\"Diplomingeni\\u00f8r - elektrisk energiteknologi\"], [\"Audiologop\\u00e6di\"], [\"P\\u00e6dagogisk sociologi\"], [\"Nanoscience\"], [\"Klinisk sygepleje\"], [\"Sygepleje\"], [\"Anvendt kulturanalyse\"], [\"F\\u00f8devarevidenskab\"], [\"Geografi\"], [\"Optometrist\"], [\"Bygningskonstrukt\\u00f8r\"], [\"Ergoterapeut\"], [\"P\\u00e6dagog\"], [\"Arbejdslivsstudier\"], [\"Fysioterapi\"], [\"Have- og parkingeni\\u00f8r\"], [\"Kommunikation\"], [\"Klinisk ern\\u00e6ring\"], [\"Tourism\"], [\"Digitale medieteknologier\"], [\"Interaktive digitale medier\"], [\"International sikkerhed og folkeret\"], [\"Design og innovation\"], [\"Politisk kommunikation og ledelse\"], [\"Lingvistik\"], [\"Humanfysiologi\"], [\"Laboratorie- og f\\u00f8devareteknologi\"], [\"Medicinalkemi\"], [\"Journalistik\"], [\"Spil\"], [\"Offentlig administration\"], [\"\\u00c6stetik og kultur\"], [\"Softwareudvikling\"], [\"IT Product Design\"], [\"Kemi\"], [\"Revisorkandidat, cand.merc.aud.\"], [\"Jordemoder\"], [\"Oplevelses\\u00f8konomi\"], [\"Vision, Graphics and Interactive Systems\"], [\"Kemisk og biokemisk teknologi\"], [\"Energy Engineering\"], [\"Diplomingeni\\u00f8r - maskinteknik\"], [\"Industriel \\u00f8konomi og teknologiledelse\"], [\"Materiale- og procesteknologi\"], [\"Milj\\u00f8teknologi\"], [\"Byggeteknologi\"], [\"Geofysik\"], [\"Digital konceptudvikling\"], [\"Statistik\"], [\"Webkommunikation\"], [\"Informationsteknologi\"], [\"Farmateknologi\"], [\"Multimediedesigner\"], [\"International handel og markedsf\\u00f8ring\"], [\"Business Administration and Information Systems\"], [\"Maskinmester\"], [\"Politik og administration\"], [\"B\\u00e6redygtigt design\"], [\"Virksomhedsledelse\"], [\"Didaktik\"], [\"Energiteknologi\"], [\"Elektroteknologi\"], [\"L\\u00e6rer i folkeskolen\"], [\"Mekanik\"], [\"Diplomingeni\\u00f8r - elektronik\"], [\"L\\u00e6ring og forandringsprocesser\"], [\"International Hospitality Management\"], [\"Anvendt filosofi\"], [\"Diplomingeni\\u00f8r - eksport og teknologi\"], [\"Jordbrug\"], [\"Financial Controller\"], [\"P\\u00e6dagogisk antropologi\"], [\"Europastudier\"], [\"Administrations\\u00f8konom\"], [\"International Public Administration and Politics\"], [\"Matematisk modellering og computing\"], [\"Designteknolog\"], [\"Laborant\"], [\"Retorik\"], [\"IT-teknolog\"], [\"Konstruktion og mekanik\"], [\"Water and Environment Engineering\"], [\"Datamatiker\"], [\"Elinstallat\\u00f8r\"], [\"Finans\"], [\"Markedsf\\u00f8rings\\u00f8konom\"], [\"B\\u00e6redygtig energi\"], [\"Procesteknolog\"], [\"Lyd og akustisk teknologi\"], [\"Service\\u00f8konom\"], [\"Produktudvikling og teknisk integration\"], [\"Medieproduktion og ledelse\"], [\"It, l\\u00e6ring og organisatorisk omstilling\"], [\"Milj\\u00f8teknolog\"], [\"Innovation and Business\"], [\"Idr\\u00e6t\"], [\"Grafisk kommunikation\"], [\"\\u00d8konomi og informationsteknologi\"], [\"Veje og trafik\"], [\"Ledelse og informatik i byggeriet\"], [\"Logistik\\u00f8konom\"], [\"Diakoni og socialp\\u00e6dagogik\"], [\"Finans\\u00f8konom\"], [\"Visuel kommunikation\"], [\"Handels\\u00f8konom\"], [\"Multiplatform storytelling and production\"], [\"Jordbrugsteknolog\"], [\"Journalist\"], [\"Geofysik og rumteknologi\"], [\"Automationsteknolog\"], [\"Produktionsteknolog\"], [\"Kommunikation\"], [\"Landinspekt\\u00f8rvidenskab\"], [\"Tv- og medietilrettel\\u00e6ggelse\"], [\"Energiteknolog\"], [\"L\\u00e6rer fra Den frie L\\u00e6rerskole\"]], \"hoverlabel\": {\"namelength\": 0}, \"hovertemplate\": \"ledighed=%{x}<br>frafald 1. \\u00e5r=%{y}<br>Titel=%{customdata[0]}\", \"legendgroup\": \"\", \"marker\": {\"color\": \"#636efa\", \"symbol\": \"circle\"}, \"mode\": \"markers\", \"name\": \"\", \"showlegend\": false, \"type\": \"scatter\", \"x\": [11.0, 6.0, 27.0, 3.0, 5.0, 8.0, 13.0, 4.0, 23.0, 22.0, 22.0, 24.0, 4.0, 6.0, 17.0, 16.0, 19.0, 24.0, 18.0, 21.0, 24.0, 1.0, 3.0, 12.0, 14.0, 13.0, 12.0, 18.0, 1.0, 25.0, 1.0, 15.0, 30.0, 5.0, 12.0, 13.0, 10.0, 10.0, 5.0, 23.0, 21.0, 9.0, 14.0, 10.0, 8.0, 12.0, 7.0, 17.0, 23.0, 23.0, 12.0, 12.0, 14.0, 19.0, 7.0, 6.0, 3.0, 6.0, 10.0, 27.0, 16.0, 14.0, 1.0, 13.0, 5.0, 11.0, 17.0, 12.0, 12.0, 14.0, 10.0, 2.0, 6.0, 15.0, 3.0, 26.0, 5.0, 16.0, 11.0, 11.0, 36.0, 6.0, 16.0, 27.0, 7.0, 18.0, 17.0, 4.0, 8.0, 12.0, 8.0, 7.0, 6.0, 14.0, 6.0, 17.0, 7.0, 27.0, 24.0, 7.0, 6.0, 3.0, 18.0, 2.0, 3.0, 20.0, 18.0, 28.0, 11.0, 18.0, 5.0, 6.0, 31.0, 24.0, 10.0, 7.0, 20.0, 20.0, 5.0, 19.0, 22.0, 22.0, 14.0, 4.0, 10.0, 13.0, 3.0, 11.0, 3.0, 2.0, 13.0, 14.0, 1.0, 3.0, 23.0, 8.0, 13.0, 1.0, 7.0, 10.0, 8.0, 12.0, 5.0, 14.0, 22.0, 10.0, 19.0, 5.0, 37.0, 20.0, 6.0, 12.0, 14.0, 12.0, 13.0, 17.0, 12.0, 12.0, 12.0, 31.0, 7.0, 19.0, 12.0, 2.0, 2.0, 28.0, 4.0, 6.0, 5.0, 5.0, 4.0, 6.0, 11.0, 4.0, 18.0, 20.0, 2.0, 16.0, 0.0, 7.0, 15.0, 12.0, 6.0, 3.0, 18.0, 16.0, 16.0, 13.0, 22.0, 4.0, 6.0, 1.0, 5.0, 19.0, 13.0, 30.0, 12.0, 16.0, 10.0, 17.0, 26.0, 19.0, 10.0, 2.0, 12.0, 7.0, 18.0, 11.0, 2.0, 2.0, 10.0, 2.0, 4.0, 8.0, 12.0, 13.0, 2.0, 9.0, 15.0, 14.0, 16.0, 22.0, 7.0, 15.0, 19.0, 4.0, 1.0, 6.0, 7.0, 7.0, 6.0, 16.0, 8.0, 21.0, 10.0, 11.0, 11.0, 3.0, 10.0, 8.0, 4.0, 14.0, 12.0, 19.0], \"xaxis\": \"x\", \"y\": [4.0, 1.0, 10.0, 0.0, 1.0, 1.0, 13.0, 5.0, 6.0, 10.0, 5.0, 11.0, 3.0, 3.0, 6.0, 6.0, 15.0, 7.0, 9.0, 9.0, 10.0, 3.0, 20.0, 4.0, 2.0, 2.0, 8.0, 6.0, 7.0, 11.0, 13.0, 13.0, 8.0, 9.0, 5.0, 13.0, 8.0, 6.0, 12.0, 8.0, 10.0, 3.0, 5.0, 2.0, 2.0, 13.0, 3.0, 2.0, 7.0, 2.0, 5.0, 12.0, 5.0, 5.0, 3.0, 5.0, 8.0, 8.0, 6.0, 7.0, 4.0, 6.0, 1.0, 21.0, 5.0, 2.0, 16.0, 8.0, 4.0, 12.0, 15.0, 6.0, 4.0, 17.0, 5.0, 5.0, 18.0, 6.0, 12.0, 8.0, 8.0, 14.0, 4.0, 8.0, 16.0, 3.0, 4.0, 29.0, 10.0, 10.0, 5.0, 4.0, 13.0, 5.0, 4.0, 6.0, 5.0, 6.0, 6.0, 11.0, 5.0, 11.0, 8.0, 10.0, 6.0, 4.0, 6.0, 11.0, 18.0, 3.0, 17.0, 3.0, 8.0, 6.0, 2.0, 8.0, 13.0, 5.0, 13.0, 10.0, 7.0, 10.0, 3.0, 18.0, 4.0, 8.0, 7.0, 5.0, 23.0, 5.0, 16.0, 7.0, 10.0, 26.0, 5.0, 5.0, 14.0, 23.0, 18.0, 14.0, 10.0, 11.0, 5.0, 9.0, 8.0, 10.0, 9.0, 8.0, 8.0, 6.0, 3.0, 4.0, 10.0, 8.0, 19.0, 7.0, 7.0, 7.0, 25.0, 3.0, 14.0, 13.0, 5.0, 11.0, 9.0, 6.0, 2.0, 5.0, 5.0, 17.0, 3.0, 11.0, 5.0, 6.0, 3.0, 11.0, 4.0, 8.0, 7.0, 8.0, 18.0, 11.0, 4.0, 13.0, 12.0, 9.0, 14.0, 12.0, 4.0, 5.0, 15.0, 16.0, 30.0, 9.0, 11.0, 15.0, 27.0, 16.0, 24.0, 13.0, 9.0, 21.0, 14.0, 6.0, 9.0, 17.0, 8.0, 29.0, 7.0, 2.0, 22.0, 14.0, 19.0, 16.0, 5.0, 16.0, 4.0, 21.0, 17.0, 3.0, 9.0, 18.0, 2.0, 5.0, 2.0, 24.0, 3.0, 17.0, 23.0, 8.0, 21.0, 2.0, 24.0, 2.0, 17.0, 6.0, 4.0, 23.0, 18.0, 6.0, 4.0, 4.0, 24.0, 7.0], \"yaxis\": \"y\"}, {\"alignmentgroup\": \"True\", \"bingroup\": \"x\", \"hoverlabel\": {\"namelength\": 0}, \"hovertemplate\": \"ledighed=%{x}<br>count=%{y}\", \"legendgroup\": \"\", \"marker\": {\"color\": \"#636efa\"}, \"name\": \"\", \"offsetgroup\": \"\", \"opacity\": 0.5, \"showlegend\": false, \"type\": \"histogram\", \"x\": [11.0, 6.0, 27.0, 3.0, 5.0, 8.0, 13.0, 4.0, 23.0, 22.0, 22.0, 24.0, 4.0, 6.0, 17.0, 16.0, 19.0, 24.0, 18.0, 21.0, 24.0, 1.0, 3.0, 12.0, 14.0, 13.0, 12.0, 18.0, 1.0, 25.0, 1.0, 15.0, 30.0, 5.0, 12.0, 13.0, 10.0, 10.0, 5.0, 23.0, 21.0, 9.0, 14.0, 10.0, 8.0, 12.0, 7.0, 17.0, 23.0, 23.0, 12.0, 12.0, 14.0, 19.0, 7.0, 6.0, 3.0, 6.0, 10.0, 27.0, 16.0, 14.0, 1.0, 13.0, 5.0, 11.0, 17.0, 12.0, 12.0, 14.0, 10.0, 2.0, 6.0, 15.0, 3.0, 26.0, 5.0, 16.0, 11.0, 11.0, 36.0, 6.0, 16.0, 27.0, 7.0, 18.0, 17.0, 4.0, 8.0, 12.0, 8.0, 7.0, 6.0, 14.0, 6.0, 17.0, 7.0, 27.0, 24.0, 7.0, 6.0, 3.0, 18.0, 2.0, 3.0, 20.0, 18.0, 28.0, 11.0, 18.0, 5.0, 6.0, 31.0, 24.0, 10.0, 7.0, 20.0, 20.0, 5.0, 19.0, 22.0, 22.0, 14.0, 4.0, 10.0, 13.0, 3.0, 11.0, 3.0, 2.0, 13.0, 14.0, 1.0, 3.0, 23.0, 8.0, 13.0, 1.0, 7.0, 10.0, 8.0, 12.0, 5.0, 14.0, 22.0, 10.0, 19.0, 5.0, 37.0, 20.0, 6.0, 12.0, 14.0, 12.0, 13.0, 17.0, 12.0, 12.0, 12.0, 31.0, 7.0, 19.0, 12.0, 2.0, 2.0, 28.0, 4.0, 6.0, 5.0, 5.0, 4.0, 6.0, 11.0, 4.0, 18.0, 20.0, 2.0, 16.0, 0.0, 7.0, 15.0, 12.0, 6.0, 3.0, 18.0, 16.0, 16.0, 13.0, 22.0, 4.0, 6.0, 1.0, 5.0, 19.0, 13.0, 30.0, 12.0, 16.0, 10.0, 17.0, 26.0, 19.0, 10.0, 2.0, 12.0, 7.0, 18.0, 11.0, 2.0, 2.0, 10.0, 2.0, 4.0, 8.0, 12.0, 13.0, 2.0, 9.0, 15.0, 14.0, 16.0, 22.0, 7.0, 15.0, 19.0, 4.0, 1.0, 6.0, 7.0, 7.0, 6.0, 16.0, 8.0, 21.0, 10.0, 11.0, 11.0, 3.0, 10.0, 8.0, 4.0, 14.0, 12.0, 19.0], \"xaxis\": \"x3\", \"yaxis\": \"y3\"}, {\"alignmentgroup\": \"True\", \"bingroup\": \"y\", \"hoverlabel\": {\"namelength\": 0}, \"hovertemplate\": \"frafald 1. \\u00e5r=%{y}<br>count=%{x}\", \"legendgroup\": \"\", \"marker\": {\"color\": \"#636efa\"}, \"name\": \"\", \"offsetgroup\": \"\", \"opacity\": 0.5, \"showlegend\": false, \"type\": \"histogram\", \"xaxis\": \"x2\", \"y\": [4.0, 1.0, 10.0, 0.0, 1.0, 1.0, 13.0, 5.0, 6.0, 10.0, 5.0, 11.0, 3.0, 3.0, 6.0, 6.0, 15.0, 7.0, 9.0, 9.0, 10.0, 3.0, 20.0, 4.0, 2.0, 2.0, 8.0, 6.0, 7.0, 11.0, 13.0, 13.0, 8.0, 9.0, 5.0, 13.0, 8.0, 6.0, 12.0, 8.0, 10.0, 3.0, 5.0, 2.0, 2.0, 13.0, 3.0, 2.0, 7.0, 2.0, 5.0, 12.0, 5.0, 5.0, 3.0, 5.0, 8.0, 8.0, 6.0, 7.0, 4.0, 6.0, 1.0, 21.0, 5.0, 2.0, 16.0, 8.0, 4.0, 12.0, 15.0, 6.0, 4.0, 17.0, 5.0, 5.0, 18.0, 6.0, 12.0, 8.0, 8.0, 14.0, 4.0, 8.0, 16.0, 3.0, 4.0, 29.0, 10.0, 10.0, 5.0, 4.0, 13.0, 5.0, 4.0, 6.0, 5.0, 6.0, 6.0, 11.0, 5.0, 11.0, 8.0, 10.0, 6.0, 4.0, 6.0, 11.0, 18.0, 3.0, 17.0, 3.0, 8.0, 6.0, 2.0, 8.0, 13.0, 5.0, 13.0, 10.0, 7.0, 10.0, 3.0, 18.0, 4.0, 8.0, 7.0, 5.0, 23.0, 5.0, 16.0, 7.0, 10.0, 26.0, 5.0, 5.0, 14.0, 23.0, 18.0, 14.0, 10.0, 11.0, 5.0, 9.0, 8.0, 10.0, 9.0, 8.0, 8.0, 6.0, 3.0, 4.0, 10.0, 8.0, 19.0, 7.0, 7.0, 7.0, 25.0, 3.0, 14.0, 13.0, 5.0, 11.0, 9.0, 6.0, 2.0, 5.0, 5.0, 17.0, 3.0, 11.0, 5.0, 6.0, 3.0, 11.0, 4.0, 8.0, 7.0, 8.0, 18.0, 11.0, 4.0, 13.0, 12.0, 9.0, 14.0, 12.0, 4.0, 5.0, 15.0, 16.0, 30.0, 9.0, 11.0, 15.0, 27.0, 16.0, 24.0, 13.0, 9.0, 21.0, 14.0, 6.0, 9.0, 17.0, 8.0, 29.0, 7.0, 2.0, 22.0, 14.0, 19.0, 16.0, 5.0, 16.0, 4.0, 21.0, 17.0, 3.0, 9.0, 18.0, 2.0, 5.0, 2.0, 24.0, 3.0, 17.0, 23.0, 8.0, 21.0, 2.0, 24.0, 2.0, 17.0, 6.0, 4.0, 23.0, 18.0, 6.0, 4.0, 4.0, 24.0, 7.0], \"yaxis\": \"y2\"}, {\"hoverlabel\": {\"namelength\": 0}, \"hovertemplate\": \"<b>LOWESS trendline</b><br><br>ledighed=%{x}<br>frafald 1. \\u00e5r=%{y} <b>(trend)</b>\", \"legendgroup\": \"\", \"marker\": {\"color\": \"#636efa\", \"symbol\": \"circle\"}, \"mode\": \"lines\", \"name\": \"\", \"showlegend\": false, \"type\": \"scatter\", \"x\": [0.0, 1.0, 1.0, 1.0, 1.0, 1.0, 1.0, 1.0, 1.0, 2.0, 2.0, 2.0, 2.0, 2.0, 2.0, 2.0, 2.0, 2.0, 2.0, 2.0, 3.0, 3.0, 3.0, 3.0, 3.0, 3.0, 3.0, 3.0, 3.0, 3.0, 3.0, 4.0, 4.0, 4.0, 4.0, 4.0, 4.0, 4.0, 4.0, 4.0, 4.0, 4.0, 5.0, 5.0, 5.0, 5.0, 5.0, 5.0, 5.0, 5.0, 5.0, 5.0, 5.0, 5.0, 6.0, 6.0, 6.0, 6.0, 6.0, 6.0, 6.0, 6.0, 6.0, 6.0, 6.0, 6.0, 6.0, 6.0, 6.0, 6.0, 6.0, 7.0, 7.0, 7.0, 7.0, 7.0, 7.0, 7.0, 7.0, 7.0, 7.0, 7.0, 7.0, 7.0, 7.0, 8.0, 8.0, 8.0, 8.0, 8.0, 8.0, 8.0, 8.0, 8.0, 9.0, 9.0, 10.0, 10.0, 10.0, 10.0, 10.0, 10.0, 10.0, 10.0, 10.0, 10.0, 10.0, 10.0, 10.0, 10.0, 11.0, 11.0, 11.0, 11.0, 11.0, 11.0, 11.0, 11.0, 11.0, 11.0, 12.0, 12.0, 12.0, 12.0, 12.0, 12.0, 12.0, 12.0, 12.0, 12.0, 12.0, 12.0, 12.0, 12.0, 12.0, 12.0, 12.0, 12.0, 12.0, 12.0, 12.0, 13.0, 13.0, 13.0, 13.0, 13.0, 13.0, 13.0, 13.0, 13.0, 13.0, 13.0, 14.0, 14.0, 14.0, 14.0, 14.0, 14.0, 14.0, 14.0, 14.0, 14.0, 14.0, 14.0, 15.0, 15.0, 15.0, 15.0, 15.0, 16.0, 16.0, 16.0, 16.0, 16.0, 16.0, 16.0, 16.0, 16.0, 16.0, 17.0, 17.0, 17.0, 17.0, 17.0, 17.0, 17.0, 18.0, 18.0, 18.0, 18.0, 18.0, 18.0, 18.0, 18.0, 18.0, 19.0, 19.0, 19.0, 19.0, 19.0, 19.0, 19.0, 19.0, 19.0, 20.0, 20.0, 20.0, 20.0, 20.0, 21.0, 21.0, 21.0, 22.0, 22.0, 22.0, 22.0, 22.0, 22.0, 22.0, 23.0, 23.0, 23.0, 23.0, 23.0, 24.0, 24.0, 24.0, 24.0, 24.0, 25.0, 26.0, 26.0, 27.0, 27.0, 27.0, 27.0, 28.0, 28.0, 30.0, 30.0, 31.0, 31.0, 36.0, 37.0], \"xaxis\": \"x\", \"y\": [8.072017673890905, 8.173248562429356, 8.173248562429356, 8.173248562429356, 8.173248562429356, 8.173248562429356, 8.173248562429356, 8.173248562429356, 8.173248562429356, 8.27146971391794, 8.27146971391794, 8.27146971391794, 8.27146971391794, 8.27146971391794, 8.27146971391794, 8.27146971391794, 8.27146971391794, 8.27146971391794, 8.27146971391794, 8.27146971391794, 8.36734089154099, 8.36734089154099, 8.36734089154099, 8.36734089154099, 8.36734089154099, 8.36734089154099, 8.36734089154099, 8.36734089154099, 8.36734089154099, 8.36734089154099, 8.36734089154099, 8.465157024269356, 8.465157024269356, 8.465157024269356, 8.465157024269356, 8.465157024269356, 8.465157024269356, 8.465157024269356, 8.465157024269356, 8.465157024269356, 8.465157024269356, 8.465157024269356, 8.565129053951184, 8.565129053951184, 8.565129053951184, 8.565129053951184, 8.565129053951184, 8.565129053951184, 8.565129053951184, 8.565129053951184, 8.565129053951184, 8.565129053951184, 8.565129053951184, 8.565129053951184, 8.66551492767096, 8.66551492767096, 8.66551492767096, 8.66551492767096, 8.66551492767096, 8.66551492767096, 8.66551492767096, 8.66551492767096, 8.66551492767096, 8.66551492767096, 8.66551492767096, 8.66551492767096, 8.66551492767096, 8.66551492767096, 8.66551492767096, 8.66551492767096, 8.66551492767096, 8.752915405664536, 8.752915405664536, 8.752915405664536, 8.752915405664536, 8.752915405664536, 8.752915405664536, 8.752915405664536, 8.752915405664536, 8.752915405664536, 8.752915405664536, 8.752915405664536, 8.752915405664536, 8.752915405664536, 8.752915405664536, 8.827441101818849, 8.827441101818849, 8.827441101818849, 8.827441101818849, 8.827441101818849, 8.827441101818849, 8.827441101818849, 8.827441101818849, 8.827441101818849, 8.869404905304807, 8.869404905304807, 8.928115989742347, 8.928115989742347, 8.928115989742347, 8.928115989742347, 8.928115989742347, 8.928115989742347, 8.928115989742347, 8.928115989742347, 8.928115989742347, 8.928115989742347, 8.928115989742347, 8.928115989742347, 8.928115989742347, 8.928115989742347, 8.974133966180462, 8.974133966180462, 8.974133966180462, 8.974133966180462, 8.974133966180462, 8.974133966180462, 8.974133966180462, 8.974133966180462, 8.974133966180462, 8.974133966180462, 8.962694934882224, 8.962694934882224, 8.962694934882224, 8.962694934882224, 8.962694934882224, 8.962694934882224, 8.962694934882224, 8.962694934882224, 8.962694934882224, 8.962694934882224, 8.962694934882224, 8.962694934882224, 8.962694934882224, 8.962694934882224, 8.962694934882224, 8.962694934882224, 8.962694934882224, 8.962694934882224, 8.962694934882224, 8.962694934882224, 8.962694934882224, 8.785262423006884, 8.785262423006884, 8.785262423006884, 8.785262423006884, 8.785262423006884, 8.785262423006884, 8.785262423006884, 8.785262423006884, 8.785262423006884, 8.785262423006884, 8.785262423006884, 8.662864745630552, 8.662864745630552, 8.662864745630552, 8.662864745630552, 8.662864745630552, 8.662864745630552, 8.662864745630552, 8.662864745630552, 8.662864745630552, 8.662864745630552, 8.662864745630552, 8.662864745630552, 8.526457012760355, 8.526457012760355, 8.526457012760355, 8.526457012760355, 8.526457012760355, 8.389354939045779, 8.389354939045779, 8.389354939045779, 8.389354939045779, 8.389354939045779, 8.389354939045779, 8.389354939045779, 8.389354939045779, 8.389354939045779, 8.389354939045779, 8.251028288415181, 8.251028288415181, 8.251028288415181, 8.251028288415181, 8.251028288415181, 8.251028288415181, 8.251028288415181, 8.134227797997658, 8.134227797997658, 8.134227797997658, 8.134227797997658, 8.134227797997658, 8.134227797997658, 8.134227797997658, 8.134227797997658, 8.134227797997658, 8.04527562448169, 8.04527562448169, 8.04527562448169, 8.04527562448169, 8.04527562448169, 8.04527562448169, 8.04527562448169, 8.04527562448169, 8.04527562448169, 7.990819689520985, 7.990819689520985, 7.990819689520985, 7.990819689520985, 7.990819689520985, 7.946677830642327, 7.946677830642327, 7.946677830642327, 7.899103954756493, 7.899103954756493, 7.899103954756493, 7.899103954756493, 7.899103954756493, 7.899103954756493, 7.899103954756493, 7.853441903006673, 7.853441903006673, 7.853441903006673, 7.853441903006673, 7.853441903006673, 7.814923770899218, 7.814923770899218, 7.814923770899218, 7.814923770899218, 7.814923770899218, 7.780942882674263, 7.749316838239173, 7.749316838239173, 7.71919455325271, 7.71919455325271, 7.71919455325271, 7.71919455325271, 7.690639485428038, 7.690639485428038, 7.639492138474155, 7.639492138474155, 7.617212898401288, 7.617212898401288, 7.529849587118614, 7.516778067630586], \"yaxis\": \"y\"}],\n",
       "                        {\"barmode\": \"overlay\", \"legend\": {\"tracegroupgap\": 0}, \"shapes\": [{\"fillcolor\": \"LightSkyBlue\", \"layer\": \"below\", \"line\": {\"width\": 0}, \"opacity\": 0.5, \"type\": \"rect\", \"x0\": 11.115261697226948, \"x1\": 13.024082565068134, \"xref\": \"x\", \"y0\": 0.0, \"y1\": 30.0, \"yref\": \"y\"}, {\"fillcolor\": \"LightSkyBlue\", \"layer\": \"below\", \"line\": {\"width\": 0}, \"opacity\": 0.5, \"type\": \"rect\", \"x0\": 0.0, \"x1\": 37.0, \"xref\": \"x\", \"y0\": 8.581381007349307, \"y1\": 10.164520631994954, \"yref\": \"y\"}], \"template\": {\"data\": {\"bar\": [{\"error_x\": {\"color\": \"#2a3f5f\"}, \"error_y\": {\"color\": \"#2a3f5f\"}, \"marker\": {\"line\": {\"color\": \"#E5ECF6\", \"width\": 0.5}}, \"type\": \"bar\"}], \"barpolar\": [{\"marker\": {\"line\": {\"color\": \"#E5ECF6\", \"width\": 0.5}}, \"type\": \"barpolar\"}], \"carpet\": [{\"aaxis\": {\"endlinecolor\": \"#2a3f5f\", \"gridcolor\": \"white\", \"linecolor\": \"white\", \"minorgridcolor\": \"white\", \"startlinecolor\": \"#2a3f5f\"}, \"baxis\": {\"endlinecolor\": \"#2a3f5f\", \"gridcolor\": \"white\", \"linecolor\": \"white\", \"minorgridcolor\": \"white\", \"startlinecolor\": \"#2a3f5f\"}, \"type\": \"carpet\"}], \"choropleth\": [{\"colorbar\": {\"outlinewidth\": 0, \"ticks\": \"\"}, \"type\": \"choropleth\"}], \"contour\": [{\"colorbar\": {\"outlinewidth\": 0, \"ticks\": \"\"}, \"colorscale\": [[0.0, \"#0d0887\"], [0.1111111111111111, \"#46039f\"], [0.2222222222222222, \"#7201a8\"], [0.3333333333333333, \"#9c179e\"], [0.4444444444444444, \"#bd3786\"], [0.5555555555555556, \"#d8576b\"], [0.6666666666666666, \"#ed7953\"], [0.7777777777777778, \"#fb9f3a\"], [0.8888888888888888, \"#fdca26\"], [1.0, \"#f0f921\"]], \"type\": \"contour\"}], \"contourcarpet\": [{\"colorbar\": {\"outlinewidth\": 0, \"ticks\": \"\"}, \"type\": \"contourcarpet\"}], \"heatmap\": [{\"colorbar\": {\"outlinewidth\": 0, \"ticks\": \"\"}, \"colorscale\": [[0.0, \"#0d0887\"], [0.1111111111111111, \"#46039f\"], [0.2222222222222222, \"#7201a8\"], [0.3333333333333333, \"#9c179e\"], [0.4444444444444444, \"#bd3786\"], [0.5555555555555556, \"#d8576b\"], [0.6666666666666666, \"#ed7953\"], [0.7777777777777778, \"#fb9f3a\"], [0.8888888888888888, \"#fdca26\"], [1.0, \"#f0f921\"]], \"type\": \"heatmap\"}], \"heatmapgl\": [{\"colorbar\": {\"outlinewidth\": 0, \"ticks\": \"\"}, \"colorscale\": [[0.0, \"#0d0887\"], [0.1111111111111111, \"#46039f\"], [0.2222222222222222, \"#7201a8\"], [0.3333333333333333, \"#9c179e\"], [0.4444444444444444, \"#bd3786\"], [0.5555555555555556, \"#d8576b\"], [0.6666666666666666, \"#ed7953\"], [0.7777777777777778, \"#fb9f3a\"], [0.8888888888888888, \"#fdca26\"], [1.0, \"#f0f921\"]], \"type\": \"heatmapgl\"}], \"histogram\": [{\"marker\": {\"colorbar\": {\"outlinewidth\": 0, \"ticks\": \"\"}}, \"type\": \"histogram\"}], \"histogram2d\": [{\"colorbar\": {\"outlinewidth\": 0, \"ticks\": \"\"}, \"colorscale\": [[0.0, \"#0d0887\"], [0.1111111111111111, \"#46039f\"], [0.2222222222222222, \"#7201a8\"], [0.3333333333333333, \"#9c179e\"], [0.4444444444444444, \"#bd3786\"], [0.5555555555555556, \"#d8576b\"], [0.6666666666666666, \"#ed7953\"], [0.7777777777777778, \"#fb9f3a\"], [0.8888888888888888, \"#fdca26\"], [1.0, \"#f0f921\"]], \"type\": \"histogram2d\"}], \"histogram2dcontour\": [{\"colorbar\": {\"outlinewidth\": 0, \"ticks\": \"\"}, \"colorscale\": [[0.0, \"#0d0887\"], [0.1111111111111111, \"#46039f\"], [0.2222222222222222, \"#7201a8\"], [0.3333333333333333, \"#9c179e\"], [0.4444444444444444, \"#bd3786\"], [0.5555555555555556, \"#d8576b\"], [0.6666666666666666, \"#ed7953\"], [0.7777777777777778, \"#fb9f3a\"], [0.8888888888888888, \"#fdca26\"], [1.0, \"#f0f921\"]], \"type\": \"histogram2dcontour\"}], \"mesh3d\": [{\"colorbar\": {\"outlinewidth\": 0, \"ticks\": \"\"}, \"type\": \"mesh3d\"}], \"parcoords\": [{\"line\": {\"colorbar\": {\"outlinewidth\": 0, \"ticks\": \"\"}}, \"type\": \"parcoords\"}], \"pie\": [{\"automargin\": true, \"type\": \"pie\"}], \"scatter\": [{\"marker\": {\"colorbar\": {\"outlinewidth\": 0, \"ticks\": \"\"}}, \"type\": \"scatter\"}], \"scatter3d\": [{\"line\": {\"colorbar\": {\"outlinewidth\": 0, \"ticks\": \"\"}}, \"marker\": {\"colorbar\": {\"outlinewidth\": 0, \"ticks\": \"\"}}, \"type\": \"scatter3d\"}], \"scattercarpet\": [{\"marker\": {\"colorbar\": {\"outlinewidth\": 0, \"ticks\": \"\"}}, \"type\": \"scattercarpet\"}], \"scattergeo\": [{\"marker\": {\"colorbar\": {\"outlinewidth\": 0, \"ticks\": \"\"}}, \"type\": \"scattergeo\"}], \"scattergl\": [{\"marker\": {\"colorbar\": {\"outlinewidth\": 0, \"ticks\": \"\"}}, \"type\": \"scattergl\"}], \"scattermapbox\": [{\"marker\": {\"colorbar\": {\"outlinewidth\": 0, \"ticks\": \"\"}}, \"type\": \"scattermapbox\"}], \"scatterpolar\": [{\"marker\": {\"colorbar\": {\"outlinewidth\": 0, \"ticks\": \"\"}}, \"type\": \"scatterpolar\"}], \"scatterpolargl\": [{\"marker\": {\"colorbar\": {\"outlinewidth\": 0, \"ticks\": \"\"}}, \"type\": \"scatterpolargl\"}], \"scatterternary\": [{\"marker\": {\"colorbar\": {\"outlinewidth\": 0, \"ticks\": \"\"}}, \"type\": \"scatterternary\"}], \"surface\": [{\"colorbar\": {\"outlinewidth\": 0, \"ticks\": \"\"}, \"colorscale\": [[0.0, \"#0d0887\"], [0.1111111111111111, \"#46039f\"], [0.2222222222222222, \"#7201a8\"], [0.3333333333333333, \"#9c179e\"], [0.4444444444444444, \"#bd3786\"], [0.5555555555555556, \"#d8576b\"], [0.6666666666666666, \"#ed7953\"], [0.7777777777777778, \"#fb9f3a\"], [0.8888888888888888, \"#fdca26\"], [1.0, \"#f0f921\"]], \"type\": \"surface\"}], \"table\": [{\"cells\": {\"fill\": {\"color\": \"#EBF0F8\"}, \"line\": {\"color\": \"white\"}}, \"header\": {\"fill\": {\"color\": \"#C8D4E3\"}, \"line\": {\"color\": \"white\"}}, \"type\": \"table\"}]}, \"layout\": {\"annotationdefaults\": {\"arrowcolor\": \"#2a3f5f\", \"arrowhead\": 0, \"arrowwidth\": 1}, \"coloraxis\": {\"colorbar\": {\"outlinewidth\": 0, \"ticks\": \"\"}}, \"colorscale\": {\"diverging\": [[0, \"#8e0152\"], [0.1, \"#c51b7d\"], [0.2, \"#de77ae\"], [0.3, \"#f1b6da\"], [0.4, \"#fde0ef\"], [0.5, \"#f7f7f7\"], [0.6, \"#e6f5d0\"], [0.7, \"#b8e186\"], [0.8, \"#7fbc41\"], [0.9, \"#4d9221\"], [1, \"#276419\"]], \"sequential\": [[0.0, \"#0d0887\"], [0.1111111111111111, \"#46039f\"], [0.2222222222222222, \"#7201a8\"], [0.3333333333333333, \"#9c179e\"], [0.4444444444444444, \"#bd3786\"], [0.5555555555555556, \"#d8576b\"], [0.6666666666666666, \"#ed7953\"], [0.7777777777777778, \"#fb9f3a\"], [0.8888888888888888, \"#fdca26\"], [1.0, \"#f0f921\"]], \"sequentialminus\": [[0.0, \"#0d0887\"], [0.1111111111111111, \"#46039f\"], [0.2222222222222222, \"#7201a8\"], [0.3333333333333333, \"#9c179e\"], [0.4444444444444444, \"#bd3786\"], [0.5555555555555556, \"#d8576b\"], [0.6666666666666666, \"#ed7953\"], [0.7777777777777778, \"#fb9f3a\"], [0.8888888888888888, \"#fdca26\"], [1.0, \"#f0f921\"]]}, \"colorway\": [\"#636efa\", \"#EF553B\", \"#00cc96\", \"#ab63fa\", \"#FFA15A\", \"#19d3f3\", \"#FF6692\", \"#B6E880\", \"#FF97FF\", \"#FECB52\"], \"font\": {\"color\": \"#2a3f5f\"}, \"geo\": {\"bgcolor\": \"white\", \"lakecolor\": \"white\", \"landcolor\": \"#E5ECF6\", \"showlakes\": true, \"showland\": true, \"subunitcolor\": \"white\"}, \"hoverlabel\": {\"align\": \"left\"}, \"hovermode\": \"closest\", \"mapbox\": {\"style\": \"light\"}, \"paper_bgcolor\": \"white\", \"plot_bgcolor\": \"#E5ECF6\", \"polar\": {\"angularaxis\": {\"gridcolor\": \"white\", \"linecolor\": \"white\", \"ticks\": \"\"}, \"bgcolor\": \"#E5ECF6\", \"radialaxis\": {\"gridcolor\": \"white\", \"linecolor\": \"white\", \"ticks\": \"\"}}, \"scene\": {\"xaxis\": {\"backgroundcolor\": \"#E5ECF6\", \"gridcolor\": \"white\", \"gridwidth\": 2, \"linecolor\": \"white\", \"showbackground\": true, \"ticks\": \"\", \"zerolinecolor\": \"white\"}, \"yaxis\": {\"backgroundcolor\": \"#E5ECF6\", \"gridcolor\": \"white\", \"gridwidth\": 2, \"linecolor\": \"white\", \"showbackground\": true, \"ticks\": \"\", \"zerolinecolor\": \"white\"}, \"zaxis\": {\"backgroundcolor\": \"#E5ECF6\", \"gridcolor\": \"white\", \"gridwidth\": 2, \"linecolor\": \"white\", \"showbackground\": true, \"ticks\": \"\", \"zerolinecolor\": \"white\"}}, \"shapedefaults\": {\"line\": {\"color\": \"#2a3f5f\"}}, \"ternary\": {\"aaxis\": {\"gridcolor\": \"white\", \"linecolor\": \"white\", \"ticks\": \"\"}, \"baxis\": {\"gridcolor\": \"white\", \"linecolor\": \"white\", \"ticks\": \"\"}, \"bgcolor\": \"#E5ECF6\", \"caxis\": {\"gridcolor\": \"white\", \"linecolor\": \"white\", \"ticks\": \"\"}}, \"title\": {\"x\": 0.05}, \"xaxis\": {\"automargin\": true, \"gridcolor\": \"white\", \"linecolor\": \"white\", \"ticks\": \"\", \"title\": {\"standoff\": 15}, \"zerolinecolor\": \"white\", \"zerolinewidth\": 2}, \"yaxis\": {\"automargin\": true, \"gridcolor\": \"white\", \"linecolor\": \"white\", \"ticks\": \"\", \"title\": {\"standoff\": 15}, \"zerolinecolor\": \"white\", \"zerolinewidth\": 2}}}, \"title\": {\"text\": \"ledighed vs. frafald 1. \\u00e5r\"}, \"xaxis\": {\"anchor\": \"y\", \"domain\": [0.0, 0.7363], \"title\": {\"text\": \"ledighed\"}}, \"xaxis2\": {\"anchor\": \"y2\", \"domain\": [0.7413, 1.0], \"matches\": \"x2\", \"showgrid\": true, \"showline\": false, \"showticklabels\": false, \"ticks\": \"\"}, \"xaxis3\": {\"anchor\": \"y3\", \"domain\": [0.0, 0.7363], \"matches\": \"x\", \"showgrid\": true, \"showticklabels\": false}, \"xaxis4\": {\"anchor\": \"y4\", \"domain\": [0.7413, 1.0], \"matches\": \"x2\", \"showgrid\": true, \"showline\": false, \"showticklabels\": false, \"ticks\": \"\"}, \"yaxis\": {\"anchor\": \"x\", \"domain\": [0.0, 0.7326], \"title\": {\"text\": \"frafald 1. \\u00e5r\"}}, \"yaxis2\": {\"anchor\": \"x2\", \"domain\": [0.0, 0.7326], \"matches\": \"y\", \"showgrid\": true, \"showticklabels\": false}, \"yaxis3\": {\"anchor\": \"x3\", \"domain\": [0.7426, 1.0], \"matches\": \"y3\", \"showgrid\": true, \"showline\": false, \"showticklabels\": false, \"ticks\": \"\"}, \"yaxis4\": {\"anchor\": \"x4\", \"domain\": [0.7426, 1.0], \"matches\": \"y3\", \"showgrid\": true, \"showline\": false, \"showticklabels\": false, \"ticks\": \"\"}},\n",
       "                        {\"responsive\": true}\n",
       "                    ).then(function(){\n",
       "                            \n",
       "var gd = document.getElementById('627f9050-bf5c-4703-9c07-4b27bc7e7ef2');\n",
       "var x = new MutationObserver(function (mutations, observer) {{\n",
       "        var display = window.getComputedStyle(gd).display;\n",
       "        if (!display || display === 'none') {{\n",
       "            console.log([gd, 'removed!']);\n",
       "            Plotly.purge(gd);\n",
       "            observer.disconnect();\n",
       "        }}\n",
       "}});\n",
       "\n",
       "// Listen for the removal of the full notebook cells\n",
       "var notebookContainer = gd.closest('#notebook-container');\n",
       "if (notebookContainer) {{\n",
       "    x.observe(notebookContainer, {childList: true});\n",
       "}}\n",
       "\n",
       "// Listen for the clearing of the current output cell\n",
       "var outputEl = gd.closest('.output');\n",
       "if (outputEl) {{\n",
       "    x.observe(outputEl, {childList: true});\n",
       "}}\n",
       "\n",
       "                        })\n",
       "                };\n",
       "                });\n",
       "            </script>\n",
       "        </div>"
      ]
     },
     "metadata": {},
     "output_type": "display_data"
    },
    {
     "data": {
      "application/vnd.plotly.v1+json": {
       "config": {
        "plotlyServerURL": "https://plot.ly"
       },
       "data": [
        {
         "customdata": [
          [
           "Arkitekt"
          ],
          [
           "Veterinærmedicin"
          ],
          [
           "Designledelse"
          ],
          [
           "Odontologi"
          ],
          [
           "Jura"
          ],
          [
           "Farmaci"
          ],
          [
           "Lyd- og musikteknologi"
          ],
          [
           "Farmaceutisk videnskab"
          ],
          [
           "Tværkulturelle studier"
          ],
          [
           "Amerikanske studier"
          ],
          [
           "Engelsk"
          ],
          [
           "Medialogy"
          ],
          [
           "Medicin og teknologi"
          ],
          [
           "Humanbiologi"
          ],
          [
           "Molecular Biology"
          ],
          [
           "Musikvidenskab"
          ],
          [
           "Informationsvidenskab og kulturformidling"
          ],
          [
           "Human ernæring"
          ],
          [
           "Erhvervssprog og international virksomhedskommunikation"
          ],
          [
           "Industrielt design"
          ],
          [
           "Religionsvidenskab"
          ],
          [
           "Sundhedsteknologi"
          ],
          [
           "Radiograf"
          ],
          [
           "Bioteknologi"
          ],
          [
           "Biologi-bioteknologi"
          ],
          [
           "Landskabsarkitektur"
          ],
          [
           "Corporate Communication"
          ],
          [
           "Biokemi"
          ],
          [
           "Byggeri"
          ],
          [
           "Moderne kultur og kulturformidling"
          ],
          [
           "Sygeplejerske"
          ],
          [
           "Uddannelsesvidenskab"
          ],
          [
           "Filosofi"
          ],
          [
           "Bioinformatik"
          ],
          [
           "Digital design og interaktive teknologier"
          ],
          [
           "Astronomi"
          ],
          [
           "Miljøvidenskab"
          ],
          [
           "Global udvikling"
          ],
          [
           "Samfundsvidenskabelig jura"
          ],
          [
           "Fransk sprog, litteratur og kultur"
          ],
          [
           "Tekstildesign, -håndværk og formidling"
          ],
          [
           "Erhvervsøkonomi og virksomhedskommunikation"
          ],
          [
           "Bygningsdesign"
          ],
          [
           "Fødevareteknologi"
          ],
          [
           "Audiologi"
          ],
          [
           "Cultural Sociology"
          ],
          [
           "Mechatronics Engineering"
          ],
          [
           "Medicine with Industrial Specialisation"
          ],
          [
           "Antropologi"
          ],
          [
           "Biologi"
          ],
          [
           "Anvendt kemi"
          ],
          [
           "It-ledelse"
          ],
          [
           "Molekylær ernæring og fødevareteknologi"
          ],
          [
           "Film- og medievidenskab"
          ],
          [
           "Erhvervsøkonomi og psykologi"
          ],
          [
           "It, kommunikation og organisation"
          ],
          [
           "Datalogi"
          ],
          [
           "Fysik"
          ],
          [
           "Olie- og gasteknologi"
          ],
          [
           "Kultur, kommunikation og globalisering"
          ],
          [
           "Dansk"
          ],
          [
           "Erhvervsøkonomi - erhvervssprog, negot."
          ],
          [
           "Medicin"
          ],
          [
           "Webudvikling"
          ],
          [
           "Fysik og nanoteknologi"
          ],
          [
           "Agronomi"
          ],
          [
           "Pædagogisk filosofi"
          ],
          [
           "Pædagogisk psykologi"
          ],
          [
           "Husdyrvidenskab"
          ],
          [
           "Pædagogik"
          ],
          [
           "Socialt arbejde"
          ],
          [
           "Økonomi"
          ],
          [
           "Erhvervsøkonomi og erhvervsjura"
          ],
          [
           "It-design og applikationsudvikling"
          ],
          [
           "Matematik-økonomi"
          ],
          [
           "Historie"
          ],
          [
           "Bioanalytiker"
          ],
          [
           "Design og business"
          ],
          [
           "Forvaltning"
          ],
          [
           "Kemi og bioteknologi"
          ],
          [
           "Kultur og formidling"
          ],
          [
           "Socialrådgiver"
          ],
          [
           "Tysk"
          ],
          [
           "Litteraturvidenskab"
          ],
          [
           "Erhvervsøkonomi, cand.soc."
          ],
          [
           "Teologi"
          ],
          [
           "Geologi"
          ],
          [
           "Diplomingeniør - bygningsdesign"
          ],
          [
           "Tandplejer"
          ],
          [
           "It-didaktisk design"
          ],
          [
           "Bioinformatik og systembiologi"
          ],
          [
           "Jordbrugsøkonomi"
          ],
          [
           "Fysioterapeut"
          ],
          [
           "Samfundsfag"
          ],
          [
           "Statskundskab"
          ],
          [
           "Sociologi"
          ],
          [
           "Erhvervsøkonomi, cand.merc."
          ],
          [
           "Designer"
          ],
          [
           "Dramaturgi"
          ],
          [
           "Teknologibaseret forretningsudvikling"
          ],
          [
           "Mechanical Engineering"
          ],
          [
           "Softwaredesign"
          ],
          [
           "Agro-Environmental Management"
          ],
          [
           "Transport og logistik"
          ],
          [
           "Matematik"
          ],
          [
           "Sundhedsfremme og sundhedsstrategier"
          ],
          [
           "Kriminologi"
          ],
          [
           "Socialvidenskab"
          ],
          [
           "Ernæring og sundhed"
          ],
          [
           "Kemi (civilingeniør)"
          ],
          [
           "Diplomingeniør - softwareteknologi"
          ],
          [
           "Digital innovation og management"
          ],
          [
           "Kunsthistorie"
          ],
          [
           "Digital design"
          ],
          [
           "Psykologi"
          ],
          [
           "Sundhedsfaglig kandidat"
          ],
          [
           "Psykomotorisk terapeut"
          ],
          [
           "Medievidenskab"
          ],
          [
           "Ergoterapi"
          ],
          [
           "Erhvervsøkonomi og filosofi"
          ],
          [
           "Spansk sprog og kultur"
          ],
          [
           "Mellemøststudier"
          ],
          [
           "Molekylær medicin"
          ],
          [
           "Diplomingeniør - bygning"
          ],
          [
           "Humanistisk-samfundsvidenskabelig idrætsvidenskab"
          ],
          [
           "Informationsvidenskab"
          ],
          [
           "Software"
          ],
          [
           "Folkesundhedsvidenskab"
          ],
          [
           "Diplomingeniør - elektrisk energiteknologi"
          ],
          [
           "Audiologopædi"
          ],
          [
           "Pædagogisk sociologi"
          ],
          [
           "Nanoscience"
          ],
          [
           "Klinisk sygepleje"
          ],
          [
           "Sygepleje"
          ],
          [
           "Anvendt kulturanalyse"
          ],
          [
           "Fødevarevidenskab"
          ],
          [
           "Geografi"
          ],
          [
           "Optometrist"
          ],
          [
           "Bygningskonstruktør"
          ],
          [
           "Ergoterapeut"
          ],
          [
           "Pædagog"
          ],
          [
           "Arbejdslivsstudier"
          ],
          [
           "Fysioterapi"
          ],
          [
           "Have- og parkingeniør"
          ],
          [
           "Kommunikation"
          ],
          [
           "Klinisk ernæring"
          ],
          [
           "Tourism"
          ],
          [
           "Digitale medieteknologier"
          ],
          [
           "Interaktive digitale medier"
          ],
          [
           "International sikkerhed og folkeret"
          ],
          [
           "Design og innovation"
          ],
          [
           "Politisk kommunikation og ledelse"
          ],
          [
           "Lingvistik"
          ],
          [
           "Humanfysiologi"
          ],
          [
           "Laboratorie- og fødevareteknologi"
          ],
          [
           "Medicinalkemi"
          ],
          [
           "Journalistik"
          ],
          [
           "Spil"
          ],
          [
           "Offentlig administration"
          ],
          [
           "Æstetik og kultur"
          ],
          [
           "Softwareudvikling"
          ],
          [
           "IT Product Design"
          ],
          [
           "Kemi"
          ],
          [
           "Revisorkandidat, cand.merc.aud."
          ],
          [
           "Jordemoder"
          ],
          [
           "Oplevelsesøkonomi"
          ],
          [
           "Vision, Graphics and Interactive Systems"
          ],
          [
           "Kemisk og biokemisk teknologi"
          ],
          [
           "Energy Engineering"
          ],
          [
           "Diplomingeniør - maskinteknik"
          ],
          [
           "Industriel økonomi og teknologiledelse"
          ],
          [
           "Materiale- og procesteknologi"
          ],
          [
           "Miljøteknologi"
          ],
          [
           "Byggeteknologi"
          ],
          [
           "Geofysik"
          ],
          [
           "Digital konceptudvikling"
          ],
          [
           "Statistik"
          ],
          [
           "Webkommunikation"
          ],
          [
           "Informationsteknologi"
          ],
          [
           "Farmateknologi"
          ],
          [
           "Multimediedesigner"
          ],
          [
           "International handel og markedsføring"
          ],
          [
           "Business Administration and Information Systems"
          ],
          [
           "Maskinmester"
          ],
          [
           "Politik og administration"
          ],
          [
           "Bæredygtigt design"
          ],
          [
           "Virksomhedsledelse"
          ],
          [
           "Didaktik"
          ],
          [
           "Energiteknologi"
          ],
          [
           "Elektroteknologi"
          ],
          [
           "Lærer i folkeskolen"
          ],
          [
           "Mekanik"
          ],
          [
           "Diplomingeniør - elektronik"
          ],
          [
           "Læring og forandringsprocesser"
          ],
          [
           "International Hospitality Management"
          ],
          [
           "Anvendt filosofi"
          ],
          [
           "Diplomingeniør - eksport og teknologi"
          ],
          [
           "Jordbrug"
          ],
          [
           "Financial Controller"
          ],
          [
           "Pædagogisk antropologi"
          ],
          [
           "Europastudier"
          ],
          [
           "Administrationsøkonom"
          ],
          [
           "International Public Administration and Politics"
          ],
          [
           "Matematisk modellering og computing"
          ],
          [
           "Designteknolog"
          ],
          [
           "Laborant"
          ],
          [
           "Retorik"
          ],
          [
           "IT-teknolog"
          ],
          [
           "Konstruktion og mekanik"
          ],
          [
           "Water and Environment Engineering"
          ],
          [
           "Datamatiker"
          ],
          [
           "Elinstallatør"
          ],
          [
           "Finans"
          ],
          [
           "Markedsføringsøkonom"
          ],
          [
           "Bæredygtig energi"
          ],
          [
           "Procesteknolog"
          ],
          [
           "Lyd og akustisk teknologi"
          ],
          [
           "Serviceøkonom"
          ],
          [
           "Produktudvikling og teknisk integration"
          ],
          [
           "Medieproduktion og ledelse"
          ],
          [
           "It, læring og organisatorisk omstilling"
          ],
          [
           "Miljøteknolog"
          ],
          [
           "Innovation and Business"
          ],
          [
           "Idræt"
          ],
          [
           "Grafisk kommunikation"
          ],
          [
           "Økonomi og informationsteknologi"
          ],
          [
           "Veje og trafik"
          ],
          [
           "Ledelse og informatik i byggeriet"
          ],
          [
           "Logistikøkonom"
          ],
          [
           "Diakoni og socialpædagogik"
          ],
          [
           "Finansøkonom"
          ],
          [
           "Visuel kommunikation"
          ],
          [
           "Handelsøkonom"
          ],
          [
           "Multiplatform storytelling and production"
          ],
          [
           "Jordbrugsteknolog"
          ],
          [
           "Journalist"
          ],
          [
           "Geofysik og rumteknologi"
          ],
          [
           "Automationsteknolog"
          ],
          [
           "Produktionsteknolog"
          ],
          [
           "Kommunikation"
          ],
          [
           "Landinspektørvidenskab"
          ],
          [
           "Tv- og medietilrettelæggelse"
          ],
          [
           "Energiteknolog"
          ],
          [
           "Lærer fra Den frie Lærerskole"
          ]
         ],
         "hoverlabel": {
          "namelength": 0
         },
         "hovertemplate": "ledighed=%{y}<br>Titel=%{customdata[0]}",
         "legendgroup": "",
         "marker": {
          "color": "#636efa",
          "symbol": "circle"
         },
         "mode": "markers",
         "name": "",
         "showlegend": false,
         "type": "scatter",
         "x": [
          11,
          6,
          27,
          3,
          5,
          8,
          13,
          4,
          23,
          22,
          22,
          24,
          4,
          6,
          17,
          16,
          19,
          24,
          18,
          21,
          24,
          1,
          3,
          12,
          14,
          13,
          12,
          18,
          1,
          25,
          1,
          15,
          30,
          5,
          12,
          13,
          10,
          10,
          5,
          23,
          21,
          9,
          14,
          10,
          8,
          12,
          7,
          17,
          23,
          23,
          12,
          12,
          14,
          19,
          7,
          6,
          3,
          6,
          10,
          27,
          16,
          14,
          1,
          13,
          5,
          11,
          17,
          12,
          12,
          14,
          10,
          2,
          6,
          15,
          3,
          26,
          5,
          16,
          11,
          11,
          36,
          6,
          16,
          27,
          7,
          18,
          17,
          4,
          8,
          12,
          8,
          7,
          6,
          14,
          6,
          17,
          7,
          27,
          24,
          7,
          6,
          3,
          18,
          2,
          3,
          20,
          18,
          28,
          11,
          18,
          5,
          6,
          31,
          24,
          10,
          7,
          20,
          20,
          5,
          19,
          22,
          22,
          14,
          4,
          10,
          13,
          3,
          11,
          3,
          2,
          13,
          14,
          1,
          3,
          23,
          8,
          13,
          1,
          7,
          10,
          8,
          12,
          5,
          14,
          22,
          10,
          19,
          5,
          37,
          20,
          6,
          12,
          14,
          12,
          13,
          17,
          12,
          12,
          12,
          31,
          7,
          19,
          12,
          2,
          2,
          28,
          4,
          6,
          5,
          5,
          4,
          6,
          11,
          4,
          18,
          20,
          2,
          16,
          0,
          7,
          15,
          12,
          6,
          3,
          18,
          16,
          16,
          13,
          22,
          4,
          6,
          1,
          5,
          19,
          13,
          30,
          12,
          16,
          10,
          17,
          26,
          19,
          10,
          2,
          12,
          7,
          18,
          11,
          2,
          2,
          10,
          2,
          4,
          8,
          12,
          13,
          2,
          9,
          15,
          14,
          16,
          22,
          7,
          15,
          19,
          4,
          1,
          6,
          7,
          7,
          6,
          16,
          8,
          21,
          10,
          11,
          11,
          3,
          10,
          8,
          4,
          14,
          12,
          19
         ],
         "xaxis": "x",
         "y": [
          11,
          6,
          27,
          3,
          5,
          8,
          13,
          4,
          23,
          22,
          22,
          24,
          4,
          6,
          17,
          16,
          19,
          24,
          18,
          21,
          24,
          1,
          3,
          12,
          14,
          13,
          12,
          18,
          1,
          25,
          1,
          15,
          30,
          5,
          12,
          13,
          10,
          10,
          5,
          23,
          21,
          9,
          14,
          10,
          8,
          12,
          7,
          17,
          23,
          23,
          12,
          12,
          14,
          19,
          7,
          6,
          3,
          6,
          10,
          27,
          16,
          14,
          1,
          13,
          5,
          11,
          17,
          12,
          12,
          14,
          10,
          2,
          6,
          15,
          3,
          26,
          5,
          16,
          11,
          11,
          36,
          6,
          16,
          27,
          7,
          18,
          17,
          4,
          8,
          12,
          8,
          7,
          6,
          14,
          6,
          17,
          7,
          27,
          24,
          7,
          6,
          3,
          18,
          2,
          3,
          20,
          18,
          28,
          11,
          18,
          5,
          6,
          31,
          24,
          10,
          7,
          20,
          20,
          5,
          19,
          22,
          22,
          14,
          4,
          10,
          13,
          3,
          11,
          3,
          2,
          13,
          14,
          1,
          3,
          23,
          8,
          13,
          1,
          7,
          10,
          8,
          12,
          5,
          14,
          22,
          10,
          19,
          5,
          37,
          20,
          6,
          12,
          14,
          12,
          13,
          17,
          12,
          12,
          12,
          31,
          7,
          19,
          12,
          2,
          2,
          28,
          4,
          6,
          5,
          5,
          4,
          6,
          11,
          4,
          18,
          20,
          2,
          16,
          0,
          7,
          15,
          12,
          6,
          3,
          18,
          16,
          16,
          13,
          22,
          4,
          6,
          1,
          5,
          19,
          13,
          30,
          12,
          16,
          10,
          17,
          26,
          19,
          10,
          2,
          12,
          7,
          18,
          11,
          2,
          2,
          10,
          2,
          4,
          8,
          12,
          13,
          2,
          9,
          15,
          14,
          16,
          22,
          7,
          15,
          19,
          4,
          1,
          6,
          7,
          7,
          6,
          16,
          8,
          21,
          10,
          11,
          11,
          3,
          10,
          8,
          4,
          14,
          12,
          19
         ],
         "yaxis": "y"
        },
        {
         "alignmentgroup": "True",
         "bingroup": "x",
         "hoverlabel": {
          "namelength": 0
         },
         "hovertemplate": "ledighed=%{x}<br>count=%{y}",
         "legendgroup": "",
         "marker": {
          "color": "#636efa"
         },
         "name": "",
         "offsetgroup": "",
         "opacity": 0.5,
         "showlegend": false,
         "type": "histogram",
         "x": [
          11,
          6,
          27,
          3,
          5,
          8,
          13,
          4,
          23,
          22,
          22,
          24,
          4,
          6,
          17,
          16,
          19,
          24,
          18,
          21,
          24,
          1,
          3,
          12,
          14,
          13,
          12,
          18,
          1,
          25,
          1,
          15,
          30,
          5,
          12,
          13,
          10,
          10,
          5,
          23,
          21,
          9,
          14,
          10,
          8,
          12,
          7,
          17,
          23,
          23,
          12,
          12,
          14,
          19,
          7,
          6,
          3,
          6,
          10,
          27,
          16,
          14,
          1,
          13,
          5,
          11,
          17,
          12,
          12,
          14,
          10,
          2,
          6,
          15,
          3,
          26,
          5,
          16,
          11,
          11,
          36,
          6,
          16,
          27,
          7,
          18,
          17,
          4,
          8,
          12,
          8,
          7,
          6,
          14,
          6,
          17,
          7,
          27,
          24,
          7,
          6,
          3,
          18,
          2,
          3,
          20,
          18,
          28,
          11,
          18,
          5,
          6,
          31,
          24,
          10,
          7,
          20,
          20,
          5,
          19,
          22,
          22,
          14,
          4,
          10,
          13,
          3,
          11,
          3,
          2,
          13,
          14,
          1,
          3,
          23,
          8,
          13,
          1,
          7,
          10,
          8,
          12,
          5,
          14,
          22,
          10,
          19,
          5,
          37,
          20,
          6,
          12,
          14,
          12,
          13,
          17,
          12,
          12,
          12,
          31,
          7,
          19,
          12,
          2,
          2,
          28,
          4,
          6,
          5,
          5,
          4,
          6,
          11,
          4,
          18,
          20,
          2,
          16,
          0,
          7,
          15,
          12,
          6,
          3,
          18,
          16,
          16,
          13,
          22,
          4,
          6,
          1,
          5,
          19,
          13,
          30,
          12,
          16,
          10,
          17,
          26,
          19,
          10,
          2,
          12,
          7,
          18,
          11,
          2,
          2,
          10,
          2,
          4,
          8,
          12,
          13,
          2,
          9,
          15,
          14,
          16,
          22,
          7,
          15,
          19,
          4,
          1,
          6,
          7,
          7,
          6,
          16,
          8,
          21,
          10,
          11,
          11,
          3,
          10,
          8,
          4,
          14,
          12,
          19
         ],
         "xaxis": "x3",
         "yaxis": "y3"
        },
        {
         "alignmentgroup": "True",
         "bingroup": "y",
         "hoverlabel": {
          "namelength": 0
         },
         "hovertemplate": "ledighed=%{y}<br>count=%{x}",
         "legendgroup": "",
         "marker": {
          "color": "#636efa"
         },
         "name": "",
         "offsetgroup": "",
         "opacity": 0.5,
         "showlegend": false,
         "type": "histogram",
         "xaxis": "x2",
         "y": [
          11,
          6,
          27,
          3,
          5,
          8,
          13,
          4,
          23,
          22,
          22,
          24,
          4,
          6,
          17,
          16,
          19,
          24,
          18,
          21,
          24,
          1,
          3,
          12,
          14,
          13,
          12,
          18,
          1,
          25,
          1,
          15,
          30,
          5,
          12,
          13,
          10,
          10,
          5,
          23,
          21,
          9,
          14,
          10,
          8,
          12,
          7,
          17,
          23,
          23,
          12,
          12,
          14,
          19,
          7,
          6,
          3,
          6,
          10,
          27,
          16,
          14,
          1,
          13,
          5,
          11,
          17,
          12,
          12,
          14,
          10,
          2,
          6,
          15,
          3,
          26,
          5,
          16,
          11,
          11,
          36,
          6,
          16,
          27,
          7,
          18,
          17,
          4,
          8,
          12,
          8,
          7,
          6,
          14,
          6,
          17,
          7,
          27,
          24,
          7,
          6,
          3,
          18,
          2,
          3,
          20,
          18,
          28,
          11,
          18,
          5,
          6,
          31,
          24,
          10,
          7,
          20,
          20,
          5,
          19,
          22,
          22,
          14,
          4,
          10,
          13,
          3,
          11,
          3,
          2,
          13,
          14,
          1,
          3,
          23,
          8,
          13,
          1,
          7,
          10,
          8,
          12,
          5,
          14,
          22,
          10,
          19,
          5,
          37,
          20,
          6,
          12,
          14,
          12,
          13,
          17,
          12,
          12,
          12,
          31,
          7,
          19,
          12,
          2,
          2,
          28,
          4,
          6,
          5,
          5,
          4,
          6,
          11,
          4,
          18,
          20,
          2,
          16,
          0,
          7,
          15,
          12,
          6,
          3,
          18,
          16,
          16,
          13,
          22,
          4,
          6,
          1,
          5,
          19,
          13,
          30,
          12,
          16,
          10,
          17,
          26,
          19,
          10,
          2,
          12,
          7,
          18,
          11,
          2,
          2,
          10,
          2,
          4,
          8,
          12,
          13,
          2,
          9,
          15,
          14,
          16,
          22,
          7,
          15,
          19,
          4,
          1,
          6,
          7,
          7,
          6,
          16,
          8,
          21,
          10,
          11,
          11,
          3,
          10,
          8,
          4,
          14,
          12,
          19
         ],
         "yaxis": "y2"
        },
        {
         "hoverlabel": {
          "namelength": 0
         },
         "hovertemplate": "<b>LOWESS trendline</b><br><br>ledighed=%{y} <b>(trend)</b>",
         "legendgroup": "",
         "marker": {
          "color": "#636efa",
          "symbol": "circle"
         },
         "mode": "lines",
         "name": "",
         "showlegend": false,
         "type": "scatter",
         "x": [
          0,
          1,
          1,
          1,
          1,
          1,
          1,
          1,
          1,
          2,
          2,
          2,
          2,
          2,
          2,
          2,
          2,
          2,
          2,
          2,
          3,
          3,
          3,
          3,
          3,
          3,
          3,
          3,
          3,
          3,
          3,
          4,
          4,
          4,
          4,
          4,
          4,
          4,
          4,
          4,
          4,
          4,
          5,
          5,
          5,
          5,
          5,
          5,
          5,
          5,
          5,
          5,
          5,
          5,
          6,
          6,
          6,
          6,
          6,
          6,
          6,
          6,
          6,
          6,
          6,
          6,
          6,
          6,
          6,
          6,
          6,
          7,
          7,
          7,
          7,
          7,
          7,
          7,
          7,
          7,
          7,
          7,
          7,
          7,
          7,
          8,
          8,
          8,
          8,
          8,
          8,
          8,
          8,
          8,
          9,
          9,
          10,
          10,
          10,
          10,
          10,
          10,
          10,
          10,
          10,
          10,
          10,
          10,
          10,
          10,
          11,
          11,
          11,
          11,
          11,
          11,
          11,
          11,
          11,
          11,
          12,
          12,
          12,
          12,
          12,
          12,
          12,
          12,
          12,
          12,
          12,
          12,
          12,
          12,
          12,
          12,
          12,
          12,
          12,
          12,
          12,
          13,
          13,
          13,
          13,
          13,
          13,
          13,
          13,
          13,
          13,
          13,
          14,
          14,
          14,
          14,
          14,
          14,
          14,
          14,
          14,
          14,
          14,
          14,
          15,
          15,
          15,
          15,
          15,
          16,
          16,
          16,
          16,
          16,
          16,
          16,
          16,
          16,
          16,
          17,
          17,
          17,
          17,
          17,
          17,
          17,
          18,
          18,
          18,
          18,
          18,
          18,
          18,
          18,
          18,
          19,
          19,
          19,
          19,
          19,
          19,
          19,
          19,
          19,
          20,
          20,
          20,
          20,
          20,
          21,
          21,
          21,
          22,
          22,
          22,
          22,
          22,
          22,
          22,
          23,
          23,
          23,
          23,
          23,
          24,
          24,
          24,
          24,
          24,
          25,
          26,
          26,
          27,
          27,
          27,
          27,
          28,
          28,
          30,
          30,
          31,
          31,
          36,
          37
         ],
         "xaxis": "x",
         "y": [
          -2.911473145905674e-14,
          1.0000000000000333,
          1.0000000000000333,
          1.0000000000000333,
          1.0000000000000333,
          1.0000000000000333,
          1.0000000000000333,
          1.0000000000000333,
          1.0000000000000333,
          2.000000000000025,
          2.000000000000025,
          2.000000000000025,
          2.000000000000025,
          2.000000000000025,
          2.000000000000025,
          2.000000000000025,
          2.000000000000025,
          2.000000000000025,
          2.000000000000025,
          2.000000000000025,
          2.9999999999999982,
          2.9999999999999982,
          2.9999999999999982,
          2.9999999999999982,
          2.9999999999999982,
          2.9999999999999982,
          2.9999999999999982,
          2.9999999999999982,
          2.9999999999999982,
          2.9999999999999982,
          2.9999999999999982,
          4.000000000000013,
          4.000000000000013,
          4.000000000000013,
          4.000000000000013,
          4.000000000000013,
          4.000000000000013,
          4.000000000000013,
          4.000000000000013,
          4.000000000000013,
          4.000000000000013,
          4.000000000000013,
          4.999999999999997,
          4.999999999999997,
          4.999999999999997,
          4.999999999999997,
          4.999999999999997,
          4.999999999999997,
          4.999999999999997,
          4.999999999999997,
          4.999999999999997,
          4.999999999999997,
          4.999999999999997,
          4.999999999999997,
          5.999999999999994,
          5.999999999999994,
          5.999999999999994,
          5.999999999999994,
          5.999999999999994,
          5.999999999999994,
          5.999999999999994,
          5.999999999999994,
          5.999999999999994,
          5.999999999999994,
          5.999999999999994,
          5.999999999999994,
          5.999999999999994,
          5.999999999999994,
          5.999999999999994,
          5.999999999999994,
          5.999999999999994,
          7.00000000000001,
          7.00000000000001,
          7.00000000000001,
          7.00000000000001,
          7.00000000000001,
          7.00000000000001,
          7.00000000000001,
          7.00000000000001,
          7.00000000000001,
          7.00000000000001,
          7.00000000000001,
          7.00000000000001,
          7.00000000000001,
          7.00000000000001,
          8.000000000000002,
          8.000000000000002,
          8.000000000000002,
          8.000000000000002,
          8.000000000000002,
          8.000000000000002,
          8.000000000000002,
          8.000000000000002,
          8.000000000000002,
          8.999999999999975,
          8.999999999999975,
          9.999999999999991,
          9.999999999999991,
          9.999999999999991,
          9.999999999999991,
          9.999999999999991,
          9.999999999999991,
          9.999999999999991,
          9.999999999999991,
          9.999999999999991,
          9.999999999999991,
          9.999999999999991,
          9.999999999999991,
          9.999999999999991,
          9.999999999999991,
          11.00000000000001,
          11.00000000000001,
          11.00000000000001,
          11.00000000000001,
          11.00000000000001,
          11.00000000000001,
          11.00000000000001,
          11.00000000000001,
          11.00000000000001,
          11.00000000000001,
          12.000000000000005,
          12.000000000000005,
          12.000000000000005,
          12.000000000000005,
          12.000000000000005,
          12.000000000000005,
          12.000000000000005,
          12.000000000000005,
          12.000000000000005,
          12.000000000000005,
          12.000000000000005,
          12.000000000000005,
          12.000000000000005,
          12.000000000000005,
          12.000000000000005,
          12.000000000000005,
          12.000000000000005,
          12.000000000000005,
          12.000000000000005,
          12.000000000000005,
          12.000000000000005,
          13.000000000000021,
          13.000000000000021,
          13.000000000000021,
          13.000000000000021,
          13.000000000000021,
          13.000000000000021,
          13.000000000000021,
          13.000000000000021,
          13.000000000000021,
          13.000000000000021,
          13.000000000000021,
          14.000000000000012,
          14.000000000000012,
          14.000000000000012,
          14.000000000000012,
          14.000000000000012,
          14.000000000000012,
          14.000000000000012,
          14.000000000000012,
          14.000000000000012,
          14.000000000000012,
          14.000000000000012,
          14.000000000000012,
          14.99999999999995,
          14.99999999999995,
          14.99999999999995,
          14.99999999999995,
          14.99999999999995,
          15.999999999999984,
          15.999999999999984,
          15.999999999999984,
          15.999999999999984,
          15.999999999999984,
          15.999999999999984,
          15.999999999999984,
          15.999999999999984,
          15.999999999999984,
          15.999999999999984,
          16.999999999999975,
          16.999999999999975,
          16.999999999999975,
          16.999999999999975,
          16.999999999999975,
          16.999999999999975,
          16.999999999999975,
          18.00000000000004,
          18.00000000000004,
          18.00000000000004,
          18.00000000000004,
          18.00000000000004,
          18.00000000000004,
          18.00000000000004,
          18.00000000000004,
          18.00000000000004,
          19.000000000000078,
          19.000000000000078,
          19.000000000000078,
          19.000000000000078,
          19.000000000000078,
          19.000000000000078,
          19.000000000000078,
          19.000000000000078,
          19.000000000000078,
          19.99999999999997,
          19.99999999999997,
          19.99999999999997,
          19.99999999999997,
          19.99999999999997,
          21.000000000000025,
          21.000000000000025,
          21.000000000000025,
          21.999999999999982,
          21.999999999999982,
          21.999999999999982,
          21.999999999999982,
          21.999999999999982,
          21.999999999999982,
          21.999999999999982,
          22.999999999999996,
          22.999999999999996,
          22.999999999999996,
          22.999999999999996,
          22.999999999999996,
          23.999999999999975,
          23.999999999999975,
          23.999999999999975,
          23.999999999999975,
          23.999999999999975,
          25.000000000000025,
          26.00000000000005,
          26.00000000000005,
          27.00000000000002,
          27.00000000000002,
          27.00000000000002,
          27.00000000000002,
          28.000000000000014,
          28.000000000000014,
          30.000000000000036,
          30.000000000000036,
          31.00000000000008,
          31.00000000000008,
          36.00000000000008,
          36.99999999999986
         ],
         "yaxis": "y"
        }
       ],
       "layout": {
        "barmode": "overlay",
        "legend": {
         "tracegroupgap": 0
        },
        "shapes": [
         {
          "fillcolor": "LightSkyBlue",
          "layer": "below",
          "line": {
           "width": 0
          },
          "opacity": 0.5,
          "type": "rect",
          "x0": 11.115261697226948,
          "x1": 13.024082565068134,
          "xref": "x",
          "y0": 0,
          "y1": 37,
          "yref": "y"
         },
         {
          "fillcolor": "LightSkyBlue",
          "layer": "below",
          "line": {
           "width": 0
          },
          "opacity": 0.5,
          "type": "rect",
          "x0": 0,
          "x1": 37,
          "xref": "x",
          "y0": 11.115261697226948,
          "y1": 13.024082565068134,
          "yref": "y"
         }
        ],
        "template": {
         "data": {
          "bar": [
           {
            "error_x": {
             "color": "#2a3f5f"
            },
            "error_y": {
             "color": "#2a3f5f"
            },
            "marker": {
             "line": {
              "color": "#E5ECF6",
              "width": 0.5
             }
            },
            "type": "bar"
           }
          ],
          "barpolar": [
           {
            "marker": {
             "line": {
              "color": "#E5ECF6",
              "width": 0.5
             }
            },
            "type": "barpolar"
           }
          ],
          "carpet": [
           {
            "aaxis": {
             "endlinecolor": "#2a3f5f",
             "gridcolor": "white",
             "linecolor": "white",
             "minorgridcolor": "white",
             "startlinecolor": "#2a3f5f"
            },
            "baxis": {
             "endlinecolor": "#2a3f5f",
             "gridcolor": "white",
             "linecolor": "white",
             "minorgridcolor": "white",
             "startlinecolor": "#2a3f5f"
            },
            "type": "carpet"
           }
          ],
          "choropleth": [
           {
            "colorbar": {
             "outlinewidth": 0,
             "ticks": ""
            },
            "type": "choropleth"
           }
          ],
          "contour": [
           {
            "colorbar": {
             "outlinewidth": 0,
             "ticks": ""
            },
            "colorscale": [
             [
              0,
              "#0d0887"
             ],
             [
              0.1111111111111111,
              "#46039f"
             ],
             [
              0.2222222222222222,
              "#7201a8"
             ],
             [
              0.3333333333333333,
              "#9c179e"
             ],
             [
              0.4444444444444444,
              "#bd3786"
             ],
             [
              0.5555555555555556,
              "#d8576b"
             ],
             [
              0.6666666666666666,
              "#ed7953"
             ],
             [
              0.7777777777777778,
              "#fb9f3a"
             ],
             [
              0.8888888888888888,
              "#fdca26"
             ],
             [
              1,
              "#f0f921"
             ]
            ],
            "type": "contour"
           }
          ],
          "contourcarpet": [
           {
            "colorbar": {
             "outlinewidth": 0,
             "ticks": ""
            },
            "type": "contourcarpet"
           }
          ],
          "heatmap": [
           {
            "colorbar": {
             "outlinewidth": 0,
             "ticks": ""
            },
            "colorscale": [
             [
              0,
              "#0d0887"
             ],
             [
              0.1111111111111111,
              "#46039f"
             ],
             [
              0.2222222222222222,
              "#7201a8"
             ],
             [
              0.3333333333333333,
              "#9c179e"
             ],
             [
              0.4444444444444444,
              "#bd3786"
             ],
             [
              0.5555555555555556,
              "#d8576b"
             ],
             [
              0.6666666666666666,
              "#ed7953"
             ],
             [
              0.7777777777777778,
              "#fb9f3a"
             ],
             [
              0.8888888888888888,
              "#fdca26"
             ],
             [
              1,
              "#f0f921"
             ]
            ],
            "type": "heatmap"
           }
          ],
          "heatmapgl": [
           {
            "colorbar": {
             "outlinewidth": 0,
             "ticks": ""
            },
            "colorscale": [
             [
              0,
              "#0d0887"
             ],
             [
              0.1111111111111111,
              "#46039f"
             ],
             [
              0.2222222222222222,
              "#7201a8"
             ],
             [
              0.3333333333333333,
              "#9c179e"
             ],
             [
              0.4444444444444444,
              "#bd3786"
             ],
             [
              0.5555555555555556,
              "#d8576b"
             ],
             [
              0.6666666666666666,
              "#ed7953"
             ],
             [
              0.7777777777777778,
              "#fb9f3a"
             ],
             [
              0.8888888888888888,
              "#fdca26"
             ],
             [
              1,
              "#f0f921"
             ]
            ],
            "type": "heatmapgl"
           }
          ],
          "histogram": [
           {
            "marker": {
             "colorbar": {
              "outlinewidth": 0,
              "ticks": ""
             }
            },
            "type": "histogram"
           }
          ],
          "histogram2d": [
           {
            "colorbar": {
             "outlinewidth": 0,
             "ticks": ""
            },
            "colorscale": [
             [
              0,
              "#0d0887"
             ],
             [
              0.1111111111111111,
              "#46039f"
             ],
             [
              0.2222222222222222,
              "#7201a8"
             ],
             [
              0.3333333333333333,
              "#9c179e"
             ],
             [
              0.4444444444444444,
              "#bd3786"
             ],
             [
              0.5555555555555556,
              "#d8576b"
             ],
             [
              0.6666666666666666,
              "#ed7953"
             ],
             [
              0.7777777777777778,
              "#fb9f3a"
             ],
             [
              0.8888888888888888,
              "#fdca26"
             ],
             [
              1,
              "#f0f921"
             ]
            ],
            "type": "histogram2d"
           }
          ],
          "histogram2dcontour": [
           {
            "colorbar": {
             "outlinewidth": 0,
             "ticks": ""
            },
            "colorscale": [
             [
              0,
              "#0d0887"
             ],
             [
              0.1111111111111111,
              "#46039f"
             ],
             [
              0.2222222222222222,
              "#7201a8"
             ],
             [
              0.3333333333333333,
              "#9c179e"
             ],
             [
              0.4444444444444444,
              "#bd3786"
             ],
             [
              0.5555555555555556,
              "#d8576b"
             ],
             [
              0.6666666666666666,
              "#ed7953"
             ],
             [
              0.7777777777777778,
              "#fb9f3a"
             ],
             [
              0.8888888888888888,
              "#fdca26"
             ],
             [
              1,
              "#f0f921"
             ]
            ],
            "type": "histogram2dcontour"
           }
          ],
          "mesh3d": [
           {
            "colorbar": {
             "outlinewidth": 0,
             "ticks": ""
            },
            "type": "mesh3d"
           }
          ],
          "parcoords": [
           {
            "line": {
             "colorbar": {
              "outlinewidth": 0,
              "ticks": ""
             }
            },
            "type": "parcoords"
           }
          ],
          "pie": [
           {
            "automargin": true,
            "type": "pie"
           }
          ],
          "scatter": [
           {
            "marker": {
             "colorbar": {
              "outlinewidth": 0,
              "ticks": ""
             }
            },
            "type": "scatter"
           }
          ],
          "scatter3d": [
           {
            "line": {
             "colorbar": {
              "outlinewidth": 0,
              "ticks": ""
             }
            },
            "marker": {
             "colorbar": {
              "outlinewidth": 0,
              "ticks": ""
             }
            },
            "type": "scatter3d"
           }
          ],
          "scattercarpet": [
           {
            "marker": {
             "colorbar": {
              "outlinewidth": 0,
              "ticks": ""
             }
            },
            "type": "scattercarpet"
           }
          ],
          "scattergeo": [
           {
            "marker": {
             "colorbar": {
              "outlinewidth": 0,
              "ticks": ""
             }
            },
            "type": "scattergeo"
           }
          ],
          "scattergl": [
           {
            "marker": {
             "colorbar": {
              "outlinewidth": 0,
              "ticks": ""
             }
            },
            "type": "scattergl"
           }
          ],
          "scattermapbox": [
           {
            "marker": {
             "colorbar": {
              "outlinewidth": 0,
              "ticks": ""
             }
            },
            "type": "scattermapbox"
           }
          ],
          "scatterpolar": [
           {
            "marker": {
             "colorbar": {
              "outlinewidth": 0,
              "ticks": ""
             }
            },
            "type": "scatterpolar"
           }
          ],
          "scatterpolargl": [
           {
            "marker": {
             "colorbar": {
              "outlinewidth": 0,
              "ticks": ""
             }
            },
            "type": "scatterpolargl"
           }
          ],
          "scatterternary": [
           {
            "marker": {
             "colorbar": {
              "outlinewidth": 0,
              "ticks": ""
             }
            },
            "type": "scatterternary"
           }
          ],
          "surface": [
           {
            "colorbar": {
             "outlinewidth": 0,
             "ticks": ""
            },
            "colorscale": [
             [
              0,
              "#0d0887"
             ],
             [
              0.1111111111111111,
              "#46039f"
             ],
             [
              0.2222222222222222,
              "#7201a8"
             ],
             [
              0.3333333333333333,
              "#9c179e"
             ],
             [
              0.4444444444444444,
              "#bd3786"
             ],
             [
              0.5555555555555556,
              "#d8576b"
             ],
             [
              0.6666666666666666,
              "#ed7953"
             ],
             [
              0.7777777777777778,
              "#fb9f3a"
             ],
             [
              0.8888888888888888,
              "#fdca26"
             ],
             [
              1,
              "#f0f921"
             ]
            ],
            "type": "surface"
           }
          ],
          "table": [
           {
            "cells": {
             "fill": {
              "color": "#EBF0F8"
             },
             "line": {
              "color": "white"
             }
            },
            "header": {
             "fill": {
              "color": "#C8D4E3"
             },
             "line": {
              "color": "white"
             }
            },
            "type": "table"
           }
          ]
         },
         "layout": {
          "annotationdefaults": {
           "arrowcolor": "#2a3f5f",
           "arrowhead": 0,
           "arrowwidth": 1
          },
          "coloraxis": {
           "colorbar": {
            "outlinewidth": 0,
            "ticks": ""
           }
          },
          "colorscale": {
           "diverging": [
            [
             0,
             "#8e0152"
            ],
            [
             0.1,
             "#c51b7d"
            ],
            [
             0.2,
             "#de77ae"
            ],
            [
             0.3,
             "#f1b6da"
            ],
            [
             0.4,
             "#fde0ef"
            ],
            [
             0.5,
             "#f7f7f7"
            ],
            [
             0.6,
             "#e6f5d0"
            ],
            [
             0.7,
             "#b8e186"
            ],
            [
             0.8,
             "#7fbc41"
            ],
            [
             0.9,
             "#4d9221"
            ],
            [
             1,
             "#276419"
            ]
           ],
           "sequential": [
            [
             0,
             "#0d0887"
            ],
            [
             0.1111111111111111,
             "#46039f"
            ],
            [
             0.2222222222222222,
             "#7201a8"
            ],
            [
             0.3333333333333333,
             "#9c179e"
            ],
            [
             0.4444444444444444,
             "#bd3786"
            ],
            [
             0.5555555555555556,
             "#d8576b"
            ],
            [
             0.6666666666666666,
             "#ed7953"
            ],
            [
             0.7777777777777778,
             "#fb9f3a"
            ],
            [
             0.8888888888888888,
             "#fdca26"
            ],
            [
             1,
             "#f0f921"
            ]
           ],
           "sequentialminus": [
            [
             0,
             "#0d0887"
            ],
            [
             0.1111111111111111,
             "#46039f"
            ],
            [
             0.2222222222222222,
             "#7201a8"
            ],
            [
             0.3333333333333333,
             "#9c179e"
            ],
            [
             0.4444444444444444,
             "#bd3786"
            ],
            [
             0.5555555555555556,
             "#d8576b"
            ],
            [
             0.6666666666666666,
             "#ed7953"
            ],
            [
             0.7777777777777778,
             "#fb9f3a"
            ],
            [
             0.8888888888888888,
             "#fdca26"
            ],
            [
             1,
             "#f0f921"
            ]
           ]
          },
          "colorway": [
           "#636efa",
           "#EF553B",
           "#00cc96",
           "#ab63fa",
           "#FFA15A",
           "#19d3f3",
           "#FF6692",
           "#B6E880",
           "#FF97FF",
           "#FECB52"
          ],
          "font": {
           "color": "#2a3f5f"
          },
          "geo": {
           "bgcolor": "white",
           "lakecolor": "white",
           "landcolor": "#E5ECF6",
           "showlakes": true,
           "showland": true,
           "subunitcolor": "white"
          },
          "hoverlabel": {
           "align": "left"
          },
          "hovermode": "closest",
          "mapbox": {
           "style": "light"
          },
          "paper_bgcolor": "white",
          "plot_bgcolor": "#E5ECF6",
          "polar": {
           "angularaxis": {
            "gridcolor": "white",
            "linecolor": "white",
            "ticks": ""
           },
           "bgcolor": "#E5ECF6",
           "radialaxis": {
            "gridcolor": "white",
            "linecolor": "white",
            "ticks": ""
           }
          },
          "scene": {
           "xaxis": {
            "backgroundcolor": "#E5ECF6",
            "gridcolor": "white",
            "gridwidth": 2,
            "linecolor": "white",
            "showbackground": true,
            "ticks": "",
            "zerolinecolor": "white"
           },
           "yaxis": {
            "backgroundcolor": "#E5ECF6",
            "gridcolor": "white",
            "gridwidth": 2,
            "linecolor": "white",
            "showbackground": true,
            "ticks": "",
            "zerolinecolor": "white"
           },
           "zaxis": {
            "backgroundcolor": "#E5ECF6",
            "gridcolor": "white",
            "gridwidth": 2,
            "linecolor": "white",
            "showbackground": true,
            "ticks": "",
            "zerolinecolor": "white"
           }
          },
          "shapedefaults": {
           "line": {
            "color": "#2a3f5f"
           }
          },
          "ternary": {
           "aaxis": {
            "gridcolor": "white",
            "linecolor": "white",
            "ticks": ""
           },
           "baxis": {
            "gridcolor": "white",
            "linecolor": "white",
            "ticks": ""
           },
           "bgcolor": "#E5ECF6",
           "caxis": {
            "gridcolor": "white",
            "linecolor": "white",
            "ticks": ""
           }
          },
          "title": {
           "x": 0.05
          },
          "xaxis": {
           "automargin": true,
           "gridcolor": "white",
           "linecolor": "white",
           "ticks": "",
           "title": {
            "standoff": 15
           },
           "zerolinecolor": "white",
           "zerolinewidth": 2
          },
          "yaxis": {
           "automargin": true,
           "gridcolor": "white",
           "linecolor": "white",
           "ticks": "",
           "title": {
            "standoff": 15
           },
           "zerolinecolor": "white",
           "zerolinewidth": 2
          }
         }
        },
        "title": {
         "text": "ledighed vs. ledighed"
        },
        "xaxis": {
         "anchor": "y",
         "domain": [
          0,
          0.7363
         ],
         "title": {
          "text": "ledighed"
         }
        },
        "xaxis2": {
         "anchor": "y2",
         "domain": [
          0.7413,
          1
         ],
         "matches": "x2",
         "showgrid": true,
         "showline": false,
         "showticklabels": false,
         "ticks": ""
        },
        "xaxis3": {
         "anchor": "y3",
         "domain": [
          0,
          0.7363
         ],
         "matches": "x",
         "showgrid": true,
         "showticklabels": false
        },
        "xaxis4": {
         "anchor": "y4",
         "domain": [
          0.7413,
          1
         ],
         "matches": "x2",
         "showgrid": true,
         "showline": false,
         "showticklabels": false,
         "ticks": ""
        },
        "yaxis": {
         "anchor": "x",
         "domain": [
          0,
          0.7326
         ],
         "title": {
          "text": "ledighed"
         }
        },
        "yaxis2": {
         "anchor": "x2",
         "domain": [
          0,
          0.7326
         ],
         "matches": "y",
         "showgrid": true,
         "showticklabels": false
        },
        "yaxis3": {
         "anchor": "x3",
         "domain": [
          0.7426,
          1
         ],
         "matches": "y3",
         "showgrid": true,
         "showline": false,
         "showticklabels": false,
         "ticks": ""
        },
        "yaxis4": {
         "anchor": "x4",
         "domain": [
          0.7426,
          1
         ],
         "matches": "y3",
         "showgrid": true,
         "showline": false,
         "showticklabels": false,
         "ticks": ""
        }
       }
      },
      "text/html": [
       "<div>\n",
       "        \n",
       "        \n",
       "            <div id=\"5def8a41-ab59-4651-a98e-a8f135b75ac1\" class=\"plotly-graph-div\" style=\"height:525px; width:100%;\"></div>\n",
       "            <script type=\"text/javascript\">\n",
       "                require([\"plotly\"], function(Plotly) {\n",
       "                    window.PLOTLYENV=window.PLOTLYENV || {};\n",
       "                    \n",
       "                if (document.getElementById(\"5def8a41-ab59-4651-a98e-a8f135b75ac1\")) {\n",
       "                    Plotly.newPlot(\n",
       "                        '5def8a41-ab59-4651-a98e-a8f135b75ac1',\n",
       "                        [{\"customdata\": [[\"Arkitekt\"], [\"Veterin\\u00e6rmedicin\"], [\"Designledelse\"], [\"Odontologi\"], [\"Jura\"], [\"Farmaci\"], [\"Lyd- og musikteknologi\"], [\"Farmaceutisk videnskab\"], [\"Tv\\u00e6rkulturelle studier\"], [\"Amerikanske studier\"], [\"Engelsk\"], [\"Medialogy\"], [\"Medicin og teknologi\"], [\"Humanbiologi\"], [\"Molecular Biology\"], [\"Musikvidenskab\"], [\"Informationsvidenskab og kulturformidling\"], [\"Human ern\\u00e6ring\"], [\"Erhvervssprog og international virksomhedskommunikation\"], [\"Industrielt design\"], [\"Religionsvidenskab\"], [\"Sundhedsteknologi\"], [\"Radiograf\"], [\"Bioteknologi\"], [\"Biologi-bioteknologi\"], [\"Landskabsarkitektur\"], [\"Corporate Communication\"], [\"Biokemi\"], [\"Byggeri\"], [\"Moderne kultur og kulturformidling\"], [\"Sygeplejerske\"], [\"Uddannelsesvidenskab\"], [\"Filosofi\"], [\"Bioinformatik\"], [\"Digital design og interaktive teknologier\"], [\"Astronomi\"], [\"Milj\\u00f8videnskab\"], [\"Global udvikling\"], [\"Samfundsvidenskabelig jura\"], [\"Fransk sprog, litteratur og kultur\"], [\"Tekstildesign, -h\\u00e5ndv\\u00e6rk og formidling\"], [\"Erhvervs\\u00f8konomi og virksomhedskommunikation\"], [\"Bygningsdesign\"], [\"F\\u00f8devareteknologi\"], [\"Audiologi\"], [\"Cultural Sociology\"], [\"Mechatronics Engineering\"], [\"Medicine with Industrial Specialisation\"], [\"Antropologi\"], [\"Biologi\"], [\"Anvendt kemi\"], [\"It-ledelse\"], [\"Molekyl\\u00e6r ern\\u00e6ring og f\\u00f8devareteknologi\"], [\"Film- og medievidenskab\"], [\"Erhvervs\\u00f8konomi og psykologi\"], [\"It, kommunikation og organisation\"], [\"Datalogi\"], [\"Fysik\"], [\"Olie- og gasteknologi\"], [\"Kultur, kommunikation og globalisering\"], [\"Dansk\"], [\"Erhvervs\\u00f8konomi - erhvervssprog, negot.\"], [\"Medicin\"], [\"Webudvikling\"], [\"Fysik og nanoteknologi\"], [\"Agronomi\"], [\"P\\u00e6dagogisk filosofi\"], [\"P\\u00e6dagogisk psykologi\"], [\"Husdyrvidenskab\"], [\"P\\u00e6dagogik\"], [\"Socialt arbejde\"], [\"\\u00d8konomi\"], [\"Erhvervs\\u00f8konomi og erhvervsjura\"], [\"It-design og applikationsudvikling\"], [\"Matematik-\\u00f8konomi\"], [\"Historie\"], [\"Bioanalytiker\"], [\"Design og business\"], [\"Forvaltning\"], [\"Kemi og bioteknologi\"], [\"Kultur og formidling\"], [\"Socialr\\u00e5dgiver\"], [\"Tysk\"], [\"Litteraturvidenskab\"], [\"Erhvervs\\u00f8konomi, cand.soc.\"], [\"Teologi\"], [\"Geologi\"], [\"Diplomingeni\\u00f8r - bygningsdesign\"], [\"Tandplejer\"], [\"It-didaktisk design\"], [\"Bioinformatik og systembiologi\"], [\"Jordbrugs\\u00f8konomi\"], [\"Fysioterapeut\"], [\"Samfundsfag\"], [\"Statskundskab\"], [\"Sociologi\"], [\"Erhvervs\\u00f8konomi, cand.merc.\"], [\"Designer\"], [\"Dramaturgi\"], [\"Teknologibaseret forretningsudvikling\"], [\"Mechanical Engineering\"], [\"Softwaredesign\"], [\"Agro-Environmental Management\"], [\"Transport og logistik\"], [\"Matematik\"], [\"Sundhedsfremme og sundhedsstrategier\"], [\"Kriminologi\"], [\"Socialvidenskab\"], [\"Ern\\u00e6ring og sundhed\"], [\"Kemi (civilingeni\\u00f8r)\"], [\"Diplomingeni\\u00f8r - softwareteknologi\"], [\"Digital innovation og management\"], [\"Kunsthistorie\"], [\"Digital design\"], [\"Psykologi\"], [\"Sundhedsfaglig kandidat\"], [\"Psykomotorisk terapeut\"], [\"Medievidenskab\"], [\"Ergoterapi\"], [\"Erhvervs\\u00f8konomi og filosofi\"], [\"Spansk sprog og kultur\"], [\"Mellem\\u00f8ststudier\"], [\"Molekyl\\u00e6r medicin\"], [\"Diplomingeni\\u00f8r - bygning\"], [\"Humanistisk-samfundsvidenskabelig idr\\u00e6tsvidenskab\"], [\"Informationsvidenskab\"], [\"Software\"], [\"Folkesundhedsvidenskab\"], [\"Diplomingeni\\u00f8r - elektrisk energiteknologi\"], [\"Audiologop\\u00e6di\"], [\"P\\u00e6dagogisk sociologi\"], [\"Nanoscience\"], [\"Klinisk sygepleje\"], [\"Sygepleje\"], [\"Anvendt kulturanalyse\"], [\"F\\u00f8devarevidenskab\"], [\"Geografi\"], [\"Optometrist\"], [\"Bygningskonstrukt\\u00f8r\"], [\"Ergoterapeut\"], [\"P\\u00e6dagog\"], [\"Arbejdslivsstudier\"], [\"Fysioterapi\"], [\"Have- og parkingeni\\u00f8r\"], [\"Kommunikation\"], [\"Klinisk ern\\u00e6ring\"], [\"Tourism\"], [\"Digitale medieteknologier\"], [\"Interaktive digitale medier\"], [\"International sikkerhed og folkeret\"], [\"Design og innovation\"], [\"Politisk kommunikation og ledelse\"], [\"Lingvistik\"], [\"Humanfysiologi\"], [\"Laboratorie- og f\\u00f8devareteknologi\"], [\"Medicinalkemi\"], [\"Journalistik\"], [\"Spil\"], [\"Offentlig administration\"], [\"\\u00c6stetik og kultur\"], [\"Softwareudvikling\"], [\"IT Product Design\"], [\"Kemi\"], [\"Revisorkandidat, cand.merc.aud.\"], [\"Jordemoder\"], [\"Oplevelses\\u00f8konomi\"], [\"Vision, Graphics and Interactive Systems\"], [\"Kemisk og biokemisk teknologi\"], [\"Energy Engineering\"], [\"Diplomingeni\\u00f8r - maskinteknik\"], [\"Industriel \\u00f8konomi og teknologiledelse\"], [\"Materiale- og procesteknologi\"], [\"Milj\\u00f8teknologi\"], [\"Byggeteknologi\"], [\"Geofysik\"], [\"Digital konceptudvikling\"], [\"Statistik\"], [\"Webkommunikation\"], [\"Informationsteknologi\"], [\"Farmateknologi\"], [\"Multimediedesigner\"], [\"International handel og markedsf\\u00f8ring\"], [\"Business Administration and Information Systems\"], [\"Maskinmester\"], [\"Politik og administration\"], [\"B\\u00e6redygtigt design\"], [\"Virksomhedsledelse\"], [\"Didaktik\"], [\"Energiteknologi\"], [\"Elektroteknologi\"], [\"L\\u00e6rer i folkeskolen\"], [\"Mekanik\"], [\"Diplomingeni\\u00f8r - elektronik\"], [\"L\\u00e6ring og forandringsprocesser\"], [\"International Hospitality Management\"], [\"Anvendt filosofi\"], [\"Diplomingeni\\u00f8r - eksport og teknologi\"], [\"Jordbrug\"], [\"Financial Controller\"], [\"P\\u00e6dagogisk antropologi\"], [\"Europastudier\"], [\"Administrations\\u00f8konom\"], [\"International Public Administration and Politics\"], [\"Matematisk modellering og computing\"], [\"Designteknolog\"], [\"Laborant\"], [\"Retorik\"], [\"IT-teknolog\"], [\"Konstruktion og mekanik\"], [\"Water and Environment Engineering\"], [\"Datamatiker\"], [\"Elinstallat\\u00f8r\"], [\"Finans\"], [\"Markedsf\\u00f8rings\\u00f8konom\"], [\"B\\u00e6redygtig energi\"], [\"Procesteknolog\"], [\"Lyd og akustisk teknologi\"], [\"Service\\u00f8konom\"], [\"Produktudvikling og teknisk integration\"], [\"Medieproduktion og ledelse\"], [\"It, l\\u00e6ring og organisatorisk omstilling\"], [\"Milj\\u00f8teknolog\"], [\"Innovation and Business\"], [\"Idr\\u00e6t\"], [\"Grafisk kommunikation\"], [\"\\u00d8konomi og informationsteknologi\"], [\"Veje og trafik\"], [\"Ledelse og informatik i byggeriet\"], [\"Logistik\\u00f8konom\"], [\"Diakoni og socialp\\u00e6dagogik\"], [\"Finans\\u00f8konom\"], [\"Visuel kommunikation\"], [\"Handels\\u00f8konom\"], [\"Multiplatform storytelling and production\"], [\"Jordbrugsteknolog\"], [\"Journalist\"], [\"Geofysik og rumteknologi\"], [\"Automationsteknolog\"], [\"Produktionsteknolog\"], [\"Kommunikation\"], [\"Landinspekt\\u00f8rvidenskab\"], [\"Tv- og medietilrettel\\u00e6ggelse\"], [\"Energiteknolog\"], [\"L\\u00e6rer fra Den frie L\\u00e6rerskole\"]], \"hoverlabel\": {\"namelength\": 0}, \"hovertemplate\": \"ledighed=%{y}<br>Titel=%{customdata[0]}\", \"legendgroup\": \"\", \"marker\": {\"color\": \"#636efa\", \"symbol\": \"circle\"}, \"mode\": \"markers\", \"name\": \"\", \"showlegend\": false, \"type\": \"scatter\", \"x\": [11.0, 6.0, 27.0, 3.0, 5.0, 8.0, 13.0, 4.0, 23.0, 22.0, 22.0, 24.0, 4.0, 6.0, 17.0, 16.0, 19.0, 24.0, 18.0, 21.0, 24.0, 1.0, 3.0, 12.0, 14.0, 13.0, 12.0, 18.0, 1.0, 25.0, 1.0, 15.0, 30.0, 5.0, 12.0, 13.0, 10.0, 10.0, 5.0, 23.0, 21.0, 9.0, 14.0, 10.0, 8.0, 12.0, 7.0, 17.0, 23.0, 23.0, 12.0, 12.0, 14.0, 19.0, 7.0, 6.0, 3.0, 6.0, 10.0, 27.0, 16.0, 14.0, 1.0, 13.0, 5.0, 11.0, 17.0, 12.0, 12.0, 14.0, 10.0, 2.0, 6.0, 15.0, 3.0, 26.0, 5.0, 16.0, 11.0, 11.0, 36.0, 6.0, 16.0, 27.0, 7.0, 18.0, 17.0, 4.0, 8.0, 12.0, 8.0, 7.0, 6.0, 14.0, 6.0, 17.0, 7.0, 27.0, 24.0, 7.0, 6.0, 3.0, 18.0, 2.0, 3.0, 20.0, 18.0, 28.0, 11.0, 18.0, 5.0, 6.0, 31.0, 24.0, 10.0, 7.0, 20.0, 20.0, 5.0, 19.0, 22.0, 22.0, 14.0, 4.0, 10.0, 13.0, 3.0, 11.0, 3.0, 2.0, 13.0, 14.0, 1.0, 3.0, 23.0, 8.0, 13.0, 1.0, 7.0, 10.0, 8.0, 12.0, 5.0, 14.0, 22.0, 10.0, 19.0, 5.0, 37.0, 20.0, 6.0, 12.0, 14.0, 12.0, 13.0, 17.0, 12.0, 12.0, 12.0, 31.0, 7.0, 19.0, 12.0, 2.0, 2.0, 28.0, 4.0, 6.0, 5.0, 5.0, 4.0, 6.0, 11.0, 4.0, 18.0, 20.0, 2.0, 16.0, 0.0, 7.0, 15.0, 12.0, 6.0, 3.0, 18.0, 16.0, 16.0, 13.0, 22.0, 4.0, 6.0, 1.0, 5.0, 19.0, 13.0, 30.0, 12.0, 16.0, 10.0, 17.0, 26.0, 19.0, 10.0, 2.0, 12.0, 7.0, 18.0, 11.0, 2.0, 2.0, 10.0, 2.0, 4.0, 8.0, 12.0, 13.0, 2.0, 9.0, 15.0, 14.0, 16.0, 22.0, 7.0, 15.0, 19.0, 4.0, 1.0, 6.0, 7.0, 7.0, 6.0, 16.0, 8.0, 21.0, 10.0, 11.0, 11.0, 3.0, 10.0, 8.0, 4.0, 14.0, 12.0, 19.0], \"xaxis\": \"x\", \"y\": [11.0, 6.0, 27.0, 3.0, 5.0, 8.0, 13.0, 4.0, 23.0, 22.0, 22.0, 24.0, 4.0, 6.0, 17.0, 16.0, 19.0, 24.0, 18.0, 21.0, 24.0, 1.0, 3.0, 12.0, 14.0, 13.0, 12.0, 18.0, 1.0, 25.0, 1.0, 15.0, 30.0, 5.0, 12.0, 13.0, 10.0, 10.0, 5.0, 23.0, 21.0, 9.0, 14.0, 10.0, 8.0, 12.0, 7.0, 17.0, 23.0, 23.0, 12.0, 12.0, 14.0, 19.0, 7.0, 6.0, 3.0, 6.0, 10.0, 27.0, 16.0, 14.0, 1.0, 13.0, 5.0, 11.0, 17.0, 12.0, 12.0, 14.0, 10.0, 2.0, 6.0, 15.0, 3.0, 26.0, 5.0, 16.0, 11.0, 11.0, 36.0, 6.0, 16.0, 27.0, 7.0, 18.0, 17.0, 4.0, 8.0, 12.0, 8.0, 7.0, 6.0, 14.0, 6.0, 17.0, 7.0, 27.0, 24.0, 7.0, 6.0, 3.0, 18.0, 2.0, 3.0, 20.0, 18.0, 28.0, 11.0, 18.0, 5.0, 6.0, 31.0, 24.0, 10.0, 7.0, 20.0, 20.0, 5.0, 19.0, 22.0, 22.0, 14.0, 4.0, 10.0, 13.0, 3.0, 11.0, 3.0, 2.0, 13.0, 14.0, 1.0, 3.0, 23.0, 8.0, 13.0, 1.0, 7.0, 10.0, 8.0, 12.0, 5.0, 14.0, 22.0, 10.0, 19.0, 5.0, 37.0, 20.0, 6.0, 12.0, 14.0, 12.0, 13.0, 17.0, 12.0, 12.0, 12.0, 31.0, 7.0, 19.0, 12.0, 2.0, 2.0, 28.0, 4.0, 6.0, 5.0, 5.0, 4.0, 6.0, 11.0, 4.0, 18.0, 20.0, 2.0, 16.0, 0.0, 7.0, 15.0, 12.0, 6.0, 3.0, 18.0, 16.0, 16.0, 13.0, 22.0, 4.0, 6.0, 1.0, 5.0, 19.0, 13.0, 30.0, 12.0, 16.0, 10.0, 17.0, 26.0, 19.0, 10.0, 2.0, 12.0, 7.0, 18.0, 11.0, 2.0, 2.0, 10.0, 2.0, 4.0, 8.0, 12.0, 13.0, 2.0, 9.0, 15.0, 14.0, 16.0, 22.0, 7.0, 15.0, 19.0, 4.0, 1.0, 6.0, 7.0, 7.0, 6.0, 16.0, 8.0, 21.0, 10.0, 11.0, 11.0, 3.0, 10.0, 8.0, 4.0, 14.0, 12.0, 19.0], \"yaxis\": \"y\"}, {\"alignmentgroup\": \"True\", \"bingroup\": \"x\", \"hoverlabel\": {\"namelength\": 0}, \"hovertemplate\": \"ledighed=%{x}<br>count=%{y}\", \"legendgroup\": \"\", \"marker\": {\"color\": \"#636efa\"}, \"name\": \"\", \"offsetgroup\": \"\", \"opacity\": 0.5, \"showlegend\": false, \"type\": \"histogram\", \"x\": [11.0, 6.0, 27.0, 3.0, 5.0, 8.0, 13.0, 4.0, 23.0, 22.0, 22.0, 24.0, 4.0, 6.0, 17.0, 16.0, 19.0, 24.0, 18.0, 21.0, 24.0, 1.0, 3.0, 12.0, 14.0, 13.0, 12.0, 18.0, 1.0, 25.0, 1.0, 15.0, 30.0, 5.0, 12.0, 13.0, 10.0, 10.0, 5.0, 23.0, 21.0, 9.0, 14.0, 10.0, 8.0, 12.0, 7.0, 17.0, 23.0, 23.0, 12.0, 12.0, 14.0, 19.0, 7.0, 6.0, 3.0, 6.0, 10.0, 27.0, 16.0, 14.0, 1.0, 13.0, 5.0, 11.0, 17.0, 12.0, 12.0, 14.0, 10.0, 2.0, 6.0, 15.0, 3.0, 26.0, 5.0, 16.0, 11.0, 11.0, 36.0, 6.0, 16.0, 27.0, 7.0, 18.0, 17.0, 4.0, 8.0, 12.0, 8.0, 7.0, 6.0, 14.0, 6.0, 17.0, 7.0, 27.0, 24.0, 7.0, 6.0, 3.0, 18.0, 2.0, 3.0, 20.0, 18.0, 28.0, 11.0, 18.0, 5.0, 6.0, 31.0, 24.0, 10.0, 7.0, 20.0, 20.0, 5.0, 19.0, 22.0, 22.0, 14.0, 4.0, 10.0, 13.0, 3.0, 11.0, 3.0, 2.0, 13.0, 14.0, 1.0, 3.0, 23.0, 8.0, 13.0, 1.0, 7.0, 10.0, 8.0, 12.0, 5.0, 14.0, 22.0, 10.0, 19.0, 5.0, 37.0, 20.0, 6.0, 12.0, 14.0, 12.0, 13.0, 17.0, 12.0, 12.0, 12.0, 31.0, 7.0, 19.0, 12.0, 2.0, 2.0, 28.0, 4.0, 6.0, 5.0, 5.0, 4.0, 6.0, 11.0, 4.0, 18.0, 20.0, 2.0, 16.0, 0.0, 7.0, 15.0, 12.0, 6.0, 3.0, 18.0, 16.0, 16.0, 13.0, 22.0, 4.0, 6.0, 1.0, 5.0, 19.0, 13.0, 30.0, 12.0, 16.0, 10.0, 17.0, 26.0, 19.0, 10.0, 2.0, 12.0, 7.0, 18.0, 11.0, 2.0, 2.0, 10.0, 2.0, 4.0, 8.0, 12.0, 13.0, 2.0, 9.0, 15.0, 14.0, 16.0, 22.0, 7.0, 15.0, 19.0, 4.0, 1.0, 6.0, 7.0, 7.0, 6.0, 16.0, 8.0, 21.0, 10.0, 11.0, 11.0, 3.0, 10.0, 8.0, 4.0, 14.0, 12.0, 19.0], \"xaxis\": \"x3\", \"yaxis\": \"y3\"}, {\"alignmentgroup\": \"True\", \"bingroup\": \"y\", \"hoverlabel\": {\"namelength\": 0}, \"hovertemplate\": \"ledighed=%{y}<br>count=%{x}\", \"legendgroup\": \"\", \"marker\": {\"color\": \"#636efa\"}, \"name\": \"\", \"offsetgroup\": \"\", \"opacity\": 0.5, \"showlegend\": false, \"type\": \"histogram\", \"xaxis\": \"x2\", \"y\": [11.0, 6.0, 27.0, 3.0, 5.0, 8.0, 13.0, 4.0, 23.0, 22.0, 22.0, 24.0, 4.0, 6.0, 17.0, 16.0, 19.0, 24.0, 18.0, 21.0, 24.0, 1.0, 3.0, 12.0, 14.0, 13.0, 12.0, 18.0, 1.0, 25.0, 1.0, 15.0, 30.0, 5.0, 12.0, 13.0, 10.0, 10.0, 5.0, 23.0, 21.0, 9.0, 14.0, 10.0, 8.0, 12.0, 7.0, 17.0, 23.0, 23.0, 12.0, 12.0, 14.0, 19.0, 7.0, 6.0, 3.0, 6.0, 10.0, 27.0, 16.0, 14.0, 1.0, 13.0, 5.0, 11.0, 17.0, 12.0, 12.0, 14.0, 10.0, 2.0, 6.0, 15.0, 3.0, 26.0, 5.0, 16.0, 11.0, 11.0, 36.0, 6.0, 16.0, 27.0, 7.0, 18.0, 17.0, 4.0, 8.0, 12.0, 8.0, 7.0, 6.0, 14.0, 6.0, 17.0, 7.0, 27.0, 24.0, 7.0, 6.0, 3.0, 18.0, 2.0, 3.0, 20.0, 18.0, 28.0, 11.0, 18.0, 5.0, 6.0, 31.0, 24.0, 10.0, 7.0, 20.0, 20.0, 5.0, 19.0, 22.0, 22.0, 14.0, 4.0, 10.0, 13.0, 3.0, 11.0, 3.0, 2.0, 13.0, 14.0, 1.0, 3.0, 23.0, 8.0, 13.0, 1.0, 7.0, 10.0, 8.0, 12.0, 5.0, 14.0, 22.0, 10.0, 19.0, 5.0, 37.0, 20.0, 6.0, 12.0, 14.0, 12.0, 13.0, 17.0, 12.0, 12.0, 12.0, 31.0, 7.0, 19.0, 12.0, 2.0, 2.0, 28.0, 4.0, 6.0, 5.0, 5.0, 4.0, 6.0, 11.0, 4.0, 18.0, 20.0, 2.0, 16.0, 0.0, 7.0, 15.0, 12.0, 6.0, 3.0, 18.0, 16.0, 16.0, 13.0, 22.0, 4.0, 6.0, 1.0, 5.0, 19.0, 13.0, 30.0, 12.0, 16.0, 10.0, 17.0, 26.0, 19.0, 10.0, 2.0, 12.0, 7.0, 18.0, 11.0, 2.0, 2.0, 10.0, 2.0, 4.0, 8.0, 12.0, 13.0, 2.0, 9.0, 15.0, 14.0, 16.0, 22.0, 7.0, 15.0, 19.0, 4.0, 1.0, 6.0, 7.0, 7.0, 6.0, 16.0, 8.0, 21.0, 10.0, 11.0, 11.0, 3.0, 10.0, 8.0, 4.0, 14.0, 12.0, 19.0], \"yaxis\": \"y2\"}, {\"hoverlabel\": {\"namelength\": 0}, \"hovertemplate\": \"<b>LOWESS trendline</b><br><br>ledighed=%{y} <b>(trend)</b>\", \"legendgroup\": \"\", \"marker\": {\"color\": \"#636efa\", \"symbol\": \"circle\"}, \"mode\": \"lines\", \"name\": \"\", \"showlegend\": false, \"type\": \"scatter\", \"x\": [0.0, 1.0, 1.0, 1.0, 1.0, 1.0, 1.0, 1.0, 1.0, 2.0, 2.0, 2.0, 2.0, 2.0, 2.0, 2.0, 2.0, 2.0, 2.0, 2.0, 3.0, 3.0, 3.0, 3.0, 3.0, 3.0, 3.0, 3.0, 3.0, 3.0, 3.0, 4.0, 4.0, 4.0, 4.0, 4.0, 4.0, 4.0, 4.0, 4.0, 4.0, 4.0, 5.0, 5.0, 5.0, 5.0, 5.0, 5.0, 5.0, 5.0, 5.0, 5.0, 5.0, 5.0, 6.0, 6.0, 6.0, 6.0, 6.0, 6.0, 6.0, 6.0, 6.0, 6.0, 6.0, 6.0, 6.0, 6.0, 6.0, 6.0, 6.0, 7.0, 7.0, 7.0, 7.0, 7.0, 7.0, 7.0, 7.0, 7.0, 7.0, 7.0, 7.0, 7.0, 7.0, 8.0, 8.0, 8.0, 8.0, 8.0, 8.0, 8.0, 8.0, 8.0, 9.0, 9.0, 10.0, 10.0, 10.0, 10.0, 10.0, 10.0, 10.0, 10.0, 10.0, 10.0, 10.0, 10.0, 10.0, 10.0, 11.0, 11.0, 11.0, 11.0, 11.0, 11.0, 11.0, 11.0, 11.0, 11.0, 12.0, 12.0, 12.0, 12.0, 12.0, 12.0, 12.0, 12.0, 12.0, 12.0, 12.0, 12.0, 12.0, 12.0, 12.0, 12.0, 12.0, 12.0, 12.0, 12.0, 12.0, 13.0, 13.0, 13.0, 13.0, 13.0, 13.0, 13.0, 13.0, 13.0, 13.0, 13.0, 14.0, 14.0, 14.0, 14.0, 14.0, 14.0, 14.0, 14.0, 14.0, 14.0, 14.0, 14.0, 15.0, 15.0, 15.0, 15.0, 15.0, 16.0, 16.0, 16.0, 16.0, 16.0, 16.0, 16.0, 16.0, 16.0, 16.0, 17.0, 17.0, 17.0, 17.0, 17.0, 17.0, 17.0, 18.0, 18.0, 18.0, 18.0, 18.0, 18.0, 18.0, 18.0, 18.0, 19.0, 19.0, 19.0, 19.0, 19.0, 19.0, 19.0, 19.0, 19.0, 20.0, 20.0, 20.0, 20.0, 20.0, 21.0, 21.0, 21.0, 22.0, 22.0, 22.0, 22.0, 22.0, 22.0, 22.0, 23.0, 23.0, 23.0, 23.0, 23.0, 24.0, 24.0, 24.0, 24.0, 24.0, 25.0, 26.0, 26.0, 27.0, 27.0, 27.0, 27.0, 28.0, 28.0, 30.0, 30.0, 31.0, 31.0, 36.0, 37.0], \"xaxis\": \"x\", \"y\": [-2.911473145905674e-14, 1.0000000000000333, 1.0000000000000333, 1.0000000000000333, 1.0000000000000333, 1.0000000000000333, 1.0000000000000333, 1.0000000000000333, 1.0000000000000333, 2.000000000000025, 2.000000000000025, 2.000000000000025, 2.000000000000025, 2.000000000000025, 2.000000000000025, 2.000000000000025, 2.000000000000025, 2.000000000000025, 2.000000000000025, 2.000000000000025, 2.9999999999999982, 2.9999999999999982, 2.9999999999999982, 2.9999999999999982, 2.9999999999999982, 2.9999999999999982, 2.9999999999999982, 2.9999999999999982, 2.9999999999999982, 2.9999999999999982, 2.9999999999999982, 4.000000000000013, 4.000000000000013, 4.000000000000013, 4.000000000000013, 4.000000000000013, 4.000000000000013, 4.000000000000013, 4.000000000000013, 4.000000000000013, 4.000000000000013, 4.000000000000013, 4.999999999999997, 4.999999999999997, 4.999999999999997, 4.999999999999997, 4.999999999999997, 4.999999999999997, 4.999999999999997, 4.999999999999997, 4.999999999999997, 4.999999999999997, 4.999999999999997, 4.999999999999997, 5.999999999999994, 5.999999999999994, 5.999999999999994, 5.999999999999994, 5.999999999999994, 5.999999999999994, 5.999999999999994, 5.999999999999994, 5.999999999999994, 5.999999999999994, 5.999999999999994, 5.999999999999994, 5.999999999999994, 5.999999999999994, 5.999999999999994, 5.999999999999994, 5.999999999999994, 7.00000000000001, 7.00000000000001, 7.00000000000001, 7.00000000000001, 7.00000000000001, 7.00000000000001, 7.00000000000001, 7.00000000000001, 7.00000000000001, 7.00000000000001, 7.00000000000001, 7.00000000000001, 7.00000000000001, 7.00000000000001, 8.000000000000002, 8.000000000000002, 8.000000000000002, 8.000000000000002, 8.000000000000002, 8.000000000000002, 8.000000000000002, 8.000000000000002, 8.000000000000002, 8.999999999999975, 8.999999999999975, 9.999999999999991, 9.999999999999991, 9.999999999999991, 9.999999999999991, 9.999999999999991, 9.999999999999991, 9.999999999999991, 9.999999999999991, 9.999999999999991, 9.999999999999991, 9.999999999999991, 9.999999999999991, 9.999999999999991, 9.999999999999991, 11.00000000000001, 11.00000000000001, 11.00000000000001, 11.00000000000001, 11.00000000000001, 11.00000000000001, 11.00000000000001, 11.00000000000001, 11.00000000000001, 11.00000000000001, 12.000000000000005, 12.000000000000005, 12.000000000000005, 12.000000000000005, 12.000000000000005, 12.000000000000005, 12.000000000000005, 12.000000000000005, 12.000000000000005, 12.000000000000005, 12.000000000000005, 12.000000000000005, 12.000000000000005, 12.000000000000005, 12.000000000000005, 12.000000000000005, 12.000000000000005, 12.000000000000005, 12.000000000000005, 12.000000000000005, 12.000000000000005, 13.000000000000021, 13.000000000000021, 13.000000000000021, 13.000000000000021, 13.000000000000021, 13.000000000000021, 13.000000000000021, 13.000000000000021, 13.000000000000021, 13.000000000000021, 13.000000000000021, 14.000000000000012, 14.000000000000012, 14.000000000000012, 14.000000000000012, 14.000000000000012, 14.000000000000012, 14.000000000000012, 14.000000000000012, 14.000000000000012, 14.000000000000012, 14.000000000000012, 14.000000000000012, 14.99999999999995, 14.99999999999995, 14.99999999999995, 14.99999999999995, 14.99999999999995, 15.999999999999984, 15.999999999999984, 15.999999999999984, 15.999999999999984, 15.999999999999984, 15.999999999999984, 15.999999999999984, 15.999999999999984, 15.999999999999984, 15.999999999999984, 16.999999999999975, 16.999999999999975, 16.999999999999975, 16.999999999999975, 16.999999999999975, 16.999999999999975, 16.999999999999975, 18.00000000000004, 18.00000000000004, 18.00000000000004, 18.00000000000004, 18.00000000000004, 18.00000000000004, 18.00000000000004, 18.00000000000004, 18.00000000000004, 19.000000000000078, 19.000000000000078, 19.000000000000078, 19.000000000000078, 19.000000000000078, 19.000000000000078, 19.000000000000078, 19.000000000000078, 19.000000000000078, 19.99999999999997, 19.99999999999997, 19.99999999999997, 19.99999999999997, 19.99999999999997, 21.000000000000025, 21.000000000000025, 21.000000000000025, 21.999999999999982, 21.999999999999982, 21.999999999999982, 21.999999999999982, 21.999999999999982, 21.999999999999982, 21.999999999999982, 22.999999999999996, 22.999999999999996, 22.999999999999996, 22.999999999999996, 22.999999999999996, 23.999999999999975, 23.999999999999975, 23.999999999999975, 23.999999999999975, 23.999999999999975, 25.000000000000025, 26.00000000000005, 26.00000000000005, 27.00000000000002, 27.00000000000002, 27.00000000000002, 27.00000000000002, 28.000000000000014, 28.000000000000014, 30.000000000000036, 30.000000000000036, 31.00000000000008, 31.00000000000008, 36.00000000000008, 36.99999999999986], \"yaxis\": \"y\"}],\n",
       "                        {\"barmode\": \"overlay\", \"legend\": {\"tracegroupgap\": 0}, \"shapes\": [{\"fillcolor\": \"LightSkyBlue\", \"layer\": \"below\", \"line\": {\"width\": 0}, \"opacity\": 0.5, \"type\": \"rect\", \"x0\": 11.115261697226948, \"x1\": 13.024082565068134, \"xref\": \"x\", \"y0\": 0.0, \"y1\": 37.0, \"yref\": \"y\"}, {\"fillcolor\": \"LightSkyBlue\", \"layer\": \"below\", \"line\": {\"width\": 0}, \"opacity\": 0.5, \"type\": \"rect\", \"x0\": 0.0, \"x1\": 37.0, \"xref\": \"x\", \"y0\": 11.115261697226948, \"y1\": 13.024082565068134, \"yref\": \"y\"}], \"template\": {\"data\": {\"bar\": [{\"error_x\": {\"color\": \"#2a3f5f\"}, \"error_y\": {\"color\": \"#2a3f5f\"}, \"marker\": {\"line\": {\"color\": \"#E5ECF6\", \"width\": 0.5}}, \"type\": \"bar\"}], \"barpolar\": [{\"marker\": {\"line\": {\"color\": \"#E5ECF6\", \"width\": 0.5}}, \"type\": \"barpolar\"}], \"carpet\": [{\"aaxis\": {\"endlinecolor\": \"#2a3f5f\", \"gridcolor\": \"white\", \"linecolor\": \"white\", \"minorgridcolor\": \"white\", \"startlinecolor\": \"#2a3f5f\"}, \"baxis\": {\"endlinecolor\": \"#2a3f5f\", \"gridcolor\": \"white\", \"linecolor\": \"white\", \"minorgridcolor\": \"white\", \"startlinecolor\": \"#2a3f5f\"}, \"type\": \"carpet\"}], \"choropleth\": [{\"colorbar\": {\"outlinewidth\": 0, \"ticks\": \"\"}, \"type\": \"choropleth\"}], \"contour\": [{\"colorbar\": {\"outlinewidth\": 0, \"ticks\": \"\"}, \"colorscale\": [[0.0, \"#0d0887\"], [0.1111111111111111, \"#46039f\"], [0.2222222222222222, \"#7201a8\"], [0.3333333333333333, \"#9c179e\"], [0.4444444444444444, \"#bd3786\"], [0.5555555555555556, \"#d8576b\"], [0.6666666666666666, \"#ed7953\"], [0.7777777777777778, \"#fb9f3a\"], [0.8888888888888888, \"#fdca26\"], [1.0, \"#f0f921\"]], \"type\": \"contour\"}], \"contourcarpet\": [{\"colorbar\": {\"outlinewidth\": 0, \"ticks\": \"\"}, \"type\": \"contourcarpet\"}], \"heatmap\": [{\"colorbar\": {\"outlinewidth\": 0, \"ticks\": \"\"}, \"colorscale\": [[0.0, \"#0d0887\"], [0.1111111111111111, \"#46039f\"], [0.2222222222222222, \"#7201a8\"], [0.3333333333333333, \"#9c179e\"], [0.4444444444444444, \"#bd3786\"], [0.5555555555555556, \"#d8576b\"], [0.6666666666666666, \"#ed7953\"], [0.7777777777777778, \"#fb9f3a\"], [0.8888888888888888, \"#fdca26\"], [1.0, \"#f0f921\"]], \"type\": \"heatmap\"}], \"heatmapgl\": [{\"colorbar\": {\"outlinewidth\": 0, \"ticks\": \"\"}, \"colorscale\": [[0.0, \"#0d0887\"], [0.1111111111111111, \"#46039f\"], [0.2222222222222222, \"#7201a8\"], [0.3333333333333333, \"#9c179e\"], [0.4444444444444444, \"#bd3786\"], [0.5555555555555556, \"#d8576b\"], [0.6666666666666666, \"#ed7953\"], [0.7777777777777778, \"#fb9f3a\"], [0.8888888888888888, \"#fdca26\"], [1.0, \"#f0f921\"]], \"type\": \"heatmapgl\"}], \"histogram\": [{\"marker\": {\"colorbar\": {\"outlinewidth\": 0, \"ticks\": \"\"}}, \"type\": \"histogram\"}], \"histogram2d\": [{\"colorbar\": {\"outlinewidth\": 0, \"ticks\": \"\"}, \"colorscale\": [[0.0, \"#0d0887\"], [0.1111111111111111, \"#46039f\"], [0.2222222222222222, \"#7201a8\"], [0.3333333333333333, \"#9c179e\"], [0.4444444444444444, \"#bd3786\"], [0.5555555555555556, \"#d8576b\"], [0.6666666666666666, \"#ed7953\"], [0.7777777777777778, \"#fb9f3a\"], [0.8888888888888888, \"#fdca26\"], [1.0, \"#f0f921\"]], \"type\": \"histogram2d\"}], \"histogram2dcontour\": [{\"colorbar\": {\"outlinewidth\": 0, \"ticks\": \"\"}, \"colorscale\": [[0.0, \"#0d0887\"], [0.1111111111111111, \"#46039f\"], [0.2222222222222222, \"#7201a8\"], [0.3333333333333333, \"#9c179e\"], [0.4444444444444444, \"#bd3786\"], [0.5555555555555556, \"#d8576b\"], [0.6666666666666666, \"#ed7953\"], [0.7777777777777778, \"#fb9f3a\"], [0.8888888888888888, \"#fdca26\"], [1.0, \"#f0f921\"]], \"type\": \"histogram2dcontour\"}], \"mesh3d\": [{\"colorbar\": {\"outlinewidth\": 0, \"ticks\": \"\"}, \"type\": \"mesh3d\"}], \"parcoords\": [{\"line\": {\"colorbar\": {\"outlinewidth\": 0, \"ticks\": \"\"}}, \"type\": \"parcoords\"}], \"pie\": [{\"automargin\": true, \"type\": \"pie\"}], \"scatter\": [{\"marker\": {\"colorbar\": {\"outlinewidth\": 0, \"ticks\": \"\"}}, \"type\": \"scatter\"}], \"scatter3d\": [{\"line\": {\"colorbar\": {\"outlinewidth\": 0, \"ticks\": \"\"}}, \"marker\": {\"colorbar\": {\"outlinewidth\": 0, \"ticks\": \"\"}}, \"type\": \"scatter3d\"}], \"scattercarpet\": [{\"marker\": {\"colorbar\": {\"outlinewidth\": 0, \"ticks\": \"\"}}, \"type\": \"scattercarpet\"}], \"scattergeo\": [{\"marker\": {\"colorbar\": {\"outlinewidth\": 0, \"ticks\": \"\"}}, \"type\": \"scattergeo\"}], \"scattergl\": [{\"marker\": {\"colorbar\": {\"outlinewidth\": 0, \"ticks\": \"\"}}, \"type\": \"scattergl\"}], \"scattermapbox\": [{\"marker\": {\"colorbar\": {\"outlinewidth\": 0, \"ticks\": \"\"}}, \"type\": \"scattermapbox\"}], \"scatterpolar\": [{\"marker\": {\"colorbar\": {\"outlinewidth\": 0, \"ticks\": \"\"}}, \"type\": \"scatterpolar\"}], \"scatterpolargl\": [{\"marker\": {\"colorbar\": {\"outlinewidth\": 0, \"ticks\": \"\"}}, \"type\": \"scatterpolargl\"}], \"scatterternary\": [{\"marker\": {\"colorbar\": {\"outlinewidth\": 0, \"ticks\": \"\"}}, \"type\": \"scatterternary\"}], \"surface\": [{\"colorbar\": {\"outlinewidth\": 0, \"ticks\": \"\"}, \"colorscale\": [[0.0, \"#0d0887\"], [0.1111111111111111, \"#46039f\"], [0.2222222222222222, \"#7201a8\"], [0.3333333333333333, \"#9c179e\"], [0.4444444444444444, \"#bd3786\"], [0.5555555555555556, \"#d8576b\"], [0.6666666666666666, \"#ed7953\"], [0.7777777777777778, \"#fb9f3a\"], [0.8888888888888888, \"#fdca26\"], [1.0, \"#f0f921\"]], \"type\": \"surface\"}], \"table\": [{\"cells\": {\"fill\": {\"color\": \"#EBF0F8\"}, \"line\": {\"color\": \"white\"}}, \"header\": {\"fill\": {\"color\": \"#C8D4E3\"}, \"line\": {\"color\": \"white\"}}, \"type\": \"table\"}]}, \"layout\": {\"annotationdefaults\": {\"arrowcolor\": \"#2a3f5f\", \"arrowhead\": 0, \"arrowwidth\": 1}, \"coloraxis\": {\"colorbar\": {\"outlinewidth\": 0, \"ticks\": \"\"}}, \"colorscale\": {\"diverging\": [[0, \"#8e0152\"], [0.1, \"#c51b7d\"], [0.2, \"#de77ae\"], [0.3, \"#f1b6da\"], [0.4, \"#fde0ef\"], [0.5, \"#f7f7f7\"], [0.6, \"#e6f5d0\"], [0.7, \"#b8e186\"], [0.8, \"#7fbc41\"], [0.9, \"#4d9221\"], [1, \"#276419\"]], \"sequential\": [[0.0, \"#0d0887\"], [0.1111111111111111, \"#46039f\"], [0.2222222222222222, \"#7201a8\"], [0.3333333333333333, \"#9c179e\"], [0.4444444444444444, \"#bd3786\"], [0.5555555555555556, \"#d8576b\"], [0.6666666666666666, \"#ed7953\"], [0.7777777777777778, \"#fb9f3a\"], [0.8888888888888888, \"#fdca26\"], [1.0, \"#f0f921\"]], \"sequentialminus\": [[0.0, \"#0d0887\"], [0.1111111111111111, \"#46039f\"], [0.2222222222222222, \"#7201a8\"], [0.3333333333333333, \"#9c179e\"], [0.4444444444444444, \"#bd3786\"], [0.5555555555555556, \"#d8576b\"], [0.6666666666666666, \"#ed7953\"], [0.7777777777777778, \"#fb9f3a\"], [0.8888888888888888, \"#fdca26\"], [1.0, \"#f0f921\"]]}, \"colorway\": [\"#636efa\", \"#EF553B\", \"#00cc96\", \"#ab63fa\", \"#FFA15A\", \"#19d3f3\", \"#FF6692\", \"#B6E880\", \"#FF97FF\", \"#FECB52\"], \"font\": {\"color\": \"#2a3f5f\"}, \"geo\": {\"bgcolor\": \"white\", \"lakecolor\": \"white\", \"landcolor\": \"#E5ECF6\", \"showlakes\": true, \"showland\": true, \"subunitcolor\": \"white\"}, \"hoverlabel\": {\"align\": \"left\"}, \"hovermode\": \"closest\", \"mapbox\": {\"style\": \"light\"}, \"paper_bgcolor\": \"white\", \"plot_bgcolor\": \"#E5ECF6\", \"polar\": {\"angularaxis\": {\"gridcolor\": \"white\", \"linecolor\": \"white\", \"ticks\": \"\"}, \"bgcolor\": \"#E5ECF6\", \"radialaxis\": {\"gridcolor\": \"white\", \"linecolor\": \"white\", \"ticks\": \"\"}}, \"scene\": {\"xaxis\": {\"backgroundcolor\": \"#E5ECF6\", \"gridcolor\": \"white\", \"gridwidth\": 2, \"linecolor\": \"white\", \"showbackground\": true, \"ticks\": \"\", \"zerolinecolor\": \"white\"}, \"yaxis\": {\"backgroundcolor\": \"#E5ECF6\", \"gridcolor\": \"white\", \"gridwidth\": 2, \"linecolor\": \"white\", \"showbackground\": true, \"ticks\": \"\", \"zerolinecolor\": \"white\"}, \"zaxis\": {\"backgroundcolor\": \"#E5ECF6\", \"gridcolor\": \"white\", \"gridwidth\": 2, \"linecolor\": \"white\", \"showbackground\": true, \"ticks\": \"\", \"zerolinecolor\": \"white\"}}, \"shapedefaults\": {\"line\": {\"color\": \"#2a3f5f\"}}, \"ternary\": {\"aaxis\": {\"gridcolor\": \"white\", \"linecolor\": \"white\", \"ticks\": \"\"}, \"baxis\": {\"gridcolor\": \"white\", \"linecolor\": \"white\", \"ticks\": \"\"}, \"bgcolor\": \"#E5ECF6\", \"caxis\": {\"gridcolor\": \"white\", \"linecolor\": \"white\", \"ticks\": \"\"}}, \"title\": {\"x\": 0.05}, \"xaxis\": {\"automargin\": true, \"gridcolor\": \"white\", \"linecolor\": \"white\", \"ticks\": \"\", \"title\": {\"standoff\": 15}, \"zerolinecolor\": \"white\", \"zerolinewidth\": 2}, \"yaxis\": {\"automargin\": true, \"gridcolor\": \"white\", \"linecolor\": \"white\", \"ticks\": \"\", \"title\": {\"standoff\": 15}, \"zerolinecolor\": \"white\", \"zerolinewidth\": 2}}}, \"title\": {\"text\": \"ledighed vs. ledighed\"}, \"xaxis\": {\"anchor\": \"y\", \"domain\": [0.0, 0.7363], \"title\": {\"text\": \"ledighed\"}}, \"xaxis2\": {\"anchor\": \"y2\", \"domain\": [0.7413, 1.0], \"matches\": \"x2\", \"showgrid\": true, \"showline\": false, \"showticklabels\": false, \"ticks\": \"\"}, \"xaxis3\": {\"anchor\": \"y3\", \"domain\": [0.0, 0.7363], \"matches\": \"x\", \"showgrid\": true, \"showticklabels\": false}, \"xaxis4\": {\"anchor\": \"y4\", \"domain\": [0.7413, 1.0], \"matches\": \"x2\", \"showgrid\": true, \"showline\": false, \"showticklabels\": false, \"ticks\": \"\"}, \"yaxis\": {\"anchor\": \"x\", \"domain\": [0.0, 0.7326], \"title\": {\"text\": \"ledighed\"}}, \"yaxis2\": {\"anchor\": \"x2\", \"domain\": [0.0, 0.7326], \"matches\": \"y\", \"showgrid\": true, \"showticklabels\": false}, \"yaxis3\": {\"anchor\": \"x3\", \"domain\": [0.7426, 1.0], \"matches\": \"y3\", \"showgrid\": true, \"showline\": false, \"showticklabels\": false, \"ticks\": \"\"}, \"yaxis4\": {\"anchor\": \"x4\", \"domain\": [0.7426, 1.0], \"matches\": \"y3\", \"showgrid\": true, \"showline\": false, \"showticklabels\": false, \"ticks\": \"\"}},\n",
       "                        {\"responsive\": true}\n",
       "                    ).then(function(){\n",
       "                            \n",
       "var gd = document.getElementById('5def8a41-ab59-4651-a98e-a8f135b75ac1');\n",
       "var x = new MutationObserver(function (mutations, observer) {{\n",
       "        var display = window.getComputedStyle(gd).display;\n",
       "        if (!display || display === 'none') {{\n",
       "            console.log([gd, 'removed!']);\n",
       "            Plotly.purge(gd);\n",
       "            observer.disconnect();\n",
       "        }}\n",
       "}});\n",
       "\n",
       "// Listen for the removal of the full notebook cells\n",
       "var notebookContainer = gd.closest('#notebook-container');\n",
       "if (notebookContainer) {{\n",
       "    x.observe(notebookContainer, {childList: true});\n",
       "}}\n",
       "\n",
       "// Listen for the clearing of the current output cell\n",
       "var outputEl = gd.closest('.output');\n",
       "if (outputEl) {{\n",
       "    x.observe(outputEl, {childList: true});\n",
       "}}\n",
       "\n",
       "                        })\n",
       "                };\n",
       "                });\n",
       "            </script>\n",
       "        </div>"
      ]
     },
     "metadata": {},
     "output_type": "display_data"
    },
    {
     "data": {
      "application/vnd.plotly.v1+json": {
       "config": {
        "plotlyServerURL": "https://plot.ly"
       },
       "data": [
        {
         "customdata": [
          [
           "Arkitekt"
          ],
          [
           "Veterinærmedicin"
          ],
          [
           "Designledelse"
          ],
          [
           "Odontologi"
          ],
          [
           "Jura"
          ],
          [
           "Farmaci"
          ],
          [
           "Lyd- og musikteknologi"
          ],
          [
           "Farmaceutisk videnskab"
          ],
          [
           "Tværkulturelle studier"
          ],
          [
           "Amerikanske studier"
          ],
          [
           "Engelsk"
          ],
          [
           "Medialogy"
          ],
          [
           "Medicin og teknologi"
          ],
          [
           "Humanbiologi"
          ],
          [
           "Molecular Biology"
          ],
          [
           "Musikvidenskab"
          ],
          [
           "Informationsvidenskab og kulturformidling"
          ],
          [
           "Human ernæring"
          ],
          [
           "Erhvervssprog og international virksomhedskommunikation"
          ],
          [
           "Industrielt design"
          ],
          [
           "Religionsvidenskab"
          ],
          [
           "Sundhedsteknologi"
          ],
          [
           "Radiograf"
          ],
          [
           "Bioteknologi"
          ],
          [
           "Biologi-bioteknologi"
          ],
          [
           "Landskabsarkitektur"
          ],
          [
           "Corporate Communication"
          ],
          [
           "Biokemi"
          ],
          [
           "Byggeri"
          ],
          [
           "Moderne kultur og kulturformidling"
          ],
          [
           "Sygeplejerske"
          ],
          [
           "Uddannelsesvidenskab"
          ],
          [
           "Filosofi"
          ],
          [
           "Bioinformatik"
          ],
          [
           "Digital design og interaktive teknologier"
          ],
          [
           "Astronomi"
          ],
          [
           "Miljøvidenskab"
          ],
          [
           "Global udvikling"
          ],
          [
           "Samfundsvidenskabelig jura"
          ],
          [
           "Fransk sprog, litteratur og kultur"
          ],
          [
           "Tekstildesign, -håndværk og formidling"
          ],
          [
           "Erhvervsøkonomi og virksomhedskommunikation"
          ],
          [
           "Bygningsdesign"
          ],
          [
           "Fødevareteknologi"
          ],
          [
           "Audiologi"
          ],
          [
           "Cultural Sociology"
          ],
          [
           "Mechatronics Engineering"
          ],
          [
           "Medicine with Industrial Specialisation"
          ],
          [
           "Antropologi"
          ],
          [
           "Biologi"
          ],
          [
           "Anvendt kemi"
          ],
          [
           "It-ledelse"
          ],
          [
           "Molekylær ernæring og fødevareteknologi"
          ],
          [
           "Film- og medievidenskab"
          ],
          [
           "Erhvervsøkonomi og psykologi"
          ],
          [
           "It, kommunikation og organisation"
          ],
          [
           "Datalogi"
          ],
          [
           "Fysik"
          ],
          [
           "Olie- og gasteknologi"
          ],
          [
           "Kultur, kommunikation og globalisering"
          ],
          [
           "Dansk"
          ],
          [
           "Erhvervsøkonomi - erhvervssprog, negot."
          ],
          [
           "Medicin"
          ],
          [
           "Webudvikling"
          ],
          [
           "Fysik og nanoteknologi"
          ],
          [
           "Agronomi"
          ],
          [
           "Pædagogisk filosofi"
          ],
          [
           "Pædagogisk psykologi"
          ],
          [
           "Husdyrvidenskab"
          ],
          [
           "Pædagogik"
          ],
          [
           "Socialt arbejde"
          ],
          [
           "Økonomi"
          ],
          [
           "Erhvervsøkonomi og erhvervsjura"
          ],
          [
           "It-design og applikationsudvikling"
          ],
          [
           "Matematik-økonomi"
          ],
          [
           "Historie"
          ],
          [
           "Bioanalytiker"
          ],
          [
           "Design og business"
          ],
          [
           "Forvaltning"
          ],
          [
           "Kemi og bioteknologi"
          ],
          [
           "Kultur og formidling"
          ],
          [
           "Socialrådgiver"
          ],
          [
           "Tysk"
          ],
          [
           "Litteraturvidenskab"
          ],
          [
           "Erhvervsøkonomi, cand.soc."
          ],
          [
           "Teologi"
          ],
          [
           "Geologi"
          ],
          [
           "Diplomingeniør - bygningsdesign"
          ],
          [
           "Tandplejer"
          ],
          [
           "It-didaktisk design"
          ],
          [
           "Bioinformatik og systembiologi"
          ],
          [
           "Jordbrugsøkonomi"
          ],
          [
           "Fysioterapeut"
          ],
          [
           "Samfundsfag"
          ],
          [
           "Statskundskab"
          ],
          [
           "Sociologi"
          ],
          [
           "Erhvervsøkonomi, cand.merc."
          ],
          [
           "Designer"
          ],
          [
           "Dramaturgi"
          ],
          [
           "Teknologibaseret forretningsudvikling"
          ],
          [
           "Mechanical Engineering"
          ],
          [
           "Softwaredesign"
          ],
          [
           "Agro-Environmental Management"
          ],
          [
           "Transport og logistik"
          ],
          [
           "Matematik"
          ],
          [
           "Sundhedsfremme og sundhedsstrategier"
          ],
          [
           "Kriminologi"
          ],
          [
           "Socialvidenskab"
          ],
          [
           "Ernæring og sundhed"
          ],
          [
           "Kemi (civilingeniør)"
          ],
          [
           "Diplomingeniør - softwareteknologi"
          ],
          [
           "Digital innovation og management"
          ],
          [
           "Kunsthistorie"
          ],
          [
           "Digital design"
          ],
          [
           "Psykologi"
          ],
          [
           "Sundhedsfaglig kandidat"
          ],
          [
           "Psykomotorisk terapeut"
          ],
          [
           "Medievidenskab"
          ],
          [
           "Ergoterapi"
          ],
          [
           "Erhvervsøkonomi og filosofi"
          ],
          [
           "Spansk sprog og kultur"
          ],
          [
           "Mellemøststudier"
          ],
          [
           "Molekylær medicin"
          ],
          [
           "Diplomingeniør - bygning"
          ],
          [
           "Humanistisk-samfundsvidenskabelig idrætsvidenskab"
          ],
          [
           "Informationsvidenskab"
          ],
          [
           "Software"
          ],
          [
           "Folkesundhedsvidenskab"
          ],
          [
           "Diplomingeniør - elektrisk energiteknologi"
          ],
          [
           "Audiologopædi"
          ],
          [
           "Pædagogisk sociologi"
          ],
          [
           "Nanoscience"
          ],
          [
           "Klinisk sygepleje"
          ],
          [
           "Sygepleje"
          ],
          [
           "Anvendt kulturanalyse"
          ],
          [
           "Fødevarevidenskab"
          ],
          [
           "Geografi"
          ],
          [
           "Optometrist"
          ],
          [
           "Bygningskonstruktør"
          ],
          [
           "Ergoterapeut"
          ],
          [
           "Pædagog"
          ],
          [
           "Arbejdslivsstudier"
          ],
          [
           "Fysioterapi"
          ],
          [
           "Have- og parkingeniør"
          ],
          [
           "Kommunikation"
          ],
          [
           "Klinisk ernæring"
          ],
          [
           "Tourism"
          ],
          [
           "Digitale medieteknologier"
          ],
          [
           "Interaktive digitale medier"
          ],
          [
           "International sikkerhed og folkeret"
          ],
          [
           "Design og innovation"
          ],
          [
           "Politisk kommunikation og ledelse"
          ],
          [
           "Lingvistik"
          ],
          [
           "Humanfysiologi"
          ],
          [
           "Laboratorie- og fødevareteknologi"
          ],
          [
           "Medicinalkemi"
          ],
          [
           "Journalistik"
          ],
          [
           "Spil"
          ],
          [
           "Offentlig administration"
          ],
          [
           "Æstetik og kultur"
          ],
          [
           "Softwareudvikling"
          ],
          [
           "IT Product Design"
          ],
          [
           "Kemi"
          ],
          [
           "Revisorkandidat, cand.merc.aud."
          ],
          [
           "Jordemoder"
          ],
          [
           "Oplevelsesøkonomi"
          ],
          [
           "Vision, Graphics and Interactive Systems"
          ],
          [
           "Kemisk og biokemisk teknologi"
          ],
          [
           "Energy Engineering"
          ],
          [
           "Diplomingeniør - maskinteknik"
          ],
          [
           "Industriel økonomi og teknologiledelse"
          ],
          [
           "Materiale- og procesteknologi"
          ],
          [
           "Miljøteknologi"
          ],
          [
           "Byggeteknologi"
          ],
          [
           "Geofysik"
          ],
          [
           "Digital konceptudvikling"
          ],
          [
           "Statistik"
          ],
          [
           "Webkommunikation"
          ],
          [
           "Informationsteknologi"
          ],
          [
           "Farmateknologi"
          ],
          [
           "Multimediedesigner"
          ],
          [
           "International handel og markedsføring"
          ],
          [
           "Business Administration and Information Systems"
          ],
          [
           "Maskinmester"
          ],
          [
           "Politik og administration"
          ],
          [
           "Bæredygtigt design"
          ],
          [
           "Virksomhedsledelse"
          ],
          [
           "Didaktik"
          ],
          [
           "Energiteknologi"
          ],
          [
           "Elektroteknologi"
          ],
          [
           "Lærer i folkeskolen"
          ],
          [
           "Mekanik"
          ],
          [
           "Diplomingeniør - elektronik"
          ],
          [
           "Læring og forandringsprocesser"
          ],
          [
           "International Hospitality Management"
          ],
          [
           "Anvendt filosofi"
          ],
          [
           "Diplomingeniør - eksport og teknologi"
          ],
          [
           "Jordbrug"
          ],
          [
           "Financial Controller"
          ],
          [
           "Pædagogisk antropologi"
          ],
          [
           "Europastudier"
          ],
          [
           "Administrationsøkonom"
          ],
          [
           "International Public Administration and Politics"
          ],
          [
           "Matematisk modellering og computing"
          ],
          [
           "Designteknolog"
          ],
          [
           "Laborant"
          ],
          [
           "Retorik"
          ],
          [
           "IT-teknolog"
          ],
          [
           "Konstruktion og mekanik"
          ],
          [
           "Water and Environment Engineering"
          ],
          [
           "Datamatiker"
          ],
          [
           "Elinstallatør"
          ],
          [
           "Finans"
          ],
          [
           "Markedsføringsøkonom"
          ],
          [
           "Bæredygtig energi"
          ],
          [
           "Procesteknolog"
          ],
          [
           "Lyd og akustisk teknologi"
          ],
          [
           "Serviceøkonom"
          ],
          [
           "Produktudvikling og teknisk integration"
          ],
          [
           "Medieproduktion og ledelse"
          ],
          [
           "It, læring og organisatorisk omstilling"
          ],
          [
           "Miljøteknolog"
          ],
          [
           "Innovation and Business"
          ],
          [
           "Idræt"
          ],
          [
           "Grafisk kommunikation"
          ],
          [
           "Økonomi og informationsteknologi"
          ],
          [
           "Veje og trafik"
          ],
          [
           "Ledelse og informatik i byggeriet"
          ],
          [
           "Logistikøkonom"
          ],
          [
           "Diakoni og socialpædagogik"
          ],
          [
           "Finansøkonom"
          ],
          [
           "Visuel kommunikation"
          ],
          [
           "Handelsøkonom"
          ],
          [
           "Multiplatform storytelling and production"
          ],
          [
           "Jordbrugsteknolog"
          ],
          [
           "Journalist"
          ],
          [
           "Geofysik og rumteknologi"
          ],
          [
           "Automationsteknolog"
          ],
          [
           "Produktionsteknolog"
          ],
          [
           "Kommunikation"
          ],
          [
           "Landinspektørvidenskab"
          ],
          [
           "Tv- og medietilrettelæggelse"
          ],
          [
           "Energiteknolog"
          ],
          [
           "Lærer fra Den frie Lærerskole"
          ]
         ],
         "hoverlabel": {
          "namelength": 0
         },
         "hovertemplate": "ledighed=%{x}<br>stress=%{y}<br>Titel=%{customdata[0]}",
         "legendgroup": "",
         "marker": {
          "color": "#636efa",
          "symbol": "circle"
         },
         "mode": "markers",
         "name": "",
         "showlegend": false,
         "type": "scatter",
         "x": [
          11,
          6,
          27,
          3,
          5,
          8,
          13,
          4,
          23,
          22,
          22,
          24,
          4,
          6,
          17,
          16,
          19,
          24,
          18,
          21,
          24,
          1,
          3,
          12,
          14,
          13,
          12,
          18,
          1,
          25,
          1,
          15,
          30,
          5,
          12,
          13,
          10,
          10,
          5,
          23,
          21,
          9,
          14,
          10,
          8,
          12,
          7,
          17,
          23,
          23,
          12,
          12,
          14,
          19,
          7,
          6,
          3,
          6,
          10,
          27,
          16,
          14,
          1,
          13,
          5,
          11,
          17,
          12,
          12,
          14,
          10,
          2,
          6,
          15,
          3,
          26,
          5,
          16,
          11,
          11,
          36,
          6,
          16,
          27,
          7,
          18,
          17,
          4,
          8,
          12,
          8,
          7,
          6,
          14,
          6,
          17,
          7,
          27,
          24,
          7,
          6,
          3,
          18,
          2,
          3,
          20,
          18,
          28,
          11,
          18,
          5,
          6,
          31,
          24,
          10,
          7,
          20,
          20,
          5,
          19,
          22,
          22,
          14,
          4,
          10,
          13,
          3,
          11,
          3,
          2,
          13,
          14,
          1,
          3,
          23,
          8,
          13,
          1,
          7,
          10,
          8,
          12,
          5,
          14,
          22,
          10,
          19,
          5,
          37,
          20,
          6,
          12,
          14,
          12,
          13,
          17,
          12,
          12,
          12,
          31,
          7,
          19,
          12,
          2,
          2,
          28,
          4,
          6,
          5,
          5,
          4,
          6,
          11,
          4,
          18,
          20,
          2,
          16,
          0,
          7,
          15,
          12,
          6,
          3,
          18,
          16,
          16,
          13,
          22,
          4,
          6,
          1,
          5,
          19,
          13,
          30,
          12,
          16,
          10,
          17,
          26,
          19,
          10,
          2,
          12,
          7,
          18,
          11,
          2,
          2,
          10,
          2,
          4,
          8,
          12,
          13,
          2,
          9,
          15,
          14,
          16,
          22,
          7,
          15,
          19,
          4,
          1,
          6,
          7,
          7,
          6,
          16,
          8,
          21,
          10,
          11,
          11,
          3,
          10,
          8,
          4,
          14,
          12,
          19
         ],
         "xaxis": "x",
         "y": [
          2.74,
          2.89,
          2.97,
          2.84,
          3.21,
          3.04,
          3,
          3.1,
          2.96,
          3.25,
          3.13,
          3.18,
          2.92,
          3.6,
          2.98,
          3.06,
          3.18,
          3.3,
          3.23,
          3.25,
          3.34,
          3.78,
          3.54,
          3.24,
          3.58,
          3.1,
          3.37,
          3.47,
          3.43,
          3.37,
          3.48,
          3.54,
          3.15,
          3.13,
          3.1,
          3.09,
          3.2,
          3.08,
          3.53,
          3.39,
          3.31,
          3.43,
          3.09,
          3.29,
          3.58,
          3.36,
          2.96,
          3.45,
          3.09,
          3.36,
          3.39,
          3.67,
          3.27,
          3.33,
          3.49,
          3.4,
          3.14,
          3.41,
          3.26,
          3.3,
          3.46,
          3.4,
          3.53,
          3.33,
          3.17,
          3.33,
          3.47,
          3.37,
          3.31,
          3.41,
          3.6,
          3.35,
          3.44,
          3.3,
          3.67,
          3.36,
          3.49,
          3.39,
          3.42,
          3.73,
          3.47,
          3.59,
          3.35,
          3.35,
          3.69,
          3.46,
          3.48,
          3.39,
          3.55,
          3.5,
          3.31,
          3.71,
          3.59,
          3.46,
          3.4,
          3.31,
          3.49,
          3.25,
          3.39,
          3.53,
          3.59,
          3.06,
          3.27,
          3.35,
          3.63,
          3.38,
          3.77,
          3.43,
          3.53,
          3.67,
          3.49,
          3.61,
          3.48,
          3.46,
          3.46,
          3.59,
          3.33,
          3.77,
          3.6,
          3.69,
          3.31,
          3.45,
          3.39,
          3.6,
          3.56,
          3.4,
          3.53,
          3.6,
          3.66,
          3.67,
          3.54,
          3.48,
          3.62,
          3.73,
          3.43,
          3.72,
          3.45,
          3.61,
          3.53,
          3.64,
          3.61,
          3.34,
          3.59,
          3.64,
          3.62,
          3.68,
          3.54,
          3.4,
          3.52,
          3.61,
          3.53,
          3.49,
          3.63,
          3.79,
          3.72,
          3.5,
          3.31,
          3.45,
          3.73,
          3.35,
          3.76,
          3.43,
          3.45,
          3.77,
          3.42,
          3.29,
          3.88,
          3.34,
          3.52,
          3.66,
          3.63,
          3.45,
          3.39,
          3.54,
          3.69,
          3.65,
          3.74,
          3.54,
          3.61,
          3.67,
          3.55,
          3.72,
          3.73,
          3.69,
          3.63,
          3.43,
          3.45,
          3.7,
          3.81,
          3.53,
          3.62,
          3.82,
          3.5,
          3.61,
          3.9,
          3.76,
          3.88,
          3.7,
          3.64,
          3.74,
          4,
          3.8,
          3.55,
          3.58,
          3.71,
          3.84,
          3.71,
          3.66,
          3.69,
          3.53,
          3.84,
          3.77,
          3.87,
          3.87,
          3.37,
          3.83,
          3.79,
          3.94,
          3.85,
          3.91,
          3.7,
          3.77,
          3.84,
          3.94,
          3.37,
          4.04,
          4.07,
          3.75,
          3.93,
          3.98,
          3.97,
          3.51,
          3.92,
          3.72,
          3.84,
          3.63,
          3.85,
          3.97,
          3.99,
          3.97,
          3.98,
          3.67,
          4.17,
          4.11
         ],
         "yaxis": "y"
        },
        {
         "alignmentgroup": "True",
         "bingroup": "x",
         "hoverlabel": {
          "namelength": 0
         },
         "hovertemplate": "ledighed=%{x}<br>count=%{y}",
         "legendgroup": "",
         "marker": {
          "color": "#636efa"
         },
         "name": "",
         "offsetgroup": "",
         "opacity": 0.5,
         "showlegend": false,
         "type": "histogram",
         "x": [
          11,
          6,
          27,
          3,
          5,
          8,
          13,
          4,
          23,
          22,
          22,
          24,
          4,
          6,
          17,
          16,
          19,
          24,
          18,
          21,
          24,
          1,
          3,
          12,
          14,
          13,
          12,
          18,
          1,
          25,
          1,
          15,
          30,
          5,
          12,
          13,
          10,
          10,
          5,
          23,
          21,
          9,
          14,
          10,
          8,
          12,
          7,
          17,
          23,
          23,
          12,
          12,
          14,
          19,
          7,
          6,
          3,
          6,
          10,
          27,
          16,
          14,
          1,
          13,
          5,
          11,
          17,
          12,
          12,
          14,
          10,
          2,
          6,
          15,
          3,
          26,
          5,
          16,
          11,
          11,
          36,
          6,
          16,
          27,
          7,
          18,
          17,
          4,
          8,
          12,
          8,
          7,
          6,
          14,
          6,
          17,
          7,
          27,
          24,
          7,
          6,
          3,
          18,
          2,
          3,
          20,
          18,
          28,
          11,
          18,
          5,
          6,
          31,
          24,
          10,
          7,
          20,
          20,
          5,
          19,
          22,
          22,
          14,
          4,
          10,
          13,
          3,
          11,
          3,
          2,
          13,
          14,
          1,
          3,
          23,
          8,
          13,
          1,
          7,
          10,
          8,
          12,
          5,
          14,
          22,
          10,
          19,
          5,
          37,
          20,
          6,
          12,
          14,
          12,
          13,
          17,
          12,
          12,
          12,
          31,
          7,
          19,
          12,
          2,
          2,
          28,
          4,
          6,
          5,
          5,
          4,
          6,
          11,
          4,
          18,
          20,
          2,
          16,
          0,
          7,
          15,
          12,
          6,
          3,
          18,
          16,
          16,
          13,
          22,
          4,
          6,
          1,
          5,
          19,
          13,
          30,
          12,
          16,
          10,
          17,
          26,
          19,
          10,
          2,
          12,
          7,
          18,
          11,
          2,
          2,
          10,
          2,
          4,
          8,
          12,
          13,
          2,
          9,
          15,
          14,
          16,
          22,
          7,
          15,
          19,
          4,
          1,
          6,
          7,
          7,
          6,
          16,
          8,
          21,
          10,
          11,
          11,
          3,
          10,
          8,
          4,
          14,
          12,
          19
         ],
         "xaxis": "x3",
         "yaxis": "y3"
        },
        {
         "alignmentgroup": "True",
         "bingroup": "y",
         "hoverlabel": {
          "namelength": 0
         },
         "hovertemplate": "stress=%{y}<br>count=%{x}",
         "legendgroup": "",
         "marker": {
          "color": "#636efa"
         },
         "name": "",
         "offsetgroup": "",
         "opacity": 0.5,
         "showlegend": false,
         "type": "histogram",
         "xaxis": "x2",
         "y": [
          2.74,
          2.89,
          2.97,
          2.84,
          3.21,
          3.04,
          3,
          3.1,
          2.96,
          3.25,
          3.13,
          3.18,
          2.92,
          3.6,
          2.98,
          3.06,
          3.18,
          3.3,
          3.23,
          3.25,
          3.34,
          3.78,
          3.54,
          3.24,
          3.58,
          3.1,
          3.37,
          3.47,
          3.43,
          3.37,
          3.48,
          3.54,
          3.15,
          3.13,
          3.1,
          3.09,
          3.2,
          3.08,
          3.53,
          3.39,
          3.31,
          3.43,
          3.09,
          3.29,
          3.58,
          3.36,
          2.96,
          3.45,
          3.09,
          3.36,
          3.39,
          3.67,
          3.27,
          3.33,
          3.49,
          3.4,
          3.14,
          3.41,
          3.26,
          3.3,
          3.46,
          3.4,
          3.53,
          3.33,
          3.17,
          3.33,
          3.47,
          3.37,
          3.31,
          3.41,
          3.6,
          3.35,
          3.44,
          3.3,
          3.67,
          3.36,
          3.49,
          3.39,
          3.42,
          3.73,
          3.47,
          3.59,
          3.35,
          3.35,
          3.69,
          3.46,
          3.48,
          3.39,
          3.55,
          3.5,
          3.31,
          3.71,
          3.59,
          3.46,
          3.4,
          3.31,
          3.49,
          3.25,
          3.39,
          3.53,
          3.59,
          3.06,
          3.27,
          3.35,
          3.63,
          3.38,
          3.77,
          3.43,
          3.53,
          3.67,
          3.49,
          3.61,
          3.48,
          3.46,
          3.46,
          3.59,
          3.33,
          3.77,
          3.6,
          3.69,
          3.31,
          3.45,
          3.39,
          3.6,
          3.56,
          3.4,
          3.53,
          3.6,
          3.66,
          3.67,
          3.54,
          3.48,
          3.62,
          3.73,
          3.43,
          3.72,
          3.45,
          3.61,
          3.53,
          3.64,
          3.61,
          3.34,
          3.59,
          3.64,
          3.62,
          3.68,
          3.54,
          3.4,
          3.52,
          3.61,
          3.53,
          3.49,
          3.63,
          3.79,
          3.72,
          3.5,
          3.31,
          3.45,
          3.73,
          3.35,
          3.76,
          3.43,
          3.45,
          3.77,
          3.42,
          3.29,
          3.88,
          3.34,
          3.52,
          3.66,
          3.63,
          3.45,
          3.39,
          3.54,
          3.69,
          3.65,
          3.74,
          3.54,
          3.61,
          3.67,
          3.55,
          3.72,
          3.73,
          3.69,
          3.63,
          3.43,
          3.45,
          3.7,
          3.81,
          3.53,
          3.62,
          3.82,
          3.5,
          3.61,
          3.9,
          3.76,
          3.88,
          3.7,
          3.64,
          3.74,
          4,
          3.8,
          3.55,
          3.58,
          3.71,
          3.84,
          3.71,
          3.66,
          3.69,
          3.53,
          3.84,
          3.77,
          3.87,
          3.87,
          3.37,
          3.83,
          3.79,
          3.94,
          3.85,
          3.91,
          3.7,
          3.77,
          3.84,
          3.94,
          3.37,
          4.04,
          4.07,
          3.75,
          3.93,
          3.98,
          3.97,
          3.51,
          3.92,
          3.72,
          3.84,
          3.63,
          3.85,
          3.97,
          3.99,
          3.97,
          3.98,
          3.67,
          4.17,
          4.11
         ],
         "yaxis": "y2"
        },
        {
         "hoverlabel": {
          "namelength": 0
         },
         "hovertemplate": "<b>LOWESS trendline</b><br><br>ledighed=%{x}<br>stress=%{y} <b>(trend)</b>",
         "legendgroup": "",
         "marker": {
          "color": "#636efa",
          "symbol": "circle"
         },
         "mode": "lines",
         "name": "",
         "showlegend": false,
         "type": "scatter",
         "x": [
          0,
          1,
          1,
          1,
          1,
          1,
          1,
          1,
          1,
          2,
          2,
          2,
          2,
          2,
          2,
          2,
          2,
          2,
          2,
          2,
          3,
          3,
          3,
          3,
          3,
          3,
          3,
          3,
          3,
          3,
          3,
          4,
          4,
          4,
          4,
          4,
          4,
          4,
          4,
          4,
          4,
          4,
          5,
          5,
          5,
          5,
          5,
          5,
          5,
          5,
          5,
          5,
          5,
          5,
          6,
          6,
          6,
          6,
          6,
          6,
          6,
          6,
          6,
          6,
          6,
          6,
          6,
          6,
          6,
          6,
          6,
          7,
          7,
          7,
          7,
          7,
          7,
          7,
          7,
          7,
          7,
          7,
          7,
          7,
          7,
          8,
          8,
          8,
          8,
          8,
          8,
          8,
          8,
          8,
          9,
          9,
          10,
          10,
          10,
          10,
          10,
          10,
          10,
          10,
          10,
          10,
          10,
          10,
          10,
          10,
          11,
          11,
          11,
          11,
          11,
          11,
          11,
          11,
          11,
          11,
          12,
          12,
          12,
          12,
          12,
          12,
          12,
          12,
          12,
          12,
          12,
          12,
          12,
          12,
          12,
          12,
          12,
          12,
          12,
          12,
          12,
          13,
          13,
          13,
          13,
          13,
          13,
          13,
          13,
          13,
          13,
          13,
          14,
          14,
          14,
          14,
          14,
          14,
          14,
          14,
          14,
          14,
          14,
          14,
          15,
          15,
          15,
          15,
          15,
          16,
          16,
          16,
          16,
          16,
          16,
          16,
          16,
          16,
          16,
          17,
          17,
          17,
          17,
          17,
          17,
          17,
          18,
          18,
          18,
          18,
          18,
          18,
          18,
          18,
          18,
          19,
          19,
          19,
          19,
          19,
          19,
          19,
          19,
          19,
          20,
          20,
          20,
          20,
          20,
          21,
          21,
          21,
          22,
          22,
          22,
          22,
          22,
          22,
          22,
          23,
          23,
          23,
          23,
          23,
          24,
          24,
          24,
          24,
          24,
          25,
          26,
          26,
          27,
          27,
          27,
          27,
          28,
          28,
          30,
          30,
          31,
          31,
          36,
          37
         ],
         "xaxis": "x",
         "y": [
          3.6138448335177404,
          3.607977587175458,
          3.607977587175458,
          3.607977587175458,
          3.607977587175458,
          3.607977587175458,
          3.607977587175458,
          3.607977587175458,
          3.607977587175458,
          3.6026178926748016,
          3.6026178926748016,
          3.6026178926748016,
          3.6026178926748016,
          3.6026178926748016,
          3.6026178926748016,
          3.6026178926748016,
          3.6026178926748016,
          3.6026178926748016,
          3.6026178926748016,
          3.6026178926748016,
          3.597638898367326,
          3.597638898367326,
          3.597638898367326,
          3.597638898367326,
          3.597638898367326,
          3.597638898367326,
          3.597638898367326,
          3.597638898367326,
          3.597638898367326,
          3.597638898367326,
          3.597638898367326,
          3.5927730991435145,
          3.5927730991435145,
          3.5927730991435145,
          3.5927730991435145,
          3.5927730991435145,
          3.5927730991435145,
          3.5927730991435145,
          3.5927730991435145,
          3.5927730991435145,
          3.5927730991435145,
          3.5927730991435145,
          3.5876080271836437,
          3.5876080271836437,
          3.5876080271836437,
          3.5876080271836437,
          3.5876080271836437,
          3.5876080271836437,
          3.5876080271836437,
          3.5876080271836437,
          3.5876080271836437,
          3.5876080271836437,
          3.5876080271836437,
          3.5876080271836437,
          3.5815307313781224,
          3.5815307313781224,
          3.5815307313781224,
          3.5815307313781224,
          3.5815307313781224,
          3.5815307313781224,
          3.5815307313781224,
          3.5815307313781224,
          3.5815307313781224,
          3.5815307313781224,
          3.5815307313781224,
          3.5815307313781224,
          3.5815307313781224,
          3.5815307313781224,
          3.5815307313781224,
          3.5815307313781224,
          3.5815307313781224,
          3.5747584619783748,
          3.5747584619783748,
          3.5747584619783748,
          3.5747584619783748,
          3.5747584619783748,
          3.5747584619783748,
          3.5747584619783748,
          3.5747584619783748,
          3.5747584619783748,
          3.5747584619783748,
          3.5747584619783748,
          3.5747584619783748,
          3.5747584619783748,
          3.5747584619783748,
          3.5655479292798082,
          3.5655479292798082,
          3.5655479292798082,
          3.5655479292798082,
          3.5655479292798082,
          3.5655479292798082,
          3.5655479292798082,
          3.5655479292798082,
          3.5655479292798082,
          3.557361999706392,
          3.557361999706392,
          3.550068763223698,
          3.550068763223698,
          3.550068763223698,
          3.550068763223698,
          3.550068763223698,
          3.550068763223698,
          3.550068763223698,
          3.550068763223698,
          3.550068763223698,
          3.550068763223698,
          3.550068763223698,
          3.550068763223698,
          3.550068763223698,
          3.550068763223698,
          3.5413500817237176,
          3.5413500817237176,
          3.5413500817237176,
          3.5413500817237176,
          3.5413500817237176,
          3.5413500817237176,
          3.5413500817237176,
          3.5413500817237176,
          3.5413500817237176,
          3.5413500817237176,
          3.5284012743334148,
          3.5284012743334148,
          3.5284012743334148,
          3.5284012743334148,
          3.5284012743334148,
          3.5284012743334148,
          3.5284012743334148,
          3.5284012743334148,
          3.5284012743334148,
          3.5284012743334148,
          3.5284012743334148,
          3.5284012743334148,
          3.5284012743334148,
          3.5284012743334148,
          3.5284012743334148,
          3.5284012743334148,
          3.5284012743334148,
          3.5284012743334148,
          3.5284012743334148,
          3.5284012743334148,
          3.5284012743334148,
          3.5197980007269707,
          3.5197980007269707,
          3.5197980007269707,
          3.5197980007269707,
          3.5197980007269707,
          3.5197980007269707,
          3.5197980007269707,
          3.5197980007269707,
          3.5197980007269707,
          3.5197980007269707,
          3.5197980007269707,
          3.5110527157517395,
          3.5110527157517395,
          3.5110527157517395,
          3.5110527157517395,
          3.5110527157517395,
          3.5110527157517395,
          3.5110527157517395,
          3.5110527157517395,
          3.5110527157517395,
          3.5110527157517395,
          3.5110527157517395,
          3.5110527157517395,
          3.506879730307766,
          3.506879730307766,
          3.506879730307766,
          3.506879730307766,
          3.506879730307766,
          3.4971246736870496,
          3.4971246736870496,
          3.4971246736870496,
          3.4971246736870496,
          3.4971246736870496,
          3.4971246736870496,
          3.4971246736870496,
          3.4971246736870496,
          3.4971246736870496,
          3.4971246736870496,
          3.486352997479444,
          3.486352997479444,
          3.486352997479444,
          3.486352997479444,
          3.486352997479444,
          3.486352997479444,
          3.486352997479444,
          3.4721528321729607,
          3.4721528321729607,
          3.4721528321729607,
          3.4721528321729607,
          3.4721528321729607,
          3.4721528321729607,
          3.4721528321729607,
          3.4721528321729607,
          3.4721528321729607,
          3.4573991189691493,
          3.4573991189691493,
          3.4573991189691493,
          3.4573991189691493,
          3.4573991189691493,
          3.4573991189691493,
          3.4573991189691493,
          3.4573991189691493,
          3.4573991189691493,
          3.444052968710011,
          3.444052968710011,
          3.444052968710011,
          3.444052968710011,
          3.444052968710011,
          3.4326412670412685,
          3.4326412670412685,
          3.4326412670412685,
          3.4220850483239054,
          3.4220850483239054,
          3.4220850483239054,
          3.4220850483239054,
          3.4220850483239054,
          3.4220850483239054,
          3.4220850483239054,
          3.4128291600256344,
          3.4128291600256344,
          3.4128291600256344,
          3.4128291600256344,
          3.4128291600256344,
          3.405562358885057,
          3.405562358885057,
          3.405562358885057,
          3.405562358885057,
          3.405562358885057,
          3.3993169224650397,
          3.3932736820658294,
          3.3932736820658294,
          3.387053268184463,
          3.387053268184463,
          3.387053268184463,
          3.387053268184463,
          3.380537069689572,
          3.380537069689572,
          3.3668753487906447,
          3.3668753487906447,
          3.359947618814063,
          3.359947618814063,
          3.3276960912816453,
          3.3221198245490995
         ],
         "yaxis": "y"
        }
       ],
       "layout": {
        "barmode": "overlay",
        "legend": {
         "tracegroupgap": 0
        },
        "shapes": [
         {
          "fillcolor": "LightSkyBlue",
          "layer": "below",
          "line": {
           "width": 0
          },
          "opacity": 0.5,
          "type": "rect",
          "x0": 11.115261697226948,
          "x1": 13.024082565068134,
          "xref": "x",
          "y0": 2.74,
          "y1": 4.17,
          "yref": "y"
         },
         {
          "fillcolor": "LightSkyBlue",
          "layer": "below",
          "line": {
           "width": 0
          },
          "opacity": 0.5,
          "type": "rect",
          "x0": 0,
          "x1": 37,
          "xref": "x",
          "y0": 3.483906110086742,
          "y1": 3.5479791358148964,
          "yref": "y"
         }
        ],
        "template": {
         "data": {
          "bar": [
           {
            "error_x": {
             "color": "#2a3f5f"
            },
            "error_y": {
             "color": "#2a3f5f"
            },
            "marker": {
             "line": {
              "color": "#E5ECF6",
              "width": 0.5
             }
            },
            "type": "bar"
           }
          ],
          "barpolar": [
           {
            "marker": {
             "line": {
              "color": "#E5ECF6",
              "width": 0.5
             }
            },
            "type": "barpolar"
           }
          ],
          "carpet": [
           {
            "aaxis": {
             "endlinecolor": "#2a3f5f",
             "gridcolor": "white",
             "linecolor": "white",
             "minorgridcolor": "white",
             "startlinecolor": "#2a3f5f"
            },
            "baxis": {
             "endlinecolor": "#2a3f5f",
             "gridcolor": "white",
             "linecolor": "white",
             "minorgridcolor": "white",
             "startlinecolor": "#2a3f5f"
            },
            "type": "carpet"
           }
          ],
          "choropleth": [
           {
            "colorbar": {
             "outlinewidth": 0,
             "ticks": ""
            },
            "type": "choropleth"
           }
          ],
          "contour": [
           {
            "colorbar": {
             "outlinewidth": 0,
             "ticks": ""
            },
            "colorscale": [
             [
              0,
              "#0d0887"
             ],
             [
              0.1111111111111111,
              "#46039f"
             ],
             [
              0.2222222222222222,
              "#7201a8"
             ],
             [
              0.3333333333333333,
              "#9c179e"
             ],
             [
              0.4444444444444444,
              "#bd3786"
             ],
             [
              0.5555555555555556,
              "#d8576b"
             ],
             [
              0.6666666666666666,
              "#ed7953"
             ],
             [
              0.7777777777777778,
              "#fb9f3a"
             ],
             [
              0.8888888888888888,
              "#fdca26"
             ],
             [
              1,
              "#f0f921"
             ]
            ],
            "type": "contour"
           }
          ],
          "contourcarpet": [
           {
            "colorbar": {
             "outlinewidth": 0,
             "ticks": ""
            },
            "type": "contourcarpet"
           }
          ],
          "heatmap": [
           {
            "colorbar": {
             "outlinewidth": 0,
             "ticks": ""
            },
            "colorscale": [
             [
              0,
              "#0d0887"
             ],
             [
              0.1111111111111111,
              "#46039f"
             ],
             [
              0.2222222222222222,
              "#7201a8"
             ],
             [
              0.3333333333333333,
              "#9c179e"
             ],
             [
              0.4444444444444444,
              "#bd3786"
             ],
             [
              0.5555555555555556,
              "#d8576b"
             ],
             [
              0.6666666666666666,
              "#ed7953"
             ],
             [
              0.7777777777777778,
              "#fb9f3a"
             ],
             [
              0.8888888888888888,
              "#fdca26"
             ],
             [
              1,
              "#f0f921"
             ]
            ],
            "type": "heatmap"
           }
          ],
          "heatmapgl": [
           {
            "colorbar": {
             "outlinewidth": 0,
             "ticks": ""
            },
            "colorscale": [
             [
              0,
              "#0d0887"
             ],
             [
              0.1111111111111111,
              "#46039f"
             ],
             [
              0.2222222222222222,
              "#7201a8"
             ],
             [
              0.3333333333333333,
              "#9c179e"
             ],
             [
              0.4444444444444444,
              "#bd3786"
             ],
             [
              0.5555555555555556,
              "#d8576b"
             ],
             [
              0.6666666666666666,
              "#ed7953"
             ],
             [
              0.7777777777777778,
              "#fb9f3a"
             ],
             [
              0.8888888888888888,
              "#fdca26"
             ],
             [
              1,
              "#f0f921"
             ]
            ],
            "type": "heatmapgl"
           }
          ],
          "histogram": [
           {
            "marker": {
             "colorbar": {
              "outlinewidth": 0,
              "ticks": ""
             }
            },
            "type": "histogram"
           }
          ],
          "histogram2d": [
           {
            "colorbar": {
             "outlinewidth": 0,
             "ticks": ""
            },
            "colorscale": [
             [
              0,
              "#0d0887"
             ],
             [
              0.1111111111111111,
              "#46039f"
             ],
             [
              0.2222222222222222,
              "#7201a8"
             ],
             [
              0.3333333333333333,
              "#9c179e"
             ],
             [
              0.4444444444444444,
              "#bd3786"
             ],
             [
              0.5555555555555556,
              "#d8576b"
             ],
             [
              0.6666666666666666,
              "#ed7953"
             ],
             [
              0.7777777777777778,
              "#fb9f3a"
             ],
             [
              0.8888888888888888,
              "#fdca26"
             ],
             [
              1,
              "#f0f921"
             ]
            ],
            "type": "histogram2d"
           }
          ],
          "histogram2dcontour": [
           {
            "colorbar": {
             "outlinewidth": 0,
             "ticks": ""
            },
            "colorscale": [
             [
              0,
              "#0d0887"
             ],
             [
              0.1111111111111111,
              "#46039f"
             ],
             [
              0.2222222222222222,
              "#7201a8"
             ],
             [
              0.3333333333333333,
              "#9c179e"
             ],
             [
              0.4444444444444444,
              "#bd3786"
             ],
             [
              0.5555555555555556,
              "#d8576b"
             ],
             [
              0.6666666666666666,
              "#ed7953"
             ],
             [
              0.7777777777777778,
              "#fb9f3a"
             ],
             [
              0.8888888888888888,
              "#fdca26"
             ],
             [
              1,
              "#f0f921"
             ]
            ],
            "type": "histogram2dcontour"
           }
          ],
          "mesh3d": [
           {
            "colorbar": {
             "outlinewidth": 0,
             "ticks": ""
            },
            "type": "mesh3d"
           }
          ],
          "parcoords": [
           {
            "line": {
             "colorbar": {
              "outlinewidth": 0,
              "ticks": ""
             }
            },
            "type": "parcoords"
           }
          ],
          "pie": [
           {
            "automargin": true,
            "type": "pie"
           }
          ],
          "scatter": [
           {
            "marker": {
             "colorbar": {
              "outlinewidth": 0,
              "ticks": ""
             }
            },
            "type": "scatter"
           }
          ],
          "scatter3d": [
           {
            "line": {
             "colorbar": {
              "outlinewidth": 0,
              "ticks": ""
             }
            },
            "marker": {
             "colorbar": {
              "outlinewidth": 0,
              "ticks": ""
             }
            },
            "type": "scatter3d"
           }
          ],
          "scattercarpet": [
           {
            "marker": {
             "colorbar": {
              "outlinewidth": 0,
              "ticks": ""
             }
            },
            "type": "scattercarpet"
           }
          ],
          "scattergeo": [
           {
            "marker": {
             "colorbar": {
              "outlinewidth": 0,
              "ticks": ""
             }
            },
            "type": "scattergeo"
           }
          ],
          "scattergl": [
           {
            "marker": {
             "colorbar": {
              "outlinewidth": 0,
              "ticks": ""
             }
            },
            "type": "scattergl"
           }
          ],
          "scattermapbox": [
           {
            "marker": {
             "colorbar": {
              "outlinewidth": 0,
              "ticks": ""
             }
            },
            "type": "scattermapbox"
           }
          ],
          "scatterpolar": [
           {
            "marker": {
             "colorbar": {
              "outlinewidth": 0,
              "ticks": ""
             }
            },
            "type": "scatterpolar"
           }
          ],
          "scatterpolargl": [
           {
            "marker": {
             "colorbar": {
              "outlinewidth": 0,
              "ticks": ""
             }
            },
            "type": "scatterpolargl"
           }
          ],
          "scatterternary": [
           {
            "marker": {
             "colorbar": {
              "outlinewidth": 0,
              "ticks": ""
             }
            },
            "type": "scatterternary"
           }
          ],
          "surface": [
           {
            "colorbar": {
             "outlinewidth": 0,
             "ticks": ""
            },
            "colorscale": [
             [
              0,
              "#0d0887"
             ],
             [
              0.1111111111111111,
              "#46039f"
             ],
             [
              0.2222222222222222,
              "#7201a8"
             ],
             [
              0.3333333333333333,
              "#9c179e"
             ],
             [
              0.4444444444444444,
              "#bd3786"
             ],
             [
              0.5555555555555556,
              "#d8576b"
             ],
             [
              0.6666666666666666,
              "#ed7953"
             ],
             [
              0.7777777777777778,
              "#fb9f3a"
             ],
             [
              0.8888888888888888,
              "#fdca26"
             ],
             [
              1,
              "#f0f921"
             ]
            ],
            "type": "surface"
           }
          ],
          "table": [
           {
            "cells": {
             "fill": {
              "color": "#EBF0F8"
             },
             "line": {
              "color": "white"
             }
            },
            "header": {
             "fill": {
              "color": "#C8D4E3"
             },
             "line": {
              "color": "white"
             }
            },
            "type": "table"
           }
          ]
         },
         "layout": {
          "annotationdefaults": {
           "arrowcolor": "#2a3f5f",
           "arrowhead": 0,
           "arrowwidth": 1
          },
          "coloraxis": {
           "colorbar": {
            "outlinewidth": 0,
            "ticks": ""
           }
          },
          "colorscale": {
           "diverging": [
            [
             0,
             "#8e0152"
            ],
            [
             0.1,
             "#c51b7d"
            ],
            [
             0.2,
             "#de77ae"
            ],
            [
             0.3,
             "#f1b6da"
            ],
            [
             0.4,
             "#fde0ef"
            ],
            [
             0.5,
             "#f7f7f7"
            ],
            [
             0.6,
             "#e6f5d0"
            ],
            [
             0.7,
             "#b8e186"
            ],
            [
             0.8,
             "#7fbc41"
            ],
            [
             0.9,
             "#4d9221"
            ],
            [
             1,
             "#276419"
            ]
           ],
           "sequential": [
            [
             0,
             "#0d0887"
            ],
            [
             0.1111111111111111,
             "#46039f"
            ],
            [
             0.2222222222222222,
             "#7201a8"
            ],
            [
             0.3333333333333333,
             "#9c179e"
            ],
            [
             0.4444444444444444,
             "#bd3786"
            ],
            [
             0.5555555555555556,
             "#d8576b"
            ],
            [
             0.6666666666666666,
             "#ed7953"
            ],
            [
             0.7777777777777778,
             "#fb9f3a"
            ],
            [
             0.8888888888888888,
             "#fdca26"
            ],
            [
             1,
             "#f0f921"
            ]
           ],
           "sequentialminus": [
            [
             0,
             "#0d0887"
            ],
            [
             0.1111111111111111,
             "#46039f"
            ],
            [
             0.2222222222222222,
             "#7201a8"
            ],
            [
             0.3333333333333333,
             "#9c179e"
            ],
            [
             0.4444444444444444,
             "#bd3786"
            ],
            [
             0.5555555555555556,
             "#d8576b"
            ],
            [
             0.6666666666666666,
             "#ed7953"
            ],
            [
             0.7777777777777778,
             "#fb9f3a"
            ],
            [
             0.8888888888888888,
             "#fdca26"
            ],
            [
             1,
             "#f0f921"
            ]
           ]
          },
          "colorway": [
           "#636efa",
           "#EF553B",
           "#00cc96",
           "#ab63fa",
           "#FFA15A",
           "#19d3f3",
           "#FF6692",
           "#B6E880",
           "#FF97FF",
           "#FECB52"
          ],
          "font": {
           "color": "#2a3f5f"
          },
          "geo": {
           "bgcolor": "white",
           "lakecolor": "white",
           "landcolor": "#E5ECF6",
           "showlakes": true,
           "showland": true,
           "subunitcolor": "white"
          },
          "hoverlabel": {
           "align": "left"
          },
          "hovermode": "closest",
          "mapbox": {
           "style": "light"
          },
          "paper_bgcolor": "white",
          "plot_bgcolor": "#E5ECF6",
          "polar": {
           "angularaxis": {
            "gridcolor": "white",
            "linecolor": "white",
            "ticks": ""
           },
           "bgcolor": "#E5ECF6",
           "radialaxis": {
            "gridcolor": "white",
            "linecolor": "white",
            "ticks": ""
           }
          },
          "scene": {
           "xaxis": {
            "backgroundcolor": "#E5ECF6",
            "gridcolor": "white",
            "gridwidth": 2,
            "linecolor": "white",
            "showbackground": true,
            "ticks": "",
            "zerolinecolor": "white"
           },
           "yaxis": {
            "backgroundcolor": "#E5ECF6",
            "gridcolor": "white",
            "gridwidth": 2,
            "linecolor": "white",
            "showbackground": true,
            "ticks": "",
            "zerolinecolor": "white"
           },
           "zaxis": {
            "backgroundcolor": "#E5ECF6",
            "gridcolor": "white",
            "gridwidth": 2,
            "linecolor": "white",
            "showbackground": true,
            "ticks": "",
            "zerolinecolor": "white"
           }
          },
          "shapedefaults": {
           "line": {
            "color": "#2a3f5f"
           }
          },
          "ternary": {
           "aaxis": {
            "gridcolor": "white",
            "linecolor": "white",
            "ticks": ""
           },
           "baxis": {
            "gridcolor": "white",
            "linecolor": "white",
            "ticks": ""
           },
           "bgcolor": "#E5ECF6",
           "caxis": {
            "gridcolor": "white",
            "linecolor": "white",
            "ticks": ""
           }
          },
          "title": {
           "x": 0.05
          },
          "xaxis": {
           "automargin": true,
           "gridcolor": "white",
           "linecolor": "white",
           "ticks": "",
           "title": {
            "standoff": 15
           },
           "zerolinecolor": "white",
           "zerolinewidth": 2
          },
          "yaxis": {
           "automargin": true,
           "gridcolor": "white",
           "linecolor": "white",
           "ticks": "",
           "title": {
            "standoff": 15
           },
           "zerolinecolor": "white",
           "zerolinewidth": 2
          }
         }
        },
        "title": {
         "text": "ledighed vs. stress"
        },
        "xaxis": {
         "anchor": "y",
         "domain": [
          0,
          0.7363
         ],
         "title": {
          "text": "ledighed"
         }
        },
        "xaxis2": {
         "anchor": "y2",
         "domain": [
          0.7413,
          1
         ],
         "matches": "x2",
         "showgrid": true,
         "showline": false,
         "showticklabels": false,
         "ticks": ""
        },
        "xaxis3": {
         "anchor": "y3",
         "domain": [
          0,
          0.7363
         ],
         "matches": "x",
         "showgrid": true,
         "showticklabels": false
        },
        "xaxis4": {
         "anchor": "y4",
         "domain": [
          0.7413,
          1
         ],
         "matches": "x2",
         "showgrid": true,
         "showline": false,
         "showticklabels": false,
         "ticks": ""
        },
        "yaxis": {
         "anchor": "x",
         "domain": [
          0,
          0.7326
         ],
         "title": {
          "text": "stress"
         }
        },
        "yaxis2": {
         "anchor": "x2",
         "domain": [
          0,
          0.7326
         ],
         "matches": "y",
         "showgrid": true,
         "showticklabels": false
        },
        "yaxis3": {
         "anchor": "x3",
         "domain": [
          0.7426,
          1
         ],
         "matches": "y3",
         "showgrid": true,
         "showline": false,
         "showticklabels": false,
         "ticks": ""
        },
        "yaxis4": {
         "anchor": "x4",
         "domain": [
          0.7426,
          1
         ],
         "matches": "y3",
         "showgrid": true,
         "showline": false,
         "showticklabels": false,
         "ticks": ""
        }
       }
      },
      "text/html": [
       "<div>\n",
       "        \n",
       "        \n",
       "            <div id=\"75faf915-4f30-4d70-abf0-9b57e986eaa4\" class=\"plotly-graph-div\" style=\"height:525px; width:100%;\"></div>\n",
       "            <script type=\"text/javascript\">\n",
       "                require([\"plotly\"], function(Plotly) {\n",
       "                    window.PLOTLYENV=window.PLOTLYENV || {};\n",
       "                    \n",
       "                if (document.getElementById(\"75faf915-4f30-4d70-abf0-9b57e986eaa4\")) {\n",
       "                    Plotly.newPlot(\n",
       "                        '75faf915-4f30-4d70-abf0-9b57e986eaa4',\n",
       "                        [{\"customdata\": [[\"Arkitekt\"], [\"Veterin\\u00e6rmedicin\"], [\"Designledelse\"], [\"Odontologi\"], [\"Jura\"], [\"Farmaci\"], [\"Lyd- og musikteknologi\"], [\"Farmaceutisk videnskab\"], [\"Tv\\u00e6rkulturelle studier\"], [\"Amerikanske studier\"], [\"Engelsk\"], [\"Medialogy\"], [\"Medicin og teknologi\"], [\"Humanbiologi\"], [\"Molecular Biology\"], [\"Musikvidenskab\"], [\"Informationsvidenskab og kulturformidling\"], [\"Human ern\\u00e6ring\"], [\"Erhvervssprog og international virksomhedskommunikation\"], [\"Industrielt design\"], [\"Religionsvidenskab\"], [\"Sundhedsteknologi\"], [\"Radiograf\"], [\"Bioteknologi\"], [\"Biologi-bioteknologi\"], [\"Landskabsarkitektur\"], [\"Corporate Communication\"], [\"Biokemi\"], [\"Byggeri\"], [\"Moderne kultur og kulturformidling\"], [\"Sygeplejerske\"], [\"Uddannelsesvidenskab\"], [\"Filosofi\"], [\"Bioinformatik\"], [\"Digital design og interaktive teknologier\"], [\"Astronomi\"], [\"Milj\\u00f8videnskab\"], [\"Global udvikling\"], [\"Samfundsvidenskabelig jura\"], [\"Fransk sprog, litteratur og kultur\"], [\"Tekstildesign, -h\\u00e5ndv\\u00e6rk og formidling\"], [\"Erhvervs\\u00f8konomi og virksomhedskommunikation\"], [\"Bygningsdesign\"], [\"F\\u00f8devareteknologi\"], [\"Audiologi\"], [\"Cultural Sociology\"], [\"Mechatronics Engineering\"], [\"Medicine with Industrial Specialisation\"], [\"Antropologi\"], [\"Biologi\"], [\"Anvendt kemi\"], [\"It-ledelse\"], [\"Molekyl\\u00e6r ern\\u00e6ring og f\\u00f8devareteknologi\"], [\"Film- og medievidenskab\"], [\"Erhvervs\\u00f8konomi og psykologi\"], [\"It, kommunikation og organisation\"], [\"Datalogi\"], [\"Fysik\"], [\"Olie- og gasteknologi\"], [\"Kultur, kommunikation og globalisering\"], [\"Dansk\"], [\"Erhvervs\\u00f8konomi - erhvervssprog, negot.\"], [\"Medicin\"], [\"Webudvikling\"], [\"Fysik og nanoteknologi\"], [\"Agronomi\"], [\"P\\u00e6dagogisk filosofi\"], [\"P\\u00e6dagogisk psykologi\"], [\"Husdyrvidenskab\"], [\"P\\u00e6dagogik\"], [\"Socialt arbejde\"], [\"\\u00d8konomi\"], [\"Erhvervs\\u00f8konomi og erhvervsjura\"], [\"It-design og applikationsudvikling\"], [\"Matematik-\\u00f8konomi\"], [\"Historie\"], [\"Bioanalytiker\"], [\"Design og business\"], [\"Forvaltning\"], [\"Kemi og bioteknologi\"], [\"Kultur og formidling\"], [\"Socialr\\u00e5dgiver\"], [\"Tysk\"], [\"Litteraturvidenskab\"], [\"Erhvervs\\u00f8konomi, cand.soc.\"], [\"Teologi\"], [\"Geologi\"], [\"Diplomingeni\\u00f8r - bygningsdesign\"], [\"Tandplejer\"], [\"It-didaktisk design\"], [\"Bioinformatik og systembiologi\"], [\"Jordbrugs\\u00f8konomi\"], [\"Fysioterapeut\"], [\"Samfundsfag\"], [\"Statskundskab\"], [\"Sociologi\"], [\"Erhvervs\\u00f8konomi, cand.merc.\"], [\"Designer\"], [\"Dramaturgi\"], [\"Teknologibaseret forretningsudvikling\"], [\"Mechanical Engineering\"], [\"Softwaredesign\"], [\"Agro-Environmental Management\"], [\"Transport og logistik\"], [\"Matematik\"], [\"Sundhedsfremme og sundhedsstrategier\"], [\"Kriminologi\"], [\"Socialvidenskab\"], [\"Ern\\u00e6ring og sundhed\"], [\"Kemi (civilingeni\\u00f8r)\"], [\"Diplomingeni\\u00f8r - softwareteknologi\"], [\"Digital innovation og management\"], [\"Kunsthistorie\"], [\"Digital design\"], [\"Psykologi\"], [\"Sundhedsfaglig kandidat\"], [\"Psykomotorisk terapeut\"], [\"Medievidenskab\"], [\"Ergoterapi\"], [\"Erhvervs\\u00f8konomi og filosofi\"], [\"Spansk sprog og kultur\"], [\"Mellem\\u00f8ststudier\"], [\"Molekyl\\u00e6r medicin\"], [\"Diplomingeni\\u00f8r - bygning\"], [\"Humanistisk-samfundsvidenskabelig idr\\u00e6tsvidenskab\"], [\"Informationsvidenskab\"], [\"Software\"], [\"Folkesundhedsvidenskab\"], [\"Diplomingeni\\u00f8r - elektrisk energiteknologi\"], [\"Audiologop\\u00e6di\"], [\"P\\u00e6dagogisk sociologi\"], [\"Nanoscience\"], [\"Klinisk sygepleje\"], [\"Sygepleje\"], [\"Anvendt kulturanalyse\"], [\"F\\u00f8devarevidenskab\"], [\"Geografi\"], [\"Optometrist\"], [\"Bygningskonstrukt\\u00f8r\"], [\"Ergoterapeut\"], [\"P\\u00e6dagog\"], [\"Arbejdslivsstudier\"], [\"Fysioterapi\"], [\"Have- og parkingeni\\u00f8r\"], [\"Kommunikation\"], [\"Klinisk ern\\u00e6ring\"], [\"Tourism\"], [\"Digitale medieteknologier\"], [\"Interaktive digitale medier\"], [\"International sikkerhed og folkeret\"], [\"Design og innovation\"], [\"Politisk kommunikation og ledelse\"], [\"Lingvistik\"], [\"Humanfysiologi\"], [\"Laboratorie- og f\\u00f8devareteknologi\"], [\"Medicinalkemi\"], [\"Journalistik\"], [\"Spil\"], [\"Offentlig administration\"], [\"\\u00c6stetik og kultur\"], [\"Softwareudvikling\"], [\"IT Product Design\"], [\"Kemi\"], [\"Revisorkandidat, cand.merc.aud.\"], [\"Jordemoder\"], [\"Oplevelses\\u00f8konomi\"], [\"Vision, Graphics and Interactive Systems\"], [\"Kemisk og biokemisk teknologi\"], [\"Energy Engineering\"], [\"Diplomingeni\\u00f8r - maskinteknik\"], [\"Industriel \\u00f8konomi og teknologiledelse\"], [\"Materiale- og procesteknologi\"], [\"Milj\\u00f8teknologi\"], [\"Byggeteknologi\"], [\"Geofysik\"], [\"Digital konceptudvikling\"], [\"Statistik\"], [\"Webkommunikation\"], [\"Informationsteknologi\"], [\"Farmateknologi\"], [\"Multimediedesigner\"], [\"International handel og markedsf\\u00f8ring\"], [\"Business Administration and Information Systems\"], [\"Maskinmester\"], [\"Politik og administration\"], [\"B\\u00e6redygtigt design\"], [\"Virksomhedsledelse\"], [\"Didaktik\"], [\"Energiteknologi\"], [\"Elektroteknologi\"], [\"L\\u00e6rer i folkeskolen\"], [\"Mekanik\"], [\"Diplomingeni\\u00f8r - elektronik\"], [\"L\\u00e6ring og forandringsprocesser\"], [\"International Hospitality Management\"], [\"Anvendt filosofi\"], [\"Diplomingeni\\u00f8r - eksport og teknologi\"], [\"Jordbrug\"], [\"Financial Controller\"], [\"P\\u00e6dagogisk antropologi\"], [\"Europastudier\"], [\"Administrations\\u00f8konom\"], [\"International Public Administration and Politics\"], [\"Matematisk modellering og computing\"], [\"Designteknolog\"], [\"Laborant\"], [\"Retorik\"], [\"IT-teknolog\"], [\"Konstruktion og mekanik\"], [\"Water and Environment Engineering\"], [\"Datamatiker\"], [\"Elinstallat\\u00f8r\"], [\"Finans\"], [\"Markedsf\\u00f8rings\\u00f8konom\"], [\"B\\u00e6redygtig energi\"], [\"Procesteknolog\"], [\"Lyd og akustisk teknologi\"], [\"Service\\u00f8konom\"], [\"Produktudvikling og teknisk integration\"], [\"Medieproduktion og ledelse\"], [\"It, l\\u00e6ring og organisatorisk omstilling\"], [\"Milj\\u00f8teknolog\"], [\"Innovation and Business\"], [\"Idr\\u00e6t\"], [\"Grafisk kommunikation\"], [\"\\u00d8konomi og informationsteknologi\"], [\"Veje og trafik\"], [\"Ledelse og informatik i byggeriet\"], [\"Logistik\\u00f8konom\"], [\"Diakoni og socialp\\u00e6dagogik\"], [\"Finans\\u00f8konom\"], [\"Visuel kommunikation\"], [\"Handels\\u00f8konom\"], [\"Multiplatform storytelling and production\"], [\"Jordbrugsteknolog\"], [\"Journalist\"], [\"Geofysik og rumteknologi\"], [\"Automationsteknolog\"], [\"Produktionsteknolog\"], [\"Kommunikation\"], [\"Landinspekt\\u00f8rvidenskab\"], [\"Tv- og medietilrettel\\u00e6ggelse\"], [\"Energiteknolog\"], [\"L\\u00e6rer fra Den frie L\\u00e6rerskole\"]], \"hoverlabel\": {\"namelength\": 0}, \"hovertemplate\": \"ledighed=%{x}<br>stress=%{y}<br>Titel=%{customdata[0]}\", \"legendgroup\": \"\", \"marker\": {\"color\": \"#636efa\", \"symbol\": \"circle\"}, \"mode\": \"markers\", \"name\": \"\", \"showlegend\": false, \"type\": \"scatter\", \"x\": [11.0, 6.0, 27.0, 3.0, 5.0, 8.0, 13.0, 4.0, 23.0, 22.0, 22.0, 24.0, 4.0, 6.0, 17.0, 16.0, 19.0, 24.0, 18.0, 21.0, 24.0, 1.0, 3.0, 12.0, 14.0, 13.0, 12.0, 18.0, 1.0, 25.0, 1.0, 15.0, 30.0, 5.0, 12.0, 13.0, 10.0, 10.0, 5.0, 23.0, 21.0, 9.0, 14.0, 10.0, 8.0, 12.0, 7.0, 17.0, 23.0, 23.0, 12.0, 12.0, 14.0, 19.0, 7.0, 6.0, 3.0, 6.0, 10.0, 27.0, 16.0, 14.0, 1.0, 13.0, 5.0, 11.0, 17.0, 12.0, 12.0, 14.0, 10.0, 2.0, 6.0, 15.0, 3.0, 26.0, 5.0, 16.0, 11.0, 11.0, 36.0, 6.0, 16.0, 27.0, 7.0, 18.0, 17.0, 4.0, 8.0, 12.0, 8.0, 7.0, 6.0, 14.0, 6.0, 17.0, 7.0, 27.0, 24.0, 7.0, 6.0, 3.0, 18.0, 2.0, 3.0, 20.0, 18.0, 28.0, 11.0, 18.0, 5.0, 6.0, 31.0, 24.0, 10.0, 7.0, 20.0, 20.0, 5.0, 19.0, 22.0, 22.0, 14.0, 4.0, 10.0, 13.0, 3.0, 11.0, 3.0, 2.0, 13.0, 14.0, 1.0, 3.0, 23.0, 8.0, 13.0, 1.0, 7.0, 10.0, 8.0, 12.0, 5.0, 14.0, 22.0, 10.0, 19.0, 5.0, 37.0, 20.0, 6.0, 12.0, 14.0, 12.0, 13.0, 17.0, 12.0, 12.0, 12.0, 31.0, 7.0, 19.0, 12.0, 2.0, 2.0, 28.0, 4.0, 6.0, 5.0, 5.0, 4.0, 6.0, 11.0, 4.0, 18.0, 20.0, 2.0, 16.0, 0.0, 7.0, 15.0, 12.0, 6.0, 3.0, 18.0, 16.0, 16.0, 13.0, 22.0, 4.0, 6.0, 1.0, 5.0, 19.0, 13.0, 30.0, 12.0, 16.0, 10.0, 17.0, 26.0, 19.0, 10.0, 2.0, 12.0, 7.0, 18.0, 11.0, 2.0, 2.0, 10.0, 2.0, 4.0, 8.0, 12.0, 13.0, 2.0, 9.0, 15.0, 14.0, 16.0, 22.0, 7.0, 15.0, 19.0, 4.0, 1.0, 6.0, 7.0, 7.0, 6.0, 16.0, 8.0, 21.0, 10.0, 11.0, 11.0, 3.0, 10.0, 8.0, 4.0, 14.0, 12.0, 19.0], \"xaxis\": \"x\", \"y\": [2.74, 2.89, 2.97, 2.84, 3.21, 3.04, 3.0, 3.1, 2.96, 3.25, 3.13, 3.18, 2.92, 3.6, 2.98, 3.06, 3.18, 3.3, 3.23, 3.25, 3.34, 3.78, 3.54, 3.24, 3.58, 3.1, 3.37, 3.47, 3.43, 3.37, 3.48, 3.54, 3.15, 3.13, 3.1, 3.09, 3.2, 3.08, 3.53, 3.39, 3.31, 3.43, 3.09, 3.29, 3.58, 3.36, 2.96, 3.45, 3.09, 3.36, 3.39, 3.67, 3.27, 3.33, 3.49, 3.4, 3.14, 3.41, 3.26, 3.3, 3.46, 3.4, 3.53, 3.33, 3.17, 3.33, 3.47, 3.37, 3.31, 3.41, 3.6, 3.35, 3.44, 3.3, 3.67, 3.36, 3.49, 3.39, 3.42, 3.73, 3.47, 3.59, 3.35, 3.35, 3.69, 3.46, 3.48, 3.39, 3.55, 3.5, 3.31, 3.71, 3.59, 3.46, 3.4, 3.31, 3.49, 3.25, 3.39, 3.53, 3.59, 3.06, 3.27, 3.35, 3.63, 3.38, 3.77, 3.43, 3.53, 3.67, 3.49, 3.61, 3.48, 3.46, 3.46, 3.59, 3.33, 3.77, 3.6, 3.69, 3.31, 3.45, 3.39, 3.6, 3.56, 3.4, 3.53, 3.6, 3.66, 3.67, 3.54, 3.48, 3.62, 3.73, 3.43, 3.72, 3.45, 3.61, 3.53, 3.64, 3.61, 3.34, 3.59, 3.64, 3.62, 3.68, 3.54, 3.4, 3.52, 3.61, 3.53, 3.49, 3.63, 3.79, 3.72, 3.5, 3.31, 3.45, 3.73, 3.35, 3.76, 3.43, 3.45, 3.77, 3.42, 3.29, 3.88, 3.34, 3.52, 3.66, 3.63, 3.45, 3.39, 3.54, 3.69, 3.65, 3.74, 3.54, 3.61, 3.67, 3.55, 3.72, 3.73, 3.69, 3.63, 3.43, 3.45, 3.7, 3.81, 3.53, 3.62, 3.82, 3.5, 3.61, 3.9, 3.76, 3.88, 3.7, 3.64, 3.74, 4.0, 3.8, 3.55, 3.58, 3.71, 3.84, 3.71, 3.66, 3.69, 3.53, 3.84, 3.77, 3.87, 3.87, 3.37, 3.83, 3.79, 3.94, 3.85, 3.91, 3.7, 3.77, 3.84, 3.94, 3.37, 4.04, 4.07, 3.75, 3.93, 3.98, 3.97, 3.51, 3.92, 3.72, 3.84, 3.63, 3.85, 3.97, 3.99, 3.97, 3.98, 3.67, 4.17, 4.11], \"yaxis\": \"y\"}, {\"alignmentgroup\": \"True\", \"bingroup\": \"x\", \"hoverlabel\": {\"namelength\": 0}, \"hovertemplate\": \"ledighed=%{x}<br>count=%{y}\", \"legendgroup\": \"\", \"marker\": {\"color\": \"#636efa\"}, \"name\": \"\", \"offsetgroup\": \"\", \"opacity\": 0.5, \"showlegend\": false, \"type\": \"histogram\", \"x\": [11.0, 6.0, 27.0, 3.0, 5.0, 8.0, 13.0, 4.0, 23.0, 22.0, 22.0, 24.0, 4.0, 6.0, 17.0, 16.0, 19.0, 24.0, 18.0, 21.0, 24.0, 1.0, 3.0, 12.0, 14.0, 13.0, 12.0, 18.0, 1.0, 25.0, 1.0, 15.0, 30.0, 5.0, 12.0, 13.0, 10.0, 10.0, 5.0, 23.0, 21.0, 9.0, 14.0, 10.0, 8.0, 12.0, 7.0, 17.0, 23.0, 23.0, 12.0, 12.0, 14.0, 19.0, 7.0, 6.0, 3.0, 6.0, 10.0, 27.0, 16.0, 14.0, 1.0, 13.0, 5.0, 11.0, 17.0, 12.0, 12.0, 14.0, 10.0, 2.0, 6.0, 15.0, 3.0, 26.0, 5.0, 16.0, 11.0, 11.0, 36.0, 6.0, 16.0, 27.0, 7.0, 18.0, 17.0, 4.0, 8.0, 12.0, 8.0, 7.0, 6.0, 14.0, 6.0, 17.0, 7.0, 27.0, 24.0, 7.0, 6.0, 3.0, 18.0, 2.0, 3.0, 20.0, 18.0, 28.0, 11.0, 18.0, 5.0, 6.0, 31.0, 24.0, 10.0, 7.0, 20.0, 20.0, 5.0, 19.0, 22.0, 22.0, 14.0, 4.0, 10.0, 13.0, 3.0, 11.0, 3.0, 2.0, 13.0, 14.0, 1.0, 3.0, 23.0, 8.0, 13.0, 1.0, 7.0, 10.0, 8.0, 12.0, 5.0, 14.0, 22.0, 10.0, 19.0, 5.0, 37.0, 20.0, 6.0, 12.0, 14.0, 12.0, 13.0, 17.0, 12.0, 12.0, 12.0, 31.0, 7.0, 19.0, 12.0, 2.0, 2.0, 28.0, 4.0, 6.0, 5.0, 5.0, 4.0, 6.0, 11.0, 4.0, 18.0, 20.0, 2.0, 16.0, 0.0, 7.0, 15.0, 12.0, 6.0, 3.0, 18.0, 16.0, 16.0, 13.0, 22.0, 4.0, 6.0, 1.0, 5.0, 19.0, 13.0, 30.0, 12.0, 16.0, 10.0, 17.0, 26.0, 19.0, 10.0, 2.0, 12.0, 7.0, 18.0, 11.0, 2.0, 2.0, 10.0, 2.0, 4.0, 8.0, 12.0, 13.0, 2.0, 9.0, 15.0, 14.0, 16.0, 22.0, 7.0, 15.0, 19.0, 4.0, 1.0, 6.0, 7.0, 7.0, 6.0, 16.0, 8.0, 21.0, 10.0, 11.0, 11.0, 3.0, 10.0, 8.0, 4.0, 14.0, 12.0, 19.0], \"xaxis\": \"x3\", \"yaxis\": \"y3\"}, {\"alignmentgroup\": \"True\", \"bingroup\": \"y\", \"hoverlabel\": {\"namelength\": 0}, \"hovertemplate\": \"stress=%{y}<br>count=%{x}\", \"legendgroup\": \"\", \"marker\": {\"color\": \"#636efa\"}, \"name\": \"\", \"offsetgroup\": \"\", \"opacity\": 0.5, \"showlegend\": false, \"type\": \"histogram\", \"xaxis\": \"x2\", \"y\": [2.74, 2.89, 2.97, 2.84, 3.21, 3.04, 3.0, 3.1, 2.96, 3.25, 3.13, 3.18, 2.92, 3.6, 2.98, 3.06, 3.18, 3.3, 3.23, 3.25, 3.34, 3.78, 3.54, 3.24, 3.58, 3.1, 3.37, 3.47, 3.43, 3.37, 3.48, 3.54, 3.15, 3.13, 3.1, 3.09, 3.2, 3.08, 3.53, 3.39, 3.31, 3.43, 3.09, 3.29, 3.58, 3.36, 2.96, 3.45, 3.09, 3.36, 3.39, 3.67, 3.27, 3.33, 3.49, 3.4, 3.14, 3.41, 3.26, 3.3, 3.46, 3.4, 3.53, 3.33, 3.17, 3.33, 3.47, 3.37, 3.31, 3.41, 3.6, 3.35, 3.44, 3.3, 3.67, 3.36, 3.49, 3.39, 3.42, 3.73, 3.47, 3.59, 3.35, 3.35, 3.69, 3.46, 3.48, 3.39, 3.55, 3.5, 3.31, 3.71, 3.59, 3.46, 3.4, 3.31, 3.49, 3.25, 3.39, 3.53, 3.59, 3.06, 3.27, 3.35, 3.63, 3.38, 3.77, 3.43, 3.53, 3.67, 3.49, 3.61, 3.48, 3.46, 3.46, 3.59, 3.33, 3.77, 3.6, 3.69, 3.31, 3.45, 3.39, 3.6, 3.56, 3.4, 3.53, 3.6, 3.66, 3.67, 3.54, 3.48, 3.62, 3.73, 3.43, 3.72, 3.45, 3.61, 3.53, 3.64, 3.61, 3.34, 3.59, 3.64, 3.62, 3.68, 3.54, 3.4, 3.52, 3.61, 3.53, 3.49, 3.63, 3.79, 3.72, 3.5, 3.31, 3.45, 3.73, 3.35, 3.76, 3.43, 3.45, 3.77, 3.42, 3.29, 3.88, 3.34, 3.52, 3.66, 3.63, 3.45, 3.39, 3.54, 3.69, 3.65, 3.74, 3.54, 3.61, 3.67, 3.55, 3.72, 3.73, 3.69, 3.63, 3.43, 3.45, 3.7, 3.81, 3.53, 3.62, 3.82, 3.5, 3.61, 3.9, 3.76, 3.88, 3.7, 3.64, 3.74, 4.0, 3.8, 3.55, 3.58, 3.71, 3.84, 3.71, 3.66, 3.69, 3.53, 3.84, 3.77, 3.87, 3.87, 3.37, 3.83, 3.79, 3.94, 3.85, 3.91, 3.7, 3.77, 3.84, 3.94, 3.37, 4.04, 4.07, 3.75, 3.93, 3.98, 3.97, 3.51, 3.92, 3.72, 3.84, 3.63, 3.85, 3.97, 3.99, 3.97, 3.98, 3.67, 4.17, 4.11], \"yaxis\": \"y2\"}, {\"hoverlabel\": {\"namelength\": 0}, \"hovertemplate\": \"<b>LOWESS trendline</b><br><br>ledighed=%{x}<br>stress=%{y} <b>(trend)</b>\", \"legendgroup\": \"\", \"marker\": {\"color\": \"#636efa\", \"symbol\": \"circle\"}, \"mode\": \"lines\", \"name\": \"\", \"showlegend\": false, \"type\": \"scatter\", \"x\": [0.0, 1.0, 1.0, 1.0, 1.0, 1.0, 1.0, 1.0, 1.0, 2.0, 2.0, 2.0, 2.0, 2.0, 2.0, 2.0, 2.0, 2.0, 2.0, 2.0, 3.0, 3.0, 3.0, 3.0, 3.0, 3.0, 3.0, 3.0, 3.0, 3.0, 3.0, 4.0, 4.0, 4.0, 4.0, 4.0, 4.0, 4.0, 4.0, 4.0, 4.0, 4.0, 5.0, 5.0, 5.0, 5.0, 5.0, 5.0, 5.0, 5.0, 5.0, 5.0, 5.0, 5.0, 6.0, 6.0, 6.0, 6.0, 6.0, 6.0, 6.0, 6.0, 6.0, 6.0, 6.0, 6.0, 6.0, 6.0, 6.0, 6.0, 6.0, 7.0, 7.0, 7.0, 7.0, 7.0, 7.0, 7.0, 7.0, 7.0, 7.0, 7.0, 7.0, 7.0, 7.0, 8.0, 8.0, 8.0, 8.0, 8.0, 8.0, 8.0, 8.0, 8.0, 9.0, 9.0, 10.0, 10.0, 10.0, 10.0, 10.0, 10.0, 10.0, 10.0, 10.0, 10.0, 10.0, 10.0, 10.0, 10.0, 11.0, 11.0, 11.0, 11.0, 11.0, 11.0, 11.0, 11.0, 11.0, 11.0, 12.0, 12.0, 12.0, 12.0, 12.0, 12.0, 12.0, 12.0, 12.0, 12.0, 12.0, 12.0, 12.0, 12.0, 12.0, 12.0, 12.0, 12.0, 12.0, 12.0, 12.0, 13.0, 13.0, 13.0, 13.0, 13.0, 13.0, 13.0, 13.0, 13.0, 13.0, 13.0, 14.0, 14.0, 14.0, 14.0, 14.0, 14.0, 14.0, 14.0, 14.0, 14.0, 14.0, 14.0, 15.0, 15.0, 15.0, 15.0, 15.0, 16.0, 16.0, 16.0, 16.0, 16.0, 16.0, 16.0, 16.0, 16.0, 16.0, 17.0, 17.0, 17.0, 17.0, 17.0, 17.0, 17.0, 18.0, 18.0, 18.0, 18.0, 18.0, 18.0, 18.0, 18.0, 18.0, 19.0, 19.0, 19.0, 19.0, 19.0, 19.0, 19.0, 19.0, 19.0, 20.0, 20.0, 20.0, 20.0, 20.0, 21.0, 21.0, 21.0, 22.0, 22.0, 22.0, 22.0, 22.0, 22.0, 22.0, 23.0, 23.0, 23.0, 23.0, 23.0, 24.0, 24.0, 24.0, 24.0, 24.0, 25.0, 26.0, 26.0, 27.0, 27.0, 27.0, 27.0, 28.0, 28.0, 30.0, 30.0, 31.0, 31.0, 36.0, 37.0], \"xaxis\": \"x\", \"y\": [3.6138448335177404, 3.607977587175458, 3.607977587175458, 3.607977587175458, 3.607977587175458, 3.607977587175458, 3.607977587175458, 3.607977587175458, 3.607977587175458, 3.6026178926748016, 3.6026178926748016, 3.6026178926748016, 3.6026178926748016, 3.6026178926748016, 3.6026178926748016, 3.6026178926748016, 3.6026178926748016, 3.6026178926748016, 3.6026178926748016, 3.6026178926748016, 3.597638898367326, 3.597638898367326, 3.597638898367326, 3.597638898367326, 3.597638898367326, 3.597638898367326, 3.597638898367326, 3.597638898367326, 3.597638898367326, 3.597638898367326, 3.597638898367326, 3.5927730991435145, 3.5927730991435145, 3.5927730991435145, 3.5927730991435145, 3.5927730991435145, 3.5927730991435145, 3.5927730991435145, 3.5927730991435145, 3.5927730991435145, 3.5927730991435145, 3.5927730991435145, 3.5876080271836437, 3.5876080271836437, 3.5876080271836437, 3.5876080271836437, 3.5876080271836437, 3.5876080271836437, 3.5876080271836437, 3.5876080271836437, 3.5876080271836437, 3.5876080271836437, 3.5876080271836437, 3.5876080271836437, 3.5815307313781224, 3.5815307313781224, 3.5815307313781224, 3.5815307313781224, 3.5815307313781224, 3.5815307313781224, 3.5815307313781224, 3.5815307313781224, 3.5815307313781224, 3.5815307313781224, 3.5815307313781224, 3.5815307313781224, 3.5815307313781224, 3.5815307313781224, 3.5815307313781224, 3.5815307313781224, 3.5815307313781224, 3.5747584619783748, 3.5747584619783748, 3.5747584619783748, 3.5747584619783748, 3.5747584619783748, 3.5747584619783748, 3.5747584619783748, 3.5747584619783748, 3.5747584619783748, 3.5747584619783748, 3.5747584619783748, 3.5747584619783748, 3.5747584619783748, 3.5747584619783748, 3.5655479292798082, 3.5655479292798082, 3.5655479292798082, 3.5655479292798082, 3.5655479292798082, 3.5655479292798082, 3.5655479292798082, 3.5655479292798082, 3.5655479292798082, 3.557361999706392, 3.557361999706392, 3.550068763223698, 3.550068763223698, 3.550068763223698, 3.550068763223698, 3.550068763223698, 3.550068763223698, 3.550068763223698, 3.550068763223698, 3.550068763223698, 3.550068763223698, 3.550068763223698, 3.550068763223698, 3.550068763223698, 3.550068763223698, 3.5413500817237176, 3.5413500817237176, 3.5413500817237176, 3.5413500817237176, 3.5413500817237176, 3.5413500817237176, 3.5413500817237176, 3.5413500817237176, 3.5413500817237176, 3.5413500817237176, 3.5284012743334148, 3.5284012743334148, 3.5284012743334148, 3.5284012743334148, 3.5284012743334148, 3.5284012743334148, 3.5284012743334148, 3.5284012743334148, 3.5284012743334148, 3.5284012743334148, 3.5284012743334148, 3.5284012743334148, 3.5284012743334148, 3.5284012743334148, 3.5284012743334148, 3.5284012743334148, 3.5284012743334148, 3.5284012743334148, 3.5284012743334148, 3.5284012743334148, 3.5284012743334148, 3.5197980007269707, 3.5197980007269707, 3.5197980007269707, 3.5197980007269707, 3.5197980007269707, 3.5197980007269707, 3.5197980007269707, 3.5197980007269707, 3.5197980007269707, 3.5197980007269707, 3.5197980007269707, 3.5110527157517395, 3.5110527157517395, 3.5110527157517395, 3.5110527157517395, 3.5110527157517395, 3.5110527157517395, 3.5110527157517395, 3.5110527157517395, 3.5110527157517395, 3.5110527157517395, 3.5110527157517395, 3.5110527157517395, 3.506879730307766, 3.506879730307766, 3.506879730307766, 3.506879730307766, 3.506879730307766, 3.4971246736870496, 3.4971246736870496, 3.4971246736870496, 3.4971246736870496, 3.4971246736870496, 3.4971246736870496, 3.4971246736870496, 3.4971246736870496, 3.4971246736870496, 3.4971246736870496, 3.486352997479444, 3.486352997479444, 3.486352997479444, 3.486352997479444, 3.486352997479444, 3.486352997479444, 3.486352997479444, 3.4721528321729607, 3.4721528321729607, 3.4721528321729607, 3.4721528321729607, 3.4721528321729607, 3.4721528321729607, 3.4721528321729607, 3.4721528321729607, 3.4721528321729607, 3.4573991189691493, 3.4573991189691493, 3.4573991189691493, 3.4573991189691493, 3.4573991189691493, 3.4573991189691493, 3.4573991189691493, 3.4573991189691493, 3.4573991189691493, 3.444052968710011, 3.444052968710011, 3.444052968710011, 3.444052968710011, 3.444052968710011, 3.4326412670412685, 3.4326412670412685, 3.4326412670412685, 3.4220850483239054, 3.4220850483239054, 3.4220850483239054, 3.4220850483239054, 3.4220850483239054, 3.4220850483239054, 3.4220850483239054, 3.4128291600256344, 3.4128291600256344, 3.4128291600256344, 3.4128291600256344, 3.4128291600256344, 3.405562358885057, 3.405562358885057, 3.405562358885057, 3.405562358885057, 3.405562358885057, 3.3993169224650397, 3.3932736820658294, 3.3932736820658294, 3.387053268184463, 3.387053268184463, 3.387053268184463, 3.387053268184463, 3.380537069689572, 3.380537069689572, 3.3668753487906447, 3.3668753487906447, 3.359947618814063, 3.359947618814063, 3.3276960912816453, 3.3221198245490995], \"yaxis\": \"y\"}],\n",
       "                        {\"barmode\": \"overlay\", \"legend\": {\"tracegroupgap\": 0}, \"shapes\": [{\"fillcolor\": \"LightSkyBlue\", \"layer\": \"below\", \"line\": {\"width\": 0}, \"opacity\": 0.5, \"type\": \"rect\", \"x0\": 11.115261697226948, \"x1\": 13.024082565068134, \"xref\": \"x\", \"y0\": 2.74, \"y1\": 4.17, \"yref\": \"y\"}, {\"fillcolor\": \"LightSkyBlue\", \"layer\": \"below\", \"line\": {\"width\": 0}, \"opacity\": 0.5, \"type\": \"rect\", \"x0\": 0.0, \"x1\": 37.0, \"xref\": \"x\", \"y0\": 3.483906110086742, \"y1\": 3.5479791358148964, \"yref\": \"y\"}], \"template\": {\"data\": {\"bar\": [{\"error_x\": {\"color\": \"#2a3f5f\"}, \"error_y\": {\"color\": \"#2a3f5f\"}, \"marker\": {\"line\": {\"color\": \"#E5ECF6\", \"width\": 0.5}}, \"type\": \"bar\"}], \"barpolar\": [{\"marker\": {\"line\": {\"color\": \"#E5ECF6\", \"width\": 0.5}}, \"type\": \"barpolar\"}], \"carpet\": [{\"aaxis\": {\"endlinecolor\": \"#2a3f5f\", \"gridcolor\": \"white\", \"linecolor\": \"white\", \"minorgridcolor\": \"white\", \"startlinecolor\": \"#2a3f5f\"}, \"baxis\": {\"endlinecolor\": \"#2a3f5f\", \"gridcolor\": \"white\", \"linecolor\": \"white\", \"minorgridcolor\": \"white\", \"startlinecolor\": \"#2a3f5f\"}, \"type\": \"carpet\"}], \"choropleth\": [{\"colorbar\": {\"outlinewidth\": 0, \"ticks\": \"\"}, \"type\": \"choropleth\"}], \"contour\": [{\"colorbar\": {\"outlinewidth\": 0, \"ticks\": \"\"}, \"colorscale\": [[0.0, \"#0d0887\"], [0.1111111111111111, \"#46039f\"], [0.2222222222222222, \"#7201a8\"], [0.3333333333333333, \"#9c179e\"], [0.4444444444444444, \"#bd3786\"], [0.5555555555555556, \"#d8576b\"], [0.6666666666666666, \"#ed7953\"], [0.7777777777777778, \"#fb9f3a\"], [0.8888888888888888, \"#fdca26\"], [1.0, \"#f0f921\"]], \"type\": \"contour\"}], \"contourcarpet\": [{\"colorbar\": {\"outlinewidth\": 0, \"ticks\": \"\"}, \"type\": \"contourcarpet\"}], \"heatmap\": [{\"colorbar\": {\"outlinewidth\": 0, \"ticks\": \"\"}, \"colorscale\": [[0.0, \"#0d0887\"], [0.1111111111111111, \"#46039f\"], [0.2222222222222222, \"#7201a8\"], [0.3333333333333333, \"#9c179e\"], [0.4444444444444444, \"#bd3786\"], [0.5555555555555556, \"#d8576b\"], [0.6666666666666666, \"#ed7953\"], [0.7777777777777778, \"#fb9f3a\"], [0.8888888888888888, \"#fdca26\"], [1.0, \"#f0f921\"]], \"type\": \"heatmap\"}], \"heatmapgl\": [{\"colorbar\": {\"outlinewidth\": 0, \"ticks\": \"\"}, \"colorscale\": [[0.0, \"#0d0887\"], [0.1111111111111111, \"#46039f\"], [0.2222222222222222, \"#7201a8\"], [0.3333333333333333, \"#9c179e\"], [0.4444444444444444, \"#bd3786\"], [0.5555555555555556, \"#d8576b\"], [0.6666666666666666, \"#ed7953\"], [0.7777777777777778, \"#fb9f3a\"], [0.8888888888888888, \"#fdca26\"], [1.0, \"#f0f921\"]], \"type\": \"heatmapgl\"}], \"histogram\": [{\"marker\": {\"colorbar\": {\"outlinewidth\": 0, \"ticks\": \"\"}}, \"type\": \"histogram\"}], \"histogram2d\": [{\"colorbar\": {\"outlinewidth\": 0, \"ticks\": \"\"}, \"colorscale\": [[0.0, \"#0d0887\"], [0.1111111111111111, \"#46039f\"], [0.2222222222222222, \"#7201a8\"], [0.3333333333333333, \"#9c179e\"], [0.4444444444444444, \"#bd3786\"], [0.5555555555555556, \"#d8576b\"], [0.6666666666666666, \"#ed7953\"], [0.7777777777777778, \"#fb9f3a\"], [0.8888888888888888, \"#fdca26\"], [1.0, \"#f0f921\"]], \"type\": \"histogram2d\"}], \"histogram2dcontour\": [{\"colorbar\": {\"outlinewidth\": 0, \"ticks\": \"\"}, \"colorscale\": [[0.0, \"#0d0887\"], [0.1111111111111111, \"#46039f\"], [0.2222222222222222, \"#7201a8\"], [0.3333333333333333, \"#9c179e\"], [0.4444444444444444, \"#bd3786\"], [0.5555555555555556, \"#d8576b\"], [0.6666666666666666, \"#ed7953\"], [0.7777777777777778, \"#fb9f3a\"], [0.8888888888888888, \"#fdca26\"], [1.0, \"#f0f921\"]], \"type\": \"histogram2dcontour\"}], \"mesh3d\": [{\"colorbar\": {\"outlinewidth\": 0, \"ticks\": \"\"}, \"type\": \"mesh3d\"}], \"parcoords\": [{\"line\": {\"colorbar\": {\"outlinewidth\": 0, \"ticks\": \"\"}}, \"type\": \"parcoords\"}], \"pie\": [{\"automargin\": true, \"type\": \"pie\"}], \"scatter\": [{\"marker\": {\"colorbar\": {\"outlinewidth\": 0, \"ticks\": \"\"}}, \"type\": \"scatter\"}], \"scatter3d\": [{\"line\": {\"colorbar\": {\"outlinewidth\": 0, \"ticks\": \"\"}}, \"marker\": {\"colorbar\": {\"outlinewidth\": 0, \"ticks\": \"\"}}, \"type\": \"scatter3d\"}], \"scattercarpet\": [{\"marker\": {\"colorbar\": {\"outlinewidth\": 0, \"ticks\": \"\"}}, \"type\": \"scattercarpet\"}], \"scattergeo\": [{\"marker\": {\"colorbar\": {\"outlinewidth\": 0, \"ticks\": \"\"}}, \"type\": \"scattergeo\"}], \"scattergl\": [{\"marker\": {\"colorbar\": {\"outlinewidth\": 0, \"ticks\": \"\"}}, \"type\": \"scattergl\"}], \"scattermapbox\": [{\"marker\": {\"colorbar\": {\"outlinewidth\": 0, \"ticks\": \"\"}}, \"type\": \"scattermapbox\"}], \"scatterpolar\": [{\"marker\": {\"colorbar\": {\"outlinewidth\": 0, \"ticks\": \"\"}}, \"type\": \"scatterpolar\"}], \"scatterpolargl\": [{\"marker\": {\"colorbar\": {\"outlinewidth\": 0, \"ticks\": \"\"}}, \"type\": \"scatterpolargl\"}], \"scatterternary\": [{\"marker\": {\"colorbar\": {\"outlinewidth\": 0, \"ticks\": \"\"}}, \"type\": \"scatterternary\"}], \"surface\": [{\"colorbar\": {\"outlinewidth\": 0, \"ticks\": \"\"}, \"colorscale\": [[0.0, \"#0d0887\"], [0.1111111111111111, \"#46039f\"], [0.2222222222222222, \"#7201a8\"], [0.3333333333333333, \"#9c179e\"], [0.4444444444444444, \"#bd3786\"], [0.5555555555555556, \"#d8576b\"], [0.6666666666666666, \"#ed7953\"], [0.7777777777777778, \"#fb9f3a\"], [0.8888888888888888, \"#fdca26\"], [1.0, \"#f0f921\"]], \"type\": \"surface\"}], \"table\": [{\"cells\": {\"fill\": {\"color\": \"#EBF0F8\"}, \"line\": {\"color\": \"white\"}}, \"header\": {\"fill\": {\"color\": \"#C8D4E3\"}, \"line\": {\"color\": \"white\"}}, \"type\": \"table\"}]}, \"layout\": {\"annotationdefaults\": {\"arrowcolor\": \"#2a3f5f\", \"arrowhead\": 0, \"arrowwidth\": 1}, \"coloraxis\": {\"colorbar\": {\"outlinewidth\": 0, \"ticks\": \"\"}}, \"colorscale\": {\"diverging\": [[0, \"#8e0152\"], [0.1, \"#c51b7d\"], [0.2, \"#de77ae\"], [0.3, \"#f1b6da\"], [0.4, \"#fde0ef\"], [0.5, \"#f7f7f7\"], [0.6, \"#e6f5d0\"], [0.7, \"#b8e186\"], [0.8, \"#7fbc41\"], [0.9, \"#4d9221\"], [1, \"#276419\"]], \"sequential\": [[0.0, \"#0d0887\"], [0.1111111111111111, \"#46039f\"], [0.2222222222222222, \"#7201a8\"], [0.3333333333333333, \"#9c179e\"], [0.4444444444444444, \"#bd3786\"], [0.5555555555555556, \"#d8576b\"], [0.6666666666666666, \"#ed7953\"], [0.7777777777777778, \"#fb9f3a\"], [0.8888888888888888, \"#fdca26\"], [1.0, \"#f0f921\"]], \"sequentialminus\": [[0.0, \"#0d0887\"], [0.1111111111111111, \"#46039f\"], [0.2222222222222222, \"#7201a8\"], [0.3333333333333333, \"#9c179e\"], [0.4444444444444444, \"#bd3786\"], [0.5555555555555556, \"#d8576b\"], [0.6666666666666666, \"#ed7953\"], [0.7777777777777778, \"#fb9f3a\"], [0.8888888888888888, \"#fdca26\"], [1.0, \"#f0f921\"]]}, \"colorway\": [\"#636efa\", \"#EF553B\", \"#00cc96\", \"#ab63fa\", \"#FFA15A\", \"#19d3f3\", \"#FF6692\", \"#B6E880\", \"#FF97FF\", \"#FECB52\"], \"font\": {\"color\": \"#2a3f5f\"}, \"geo\": {\"bgcolor\": \"white\", \"lakecolor\": \"white\", \"landcolor\": \"#E5ECF6\", \"showlakes\": true, \"showland\": true, \"subunitcolor\": \"white\"}, \"hoverlabel\": {\"align\": \"left\"}, \"hovermode\": \"closest\", \"mapbox\": {\"style\": \"light\"}, \"paper_bgcolor\": \"white\", \"plot_bgcolor\": \"#E5ECF6\", \"polar\": {\"angularaxis\": {\"gridcolor\": \"white\", \"linecolor\": \"white\", \"ticks\": \"\"}, \"bgcolor\": \"#E5ECF6\", \"radialaxis\": {\"gridcolor\": \"white\", \"linecolor\": \"white\", \"ticks\": \"\"}}, \"scene\": {\"xaxis\": {\"backgroundcolor\": \"#E5ECF6\", \"gridcolor\": \"white\", \"gridwidth\": 2, \"linecolor\": \"white\", \"showbackground\": true, \"ticks\": \"\", \"zerolinecolor\": \"white\"}, \"yaxis\": {\"backgroundcolor\": \"#E5ECF6\", \"gridcolor\": \"white\", \"gridwidth\": 2, \"linecolor\": \"white\", \"showbackground\": true, \"ticks\": \"\", \"zerolinecolor\": \"white\"}, \"zaxis\": {\"backgroundcolor\": \"#E5ECF6\", \"gridcolor\": \"white\", \"gridwidth\": 2, \"linecolor\": \"white\", \"showbackground\": true, \"ticks\": \"\", \"zerolinecolor\": \"white\"}}, \"shapedefaults\": {\"line\": {\"color\": \"#2a3f5f\"}}, \"ternary\": {\"aaxis\": {\"gridcolor\": \"white\", \"linecolor\": \"white\", \"ticks\": \"\"}, \"baxis\": {\"gridcolor\": \"white\", \"linecolor\": \"white\", \"ticks\": \"\"}, \"bgcolor\": \"#E5ECF6\", \"caxis\": {\"gridcolor\": \"white\", \"linecolor\": \"white\", \"ticks\": \"\"}}, \"title\": {\"x\": 0.05}, \"xaxis\": {\"automargin\": true, \"gridcolor\": \"white\", \"linecolor\": \"white\", \"ticks\": \"\", \"title\": {\"standoff\": 15}, \"zerolinecolor\": \"white\", \"zerolinewidth\": 2}, \"yaxis\": {\"automargin\": true, \"gridcolor\": \"white\", \"linecolor\": \"white\", \"ticks\": \"\", \"title\": {\"standoff\": 15}, \"zerolinecolor\": \"white\", \"zerolinewidth\": 2}}}, \"title\": {\"text\": \"ledighed vs. stress\"}, \"xaxis\": {\"anchor\": \"y\", \"domain\": [0.0, 0.7363], \"title\": {\"text\": \"ledighed\"}}, \"xaxis2\": {\"anchor\": \"y2\", \"domain\": [0.7413, 1.0], \"matches\": \"x2\", \"showgrid\": true, \"showline\": false, \"showticklabels\": false, \"ticks\": \"\"}, \"xaxis3\": {\"anchor\": \"y3\", \"domain\": [0.0, 0.7363], \"matches\": \"x\", \"showgrid\": true, \"showticklabels\": false}, \"xaxis4\": {\"anchor\": \"y4\", \"domain\": [0.7413, 1.0], \"matches\": \"x2\", \"showgrid\": true, \"showline\": false, \"showticklabels\": false, \"ticks\": \"\"}, \"yaxis\": {\"anchor\": \"x\", \"domain\": [0.0, 0.7326], \"title\": {\"text\": \"stress\"}}, \"yaxis2\": {\"anchor\": \"x2\", \"domain\": [0.0, 0.7326], \"matches\": \"y\", \"showgrid\": true, \"showticklabels\": false}, \"yaxis3\": {\"anchor\": \"x3\", \"domain\": [0.7426, 1.0], \"matches\": \"y3\", \"showgrid\": true, \"showline\": false, \"showticklabels\": false, \"ticks\": \"\"}, \"yaxis4\": {\"anchor\": \"x4\", \"domain\": [0.7426, 1.0], \"matches\": \"y3\", \"showgrid\": true, \"showline\": false, \"showticklabels\": false, \"ticks\": \"\"}},\n",
       "                        {\"responsive\": true}\n",
       "                    ).then(function(){\n",
       "                            \n",
       "var gd = document.getElementById('75faf915-4f30-4d70-abf0-9b57e986eaa4');\n",
       "var x = new MutationObserver(function (mutations, observer) {{\n",
       "        var display = window.getComputedStyle(gd).display;\n",
       "        if (!display || display === 'none') {{\n",
       "            console.log([gd, 'removed!']);\n",
       "            Plotly.purge(gd);\n",
       "            observer.disconnect();\n",
       "        }}\n",
       "}});\n",
       "\n",
       "// Listen for the removal of the full notebook cells\n",
       "var notebookContainer = gd.closest('#notebook-container');\n",
       "if (notebookContainer) {{\n",
       "    x.observe(notebookContainer, {childList: true});\n",
       "}}\n",
       "\n",
       "// Listen for the clearing of the current output cell\n",
       "var outputEl = gd.closest('.output');\n",
       "if (outputEl) {{\n",
       "    x.observe(outputEl, {childList: true});\n",
       "}}\n",
       "\n",
       "                        })\n",
       "                };\n",
       "                });\n",
       "            </script>\n",
       "        </div>"
      ]
     },
     "metadata": {},
     "output_type": "display_data"
    },
    {
     "data": {
      "application/vnd.plotly.v1+json": {
       "config": {
        "plotlyServerURL": "https://plot.ly"
       },
       "data": [
        {
         "customdata": [
          [
           "Arkitekt"
          ],
          [
           "Veterinærmedicin"
          ],
          [
           "Designledelse"
          ],
          [
           "Odontologi"
          ],
          [
           "Jura"
          ],
          [
           "Farmaci"
          ],
          [
           "Lyd- og musikteknologi"
          ],
          [
           "Farmaceutisk videnskab"
          ],
          [
           "Tværkulturelle studier"
          ],
          [
           "Amerikanske studier"
          ],
          [
           "Engelsk"
          ],
          [
           "Medialogy"
          ],
          [
           "Medicin og teknologi"
          ],
          [
           "Humanbiologi"
          ],
          [
           "Molecular Biology"
          ],
          [
           "Musikvidenskab"
          ],
          [
           "Informationsvidenskab og kulturformidling"
          ],
          [
           "Human ernæring"
          ],
          [
           "Erhvervssprog og international virksomhedskommunikation"
          ],
          [
           "Industrielt design"
          ],
          [
           "Religionsvidenskab"
          ],
          [
           "Sundhedsteknologi"
          ],
          [
           "Radiograf"
          ],
          [
           "Bioteknologi"
          ],
          [
           "Biologi-bioteknologi"
          ],
          [
           "Landskabsarkitektur"
          ],
          [
           "Corporate Communication"
          ],
          [
           "Biokemi"
          ],
          [
           "Byggeri"
          ],
          [
           "Moderne kultur og kulturformidling"
          ],
          [
           "Sygeplejerske"
          ],
          [
           "Uddannelsesvidenskab"
          ],
          [
           "Filosofi"
          ],
          [
           "Bioinformatik"
          ],
          [
           "Digital design og interaktive teknologier"
          ],
          [
           "Astronomi"
          ],
          [
           "Miljøvidenskab"
          ],
          [
           "Global udvikling"
          ],
          [
           "Samfundsvidenskabelig jura"
          ],
          [
           "Fransk sprog, litteratur og kultur"
          ],
          [
           "Tekstildesign, -håndværk og formidling"
          ],
          [
           "Erhvervsøkonomi og virksomhedskommunikation"
          ],
          [
           "Bygningsdesign"
          ],
          [
           "Fødevareteknologi"
          ],
          [
           "Audiologi"
          ],
          [
           "Cultural Sociology"
          ],
          [
           "Mechatronics Engineering"
          ],
          [
           "Medicine with Industrial Specialisation"
          ],
          [
           "Antropologi"
          ],
          [
           "Biologi"
          ],
          [
           "Anvendt kemi"
          ],
          [
           "It-ledelse"
          ],
          [
           "Molekylær ernæring og fødevareteknologi"
          ],
          [
           "Film- og medievidenskab"
          ],
          [
           "Erhvervsøkonomi og psykologi"
          ],
          [
           "It, kommunikation og organisation"
          ],
          [
           "Datalogi"
          ],
          [
           "Fysik"
          ],
          [
           "Olie- og gasteknologi"
          ],
          [
           "Kultur, kommunikation og globalisering"
          ],
          [
           "Dansk"
          ],
          [
           "Erhvervsøkonomi - erhvervssprog, negot."
          ],
          [
           "Medicin"
          ],
          [
           "Webudvikling"
          ],
          [
           "Fysik og nanoteknologi"
          ],
          [
           "Agronomi"
          ],
          [
           "Pædagogisk filosofi"
          ],
          [
           "Pædagogisk psykologi"
          ],
          [
           "Husdyrvidenskab"
          ],
          [
           "Pædagogik"
          ],
          [
           "Socialt arbejde"
          ],
          [
           "Økonomi"
          ],
          [
           "Erhvervsøkonomi og erhvervsjura"
          ],
          [
           "It-design og applikationsudvikling"
          ],
          [
           "Matematik-økonomi"
          ],
          [
           "Historie"
          ],
          [
           "Bioanalytiker"
          ],
          [
           "Design og business"
          ],
          [
           "Forvaltning"
          ],
          [
           "Kemi og bioteknologi"
          ],
          [
           "Kultur og formidling"
          ],
          [
           "Socialrådgiver"
          ],
          [
           "Tysk"
          ],
          [
           "Litteraturvidenskab"
          ],
          [
           "Erhvervsøkonomi, cand.soc."
          ],
          [
           "Teologi"
          ],
          [
           "Geologi"
          ],
          [
           "Diplomingeniør - bygningsdesign"
          ],
          [
           "Tandplejer"
          ],
          [
           "It-didaktisk design"
          ],
          [
           "Bioinformatik og systembiologi"
          ],
          [
           "Jordbrugsøkonomi"
          ],
          [
           "Fysioterapeut"
          ],
          [
           "Samfundsfag"
          ],
          [
           "Statskundskab"
          ],
          [
           "Sociologi"
          ],
          [
           "Erhvervsøkonomi, cand.merc."
          ],
          [
           "Designer"
          ],
          [
           "Dramaturgi"
          ],
          [
           "Teknologibaseret forretningsudvikling"
          ],
          [
           "Mechanical Engineering"
          ],
          [
           "Softwaredesign"
          ],
          [
           "Agro-Environmental Management"
          ],
          [
           "Transport og logistik"
          ],
          [
           "Matematik"
          ],
          [
           "Sundhedsfremme og sundhedsstrategier"
          ],
          [
           "Kriminologi"
          ],
          [
           "Socialvidenskab"
          ],
          [
           "Ernæring og sundhed"
          ],
          [
           "Kemi (civilingeniør)"
          ],
          [
           "Diplomingeniør - softwareteknologi"
          ],
          [
           "Digital innovation og management"
          ],
          [
           "Kunsthistorie"
          ],
          [
           "Digital design"
          ],
          [
           "Psykologi"
          ],
          [
           "Sundhedsfaglig kandidat"
          ],
          [
           "Psykomotorisk terapeut"
          ],
          [
           "Medievidenskab"
          ],
          [
           "Ergoterapi"
          ],
          [
           "Erhvervsøkonomi og filosofi"
          ],
          [
           "Spansk sprog og kultur"
          ],
          [
           "Mellemøststudier"
          ],
          [
           "Molekylær medicin"
          ],
          [
           "Diplomingeniør - bygning"
          ],
          [
           "Humanistisk-samfundsvidenskabelig idrætsvidenskab"
          ],
          [
           "Informationsvidenskab"
          ],
          [
           "Software"
          ],
          [
           "Folkesundhedsvidenskab"
          ],
          [
           "Diplomingeniør - elektrisk energiteknologi"
          ],
          [
           "Audiologopædi"
          ],
          [
           "Pædagogisk sociologi"
          ],
          [
           "Nanoscience"
          ],
          [
           "Klinisk sygepleje"
          ],
          [
           "Sygepleje"
          ],
          [
           "Anvendt kulturanalyse"
          ],
          [
           "Fødevarevidenskab"
          ],
          [
           "Geografi"
          ],
          [
           "Optometrist"
          ],
          [
           "Bygningskonstruktør"
          ],
          [
           "Ergoterapeut"
          ],
          [
           "Pædagog"
          ],
          [
           "Arbejdslivsstudier"
          ],
          [
           "Fysioterapi"
          ],
          [
           "Have- og parkingeniør"
          ],
          [
           "Kommunikation"
          ],
          [
           "Klinisk ernæring"
          ],
          [
           "Tourism"
          ],
          [
           "Digitale medieteknologier"
          ],
          [
           "Interaktive digitale medier"
          ],
          [
           "International sikkerhed og folkeret"
          ],
          [
           "Design og innovation"
          ],
          [
           "Politisk kommunikation og ledelse"
          ],
          [
           "Lingvistik"
          ],
          [
           "Humanfysiologi"
          ],
          [
           "Laboratorie- og fødevareteknologi"
          ],
          [
           "Medicinalkemi"
          ],
          [
           "Journalistik"
          ],
          [
           "Spil"
          ],
          [
           "Offentlig administration"
          ],
          [
           "Æstetik og kultur"
          ],
          [
           "Softwareudvikling"
          ],
          [
           "IT Product Design"
          ],
          [
           "Kemi"
          ],
          [
           "Revisorkandidat, cand.merc.aud."
          ],
          [
           "Jordemoder"
          ],
          [
           "Oplevelsesøkonomi"
          ],
          [
           "Vision, Graphics and Interactive Systems"
          ],
          [
           "Kemisk og biokemisk teknologi"
          ],
          [
           "Energy Engineering"
          ],
          [
           "Diplomingeniør - maskinteknik"
          ],
          [
           "Industriel økonomi og teknologiledelse"
          ],
          [
           "Materiale- og procesteknologi"
          ],
          [
           "Miljøteknologi"
          ],
          [
           "Byggeteknologi"
          ],
          [
           "Geofysik"
          ],
          [
           "Digital konceptudvikling"
          ],
          [
           "Statistik"
          ],
          [
           "Webkommunikation"
          ],
          [
           "Informationsteknologi"
          ],
          [
           "Farmateknologi"
          ],
          [
           "Multimediedesigner"
          ],
          [
           "International handel og markedsføring"
          ],
          [
           "Business Administration and Information Systems"
          ],
          [
           "Maskinmester"
          ],
          [
           "Politik og administration"
          ],
          [
           "Bæredygtigt design"
          ],
          [
           "Virksomhedsledelse"
          ],
          [
           "Didaktik"
          ],
          [
           "Energiteknologi"
          ],
          [
           "Elektroteknologi"
          ],
          [
           "Lærer i folkeskolen"
          ],
          [
           "Mekanik"
          ],
          [
           "Diplomingeniør - elektronik"
          ],
          [
           "Læring og forandringsprocesser"
          ],
          [
           "International Hospitality Management"
          ],
          [
           "Anvendt filosofi"
          ],
          [
           "Diplomingeniør - eksport og teknologi"
          ],
          [
           "Jordbrug"
          ],
          [
           "Financial Controller"
          ],
          [
           "Pædagogisk antropologi"
          ],
          [
           "Europastudier"
          ],
          [
           "Administrationsøkonom"
          ],
          [
           "International Public Administration and Politics"
          ],
          [
           "Matematisk modellering og computing"
          ],
          [
           "Designteknolog"
          ],
          [
           "Laborant"
          ],
          [
           "Retorik"
          ],
          [
           "IT-teknolog"
          ],
          [
           "Konstruktion og mekanik"
          ],
          [
           "Water and Environment Engineering"
          ],
          [
           "Datamatiker"
          ],
          [
           "Elinstallatør"
          ],
          [
           "Finans"
          ],
          [
           "Markedsføringsøkonom"
          ],
          [
           "Bæredygtig energi"
          ],
          [
           "Procesteknolog"
          ],
          [
           "Lyd og akustisk teknologi"
          ],
          [
           "Serviceøkonom"
          ],
          [
           "Produktudvikling og teknisk integration"
          ],
          [
           "Medieproduktion og ledelse"
          ],
          [
           "It, læring og organisatorisk omstilling"
          ],
          [
           "Miljøteknolog"
          ],
          [
           "Innovation and Business"
          ],
          [
           "Idræt"
          ],
          [
           "Grafisk kommunikation"
          ],
          [
           "Økonomi og informationsteknologi"
          ],
          [
           "Veje og trafik"
          ],
          [
           "Ledelse og informatik i byggeriet"
          ],
          [
           "Logistikøkonom"
          ],
          [
           "Diakoni og socialpædagogik"
          ],
          [
           "Finansøkonom"
          ],
          [
           "Visuel kommunikation"
          ],
          [
           "Handelsøkonom"
          ],
          [
           "Multiplatform storytelling and production"
          ],
          [
           "Jordbrugsteknolog"
          ],
          [
           "Journalist"
          ],
          [
           "Geofysik og rumteknologi"
          ],
          [
           "Automationsteknolog"
          ],
          [
           "Produktionsteknolog"
          ],
          [
           "Kommunikation"
          ],
          [
           "Landinspektørvidenskab"
          ],
          [
           "Tv- og medietilrettelæggelse"
          ],
          [
           "Energiteknolog"
          ],
          [
           "Lærer fra Den frie Lærerskole"
          ]
         ],
         "hoverlabel": {
          "namelength": 0
         },
         "hovertemplate": "ledighed=%{x}<br>eksamensstress=%{y}<br>Titel=%{customdata[0]}",
         "legendgroup": "",
         "marker": {
          "color": "#636efa",
          "symbol": "circle"
         },
         "mode": "markers",
         "name": "",
         "showlegend": false,
         "type": "scatter",
         "x": [
          11,
          6,
          27,
          3,
          5,
          8,
          13,
          4,
          23,
          22,
          22,
          24,
          4,
          6,
          17,
          16,
          19,
          24,
          18,
          21,
          24,
          1,
          3,
          12,
          14,
          13,
          12,
          18,
          1,
          25,
          1,
          15,
          30,
          5,
          12,
          13,
          10,
          10,
          5,
          23,
          21,
          9,
          14,
          10,
          8,
          12,
          7,
          17,
          23,
          23,
          12,
          12,
          14,
          19,
          7,
          6,
          3,
          6,
          10,
          27,
          16,
          14,
          1,
          13,
          5,
          11,
          17,
          12,
          12,
          14,
          10,
          2,
          6,
          15,
          3,
          26,
          5,
          16,
          11,
          11,
          36,
          6,
          16,
          27,
          7,
          18,
          17,
          4,
          8,
          12,
          8,
          7,
          6,
          14,
          6,
          17,
          7,
          27,
          24,
          7,
          6,
          3,
          18,
          2,
          3,
          20,
          18,
          28,
          11,
          18,
          5,
          6,
          31,
          24,
          10,
          7,
          20,
          20,
          5,
          19,
          22,
          22,
          14,
          4,
          10,
          13,
          3,
          11,
          3,
          2,
          13,
          14,
          1,
          3,
          23,
          8,
          13,
          1,
          7,
          10,
          8,
          12,
          5,
          14,
          22,
          10,
          19,
          5,
          37,
          20,
          6,
          12,
          14,
          12,
          13,
          17,
          12,
          12,
          12,
          31,
          7,
          19,
          12,
          2,
          2,
          28,
          4,
          6,
          5,
          5,
          4,
          6,
          11,
          4,
          18,
          20,
          2,
          16,
          0,
          7,
          15,
          12,
          6,
          3,
          18,
          16,
          16,
          13,
          22,
          4,
          6,
          1,
          5,
          19,
          13,
          30,
          12,
          16,
          10,
          17,
          26,
          19,
          10,
          2,
          12,
          7,
          18,
          11,
          2,
          2,
          10,
          2,
          4,
          8,
          12,
          13,
          2,
          9,
          15,
          14,
          16,
          22,
          7,
          15,
          19,
          4,
          1,
          6,
          7,
          7,
          6,
          16,
          8,
          21,
          10,
          11,
          11,
          3,
          10,
          8,
          4,
          14,
          12,
          19
         ],
         "xaxis": "x",
         "y": [
          2.1,
          2.26,
          2.38,
          2.38,
          2.41,
          2.42,
          2.43,
          2.45,
          2.45,
          2.48,
          2.49,
          2.54,
          2.56,
          2.6,
          2.6,
          2.61,
          2.62,
          2.63,
          2.64,
          2.64,
          2.65,
          2.65,
          2.66,
          2.66,
          2.67,
          2.67,
          2.67,
          2.67,
          2.68,
          2.68,
          2.68,
          2.68,
          2.69,
          2.69,
          2.7,
          2.7,
          2.7,
          2.71,
          2.71,
          2.72,
          2.73,
          2.73,
          2.73,
          2.74,
          2.75,
          2.75,
          2.75,
          2.75,
          2.75,
          2.76,
          2.76,
          2.76,
          2.77,
          2.77,
          2.77,
          2.77,
          2.77,
          2.77,
          2.78,
          2.78,
          2.79,
          2.79,
          2.8,
          2.8,
          2.8,
          2.8,
          2.81,
          2.81,
          2.81,
          2.81,
          2.81,
          2.81,
          2.81,
          2.81,
          2.82,
          2.82,
          2.82,
          2.82,
          2.82,
          2.83,
          2.83,
          2.83,
          2.84,
          2.84,
          2.85,
          2.85,
          2.85,
          2.85,
          2.85,
          2.86,
          2.86,
          2.87,
          2.88,
          2.88,
          2.88,
          2.89,
          2.89,
          2.89,
          2.89,
          2.9,
          2.9,
          2.9,
          2.9,
          2.92,
          2.92,
          2.92,
          2.92,
          2.92,
          2.93,
          2.93,
          2.93,
          2.94,
          2.94,
          2.94,
          2.94,
          2.94,
          2.95,
          2.96,
          2.96,
          2.97,
          2.97,
          2.97,
          2.97,
          2.98,
          2.98,
          2.98,
          2.98,
          2.99,
          2.99,
          3,
          3,
          3,
          3,
          3,
          3,
          3,
          3.01,
          3.01,
          3.01,
          3.02,
          3.03,
          3.03,
          3.03,
          3.03,
          3.04,
          3.04,
          3.04,
          3.04,
          3.04,
          3.04,
          3.05,
          3.06,
          3.06,
          3.07,
          3.07,
          3.07,
          3.08,
          3.08,
          3.08,
          3.09,
          3.09,
          3.1,
          3.1,
          3.11,
          3.11,
          3.12,
          3.13,
          3.13,
          3.13,
          3.13,
          3.13,
          3.14,
          3.14,
          3.15,
          3.15,
          3.15,
          3.15,
          3.15,
          3.16,
          3.16,
          3.17,
          3.17,
          3.18,
          3.19,
          3.19,
          3.19,
          3.21,
          3.22,
          3.23,
          3.23,
          3.24,
          3.24,
          3.25,
          3.26,
          3.26,
          3.27,
          3.27,
          3.28,
          3.29,
          3.29,
          3.29,
          3.3,
          3.3,
          3.3,
          3.32,
          3.32,
          3.33,
          3.33,
          3.33,
          3.35,
          3.36,
          3.36,
          3.37,
          3.37,
          3.4,
          3.41,
          3.41,
          3.42,
          3.42,
          3.42,
          3.43,
          3.43,
          3.44,
          3.44,
          3.45,
          3.45,
          3.5,
          3.5,
          3.5,
          3.5,
          3.53,
          3.54,
          3.6,
          3.61,
          3.62,
          3.62,
          3.62,
          3.62,
          3.72,
          3.74,
          3.82,
          3.86,
          3.95,
          4.83
         ],
         "yaxis": "y"
        },
        {
         "alignmentgroup": "True",
         "bingroup": "x",
         "hoverlabel": {
          "namelength": 0
         },
         "hovertemplate": "ledighed=%{x}<br>count=%{y}",
         "legendgroup": "",
         "marker": {
          "color": "#636efa"
         },
         "name": "",
         "offsetgroup": "",
         "opacity": 0.5,
         "showlegend": false,
         "type": "histogram",
         "x": [
          11,
          6,
          27,
          3,
          5,
          8,
          13,
          4,
          23,
          22,
          22,
          24,
          4,
          6,
          17,
          16,
          19,
          24,
          18,
          21,
          24,
          1,
          3,
          12,
          14,
          13,
          12,
          18,
          1,
          25,
          1,
          15,
          30,
          5,
          12,
          13,
          10,
          10,
          5,
          23,
          21,
          9,
          14,
          10,
          8,
          12,
          7,
          17,
          23,
          23,
          12,
          12,
          14,
          19,
          7,
          6,
          3,
          6,
          10,
          27,
          16,
          14,
          1,
          13,
          5,
          11,
          17,
          12,
          12,
          14,
          10,
          2,
          6,
          15,
          3,
          26,
          5,
          16,
          11,
          11,
          36,
          6,
          16,
          27,
          7,
          18,
          17,
          4,
          8,
          12,
          8,
          7,
          6,
          14,
          6,
          17,
          7,
          27,
          24,
          7,
          6,
          3,
          18,
          2,
          3,
          20,
          18,
          28,
          11,
          18,
          5,
          6,
          31,
          24,
          10,
          7,
          20,
          20,
          5,
          19,
          22,
          22,
          14,
          4,
          10,
          13,
          3,
          11,
          3,
          2,
          13,
          14,
          1,
          3,
          23,
          8,
          13,
          1,
          7,
          10,
          8,
          12,
          5,
          14,
          22,
          10,
          19,
          5,
          37,
          20,
          6,
          12,
          14,
          12,
          13,
          17,
          12,
          12,
          12,
          31,
          7,
          19,
          12,
          2,
          2,
          28,
          4,
          6,
          5,
          5,
          4,
          6,
          11,
          4,
          18,
          20,
          2,
          16,
          0,
          7,
          15,
          12,
          6,
          3,
          18,
          16,
          16,
          13,
          22,
          4,
          6,
          1,
          5,
          19,
          13,
          30,
          12,
          16,
          10,
          17,
          26,
          19,
          10,
          2,
          12,
          7,
          18,
          11,
          2,
          2,
          10,
          2,
          4,
          8,
          12,
          13,
          2,
          9,
          15,
          14,
          16,
          22,
          7,
          15,
          19,
          4,
          1,
          6,
          7,
          7,
          6,
          16,
          8,
          21,
          10,
          11,
          11,
          3,
          10,
          8,
          4,
          14,
          12,
          19
         ],
         "xaxis": "x3",
         "yaxis": "y3"
        },
        {
         "alignmentgroup": "True",
         "bingroup": "y",
         "hoverlabel": {
          "namelength": 0
         },
         "hovertemplate": "eksamensstress=%{y}<br>count=%{x}",
         "legendgroup": "",
         "marker": {
          "color": "#636efa"
         },
         "name": "",
         "offsetgroup": "",
         "opacity": 0.5,
         "showlegend": false,
         "type": "histogram",
         "xaxis": "x2",
         "y": [
          2.1,
          2.26,
          2.38,
          2.38,
          2.41,
          2.42,
          2.43,
          2.45,
          2.45,
          2.48,
          2.49,
          2.54,
          2.56,
          2.6,
          2.6,
          2.61,
          2.62,
          2.63,
          2.64,
          2.64,
          2.65,
          2.65,
          2.66,
          2.66,
          2.67,
          2.67,
          2.67,
          2.67,
          2.68,
          2.68,
          2.68,
          2.68,
          2.69,
          2.69,
          2.7,
          2.7,
          2.7,
          2.71,
          2.71,
          2.72,
          2.73,
          2.73,
          2.73,
          2.74,
          2.75,
          2.75,
          2.75,
          2.75,
          2.75,
          2.76,
          2.76,
          2.76,
          2.77,
          2.77,
          2.77,
          2.77,
          2.77,
          2.77,
          2.78,
          2.78,
          2.79,
          2.79,
          2.8,
          2.8,
          2.8,
          2.8,
          2.81,
          2.81,
          2.81,
          2.81,
          2.81,
          2.81,
          2.81,
          2.81,
          2.82,
          2.82,
          2.82,
          2.82,
          2.82,
          2.83,
          2.83,
          2.83,
          2.84,
          2.84,
          2.85,
          2.85,
          2.85,
          2.85,
          2.85,
          2.86,
          2.86,
          2.87,
          2.88,
          2.88,
          2.88,
          2.89,
          2.89,
          2.89,
          2.89,
          2.9,
          2.9,
          2.9,
          2.9,
          2.92,
          2.92,
          2.92,
          2.92,
          2.92,
          2.93,
          2.93,
          2.93,
          2.94,
          2.94,
          2.94,
          2.94,
          2.94,
          2.95,
          2.96,
          2.96,
          2.97,
          2.97,
          2.97,
          2.97,
          2.98,
          2.98,
          2.98,
          2.98,
          2.99,
          2.99,
          3,
          3,
          3,
          3,
          3,
          3,
          3,
          3.01,
          3.01,
          3.01,
          3.02,
          3.03,
          3.03,
          3.03,
          3.03,
          3.04,
          3.04,
          3.04,
          3.04,
          3.04,
          3.04,
          3.05,
          3.06,
          3.06,
          3.07,
          3.07,
          3.07,
          3.08,
          3.08,
          3.08,
          3.09,
          3.09,
          3.1,
          3.1,
          3.11,
          3.11,
          3.12,
          3.13,
          3.13,
          3.13,
          3.13,
          3.13,
          3.14,
          3.14,
          3.15,
          3.15,
          3.15,
          3.15,
          3.15,
          3.16,
          3.16,
          3.17,
          3.17,
          3.18,
          3.19,
          3.19,
          3.19,
          3.21,
          3.22,
          3.23,
          3.23,
          3.24,
          3.24,
          3.25,
          3.26,
          3.26,
          3.27,
          3.27,
          3.28,
          3.29,
          3.29,
          3.29,
          3.3,
          3.3,
          3.3,
          3.32,
          3.32,
          3.33,
          3.33,
          3.33,
          3.35,
          3.36,
          3.36,
          3.37,
          3.37,
          3.4,
          3.41,
          3.41,
          3.42,
          3.42,
          3.42,
          3.43,
          3.43,
          3.44,
          3.44,
          3.45,
          3.45,
          3.5,
          3.5,
          3.5,
          3.5,
          3.53,
          3.54,
          3.6,
          3.61,
          3.62,
          3.62,
          3.62,
          3.62,
          3.72,
          3.74,
          3.82,
          3.86,
          3.95,
          4.83
         ],
         "yaxis": "y2"
        },
        {
         "hoverlabel": {
          "namelength": 0
         },
         "hovertemplate": "<b>LOWESS trendline</b><br><br>ledighed=%{x}<br>eksamensstress=%{y} <b>(trend)</b>",
         "legendgroup": "",
         "marker": {
          "color": "#636efa",
          "symbol": "circle"
         },
         "mode": "lines",
         "name": "",
         "showlegend": false,
         "type": "scatter",
         "x": [
          0,
          1,
          1,
          1,
          1,
          1,
          1,
          1,
          1,
          2,
          2,
          2,
          2,
          2,
          2,
          2,
          2,
          2,
          2,
          2,
          3,
          3,
          3,
          3,
          3,
          3,
          3,
          3,
          3,
          3,
          3,
          4,
          4,
          4,
          4,
          4,
          4,
          4,
          4,
          4,
          4,
          4,
          5,
          5,
          5,
          5,
          5,
          5,
          5,
          5,
          5,
          5,
          5,
          5,
          6,
          6,
          6,
          6,
          6,
          6,
          6,
          6,
          6,
          6,
          6,
          6,
          6,
          6,
          6,
          6,
          6,
          7,
          7,
          7,
          7,
          7,
          7,
          7,
          7,
          7,
          7,
          7,
          7,
          7,
          7,
          8,
          8,
          8,
          8,
          8,
          8,
          8,
          8,
          8,
          9,
          9,
          10,
          10,
          10,
          10,
          10,
          10,
          10,
          10,
          10,
          10,
          10,
          10,
          10,
          10,
          11,
          11,
          11,
          11,
          11,
          11,
          11,
          11,
          11,
          11,
          12,
          12,
          12,
          12,
          12,
          12,
          12,
          12,
          12,
          12,
          12,
          12,
          12,
          12,
          12,
          12,
          12,
          12,
          12,
          12,
          12,
          13,
          13,
          13,
          13,
          13,
          13,
          13,
          13,
          13,
          13,
          13,
          14,
          14,
          14,
          14,
          14,
          14,
          14,
          14,
          14,
          14,
          14,
          14,
          15,
          15,
          15,
          15,
          15,
          16,
          16,
          16,
          16,
          16,
          16,
          16,
          16,
          16,
          16,
          17,
          17,
          17,
          17,
          17,
          17,
          17,
          18,
          18,
          18,
          18,
          18,
          18,
          18,
          18,
          18,
          19,
          19,
          19,
          19,
          19,
          19,
          19,
          19,
          19,
          20,
          20,
          20,
          20,
          20,
          21,
          21,
          21,
          22,
          22,
          22,
          22,
          22,
          22,
          22,
          23,
          23,
          23,
          23,
          23,
          24,
          24,
          24,
          24,
          24,
          25,
          26,
          26,
          27,
          27,
          27,
          27,
          28,
          28,
          30,
          30,
          31,
          31,
          36,
          37
         ],
         "xaxis": "x",
         "y": [
          3.02740276591267,
          3.023340697550516,
          3.023340697550516,
          3.023340697550516,
          3.023340697550516,
          3.023340697550516,
          3.023340697550516,
          3.023340697550516,
          3.023340697550516,
          3.0198153785564164,
          3.0198153785564164,
          3.0198153785564164,
          3.0198153785564164,
          3.0198153785564164,
          3.0198153785564164,
          3.0198153785564164,
          3.0198153785564164,
          3.0198153785564164,
          3.0198153785564164,
          3.0198153785564164,
          3.017056874488195,
          3.017056874488195,
          3.017056874488195,
          3.017056874488195,
          3.017056874488195,
          3.017056874488195,
          3.017056874488195,
          3.017056874488195,
          3.017056874488195,
          3.017056874488195,
          3.017056874488195,
          3.0148483059956686,
          3.0148483059956686,
          3.0148483059956686,
          3.0148483059956686,
          3.0148483059956686,
          3.0148483059956686,
          3.0148483059956686,
          3.0148483059956686,
          3.0148483059956686,
          3.0148483059956686,
          3.0148483059956686,
          3.012934353981599,
          3.012934353981599,
          3.012934353981599,
          3.012934353981599,
          3.012934353981599,
          3.012934353981599,
          3.012934353981599,
          3.012934353981599,
          3.012934353981599,
          3.012934353981599,
          3.012934353981599,
          3.012934353981599,
          3.01076203627339,
          3.01076203627339,
          3.01076203627339,
          3.01076203627339,
          3.01076203627339,
          3.01076203627339,
          3.01076203627339,
          3.01076203627339,
          3.01076203627339,
          3.01076203627339,
          3.01076203627339,
          3.01076203627339,
          3.01076203627339,
          3.01076203627339,
          3.01076203627339,
          3.01076203627339,
          3.01076203627339,
          3.007867263799864,
          3.007867263799864,
          3.007867263799864,
          3.007867263799864,
          3.007867263799864,
          3.007867263799864,
          3.007867263799864,
          3.007867263799864,
          3.007867263799864,
          3.007867263799864,
          3.007867263799864,
          3.007867263799864,
          3.007867263799864,
          3.007867263799864,
          3.0048899168654035,
          3.0048899168654035,
          3.0048899168654035,
          3.0048899168654035,
          3.0048899168654035,
          3.0048899168654035,
          3.0048899168654035,
          3.0048899168654035,
          3.0048899168654035,
          3.0030003081800047,
          3.0030003081800047,
          3.0020168803166785,
          3.0020168803166785,
          3.0020168803166785,
          3.0020168803166785,
          3.0020168803166785,
          3.0020168803166785,
          3.0020168803166785,
          3.0020168803166785,
          3.0020168803166785,
          3.0020168803166785,
          3.0020168803166785,
          3.0020168803166785,
          3.0020168803166785,
          3.0020168803166785,
          3.0021963867499224,
          3.0021963867499224,
          3.0021963867499224,
          3.0021963867499224,
          3.0021963867499224,
          3.0021963867499224,
          3.0021963867499224,
          3.0021963867499224,
          3.0021963867499224,
          3.0021963867499224,
          2.999985890717192,
          2.999985890717192,
          2.999985890717192,
          2.999985890717192,
          2.999985890717192,
          2.999985890717192,
          2.999985890717192,
          2.999985890717192,
          2.999985890717192,
          2.999985890717192,
          2.999985890717192,
          2.999985890717192,
          2.999985890717192,
          2.999985890717192,
          2.999985890717192,
          2.999985890717192,
          2.999985890717192,
          2.999985890717192,
          2.999985890717192,
          2.999985890717192,
          2.999985890717192,
          2.9959106405909037,
          2.9959106405909037,
          2.9959106405909037,
          2.9959106405909037,
          2.9959106405909037,
          2.9959106405909037,
          2.9959106405909037,
          2.9959106405909037,
          2.9959106405909037,
          2.9959106405909037,
          2.9959106405909037,
          2.9920766939119745,
          2.9920766939119745,
          2.9920766939119745,
          2.9920766939119745,
          2.9920766939119745,
          2.9920766939119745,
          2.9920766939119745,
          2.9920766939119745,
          2.9920766939119745,
          2.9920766939119745,
          2.9920766939119745,
          2.9920766939119745,
          2.9886116113140333,
          2.9886116113140333,
          2.9886116113140333,
          2.9886116113140333,
          2.9886116113140333,
          2.9780229380660836,
          2.9780229380660836,
          2.9780229380660836,
          2.9780229380660836,
          2.9780229380660836,
          2.9780229380660836,
          2.9780229380660836,
          2.9780229380660836,
          2.9780229380660836,
          2.9780229380660836,
          2.966182417087475,
          2.966182417087475,
          2.966182417087475,
          2.966182417087475,
          2.966182417087475,
          2.966182417087475,
          2.966182417087475,
          2.9493172131980856,
          2.9493172131980856,
          2.9493172131980856,
          2.9493172131980856,
          2.9493172131980856,
          2.9493172131980856,
          2.9493172131980856,
          2.9493172131980856,
          2.9493172131980856,
          2.934732808953913,
          2.934732808953913,
          2.934732808953913,
          2.934732808953913,
          2.934732808953913,
          2.934732808953913,
          2.934732808953913,
          2.934732808953913,
          2.934732808953913,
          2.9240665438610094,
          2.9240665438610094,
          2.9240665438610094,
          2.9240665438610094,
          2.9240665438610094,
          2.91677465032783,
          2.91677465032783,
          2.91677465032783,
          2.910455549473063,
          2.910455549473063,
          2.910455549473063,
          2.910455549473063,
          2.910455549473063,
          2.910455549473063,
          2.910455549473063,
          2.9045622741721173,
          2.9045622741721173,
          2.9045622741721173,
          2.9045622741721173,
          2.9045622741721173,
          2.8995344397977685,
          2.8995344397977685,
          2.8995344397977685,
          2.8995344397977685,
          2.8995344397977685,
          2.8948130181109915,
          2.890011106749708,
          2.890011106749708,
          2.885035507648912,
          2.885035507648912,
          2.885035507648912,
          2.885035507648912,
          2.8799228770226772,
          2.8799228770226772,
          2.8697705863865286,
          2.8697705863865286,
          2.864943198218258,
          2.864943198218258,
          2.8451028888606853,
          2.84206842039066
         ],
         "yaxis": "y"
        }
       ],
       "layout": {
        "barmode": "overlay",
        "legend": {
         "tracegroupgap": 0
        },
        "shapes": [
         {
          "fillcolor": "LightSkyBlue",
          "layer": "below",
          "line": {
           "width": 0
          },
          "opacity": 0.5,
          "type": "rect",
          "x0": 11.115261697226948,
          "x1": 13.024082565068134,
          "xref": "x",
          "y0": 2.1,
          "y1": 4.83,
          "yref": "y"
         },
         {
          "fillcolor": "LightSkyBlue",
          "layer": "below",
          "line": {
           "width": 0
          },
          "opacity": 0.5,
          "type": "rect",
          "x0": 0,
          "x1": 37,
          "xref": "x",
          "y0": 2.963681148960112,
          "y1": 3.0460729494005454,
          "yref": "y"
         }
        ],
        "template": {
         "data": {
          "bar": [
           {
            "error_x": {
             "color": "#2a3f5f"
            },
            "error_y": {
             "color": "#2a3f5f"
            },
            "marker": {
             "line": {
              "color": "#E5ECF6",
              "width": 0.5
             }
            },
            "type": "bar"
           }
          ],
          "barpolar": [
           {
            "marker": {
             "line": {
              "color": "#E5ECF6",
              "width": 0.5
             }
            },
            "type": "barpolar"
           }
          ],
          "carpet": [
           {
            "aaxis": {
             "endlinecolor": "#2a3f5f",
             "gridcolor": "white",
             "linecolor": "white",
             "minorgridcolor": "white",
             "startlinecolor": "#2a3f5f"
            },
            "baxis": {
             "endlinecolor": "#2a3f5f",
             "gridcolor": "white",
             "linecolor": "white",
             "minorgridcolor": "white",
             "startlinecolor": "#2a3f5f"
            },
            "type": "carpet"
           }
          ],
          "choropleth": [
           {
            "colorbar": {
             "outlinewidth": 0,
             "ticks": ""
            },
            "type": "choropleth"
           }
          ],
          "contour": [
           {
            "colorbar": {
             "outlinewidth": 0,
             "ticks": ""
            },
            "colorscale": [
             [
              0,
              "#0d0887"
             ],
             [
              0.1111111111111111,
              "#46039f"
             ],
             [
              0.2222222222222222,
              "#7201a8"
             ],
             [
              0.3333333333333333,
              "#9c179e"
             ],
             [
              0.4444444444444444,
              "#bd3786"
             ],
             [
              0.5555555555555556,
              "#d8576b"
             ],
             [
              0.6666666666666666,
              "#ed7953"
             ],
             [
              0.7777777777777778,
              "#fb9f3a"
             ],
             [
              0.8888888888888888,
              "#fdca26"
             ],
             [
              1,
              "#f0f921"
             ]
            ],
            "type": "contour"
           }
          ],
          "contourcarpet": [
           {
            "colorbar": {
             "outlinewidth": 0,
             "ticks": ""
            },
            "type": "contourcarpet"
           }
          ],
          "heatmap": [
           {
            "colorbar": {
             "outlinewidth": 0,
             "ticks": ""
            },
            "colorscale": [
             [
              0,
              "#0d0887"
             ],
             [
              0.1111111111111111,
              "#46039f"
             ],
             [
              0.2222222222222222,
              "#7201a8"
             ],
             [
              0.3333333333333333,
              "#9c179e"
             ],
             [
              0.4444444444444444,
              "#bd3786"
             ],
             [
              0.5555555555555556,
              "#d8576b"
             ],
             [
              0.6666666666666666,
              "#ed7953"
             ],
             [
              0.7777777777777778,
              "#fb9f3a"
             ],
             [
              0.8888888888888888,
              "#fdca26"
             ],
             [
              1,
              "#f0f921"
             ]
            ],
            "type": "heatmap"
           }
          ],
          "heatmapgl": [
           {
            "colorbar": {
             "outlinewidth": 0,
             "ticks": ""
            },
            "colorscale": [
             [
              0,
              "#0d0887"
             ],
             [
              0.1111111111111111,
              "#46039f"
             ],
             [
              0.2222222222222222,
              "#7201a8"
             ],
             [
              0.3333333333333333,
              "#9c179e"
             ],
             [
              0.4444444444444444,
              "#bd3786"
             ],
             [
              0.5555555555555556,
              "#d8576b"
             ],
             [
              0.6666666666666666,
              "#ed7953"
             ],
             [
              0.7777777777777778,
              "#fb9f3a"
             ],
             [
              0.8888888888888888,
              "#fdca26"
             ],
             [
              1,
              "#f0f921"
             ]
            ],
            "type": "heatmapgl"
           }
          ],
          "histogram": [
           {
            "marker": {
             "colorbar": {
              "outlinewidth": 0,
              "ticks": ""
             }
            },
            "type": "histogram"
           }
          ],
          "histogram2d": [
           {
            "colorbar": {
             "outlinewidth": 0,
             "ticks": ""
            },
            "colorscale": [
             [
              0,
              "#0d0887"
             ],
             [
              0.1111111111111111,
              "#46039f"
             ],
             [
              0.2222222222222222,
              "#7201a8"
             ],
             [
              0.3333333333333333,
              "#9c179e"
             ],
             [
              0.4444444444444444,
              "#bd3786"
             ],
             [
              0.5555555555555556,
              "#d8576b"
             ],
             [
              0.6666666666666666,
              "#ed7953"
             ],
             [
              0.7777777777777778,
              "#fb9f3a"
             ],
             [
              0.8888888888888888,
              "#fdca26"
             ],
             [
              1,
              "#f0f921"
             ]
            ],
            "type": "histogram2d"
           }
          ],
          "histogram2dcontour": [
           {
            "colorbar": {
             "outlinewidth": 0,
             "ticks": ""
            },
            "colorscale": [
             [
              0,
              "#0d0887"
             ],
             [
              0.1111111111111111,
              "#46039f"
             ],
             [
              0.2222222222222222,
              "#7201a8"
             ],
             [
              0.3333333333333333,
              "#9c179e"
             ],
             [
              0.4444444444444444,
              "#bd3786"
             ],
             [
              0.5555555555555556,
              "#d8576b"
             ],
             [
              0.6666666666666666,
              "#ed7953"
             ],
             [
              0.7777777777777778,
              "#fb9f3a"
             ],
             [
              0.8888888888888888,
              "#fdca26"
             ],
             [
              1,
              "#f0f921"
             ]
            ],
            "type": "histogram2dcontour"
           }
          ],
          "mesh3d": [
           {
            "colorbar": {
             "outlinewidth": 0,
             "ticks": ""
            },
            "type": "mesh3d"
           }
          ],
          "parcoords": [
           {
            "line": {
             "colorbar": {
              "outlinewidth": 0,
              "ticks": ""
             }
            },
            "type": "parcoords"
           }
          ],
          "pie": [
           {
            "automargin": true,
            "type": "pie"
           }
          ],
          "scatter": [
           {
            "marker": {
             "colorbar": {
              "outlinewidth": 0,
              "ticks": ""
             }
            },
            "type": "scatter"
           }
          ],
          "scatter3d": [
           {
            "line": {
             "colorbar": {
              "outlinewidth": 0,
              "ticks": ""
             }
            },
            "marker": {
             "colorbar": {
              "outlinewidth": 0,
              "ticks": ""
             }
            },
            "type": "scatter3d"
           }
          ],
          "scattercarpet": [
           {
            "marker": {
             "colorbar": {
              "outlinewidth": 0,
              "ticks": ""
             }
            },
            "type": "scattercarpet"
           }
          ],
          "scattergeo": [
           {
            "marker": {
             "colorbar": {
              "outlinewidth": 0,
              "ticks": ""
             }
            },
            "type": "scattergeo"
           }
          ],
          "scattergl": [
           {
            "marker": {
             "colorbar": {
              "outlinewidth": 0,
              "ticks": ""
             }
            },
            "type": "scattergl"
           }
          ],
          "scattermapbox": [
           {
            "marker": {
             "colorbar": {
              "outlinewidth": 0,
              "ticks": ""
             }
            },
            "type": "scattermapbox"
           }
          ],
          "scatterpolar": [
           {
            "marker": {
             "colorbar": {
              "outlinewidth": 0,
              "ticks": ""
             }
            },
            "type": "scatterpolar"
           }
          ],
          "scatterpolargl": [
           {
            "marker": {
             "colorbar": {
              "outlinewidth": 0,
              "ticks": ""
             }
            },
            "type": "scatterpolargl"
           }
          ],
          "scatterternary": [
           {
            "marker": {
             "colorbar": {
              "outlinewidth": 0,
              "ticks": ""
             }
            },
            "type": "scatterternary"
           }
          ],
          "surface": [
           {
            "colorbar": {
             "outlinewidth": 0,
             "ticks": ""
            },
            "colorscale": [
             [
              0,
              "#0d0887"
             ],
             [
              0.1111111111111111,
              "#46039f"
             ],
             [
              0.2222222222222222,
              "#7201a8"
             ],
             [
              0.3333333333333333,
              "#9c179e"
             ],
             [
              0.4444444444444444,
              "#bd3786"
             ],
             [
              0.5555555555555556,
              "#d8576b"
             ],
             [
              0.6666666666666666,
              "#ed7953"
             ],
             [
              0.7777777777777778,
              "#fb9f3a"
             ],
             [
              0.8888888888888888,
              "#fdca26"
             ],
             [
              1,
              "#f0f921"
             ]
            ],
            "type": "surface"
           }
          ],
          "table": [
           {
            "cells": {
             "fill": {
              "color": "#EBF0F8"
             },
             "line": {
              "color": "white"
             }
            },
            "header": {
             "fill": {
              "color": "#C8D4E3"
             },
             "line": {
              "color": "white"
             }
            },
            "type": "table"
           }
          ]
         },
         "layout": {
          "annotationdefaults": {
           "arrowcolor": "#2a3f5f",
           "arrowhead": 0,
           "arrowwidth": 1
          },
          "coloraxis": {
           "colorbar": {
            "outlinewidth": 0,
            "ticks": ""
           }
          },
          "colorscale": {
           "diverging": [
            [
             0,
             "#8e0152"
            ],
            [
             0.1,
             "#c51b7d"
            ],
            [
             0.2,
             "#de77ae"
            ],
            [
             0.3,
             "#f1b6da"
            ],
            [
             0.4,
             "#fde0ef"
            ],
            [
             0.5,
             "#f7f7f7"
            ],
            [
             0.6,
             "#e6f5d0"
            ],
            [
             0.7,
             "#b8e186"
            ],
            [
             0.8,
             "#7fbc41"
            ],
            [
             0.9,
             "#4d9221"
            ],
            [
             1,
             "#276419"
            ]
           ],
           "sequential": [
            [
             0,
             "#0d0887"
            ],
            [
             0.1111111111111111,
             "#46039f"
            ],
            [
             0.2222222222222222,
             "#7201a8"
            ],
            [
             0.3333333333333333,
             "#9c179e"
            ],
            [
             0.4444444444444444,
             "#bd3786"
            ],
            [
             0.5555555555555556,
             "#d8576b"
            ],
            [
             0.6666666666666666,
             "#ed7953"
            ],
            [
             0.7777777777777778,
             "#fb9f3a"
            ],
            [
             0.8888888888888888,
             "#fdca26"
            ],
            [
             1,
             "#f0f921"
            ]
           ],
           "sequentialminus": [
            [
             0,
             "#0d0887"
            ],
            [
             0.1111111111111111,
             "#46039f"
            ],
            [
             0.2222222222222222,
             "#7201a8"
            ],
            [
             0.3333333333333333,
             "#9c179e"
            ],
            [
             0.4444444444444444,
             "#bd3786"
            ],
            [
             0.5555555555555556,
             "#d8576b"
            ],
            [
             0.6666666666666666,
             "#ed7953"
            ],
            [
             0.7777777777777778,
             "#fb9f3a"
            ],
            [
             0.8888888888888888,
             "#fdca26"
            ],
            [
             1,
             "#f0f921"
            ]
           ]
          },
          "colorway": [
           "#636efa",
           "#EF553B",
           "#00cc96",
           "#ab63fa",
           "#FFA15A",
           "#19d3f3",
           "#FF6692",
           "#B6E880",
           "#FF97FF",
           "#FECB52"
          ],
          "font": {
           "color": "#2a3f5f"
          },
          "geo": {
           "bgcolor": "white",
           "lakecolor": "white",
           "landcolor": "#E5ECF6",
           "showlakes": true,
           "showland": true,
           "subunitcolor": "white"
          },
          "hoverlabel": {
           "align": "left"
          },
          "hovermode": "closest",
          "mapbox": {
           "style": "light"
          },
          "paper_bgcolor": "white",
          "plot_bgcolor": "#E5ECF6",
          "polar": {
           "angularaxis": {
            "gridcolor": "white",
            "linecolor": "white",
            "ticks": ""
           },
           "bgcolor": "#E5ECF6",
           "radialaxis": {
            "gridcolor": "white",
            "linecolor": "white",
            "ticks": ""
           }
          },
          "scene": {
           "xaxis": {
            "backgroundcolor": "#E5ECF6",
            "gridcolor": "white",
            "gridwidth": 2,
            "linecolor": "white",
            "showbackground": true,
            "ticks": "",
            "zerolinecolor": "white"
           },
           "yaxis": {
            "backgroundcolor": "#E5ECF6",
            "gridcolor": "white",
            "gridwidth": 2,
            "linecolor": "white",
            "showbackground": true,
            "ticks": "",
            "zerolinecolor": "white"
           },
           "zaxis": {
            "backgroundcolor": "#E5ECF6",
            "gridcolor": "white",
            "gridwidth": 2,
            "linecolor": "white",
            "showbackground": true,
            "ticks": "",
            "zerolinecolor": "white"
           }
          },
          "shapedefaults": {
           "line": {
            "color": "#2a3f5f"
           }
          },
          "ternary": {
           "aaxis": {
            "gridcolor": "white",
            "linecolor": "white",
            "ticks": ""
           },
           "baxis": {
            "gridcolor": "white",
            "linecolor": "white",
            "ticks": ""
           },
           "bgcolor": "#E5ECF6",
           "caxis": {
            "gridcolor": "white",
            "linecolor": "white",
            "ticks": ""
           }
          },
          "title": {
           "x": 0.05
          },
          "xaxis": {
           "automargin": true,
           "gridcolor": "white",
           "linecolor": "white",
           "ticks": "",
           "title": {
            "standoff": 15
           },
           "zerolinecolor": "white",
           "zerolinewidth": 2
          },
          "yaxis": {
           "automargin": true,
           "gridcolor": "white",
           "linecolor": "white",
           "ticks": "",
           "title": {
            "standoff": 15
           },
           "zerolinecolor": "white",
           "zerolinewidth": 2
          }
         }
        },
        "title": {
         "text": "ledighed vs. eksamensstress"
        },
        "xaxis": {
         "anchor": "y",
         "domain": [
          0,
          0.7363
         ],
         "title": {
          "text": "ledighed"
         }
        },
        "xaxis2": {
         "anchor": "y2",
         "domain": [
          0.7413,
          1
         ],
         "matches": "x2",
         "showgrid": true,
         "showline": false,
         "showticklabels": false,
         "ticks": ""
        },
        "xaxis3": {
         "anchor": "y3",
         "domain": [
          0,
          0.7363
         ],
         "matches": "x",
         "showgrid": true,
         "showticklabels": false
        },
        "xaxis4": {
         "anchor": "y4",
         "domain": [
          0.7413,
          1
         ],
         "matches": "x2",
         "showgrid": true,
         "showline": false,
         "showticklabels": false,
         "ticks": ""
        },
        "yaxis": {
         "anchor": "x",
         "domain": [
          0,
          0.7326
         ],
         "title": {
          "text": "eksamensstress"
         }
        },
        "yaxis2": {
         "anchor": "x2",
         "domain": [
          0,
          0.7326
         ],
         "matches": "y",
         "showgrid": true,
         "showticklabels": false
        },
        "yaxis3": {
         "anchor": "x3",
         "domain": [
          0.7426,
          1
         ],
         "matches": "y3",
         "showgrid": true,
         "showline": false,
         "showticklabels": false,
         "ticks": ""
        },
        "yaxis4": {
         "anchor": "x4",
         "domain": [
          0.7426,
          1
         ],
         "matches": "y3",
         "showgrid": true,
         "showline": false,
         "showticklabels": false,
         "ticks": ""
        }
       }
      },
      "text/html": [
       "<div>\n",
       "        \n",
       "        \n",
       "            <div id=\"bdeb107b-5cc0-442c-a10f-99f637cdfb0e\" class=\"plotly-graph-div\" style=\"height:525px; width:100%;\"></div>\n",
       "            <script type=\"text/javascript\">\n",
       "                require([\"plotly\"], function(Plotly) {\n",
       "                    window.PLOTLYENV=window.PLOTLYENV || {};\n",
       "                    \n",
       "                if (document.getElementById(\"bdeb107b-5cc0-442c-a10f-99f637cdfb0e\")) {\n",
       "                    Plotly.newPlot(\n",
       "                        'bdeb107b-5cc0-442c-a10f-99f637cdfb0e',\n",
       "                        [{\"customdata\": [[\"Arkitekt\"], [\"Veterin\\u00e6rmedicin\"], [\"Designledelse\"], [\"Odontologi\"], [\"Jura\"], [\"Farmaci\"], [\"Lyd- og musikteknologi\"], [\"Farmaceutisk videnskab\"], [\"Tv\\u00e6rkulturelle studier\"], [\"Amerikanske studier\"], [\"Engelsk\"], [\"Medialogy\"], [\"Medicin og teknologi\"], [\"Humanbiologi\"], [\"Molecular Biology\"], [\"Musikvidenskab\"], [\"Informationsvidenskab og kulturformidling\"], [\"Human ern\\u00e6ring\"], [\"Erhvervssprog og international virksomhedskommunikation\"], [\"Industrielt design\"], [\"Religionsvidenskab\"], [\"Sundhedsteknologi\"], [\"Radiograf\"], [\"Bioteknologi\"], [\"Biologi-bioteknologi\"], [\"Landskabsarkitektur\"], [\"Corporate Communication\"], [\"Biokemi\"], [\"Byggeri\"], [\"Moderne kultur og kulturformidling\"], [\"Sygeplejerske\"], [\"Uddannelsesvidenskab\"], [\"Filosofi\"], [\"Bioinformatik\"], [\"Digital design og interaktive teknologier\"], [\"Astronomi\"], [\"Milj\\u00f8videnskab\"], [\"Global udvikling\"], [\"Samfundsvidenskabelig jura\"], [\"Fransk sprog, litteratur og kultur\"], [\"Tekstildesign, -h\\u00e5ndv\\u00e6rk og formidling\"], [\"Erhvervs\\u00f8konomi og virksomhedskommunikation\"], [\"Bygningsdesign\"], [\"F\\u00f8devareteknologi\"], [\"Audiologi\"], [\"Cultural Sociology\"], [\"Mechatronics Engineering\"], [\"Medicine with Industrial Specialisation\"], [\"Antropologi\"], [\"Biologi\"], [\"Anvendt kemi\"], [\"It-ledelse\"], [\"Molekyl\\u00e6r ern\\u00e6ring og f\\u00f8devareteknologi\"], [\"Film- og medievidenskab\"], [\"Erhvervs\\u00f8konomi og psykologi\"], [\"It, kommunikation og organisation\"], [\"Datalogi\"], [\"Fysik\"], [\"Olie- og gasteknologi\"], [\"Kultur, kommunikation og globalisering\"], [\"Dansk\"], [\"Erhvervs\\u00f8konomi - erhvervssprog, negot.\"], [\"Medicin\"], [\"Webudvikling\"], [\"Fysik og nanoteknologi\"], [\"Agronomi\"], [\"P\\u00e6dagogisk filosofi\"], [\"P\\u00e6dagogisk psykologi\"], [\"Husdyrvidenskab\"], [\"P\\u00e6dagogik\"], [\"Socialt arbejde\"], [\"\\u00d8konomi\"], [\"Erhvervs\\u00f8konomi og erhvervsjura\"], [\"It-design og applikationsudvikling\"], [\"Matematik-\\u00f8konomi\"], [\"Historie\"], [\"Bioanalytiker\"], [\"Design og business\"], [\"Forvaltning\"], [\"Kemi og bioteknologi\"], [\"Kultur og formidling\"], [\"Socialr\\u00e5dgiver\"], [\"Tysk\"], [\"Litteraturvidenskab\"], [\"Erhvervs\\u00f8konomi, cand.soc.\"], [\"Teologi\"], [\"Geologi\"], [\"Diplomingeni\\u00f8r - bygningsdesign\"], [\"Tandplejer\"], [\"It-didaktisk design\"], [\"Bioinformatik og systembiologi\"], [\"Jordbrugs\\u00f8konomi\"], [\"Fysioterapeut\"], [\"Samfundsfag\"], [\"Statskundskab\"], [\"Sociologi\"], [\"Erhvervs\\u00f8konomi, cand.merc.\"], [\"Designer\"], [\"Dramaturgi\"], [\"Teknologibaseret forretningsudvikling\"], [\"Mechanical Engineering\"], [\"Softwaredesign\"], [\"Agro-Environmental Management\"], [\"Transport og logistik\"], [\"Matematik\"], [\"Sundhedsfremme og sundhedsstrategier\"], [\"Kriminologi\"], [\"Socialvidenskab\"], [\"Ern\\u00e6ring og sundhed\"], [\"Kemi (civilingeni\\u00f8r)\"], [\"Diplomingeni\\u00f8r - softwareteknologi\"], [\"Digital innovation og management\"], [\"Kunsthistorie\"], [\"Digital design\"], [\"Psykologi\"], [\"Sundhedsfaglig kandidat\"], [\"Psykomotorisk terapeut\"], [\"Medievidenskab\"], [\"Ergoterapi\"], [\"Erhvervs\\u00f8konomi og filosofi\"], [\"Spansk sprog og kultur\"], [\"Mellem\\u00f8ststudier\"], [\"Molekyl\\u00e6r medicin\"], [\"Diplomingeni\\u00f8r - bygning\"], [\"Humanistisk-samfundsvidenskabelig idr\\u00e6tsvidenskab\"], [\"Informationsvidenskab\"], [\"Software\"], [\"Folkesundhedsvidenskab\"], [\"Diplomingeni\\u00f8r - elektrisk energiteknologi\"], [\"Audiologop\\u00e6di\"], [\"P\\u00e6dagogisk sociologi\"], [\"Nanoscience\"], [\"Klinisk sygepleje\"], [\"Sygepleje\"], [\"Anvendt kulturanalyse\"], [\"F\\u00f8devarevidenskab\"], [\"Geografi\"], [\"Optometrist\"], [\"Bygningskonstrukt\\u00f8r\"], [\"Ergoterapeut\"], [\"P\\u00e6dagog\"], [\"Arbejdslivsstudier\"], [\"Fysioterapi\"], [\"Have- og parkingeni\\u00f8r\"], [\"Kommunikation\"], [\"Klinisk ern\\u00e6ring\"], [\"Tourism\"], [\"Digitale medieteknologier\"], [\"Interaktive digitale medier\"], [\"International sikkerhed og folkeret\"], [\"Design og innovation\"], [\"Politisk kommunikation og ledelse\"], [\"Lingvistik\"], [\"Humanfysiologi\"], [\"Laboratorie- og f\\u00f8devareteknologi\"], [\"Medicinalkemi\"], [\"Journalistik\"], [\"Spil\"], [\"Offentlig administration\"], [\"\\u00c6stetik og kultur\"], [\"Softwareudvikling\"], [\"IT Product Design\"], [\"Kemi\"], [\"Revisorkandidat, cand.merc.aud.\"], [\"Jordemoder\"], [\"Oplevelses\\u00f8konomi\"], [\"Vision, Graphics and Interactive Systems\"], [\"Kemisk og biokemisk teknologi\"], [\"Energy Engineering\"], [\"Diplomingeni\\u00f8r - maskinteknik\"], [\"Industriel \\u00f8konomi og teknologiledelse\"], [\"Materiale- og procesteknologi\"], [\"Milj\\u00f8teknologi\"], [\"Byggeteknologi\"], [\"Geofysik\"], [\"Digital konceptudvikling\"], [\"Statistik\"], [\"Webkommunikation\"], [\"Informationsteknologi\"], [\"Farmateknologi\"], [\"Multimediedesigner\"], [\"International handel og markedsf\\u00f8ring\"], [\"Business Administration and Information Systems\"], [\"Maskinmester\"], [\"Politik og administration\"], [\"B\\u00e6redygtigt design\"], [\"Virksomhedsledelse\"], [\"Didaktik\"], [\"Energiteknologi\"], [\"Elektroteknologi\"], [\"L\\u00e6rer i folkeskolen\"], [\"Mekanik\"], [\"Diplomingeni\\u00f8r - elektronik\"], [\"L\\u00e6ring og forandringsprocesser\"], [\"International Hospitality Management\"], [\"Anvendt filosofi\"], [\"Diplomingeni\\u00f8r - eksport og teknologi\"], [\"Jordbrug\"], [\"Financial Controller\"], [\"P\\u00e6dagogisk antropologi\"], [\"Europastudier\"], [\"Administrations\\u00f8konom\"], [\"International Public Administration and Politics\"], [\"Matematisk modellering og computing\"], [\"Designteknolog\"], [\"Laborant\"], [\"Retorik\"], [\"IT-teknolog\"], [\"Konstruktion og mekanik\"], [\"Water and Environment Engineering\"], [\"Datamatiker\"], [\"Elinstallat\\u00f8r\"], [\"Finans\"], [\"Markedsf\\u00f8rings\\u00f8konom\"], [\"B\\u00e6redygtig energi\"], [\"Procesteknolog\"], [\"Lyd og akustisk teknologi\"], [\"Service\\u00f8konom\"], [\"Produktudvikling og teknisk integration\"], [\"Medieproduktion og ledelse\"], [\"It, l\\u00e6ring og organisatorisk omstilling\"], [\"Milj\\u00f8teknolog\"], [\"Innovation and Business\"], [\"Idr\\u00e6t\"], [\"Grafisk kommunikation\"], [\"\\u00d8konomi og informationsteknologi\"], [\"Veje og trafik\"], [\"Ledelse og informatik i byggeriet\"], [\"Logistik\\u00f8konom\"], [\"Diakoni og socialp\\u00e6dagogik\"], [\"Finans\\u00f8konom\"], [\"Visuel kommunikation\"], [\"Handels\\u00f8konom\"], [\"Multiplatform storytelling and production\"], [\"Jordbrugsteknolog\"], [\"Journalist\"], [\"Geofysik og rumteknologi\"], [\"Automationsteknolog\"], [\"Produktionsteknolog\"], [\"Kommunikation\"], [\"Landinspekt\\u00f8rvidenskab\"], [\"Tv- og medietilrettel\\u00e6ggelse\"], [\"Energiteknolog\"], [\"L\\u00e6rer fra Den frie L\\u00e6rerskole\"]], \"hoverlabel\": {\"namelength\": 0}, \"hovertemplate\": \"ledighed=%{x}<br>eksamensstress=%{y}<br>Titel=%{customdata[0]}\", \"legendgroup\": \"\", \"marker\": {\"color\": \"#636efa\", \"symbol\": \"circle\"}, \"mode\": \"markers\", \"name\": \"\", \"showlegend\": false, \"type\": \"scatter\", \"x\": [11.0, 6.0, 27.0, 3.0, 5.0, 8.0, 13.0, 4.0, 23.0, 22.0, 22.0, 24.0, 4.0, 6.0, 17.0, 16.0, 19.0, 24.0, 18.0, 21.0, 24.0, 1.0, 3.0, 12.0, 14.0, 13.0, 12.0, 18.0, 1.0, 25.0, 1.0, 15.0, 30.0, 5.0, 12.0, 13.0, 10.0, 10.0, 5.0, 23.0, 21.0, 9.0, 14.0, 10.0, 8.0, 12.0, 7.0, 17.0, 23.0, 23.0, 12.0, 12.0, 14.0, 19.0, 7.0, 6.0, 3.0, 6.0, 10.0, 27.0, 16.0, 14.0, 1.0, 13.0, 5.0, 11.0, 17.0, 12.0, 12.0, 14.0, 10.0, 2.0, 6.0, 15.0, 3.0, 26.0, 5.0, 16.0, 11.0, 11.0, 36.0, 6.0, 16.0, 27.0, 7.0, 18.0, 17.0, 4.0, 8.0, 12.0, 8.0, 7.0, 6.0, 14.0, 6.0, 17.0, 7.0, 27.0, 24.0, 7.0, 6.0, 3.0, 18.0, 2.0, 3.0, 20.0, 18.0, 28.0, 11.0, 18.0, 5.0, 6.0, 31.0, 24.0, 10.0, 7.0, 20.0, 20.0, 5.0, 19.0, 22.0, 22.0, 14.0, 4.0, 10.0, 13.0, 3.0, 11.0, 3.0, 2.0, 13.0, 14.0, 1.0, 3.0, 23.0, 8.0, 13.0, 1.0, 7.0, 10.0, 8.0, 12.0, 5.0, 14.0, 22.0, 10.0, 19.0, 5.0, 37.0, 20.0, 6.0, 12.0, 14.0, 12.0, 13.0, 17.0, 12.0, 12.0, 12.0, 31.0, 7.0, 19.0, 12.0, 2.0, 2.0, 28.0, 4.0, 6.0, 5.0, 5.0, 4.0, 6.0, 11.0, 4.0, 18.0, 20.0, 2.0, 16.0, 0.0, 7.0, 15.0, 12.0, 6.0, 3.0, 18.0, 16.0, 16.0, 13.0, 22.0, 4.0, 6.0, 1.0, 5.0, 19.0, 13.0, 30.0, 12.0, 16.0, 10.0, 17.0, 26.0, 19.0, 10.0, 2.0, 12.0, 7.0, 18.0, 11.0, 2.0, 2.0, 10.0, 2.0, 4.0, 8.0, 12.0, 13.0, 2.0, 9.0, 15.0, 14.0, 16.0, 22.0, 7.0, 15.0, 19.0, 4.0, 1.0, 6.0, 7.0, 7.0, 6.0, 16.0, 8.0, 21.0, 10.0, 11.0, 11.0, 3.0, 10.0, 8.0, 4.0, 14.0, 12.0, 19.0], \"xaxis\": \"x\", \"y\": [2.1, 2.26, 2.38, 2.38, 2.41, 2.42, 2.43, 2.45, 2.45, 2.48, 2.49, 2.54, 2.56, 2.6, 2.6, 2.61, 2.62, 2.63, 2.64, 2.64, 2.65, 2.65, 2.66, 2.66, 2.67, 2.67, 2.67, 2.67, 2.68, 2.68, 2.68, 2.68, 2.69, 2.69, 2.7, 2.7, 2.7, 2.71, 2.71, 2.72, 2.73, 2.73, 2.73, 2.74, 2.75, 2.75, 2.75, 2.75, 2.75, 2.76, 2.76, 2.76, 2.77, 2.77, 2.77, 2.77, 2.77, 2.77, 2.78, 2.78, 2.79, 2.79, 2.8, 2.8, 2.8, 2.8, 2.81, 2.81, 2.81, 2.81, 2.81, 2.81, 2.81, 2.81, 2.82, 2.82, 2.82, 2.82, 2.82, 2.83, 2.83, 2.83, 2.84, 2.84, 2.85, 2.85, 2.85, 2.85, 2.85, 2.86, 2.86, 2.87, 2.88, 2.88, 2.88, 2.89, 2.89, 2.89, 2.89, 2.9, 2.9, 2.9, 2.9, 2.92, 2.92, 2.92, 2.92, 2.92, 2.93, 2.93, 2.93, 2.94, 2.94, 2.94, 2.94, 2.94, 2.95, 2.96, 2.96, 2.97, 2.97, 2.97, 2.97, 2.98, 2.98, 2.98, 2.98, 2.99, 2.99, 3.0, 3.0, 3.0, 3.0, 3.0, 3.0, 3.0, 3.01, 3.01, 3.01, 3.02, 3.03, 3.03, 3.03, 3.03, 3.04, 3.04, 3.04, 3.04, 3.04, 3.04, 3.05, 3.06, 3.06, 3.07, 3.07, 3.07, 3.08, 3.08, 3.08, 3.09, 3.09, 3.1, 3.1, 3.11, 3.11, 3.12, 3.13, 3.13, 3.13, 3.13, 3.13, 3.14, 3.14, 3.15, 3.15, 3.15, 3.15, 3.15, 3.16, 3.16, 3.17, 3.17, 3.18, 3.19, 3.19, 3.19, 3.21, 3.22, 3.23, 3.23, 3.24, 3.24, 3.25, 3.26, 3.26, 3.27, 3.27, 3.28, 3.29, 3.29, 3.29, 3.3, 3.3, 3.3, 3.32, 3.32, 3.33, 3.33, 3.33, 3.35, 3.36, 3.36, 3.37, 3.37, 3.4, 3.41, 3.41, 3.42, 3.42, 3.42, 3.43, 3.43, 3.44, 3.44, 3.45, 3.45, 3.5, 3.5, 3.5, 3.5, 3.53, 3.54, 3.6, 3.61, 3.62, 3.62, 3.62, 3.62, 3.72, 3.74, 3.82, 3.86, 3.95, 4.83], \"yaxis\": \"y\"}, {\"alignmentgroup\": \"True\", \"bingroup\": \"x\", \"hoverlabel\": {\"namelength\": 0}, \"hovertemplate\": \"ledighed=%{x}<br>count=%{y}\", \"legendgroup\": \"\", \"marker\": {\"color\": \"#636efa\"}, \"name\": \"\", \"offsetgroup\": \"\", \"opacity\": 0.5, \"showlegend\": false, \"type\": \"histogram\", \"x\": [11.0, 6.0, 27.0, 3.0, 5.0, 8.0, 13.0, 4.0, 23.0, 22.0, 22.0, 24.0, 4.0, 6.0, 17.0, 16.0, 19.0, 24.0, 18.0, 21.0, 24.0, 1.0, 3.0, 12.0, 14.0, 13.0, 12.0, 18.0, 1.0, 25.0, 1.0, 15.0, 30.0, 5.0, 12.0, 13.0, 10.0, 10.0, 5.0, 23.0, 21.0, 9.0, 14.0, 10.0, 8.0, 12.0, 7.0, 17.0, 23.0, 23.0, 12.0, 12.0, 14.0, 19.0, 7.0, 6.0, 3.0, 6.0, 10.0, 27.0, 16.0, 14.0, 1.0, 13.0, 5.0, 11.0, 17.0, 12.0, 12.0, 14.0, 10.0, 2.0, 6.0, 15.0, 3.0, 26.0, 5.0, 16.0, 11.0, 11.0, 36.0, 6.0, 16.0, 27.0, 7.0, 18.0, 17.0, 4.0, 8.0, 12.0, 8.0, 7.0, 6.0, 14.0, 6.0, 17.0, 7.0, 27.0, 24.0, 7.0, 6.0, 3.0, 18.0, 2.0, 3.0, 20.0, 18.0, 28.0, 11.0, 18.0, 5.0, 6.0, 31.0, 24.0, 10.0, 7.0, 20.0, 20.0, 5.0, 19.0, 22.0, 22.0, 14.0, 4.0, 10.0, 13.0, 3.0, 11.0, 3.0, 2.0, 13.0, 14.0, 1.0, 3.0, 23.0, 8.0, 13.0, 1.0, 7.0, 10.0, 8.0, 12.0, 5.0, 14.0, 22.0, 10.0, 19.0, 5.0, 37.0, 20.0, 6.0, 12.0, 14.0, 12.0, 13.0, 17.0, 12.0, 12.0, 12.0, 31.0, 7.0, 19.0, 12.0, 2.0, 2.0, 28.0, 4.0, 6.0, 5.0, 5.0, 4.0, 6.0, 11.0, 4.0, 18.0, 20.0, 2.0, 16.0, 0.0, 7.0, 15.0, 12.0, 6.0, 3.0, 18.0, 16.0, 16.0, 13.0, 22.0, 4.0, 6.0, 1.0, 5.0, 19.0, 13.0, 30.0, 12.0, 16.0, 10.0, 17.0, 26.0, 19.0, 10.0, 2.0, 12.0, 7.0, 18.0, 11.0, 2.0, 2.0, 10.0, 2.0, 4.0, 8.0, 12.0, 13.0, 2.0, 9.0, 15.0, 14.0, 16.0, 22.0, 7.0, 15.0, 19.0, 4.0, 1.0, 6.0, 7.0, 7.0, 6.0, 16.0, 8.0, 21.0, 10.0, 11.0, 11.0, 3.0, 10.0, 8.0, 4.0, 14.0, 12.0, 19.0], \"xaxis\": \"x3\", \"yaxis\": \"y3\"}, {\"alignmentgroup\": \"True\", \"bingroup\": \"y\", \"hoverlabel\": {\"namelength\": 0}, \"hovertemplate\": \"eksamensstress=%{y}<br>count=%{x}\", \"legendgroup\": \"\", \"marker\": {\"color\": \"#636efa\"}, \"name\": \"\", \"offsetgroup\": \"\", \"opacity\": 0.5, \"showlegend\": false, \"type\": \"histogram\", \"xaxis\": \"x2\", \"y\": [2.1, 2.26, 2.38, 2.38, 2.41, 2.42, 2.43, 2.45, 2.45, 2.48, 2.49, 2.54, 2.56, 2.6, 2.6, 2.61, 2.62, 2.63, 2.64, 2.64, 2.65, 2.65, 2.66, 2.66, 2.67, 2.67, 2.67, 2.67, 2.68, 2.68, 2.68, 2.68, 2.69, 2.69, 2.7, 2.7, 2.7, 2.71, 2.71, 2.72, 2.73, 2.73, 2.73, 2.74, 2.75, 2.75, 2.75, 2.75, 2.75, 2.76, 2.76, 2.76, 2.77, 2.77, 2.77, 2.77, 2.77, 2.77, 2.78, 2.78, 2.79, 2.79, 2.8, 2.8, 2.8, 2.8, 2.81, 2.81, 2.81, 2.81, 2.81, 2.81, 2.81, 2.81, 2.82, 2.82, 2.82, 2.82, 2.82, 2.83, 2.83, 2.83, 2.84, 2.84, 2.85, 2.85, 2.85, 2.85, 2.85, 2.86, 2.86, 2.87, 2.88, 2.88, 2.88, 2.89, 2.89, 2.89, 2.89, 2.9, 2.9, 2.9, 2.9, 2.92, 2.92, 2.92, 2.92, 2.92, 2.93, 2.93, 2.93, 2.94, 2.94, 2.94, 2.94, 2.94, 2.95, 2.96, 2.96, 2.97, 2.97, 2.97, 2.97, 2.98, 2.98, 2.98, 2.98, 2.99, 2.99, 3.0, 3.0, 3.0, 3.0, 3.0, 3.0, 3.0, 3.01, 3.01, 3.01, 3.02, 3.03, 3.03, 3.03, 3.03, 3.04, 3.04, 3.04, 3.04, 3.04, 3.04, 3.05, 3.06, 3.06, 3.07, 3.07, 3.07, 3.08, 3.08, 3.08, 3.09, 3.09, 3.1, 3.1, 3.11, 3.11, 3.12, 3.13, 3.13, 3.13, 3.13, 3.13, 3.14, 3.14, 3.15, 3.15, 3.15, 3.15, 3.15, 3.16, 3.16, 3.17, 3.17, 3.18, 3.19, 3.19, 3.19, 3.21, 3.22, 3.23, 3.23, 3.24, 3.24, 3.25, 3.26, 3.26, 3.27, 3.27, 3.28, 3.29, 3.29, 3.29, 3.3, 3.3, 3.3, 3.32, 3.32, 3.33, 3.33, 3.33, 3.35, 3.36, 3.36, 3.37, 3.37, 3.4, 3.41, 3.41, 3.42, 3.42, 3.42, 3.43, 3.43, 3.44, 3.44, 3.45, 3.45, 3.5, 3.5, 3.5, 3.5, 3.53, 3.54, 3.6, 3.61, 3.62, 3.62, 3.62, 3.62, 3.72, 3.74, 3.82, 3.86, 3.95, 4.83], \"yaxis\": \"y2\"}, {\"hoverlabel\": {\"namelength\": 0}, \"hovertemplate\": \"<b>LOWESS trendline</b><br><br>ledighed=%{x}<br>eksamensstress=%{y} <b>(trend)</b>\", \"legendgroup\": \"\", \"marker\": {\"color\": \"#636efa\", \"symbol\": \"circle\"}, \"mode\": \"lines\", \"name\": \"\", \"showlegend\": false, \"type\": \"scatter\", \"x\": [0.0, 1.0, 1.0, 1.0, 1.0, 1.0, 1.0, 1.0, 1.0, 2.0, 2.0, 2.0, 2.0, 2.0, 2.0, 2.0, 2.0, 2.0, 2.0, 2.0, 3.0, 3.0, 3.0, 3.0, 3.0, 3.0, 3.0, 3.0, 3.0, 3.0, 3.0, 4.0, 4.0, 4.0, 4.0, 4.0, 4.0, 4.0, 4.0, 4.0, 4.0, 4.0, 5.0, 5.0, 5.0, 5.0, 5.0, 5.0, 5.0, 5.0, 5.0, 5.0, 5.0, 5.0, 6.0, 6.0, 6.0, 6.0, 6.0, 6.0, 6.0, 6.0, 6.0, 6.0, 6.0, 6.0, 6.0, 6.0, 6.0, 6.0, 6.0, 7.0, 7.0, 7.0, 7.0, 7.0, 7.0, 7.0, 7.0, 7.0, 7.0, 7.0, 7.0, 7.0, 7.0, 8.0, 8.0, 8.0, 8.0, 8.0, 8.0, 8.0, 8.0, 8.0, 9.0, 9.0, 10.0, 10.0, 10.0, 10.0, 10.0, 10.0, 10.0, 10.0, 10.0, 10.0, 10.0, 10.0, 10.0, 10.0, 11.0, 11.0, 11.0, 11.0, 11.0, 11.0, 11.0, 11.0, 11.0, 11.0, 12.0, 12.0, 12.0, 12.0, 12.0, 12.0, 12.0, 12.0, 12.0, 12.0, 12.0, 12.0, 12.0, 12.0, 12.0, 12.0, 12.0, 12.0, 12.0, 12.0, 12.0, 13.0, 13.0, 13.0, 13.0, 13.0, 13.0, 13.0, 13.0, 13.0, 13.0, 13.0, 14.0, 14.0, 14.0, 14.0, 14.0, 14.0, 14.0, 14.0, 14.0, 14.0, 14.0, 14.0, 15.0, 15.0, 15.0, 15.0, 15.0, 16.0, 16.0, 16.0, 16.0, 16.0, 16.0, 16.0, 16.0, 16.0, 16.0, 17.0, 17.0, 17.0, 17.0, 17.0, 17.0, 17.0, 18.0, 18.0, 18.0, 18.0, 18.0, 18.0, 18.0, 18.0, 18.0, 19.0, 19.0, 19.0, 19.0, 19.0, 19.0, 19.0, 19.0, 19.0, 20.0, 20.0, 20.0, 20.0, 20.0, 21.0, 21.0, 21.0, 22.0, 22.0, 22.0, 22.0, 22.0, 22.0, 22.0, 23.0, 23.0, 23.0, 23.0, 23.0, 24.0, 24.0, 24.0, 24.0, 24.0, 25.0, 26.0, 26.0, 27.0, 27.0, 27.0, 27.0, 28.0, 28.0, 30.0, 30.0, 31.0, 31.0, 36.0, 37.0], \"xaxis\": \"x\", \"y\": [3.02740276591267, 3.023340697550516, 3.023340697550516, 3.023340697550516, 3.023340697550516, 3.023340697550516, 3.023340697550516, 3.023340697550516, 3.023340697550516, 3.0198153785564164, 3.0198153785564164, 3.0198153785564164, 3.0198153785564164, 3.0198153785564164, 3.0198153785564164, 3.0198153785564164, 3.0198153785564164, 3.0198153785564164, 3.0198153785564164, 3.0198153785564164, 3.017056874488195, 3.017056874488195, 3.017056874488195, 3.017056874488195, 3.017056874488195, 3.017056874488195, 3.017056874488195, 3.017056874488195, 3.017056874488195, 3.017056874488195, 3.017056874488195, 3.0148483059956686, 3.0148483059956686, 3.0148483059956686, 3.0148483059956686, 3.0148483059956686, 3.0148483059956686, 3.0148483059956686, 3.0148483059956686, 3.0148483059956686, 3.0148483059956686, 3.0148483059956686, 3.012934353981599, 3.012934353981599, 3.012934353981599, 3.012934353981599, 3.012934353981599, 3.012934353981599, 3.012934353981599, 3.012934353981599, 3.012934353981599, 3.012934353981599, 3.012934353981599, 3.012934353981599, 3.01076203627339, 3.01076203627339, 3.01076203627339, 3.01076203627339, 3.01076203627339, 3.01076203627339, 3.01076203627339, 3.01076203627339, 3.01076203627339, 3.01076203627339, 3.01076203627339, 3.01076203627339, 3.01076203627339, 3.01076203627339, 3.01076203627339, 3.01076203627339, 3.01076203627339, 3.007867263799864, 3.007867263799864, 3.007867263799864, 3.007867263799864, 3.007867263799864, 3.007867263799864, 3.007867263799864, 3.007867263799864, 3.007867263799864, 3.007867263799864, 3.007867263799864, 3.007867263799864, 3.007867263799864, 3.007867263799864, 3.0048899168654035, 3.0048899168654035, 3.0048899168654035, 3.0048899168654035, 3.0048899168654035, 3.0048899168654035, 3.0048899168654035, 3.0048899168654035, 3.0048899168654035, 3.0030003081800047, 3.0030003081800047, 3.0020168803166785, 3.0020168803166785, 3.0020168803166785, 3.0020168803166785, 3.0020168803166785, 3.0020168803166785, 3.0020168803166785, 3.0020168803166785, 3.0020168803166785, 3.0020168803166785, 3.0020168803166785, 3.0020168803166785, 3.0020168803166785, 3.0020168803166785, 3.0021963867499224, 3.0021963867499224, 3.0021963867499224, 3.0021963867499224, 3.0021963867499224, 3.0021963867499224, 3.0021963867499224, 3.0021963867499224, 3.0021963867499224, 3.0021963867499224, 2.999985890717192, 2.999985890717192, 2.999985890717192, 2.999985890717192, 2.999985890717192, 2.999985890717192, 2.999985890717192, 2.999985890717192, 2.999985890717192, 2.999985890717192, 2.999985890717192, 2.999985890717192, 2.999985890717192, 2.999985890717192, 2.999985890717192, 2.999985890717192, 2.999985890717192, 2.999985890717192, 2.999985890717192, 2.999985890717192, 2.999985890717192, 2.9959106405909037, 2.9959106405909037, 2.9959106405909037, 2.9959106405909037, 2.9959106405909037, 2.9959106405909037, 2.9959106405909037, 2.9959106405909037, 2.9959106405909037, 2.9959106405909037, 2.9959106405909037, 2.9920766939119745, 2.9920766939119745, 2.9920766939119745, 2.9920766939119745, 2.9920766939119745, 2.9920766939119745, 2.9920766939119745, 2.9920766939119745, 2.9920766939119745, 2.9920766939119745, 2.9920766939119745, 2.9920766939119745, 2.9886116113140333, 2.9886116113140333, 2.9886116113140333, 2.9886116113140333, 2.9886116113140333, 2.9780229380660836, 2.9780229380660836, 2.9780229380660836, 2.9780229380660836, 2.9780229380660836, 2.9780229380660836, 2.9780229380660836, 2.9780229380660836, 2.9780229380660836, 2.9780229380660836, 2.966182417087475, 2.966182417087475, 2.966182417087475, 2.966182417087475, 2.966182417087475, 2.966182417087475, 2.966182417087475, 2.9493172131980856, 2.9493172131980856, 2.9493172131980856, 2.9493172131980856, 2.9493172131980856, 2.9493172131980856, 2.9493172131980856, 2.9493172131980856, 2.9493172131980856, 2.934732808953913, 2.934732808953913, 2.934732808953913, 2.934732808953913, 2.934732808953913, 2.934732808953913, 2.934732808953913, 2.934732808953913, 2.934732808953913, 2.9240665438610094, 2.9240665438610094, 2.9240665438610094, 2.9240665438610094, 2.9240665438610094, 2.91677465032783, 2.91677465032783, 2.91677465032783, 2.910455549473063, 2.910455549473063, 2.910455549473063, 2.910455549473063, 2.910455549473063, 2.910455549473063, 2.910455549473063, 2.9045622741721173, 2.9045622741721173, 2.9045622741721173, 2.9045622741721173, 2.9045622741721173, 2.8995344397977685, 2.8995344397977685, 2.8995344397977685, 2.8995344397977685, 2.8995344397977685, 2.8948130181109915, 2.890011106749708, 2.890011106749708, 2.885035507648912, 2.885035507648912, 2.885035507648912, 2.885035507648912, 2.8799228770226772, 2.8799228770226772, 2.8697705863865286, 2.8697705863865286, 2.864943198218258, 2.864943198218258, 2.8451028888606853, 2.84206842039066], \"yaxis\": \"y\"}],\n",
       "                        {\"barmode\": \"overlay\", \"legend\": {\"tracegroupgap\": 0}, \"shapes\": [{\"fillcolor\": \"LightSkyBlue\", \"layer\": \"below\", \"line\": {\"width\": 0}, \"opacity\": 0.5, \"type\": \"rect\", \"x0\": 11.115261697226948, \"x1\": 13.024082565068134, \"xref\": \"x\", \"y0\": 2.1, \"y1\": 4.83, \"yref\": \"y\"}, {\"fillcolor\": \"LightSkyBlue\", \"layer\": \"below\", \"line\": {\"width\": 0}, \"opacity\": 0.5, \"type\": \"rect\", \"x0\": 0.0, \"x1\": 37.0, \"xref\": \"x\", \"y0\": 2.963681148960112, \"y1\": 3.0460729494005454, \"yref\": \"y\"}], \"template\": {\"data\": {\"bar\": [{\"error_x\": {\"color\": \"#2a3f5f\"}, \"error_y\": {\"color\": \"#2a3f5f\"}, \"marker\": {\"line\": {\"color\": \"#E5ECF6\", \"width\": 0.5}}, \"type\": \"bar\"}], \"barpolar\": [{\"marker\": {\"line\": {\"color\": \"#E5ECF6\", \"width\": 0.5}}, \"type\": \"barpolar\"}], \"carpet\": [{\"aaxis\": {\"endlinecolor\": \"#2a3f5f\", \"gridcolor\": \"white\", \"linecolor\": \"white\", \"minorgridcolor\": \"white\", \"startlinecolor\": \"#2a3f5f\"}, \"baxis\": {\"endlinecolor\": \"#2a3f5f\", \"gridcolor\": \"white\", \"linecolor\": \"white\", \"minorgridcolor\": \"white\", \"startlinecolor\": \"#2a3f5f\"}, \"type\": \"carpet\"}], \"choropleth\": [{\"colorbar\": {\"outlinewidth\": 0, \"ticks\": \"\"}, \"type\": \"choropleth\"}], \"contour\": [{\"colorbar\": {\"outlinewidth\": 0, \"ticks\": \"\"}, \"colorscale\": [[0.0, \"#0d0887\"], [0.1111111111111111, \"#46039f\"], [0.2222222222222222, \"#7201a8\"], [0.3333333333333333, \"#9c179e\"], [0.4444444444444444, \"#bd3786\"], [0.5555555555555556, \"#d8576b\"], [0.6666666666666666, \"#ed7953\"], [0.7777777777777778, \"#fb9f3a\"], [0.8888888888888888, \"#fdca26\"], [1.0, \"#f0f921\"]], \"type\": \"contour\"}], \"contourcarpet\": [{\"colorbar\": {\"outlinewidth\": 0, \"ticks\": \"\"}, \"type\": \"contourcarpet\"}], \"heatmap\": [{\"colorbar\": {\"outlinewidth\": 0, \"ticks\": \"\"}, \"colorscale\": [[0.0, \"#0d0887\"], [0.1111111111111111, \"#46039f\"], [0.2222222222222222, \"#7201a8\"], [0.3333333333333333, \"#9c179e\"], [0.4444444444444444, \"#bd3786\"], [0.5555555555555556, \"#d8576b\"], [0.6666666666666666, \"#ed7953\"], [0.7777777777777778, \"#fb9f3a\"], [0.8888888888888888, \"#fdca26\"], [1.0, \"#f0f921\"]], \"type\": \"heatmap\"}], \"heatmapgl\": [{\"colorbar\": {\"outlinewidth\": 0, \"ticks\": \"\"}, \"colorscale\": [[0.0, \"#0d0887\"], [0.1111111111111111, \"#46039f\"], [0.2222222222222222, \"#7201a8\"], [0.3333333333333333, \"#9c179e\"], [0.4444444444444444, \"#bd3786\"], [0.5555555555555556, \"#d8576b\"], [0.6666666666666666, \"#ed7953\"], [0.7777777777777778, \"#fb9f3a\"], [0.8888888888888888, \"#fdca26\"], [1.0, \"#f0f921\"]], \"type\": \"heatmapgl\"}], \"histogram\": [{\"marker\": {\"colorbar\": {\"outlinewidth\": 0, \"ticks\": \"\"}}, \"type\": \"histogram\"}], \"histogram2d\": [{\"colorbar\": {\"outlinewidth\": 0, \"ticks\": \"\"}, \"colorscale\": [[0.0, \"#0d0887\"], [0.1111111111111111, \"#46039f\"], [0.2222222222222222, \"#7201a8\"], [0.3333333333333333, \"#9c179e\"], [0.4444444444444444, \"#bd3786\"], [0.5555555555555556, \"#d8576b\"], [0.6666666666666666, \"#ed7953\"], [0.7777777777777778, \"#fb9f3a\"], [0.8888888888888888, \"#fdca26\"], [1.0, \"#f0f921\"]], \"type\": \"histogram2d\"}], \"histogram2dcontour\": [{\"colorbar\": {\"outlinewidth\": 0, \"ticks\": \"\"}, \"colorscale\": [[0.0, \"#0d0887\"], [0.1111111111111111, \"#46039f\"], [0.2222222222222222, \"#7201a8\"], [0.3333333333333333, \"#9c179e\"], [0.4444444444444444, \"#bd3786\"], [0.5555555555555556, \"#d8576b\"], [0.6666666666666666, \"#ed7953\"], [0.7777777777777778, \"#fb9f3a\"], [0.8888888888888888, \"#fdca26\"], [1.0, \"#f0f921\"]], \"type\": \"histogram2dcontour\"}], \"mesh3d\": [{\"colorbar\": {\"outlinewidth\": 0, \"ticks\": \"\"}, \"type\": \"mesh3d\"}], \"parcoords\": [{\"line\": {\"colorbar\": {\"outlinewidth\": 0, \"ticks\": \"\"}}, \"type\": \"parcoords\"}], \"pie\": [{\"automargin\": true, \"type\": \"pie\"}], \"scatter\": [{\"marker\": {\"colorbar\": {\"outlinewidth\": 0, \"ticks\": \"\"}}, \"type\": \"scatter\"}], \"scatter3d\": [{\"line\": {\"colorbar\": {\"outlinewidth\": 0, \"ticks\": \"\"}}, \"marker\": {\"colorbar\": {\"outlinewidth\": 0, \"ticks\": \"\"}}, \"type\": \"scatter3d\"}], \"scattercarpet\": [{\"marker\": {\"colorbar\": {\"outlinewidth\": 0, \"ticks\": \"\"}}, \"type\": \"scattercarpet\"}], \"scattergeo\": [{\"marker\": {\"colorbar\": {\"outlinewidth\": 0, \"ticks\": \"\"}}, \"type\": \"scattergeo\"}], \"scattergl\": [{\"marker\": {\"colorbar\": {\"outlinewidth\": 0, \"ticks\": \"\"}}, \"type\": \"scattergl\"}], \"scattermapbox\": [{\"marker\": {\"colorbar\": {\"outlinewidth\": 0, \"ticks\": \"\"}}, \"type\": \"scattermapbox\"}], \"scatterpolar\": [{\"marker\": {\"colorbar\": {\"outlinewidth\": 0, \"ticks\": \"\"}}, \"type\": \"scatterpolar\"}], \"scatterpolargl\": [{\"marker\": {\"colorbar\": {\"outlinewidth\": 0, \"ticks\": \"\"}}, \"type\": \"scatterpolargl\"}], \"scatterternary\": [{\"marker\": {\"colorbar\": {\"outlinewidth\": 0, \"ticks\": \"\"}}, \"type\": \"scatterternary\"}], \"surface\": [{\"colorbar\": {\"outlinewidth\": 0, \"ticks\": \"\"}, \"colorscale\": [[0.0, \"#0d0887\"], [0.1111111111111111, \"#46039f\"], [0.2222222222222222, \"#7201a8\"], [0.3333333333333333, \"#9c179e\"], [0.4444444444444444, \"#bd3786\"], [0.5555555555555556, \"#d8576b\"], [0.6666666666666666, \"#ed7953\"], [0.7777777777777778, \"#fb9f3a\"], [0.8888888888888888, \"#fdca26\"], [1.0, \"#f0f921\"]], \"type\": \"surface\"}], \"table\": [{\"cells\": {\"fill\": {\"color\": \"#EBF0F8\"}, \"line\": {\"color\": \"white\"}}, \"header\": {\"fill\": {\"color\": \"#C8D4E3\"}, \"line\": {\"color\": \"white\"}}, \"type\": \"table\"}]}, \"layout\": {\"annotationdefaults\": {\"arrowcolor\": \"#2a3f5f\", \"arrowhead\": 0, \"arrowwidth\": 1}, \"coloraxis\": {\"colorbar\": {\"outlinewidth\": 0, \"ticks\": \"\"}}, \"colorscale\": {\"diverging\": [[0, \"#8e0152\"], [0.1, \"#c51b7d\"], [0.2, \"#de77ae\"], [0.3, \"#f1b6da\"], [0.4, \"#fde0ef\"], [0.5, \"#f7f7f7\"], [0.6, \"#e6f5d0\"], [0.7, \"#b8e186\"], [0.8, \"#7fbc41\"], [0.9, \"#4d9221\"], [1, \"#276419\"]], \"sequential\": [[0.0, \"#0d0887\"], [0.1111111111111111, \"#46039f\"], [0.2222222222222222, \"#7201a8\"], [0.3333333333333333, \"#9c179e\"], [0.4444444444444444, \"#bd3786\"], [0.5555555555555556, \"#d8576b\"], [0.6666666666666666, \"#ed7953\"], [0.7777777777777778, \"#fb9f3a\"], [0.8888888888888888, \"#fdca26\"], [1.0, \"#f0f921\"]], \"sequentialminus\": [[0.0, \"#0d0887\"], [0.1111111111111111, \"#46039f\"], [0.2222222222222222, \"#7201a8\"], [0.3333333333333333, \"#9c179e\"], [0.4444444444444444, \"#bd3786\"], [0.5555555555555556, \"#d8576b\"], [0.6666666666666666, \"#ed7953\"], [0.7777777777777778, \"#fb9f3a\"], [0.8888888888888888, \"#fdca26\"], [1.0, \"#f0f921\"]]}, \"colorway\": [\"#636efa\", \"#EF553B\", \"#00cc96\", \"#ab63fa\", \"#FFA15A\", \"#19d3f3\", \"#FF6692\", \"#B6E880\", \"#FF97FF\", \"#FECB52\"], \"font\": {\"color\": \"#2a3f5f\"}, \"geo\": {\"bgcolor\": \"white\", \"lakecolor\": \"white\", \"landcolor\": \"#E5ECF6\", \"showlakes\": true, \"showland\": true, \"subunitcolor\": \"white\"}, \"hoverlabel\": {\"align\": \"left\"}, \"hovermode\": \"closest\", \"mapbox\": {\"style\": \"light\"}, \"paper_bgcolor\": \"white\", \"plot_bgcolor\": \"#E5ECF6\", \"polar\": {\"angularaxis\": {\"gridcolor\": \"white\", \"linecolor\": \"white\", \"ticks\": \"\"}, \"bgcolor\": \"#E5ECF6\", \"radialaxis\": {\"gridcolor\": \"white\", \"linecolor\": \"white\", \"ticks\": \"\"}}, \"scene\": {\"xaxis\": {\"backgroundcolor\": \"#E5ECF6\", \"gridcolor\": \"white\", \"gridwidth\": 2, \"linecolor\": \"white\", \"showbackground\": true, \"ticks\": \"\", \"zerolinecolor\": \"white\"}, \"yaxis\": {\"backgroundcolor\": \"#E5ECF6\", \"gridcolor\": \"white\", \"gridwidth\": 2, \"linecolor\": \"white\", \"showbackground\": true, \"ticks\": \"\", \"zerolinecolor\": \"white\"}, \"zaxis\": {\"backgroundcolor\": \"#E5ECF6\", \"gridcolor\": \"white\", \"gridwidth\": 2, \"linecolor\": \"white\", \"showbackground\": true, \"ticks\": \"\", \"zerolinecolor\": \"white\"}}, \"shapedefaults\": {\"line\": {\"color\": \"#2a3f5f\"}}, \"ternary\": {\"aaxis\": {\"gridcolor\": \"white\", \"linecolor\": \"white\", \"ticks\": \"\"}, \"baxis\": {\"gridcolor\": \"white\", \"linecolor\": \"white\", \"ticks\": \"\"}, \"bgcolor\": \"#E5ECF6\", \"caxis\": {\"gridcolor\": \"white\", \"linecolor\": \"white\", \"ticks\": \"\"}}, \"title\": {\"x\": 0.05}, \"xaxis\": {\"automargin\": true, \"gridcolor\": \"white\", \"linecolor\": \"white\", \"ticks\": \"\", \"title\": {\"standoff\": 15}, \"zerolinecolor\": \"white\", \"zerolinewidth\": 2}, \"yaxis\": {\"automargin\": true, \"gridcolor\": \"white\", \"linecolor\": \"white\", \"ticks\": \"\", \"title\": {\"standoff\": 15}, \"zerolinecolor\": \"white\", \"zerolinewidth\": 2}}}, \"title\": {\"text\": \"ledighed vs. eksamensstress\"}, \"xaxis\": {\"anchor\": \"y\", \"domain\": [0.0, 0.7363], \"title\": {\"text\": \"ledighed\"}}, \"xaxis2\": {\"anchor\": \"y2\", \"domain\": [0.7413, 1.0], \"matches\": \"x2\", \"showgrid\": true, \"showline\": false, \"showticklabels\": false, \"ticks\": \"\"}, \"xaxis3\": {\"anchor\": \"y3\", \"domain\": [0.0, 0.7363], \"matches\": \"x\", \"showgrid\": true, \"showticklabels\": false}, \"xaxis4\": {\"anchor\": \"y4\", \"domain\": [0.7413, 1.0], \"matches\": \"x2\", \"showgrid\": true, \"showline\": false, \"showticklabels\": false, \"ticks\": \"\"}, \"yaxis\": {\"anchor\": \"x\", \"domain\": [0.0, 0.7326], \"title\": {\"text\": \"eksamensstress\"}}, \"yaxis2\": {\"anchor\": \"x2\", \"domain\": [0.0, 0.7326], \"matches\": \"y\", \"showgrid\": true, \"showticklabels\": false}, \"yaxis3\": {\"anchor\": \"x3\", \"domain\": [0.7426, 1.0], \"matches\": \"y3\", \"showgrid\": true, \"showline\": false, \"showticklabels\": false, \"ticks\": \"\"}, \"yaxis4\": {\"anchor\": \"x4\", \"domain\": [0.7426, 1.0], \"matches\": \"y3\", \"showgrid\": true, \"showline\": false, \"showticklabels\": false, \"ticks\": \"\"}},\n",
       "                        {\"responsive\": true}\n",
       "                    ).then(function(){\n",
       "                            \n",
       "var gd = document.getElementById('bdeb107b-5cc0-442c-a10f-99f637cdfb0e');\n",
       "var x = new MutationObserver(function (mutations, observer) {{\n",
       "        var display = window.getComputedStyle(gd).display;\n",
       "        if (!display || display === 'none') {{\n",
       "            console.log([gd, 'removed!']);\n",
       "            Plotly.purge(gd);\n",
       "            observer.disconnect();\n",
       "        }}\n",
       "}});\n",
       "\n",
       "// Listen for the removal of the full notebook cells\n",
       "var notebookContainer = gd.closest('#notebook-container');\n",
       "if (notebookContainer) {{\n",
       "    x.observe(notebookContainer, {childList: true});\n",
       "}}\n",
       "\n",
       "// Listen for the clearing of the current output cell\n",
       "var outputEl = gd.closest('.output');\n",
       "if (outputEl) {{\n",
       "    x.observe(outputEl, {childList: true});\n",
       "}}\n",
       "\n",
       "                        })\n",
       "                };\n",
       "                });\n",
       "            </script>\n",
       "        </div>"
      ]
     },
     "metadata": {},
     "output_type": "display_data"
    },
    {
     "data": {
      "application/vnd.plotly.v1+json": {
       "config": {
        "plotlyServerURL": "https://plot.ly"
       },
       "data": [
        {
         "customdata": [
          [
           "Arkitekt"
          ],
          [
           "Veterinærmedicin"
          ],
          [
           "Designledelse"
          ],
          [
           "Odontologi"
          ],
          [
           "Jura"
          ],
          [
           "Farmaci"
          ],
          [
           "Lyd- og musikteknologi"
          ],
          [
           "Farmaceutisk videnskab"
          ],
          [
           "Tværkulturelle studier"
          ],
          [
           "Amerikanske studier"
          ],
          [
           "Engelsk"
          ],
          [
           "Medialogy"
          ],
          [
           "Medicin og teknologi"
          ],
          [
           "Humanbiologi"
          ],
          [
           "Molecular Biology"
          ],
          [
           "Musikvidenskab"
          ],
          [
           "Informationsvidenskab og kulturformidling"
          ],
          [
           "Human ernæring"
          ],
          [
           "Erhvervssprog og international virksomhedskommunikation"
          ],
          [
           "Industrielt design"
          ],
          [
           "Religionsvidenskab"
          ],
          [
           "Sundhedsteknologi"
          ],
          [
           "Radiograf"
          ],
          [
           "Bioteknologi"
          ],
          [
           "Biologi-bioteknologi"
          ],
          [
           "Landskabsarkitektur"
          ],
          [
           "Corporate Communication"
          ],
          [
           "Biokemi"
          ],
          [
           "Byggeri"
          ],
          [
           "Moderne kultur og kulturformidling"
          ],
          [
           "Sygeplejerske"
          ],
          [
           "Uddannelsesvidenskab"
          ],
          [
           "Filosofi"
          ],
          [
           "Bioinformatik"
          ],
          [
           "Digital design og interaktive teknologier"
          ],
          [
           "Astronomi"
          ],
          [
           "Miljøvidenskab"
          ],
          [
           "Global udvikling"
          ],
          [
           "Samfundsvidenskabelig jura"
          ],
          [
           "Fransk sprog, litteratur og kultur"
          ],
          [
           "Tekstildesign, -håndværk og formidling"
          ],
          [
           "Erhvervsøkonomi og virksomhedskommunikation"
          ],
          [
           "Bygningsdesign"
          ],
          [
           "Fødevareteknologi"
          ],
          [
           "Audiologi"
          ],
          [
           "Cultural Sociology"
          ],
          [
           "Mechatronics Engineering"
          ],
          [
           "Medicine with Industrial Specialisation"
          ],
          [
           "Antropologi"
          ],
          [
           "Biologi"
          ],
          [
           "Anvendt kemi"
          ],
          [
           "It-ledelse"
          ],
          [
           "Molekylær ernæring og fødevareteknologi"
          ],
          [
           "Film- og medievidenskab"
          ],
          [
           "Erhvervsøkonomi og psykologi"
          ],
          [
           "It, kommunikation og organisation"
          ],
          [
           "Datalogi"
          ],
          [
           "Fysik"
          ],
          [
           "Olie- og gasteknologi"
          ],
          [
           "Kultur, kommunikation og globalisering"
          ],
          [
           "Dansk"
          ],
          [
           "Erhvervsøkonomi - erhvervssprog, negot."
          ],
          [
           "Medicin"
          ],
          [
           "Webudvikling"
          ],
          [
           "Fysik og nanoteknologi"
          ],
          [
           "Agronomi"
          ],
          [
           "Pædagogisk filosofi"
          ],
          [
           "Pædagogisk psykologi"
          ],
          [
           "Husdyrvidenskab"
          ],
          [
           "Pædagogik"
          ],
          [
           "Socialt arbejde"
          ],
          [
           "Økonomi"
          ],
          [
           "Erhvervsøkonomi og erhvervsjura"
          ],
          [
           "It-design og applikationsudvikling"
          ],
          [
           "Matematik-økonomi"
          ],
          [
           "Historie"
          ],
          [
           "Bioanalytiker"
          ],
          [
           "Design og business"
          ],
          [
           "Forvaltning"
          ],
          [
           "Kemi og bioteknologi"
          ],
          [
           "Kultur og formidling"
          ],
          [
           "Socialrådgiver"
          ],
          [
           "Tysk"
          ],
          [
           "Litteraturvidenskab"
          ],
          [
           "Erhvervsøkonomi, cand.soc."
          ],
          [
           "Teologi"
          ],
          [
           "Geologi"
          ],
          [
           "Diplomingeniør - bygningsdesign"
          ],
          [
           "Tandplejer"
          ],
          [
           "It-didaktisk design"
          ],
          [
           "Bioinformatik og systembiologi"
          ],
          [
           "Jordbrugsøkonomi"
          ],
          [
           "Fysioterapeut"
          ],
          [
           "Samfundsfag"
          ],
          [
           "Statskundskab"
          ],
          [
           "Sociologi"
          ],
          [
           "Erhvervsøkonomi, cand.merc."
          ],
          [
           "Designer"
          ],
          [
           "Dramaturgi"
          ],
          [
           "Teknologibaseret forretningsudvikling"
          ],
          [
           "Mechanical Engineering"
          ],
          [
           "Softwaredesign"
          ],
          [
           "Agro-Environmental Management"
          ],
          [
           "Transport og logistik"
          ],
          [
           "Matematik"
          ],
          [
           "Sundhedsfremme og sundhedsstrategier"
          ],
          [
           "Kriminologi"
          ],
          [
           "Socialvidenskab"
          ],
          [
           "Ernæring og sundhed"
          ],
          [
           "Kemi (civilingeniør)"
          ],
          [
           "Diplomingeniør - softwareteknologi"
          ],
          [
           "Digital innovation og management"
          ],
          [
           "Kunsthistorie"
          ],
          [
           "Digital design"
          ],
          [
           "Psykologi"
          ],
          [
           "Sundhedsfaglig kandidat"
          ],
          [
           "Psykomotorisk terapeut"
          ],
          [
           "Medievidenskab"
          ],
          [
           "Ergoterapi"
          ],
          [
           "Erhvervsøkonomi og filosofi"
          ],
          [
           "Spansk sprog og kultur"
          ],
          [
           "Mellemøststudier"
          ],
          [
           "Molekylær medicin"
          ],
          [
           "Diplomingeniør - bygning"
          ],
          [
           "Humanistisk-samfundsvidenskabelig idrætsvidenskab"
          ],
          [
           "Informationsvidenskab"
          ],
          [
           "Software"
          ],
          [
           "Folkesundhedsvidenskab"
          ],
          [
           "Diplomingeniør - elektrisk energiteknologi"
          ],
          [
           "Audiologopædi"
          ],
          [
           "Pædagogisk sociologi"
          ],
          [
           "Nanoscience"
          ],
          [
           "Klinisk sygepleje"
          ],
          [
           "Sygepleje"
          ],
          [
           "Anvendt kulturanalyse"
          ],
          [
           "Fødevarevidenskab"
          ],
          [
           "Geografi"
          ],
          [
           "Optometrist"
          ],
          [
           "Bygningskonstruktør"
          ],
          [
           "Ergoterapeut"
          ],
          [
           "Pædagog"
          ],
          [
           "Arbejdslivsstudier"
          ],
          [
           "Fysioterapi"
          ],
          [
           "Have- og parkingeniør"
          ],
          [
           "Kommunikation"
          ],
          [
           "Klinisk ernæring"
          ],
          [
           "Tourism"
          ],
          [
           "Digitale medieteknologier"
          ],
          [
           "Interaktive digitale medier"
          ],
          [
           "International sikkerhed og folkeret"
          ],
          [
           "Design og innovation"
          ],
          [
           "Politisk kommunikation og ledelse"
          ],
          [
           "Lingvistik"
          ],
          [
           "Humanfysiologi"
          ],
          [
           "Laboratorie- og fødevareteknologi"
          ],
          [
           "Medicinalkemi"
          ],
          [
           "Journalistik"
          ],
          [
           "Spil"
          ],
          [
           "Offentlig administration"
          ],
          [
           "Æstetik og kultur"
          ],
          [
           "Softwareudvikling"
          ],
          [
           "IT Product Design"
          ],
          [
           "Kemi"
          ],
          [
           "Revisorkandidat, cand.merc.aud."
          ],
          [
           "Jordemoder"
          ],
          [
           "Oplevelsesøkonomi"
          ],
          [
           "Vision, Graphics and Interactive Systems"
          ],
          [
           "Kemisk og biokemisk teknologi"
          ],
          [
           "Energy Engineering"
          ],
          [
           "Diplomingeniør - maskinteknik"
          ],
          [
           "Industriel økonomi og teknologiledelse"
          ],
          [
           "Materiale- og procesteknologi"
          ],
          [
           "Miljøteknologi"
          ],
          [
           "Byggeteknologi"
          ],
          [
           "Geofysik"
          ],
          [
           "Digital konceptudvikling"
          ],
          [
           "Statistik"
          ],
          [
           "Webkommunikation"
          ],
          [
           "Informationsteknologi"
          ],
          [
           "Farmateknologi"
          ],
          [
           "Multimediedesigner"
          ],
          [
           "International handel og markedsføring"
          ],
          [
           "Business Administration and Information Systems"
          ],
          [
           "Maskinmester"
          ],
          [
           "Politik og administration"
          ],
          [
           "Bæredygtigt design"
          ],
          [
           "Virksomhedsledelse"
          ],
          [
           "Didaktik"
          ],
          [
           "Energiteknologi"
          ],
          [
           "Elektroteknologi"
          ],
          [
           "Lærer i folkeskolen"
          ],
          [
           "Mekanik"
          ],
          [
           "Diplomingeniør - elektronik"
          ],
          [
           "Læring og forandringsprocesser"
          ],
          [
           "International Hospitality Management"
          ],
          [
           "Anvendt filosofi"
          ],
          [
           "Diplomingeniør - eksport og teknologi"
          ],
          [
           "Jordbrug"
          ],
          [
           "Financial Controller"
          ],
          [
           "Pædagogisk antropologi"
          ],
          [
           "Europastudier"
          ],
          [
           "Administrationsøkonom"
          ],
          [
           "International Public Administration and Politics"
          ],
          [
           "Matematisk modellering og computing"
          ],
          [
           "Designteknolog"
          ],
          [
           "Laborant"
          ],
          [
           "Retorik"
          ],
          [
           "IT-teknolog"
          ],
          [
           "Konstruktion og mekanik"
          ],
          [
           "Water and Environment Engineering"
          ],
          [
           "Datamatiker"
          ],
          [
           "Elinstallatør"
          ],
          [
           "Finans"
          ],
          [
           "Markedsføringsøkonom"
          ],
          [
           "Bæredygtig energi"
          ],
          [
           "Procesteknolog"
          ],
          [
           "Lyd og akustisk teknologi"
          ],
          [
           "Serviceøkonom"
          ],
          [
           "Produktudvikling og teknisk integration"
          ],
          [
           "Medieproduktion og ledelse"
          ],
          [
           "It, læring og organisatorisk omstilling"
          ],
          [
           "Miljøteknolog"
          ],
          [
           "Innovation and Business"
          ],
          [
           "Idræt"
          ],
          [
           "Grafisk kommunikation"
          ],
          [
           "Økonomi og informationsteknologi"
          ],
          [
           "Veje og trafik"
          ],
          [
           "Ledelse og informatik i byggeriet"
          ],
          [
           "Logistikøkonom"
          ],
          [
           "Diakoni og socialpædagogik"
          ],
          [
           "Finansøkonom"
          ],
          [
           "Visuel kommunikation"
          ],
          [
           "Handelsøkonom"
          ],
          [
           "Multiplatform storytelling and production"
          ],
          [
           "Jordbrugsteknolog"
          ],
          [
           "Journalist"
          ],
          [
           "Geofysik og rumteknologi"
          ],
          [
           "Automationsteknolog"
          ],
          [
           "Produktionsteknolog"
          ],
          [
           "Kommunikation"
          ],
          [
           "Landinspektørvidenskab"
          ],
          [
           "Tv- og medietilrettelæggelse"
          ],
          [
           "Energiteknolog"
          ],
          [
           "Lærer fra Den frie Lærerskole"
          ]
         ],
         "hoverlabel": {
          "namelength": 0
         },
         "hovertemplate": "ledighed=%{x}<br>kvalitet=%{y}<br>Titel=%{customdata[0]}",
         "legendgroup": "",
         "marker": {
          "color": "#636efa",
          "symbol": "circle"
         },
         "mode": "markers",
         "name": "",
         "showlegend": false,
         "type": "scatter",
         "x": [
          11,
          6,
          27,
          3,
          5,
          8,
          13,
          4,
          23,
          22,
          22,
          24,
          4,
          6,
          17,
          16,
          19,
          24,
          18,
          21,
          24,
          1,
          3,
          12,
          14,
          13,
          12,
          18,
          1,
          25,
          1,
          15,
          30,
          5,
          12,
          13,
          10,
          10,
          5,
          23,
          21,
          9,
          14,
          10,
          8,
          12,
          7,
          17,
          23,
          23,
          12,
          12,
          14,
          19,
          7,
          6,
          3,
          6,
          10,
          27,
          16,
          14,
          1,
          13,
          5,
          11,
          17,
          12,
          12,
          14,
          10,
          2,
          6,
          15,
          3,
          26,
          5,
          16,
          11,
          11,
          36,
          6,
          16,
          27,
          7,
          18,
          17,
          4,
          8,
          12,
          8,
          7,
          6,
          14,
          6,
          17,
          7,
          27,
          24,
          7,
          6,
          3,
          18,
          2,
          3,
          20,
          18,
          28,
          11,
          18,
          5,
          6,
          31,
          24,
          10,
          7,
          20,
          20,
          5,
          19,
          22,
          22,
          14,
          4,
          10,
          13,
          3,
          11,
          3,
          2,
          13,
          14,
          1,
          3,
          23,
          8,
          13,
          1,
          7,
          10,
          8,
          12,
          5,
          14,
          22,
          10,
          19,
          5,
          37,
          20,
          6,
          12,
          14,
          12,
          13,
          17,
          12,
          12,
          12,
          31,
          7,
          19,
          12,
          2,
          2,
          28,
          4,
          6,
          5,
          5,
          4,
          6,
          11,
          4,
          18,
          20,
          2,
          16,
          0,
          7,
          15,
          12,
          6,
          3,
          18,
          16,
          16,
          13,
          22,
          4,
          6,
          1,
          5,
          19,
          13,
          30,
          12,
          16,
          10,
          17,
          26,
          19,
          10,
          2,
          12,
          7,
          18,
          11,
          2,
          2,
          10,
          2,
          4,
          8,
          12,
          13,
          2,
          9,
          15,
          14,
          16,
          22,
          7,
          15,
          19,
          4,
          1,
          6,
          7,
          7,
          6,
          16,
          8,
          21,
          10,
          11,
          11,
          3,
          10,
          8,
          4,
          14,
          12,
          19
         ],
         "xaxis": "x",
         "y": [
          4.13,
          4.43,
          4.21,
          4.35,
          4.09,
          4.15,
          4.2,
          3.85,
          4.19,
          4.01,
          4.11,
          3.94,
          4.45,
          4.74,
          4.4,
          4.34,
          3.73,
          4.14,
          4.03,
          3.86,
          4.29,
          4.26,
          4.09,
          4.63,
          4.44,
          4.23,
          4.07,
          4.45,
          4.4,
          4.25,
          4,
          4.01,
          4.19,
          4.38,
          4.39,
          4.64,
          4.4,
          4.5,
          4.27,
          4.06,
          4.06,
          4.11,
          4.32,
          4.34,
          4.08,
          3.69,
          3.77,
          4.35,
          4.27,
          4.31,
          4.67,
          4.67,
          4.24,
          3.9,
          4.39,
          4.52,
          4.33,
          4.47,
          4.54,
          3.94,
          4,
          4.01,
          4.35,
          3.76,
          4.62,
          4.4,
          4.16,
          4.2,
          4.23,
          4.12,
          4.07,
          4.39,
          4.25,
          3.5,
          4.46,
          4.16,
          4.12,
          3.6,
          4.11,
          3.98,
          4.34,
          3.9,
          4.03,
          4.5,
          4.12,
          4.41,
          4.39,
          4.4,
          4.02,
          4.29,
          4.76,
          4.42,
          4.17,
          4.21,
          4.32,
          4.04,
          4.15,
          3.87,
          4.5,
          4.01,
          4.46,
          4.59,
          4.18,
          4.54,
          4.39,
          3.94,
          4.05,
          4.04,
          3.83,
          4.39,
          4.11,
          4.15,
          4.06,
          3.88,
          3.93,
          4.39,
          4.05,
          3.96,
          4.2,
          4.06,
          4.05,
          4.13,
          4.48,
          4.11,
          3.98,
          4.06,
          4.55,
          4.27,
          4.12,
          4.29,
          4.1,
          4.38,
          4.5,
          4.06,
          3.91,
          4.3,
          4.09,
          4.28,
          3.9,
          4.06,
          3.78,
          3.64,
          4.59,
          4.32,
          3.97,
          4.2,
          3.96,
          4.6,
          4.26,
          4.56,
          4.6,
          4.55,
          4.52,
          4.35,
          3.62,
          4.33,
          4.05,
          4.55,
          3.94,
          3.96,
          3.78,
          3.94,
          4.49,
          4.13,
          4.43,
          4.14,
          4.13,
          4.52,
          4.52,
          4.07,
          4.52,
          4.33,
          4.5,
          4.43,
          4,
          3.78,
          4.65,
          4.07,
          4.44,
          4.5,
          3.83,
          3.7,
          4.3,
          4.11,
          4.05,
          4.21,
          3.67,
          3.95,
          4.07,
          4.36,
          3.72,
          4.33,
          4.22,
          3.96,
          3.61,
          4.32,
          3.88,
          3.55,
          4.04,
          4.15,
          3.64,
          3.7,
          3.7,
          4.59,
          3.89,
          4.19,
          4.16,
          3.61,
          4.44,
          4.47,
          3.93,
          3.83,
          3.96,
          3.77,
          4.51,
          4.03,
          4.63,
          3.71,
          3.48,
          4.2,
          3.88,
          3.98,
          4.21,
          4.12,
          4.36,
          3.76,
          4.4,
          4.33,
          3.7,
          4.39,
          3.93,
          4.59,
          3.75,
          4.55,
          4.08,
          4.08,
          4.56,
          3.79,
          3.87,
          4.22,
          4,
          4.13,
          3.58,
          4.63
         ],
         "yaxis": "y"
        },
        {
         "alignmentgroup": "True",
         "bingroup": "x",
         "hoverlabel": {
          "namelength": 0
         },
         "hovertemplate": "ledighed=%{x}<br>count=%{y}",
         "legendgroup": "",
         "marker": {
          "color": "#636efa"
         },
         "name": "",
         "offsetgroup": "",
         "opacity": 0.5,
         "showlegend": false,
         "type": "histogram",
         "x": [
          11,
          6,
          27,
          3,
          5,
          8,
          13,
          4,
          23,
          22,
          22,
          24,
          4,
          6,
          17,
          16,
          19,
          24,
          18,
          21,
          24,
          1,
          3,
          12,
          14,
          13,
          12,
          18,
          1,
          25,
          1,
          15,
          30,
          5,
          12,
          13,
          10,
          10,
          5,
          23,
          21,
          9,
          14,
          10,
          8,
          12,
          7,
          17,
          23,
          23,
          12,
          12,
          14,
          19,
          7,
          6,
          3,
          6,
          10,
          27,
          16,
          14,
          1,
          13,
          5,
          11,
          17,
          12,
          12,
          14,
          10,
          2,
          6,
          15,
          3,
          26,
          5,
          16,
          11,
          11,
          36,
          6,
          16,
          27,
          7,
          18,
          17,
          4,
          8,
          12,
          8,
          7,
          6,
          14,
          6,
          17,
          7,
          27,
          24,
          7,
          6,
          3,
          18,
          2,
          3,
          20,
          18,
          28,
          11,
          18,
          5,
          6,
          31,
          24,
          10,
          7,
          20,
          20,
          5,
          19,
          22,
          22,
          14,
          4,
          10,
          13,
          3,
          11,
          3,
          2,
          13,
          14,
          1,
          3,
          23,
          8,
          13,
          1,
          7,
          10,
          8,
          12,
          5,
          14,
          22,
          10,
          19,
          5,
          37,
          20,
          6,
          12,
          14,
          12,
          13,
          17,
          12,
          12,
          12,
          31,
          7,
          19,
          12,
          2,
          2,
          28,
          4,
          6,
          5,
          5,
          4,
          6,
          11,
          4,
          18,
          20,
          2,
          16,
          0,
          7,
          15,
          12,
          6,
          3,
          18,
          16,
          16,
          13,
          22,
          4,
          6,
          1,
          5,
          19,
          13,
          30,
          12,
          16,
          10,
          17,
          26,
          19,
          10,
          2,
          12,
          7,
          18,
          11,
          2,
          2,
          10,
          2,
          4,
          8,
          12,
          13,
          2,
          9,
          15,
          14,
          16,
          22,
          7,
          15,
          19,
          4,
          1,
          6,
          7,
          7,
          6,
          16,
          8,
          21,
          10,
          11,
          11,
          3,
          10,
          8,
          4,
          14,
          12,
          19
         ],
         "xaxis": "x3",
         "yaxis": "y3"
        },
        {
         "alignmentgroup": "True",
         "bingroup": "y",
         "hoverlabel": {
          "namelength": 0
         },
         "hovertemplate": "kvalitet=%{y}<br>count=%{x}",
         "legendgroup": "",
         "marker": {
          "color": "#636efa"
         },
         "name": "",
         "offsetgroup": "",
         "opacity": 0.5,
         "showlegend": false,
         "type": "histogram",
         "xaxis": "x2",
         "y": [
          4.13,
          4.43,
          4.21,
          4.35,
          4.09,
          4.15,
          4.2,
          3.85,
          4.19,
          4.01,
          4.11,
          3.94,
          4.45,
          4.74,
          4.4,
          4.34,
          3.73,
          4.14,
          4.03,
          3.86,
          4.29,
          4.26,
          4.09,
          4.63,
          4.44,
          4.23,
          4.07,
          4.45,
          4.4,
          4.25,
          4,
          4.01,
          4.19,
          4.38,
          4.39,
          4.64,
          4.4,
          4.5,
          4.27,
          4.06,
          4.06,
          4.11,
          4.32,
          4.34,
          4.08,
          3.69,
          3.77,
          4.35,
          4.27,
          4.31,
          4.67,
          4.67,
          4.24,
          3.9,
          4.39,
          4.52,
          4.33,
          4.47,
          4.54,
          3.94,
          4,
          4.01,
          4.35,
          3.76,
          4.62,
          4.4,
          4.16,
          4.2,
          4.23,
          4.12,
          4.07,
          4.39,
          4.25,
          3.5,
          4.46,
          4.16,
          4.12,
          3.6,
          4.11,
          3.98,
          4.34,
          3.9,
          4.03,
          4.5,
          4.12,
          4.41,
          4.39,
          4.4,
          4.02,
          4.29,
          4.76,
          4.42,
          4.17,
          4.21,
          4.32,
          4.04,
          4.15,
          3.87,
          4.5,
          4.01,
          4.46,
          4.59,
          4.18,
          4.54,
          4.39,
          3.94,
          4.05,
          4.04,
          3.83,
          4.39,
          4.11,
          4.15,
          4.06,
          3.88,
          3.93,
          4.39,
          4.05,
          3.96,
          4.2,
          4.06,
          4.05,
          4.13,
          4.48,
          4.11,
          3.98,
          4.06,
          4.55,
          4.27,
          4.12,
          4.29,
          4.1,
          4.38,
          4.5,
          4.06,
          3.91,
          4.3,
          4.09,
          4.28,
          3.9,
          4.06,
          3.78,
          3.64,
          4.59,
          4.32,
          3.97,
          4.2,
          3.96,
          4.6,
          4.26,
          4.56,
          4.6,
          4.55,
          4.52,
          4.35,
          3.62,
          4.33,
          4.05,
          4.55,
          3.94,
          3.96,
          3.78,
          3.94,
          4.49,
          4.13,
          4.43,
          4.14,
          4.13,
          4.52,
          4.52,
          4.07,
          4.52,
          4.33,
          4.5,
          4.43,
          4,
          3.78,
          4.65,
          4.07,
          4.44,
          4.5,
          3.83,
          3.7,
          4.3,
          4.11,
          4.05,
          4.21,
          3.67,
          3.95,
          4.07,
          4.36,
          3.72,
          4.33,
          4.22,
          3.96,
          3.61,
          4.32,
          3.88,
          3.55,
          4.04,
          4.15,
          3.64,
          3.7,
          3.7,
          4.59,
          3.89,
          4.19,
          4.16,
          3.61,
          4.44,
          4.47,
          3.93,
          3.83,
          3.96,
          3.77,
          4.51,
          4.03,
          4.63,
          3.71,
          3.48,
          4.2,
          3.88,
          3.98,
          4.21,
          4.12,
          4.36,
          3.76,
          4.4,
          4.33,
          3.7,
          4.39,
          3.93,
          4.59,
          3.75,
          4.55,
          4.08,
          4.08,
          4.56,
          3.79,
          3.87,
          4.22,
          4,
          4.13,
          3.58,
          4.63
         ],
         "yaxis": "y2"
        },
        {
         "hoverlabel": {
          "namelength": 0
         },
         "hovertemplate": "<b>LOWESS trendline</b><br><br>ledighed=%{x}<br>kvalitet=%{y} <b>(trend)</b>",
         "legendgroup": "",
         "marker": {
          "color": "#636efa",
          "symbol": "circle"
         },
         "mode": "lines",
         "name": "",
         "showlegend": false,
         "type": "scatter",
         "x": [
          0,
          1,
          1,
          1,
          1,
          1,
          1,
          1,
          1,
          2,
          2,
          2,
          2,
          2,
          2,
          2,
          2,
          2,
          2,
          2,
          3,
          3,
          3,
          3,
          3,
          3,
          3,
          3,
          3,
          3,
          3,
          4,
          4,
          4,
          4,
          4,
          4,
          4,
          4,
          4,
          4,
          4,
          5,
          5,
          5,
          5,
          5,
          5,
          5,
          5,
          5,
          5,
          5,
          5,
          6,
          6,
          6,
          6,
          6,
          6,
          6,
          6,
          6,
          6,
          6,
          6,
          6,
          6,
          6,
          6,
          6,
          7,
          7,
          7,
          7,
          7,
          7,
          7,
          7,
          7,
          7,
          7,
          7,
          7,
          7,
          8,
          8,
          8,
          8,
          8,
          8,
          8,
          8,
          8,
          9,
          9,
          10,
          10,
          10,
          10,
          10,
          10,
          10,
          10,
          10,
          10,
          10,
          10,
          10,
          10,
          11,
          11,
          11,
          11,
          11,
          11,
          11,
          11,
          11,
          11,
          12,
          12,
          12,
          12,
          12,
          12,
          12,
          12,
          12,
          12,
          12,
          12,
          12,
          12,
          12,
          12,
          12,
          12,
          12,
          12,
          12,
          13,
          13,
          13,
          13,
          13,
          13,
          13,
          13,
          13,
          13,
          13,
          14,
          14,
          14,
          14,
          14,
          14,
          14,
          14,
          14,
          14,
          14,
          14,
          15,
          15,
          15,
          15,
          15,
          16,
          16,
          16,
          16,
          16,
          16,
          16,
          16,
          16,
          16,
          17,
          17,
          17,
          17,
          17,
          17,
          17,
          18,
          18,
          18,
          18,
          18,
          18,
          18,
          18,
          18,
          19,
          19,
          19,
          19,
          19,
          19,
          19,
          19,
          19,
          20,
          20,
          20,
          20,
          20,
          21,
          21,
          21,
          22,
          22,
          22,
          22,
          22,
          22,
          22,
          23,
          23,
          23,
          23,
          23,
          24,
          24,
          24,
          24,
          24,
          25,
          26,
          26,
          27,
          27,
          27,
          27,
          28,
          28,
          30,
          30,
          31,
          31,
          36,
          37
         ],
         "xaxis": "x",
         "y": [
          4.393417693647297,
          4.365900593643649,
          4.365900593643649,
          4.365900593643649,
          4.365900593643649,
          4.365900593643649,
          4.365900593643649,
          4.365900593643649,
          4.365900593643649,
          4.338401611186287,
          4.338401611186287,
          4.338401611186287,
          4.338401611186287,
          4.338401611186287,
          4.338401611186287,
          4.338401611186287,
          4.338401611186287,
          4.338401611186287,
          4.338401611186287,
          4.338401611186287,
          4.311060712289388,
          4.311060712289388,
          4.311060712289388,
          4.311060712289388,
          4.311060712289388,
          4.311060712289388,
          4.311060712289388,
          4.311060712289388,
          4.311060712289388,
          4.311060712289388,
          4.311060712289388,
          4.283841737224101,
          4.283841737224101,
          4.283841737224101,
          4.283841737224101,
          4.283841737224101,
          4.283841737224101,
          4.283841737224101,
          4.283841737224101,
          4.283841737224101,
          4.283841737224101,
          4.283841737224101,
          4.25684534854313,
          4.25684534854313,
          4.25684534854313,
          4.25684534854313,
          4.25684534854313,
          4.25684534854313,
          4.25684534854313,
          4.25684534854313,
          4.25684534854313,
          4.25684534854313,
          4.25684534854313,
          4.25684534854313,
          4.230599421485257,
          4.230599421485257,
          4.230599421485257,
          4.230599421485257,
          4.230599421485257,
          4.230599421485257,
          4.230599421485257,
          4.230599421485257,
          4.230599421485257,
          4.230599421485257,
          4.230599421485257,
          4.230599421485257,
          4.230599421485257,
          4.230599421485257,
          4.230599421485257,
          4.230599421485257,
          4.230599421485257,
          4.205795119822699,
          4.205795119822699,
          4.205795119822699,
          4.205795119822699,
          4.205795119822699,
          4.205795119822699,
          4.205795119822699,
          4.205795119822699,
          4.205795119822699,
          4.205795119822699,
          4.205795119822699,
          4.205795119822699,
          4.205795119822699,
          4.205795119822699,
          4.188519430109539,
          4.188519430109539,
          4.188519430109539,
          4.188519430109539,
          4.188519430109539,
          4.188519430109539,
          4.188519430109539,
          4.188519430109539,
          4.188519430109539,
          4.174476437226615,
          4.174476437226615,
          4.159679682546819,
          4.159679682546819,
          4.159679682546819,
          4.159679682546819,
          4.159679682546819,
          4.159679682546819,
          4.159679682546819,
          4.159679682546819,
          4.159679682546819,
          4.159679682546819,
          4.159679682546819,
          4.159679682546819,
          4.159679682546819,
          4.159679682546819,
          4.1443746837264985,
          4.1443746837264985,
          4.1443746837264985,
          4.1443746837264985,
          4.1443746837264985,
          4.1443746837264985,
          4.1443746837264985,
          4.1443746837264985,
          4.1443746837264985,
          4.1443746837264985,
          4.135496045472324,
          4.135496045472324,
          4.135496045472324,
          4.135496045472324,
          4.135496045472324,
          4.135496045472324,
          4.135496045472324,
          4.135496045472324,
          4.135496045472324,
          4.135496045472324,
          4.135496045472324,
          4.135496045472324,
          4.135496045472324,
          4.135496045472324,
          4.135496045472324,
          4.135496045472324,
          4.135496045472324,
          4.135496045472324,
          4.135496045472324,
          4.135496045472324,
          4.135496045472324,
          4.134173869512331,
          4.134173869512331,
          4.134173869512331,
          4.134173869512331,
          4.134173869512331,
          4.134173869512331,
          4.134173869512331,
          4.134173869512331,
          4.134173869512331,
          4.134173869512331,
          4.134173869512331,
          4.13116255079759,
          4.13116255079759,
          4.13116255079759,
          4.13116255079759,
          4.13116255079759,
          4.13116255079759,
          4.13116255079759,
          4.13116255079759,
          4.13116255079759,
          4.13116255079759,
          4.13116255079759,
          4.13116255079759,
          4.1240592490168675,
          4.1240592490168675,
          4.1240592490168675,
          4.1240592490168675,
          4.1240592490168675,
          4.118068887850424,
          4.118068887850424,
          4.118068887850424,
          4.118068887850424,
          4.118068887850424,
          4.118068887850424,
          4.118068887850424,
          4.118068887850424,
          4.118068887850424,
          4.118068887850424,
          4.113674401861514,
          4.113674401861514,
          4.113674401861514,
          4.113674401861514,
          4.113674401861514,
          4.113674401861514,
          4.113674401861514,
          4.110548790400917,
          4.110548790400917,
          4.110548790400917,
          4.110548790400917,
          4.110548790400917,
          4.110548790400917,
          4.110548790400917,
          4.110548790400917,
          4.110548790400917,
          4.107874232806599,
          4.107874232806599,
          4.107874232806599,
          4.107874232806599,
          4.107874232806599,
          4.107874232806599,
          4.107874232806599,
          4.107874232806599,
          4.107874232806599,
          4.106158612356702,
          4.106158612356702,
          4.106158612356702,
          4.106158612356702,
          4.106158612356702,
          4.1047222924243885,
          4.1047222924243885,
          4.1047222924243885,
          4.103168248311298,
          4.103168248311298,
          4.103168248311298,
          4.103168248311298,
          4.103168248311298,
          4.103168248311298,
          4.103168248311298,
          4.102788976286816,
          4.102788976286816,
          4.102788976286816,
          4.102788976286816,
          4.102788976286816,
          4.1045120617711754,
          4.1045120617711754,
          4.1045120617711754,
          4.1045120617711754,
          4.1045120617711754,
          4.107488784289851,
          4.110939526033611,
          4.110939526033611,
          4.114477349988618,
          4.114477349988618,
          4.114477349988618,
          4.114477349988618,
          4.117977328564506,
          4.117977328564506,
          4.124865774932632,
          4.124865774932632,
          4.128335092991941,
          4.128335092991941,
          4.147502208647623,
          4.151995325193312
         ],
         "yaxis": "y"
        }
       ],
       "layout": {
        "barmode": "overlay",
        "legend": {
         "tracegroupgap": 0
        },
        "shapes": [
         {
          "fillcolor": "LightSkyBlue",
          "layer": "below",
          "line": {
           "width": 0
          },
          "opacity": 0.5,
          "type": "rect",
          "x0": 11.115261697226948,
          "x1": 13.024082565068134,
          "xref": "x",
          "y0": 3.48,
          "y1": 4.76,
          "yref": "y"
         },
         {
          "fillcolor": "LightSkyBlue",
          "layer": "below",
          "line": {
           "width": 0
          },
          "opacity": 0.5,
          "type": "rect",
          "x0": 0,
          "x1": 37,
          "xref": "x",
          "y0": 4.135289391426523,
          "y1": 4.204956510212822,
          "yref": "y"
         }
        ],
        "template": {
         "data": {
          "bar": [
           {
            "error_x": {
             "color": "#2a3f5f"
            },
            "error_y": {
             "color": "#2a3f5f"
            },
            "marker": {
             "line": {
              "color": "#E5ECF6",
              "width": 0.5
             }
            },
            "type": "bar"
           }
          ],
          "barpolar": [
           {
            "marker": {
             "line": {
              "color": "#E5ECF6",
              "width": 0.5
             }
            },
            "type": "barpolar"
           }
          ],
          "carpet": [
           {
            "aaxis": {
             "endlinecolor": "#2a3f5f",
             "gridcolor": "white",
             "linecolor": "white",
             "minorgridcolor": "white",
             "startlinecolor": "#2a3f5f"
            },
            "baxis": {
             "endlinecolor": "#2a3f5f",
             "gridcolor": "white",
             "linecolor": "white",
             "minorgridcolor": "white",
             "startlinecolor": "#2a3f5f"
            },
            "type": "carpet"
           }
          ],
          "choropleth": [
           {
            "colorbar": {
             "outlinewidth": 0,
             "ticks": ""
            },
            "type": "choropleth"
           }
          ],
          "contour": [
           {
            "colorbar": {
             "outlinewidth": 0,
             "ticks": ""
            },
            "colorscale": [
             [
              0,
              "#0d0887"
             ],
             [
              0.1111111111111111,
              "#46039f"
             ],
             [
              0.2222222222222222,
              "#7201a8"
             ],
             [
              0.3333333333333333,
              "#9c179e"
             ],
             [
              0.4444444444444444,
              "#bd3786"
             ],
             [
              0.5555555555555556,
              "#d8576b"
             ],
             [
              0.6666666666666666,
              "#ed7953"
             ],
             [
              0.7777777777777778,
              "#fb9f3a"
             ],
             [
              0.8888888888888888,
              "#fdca26"
             ],
             [
              1,
              "#f0f921"
             ]
            ],
            "type": "contour"
           }
          ],
          "contourcarpet": [
           {
            "colorbar": {
             "outlinewidth": 0,
             "ticks": ""
            },
            "type": "contourcarpet"
           }
          ],
          "heatmap": [
           {
            "colorbar": {
             "outlinewidth": 0,
             "ticks": ""
            },
            "colorscale": [
             [
              0,
              "#0d0887"
             ],
             [
              0.1111111111111111,
              "#46039f"
             ],
             [
              0.2222222222222222,
              "#7201a8"
             ],
             [
              0.3333333333333333,
              "#9c179e"
             ],
             [
              0.4444444444444444,
              "#bd3786"
             ],
             [
              0.5555555555555556,
              "#d8576b"
             ],
             [
              0.6666666666666666,
              "#ed7953"
             ],
             [
              0.7777777777777778,
              "#fb9f3a"
             ],
             [
              0.8888888888888888,
              "#fdca26"
             ],
             [
              1,
              "#f0f921"
             ]
            ],
            "type": "heatmap"
           }
          ],
          "heatmapgl": [
           {
            "colorbar": {
             "outlinewidth": 0,
             "ticks": ""
            },
            "colorscale": [
             [
              0,
              "#0d0887"
             ],
             [
              0.1111111111111111,
              "#46039f"
             ],
             [
              0.2222222222222222,
              "#7201a8"
             ],
             [
              0.3333333333333333,
              "#9c179e"
             ],
             [
              0.4444444444444444,
              "#bd3786"
             ],
             [
              0.5555555555555556,
              "#d8576b"
             ],
             [
              0.6666666666666666,
              "#ed7953"
             ],
             [
              0.7777777777777778,
              "#fb9f3a"
             ],
             [
              0.8888888888888888,
              "#fdca26"
             ],
             [
              1,
              "#f0f921"
             ]
            ],
            "type": "heatmapgl"
           }
          ],
          "histogram": [
           {
            "marker": {
             "colorbar": {
              "outlinewidth": 0,
              "ticks": ""
             }
            },
            "type": "histogram"
           }
          ],
          "histogram2d": [
           {
            "colorbar": {
             "outlinewidth": 0,
             "ticks": ""
            },
            "colorscale": [
             [
              0,
              "#0d0887"
             ],
             [
              0.1111111111111111,
              "#46039f"
             ],
             [
              0.2222222222222222,
              "#7201a8"
             ],
             [
              0.3333333333333333,
              "#9c179e"
             ],
             [
              0.4444444444444444,
              "#bd3786"
             ],
             [
              0.5555555555555556,
              "#d8576b"
             ],
             [
              0.6666666666666666,
              "#ed7953"
             ],
             [
              0.7777777777777778,
              "#fb9f3a"
             ],
             [
              0.8888888888888888,
              "#fdca26"
             ],
             [
              1,
              "#f0f921"
             ]
            ],
            "type": "histogram2d"
           }
          ],
          "histogram2dcontour": [
           {
            "colorbar": {
             "outlinewidth": 0,
             "ticks": ""
            },
            "colorscale": [
             [
              0,
              "#0d0887"
             ],
             [
              0.1111111111111111,
              "#46039f"
             ],
             [
              0.2222222222222222,
              "#7201a8"
             ],
             [
              0.3333333333333333,
              "#9c179e"
             ],
             [
              0.4444444444444444,
              "#bd3786"
             ],
             [
              0.5555555555555556,
              "#d8576b"
             ],
             [
              0.6666666666666666,
              "#ed7953"
             ],
             [
              0.7777777777777778,
              "#fb9f3a"
             ],
             [
              0.8888888888888888,
              "#fdca26"
             ],
             [
              1,
              "#f0f921"
             ]
            ],
            "type": "histogram2dcontour"
           }
          ],
          "mesh3d": [
           {
            "colorbar": {
             "outlinewidth": 0,
             "ticks": ""
            },
            "type": "mesh3d"
           }
          ],
          "parcoords": [
           {
            "line": {
             "colorbar": {
              "outlinewidth": 0,
              "ticks": ""
             }
            },
            "type": "parcoords"
           }
          ],
          "pie": [
           {
            "automargin": true,
            "type": "pie"
           }
          ],
          "scatter": [
           {
            "marker": {
             "colorbar": {
              "outlinewidth": 0,
              "ticks": ""
             }
            },
            "type": "scatter"
           }
          ],
          "scatter3d": [
           {
            "line": {
             "colorbar": {
              "outlinewidth": 0,
              "ticks": ""
             }
            },
            "marker": {
             "colorbar": {
              "outlinewidth": 0,
              "ticks": ""
             }
            },
            "type": "scatter3d"
           }
          ],
          "scattercarpet": [
           {
            "marker": {
             "colorbar": {
              "outlinewidth": 0,
              "ticks": ""
             }
            },
            "type": "scattercarpet"
           }
          ],
          "scattergeo": [
           {
            "marker": {
             "colorbar": {
              "outlinewidth": 0,
              "ticks": ""
             }
            },
            "type": "scattergeo"
           }
          ],
          "scattergl": [
           {
            "marker": {
             "colorbar": {
              "outlinewidth": 0,
              "ticks": ""
             }
            },
            "type": "scattergl"
           }
          ],
          "scattermapbox": [
           {
            "marker": {
             "colorbar": {
              "outlinewidth": 0,
              "ticks": ""
             }
            },
            "type": "scattermapbox"
           }
          ],
          "scatterpolar": [
           {
            "marker": {
             "colorbar": {
              "outlinewidth": 0,
              "ticks": ""
             }
            },
            "type": "scatterpolar"
           }
          ],
          "scatterpolargl": [
           {
            "marker": {
             "colorbar": {
              "outlinewidth": 0,
              "ticks": ""
             }
            },
            "type": "scatterpolargl"
           }
          ],
          "scatterternary": [
           {
            "marker": {
             "colorbar": {
              "outlinewidth": 0,
              "ticks": ""
             }
            },
            "type": "scatterternary"
           }
          ],
          "surface": [
           {
            "colorbar": {
             "outlinewidth": 0,
             "ticks": ""
            },
            "colorscale": [
             [
              0,
              "#0d0887"
             ],
             [
              0.1111111111111111,
              "#46039f"
             ],
             [
              0.2222222222222222,
              "#7201a8"
             ],
             [
              0.3333333333333333,
              "#9c179e"
             ],
             [
              0.4444444444444444,
              "#bd3786"
             ],
             [
              0.5555555555555556,
              "#d8576b"
             ],
             [
              0.6666666666666666,
              "#ed7953"
             ],
             [
              0.7777777777777778,
              "#fb9f3a"
             ],
             [
              0.8888888888888888,
              "#fdca26"
             ],
             [
              1,
              "#f0f921"
             ]
            ],
            "type": "surface"
           }
          ],
          "table": [
           {
            "cells": {
             "fill": {
              "color": "#EBF0F8"
             },
             "line": {
              "color": "white"
             }
            },
            "header": {
             "fill": {
              "color": "#C8D4E3"
             },
             "line": {
              "color": "white"
             }
            },
            "type": "table"
           }
          ]
         },
         "layout": {
          "annotationdefaults": {
           "arrowcolor": "#2a3f5f",
           "arrowhead": 0,
           "arrowwidth": 1
          },
          "coloraxis": {
           "colorbar": {
            "outlinewidth": 0,
            "ticks": ""
           }
          },
          "colorscale": {
           "diverging": [
            [
             0,
             "#8e0152"
            ],
            [
             0.1,
             "#c51b7d"
            ],
            [
             0.2,
             "#de77ae"
            ],
            [
             0.3,
             "#f1b6da"
            ],
            [
             0.4,
             "#fde0ef"
            ],
            [
             0.5,
             "#f7f7f7"
            ],
            [
             0.6,
             "#e6f5d0"
            ],
            [
             0.7,
             "#b8e186"
            ],
            [
             0.8,
             "#7fbc41"
            ],
            [
             0.9,
             "#4d9221"
            ],
            [
             1,
             "#276419"
            ]
           ],
           "sequential": [
            [
             0,
             "#0d0887"
            ],
            [
             0.1111111111111111,
             "#46039f"
            ],
            [
             0.2222222222222222,
             "#7201a8"
            ],
            [
             0.3333333333333333,
             "#9c179e"
            ],
            [
             0.4444444444444444,
             "#bd3786"
            ],
            [
             0.5555555555555556,
             "#d8576b"
            ],
            [
             0.6666666666666666,
             "#ed7953"
            ],
            [
             0.7777777777777778,
             "#fb9f3a"
            ],
            [
             0.8888888888888888,
             "#fdca26"
            ],
            [
             1,
             "#f0f921"
            ]
           ],
           "sequentialminus": [
            [
             0,
             "#0d0887"
            ],
            [
             0.1111111111111111,
             "#46039f"
            ],
            [
             0.2222222222222222,
             "#7201a8"
            ],
            [
             0.3333333333333333,
             "#9c179e"
            ],
            [
             0.4444444444444444,
             "#bd3786"
            ],
            [
             0.5555555555555556,
             "#d8576b"
            ],
            [
             0.6666666666666666,
             "#ed7953"
            ],
            [
             0.7777777777777778,
             "#fb9f3a"
            ],
            [
             0.8888888888888888,
             "#fdca26"
            ],
            [
             1,
             "#f0f921"
            ]
           ]
          },
          "colorway": [
           "#636efa",
           "#EF553B",
           "#00cc96",
           "#ab63fa",
           "#FFA15A",
           "#19d3f3",
           "#FF6692",
           "#B6E880",
           "#FF97FF",
           "#FECB52"
          ],
          "font": {
           "color": "#2a3f5f"
          },
          "geo": {
           "bgcolor": "white",
           "lakecolor": "white",
           "landcolor": "#E5ECF6",
           "showlakes": true,
           "showland": true,
           "subunitcolor": "white"
          },
          "hoverlabel": {
           "align": "left"
          },
          "hovermode": "closest",
          "mapbox": {
           "style": "light"
          },
          "paper_bgcolor": "white",
          "plot_bgcolor": "#E5ECF6",
          "polar": {
           "angularaxis": {
            "gridcolor": "white",
            "linecolor": "white",
            "ticks": ""
           },
           "bgcolor": "#E5ECF6",
           "radialaxis": {
            "gridcolor": "white",
            "linecolor": "white",
            "ticks": ""
           }
          },
          "scene": {
           "xaxis": {
            "backgroundcolor": "#E5ECF6",
            "gridcolor": "white",
            "gridwidth": 2,
            "linecolor": "white",
            "showbackground": true,
            "ticks": "",
            "zerolinecolor": "white"
           },
           "yaxis": {
            "backgroundcolor": "#E5ECF6",
            "gridcolor": "white",
            "gridwidth": 2,
            "linecolor": "white",
            "showbackground": true,
            "ticks": "",
            "zerolinecolor": "white"
           },
           "zaxis": {
            "backgroundcolor": "#E5ECF6",
            "gridcolor": "white",
            "gridwidth": 2,
            "linecolor": "white",
            "showbackground": true,
            "ticks": "",
            "zerolinecolor": "white"
           }
          },
          "shapedefaults": {
           "line": {
            "color": "#2a3f5f"
           }
          },
          "ternary": {
           "aaxis": {
            "gridcolor": "white",
            "linecolor": "white",
            "ticks": ""
           },
           "baxis": {
            "gridcolor": "white",
            "linecolor": "white",
            "ticks": ""
           },
           "bgcolor": "#E5ECF6",
           "caxis": {
            "gridcolor": "white",
            "linecolor": "white",
            "ticks": ""
           }
          },
          "title": {
           "x": 0.05
          },
          "xaxis": {
           "automargin": true,
           "gridcolor": "white",
           "linecolor": "white",
           "ticks": "",
           "title": {
            "standoff": 15
           },
           "zerolinecolor": "white",
           "zerolinewidth": 2
          },
          "yaxis": {
           "automargin": true,
           "gridcolor": "white",
           "linecolor": "white",
           "ticks": "",
           "title": {
            "standoff": 15
           },
           "zerolinecolor": "white",
           "zerolinewidth": 2
          }
         }
        },
        "title": {
         "text": "ledighed vs. kvalitet"
        },
        "xaxis": {
         "anchor": "y",
         "domain": [
          0,
          0.7363
         ],
         "title": {
          "text": "ledighed"
         }
        },
        "xaxis2": {
         "anchor": "y2",
         "domain": [
          0.7413,
          1
         ],
         "matches": "x2",
         "showgrid": true,
         "showline": false,
         "showticklabels": false,
         "ticks": ""
        },
        "xaxis3": {
         "anchor": "y3",
         "domain": [
          0,
          0.7363
         ],
         "matches": "x",
         "showgrid": true,
         "showticklabels": false
        },
        "xaxis4": {
         "anchor": "y4",
         "domain": [
          0.7413,
          1
         ],
         "matches": "x2",
         "showgrid": true,
         "showline": false,
         "showticklabels": false,
         "ticks": ""
        },
        "yaxis": {
         "anchor": "x",
         "domain": [
          0,
          0.7326
         ],
         "title": {
          "text": "kvalitet"
         }
        },
        "yaxis2": {
         "anchor": "x2",
         "domain": [
          0,
          0.7326
         ],
         "matches": "y",
         "showgrid": true,
         "showticklabels": false
        },
        "yaxis3": {
         "anchor": "x3",
         "domain": [
          0.7426,
          1
         ],
         "matches": "y3",
         "showgrid": true,
         "showline": false,
         "showticklabels": false,
         "ticks": ""
        },
        "yaxis4": {
         "anchor": "x4",
         "domain": [
          0.7426,
          1
         ],
         "matches": "y3",
         "showgrid": true,
         "showline": false,
         "showticklabels": false,
         "ticks": ""
        }
       }
      },
      "text/html": [
       "<div>\n",
       "        \n",
       "        \n",
       "            <div id=\"1cc1ae8e-2f9f-4351-80c8-92f3a23e9efa\" class=\"plotly-graph-div\" style=\"height:525px; width:100%;\"></div>\n",
       "            <script type=\"text/javascript\">\n",
       "                require([\"plotly\"], function(Plotly) {\n",
       "                    window.PLOTLYENV=window.PLOTLYENV || {};\n",
       "                    \n",
       "                if (document.getElementById(\"1cc1ae8e-2f9f-4351-80c8-92f3a23e9efa\")) {\n",
       "                    Plotly.newPlot(\n",
       "                        '1cc1ae8e-2f9f-4351-80c8-92f3a23e9efa',\n",
       "                        [{\"customdata\": [[\"Arkitekt\"], [\"Veterin\\u00e6rmedicin\"], [\"Designledelse\"], [\"Odontologi\"], [\"Jura\"], [\"Farmaci\"], [\"Lyd- og musikteknologi\"], [\"Farmaceutisk videnskab\"], [\"Tv\\u00e6rkulturelle studier\"], [\"Amerikanske studier\"], [\"Engelsk\"], [\"Medialogy\"], [\"Medicin og teknologi\"], [\"Humanbiologi\"], [\"Molecular Biology\"], [\"Musikvidenskab\"], [\"Informationsvidenskab og kulturformidling\"], [\"Human ern\\u00e6ring\"], [\"Erhvervssprog og international virksomhedskommunikation\"], [\"Industrielt design\"], [\"Religionsvidenskab\"], [\"Sundhedsteknologi\"], [\"Radiograf\"], [\"Bioteknologi\"], [\"Biologi-bioteknologi\"], [\"Landskabsarkitektur\"], [\"Corporate Communication\"], [\"Biokemi\"], [\"Byggeri\"], [\"Moderne kultur og kulturformidling\"], [\"Sygeplejerske\"], [\"Uddannelsesvidenskab\"], [\"Filosofi\"], [\"Bioinformatik\"], [\"Digital design og interaktive teknologier\"], [\"Astronomi\"], [\"Milj\\u00f8videnskab\"], [\"Global udvikling\"], [\"Samfundsvidenskabelig jura\"], [\"Fransk sprog, litteratur og kultur\"], [\"Tekstildesign, -h\\u00e5ndv\\u00e6rk og formidling\"], [\"Erhvervs\\u00f8konomi og virksomhedskommunikation\"], [\"Bygningsdesign\"], [\"F\\u00f8devareteknologi\"], [\"Audiologi\"], [\"Cultural Sociology\"], [\"Mechatronics Engineering\"], [\"Medicine with Industrial Specialisation\"], [\"Antropologi\"], [\"Biologi\"], [\"Anvendt kemi\"], [\"It-ledelse\"], [\"Molekyl\\u00e6r ern\\u00e6ring og f\\u00f8devareteknologi\"], [\"Film- og medievidenskab\"], [\"Erhvervs\\u00f8konomi og psykologi\"], [\"It, kommunikation og organisation\"], [\"Datalogi\"], [\"Fysik\"], [\"Olie- og gasteknologi\"], [\"Kultur, kommunikation og globalisering\"], [\"Dansk\"], [\"Erhvervs\\u00f8konomi - erhvervssprog, negot.\"], [\"Medicin\"], [\"Webudvikling\"], [\"Fysik og nanoteknologi\"], [\"Agronomi\"], [\"P\\u00e6dagogisk filosofi\"], [\"P\\u00e6dagogisk psykologi\"], [\"Husdyrvidenskab\"], [\"P\\u00e6dagogik\"], [\"Socialt arbejde\"], [\"\\u00d8konomi\"], [\"Erhvervs\\u00f8konomi og erhvervsjura\"], [\"It-design og applikationsudvikling\"], [\"Matematik-\\u00f8konomi\"], [\"Historie\"], [\"Bioanalytiker\"], [\"Design og business\"], [\"Forvaltning\"], [\"Kemi og bioteknologi\"], [\"Kultur og formidling\"], [\"Socialr\\u00e5dgiver\"], [\"Tysk\"], [\"Litteraturvidenskab\"], [\"Erhvervs\\u00f8konomi, cand.soc.\"], [\"Teologi\"], [\"Geologi\"], [\"Diplomingeni\\u00f8r - bygningsdesign\"], [\"Tandplejer\"], [\"It-didaktisk design\"], [\"Bioinformatik og systembiologi\"], [\"Jordbrugs\\u00f8konomi\"], [\"Fysioterapeut\"], [\"Samfundsfag\"], [\"Statskundskab\"], [\"Sociologi\"], [\"Erhvervs\\u00f8konomi, cand.merc.\"], [\"Designer\"], [\"Dramaturgi\"], [\"Teknologibaseret forretningsudvikling\"], [\"Mechanical Engineering\"], [\"Softwaredesign\"], [\"Agro-Environmental Management\"], [\"Transport og logistik\"], [\"Matematik\"], [\"Sundhedsfremme og sundhedsstrategier\"], [\"Kriminologi\"], [\"Socialvidenskab\"], [\"Ern\\u00e6ring og sundhed\"], [\"Kemi (civilingeni\\u00f8r)\"], [\"Diplomingeni\\u00f8r - softwareteknologi\"], [\"Digital innovation og management\"], [\"Kunsthistorie\"], [\"Digital design\"], [\"Psykologi\"], [\"Sundhedsfaglig kandidat\"], [\"Psykomotorisk terapeut\"], [\"Medievidenskab\"], [\"Ergoterapi\"], [\"Erhvervs\\u00f8konomi og filosofi\"], [\"Spansk sprog og kultur\"], [\"Mellem\\u00f8ststudier\"], [\"Molekyl\\u00e6r medicin\"], [\"Diplomingeni\\u00f8r - bygning\"], [\"Humanistisk-samfundsvidenskabelig idr\\u00e6tsvidenskab\"], [\"Informationsvidenskab\"], [\"Software\"], [\"Folkesundhedsvidenskab\"], [\"Diplomingeni\\u00f8r - elektrisk energiteknologi\"], [\"Audiologop\\u00e6di\"], [\"P\\u00e6dagogisk sociologi\"], [\"Nanoscience\"], [\"Klinisk sygepleje\"], [\"Sygepleje\"], [\"Anvendt kulturanalyse\"], [\"F\\u00f8devarevidenskab\"], [\"Geografi\"], [\"Optometrist\"], [\"Bygningskonstrukt\\u00f8r\"], [\"Ergoterapeut\"], [\"P\\u00e6dagog\"], [\"Arbejdslivsstudier\"], [\"Fysioterapi\"], [\"Have- og parkingeni\\u00f8r\"], [\"Kommunikation\"], [\"Klinisk ern\\u00e6ring\"], [\"Tourism\"], [\"Digitale medieteknologier\"], [\"Interaktive digitale medier\"], [\"International sikkerhed og folkeret\"], [\"Design og innovation\"], [\"Politisk kommunikation og ledelse\"], [\"Lingvistik\"], [\"Humanfysiologi\"], [\"Laboratorie- og f\\u00f8devareteknologi\"], [\"Medicinalkemi\"], [\"Journalistik\"], [\"Spil\"], [\"Offentlig administration\"], [\"\\u00c6stetik og kultur\"], [\"Softwareudvikling\"], [\"IT Product Design\"], [\"Kemi\"], [\"Revisorkandidat, cand.merc.aud.\"], [\"Jordemoder\"], [\"Oplevelses\\u00f8konomi\"], [\"Vision, Graphics and Interactive Systems\"], [\"Kemisk og biokemisk teknologi\"], [\"Energy Engineering\"], [\"Diplomingeni\\u00f8r - maskinteknik\"], [\"Industriel \\u00f8konomi og teknologiledelse\"], [\"Materiale- og procesteknologi\"], [\"Milj\\u00f8teknologi\"], [\"Byggeteknologi\"], [\"Geofysik\"], [\"Digital konceptudvikling\"], [\"Statistik\"], [\"Webkommunikation\"], [\"Informationsteknologi\"], [\"Farmateknologi\"], [\"Multimediedesigner\"], [\"International handel og markedsf\\u00f8ring\"], [\"Business Administration and Information Systems\"], [\"Maskinmester\"], [\"Politik og administration\"], [\"B\\u00e6redygtigt design\"], [\"Virksomhedsledelse\"], [\"Didaktik\"], [\"Energiteknologi\"], [\"Elektroteknologi\"], [\"L\\u00e6rer i folkeskolen\"], [\"Mekanik\"], [\"Diplomingeni\\u00f8r - elektronik\"], [\"L\\u00e6ring og forandringsprocesser\"], [\"International Hospitality Management\"], [\"Anvendt filosofi\"], [\"Diplomingeni\\u00f8r - eksport og teknologi\"], [\"Jordbrug\"], [\"Financial Controller\"], [\"P\\u00e6dagogisk antropologi\"], [\"Europastudier\"], [\"Administrations\\u00f8konom\"], [\"International Public Administration and Politics\"], [\"Matematisk modellering og computing\"], [\"Designteknolog\"], [\"Laborant\"], [\"Retorik\"], [\"IT-teknolog\"], [\"Konstruktion og mekanik\"], [\"Water and Environment Engineering\"], [\"Datamatiker\"], [\"Elinstallat\\u00f8r\"], [\"Finans\"], [\"Markedsf\\u00f8rings\\u00f8konom\"], [\"B\\u00e6redygtig energi\"], [\"Procesteknolog\"], [\"Lyd og akustisk teknologi\"], [\"Service\\u00f8konom\"], [\"Produktudvikling og teknisk integration\"], [\"Medieproduktion og ledelse\"], [\"It, l\\u00e6ring og organisatorisk omstilling\"], [\"Milj\\u00f8teknolog\"], [\"Innovation and Business\"], [\"Idr\\u00e6t\"], [\"Grafisk kommunikation\"], [\"\\u00d8konomi og informationsteknologi\"], [\"Veje og trafik\"], [\"Ledelse og informatik i byggeriet\"], [\"Logistik\\u00f8konom\"], [\"Diakoni og socialp\\u00e6dagogik\"], [\"Finans\\u00f8konom\"], [\"Visuel kommunikation\"], [\"Handels\\u00f8konom\"], [\"Multiplatform storytelling and production\"], [\"Jordbrugsteknolog\"], [\"Journalist\"], [\"Geofysik og rumteknologi\"], [\"Automationsteknolog\"], [\"Produktionsteknolog\"], [\"Kommunikation\"], [\"Landinspekt\\u00f8rvidenskab\"], [\"Tv- og medietilrettel\\u00e6ggelse\"], [\"Energiteknolog\"], [\"L\\u00e6rer fra Den frie L\\u00e6rerskole\"]], \"hoverlabel\": {\"namelength\": 0}, \"hovertemplate\": \"ledighed=%{x}<br>kvalitet=%{y}<br>Titel=%{customdata[0]}\", \"legendgroup\": \"\", \"marker\": {\"color\": \"#636efa\", \"symbol\": \"circle\"}, \"mode\": \"markers\", \"name\": \"\", \"showlegend\": false, \"type\": \"scatter\", \"x\": [11.0, 6.0, 27.0, 3.0, 5.0, 8.0, 13.0, 4.0, 23.0, 22.0, 22.0, 24.0, 4.0, 6.0, 17.0, 16.0, 19.0, 24.0, 18.0, 21.0, 24.0, 1.0, 3.0, 12.0, 14.0, 13.0, 12.0, 18.0, 1.0, 25.0, 1.0, 15.0, 30.0, 5.0, 12.0, 13.0, 10.0, 10.0, 5.0, 23.0, 21.0, 9.0, 14.0, 10.0, 8.0, 12.0, 7.0, 17.0, 23.0, 23.0, 12.0, 12.0, 14.0, 19.0, 7.0, 6.0, 3.0, 6.0, 10.0, 27.0, 16.0, 14.0, 1.0, 13.0, 5.0, 11.0, 17.0, 12.0, 12.0, 14.0, 10.0, 2.0, 6.0, 15.0, 3.0, 26.0, 5.0, 16.0, 11.0, 11.0, 36.0, 6.0, 16.0, 27.0, 7.0, 18.0, 17.0, 4.0, 8.0, 12.0, 8.0, 7.0, 6.0, 14.0, 6.0, 17.0, 7.0, 27.0, 24.0, 7.0, 6.0, 3.0, 18.0, 2.0, 3.0, 20.0, 18.0, 28.0, 11.0, 18.0, 5.0, 6.0, 31.0, 24.0, 10.0, 7.0, 20.0, 20.0, 5.0, 19.0, 22.0, 22.0, 14.0, 4.0, 10.0, 13.0, 3.0, 11.0, 3.0, 2.0, 13.0, 14.0, 1.0, 3.0, 23.0, 8.0, 13.0, 1.0, 7.0, 10.0, 8.0, 12.0, 5.0, 14.0, 22.0, 10.0, 19.0, 5.0, 37.0, 20.0, 6.0, 12.0, 14.0, 12.0, 13.0, 17.0, 12.0, 12.0, 12.0, 31.0, 7.0, 19.0, 12.0, 2.0, 2.0, 28.0, 4.0, 6.0, 5.0, 5.0, 4.0, 6.0, 11.0, 4.0, 18.0, 20.0, 2.0, 16.0, 0.0, 7.0, 15.0, 12.0, 6.0, 3.0, 18.0, 16.0, 16.0, 13.0, 22.0, 4.0, 6.0, 1.0, 5.0, 19.0, 13.0, 30.0, 12.0, 16.0, 10.0, 17.0, 26.0, 19.0, 10.0, 2.0, 12.0, 7.0, 18.0, 11.0, 2.0, 2.0, 10.0, 2.0, 4.0, 8.0, 12.0, 13.0, 2.0, 9.0, 15.0, 14.0, 16.0, 22.0, 7.0, 15.0, 19.0, 4.0, 1.0, 6.0, 7.0, 7.0, 6.0, 16.0, 8.0, 21.0, 10.0, 11.0, 11.0, 3.0, 10.0, 8.0, 4.0, 14.0, 12.0, 19.0], \"xaxis\": \"x\", \"y\": [4.13, 4.43, 4.21, 4.35, 4.09, 4.15, 4.2, 3.85, 4.19, 4.01, 4.11, 3.94, 4.45, 4.74, 4.4, 4.34, 3.73, 4.14, 4.03, 3.86, 4.29, 4.26, 4.09, 4.63, 4.44, 4.23, 4.07, 4.45, 4.4, 4.25, 4.0, 4.01, 4.19, 4.38, 4.39, 4.64, 4.4, 4.5, 4.27, 4.06, 4.06, 4.11, 4.32, 4.34, 4.08, 3.69, 3.77, 4.35, 4.27, 4.31, 4.67, 4.67, 4.24, 3.9, 4.39, 4.52, 4.33, 4.47, 4.54, 3.94, 4.0, 4.01, 4.35, 3.76, 4.62, 4.4, 4.16, 4.2, 4.23, 4.12, 4.07, 4.39, 4.25, 3.5, 4.46, 4.16, 4.12, 3.6, 4.11, 3.98, 4.34, 3.9, 4.03, 4.5, 4.12, 4.41, 4.39, 4.4, 4.02, 4.29, 4.76, 4.42, 4.17, 4.21, 4.32, 4.04, 4.15, 3.87, 4.5, 4.01, 4.46, 4.59, 4.18, 4.54, 4.39, 3.94, 4.05, 4.04, 3.83, 4.39, 4.11, 4.15, 4.06, 3.88, 3.93, 4.39, 4.05, 3.96, 4.2, 4.06, 4.05, 4.13, 4.48, 4.11, 3.98, 4.06, 4.55, 4.27, 4.12, 4.29, 4.1, 4.38, 4.5, 4.06, 3.91, 4.3, 4.09, 4.28, 3.9, 4.06, 3.78, 3.64, 4.59, 4.32, 3.97, 4.2, 3.96, 4.6, 4.26, 4.56, 4.6, 4.55, 4.52, 4.35, 3.62, 4.33, 4.05, 4.55, 3.94, 3.96, 3.78, 3.94, 4.49, 4.13, 4.43, 4.14, 4.13, 4.52, 4.52, 4.07, 4.52, 4.33, 4.5, 4.43, 4.0, 3.78, 4.65, 4.07, 4.44, 4.5, 3.83, 3.7, 4.3, 4.11, 4.05, 4.21, 3.67, 3.95, 4.07, 4.36, 3.72, 4.33, 4.22, 3.96, 3.61, 4.32, 3.88, 3.55, 4.04, 4.15, 3.64, 3.7, 3.7, 4.59, 3.89, 4.19, 4.16, 3.61, 4.44, 4.47, 3.93, 3.83, 3.96, 3.77, 4.51, 4.03, 4.63, 3.71, 3.48, 4.2, 3.88, 3.98, 4.21, 4.12, 4.36, 3.76, 4.4, 4.33, 3.7, 4.39, 3.93, 4.59, 3.75, 4.55, 4.08, 4.08, 4.56, 3.79, 3.87, 4.22, 4.0, 4.13, 3.58, 4.63], \"yaxis\": \"y\"}, {\"alignmentgroup\": \"True\", \"bingroup\": \"x\", \"hoverlabel\": {\"namelength\": 0}, \"hovertemplate\": \"ledighed=%{x}<br>count=%{y}\", \"legendgroup\": \"\", \"marker\": {\"color\": \"#636efa\"}, \"name\": \"\", \"offsetgroup\": \"\", \"opacity\": 0.5, \"showlegend\": false, \"type\": \"histogram\", \"x\": [11.0, 6.0, 27.0, 3.0, 5.0, 8.0, 13.0, 4.0, 23.0, 22.0, 22.0, 24.0, 4.0, 6.0, 17.0, 16.0, 19.0, 24.0, 18.0, 21.0, 24.0, 1.0, 3.0, 12.0, 14.0, 13.0, 12.0, 18.0, 1.0, 25.0, 1.0, 15.0, 30.0, 5.0, 12.0, 13.0, 10.0, 10.0, 5.0, 23.0, 21.0, 9.0, 14.0, 10.0, 8.0, 12.0, 7.0, 17.0, 23.0, 23.0, 12.0, 12.0, 14.0, 19.0, 7.0, 6.0, 3.0, 6.0, 10.0, 27.0, 16.0, 14.0, 1.0, 13.0, 5.0, 11.0, 17.0, 12.0, 12.0, 14.0, 10.0, 2.0, 6.0, 15.0, 3.0, 26.0, 5.0, 16.0, 11.0, 11.0, 36.0, 6.0, 16.0, 27.0, 7.0, 18.0, 17.0, 4.0, 8.0, 12.0, 8.0, 7.0, 6.0, 14.0, 6.0, 17.0, 7.0, 27.0, 24.0, 7.0, 6.0, 3.0, 18.0, 2.0, 3.0, 20.0, 18.0, 28.0, 11.0, 18.0, 5.0, 6.0, 31.0, 24.0, 10.0, 7.0, 20.0, 20.0, 5.0, 19.0, 22.0, 22.0, 14.0, 4.0, 10.0, 13.0, 3.0, 11.0, 3.0, 2.0, 13.0, 14.0, 1.0, 3.0, 23.0, 8.0, 13.0, 1.0, 7.0, 10.0, 8.0, 12.0, 5.0, 14.0, 22.0, 10.0, 19.0, 5.0, 37.0, 20.0, 6.0, 12.0, 14.0, 12.0, 13.0, 17.0, 12.0, 12.0, 12.0, 31.0, 7.0, 19.0, 12.0, 2.0, 2.0, 28.0, 4.0, 6.0, 5.0, 5.0, 4.0, 6.0, 11.0, 4.0, 18.0, 20.0, 2.0, 16.0, 0.0, 7.0, 15.0, 12.0, 6.0, 3.0, 18.0, 16.0, 16.0, 13.0, 22.0, 4.0, 6.0, 1.0, 5.0, 19.0, 13.0, 30.0, 12.0, 16.0, 10.0, 17.0, 26.0, 19.0, 10.0, 2.0, 12.0, 7.0, 18.0, 11.0, 2.0, 2.0, 10.0, 2.0, 4.0, 8.0, 12.0, 13.0, 2.0, 9.0, 15.0, 14.0, 16.0, 22.0, 7.0, 15.0, 19.0, 4.0, 1.0, 6.0, 7.0, 7.0, 6.0, 16.0, 8.0, 21.0, 10.0, 11.0, 11.0, 3.0, 10.0, 8.0, 4.0, 14.0, 12.0, 19.0], \"xaxis\": \"x3\", \"yaxis\": \"y3\"}, {\"alignmentgroup\": \"True\", \"bingroup\": \"y\", \"hoverlabel\": {\"namelength\": 0}, \"hovertemplate\": \"kvalitet=%{y}<br>count=%{x}\", \"legendgroup\": \"\", \"marker\": {\"color\": \"#636efa\"}, \"name\": \"\", \"offsetgroup\": \"\", \"opacity\": 0.5, \"showlegend\": false, \"type\": \"histogram\", \"xaxis\": \"x2\", \"y\": [4.13, 4.43, 4.21, 4.35, 4.09, 4.15, 4.2, 3.85, 4.19, 4.01, 4.11, 3.94, 4.45, 4.74, 4.4, 4.34, 3.73, 4.14, 4.03, 3.86, 4.29, 4.26, 4.09, 4.63, 4.44, 4.23, 4.07, 4.45, 4.4, 4.25, 4.0, 4.01, 4.19, 4.38, 4.39, 4.64, 4.4, 4.5, 4.27, 4.06, 4.06, 4.11, 4.32, 4.34, 4.08, 3.69, 3.77, 4.35, 4.27, 4.31, 4.67, 4.67, 4.24, 3.9, 4.39, 4.52, 4.33, 4.47, 4.54, 3.94, 4.0, 4.01, 4.35, 3.76, 4.62, 4.4, 4.16, 4.2, 4.23, 4.12, 4.07, 4.39, 4.25, 3.5, 4.46, 4.16, 4.12, 3.6, 4.11, 3.98, 4.34, 3.9, 4.03, 4.5, 4.12, 4.41, 4.39, 4.4, 4.02, 4.29, 4.76, 4.42, 4.17, 4.21, 4.32, 4.04, 4.15, 3.87, 4.5, 4.01, 4.46, 4.59, 4.18, 4.54, 4.39, 3.94, 4.05, 4.04, 3.83, 4.39, 4.11, 4.15, 4.06, 3.88, 3.93, 4.39, 4.05, 3.96, 4.2, 4.06, 4.05, 4.13, 4.48, 4.11, 3.98, 4.06, 4.55, 4.27, 4.12, 4.29, 4.1, 4.38, 4.5, 4.06, 3.91, 4.3, 4.09, 4.28, 3.9, 4.06, 3.78, 3.64, 4.59, 4.32, 3.97, 4.2, 3.96, 4.6, 4.26, 4.56, 4.6, 4.55, 4.52, 4.35, 3.62, 4.33, 4.05, 4.55, 3.94, 3.96, 3.78, 3.94, 4.49, 4.13, 4.43, 4.14, 4.13, 4.52, 4.52, 4.07, 4.52, 4.33, 4.5, 4.43, 4.0, 3.78, 4.65, 4.07, 4.44, 4.5, 3.83, 3.7, 4.3, 4.11, 4.05, 4.21, 3.67, 3.95, 4.07, 4.36, 3.72, 4.33, 4.22, 3.96, 3.61, 4.32, 3.88, 3.55, 4.04, 4.15, 3.64, 3.7, 3.7, 4.59, 3.89, 4.19, 4.16, 3.61, 4.44, 4.47, 3.93, 3.83, 3.96, 3.77, 4.51, 4.03, 4.63, 3.71, 3.48, 4.2, 3.88, 3.98, 4.21, 4.12, 4.36, 3.76, 4.4, 4.33, 3.7, 4.39, 3.93, 4.59, 3.75, 4.55, 4.08, 4.08, 4.56, 3.79, 3.87, 4.22, 4.0, 4.13, 3.58, 4.63], \"yaxis\": \"y2\"}, {\"hoverlabel\": {\"namelength\": 0}, \"hovertemplate\": \"<b>LOWESS trendline</b><br><br>ledighed=%{x}<br>kvalitet=%{y} <b>(trend)</b>\", \"legendgroup\": \"\", \"marker\": {\"color\": \"#636efa\", \"symbol\": \"circle\"}, \"mode\": \"lines\", \"name\": \"\", \"showlegend\": false, \"type\": \"scatter\", \"x\": [0.0, 1.0, 1.0, 1.0, 1.0, 1.0, 1.0, 1.0, 1.0, 2.0, 2.0, 2.0, 2.0, 2.0, 2.0, 2.0, 2.0, 2.0, 2.0, 2.0, 3.0, 3.0, 3.0, 3.0, 3.0, 3.0, 3.0, 3.0, 3.0, 3.0, 3.0, 4.0, 4.0, 4.0, 4.0, 4.0, 4.0, 4.0, 4.0, 4.0, 4.0, 4.0, 5.0, 5.0, 5.0, 5.0, 5.0, 5.0, 5.0, 5.0, 5.0, 5.0, 5.0, 5.0, 6.0, 6.0, 6.0, 6.0, 6.0, 6.0, 6.0, 6.0, 6.0, 6.0, 6.0, 6.0, 6.0, 6.0, 6.0, 6.0, 6.0, 7.0, 7.0, 7.0, 7.0, 7.0, 7.0, 7.0, 7.0, 7.0, 7.0, 7.0, 7.0, 7.0, 7.0, 8.0, 8.0, 8.0, 8.0, 8.0, 8.0, 8.0, 8.0, 8.0, 9.0, 9.0, 10.0, 10.0, 10.0, 10.0, 10.0, 10.0, 10.0, 10.0, 10.0, 10.0, 10.0, 10.0, 10.0, 10.0, 11.0, 11.0, 11.0, 11.0, 11.0, 11.0, 11.0, 11.0, 11.0, 11.0, 12.0, 12.0, 12.0, 12.0, 12.0, 12.0, 12.0, 12.0, 12.0, 12.0, 12.0, 12.0, 12.0, 12.0, 12.0, 12.0, 12.0, 12.0, 12.0, 12.0, 12.0, 13.0, 13.0, 13.0, 13.0, 13.0, 13.0, 13.0, 13.0, 13.0, 13.0, 13.0, 14.0, 14.0, 14.0, 14.0, 14.0, 14.0, 14.0, 14.0, 14.0, 14.0, 14.0, 14.0, 15.0, 15.0, 15.0, 15.0, 15.0, 16.0, 16.0, 16.0, 16.0, 16.0, 16.0, 16.0, 16.0, 16.0, 16.0, 17.0, 17.0, 17.0, 17.0, 17.0, 17.0, 17.0, 18.0, 18.0, 18.0, 18.0, 18.0, 18.0, 18.0, 18.0, 18.0, 19.0, 19.0, 19.0, 19.0, 19.0, 19.0, 19.0, 19.0, 19.0, 20.0, 20.0, 20.0, 20.0, 20.0, 21.0, 21.0, 21.0, 22.0, 22.0, 22.0, 22.0, 22.0, 22.0, 22.0, 23.0, 23.0, 23.0, 23.0, 23.0, 24.0, 24.0, 24.0, 24.0, 24.0, 25.0, 26.0, 26.0, 27.0, 27.0, 27.0, 27.0, 28.0, 28.0, 30.0, 30.0, 31.0, 31.0, 36.0, 37.0], \"xaxis\": \"x\", \"y\": [4.393417693647297, 4.365900593643649, 4.365900593643649, 4.365900593643649, 4.365900593643649, 4.365900593643649, 4.365900593643649, 4.365900593643649, 4.365900593643649, 4.338401611186287, 4.338401611186287, 4.338401611186287, 4.338401611186287, 4.338401611186287, 4.338401611186287, 4.338401611186287, 4.338401611186287, 4.338401611186287, 4.338401611186287, 4.338401611186287, 4.311060712289388, 4.311060712289388, 4.311060712289388, 4.311060712289388, 4.311060712289388, 4.311060712289388, 4.311060712289388, 4.311060712289388, 4.311060712289388, 4.311060712289388, 4.311060712289388, 4.283841737224101, 4.283841737224101, 4.283841737224101, 4.283841737224101, 4.283841737224101, 4.283841737224101, 4.283841737224101, 4.283841737224101, 4.283841737224101, 4.283841737224101, 4.283841737224101, 4.25684534854313, 4.25684534854313, 4.25684534854313, 4.25684534854313, 4.25684534854313, 4.25684534854313, 4.25684534854313, 4.25684534854313, 4.25684534854313, 4.25684534854313, 4.25684534854313, 4.25684534854313, 4.230599421485257, 4.230599421485257, 4.230599421485257, 4.230599421485257, 4.230599421485257, 4.230599421485257, 4.230599421485257, 4.230599421485257, 4.230599421485257, 4.230599421485257, 4.230599421485257, 4.230599421485257, 4.230599421485257, 4.230599421485257, 4.230599421485257, 4.230599421485257, 4.230599421485257, 4.205795119822699, 4.205795119822699, 4.205795119822699, 4.205795119822699, 4.205795119822699, 4.205795119822699, 4.205795119822699, 4.205795119822699, 4.205795119822699, 4.205795119822699, 4.205795119822699, 4.205795119822699, 4.205795119822699, 4.205795119822699, 4.188519430109539, 4.188519430109539, 4.188519430109539, 4.188519430109539, 4.188519430109539, 4.188519430109539, 4.188519430109539, 4.188519430109539, 4.188519430109539, 4.174476437226615, 4.174476437226615, 4.159679682546819, 4.159679682546819, 4.159679682546819, 4.159679682546819, 4.159679682546819, 4.159679682546819, 4.159679682546819, 4.159679682546819, 4.159679682546819, 4.159679682546819, 4.159679682546819, 4.159679682546819, 4.159679682546819, 4.159679682546819, 4.1443746837264985, 4.1443746837264985, 4.1443746837264985, 4.1443746837264985, 4.1443746837264985, 4.1443746837264985, 4.1443746837264985, 4.1443746837264985, 4.1443746837264985, 4.1443746837264985, 4.135496045472324, 4.135496045472324, 4.135496045472324, 4.135496045472324, 4.135496045472324, 4.135496045472324, 4.135496045472324, 4.135496045472324, 4.135496045472324, 4.135496045472324, 4.135496045472324, 4.135496045472324, 4.135496045472324, 4.135496045472324, 4.135496045472324, 4.135496045472324, 4.135496045472324, 4.135496045472324, 4.135496045472324, 4.135496045472324, 4.135496045472324, 4.134173869512331, 4.134173869512331, 4.134173869512331, 4.134173869512331, 4.134173869512331, 4.134173869512331, 4.134173869512331, 4.134173869512331, 4.134173869512331, 4.134173869512331, 4.134173869512331, 4.13116255079759, 4.13116255079759, 4.13116255079759, 4.13116255079759, 4.13116255079759, 4.13116255079759, 4.13116255079759, 4.13116255079759, 4.13116255079759, 4.13116255079759, 4.13116255079759, 4.13116255079759, 4.1240592490168675, 4.1240592490168675, 4.1240592490168675, 4.1240592490168675, 4.1240592490168675, 4.118068887850424, 4.118068887850424, 4.118068887850424, 4.118068887850424, 4.118068887850424, 4.118068887850424, 4.118068887850424, 4.118068887850424, 4.118068887850424, 4.118068887850424, 4.113674401861514, 4.113674401861514, 4.113674401861514, 4.113674401861514, 4.113674401861514, 4.113674401861514, 4.113674401861514, 4.110548790400917, 4.110548790400917, 4.110548790400917, 4.110548790400917, 4.110548790400917, 4.110548790400917, 4.110548790400917, 4.110548790400917, 4.110548790400917, 4.107874232806599, 4.107874232806599, 4.107874232806599, 4.107874232806599, 4.107874232806599, 4.107874232806599, 4.107874232806599, 4.107874232806599, 4.107874232806599, 4.106158612356702, 4.106158612356702, 4.106158612356702, 4.106158612356702, 4.106158612356702, 4.1047222924243885, 4.1047222924243885, 4.1047222924243885, 4.103168248311298, 4.103168248311298, 4.103168248311298, 4.103168248311298, 4.103168248311298, 4.103168248311298, 4.103168248311298, 4.102788976286816, 4.102788976286816, 4.102788976286816, 4.102788976286816, 4.102788976286816, 4.1045120617711754, 4.1045120617711754, 4.1045120617711754, 4.1045120617711754, 4.1045120617711754, 4.107488784289851, 4.110939526033611, 4.110939526033611, 4.114477349988618, 4.114477349988618, 4.114477349988618, 4.114477349988618, 4.117977328564506, 4.117977328564506, 4.124865774932632, 4.124865774932632, 4.128335092991941, 4.128335092991941, 4.147502208647623, 4.151995325193312], \"yaxis\": \"y\"}],\n",
       "                        {\"barmode\": \"overlay\", \"legend\": {\"tracegroupgap\": 0}, \"shapes\": [{\"fillcolor\": \"LightSkyBlue\", \"layer\": \"below\", \"line\": {\"width\": 0}, \"opacity\": 0.5, \"type\": \"rect\", \"x0\": 11.115261697226948, \"x1\": 13.024082565068134, \"xref\": \"x\", \"y0\": 3.48, \"y1\": 4.76, \"yref\": \"y\"}, {\"fillcolor\": \"LightSkyBlue\", \"layer\": \"below\", \"line\": {\"width\": 0}, \"opacity\": 0.5, \"type\": \"rect\", \"x0\": 0.0, \"x1\": 37.0, \"xref\": \"x\", \"y0\": 4.135289391426523, \"y1\": 4.204956510212822, \"yref\": \"y\"}], \"template\": {\"data\": {\"bar\": [{\"error_x\": {\"color\": \"#2a3f5f\"}, \"error_y\": {\"color\": \"#2a3f5f\"}, \"marker\": {\"line\": {\"color\": \"#E5ECF6\", \"width\": 0.5}}, \"type\": \"bar\"}], \"barpolar\": [{\"marker\": {\"line\": {\"color\": \"#E5ECF6\", \"width\": 0.5}}, \"type\": \"barpolar\"}], \"carpet\": [{\"aaxis\": {\"endlinecolor\": \"#2a3f5f\", \"gridcolor\": \"white\", \"linecolor\": \"white\", \"minorgridcolor\": \"white\", \"startlinecolor\": \"#2a3f5f\"}, \"baxis\": {\"endlinecolor\": \"#2a3f5f\", \"gridcolor\": \"white\", \"linecolor\": \"white\", \"minorgridcolor\": \"white\", \"startlinecolor\": \"#2a3f5f\"}, \"type\": \"carpet\"}], \"choropleth\": [{\"colorbar\": {\"outlinewidth\": 0, \"ticks\": \"\"}, \"type\": \"choropleth\"}], \"contour\": [{\"colorbar\": {\"outlinewidth\": 0, \"ticks\": \"\"}, \"colorscale\": [[0.0, \"#0d0887\"], [0.1111111111111111, \"#46039f\"], [0.2222222222222222, \"#7201a8\"], [0.3333333333333333, \"#9c179e\"], [0.4444444444444444, \"#bd3786\"], [0.5555555555555556, \"#d8576b\"], [0.6666666666666666, \"#ed7953\"], [0.7777777777777778, \"#fb9f3a\"], [0.8888888888888888, \"#fdca26\"], [1.0, \"#f0f921\"]], \"type\": \"contour\"}], \"contourcarpet\": [{\"colorbar\": {\"outlinewidth\": 0, \"ticks\": \"\"}, \"type\": \"contourcarpet\"}], \"heatmap\": [{\"colorbar\": {\"outlinewidth\": 0, \"ticks\": \"\"}, \"colorscale\": [[0.0, \"#0d0887\"], [0.1111111111111111, \"#46039f\"], [0.2222222222222222, \"#7201a8\"], [0.3333333333333333, \"#9c179e\"], [0.4444444444444444, \"#bd3786\"], [0.5555555555555556, \"#d8576b\"], [0.6666666666666666, \"#ed7953\"], [0.7777777777777778, \"#fb9f3a\"], [0.8888888888888888, \"#fdca26\"], [1.0, \"#f0f921\"]], \"type\": \"heatmap\"}], \"heatmapgl\": [{\"colorbar\": {\"outlinewidth\": 0, \"ticks\": \"\"}, \"colorscale\": [[0.0, \"#0d0887\"], [0.1111111111111111, \"#46039f\"], [0.2222222222222222, \"#7201a8\"], [0.3333333333333333, \"#9c179e\"], [0.4444444444444444, \"#bd3786\"], [0.5555555555555556, \"#d8576b\"], [0.6666666666666666, \"#ed7953\"], [0.7777777777777778, \"#fb9f3a\"], [0.8888888888888888, \"#fdca26\"], [1.0, \"#f0f921\"]], \"type\": \"heatmapgl\"}], \"histogram\": [{\"marker\": {\"colorbar\": {\"outlinewidth\": 0, \"ticks\": \"\"}}, \"type\": \"histogram\"}], \"histogram2d\": [{\"colorbar\": {\"outlinewidth\": 0, \"ticks\": \"\"}, \"colorscale\": [[0.0, \"#0d0887\"], [0.1111111111111111, \"#46039f\"], [0.2222222222222222, \"#7201a8\"], [0.3333333333333333, \"#9c179e\"], [0.4444444444444444, \"#bd3786\"], [0.5555555555555556, \"#d8576b\"], [0.6666666666666666, \"#ed7953\"], [0.7777777777777778, \"#fb9f3a\"], [0.8888888888888888, \"#fdca26\"], [1.0, \"#f0f921\"]], \"type\": \"histogram2d\"}], \"histogram2dcontour\": [{\"colorbar\": {\"outlinewidth\": 0, \"ticks\": \"\"}, \"colorscale\": [[0.0, \"#0d0887\"], [0.1111111111111111, \"#46039f\"], [0.2222222222222222, \"#7201a8\"], [0.3333333333333333, \"#9c179e\"], [0.4444444444444444, \"#bd3786\"], [0.5555555555555556, \"#d8576b\"], [0.6666666666666666, \"#ed7953\"], [0.7777777777777778, \"#fb9f3a\"], [0.8888888888888888, \"#fdca26\"], [1.0, \"#f0f921\"]], \"type\": \"histogram2dcontour\"}], \"mesh3d\": [{\"colorbar\": {\"outlinewidth\": 0, \"ticks\": \"\"}, \"type\": \"mesh3d\"}], \"parcoords\": [{\"line\": {\"colorbar\": {\"outlinewidth\": 0, \"ticks\": \"\"}}, \"type\": \"parcoords\"}], \"pie\": [{\"automargin\": true, \"type\": \"pie\"}], \"scatter\": [{\"marker\": {\"colorbar\": {\"outlinewidth\": 0, \"ticks\": \"\"}}, \"type\": \"scatter\"}], \"scatter3d\": [{\"line\": {\"colorbar\": {\"outlinewidth\": 0, \"ticks\": \"\"}}, \"marker\": {\"colorbar\": {\"outlinewidth\": 0, \"ticks\": \"\"}}, \"type\": \"scatter3d\"}], \"scattercarpet\": [{\"marker\": {\"colorbar\": {\"outlinewidth\": 0, \"ticks\": \"\"}}, \"type\": \"scattercarpet\"}], \"scattergeo\": [{\"marker\": {\"colorbar\": {\"outlinewidth\": 0, \"ticks\": \"\"}}, \"type\": \"scattergeo\"}], \"scattergl\": [{\"marker\": {\"colorbar\": {\"outlinewidth\": 0, \"ticks\": \"\"}}, \"type\": \"scattergl\"}], \"scattermapbox\": [{\"marker\": {\"colorbar\": {\"outlinewidth\": 0, \"ticks\": \"\"}}, \"type\": \"scattermapbox\"}], \"scatterpolar\": [{\"marker\": {\"colorbar\": {\"outlinewidth\": 0, \"ticks\": \"\"}}, \"type\": \"scatterpolar\"}], \"scatterpolargl\": [{\"marker\": {\"colorbar\": {\"outlinewidth\": 0, \"ticks\": \"\"}}, \"type\": \"scatterpolargl\"}], \"scatterternary\": [{\"marker\": {\"colorbar\": {\"outlinewidth\": 0, \"ticks\": \"\"}}, \"type\": \"scatterternary\"}], \"surface\": [{\"colorbar\": {\"outlinewidth\": 0, \"ticks\": \"\"}, \"colorscale\": [[0.0, \"#0d0887\"], [0.1111111111111111, \"#46039f\"], [0.2222222222222222, \"#7201a8\"], [0.3333333333333333, \"#9c179e\"], [0.4444444444444444, \"#bd3786\"], [0.5555555555555556, \"#d8576b\"], [0.6666666666666666, \"#ed7953\"], [0.7777777777777778, \"#fb9f3a\"], [0.8888888888888888, \"#fdca26\"], [1.0, \"#f0f921\"]], \"type\": \"surface\"}], \"table\": [{\"cells\": {\"fill\": {\"color\": \"#EBF0F8\"}, \"line\": {\"color\": \"white\"}}, \"header\": {\"fill\": {\"color\": \"#C8D4E3\"}, \"line\": {\"color\": \"white\"}}, \"type\": \"table\"}]}, \"layout\": {\"annotationdefaults\": {\"arrowcolor\": \"#2a3f5f\", \"arrowhead\": 0, \"arrowwidth\": 1}, \"coloraxis\": {\"colorbar\": {\"outlinewidth\": 0, \"ticks\": \"\"}}, \"colorscale\": {\"diverging\": [[0, \"#8e0152\"], [0.1, \"#c51b7d\"], [0.2, \"#de77ae\"], [0.3, \"#f1b6da\"], [0.4, \"#fde0ef\"], [0.5, \"#f7f7f7\"], [0.6, \"#e6f5d0\"], [0.7, \"#b8e186\"], [0.8, \"#7fbc41\"], [0.9, \"#4d9221\"], [1, \"#276419\"]], \"sequential\": [[0.0, \"#0d0887\"], [0.1111111111111111, \"#46039f\"], [0.2222222222222222, \"#7201a8\"], [0.3333333333333333, \"#9c179e\"], [0.4444444444444444, \"#bd3786\"], [0.5555555555555556, \"#d8576b\"], [0.6666666666666666, \"#ed7953\"], [0.7777777777777778, \"#fb9f3a\"], [0.8888888888888888, \"#fdca26\"], [1.0, \"#f0f921\"]], \"sequentialminus\": [[0.0, \"#0d0887\"], [0.1111111111111111, \"#46039f\"], [0.2222222222222222, \"#7201a8\"], [0.3333333333333333, \"#9c179e\"], [0.4444444444444444, \"#bd3786\"], [0.5555555555555556, \"#d8576b\"], [0.6666666666666666, \"#ed7953\"], [0.7777777777777778, \"#fb9f3a\"], [0.8888888888888888, \"#fdca26\"], [1.0, \"#f0f921\"]]}, \"colorway\": [\"#636efa\", \"#EF553B\", \"#00cc96\", \"#ab63fa\", \"#FFA15A\", \"#19d3f3\", \"#FF6692\", \"#B6E880\", \"#FF97FF\", \"#FECB52\"], \"font\": {\"color\": \"#2a3f5f\"}, \"geo\": {\"bgcolor\": \"white\", \"lakecolor\": \"white\", \"landcolor\": \"#E5ECF6\", \"showlakes\": true, \"showland\": true, \"subunitcolor\": \"white\"}, \"hoverlabel\": {\"align\": \"left\"}, \"hovermode\": \"closest\", \"mapbox\": {\"style\": \"light\"}, \"paper_bgcolor\": \"white\", \"plot_bgcolor\": \"#E5ECF6\", \"polar\": {\"angularaxis\": {\"gridcolor\": \"white\", \"linecolor\": \"white\", \"ticks\": \"\"}, \"bgcolor\": \"#E5ECF6\", \"radialaxis\": {\"gridcolor\": \"white\", \"linecolor\": \"white\", \"ticks\": \"\"}}, \"scene\": {\"xaxis\": {\"backgroundcolor\": \"#E5ECF6\", \"gridcolor\": \"white\", \"gridwidth\": 2, \"linecolor\": \"white\", \"showbackground\": true, \"ticks\": \"\", \"zerolinecolor\": \"white\"}, \"yaxis\": {\"backgroundcolor\": \"#E5ECF6\", \"gridcolor\": \"white\", \"gridwidth\": 2, \"linecolor\": \"white\", \"showbackground\": true, \"ticks\": \"\", \"zerolinecolor\": \"white\"}, \"zaxis\": {\"backgroundcolor\": \"#E5ECF6\", \"gridcolor\": \"white\", \"gridwidth\": 2, \"linecolor\": \"white\", \"showbackground\": true, \"ticks\": \"\", \"zerolinecolor\": \"white\"}}, \"shapedefaults\": {\"line\": {\"color\": \"#2a3f5f\"}}, \"ternary\": {\"aaxis\": {\"gridcolor\": \"white\", \"linecolor\": \"white\", \"ticks\": \"\"}, \"baxis\": {\"gridcolor\": \"white\", \"linecolor\": \"white\", \"ticks\": \"\"}, \"bgcolor\": \"#E5ECF6\", \"caxis\": {\"gridcolor\": \"white\", \"linecolor\": \"white\", \"ticks\": \"\"}}, \"title\": {\"x\": 0.05}, \"xaxis\": {\"automargin\": true, \"gridcolor\": \"white\", \"linecolor\": \"white\", \"ticks\": \"\", \"title\": {\"standoff\": 15}, \"zerolinecolor\": \"white\", \"zerolinewidth\": 2}, \"yaxis\": {\"automargin\": true, \"gridcolor\": \"white\", \"linecolor\": \"white\", \"ticks\": \"\", \"title\": {\"standoff\": 15}, \"zerolinecolor\": \"white\", \"zerolinewidth\": 2}}}, \"title\": {\"text\": \"ledighed vs. kvalitet\"}, \"xaxis\": {\"anchor\": \"y\", \"domain\": [0.0, 0.7363], \"title\": {\"text\": \"ledighed\"}}, \"xaxis2\": {\"anchor\": \"y2\", \"domain\": [0.7413, 1.0], \"matches\": \"x2\", \"showgrid\": true, \"showline\": false, \"showticklabels\": false, \"ticks\": \"\"}, \"xaxis3\": {\"anchor\": \"y3\", \"domain\": [0.0, 0.7363], \"matches\": \"x\", \"showgrid\": true, \"showticklabels\": false}, \"xaxis4\": {\"anchor\": \"y4\", \"domain\": [0.7413, 1.0], \"matches\": \"x2\", \"showgrid\": true, \"showline\": false, \"showticklabels\": false, \"ticks\": \"\"}, \"yaxis\": {\"anchor\": \"x\", \"domain\": [0.0, 0.7326], \"title\": {\"text\": \"kvalitet\"}}, \"yaxis2\": {\"anchor\": \"x2\", \"domain\": [0.0, 0.7326], \"matches\": \"y\", \"showgrid\": true, \"showticklabels\": false}, \"yaxis3\": {\"anchor\": \"x3\", \"domain\": [0.7426, 1.0], \"matches\": \"y3\", \"showgrid\": true, \"showline\": false, \"showticklabels\": false, \"ticks\": \"\"}, \"yaxis4\": {\"anchor\": \"x4\", \"domain\": [0.7426, 1.0], \"matches\": \"y3\", \"showgrid\": true, \"showline\": false, \"showticklabels\": false, \"ticks\": \"\"}},\n",
       "                        {\"responsive\": true}\n",
       "                    ).then(function(){\n",
       "                            \n",
       "var gd = document.getElementById('1cc1ae8e-2f9f-4351-80c8-92f3a23e9efa');\n",
       "var x = new MutationObserver(function (mutations, observer) {{\n",
       "        var display = window.getComputedStyle(gd).display;\n",
       "        if (!display || display === 'none') {{\n",
       "            console.log([gd, 'removed!']);\n",
       "            Plotly.purge(gd);\n",
       "            observer.disconnect();\n",
       "        }}\n",
       "}});\n",
       "\n",
       "// Listen for the removal of the full notebook cells\n",
       "var notebookContainer = gd.closest('#notebook-container');\n",
       "if (notebookContainer) {{\n",
       "    x.observe(notebookContainer, {childList: true});\n",
       "}}\n",
       "\n",
       "// Listen for the clearing of the current output cell\n",
       "var outputEl = gd.closest('.output');\n",
       "if (outputEl) {{\n",
       "    x.observe(outputEl, {childList: true});\n",
       "}}\n",
       "\n",
       "                        })\n",
       "                };\n",
       "                });\n",
       "            </script>\n",
       "        </div>"
      ]
     },
     "metadata": {},
     "output_type": "display_data"
    },
    {
     "data": {
      "application/vnd.plotly.v1+json": {
       "config": {
        "plotlyServerURL": "https://plot.ly"
       },
       "data": [
        {
         "customdata": [
          [
           "Arkitekt"
          ],
          [
           "Veterinærmedicin"
          ],
          [
           "Designledelse"
          ],
          [
           "Odontologi"
          ],
          [
           "Jura"
          ],
          [
           "Farmaci"
          ],
          [
           "Lyd- og musikteknologi"
          ],
          [
           "Farmaceutisk videnskab"
          ],
          [
           "Tværkulturelle studier"
          ],
          [
           "Amerikanske studier"
          ],
          [
           "Engelsk"
          ],
          [
           "Medialogy"
          ],
          [
           "Medicin og teknologi"
          ],
          [
           "Humanbiologi"
          ],
          [
           "Molecular Biology"
          ],
          [
           "Musikvidenskab"
          ],
          [
           "Informationsvidenskab og kulturformidling"
          ],
          [
           "Human ernæring"
          ],
          [
           "Erhvervssprog og international virksomhedskommunikation"
          ],
          [
           "Industrielt design"
          ],
          [
           "Religionsvidenskab"
          ],
          [
           "Sundhedsteknologi"
          ],
          [
           "Radiograf"
          ],
          [
           "Bioteknologi"
          ],
          [
           "Biologi-bioteknologi"
          ],
          [
           "Landskabsarkitektur"
          ],
          [
           "Corporate Communication"
          ],
          [
           "Biokemi"
          ],
          [
           "Byggeri"
          ],
          [
           "Moderne kultur og kulturformidling"
          ],
          [
           "Sygeplejerske"
          ],
          [
           "Uddannelsesvidenskab"
          ],
          [
           "Filosofi"
          ],
          [
           "Bioinformatik"
          ],
          [
           "Digital design og interaktive teknologier"
          ],
          [
           "Astronomi"
          ],
          [
           "Miljøvidenskab"
          ],
          [
           "Global udvikling"
          ],
          [
           "Samfundsvidenskabelig jura"
          ],
          [
           "Fransk sprog, litteratur og kultur"
          ],
          [
           "Tekstildesign, -håndværk og formidling"
          ],
          [
           "Erhvervsøkonomi og virksomhedskommunikation"
          ],
          [
           "Bygningsdesign"
          ],
          [
           "Fødevareteknologi"
          ],
          [
           "Audiologi"
          ],
          [
           "Cultural Sociology"
          ],
          [
           "Mechatronics Engineering"
          ],
          [
           "Medicine with Industrial Specialisation"
          ],
          [
           "Antropologi"
          ],
          [
           "Biologi"
          ],
          [
           "Anvendt kemi"
          ],
          [
           "It-ledelse"
          ],
          [
           "Molekylær ernæring og fødevareteknologi"
          ],
          [
           "Film- og medievidenskab"
          ],
          [
           "Erhvervsøkonomi og psykologi"
          ],
          [
           "It, kommunikation og organisation"
          ],
          [
           "Datalogi"
          ],
          [
           "Fysik"
          ],
          [
           "Olie- og gasteknologi"
          ],
          [
           "Kultur, kommunikation og globalisering"
          ],
          [
           "Dansk"
          ],
          [
           "Erhvervsøkonomi - erhvervssprog, negot."
          ],
          [
           "Medicin"
          ],
          [
           "Webudvikling"
          ],
          [
           "Fysik og nanoteknologi"
          ],
          [
           "Agronomi"
          ],
          [
           "Pædagogisk filosofi"
          ],
          [
           "Pædagogisk psykologi"
          ],
          [
           "Husdyrvidenskab"
          ],
          [
           "Pædagogik"
          ],
          [
           "Socialt arbejde"
          ],
          [
           "Økonomi"
          ],
          [
           "Erhvervsøkonomi og erhvervsjura"
          ],
          [
           "It-design og applikationsudvikling"
          ],
          [
           "Matematik-økonomi"
          ],
          [
           "Historie"
          ],
          [
           "Bioanalytiker"
          ],
          [
           "Design og business"
          ],
          [
           "Forvaltning"
          ],
          [
           "Kemi og bioteknologi"
          ],
          [
           "Kultur og formidling"
          ],
          [
           "Socialrådgiver"
          ],
          [
           "Tysk"
          ],
          [
           "Litteraturvidenskab"
          ],
          [
           "Erhvervsøkonomi, cand.soc."
          ],
          [
           "Teologi"
          ],
          [
           "Geologi"
          ],
          [
           "Diplomingeniør - bygningsdesign"
          ],
          [
           "Tandplejer"
          ],
          [
           "It-didaktisk design"
          ],
          [
           "Bioinformatik og systembiologi"
          ],
          [
           "Jordbrugsøkonomi"
          ],
          [
           "Fysioterapeut"
          ],
          [
           "Samfundsfag"
          ],
          [
           "Statskundskab"
          ],
          [
           "Sociologi"
          ],
          [
           "Erhvervsøkonomi, cand.merc."
          ],
          [
           "Designer"
          ],
          [
           "Dramaturgi"
          ],
          [
           "Teknologibaseret forretningsudvikling"
          ],
          [
           "Mechanical Engineering"
          ],
          [
           "Softwaredesign"
          ],
          [
           "Agro-Environmental Management"
          ],
          [
           "Transport og logistik"
          ],
          [
           "Matematik"
          ],
          [
           "Sundhedsfremme og sundhedsstrategier"
          ],
          [
           "Kriminologi"
          ],
          [
           "Socialvidenskab"
          ],
          [
           "Ernæring og sundhed"
          ],
          [
           "Kemi (civilingeniør)"
          ],
          [
           "Diplomingeniør - softwareteknologi"
          ],
          [
           "Digital innovation og management"
          ],
          [
           "Kunsthistorie"
          ],
          [
           "Digital design"
          ],
          [
           "Psykologi"
          ],
          [
           "Sundhedsfaglig kandidat"
          ],
          [
           "Psykomotorisk terapeut"
          ],
          [
           "Medievidenskab"
          ],
          [
           "Ergoterapi"
          ],
          [
           "Erhvervsøkonomi og filosofi"
          ],
          [
           "Spansk sprog og kultur"
          ],
          [
           "Mellemøststudier"
          ],
          [
           "Molekylær medicin"
          ],
          [
           "Diplomingeniør - bygning"
          ],
          [
           "Humanistisk-samfundsvidenskabelig idrætsvidenskab"
          ],
          [
           "Informationsvidenskab"
          ],
          [
           "Software"
          ],
          [
           "Folkesundhedsvidenskab"
          ],
          [
           "Diplomingeniør - elektrisk energiteknologi"
          ],
          [
           "Audiologopædi"
          ],
          [
           "Pædagogisk sociologi"
          ],
          [
           "Nanoscience"
          ],
          [
           "Klinisk sygepleje"
          ],
          [
           "Sygepleje"
          ],
          [
           "Anvendt kulturanalyse"
          ],
          [
           "Fødevarevidenskab"
          ],
          [
           "Geografi"
          ],
          [
           "Optometrist"
          ],
          [
           "Bygningskonstruktør"
          ],
          [
           "Ergoterapeut"
          ],
          [
           "Pædagog"
          ],
          [
           "Arbejdslivsstudier"
          ],
          [
           "Fysioterapi"
          ],
          [
           "Have- og parkingeniør"
          ],
          [
           "Kommunikation"
          ],
          [
           "Klinisk ernæring"
          ],
          [
           "Tourism"
          ],
          [
           "Digitale medieteknologier"
          ],
          [
           "Interaktive digitale medier"
          ],
          [
           "International sikkerhed og folkeret"
          ],
          [
           "Design og innovation"
          ],
          [
           "Politisk kommunikation og ledelse"
          ],
          [
           "Lingvistik"
          ],
          [
           "Humanfysiologi"
          ],
          [
           "Laboratorie- og fødevareteknologi"
          ],
          [
           "Medicinalkemi"
          ],
          [
           "Journalistik"
          ],
          [
           "Spil"
          ],
          [
           "Offentlig administration"
          ],
          [
           "Æstetik og kultur"
          ],
          [
           "Softwareudvikling"
          ],
          [
           "IT Product Design"
          ],
          [
           "Kemi"
          ],
          [
           "Revisorkandidat, cand.merc.aud."
          ],
          [
           "Jordemoder"
          ],
          [
           "Oplevelsesøkonomi"
          ],
          [
           "Vision, Graphics and Interactive Systems"
          ],
          [
           "Kemisk og biokemisk teknologi"
          ],
          [
           "Energy Engineering"
          ],
          [
           "Diplomingeniør - maskinteknik"
          ],
          [
           "Industriel økonomi og teknologiledelse"
          ],
          [
           "Materiale- og procesteknologi"
          ],
          [
           "Miljøteknologi"
          ],
          [
           "Byggeteknologi"
          ],
          [
           "Geofysik"
          ],
          [
           "Digital konceptudvikling"
          ],
          [
           "Statistik"
          ],
          [
           "Webkommunikation"
          ],
          [
           "Informationsteknologi"
          ],
          [
           "Farmateknologi"
          ],
          [
           "Multimediedesigner"
          ],
          [
           "International handel og markedsføring"
          ],
          [
           "Business Administration and Information Systems"
          ],
          [
           "Maskinmester"
          ],
          [
           "Politik og administration"
          ],
          [
           "Bæredygtigt design"
          ],
          [
           "Virksomhedsledelse"
          ],
          [
           "Didaktik"
          ],
          [
           "Energiteknologi"
          ],
          [
           "Elektroteknologi"
          ],
          [
           "Lærer i folkeskolen"
          ],
          [
           "Mekanik"
          ],
          [
           "Diplomingeniør - elektronik"
          ],
          [
           "Læring og forandringsprocesser"
          ],
          [
           "International Hospitality Management"
          ],
          [
           "Anvendt filosofi"
          ],
          [
           "Diplomingeniør - eksport og teknologi"
          ],
          [
           "Jordbrug"
          ],
          [
           "Financial Controller"
          ],
          [
           "Pædagogisk antropologi"
          ],
          [
           "Europastudier"
          ],
          [
           "Administrationsøkonom"
          ],
          [
           "International Public Administration and Politics"
          ],
          [
           "Matematisk modellering og computing"
          ],
          [
           "Designteknolog"
          ],
          [
           "Laborant"
          ],
          [
           "Retorik"
          ],
          [
           "IT-teknolog"
          ],
          [
           "Konstruktion og mekanik"
          ],
          [
           "Water and Environment Engineering"
          ],
          [
           "Datamatiker"
          ],
          [
           "Elinstallatør"
          ],
          [
           "Finans"
          ],
          [
           "Markedsføringsøkonom"
          ],
          [
           "Bæredygtig energi"
          ],
          [
           "Procesteknolog"
          ],
          [
           "Lyd og akustisk teknologi"
          ],
          [
           "Serviceøkonom"
          ],
          [
           "Produktudvikling og teknisk integration"
          ],
          [
           "Medieproduktion og ledelse"
          ],
          [
           "It, læring og organisatorisk omstilling"
          ],
          [
           "Miljøteknolog"
          ],
          [
           "Innovation and Business"
          ],
          [
           "Idræt"
          ],
          [
           "Grafisk kommunikation"
          ],
          [
           "Økonomi og informationsteknologi"
          ],
          [
           "Veje og trafik"
          ],
          [
           "Ledelse og informatik i byggeriet"
          ],
          [
           "Logistikøkonom"
          ],
          [
           "Diakoni og socialpædagogik"
          ],
          [
           "Finansøkonom"
          ],
          [
           "Visuel kommunikation"
          ],
          [
           "Handelsøkonom"
          ],
          [
           "Multiplatform storytelling and production"
          ],
          [
           "Jordbrugsteknolog"
          ],
          [
           "Journalist"
          ],
          [
           "Geofysik og rumteknologi"
          ],
          [
           "Automationsteknolog"
          ],
          [
           "Produktionsteknolog"
          ],
          [
           "Kommunikation"
          ],
          [
           "Landinspektørvidenskab"
          ],
          [
           "Tv- og medietilrettelæggelse"
          ],
          [
           "Energiteknolog"
          ],
          [
           "Lærer fra Den frie Lærerskole"
          ]
         ],
         "hoverlabel": {
          "namelength": 0
         },
         "hovertemplate": "ledighed=%{x}<br>relevans=%{y}<br>Titel=%{customdata[0]}",
         "legendgroup": "",
         "marker": {
          "color": "#636efa",
          "symbol": "circle"
         },
         "mode": "markers",
         "name": "",
         "showlegend": false,
         "type": "scatter",
         "x": [
          11,
          6,
          27,
          3,
          5,
          8,
          13,
          4,
          23,
          22,
          22,
          24,
          4,
          6,
          17,
          16,
          19,
          24,
          18,
          21,
          24,
          1,
          3,
          12,
          14,
          13,
          12,
          18,
          1,
          25,
          1,
          15,
          30,
          5,
          12,
          13,
          10,
          10,
          5,
          23,
          21,
          9,
          14,
          10,
          8,
          12,
          7,
          17,
          23,
          23,
          12,
          12,
          14,
          19,
          7,
          6,
          3,
          6,
          10,
          27,
          16,
          14,
          1,
          13,
          5,
          11,
          17,
          12,
          12,
          14,
          10,
          2,
          6,
          15,
          3,
          26,
          5,
          16,
          11,
          11,
          36,
          6,
          16,
          27,
          7,
          18,
          17,
          4,
          8,
          12,
          8,
          7,
          6,
          14,
          6,
          17,
          7,
          27,
          24,
          7,
          6,
          3,
          18,
          2,
          3,
          20,
          18,
          28,
          11,
          18,
          5,
          6,
          31,
          24,
          10,
          7,
          20,
          20,
          5,
          19,
          22,
          22,
          14,
          4,
          10,
          13,
          3,
          11,
          3,
          2,
          13,
          14,
          1,
          3,
          23,
          8,
          13,
          1,
          7,
          10,
          8,
          12,
          5,
          14,
          22,
          10,
          19,
          5,
          37,
          20,
          6,
          12,
          14,
          12,
          13,
          17,
          12,
          12,
          12,
          31,
          7,
          19,
          12,
          2,
          2,
          28,
          4,
          6,
          5,
          5,
          4,
          6,
          11,
          4,
          18,
          20,
          2,
          16,
          0,
          7,
          15,
          12,
          6,
          3,
          18,
          16,
          16,
          13,
          22,
          4,
          6,
          1,
          5,
          19,
          13,
          30,
          12,
          16,
          10,
          17,
          26,
          19,
          10,
          2,
          12,
          7,
          18,
          11,
          2,
          2,
          10,
          2,
          4,
          8,
          12,
          13,
          2,
          9,
          15,
          14,
          16,
          22,
          7,
          15,
          19,
          4,
          1,
          6,
          7,
          7,
          6,
          16,
          8,
          21,
          10,
          11,
          11,
          3,
          10,
          8,
          4,
          14,
          12,
          19
         ],
         "xaxis": "x",
         "y": [
          3.53,
          3.66,
          3.29,
          4.17,
          3.73,
          3.81,
          3.25,
          3.9,
          3.4,
          3.33,
          3.53,
          3.59,
          3.8,
          3.62,
          3.81,
          3.56,
          3.37,
          3.51,
          3.37,
          3.77,
          3.49,
          3.6,
          4.02,
          4.03,
          3.83,
          3.67,
          3.39,
          3.78,
          3.85,
          3.61,
          3.49,
          3.54,
          3.69,
          4.24,
          3.75,
          3.67,
          3.58,
          3.63,
          4,
          3.56,
          3.23,
          3.5,
          3.9,
          3.73,
          3.35,
          3.44,
          4,
          3.74,
          3.79,
          3.34,
          4,
          4.27,
          3.88,
          3.33,
          3.67,
          3.86,
          3.84,
          4.03,
          3.81,
          3.06,
          3.64,
          3.08,
          4.06,
          3.41,
          4.04,
          3.78,
          3.35,
          3.7,
          3.6,
          3.66,
          3.58,
          3.82,
          3.9,
          3.9,
          3.6,
          3.45,
          3.62,
          3.36,
          3.83,
          4.07,
          3.38,
          3.59,
          3.61,
          3.56,
          3.41,
          3.34,
          3.69,
          3.86,
          3.85,
          3.71,
          3.95,
          3.47,
          3.6,
          3.49,
          3.79,
          3.86,
          3.58,
          3.58,
          3.79,
          3.9,
          4.03,
          3.81,
          3.33,
          3.97,
          3.67,
          3.55,
          3.13,
          3.94,
          3.25,
          3.75,
          3.66,
          3.73,
          3.38,
          3.53,
          3.42,
          3.62,
          3.63,
          3.35,
          3.58,
          3.48,
          3.54,
          3.35,
          3.9,
          3.72,
          3.56,
          3.72,
          4.18,
          3.74,
          3.45,
          3.85,
          3.47,
          3.92,
          3.7,
          3.4,
          3.39,
          3.85,
          3.59,
          3.87,
          3.72,
          3.67,
          3.67,
          3.85,
          3.55,
          4.21,
          3.48,
          3.54,
          2.97,
          3.77,
          3.59,
          3.37,
          3.92,
          3.47,
          4.08,
          3.71,
          3.53,
          3.96,
          3.56,
          3.41,
          3.55,
          3.55,
          3.61,
          3.62,
          3.8,
          3.84,
          4.31,
          3.49,
          4.33,
          3.51,
          4.16,
          3.81,
          3.88,
          3.73,
          3.87,
          3.99,
          3.29,
          3.38,
          3.78,
          3.4,
          3.95,
          3.95,
          3.21,
          3.28,
          3.67,
          3.85,
          3.59,
          3.53,
          3.65,
          3.6,
          2.82,
          3.81,
          3.25,
          3.96,
          3.73,
          3.64,
          3.21,
          3.93,
          3.31,
          3.45,
          3.74,
          3.41,
          3.13,
          3.14,
          3.33,
          3.91,
          3.37,
          3.77,
          3.68,
          3.07,
          3.88,
          4.24,
          3.64,
          3.75,
          3.63,
          3.11,
          3.62,
          3.96,
          4.3,
          3.2,
          3.33,
          3.2,
          3.63,
          3.67,
          3.86,
          3.53,
          4.19,
          3.52,
          4.1,
          3.79,
          3.48,
          4.13,
          3.47,
          4.17,
          3.3,
          4,
          3.65,
          3.58,
          3.93,
          3.48,
          3.36,
          3.69,
          3.45,
          3.53,
          3.32,
          4.15
         ],
         "yaxis": "y"
        },
        {
         "alignmentgroup": "True",
         "bingroup": "x",
         "hoverlabel": {
          "namelength": 0
         },
         "hovertemplate": "ledighed=%{x}<br>count=%{y}",
         "legendgroup": "",
         "marker": {
          "color": "#636efa"
         },
         "name": "",
         "offsetgroup": "",
         "opacity": 0.5,
         "showlegend": false,
         "type": "histogram",
         "x": [
          11,
          6,
          27,
          3,
          5,
          8,
          13,
          4,
          23,
          22,
          22,
          24,
          4,
          6,
          17,
          16,
          19,
          24,
          18,
          21,
          24,
          1,
          3,
          12,
          14,
          13,
          12,
          18,
          1,
          25,
          1,
          15,
          30,
          5,
          12,
          13,
          10,
          10,
          5,
          23,
          21,
          9,
          14,
          10,
          8,
          12,
          7,
          17,
          23,
          23,
          12,
          12,
          14,
          19,
          7,
          6,
          3,
          6,
          10,
          27,
          16,
          14,
          1,
          13,
          5,
          11,
          17,
          12,
          12,
          14,
          10,
          2,
          6,
          15,
          3,
          26,
          5,
          16,
          11,
          11,
          36,
          6,
          16,
          27,
          7,
          18,
          17,
          4,
          8,
          12,
          8,
          7,
          6,
          14,
          6,
          17,
          7,
          27,
          24,
          7,
          6,
          3,
          18,
          2,
          3,
          20,
          18,
          28,
          11,
          18,
          5,
          6,
          31,
          24,
          10,
          7,
          20,
          20,
          5,
          19,
          22,
          22,
          14,
          4,
          10,
          13,
          3,
          11,
          3,
          2,
          13,
          14,
          1,
          3,
          23,
          8,
          13,
          1,
          7,
          10,
          8,
          12,
          5,
          14,
          22,
          10,
          19,
          5,
          37,
          20,
          6,
          12,
          14,
          12,
          13,
          17,
          12,
          12,
          12,
          31,
          7,
          19,
          12,
          2,
          2,
          28,
          4,
          6,
          5,
          5,
          4,
          6,
          11,
          4,
          18,
          20,
          2,
          16,
          0,
          7,
          15,
          12,
          6,
          3,
          18,
          16,
          16,
          13,
          22,
          4,
          6,
          1,
          5,
          19,
          13,
          30,
          12,
          16,
          10,
          17,
          26,
          19,
          10,
          2,
          12,
          7,
          18,
          11,
          2,
          2,
          10,
          2,
          4,
          8,
          12,
          13,
          2,
          9,
          15,
          14,
          16,
          22,
          7,
          15,
          19,
          4,
          1,
          6,
          7,
          7,
          6,
          16,
          8,
          21,
          10,
          11,
          11,
          3,
          10,
          8,
          4,
          14,
          12,
          19
         ],
         "xaxis": "x3",
         "yaxis": "y3"
        },
        {
         "alignmentgroup": "True",
         "bingroup": "y",
         "hoverlabel": {
          "namelength": 0
         },
         "hovertemplate": "relevans=%{y}<br>count=%{x}",
         "legendgroup": "",
         "marker": {
          "color": "#636efa"
         },
         "name": "",
         "offsetgroup": "",
         "opacity": 0.5,
         "showlegend": false,
         "type": "histogram",
         "xaxis": "x2",
         "y": [
          3.53,
          3.66,
          3.29,
          4.17,
          3.73,
          3.81,
          3.25,
          3.9,
          3.4,
          3.33,
          3.53,
          3.59,
          3.8,
          3.62,
          3.81,
          3.56,
          3.37,
          3.51,
          3.37,
          3.77,
          3.49,
          3.6,
          4.02,
          4.03,
          3.83,
          3.67,
          3.39,
          3.78,
          3.85,
          3.61,
          3.49,
          3.54,
          3.69,
          4.24,
          3.75,
          3.67,
          3.58,
          3.63,
          4,
          3.56,
          3.23,
          3.5,
          3.9,
          3.73,
          3.35,
          3.44,
          4,
          3.74,
          3.79,
          3.34,
          4,
          4.27,
          3.88,
          3.33,
          3.67,
          3.86,
          3.84,
          4.03,
          3.81,
          3.06,
          3.64,
          3.08,
          4.06,
          3.41,
          4.04,
          3.78,
          3.35,
          3.7,
          3.6,
          3.66,
          3.58,
          3.82,
          3.9,
          3.9,
          3.6,
          3.45,
          3.62,
          3.36,
          3.83,
          4.07,
          3.38,
          3.59,
          3.61,
          3.56,
          3.41,
          3.34,
          3.69,
          3.86,
          3.85,
          3.71,
          3.95,
          3.47,
          3.6,
          3.49,
          3.79,
          3.86,
          3.58,
          3.58,
          3.79,
          3.9,
          4.03,
          3.81,
          3.33,
          3.97,
          3.67,
          3.55,
          3.13,
          3.94,
          3.25,
          3.75,
          3.66,
          3.73,
          3.38,
          3.53,
          3.42,
          3.62,
          3.63,
          3.35,
          3.58,
          3.48,
          3.54,
          3.35,
          3.9,
          3.72,
          3.56,
          3.72,
          4.18,
          3.74,
          3.45,
          3.85,
          3.47,
          3.92,
          3.7,
          3.4,
          3.39,
          3.85,
          3.59,
          3.87,
          3.72,
          3.67,
          3.67,
          3.85,
          3.55,
          4.21,
          3.48,
          3.54,
          2.97,
          3.77,
          3.59,
          3.37,
          3.92,
          3.47,
          4.08,
          3.71,
          3.53,
          3.96,
          3.56,
          3.41,
          3.55,
          3.55,
          3.61,
          3.62,
          3.8,
          3.84,
          4.31,
          3.49,
          4.33,
          3.51,
          4.16,
          3.81,
          3.88,
          3.73,
          3.87,
          3.99,
          3.29,
          3.38,
          3.78,
          3.4,
          3.95,
          3.95,
          3.21,
          3.28,
          3.67,
          3.85,
          3.59,
          3.53,
          3.65,
          3.6,
          2.82,
          3.81,
          3.25,
          3.96,
          3.73,
          3.64,
          3.21,
          3.93,
          3.31,
          3.45,
          3.74,
          3.41,
          3.13,
          3.14,
          3.33,
          3.91,
          3.37,
          3.77,
          3.68,
          3.07,
          3.88,
          4.24,
          3.64,
          3.75,
          3.63,
          3.11,
          3.62,
          3.96,
          4.3,
          3.2,
          3.33,
          3.2,
          3.63,
          3.67,
          3.86,
          3.53,
          4.19,
          3.52,
          4.1,
          3.79,
          3.48,
          4.13,
          3.47,
          4.17,
          3.3,
          4,
          3.65,
          3.58,
          3.93,
          3.48,
          3.36,
          3.69,
          3.45,
          3.53,
          3.32,
          4.15
         ],
         "yaxis": "y2"
        },
        {
         "hoverlabel": {
          "namelength": 0
         },
         "hovertemplate": "<b>LOWESS trendline</b><br><br>ledighed=%{x}<br>relevans=%{y} <b>(trend)</b>",
         "legendgroup": "",
         "marker": {
          "color": "#636efa",
          "symbol": "circle"
         },
         "mode": "lines",
         "name": "",
         "showlegend": false,
         "type": "scatter",
         "x": [
          0,
          1,
          1,
          1,
          1,
          1,
          1,
          1,
          1,
          2,
          2,
          2,
          2,
          2,
          2,
          2,
          2,
          2,
          2,
          2,
          3,
          3,
          3,
          3,
          3,
          3,
          3,
          3,
          3,
          3,
          3,
          4,
          4,
          4,
          4,
          4,
          4,
          4,
          4,
          4,
          4,
          4,
          5,
          5,
          5,
          5,
          5,
          5,
          5,
          5,
          5,
          5,
          5,
          5,
          6,
          6,
          6,
          6,
          6,
          6,
          6,
          6,
          6,
          6,
          6,
          6,
          6,
          6,
          6,
          6,
          6,
          7,
          7,
          7,
          7,
          7,
          7,
          7,
          7,
          7,
          7,
          7,
          7,
          7,
          7,
          8,
          8,
          8,
          8,
          8,
          8,
          8,
          8,
          8,
          9,
          9,
          10,
          10,
          10,
          10,
          10,
          10,
          10,
          10,
          10,
          10,
          10,
          10,
          10,
          10,
          11,
          11,
          11,
          11,
          11,
          11,
          11,
          11,
          11,
          11,
          12,
          12,
          12,
          12,
          12,
          12,
          12,
          12,
          12,
          12,
          12,
          12,
          12,
          12,
          12,
          12,
          12,
          12,
          12,
          12,
          12,
          13,
          13,
          13,
          13,
          13,
          13,
          13,
          13,
          13,
          13,
          13,
          14,
          14,
          14,
          14,
          14,
          14,
          14,
          14,
          14,
          14,
          14,
          14,
          15,
          15,
          15,
          15,
          15,
          16,
          16,
          16,
          16,
          16,
          16,
          16,
          16,
          16,
          16,
          17,
          17,
          17,
          17,
          17,
          17,
          17,
          18,
          18,
          18,
          18,
          18,
          18,
          18,
          18,
          18,
          19,
          19,
          19,
          19,
          19,
          19,
          19,
          19,
          19,
          20,
          20,
          20,
          20,
          20,
          21,
          21,
          21,
          22,
          22,
          22,
          22,
          22,
          22,
          22,
          23,
          23,
          23,
          23,
          23,
          24,
          24,
          24,
          24,
          24,
          25,
          26,
          26,
          27,
          27,
          27,
          27,
          28,
          28,
          30,
          30,
          31,
          31,
          36,
          37
         ],
         "xaxis": "x",
         "y": [
          3.923458003421875,
          3.892265684110329,
          3.892265684110329,
          3.892265684110329,
          3.892265684110329,
          3.892265684110329,
          3.892265684110329,
          3.892265684110329,
          3.892265684110329,
          3.8611575813191776,
          3.8611575813191776,
          3.8611575813191776,
          3.8611575813191776,
          3.8611575813191776,
          3.8611575813191776,
          3.8611575813191776,
          3.8611575813191776,
          3.8611575813191776,
          3.8611575813191776,
          3.8611575813191776,
          3.830307492588841,
          3.830307492588841,
          3.830307492588841,
          3.830307492588841,
          3.830307492588841,
          3.830307492588841,
          3.830307492588841,
          3.830307492588841,
          3.830307492588841,
          3.830307492588841,
          3.830307492588841,
          3.7996979449694797,
          3.7996979449694797,
          3.7996979449694797,
          3.7996979449694797,
          3.7996979449694797,
          3.7996979449694797,
          3.7996979449694797,
          3.7996979449694797,
          3.7996979449694797,
          3.7996979449694797,
          3.7996979449694797,
          3.7693862449730826,
          3.7693862449730826,
          3.7693862449730826,
          3.7693862449730826,
          3.7693862449730826,
          3.7693862449730826,
          3.7693862449730826,
          3.7693862449730826,
          3.7693862449730826,
          3.7693862449730826,
          3.7693862449730826,
          3.7693862449730826,
          3.7394567498103957,
          3.7394567498103957,
          3.7394567498103957,
          3.7394567498103957,
          3.7394567498103957,
          3.7394567498103957,
          3.7394567498103957,
          3.7394567498103957,
          3.7394567498103957,
          3.7394567498103957,
          3.7394567498103957,
          3.7394567498103957,
          3.7394567498103957,
          3.7394567498103957,
          3.7394567498103957,
          3.7394567498103957,
          3.7394567498103957,
          3.709777966496265,
          3.709777966496265,
          3.709777966496265,
          3.709777966496265,
          3.709777966496265,
          3.709777966496265,
          3.709777966496265,
          3.709777966496265,
          3.709777966496265,
          3.709777966496265,
          3.709777966496265,
          3.709777966496265,
          3.709777966496265,
          3.709777966496265,
          3.685348657102335,
          3.685348657102335,
          3.685348657102335,
          3.685348657102335,
          3.685348657102335,
          3.685348657102335,
          3.685348657102335,
          3.685348657102335,
          3.685348657102335,
          3.6646235889526353,
          3.6646235889526353,
          3.6456725850642107,
          3.6456725850642107,
          3.6456725850642107,
          3.6456725850642107,
          3.6456725850642107,
          3.6456725850642107,
          3.6456725850642107,
          3.6456725850642107,
          3.6456725850642107,
          3.6456725850642107,
          3.6456725850642107,
          3.6456725850642107,
          3.6456725850642107,
          3.6456725850642107,
          3.6290349198979897,
          3.6290349198979897,
          3.6290349198979897,
          3.6290349198979897,
          3.6290349198979897,
          3.6290349198979897,
          3.6290349198979897,
          3.6290349198979897,
          3.6290349198979897,
          3.6290349198979897,
          3.6166808367991283,
          3.6166808367991283,
          3.6166808367991283,
          3.6166808367991283,
          3.6166808367991283,
          3.6166808367991283,
          3.6166808367991283,
          3.6166808367991283,
          3.6166808367991283,
          3.6166808367991283,
          3.6166808367991283,
          3.6166808367991283,
          3.6166808367991283,
          3.6166808367991283,
          3.6166808367991283,
          3.6166808367991283,
          3.6166808367991283,
          3.6166808367991283,
          3.6166808367991283,
          3.6166808367991283,
          3.6166808367991283,
          3.6061245476903085,
          3.6061245476903085,
          3.6061245476903085,
          3.6061245476903085,
          3.6061245476903085,
          3.6061245476903085,
          3.6061245476903085,
          3.6061245476903085,
          3.6061245476903085,
          3.6061245476903085,
          3.6061245476903085,
          3.59375443525039,
          3.59375443525039,
          3.59375443525039,
          3.59375443525039,
          3.59375443525039,
          3.59375443525039,
          3.59375443525039,
          3.59375443525039,
          3.59375443525039,
          3.59375443525039,
          3.59375443525039,
          3.59375443525039,
          3.5796874434594694,
          3.5796874434594694,
          3.5796874434594694,
          3.5796874434594694,
          3.5796874434594694,
          3.56746240526616,
          3.56746240526616,
          3.56746240526616,
          3.56746240526616,
          3.56746240526616,
          3.56746240526616,
          3.56746240526616,
          3.56746240526616,
          3.56746240526616,
          3.56746240526616,
          3.557100049849159,
          3.557100049849159,
          3.557100049849159,
          3.557100049849159,
          3.557100049849159,
          3.557100049849159,
          3.557100049849159,
          3.547257438813804,
          3.547257438813804,
          3.547257438813804,
          3.547257438813804,
          3.547257438813804,
          3.547257438813804,
          3.547257438813804,
          3.547257438813804,
          3.547257438813804,
          3.537555314450238,
          3.537555314450238,
          3.537555314450238,
          3.537555314450238,
          3.537555314450238,
          3.537555314450238,
          3.537555314450238,
          3.537555314450238,
          3.537555314450238,
          3.5306231175094847,
          3.5306231175094847,
          3.5306231175094847,
          3.5306231175094847,
          3.5306231175094847,
          3.525794946735573,
          3.525794946735573,
          3.525794946735573,
          3.5213621417101444,
          3.5213621417101444,
          3.5213621417101444,
          3.5213621417101444,
          3.5213621417101444,
          3.5213621417101444,
          3.5213621417101444,
          3.5169079403165884,
          3.5169079403165884,
          3.5169079403165884,
          3.5169079403165884,
          3.5169079403165884,
          3.5128381523033125,
          3.5128381523033125,
          3.5128381523033125,
          3.5128381523033125,
          3.5128381523033125,
          3.5089959527607086,
          3.5052084452473604,
          3.5052084452473604,
          3.5014284480864255,
          3.5014284480864255,
          3.5014284480864255,
          3.5014284480864255,
          3.4977084636316693,
          3.4977084636316693,
          3.4907900686025664,
          3.4907900686025664,
          3.487687509272016,
          3.487687509272016,
          3.47515743365804,
          3.473109961947603
         ],
         "yaxis": "y"
        }
       ],
       "layout": {
        "barmode": "overlay",
        "legend": {
         "tracegroupgap": 0
        },
        "shapes": [
         {
          "fillcolor": "LightSkyBlue",
          "layer": "below",
          "line": {
           "width": 0
          },
          "opacity": 0.5,
          "type": "rect",
          "x0": 11.115261697226948,
          "x1": 13.024082565068134,
          "xref": "x",
          "y0": 2.82,
          "y1": 4.33,
          "yref": "y"
         },
         {
          "fillcolor": "LightSkyBlue",
          "layer": "below",
          "line": {
           "width": 0
          },
          "opacity": 0.5,
          "type": "rect",
          "x0": 0,
          "x1": 37,
          "xref": "x",
          "y0": 3.6186625814545086,
          "y1": 3.6876488939553282,
          "yref": "y"
         }
        ],
        "template": {
         "data": {
          "bar": [
           {
            "error_x": {
             "color": "#2a3f5f"
            },
            "error_y": {
             "color": "#2a3f5f"
            },
            "marker": {
             "line": {
              "color": "#E5ECF6",
              "width": 0.5
             }
            },
            "type": "bar"
           }
          ],
          "barpolar": [
           {
            "marker": {
             "line": {
              "color": "#E5ECF6",
              "width": 0.5
             }
            },
            "type": "barpolar"
           }
          ],
          "carpet": [
           {
            "aaxis": {
             "endlinecolor": "#2a3f5f",
             "gridcolor": "white",
             "linecolor": "white",
             "minorgridcolor": "white",
             "startlinecolor": "#2a3f5f"
            },
            "baxis": {
             "endlinecolor": "#2a3f5f",
             "gridcolor": "white",
             "linecolor": "white",
             "minorgridcolor": "white",
             "startlinecolor": "#2a3f5f"
            },
            "type": "carpet"
           }
          ],
          "choropleth": [
           {
            "colorbar": {
             "outlinewidth": 0,
             "ticks": ""
            },
            "type": "choropleth"
           }
          ],
          "contour": [
           {
            "colorbar": {
             "outlinewidth": 0,
             "ticks": ""
            },
            "colorscale": [
             [
              0,
              "#0d0887"
             ],
             [
              0.1111111111111111,
              "#46039f"
             ],
             [
              0.2222222222222222,
              "#7201a8"
             ],
             [
              0.3333333333333333,
              "#9c179e"
             ],
             [
              0.4444444444444444,
              "#bd3786"
             ],
             [
              0.5555555555555556,
              "#d8576b"
             ],
             [
              0.6666666666666666,
              "#ed7953"
             ],
             [
              0.7777777777777778,
              "#fb9f3a"
             ],
             [
              0.8888888888888888,
              "#fdca26"
             ],
             [
              1,
              "#f0f921"
             ]
            ],
            "type": "contour"
           }
          ],
          "contourcarpet": [
           {
            "colorbar": {
             "outlinewidth": 0,
             "ticks": ""
            },
            "type": "contourcarpet"
           }
          ],
          "heatmap": [
           {
            "colorbar": {
             "outlinewidth": 0,
             "ticks": ""
            },
            "colorscale": [
             [
              0,
              "#0d0887"
             ],
             [
              0.1111111111111111,
              "#46039f"
             ],
             [
              0.2222222222222222,
              "#7201a8"
             ],
             [
              0.3333333333333333,
              "#9c179e"
             ],
             [
              0.4444444444444444,
              "#bd3786"
             ],
             [
              0.5555555555555556,
              "#d8576b"
             ],
             [
              0.6666666666666666,
              "#ed7953"
             ],
             [
              0.7777777777777778,
              "#fb9f3a"
             ],
             [
              0.8888888888888888,
              "#fdca26"
             ],
             [
              1,
              "#f0f921"
             ]
            ],
            "type": "heatmap"
           }
          ],
          "heatmapgl": [
           {
            "colorbar": {
             "outlinewidth": 0,
             "ticks": ""
            },
            "colorscale": [
             [
              0,
              "#0d0887"
             ],
             [
              0.1111111111111111,
              "#46039f"
             ],
             [
              0.2222222222222222,
              "#7201a8"
             ],
             [
              0.3333333333333333,
              "#9c179e"
             ],
             [
              0.4444444444444444,
              "#bd3786"
             ],
             [
              0.5555555555555556,
              "#d8576b"
             ],
             [
              0.6666666666666666,
              "#ed7953"
             ],
             [
              0.7777777777777778,
              "#fb9f3a"
             ],
             [
              0.8888888888888888,
              "#fdca26"
             ],
             [
              1,
              "#f0f921"
             ]
            ],
            "type": "heatmapgl"
           }
          ],
          "histogram": [
           {
            "marker": {
             "colorbar": {
              "outlinewidth": 0,
              "ticks": ""
             }
            },
            "type": "histogram"
           }
          ],
          "histogram2d": [
           {
            "colorbar": {
             "outlinewidth": 0,
             "ticks": ""
            },
            "colorscale": [
             [
              0,
              "#0d0887"
             ],
             [
              0.1111111111111111,
              "#46039f"
             ],
             [
              0.2222222222222222,
              "#7201a8"
             ],
             [
              0.3333333333333333,
              "#9c179e"
             ],
             [
              0.4444444444444444,
              "#bd3786"
             ],
             [
              0.5555555555555556,
              "#d8576b"
             ],
             [
              0.6666666666666666,
              "#ed7953"
             ],
             [
              0.7777777777777778,
              "#fb9f3a"
             ],
             [
              0.8888888888888888,
              "#fdca26"
             ],
             [
              1,
              "#f0f921"
             ]
            ],
            "type": "histogram2d"
           }
          ],
          "histogram2dcontour": [
           {
            "colorbar": {
             "outlinewidth": 0,
             "ticks": ""
            },
            "colorscale": [
             [
              0,
              "#0d0887"
             ],
             [
              0.1111111111111111,
              "#46039f"
             ],
             [
              0.2222222222222222,
              "#7201a8"
             ],
             [
              0.3333333333333333,
              "#9c179e"
             ],
             [
              0.4444444444444444,
              "#bd3786"
             ],
             [
              0.5555555555555556,
              "#d8576b"
             ],
             [
              0.6666666666666666,
              "#ed7953"
             ],
             [
              0.7777777777777778,
              "#fb9f3a"
             ],
             [
              0.8888888888888888,
              "#fdca26"
             ],
             [
              1,
              "#f0f921"
             ]
            ],
            "type": "histogram2dcontour"
           }
          ],
          "mesh3d": [
           {
            "colorbar": {
             "outlinewidth": 0,
             "ticks": ""
            },
            "type": "mesh3d"
           }
          ],
          "parcoords": [
           {
            "line": {
             "colorbar": {
              "outlinewidth": 0,
              "ticks": ""
             }
            },
            "type": "parcoords"
           }
          ],
          "pie": [
           {
            "automargin": true,
            "type": "pie"
           }
          ],
          "scatter": [
           {
            "marker": {
             "colorbar": {
              "outlinewidth": 0,
              "ticks": ""
             }
            },
            "type": "scatter"
           }
          ],
          "scatter3d": [
           {
            "line": {
             "colorbar": {
              "outlinewidth": 0,
              "ticks": ""
             }
            },
            "marker": {
             "colorbar": {
              "outlinewidth": 0,
              "ticks": ""
             }
            },
            "type": "scatter3d"
           }
          ],
          "scattercarpet": [
           {
            "marker": {
             "colorbar": {
              "outlinewidth": 0,
              "ticks": ""
             }
            },
            "type": "scattercarpet"
           }
          ],
          "scattergeo": [
           {
            "marker": {
             "colorbar": {
              "outlinewidth": 0,
              "ticks": ""
             }
            },
            "type": "scattergeo"
           }
          ],
          "scattergl": [
           {
            "marker": {
             "colorbar": {
              "outlinewidth": 0,
              "ticks": ""
             }
            },
            "type": "scattergl"
           }
          ],
          "scattermapbox": [
           {
            "marker": {
             "colorbar": {
              "outlinewidth": 0,
              "ticks": ""
             }
            },
            "type": "scattermapbox"
           }
          ],
          "scatterpolar": [
           {
            "marker": {
             "colorbar": {
              "outlinewidth": 0,
              "ticks": ""
             }
            },
            "type": "scatterpolar"
           }
          ],
          "scatterpolargl": [
           {
            "marker": {
             "colorbar": {
              "outlinewidth": 0,
              "ticks": ""
             }
            },
            "type": "scatterpolargl"
           }
          ],
          "scatterternary": [
           {
            "marker": {
             "colorbar": {
              "outlinewidth": 0,
              "ticks": ""
             }
            },
            "type": "scatterternary"
           }
          ],
          "surface": [
           {
            "colorbar": {
             "outlinewidth": 0,
             "ticks": ""
            },
            "colorscale": [
             [
              0,
              "#0d0887"
             ],
             [
              0.1111111111111111,
              "#46039f"
             ],
             [
              0.2222222222222222,
              "#7201a8"
             ],
             [
              0.3333333333333333,
              "#9c179e"
             ],
             [
              0.4444444444444444,
              "#bd3786"
             ],
             [
              0.5555555555555556,
              "#d8576b"
             ],
             [
              0.6666666666666666,
              "#ed7953"
             ],
             [
              0.7777777777777778,
              "#fb9f3a"
             ],
             [
              0.8888888888888888,
              "#fdca26"
             ],
             [
              1,
              "#f0f921"
             ]
            ],
            "type": "surface"
           }
          ],
          "table": [
           {
            "cells": {
             "fill": {
              "color": "#EBF0F8"
             },
             "line": {
              "color": "white"
             }
            },
            "header": {
             "fill": {
              "color": "#C8D4E3"
             },
             "line": {
              "color": "white"
             }
            },
            "type": "table"
           }
          ]
         },
         "layout": {
          "annotationdefaults": {
           "arrowcolor": "#2a3f5f",
           "arrowhead": 0,
           "arrowwidth": 1
          },
          "coloraxis": {
           "colorbar": {
            "outlinewidth": 0,
            "ticks": ""
           }
          },
          "colorscale": {
           "diverging": [
            [
             0,
             "#8e0152"
            ],
            [
             0.1,
             "#c51b7d"
            ],
            [
             0.2,
             "#de77ae"
            ],
            [
             0.3,
             "#f1b6da"
            ],
            [
             0.4,
             "#fde0ef"
            ],
            [
             0.5,
             "#f7f7f7"
            ],
            [
             0.6,
             "#e6f5d0"
            ],
            [
             0.7,
             "#b8e186"
            ],
            [
             0.8,
             "#7fbc41"
            ],
            [
             0.9,
             "#4d9221"
            ],
            [
             1,
             "#276419"
            ]
           ],
           "sequential": [
            [
             0,
             "#0d0887"
            ],
            [
             0.1111111111111111,
             "#46039f"
            ],
            [
             0.2222222222222222,
             "#7201a8"
            ],
            [
             0.3333333333333333,
             "#9c179e"
            ],
            [
             0.4444444444444444,
             "#bd3786"
            ],
            [
             0.5555555555555556,
             "#d8576b"
            ],
            [
             0.6666666666666666,
             "#ed7953"
            ],
            [
             0.7777777777777778,
             "#fb9f3a"
            ],
            [
             0.8888888888888888,
             "#fdca26"
            ],
            [
             1,
             "#f0f921"
            ]
           ],
           "sequentialminus": [
            [
             0,
             "#0d0887"
            ],
            [
             0.1111111111111111,
             "#46039f"
            ],
            [
             0.2222222222222222,
             "#7201a8"
            ],
            [
             0.3333333333333333,
             "#9c179e"
            ],
            [
             0.4444444444444444,
             "#bd3786"
            ],
            [
             0.5555555555555556,
             "#d8576b"
            ],
            [
             0.6666666666666666,
             "#ed7953"
            ],
            [
             0.7777777777777778,
             "#fb9f3a"
            ],
            [
             0.8888888888888888,
             "#fdca26"
            ],
            [
             1,
             "#f0f921"
            ]
           ]
          },
          "colorway": [
           "#636efa",
           "#EF553B",
           "#00cc96",
           "#ab63fa",
           "#FFA15A",
           "#19d3f3",
           "#FF6692",
           "#B6E880",
           "#FF97FF",
           "#FECB52"
          ],
          "font": {
           "color": "#2a3f5f"
          },
          "geo": {
           "bgcolor": "white",
           "lakecolor": "white",
           "landcolor": "#E5ECF6",
           "showlakes": true,
           "showland": true,
           "subunitcolor": "white"
          },
          "hoverlabel": {
           "align": "left"
          },
          "hovermode": "closest",
          "mapbox": {
           "style": "light"
          },
          "paper_bgcolor": "white",
          "plot_bgcolor": "#E5ECF6",
          "polar": {
           "angularaxis": {
            "gridcolor": "white",
            "linecolor": "white",
            "ticks": ""
           },
           "bgcolor": "#E5ECF6",
           "radialaxis": {
            "gridcolor": "white",
            "linecolor": "white",
            "ticks": ""
           }
          },
          "scene": {
           "xaxis": {
            "backgroundcolor": "#E5ECF6",
            "gridcolor": "white",
            "gridwidth": 2,
            "linecolor": "white",
            "showbackground": true,
            "ticks": "",
            "zerolinecolor": "white"
           },
           "yaxis": {
            "backgroundcolor": "#E5ECF6",
            "gridcolor": "white",
            "gridwidth": 2,
            "linecolor": "white",
            "showbackground": true,
            "ticks": "",
            "zerolinecolor": "white"
           },
           "zaxis": {
            "backgroundcolor": "#E5ECF6",
            "gridcolor": "white",
            "gridwidth": 2,
            "linecolor": "white",
            "showbackground": true,
            "ticks": "",
            "zerolinecolor": "white"
           }
          },
          "shapedefaults": {
           "line": {
            "color": "#2a3f5f"
           }
          },
          "ternary": {
           "aaxis": {
            "gridcolor": "white",
            "linecolor": "white",
            "ticks": ""
           },
           "baxis": {
            "gridcolor": "white",
            "linecolor": "white",
            "ticks": ""
           },
           "bgcolor": "#E5ECF6",
           "caxis": {
            "gridcolor": "white",
            "linecolor": "white",
            "ticks": ""
           }
          },
          "title": {
           "x": 0.05
          },
          "xaxis": {
           "automargin": true,
           "gridcolor": "white",
           "linecolor": "white",
           "ticks": "",
           "title": {
            "standoff": 15
           },
           "zerolinecolor": "white",
           "zerolinewidth": 2
          },
          "yaxis": {
           "automargin": true,
           "gridcolor": "white",
           "linecolor": "white",
           "ticks": "",
           "title": {
            "standoff": 15
           },
           "zerolinecolor": "white",
           "zerolinewidth": 2
          }
         }
        },
        "title": {
         "text": "ledighed vs. relevans"
        },
        "xaxis": {
         "anchor": "y",
         "domain": [
          0,
          0.7363
         ],
         "title": {
          "text": "ledighed"
         }
        },
        "xaxis2": {
         "anchor": "y2",
         "domain": [
          0.7413,
          1
         ],
         "matches": "x2",
         "showgrid": true,
         "showline": false,
         "showticklabels": false,
         "ticks": ""
        },
        "xaxis3": {
         "anchor": "y3",
         "domain": [
          0,
          0.7363
         ],
         "matches": "x",
         "showgrid": true,
         "showticklabels": false
        },
        "xaxis4": {
         "anchor": "y4",
         "domain": [
          0.7413,
          1
         ],
         "matches": "x2",
         "showgrid": true,
         "showline": false,
         "showticklabels": false,
         "ticks": ""
        },
        "yaxis": {
         "anchor": "x",
         "domain": [
          0,
          0.7326
         ],
         "title": {
          "text": "relevans"
         }
        },
        "yaxis2": {
         "anchor": "x2",
         "domain": [
          0,
          0.7326
         ],
         "matches": "y",
         "showgrid": true,
         "showticklabels": false
        },
        "yaxis3": {
         "anchor": "x3",
         "domain": [
          0.7426,
          1
         ],
         "matches": "y3",
         "showgrid": true,
         "showline": false,
         "showticklabels": false,
         "ticks": ""
        },
        "yaxis4": {
         "anchor": "x4",
         "domain": [
          0.7426,
          1
         ],
         "matches": "y3",
         "showgrid": true,
         "showline": false,
         "showticklabels": false,
         "ticks": ""
        }
       }
      },
      "text/html": [
       "<div>\n",
       "        \n",
       "        \n",
       "            <div id=\"cd3bddfb-4fad-4de9-84a9-67e7a476299b\" class=\"plotly-graph-div\" style=\"height:525px; width:100%;\"></div>\n",
       "            <script type=\"text/javascript\">\n",
       "                require([\"plotly\"], function(Plotly) {\n",
       "                    window.PLOTLYENV=window.PLOTLYENV || {};\n",
       "                    \n",
       "                if (document.getElementById(\"cd3bddfb-4fad-4de9-84a9-67e7a476299b\")) {\n",
       "                    Plotly.newPlot(\n",
       "                        'cd3bddfb-4fad-4de9-84a9-67e7a476299b',\n",
       "                        [{\"customdata\": [[\"Arkitekt\"], [\"Veterin\\u00e6rmedicin\"], [\"Designledelse\"], [\"Odontologi\"], [\"Jura\"], [\"Farmaci\"], [\"Lyd- og musikteknologi\"], [\"Farmaceutisk videnskab\"], [\"Tv\\u00e6rkulturelle studier\"], [\"Amerikanske studier\"], [\"Engelsk\"], [\"Medialogy\"], [\"Medicin og teknologi\"], [\"Humanbiologi\"], [\"Molecular Biology\"], [\"Musikvidenskab\"], [\"Informationsvidenskab og kulturformidling\"], [\"Human ern\\u00e6ring\"], [\"Erhvervssprog og international virksomhedskommunikation\"], [\"Industrielt design\"], [\"Religionsvidenskab\"], [\"Sundhedsteknologi\"], [\"Radiograf\"], [\"Bioteknologi\"], [\"Biologi-bioteknologi\"], [\"Landskabsarkitektur\"], [\"Corporate Communication\"], [\"Biokemi\"], [\"Byggeri\"], [\"Moderne kultur og kulturformidling\"], [\"Sygeplejerske\"], [\"Uddannelsesvidenskab\"], [\"Filosofi\"], [\"Bioinformatik\"], [\"Digital design og interaktive teknologier\"], [\"Astronomi\"], [\"Milj\\u00f8videnskab\"], [\"Global udvikling\"], [\"Samfundsvidenskabelig jura\"], [\"Fransk sprog, litteratur og kultur\"], [\"Tekstildesign, -h\\u00e5ndv\\u00e6rk og formidling\"], [\"Erhvervs\\u00f8konomi og virksomhedskommunikation\"], [\"Bygningsdesign\"], [\"F\\u00f8devareteknologi\"], [\"Audiologi\"], [\"Cultural Sociology\"], [\"Mechatronics Engineering\"], [\"Medicine with Industrial Specialisation\"], [\"Antropologi\"], [\"Biologi\"], [\"Anvendt kemi\"], [\"It-ledelse\"], [\"Molekyl\\u00e6r ern\\u00e6ring og f\\u00f8devareteknologi\"], [\"Film- og medievidenskab\"], [\"Erhvervs\\u00f8konomi og psykologi\"], [\"It, kommunikation og organisation\"], [\"Datalogi\"], [\"Fysik\"], [\"Olie- og gasteknologi\"], [\"Kultur, kommunikation og globalisering\"], [\"Dansk\"], [\"Erhvervs\\u00f8konomi - erhvervssprog, negot.\"], [\"Medicin\"], [\"Webudvikling\"], [\"Fysik og nanoteknologi\"], [\"Agronomi\"], [\"P\\u00e6dagogisk filosofi\"], [\"P\\u00e6dagogisk psykologi\"], [\"Husdyrvidenskab\"], [\"P\\u00e6dagogik\"], [\"Socialt arbejde\"], [\"\\u00d8konomi\"], [\"Erhvervs\\u00f8konomi og erhvervsjura\"], [\"It-design og applikationsudvikling\"], [\"Matematik-\\u00f8konomi\"], [\"Historie\"], [\"Bioanalytiker\"], [\"Design og business\"], [\"Forvaltning\"], [\"Kemi og bioteknologi\"], [\"Kultur og formidling\"], [\"Socialr\\u00e5dgiver\"], [\"Tysk\"], [\"Litteraturvidenskab\"], [\"Erhvervs\\u00f8konomi, cand.soc.\"], [\"Teologi\"], [\"Geologi\"], [\"Diplomingeni\\u00f8r - bygningsdesign\"], [\"Tandplejer\"], [\"It-didaktisk design\"], [\"Bioinformatik og systembiologi\"], [\"Jordbrugs\\u00f8konomi\"], [\"Fysioterapeut\"], [\"Samfundsfag\"], [\"Statskundskab\"], [\"Sociologi\"], [\"Erhvervs\\u00f8konomi, cand.merc.\"], [\"Designer\"], [\"Dramaturgi\"], [\"Teknologibaseret forretningsudvikling\"], [\"Mechanical Engineering\"], [\"Softwaredesign\"], [\"Agro-Environmental Management\"], [\"Transport og logistik\"], [\"Matematik\"], [\"Sundhedsfremme og sundhedsstrategier\"], [\"Kriminologi\"], [\"Socialvidenskab\"], [\"Ern\\u00e6ring og sundhed\"], [\"Kemi (civilingeni\\u00f8r)\"], [\"Diplomingeni\\u00f8r - softwareteknologi\"], [\"Digital innovation og management\"], [\"Kunsthistorie\"], [\"Digital design\"], [\"Psykologi\"], [\"Sundhedsfaglig kandidat\"], [\"Psykomotorisk terapeut\"], [\"Medievidenskab\"], [\"Ergoterapi\"], [\"Erhvervs\\u00f8konomi og filosofi\"], [\"Spansk sprog og kultur\"], [\"Mellem\\u00f8ststudier\"], [\"Molekyl\\u00e6r medicin\"], [\"Diplomingeni\\u00f8r - bygning\"], [\"Humanistisk-samfundsvidenskabelig idr\\u00e6tsvidenskab\"], [\"Informationsvidenskab\"], [\"Software\"], [\"Folkesundhedsvidenskab\"], [\"Diplomingeni\\u00f8r - elektrisk energiteknologi\"], [\"Audiologop\\u00e6di\"], [\"P\\u00e6dagogisk sociologi\"], [\"Nanoscience\"], [\"Klinisk sygepleje\"], [\"Sygepleje\"], [\"Anvendt kulturanalyse\"], [\"F\\u00f8devarevidenskab\"], [\"Geografi\"], [\"Optometrist\"], [\"Bygningskonstrukt\\u00f8r\"], [\"Ergoterapeut\"], [\"P\\u00e6dagog\"], [\"Arbejdslivsstudier\"], [\"Fysioterapi\"], [\"Have- og parkingeni\\u00f8r\"], [\"Kommunikation\"], [\"Klinisk ern\\u00e6ring\"], [\"Tourism\"], [\"Digitale medieteknologier\"], [\"Interaktive digitale medier\"], [\"International sikkerhed og folkeret\"], [\"Design og innovation\"], [\"Politisk kommunikation og ledelse\"], [\"Lingvistik\"], [\"Humanfysiologi\"], [\"Laboratorie- og f\\u00f8devareteknologi\"], [\"Medicinalkemi\"], [\"Journalistik\"], [\"Spil\"], [\"Offentlig administration\"], [\"\\u00c6stetik og kultur\"], [\"Softwareudvikling\"], [\"IT Product Design\"], [\"Kemi\"], [\"Revisorkandidat, cand.merc.aud.\"], [\"Jordemoder\"], [\"Oplevelses\\u00f8konomi\"], [\"Vision, Graphics and Interactive Systems\"], [\"Kemisk og biokemisk teknologi\"], [\"Energy Engineering\"], [\"Diplomingeni\\u00f8r - maskinteknik\"], [\"Industriel \\u00f8konomi og teknologiledelse\"], [\"Materiale- og procesteknologi\"], [\"Milj\\u00f8teknologi\"], [\"Byggeteknologi\"], [\"Geofysik\"], [\"Digital konceptudvikling\"], [\"Statistik\"], [\"Webkommunikation\"], [\"Informationsteknologi\"], [\"Farmateknologi\"], [\"Multimediedesigner\"], [\"International handel og markedsf\\u00f8ring\"], [\"Business Administration and Information Systems\"], [\"Maskinmester\"], [\"Politik og administration\"], [\"B\\u00e6redygtigt design\"], [\"Virksomhedsledelse\"], [\"Didaktik\"], [\"Energiteknologi\"], [\"Elektroteknologi\"], [\"L\\u00e6rer i folkeskolen\"], [\"Mekanik\"], [\"Diplomingeni\\u00f8r - elektronik\"], [\"L\\u00e6ring og forandringsprocesser\"], [\"International Hospitality Management\"], [\"Anvendt filosofi\"], [\"Diplomingeni\\u00f8r - eksport og teknologi\"], [\"Jordbrug\"], [\"Financial Controller\"], [\"P\\u00e6dagogisk antropologi\"], [\"Europastudier\"], [\"Administrations\\u00f8konom\"], [\"International Public Administration and Politics\"], [\"Matematisk modellering og computing\"], [\"Designteknolog\"], [\"Laborant\"], [\"Retorik\"], [\"IT-teknolog\"], [\"Konstruktion og mekanik\"], [\"Water and Environment Engineering\"], [\"Datamatiker\"], [\"Elinstallat\\u00f8r\"], [\"Finans\"], [\"Markedsf\\u00f8rings\\u00f8konom\"], [\"B\\u00e6redygtig energi\"], [\"Procesteknolog\"], [\"Lyd og akustisk teknologi\"], [\"Service\\u00f8konom\"], [\"Produktudvikling og teknisk integration\"], [\"Medieproduktion og ledelse\"], [\"It, l\\u00e6ring og organisatorisk omstilling\"], [\"Milj\\u00f8teknolog\"], [\"Innovation and Business\"], [\"Idr\\u00e6t\"], [\"Grafisk kommunikation\"], [\"\\u00d8konomi og informationsteknologi\"], [\"Veje og trafik\"], [\"Ledelse og informatik i byggeriet\"], [\"Logistik\\u00f8konom\"], [\"Diakoni og socialp\\u00e6dagogik\"], [\"Finans\\u00f8konom\"], [\"Visuel kommunikation\"], [\"Handels\\u00f8konom\"], [\"Multiplatform storytelling and production\"], [\"Jordbrugsteknolog\"], [\"Journalist\"], [\"Geofysik og rumteknologi\"], [\"Automationsteknolog\"], [\"Produktionsteknolog\"], [\"Kommunikation\"], [\"Landinspekt\\u00f8rvidenskab\"], [\"Tv- og medietilrettel\\u00e6ggelse\"], [\"Energiteknolog\"], [\"L\\u00e6rer fra Den frie L\\u00e6rerskole\"]], \"hoverlabel\": {\"namelength\": 0}, \"hovertemplate\": \"ledighed=%{x}<br>relevans=%{y}<br>Titel=%{customdata[0]}\", \"legendgroup\": \"\", \"marker\": {\"color\": \"#636efa\", \"symbol\": \"circle\"}, \"mode\": \"markers\", \"name\": \"\", \"showlegend\": false, \"type\": \"scatter\", \"x\": [11.0, 6.0, 27.0, 3.0, 5.0, 8.0, 13.0, 4.0, 23.0, 22.0, 22.0, 24.0, 4.0, 6.0, 17.0, 16.0, 19.0, 24.0, 18.0, 21.0, 24.0, 1.0, 3.0, 12.0, 14.0, 13.0, 12.0, 18.0, 1.0, 25.0, 1.0, 15.0, 30.0, 5.0, 12.0, 13.0, 10.0, 10.0, 5.0, 23.0, 21.0, 9.0, 14.0, 10.0, 8.0, 12.0, 7.0, 17.0, 23.0, 23.0, 12.0, 12.0, 14.0, 19.0, 7.0, 6.0, 3.0, 6.0, 10.0, 27.0, 16.0, 14.0, 1.0, 13.0, 5.0, 11.0, 17.0, 12.0, 12.0, 14.0, 10.0, 2.0, 6.0, 15.0, 3.0, 26.0, 5.0, 16.0, 11.0, 11.0, 36.0, 6.0, 16.0, 27.0, 7.0, 18.0, 17.0, 4.0, 8.0, 12.0, 8.0, 7.0, 6.0, 14.0, 6.0, 17.0, 7.0, 27.0, 24.0, 7.0, 6.0, 3.0, 18.0, 2.0, 3.0, 20.0, 18.0, 28.0, 11.0, 18.0, 5.0, 6.0, 31.0, 24.0, 10.0, 7.0, 20.0, 20.0, 5.0, 19.0, 22.0, 22.0, 14.0, 4.0, 10.0, 13.0, 3.0, 11.0, 3.0, 2.0, 13.0, 14.0, 1.0, 3.0, 23.0, 8.0, 13.0, 1.0, 7.0, 10.0, 8.0, 12.0, 5.0, 14.0, 22.0, 10.0, 19.0, 5.0, 37.0, 20.0, 6.0, 12.0, 14.0, 12.0, 13.0, 17.0, 12.0, 12.0, 12.0, 31.0, 7.0, 19.0, 12.0, 2.0, 2.0, 28.0, 4.0, 6.0, 5.0, 5.0, 4.0, 6.0, 11.0, 4.0, 18.0, 20.0, 2.0, 16.0, 0.0, 7.0, 15.0, 12.0, 6.0, 3.0, 18.0, 16.0, 16.0, 13.0, 22.0, 4.0, 6.0, 1.0, 5.0, 19.0, 13.0, 30.0, 12.0, 16.0, 10.0, 17.0, 26.0, 19.0, 10.0, 2.0, 12.0, 7.0, 18.0, 11.0, 2.0, 2.0, 10.0, 2.0, 4.0, 8.0, 12.0, 13.0, 2.0, 9.0, 15.0, 14.0, 16.0, 22.0, 7.0, 15.0, 19.0, 4.0, 1.0, 6.0, 7.0, 7.0, 6.0, 16.0, 8.0, 21.0, 10.0, 11.0, 11.0, 3.0, 10.0, 8.0, 4.0, 14.0, 12.0, 19.0], \"xaxis\": \"x\", \"y\": [3.53, 3.66, 3.29, 4.17, 3.73, 3.81, 3.25, 3.9, 3.4, 3.33, 3.53, 3.59, 3.8, 3.62, 3.81, 3.56, 3.37, 3.51, 3.37, 3.77, 3.49, 3.6, 4.02, 4.03, 3.83, 3.67, 3.39, 3.78, 3.85, 3.61, 3.49, 3.54, 3.69, 4.24, 3.75, 3.67, 3.58, 3.63, 4.0, 3.56, 3.23, 3.5, 3.9, 3.73, 3.35, 3.44, 4.0, 3.74, 3.79, 3.34, 4.0, 4.27, 3.88, 3.33, 3.67, 3.86, 3.84, 4.03, 3.81, 3.06, 3.64, 3.08, 4.06, 3.41, 4.04, 3.78, 3.35, 3.7, 3.6, 3.66, 3.58, 3.82, 3.9, 3.9, 3.6, 3.45, 3.62, 3.36, 3.83, 4.07, 3.38, 3.59, 3.61, 3.56, 3.41, 3.34, 3.69, 3.86, 3.85, 3.71, 3.95, 3.47, 3.6, 3.49, 3.79, 3.86, 3.58, 3.58, 3.79, 3.9, 4.03, 3.81, 3.33, 3.97, 3.67, 3.55, 3.13, 3.94, 3.25, 3.75, 3.66, 3.73, 3.38, 3.53, 3.42, 3.62, 3.63, 3.35, 3.58, 3.48, 3.54, 3.35, 3.9, 3.72, 3.56, 3.72, 4.18, 3.74, 3.45, 3.85, 3.47, 3.92, 3.7, 3.4, 3.39, 3.85, 3.59, 3.87, 3.72, 3.67, 3.67, 3.85, 3.55, 4.21, 3.48, 3.54, 2.97, 3.77, 3.59, 3.37, 3.92, 3.47, 4.08, 3.71, 3.53, 3.96, 3.56, 3.41, 3.55, 3.55, 3.61, 3.62, 3.8, 3.84, 4.31, 3.49, 4.33, 3.51, 4.16, 3.81, 3.88, 3.73, 3.87, 3.99, 3.29, 3.38, 3.78, 3.4, 3.95, 3.95, 3.21, 3.28, 3.67, 3.85, 3.59, 3.53, 3.65, 3.6, 2.82, 3.81, 3.25, 3.96, 3.73, 3.64, 3.21, 3.93, 3.31, 3.45, 3.74, 3.41, 3.13, 3.14, 3.33, 3.91, 3.37, 3.77, 3.68, 3.07, 3.88, 4.24, 3.64, 3.75, 3.63, 3.11, 3.62, 3.96, 4.3, 3.2, 3.33, 3.2, 3.63, 3.67, 3.86, 3.53, 4.19, 3.52, 4.1, 3.79, 3.48, 4.13, 3.47, 4.17, 3.3, 4.0, 3.65, 3.58, 3.93, 3.48, 3.36, 3.69, 3.45, 3.53, 3.32, 4.15], \"yaxis\": \"y\"}, {\"alignmentgroup\": \"True\", \"bingroup\": \"x\", \"hoverlabel\": {\"namelength\": 0}, \"hovertemplate\": \"ledighed=%{x}<br>count=%{y}\", \"legendgroup\": \"\", \"marker\": {\"color\": \"#636efa\"}, \"name\": \"\", \"offsetgroup\": \"\", \"opacity\": 0.5, \"showlegend\": false, \"type\": \"histogram\", \"x\": [11.0, 6.0, 27.0, 3.0, 5.0, 8.0, 13.0, 4.0, 23.0, 22.0, 22.0, 24.0, 4.0, 6.0, 17.0, 16.0, 19.0, 24.0, 18.0, 21.0, 24.0, 1.0, 3.0, 12.0, 14.0, 13.0, 12.0, 18.0, 1.0, 25.0, 1.0, 15.0, 30.0, 5.0, 12.0, 13.0, 10.0, 10.0, 5.0, 23.0, 21.0, 9.0, 14.0, 10.0, 8.0, 12.0, 7.0, 17.0, 23.0, 23.0, 12.0, 12.0, 14.0, 19.0, 7.0, 6.0, 3.0, 6.0, 10.0, 27.0, 16.0, 14.0, 1.0, 13.0, 5.0, 11.0, 17.0, 12.0, 12.0, 14.0, 10.0, 2.0, 6.0, 15.0, 3.0, 26.0, 5.0, 16.0, 11.0, 11.0, 36.0, 6.0, 16.0, 27.0, 7.0, 18.0, 17.0, 4.0, 8.0, 12.0, 8.0, 7.0, 6.0, 14.0, 6.0, 17.0, 7.0, 27.0, 24.0, 7.0, 6.0, 3.0, 18.0, 2.0, 3.0, 20.0, 18.0, 28.0, 11.0, 18.0, 5.0, 6.0, 31.0, 24.0, 10.0, 7.0, 20.0, 20.0, 5.0, 19.0, 22.0, 22.0, 14.0, 4.0, 10.0, 13.0, 3.0, 11.0, 3.0, 2.0, 13.0, 14.0, 1.0, 3.0, 23.0, 8.0, 13.0, 1.0, 7.0, 10.0, 8.0, 12.0, 5.0, 14.0, 22.0, 10.0, 19.0, 5.0, 37.0, 20.0, 6.0, 12.0, 14.0, 12.0, 13.0, 17.0, 12.0, 12.0, 12.0, 31.0, 7.0, 19.0, 12.0, 2.0, 2.0, 28.0, 4.0, 6.0, 5.0, 5.0, 4.0, 6.0, 11.0, 4.0, 18.0, 20.0, 2.0, 16.0, 0.0, 7.0, 15.0, 12.0, 6.0, 3.0, 18.0, 16.0, 16.0, 13.0, 22.0, 4.0, 6.0, 1.0, 5.0, 19.0, 13.0, 30.0, 12.0, 16.0, 10.0, 17.0, 26.0, 19.0, 10.0, 2.0, 12.0, 7.0, 18.0, 11.0, 2.0, 2.0, 10.0, 2.0, 4.0, 8.0, 12.0, 13.0, 2.0, 9.0, 15.0, 14.0, 16.0, 22.0, 7.0, 15.0, 19.0, 4.0, 1.0, 6.0, 7.0, 7.0, 6.0, 16.0, 8.0, 21.0, 10.0, 11.0, 11.0, 3.0, 10.0, 8.0, 4.0, 14.0, 12.0, 19.0], \"xaxis\": \"x3\", \"yaxis\": \"y3\"}, {\"alignmentgroup\": \"True\", \"bingroup\": \"y\", \"hoverlabel\": {\"namelength\": 0}, \"hovertemplate\": \"relevans=%{y}<br>count=%{x}\", \"legendgroup\": \"\", \"marker\": {\"color\": \"#636efa\"}, \"name\": \"\", \"offsetgroup\": \"\", \"opacity\": 0.5, \"showlegend\": false, \"type\": \"histogram\", \"xaxis\": \"x2\", \"y\": [3.53, 3.66, 3.29, 4.17, 3.73, 3.81, 3.25, 3.9, 3.4, 3.33, 3.53, 3.59, 3.8, 3.62, 3.81, 3.56, 3.37, 3.51, 3.37, 3.77, 3.49, 3.6, 4.02, 4.03, 3.83, 3.67, 3.39, 3.78, 3.85, 3.61, 3.49, 3.54, 3.69, 4.24, 3.75, 3.67, 3.58, 3.63, 4.0, 3.56, 3.23, 3.5, 3.9, 3.73, 3.35, 3.44, 4.0, 3.74, 3.79, 3.34, 4.0, 4.27, 3.88, 3.33, 3.67, 3.86, 3.84, 4.03, 3.81, 3.06, 3.64, 3.08, 4.06, 3.41, 4.04, 3.78, 3.35, 3.7, 3.6, 3.66, 3.58, 3.82, 3.9, 3.9, 3.6, 3.45, 3.62, 3.36, 3.83, 4.07, 3.38, 3.59, 3.61, 3.56, 3.41, 3.34, 3.69, 3.86, 3.85, 3.71, 3.95, 3.47, 3.6, 3.49, 3.79, 3.86, 3.58, 3.58, 3.79, 3.9, 4.03, 3.81, 3.33, 3.97, 3.67, 3.55, 3.13, 3.94, 3.25, 3.75, 3.66, 3.73, 3.38, 3.53, 3.42, 3.62, 3.63, 3.35, 3.58, 3.48, 3.54, 3.35, 3.9, 3.72, 3.56, 3.72, 4.18, 3.74, 3.45, 3.85, 3.47, 3.92, 3.7, 3.4, 3.39, 3.85, 3.59, 3.87, 3.72, 3.67, 3.67, 3.85, 3.55, 4.21, 3.48, 3.54, 2.97, 3.77, 3.59, 3.37, 3.92, 3.47, 4.08, 3.71, 3.53, 3.96, 3.56, 3.41, 3.55, 3.55, 3.61, 3.62, 3.8, 3.84, 4.31, 3.49, 4.33, 3.51, 4.16, 3.81, 3.88, 3.73, 3.87, 3.99, 3.29, 3.38, 3.78, 3.4, 3.95, 3.95, 3.21, 3.28, 3.67, 3.85, 3.59, 3.53, 3.65, 3.6, 2.82, 3.81, 3.25, 3.96, 3.73, 3.64, 3.21, 3.93, 3.31, 3.45, 3.74, 3.41, 3.13, 3.14, 3.33, 3.91, 3.37, 3.77, 3.68, 3.07, 3.88, 4.24, 3.64, 3.75, 3.63, 3.11, 3.62, 3.96, 4.3, 3.2, 3.33, 3.2, 3.63, 3.67, 3.86, 3.53, 4.19, 3.52, 4.1, 3.79, 3.48, 4.13, 3.47, 4.17, 3.3, 4.0, 3.65, 3.58, 3.93, 3.48, 3.36, 3.69, 3.45, 3.53, 3.32, 4.15], \"yaxis\": \"y2\"}, {\"hoverlabel\": {\"namelength\": 0}, \"hovertemplate\": \"<b>LOWESS trendline</b><br><br>ledighed=%{x}<br>relevans=%{y} <b>(trend)</b>\", \"legendgroup\": \"\", \"marker\": {\"color\": \"#636efa\", \"symbol\": \"circle\"}, \"mode\": \"lines\", \"name\": \"\", \"showlegend\": false, \"type\": \"scatter\", \"x\": [0.0, 1.0, 1.0, 1.0, 1.0, 1.0, 1.0, 1.0, 1.0, 2.0, 2.0, 2.0, 2.0, 2.0, 2.0, 2.0, 2.0, 2.0, 2.0, 2.0, 3.0, 3.0, 3.0, 3.0, 3.0, 3.0, 3.0, 3.0, 3.0, 3.0, 3.0, 4.0, 4.0, 4.0, 4.0, 4.0, 4.0, 4.0, 4.0, 4.0, 4.0, 4.0, 5.0, 5.0, 5.0, 5.0, 5.0, 5.0, 5.0, 5.0, 5.0, 5.0, 5.0, 5.0, 6.0, 6.0, 6.0, 6.0, 6.0, 6.0, 6.0, 6.0, 6.0, 6.0, 6.0, 6.0, 6.0, 6.0, 6.0, 6.0, 6.0, 7.0, 7.0, 7.0, 7.0, 7.0, 7.0, 7.0, 7.0, 7.0, 7.0, 7.0, 7.0, 7.0, 7.0, 8.0, 8.0, 8.0, 8.0, 8.0, 8.0, 8.0, 8.0, 8.0, 9.0, 9.0, 10.0, 10.0, 10.0, 10.0, 10.0, 10.0, 10.0, 10.0, 10.0, 10.0, 10.0, 10.0, 10.0, 10.0, 11.0, 11.0, 11.0, 11.0, 11.0, 11.0, 11.0, 11.0, 11.0, 11.0, 12.0, 12.0, 12.0, 12.0, 12.0, 12.0, 12.0, 12.0, 12.0, 12.0, 12.0, 12.0, 12.0, 12.0, 12.0, 12.0, 12.0, 12.0, 12.0, 12.0, 12.0, 13.0, 13.0, 13.0, 13.0, 13.0, 13.0, 13.0, 13.0, 13.0, 13.0, 13.0, 14.0, 14.0, 14.0, 14.0, 14.0, 14.0, 14.0, 14.0, 14.0, 14.0, 14.0, 14.0, 15.0, 15.0, 15.0, 15.0, 15.0, 16.0, 16.0, 16.0, 16.0, 16.0, 16.0, 16.0, 16.0, 16.0, 16.0, 17.0, 17.0, 17.0, 17.0, 17.0, 17.0, 17.0, 18.0, 18.0, 18.0, 18.0, 18.0, 18.0, 18.0, 18.0, 18.0, 19.0, 19.0, 19.0, 19.0, 19.0, 19.0, 19.0, 19.0, 19.0, 20.0, 20.0, 20.0, 20.0, 20.0, 21.0, 21.0, 21.0, 22.0, 22.0, 22.0, 22.0, 22.0, 22.0, 22.0, 23.0, 23.0, 23.0, 23.0, 23.0, 24.0, 24.0, 24.0, 24.0, 24.0, 25.0, 26.0, 26.0, 27.0, 27.0, 27.0, 27.0, 28.0, 28.0, 30.0, 30.0, 31.0, 31.0, 36.0, 37.0], \"xaxis\": \"x\", \"y\": [3.923458003421875, 3.892265684110329, 3.892265684110329, 3.892265684110329, 3.892265684110329, 3.892265684110329, 3.892265684110329, 3.892265684110329, 3.892265684110329, 3.8611575813191776, 3.8611575813191776, 3.8611575813191776, 3.8611575813191776, 3.8611575813191776, 3.8611575813191776, 3.8611575813191776, 3.8611575813191776, 3.8611575813191776, 3.8611575813191776, 3.8611575813191776, 3.830307492588841, 3.830307492588841, 3.830307492588841, 3.830307492588841, 3.830307492588841, 3.830307492588841, 3.830307492588841, 3.830307492588841, 3.830307492588841, 3.830307492588841, 3.830307492588841, 3.7996979449694797, 3.7996979449694797, 3.7996979449694797, 3.7996979449694797, 3.7996979449694797, 3.7996979449694797, 3.7996979449694797, 3.7996979449694797, 3.7996979449694797, 3.7996979449694797, 3.7996979449694797, 3.7693862449730826, 3.7693862449730826, 3.7693862449730826, 3.7693862449730826, 3.7693862449730826, 3.7693862449730826, 3.7693862449730826, 3.7693862449730826, 3.7693862449730826, 3.7693862449730826, 3.7693862449730826, 3.7693862449730826, 3.7394567498103957, 3.7394567498103957, 3.7394567498103957, 3.7394567498103957, 3.7394567498103957, 3.7394567498103957, 3.7394567498103957, 3.7394567498103957, 3.7394567498103957, 3.7394567498103957, 3.7394567498103957, 3.7394567498103957, 3.7394567498103957, 3.7394567498103957, 3.7394567498103957, 3.7394567498103957, 3.7394567498103957, 3.709777966496265, 3.709777966496265, 3.709777966496265, 3.709777966496265, 3.709777966496265, 3.709777966496265, 3.709777966496265, 3.709777966496265, 3.709777966496265, 3.709777966496265, 3.709777966496265, 3.709777966496265, 3.709777966496265, 3.709777966496265, 3.685348657102335, 3.685348657102335, 3.685348657102335, 3.685348657102335, 3.685348657102335, 3.685348657102335, 3.685348657102335, 3.685348657102335, 3.685348657102335, 3.6646235889526353, 3.6646235889526353, 3.6456725850642107, 3.6456725850642107, 3.6456725850642107, 3.6456725850642107, 3.6456725850642107, 3.6456725850642107, 3.6456725850642107, 3.6456725850642107, 3.6456725850642107, 3.6456725850642107, 3.6456725850642107, 3.6456725850642107, 3.6456725850642107, 3.6456725850642107, 3.6290349198979897, 3.6290349198979897, 3.6290349198979897, 3.6290349198979897, 3.6290349198979897, 3.6290349198979897, 3.6290349198979897, 3.6290349198979897, 3.6290349198979897, 3.6290349198979897, 3.6166808367991283, 3.6166808367991283, 3.6166808367991283, 3.6166808367991283, 3.6166808367991283, 3.6166808367991283, 3.6166808367991283, 3.6166808367991283, 3.6166808367991283, 3.6166808367991283, 3.6166808367991283, 3.6166808367991283, 3.6166808367991283, 3.6166808367991283, 3.6166808367991283, 3.6166808367991283, 3.6166808367991283, 3.6166808367991283, 3.6166808367991283, 3.6166808367991283, 3.6166808367991283, 3.6061245476903085, 3.6061245476903085, 3.6061245476903085, 3.6061245476903085, 3.6061245476903085, 3.6061245476903085, 3.6061245476903085, 3.6061245476903085, 3.6061245476903085, 3.6061245476903085, 3.6061245476903085, 3.59375443525039, 3.59375443525039, 3.59375443525039, 3.59375443525039, 3.59375443525039, 3.59375443525039, 3.59375443525039, 3.59375443525039, 3.59375443525039, 3.59375443525039, 3.59375443525039, 3.59375443525039, 3.5796874434594694, 3.5796874434594694, 3.5796874434594694, 3.5796874434594694, 3.5796874434594694, 3.56746240526616, 3.56746240526616, 3.56746240526616, 3.56746240526616, 3.56746240526616, 3.56746240526616, 3.56746240526616, 3.56746240526616, 3.56746240526616, 3.56746240526616, 3.557100049849159, 3.557100049849159, 3.557100049849159, 3.557100049849159, 3.557100049849159, 3.557100049849159, 3.557100049849159, 3.547257438813804, 3.547257438813804, 3.547257438813804, 3.547257438813804, 3.547257438813804, 3.547257438813804, 3.547257438813804, 3.547257438813804, 3.547257438813804, 3.537555314450238, 3.537555314450238, 3.537555314450238, 3.537555314450238, 3.537555314450238, 3.537555314450238, 3.537555314450238, 3.537555314450238, 3.537555314450238, 3.5306231175094847, 3.5306231175094847, 3.5306231175094847, 3.5306231175094847, 3.5306231175094847, 3.525794946735573, 3.525794946735573, 3.525794946735573, 3.5213621417101444, 3.5213621417101444, 3.5213621417101444, 3.5213621417101444, 3.5213621417101444, 3.5213621417101444, 3.5213621417101444, 3.5169079403165884, 3.5169079403165884, 3.5169079403165884, 3.5169079403165884, 3.5169079403165884, 3.5128381523033125, 3.5128381523033125, 3.5128381523033125, 3.5128381523033125, 3.5128381523033125, 3.5089959527607086, 3.5052084452473604, 3.5052084452473604, 3.5014284480864255, 3.5014284480864255, 3.5014284480864255, 3.5014284480864255, 3.4977084636316693, 3.4977084636316693, 3.4907900686025664, 3.4907900686025664, 3.487687509272016, 3.487687509272016, 3.47515743365804, 3.473109961947603], \"yaxis\": \"y\"}],\n",
       "                        {\"barmode\": \"overlay\", \"legend\": {\"tracegroupgap\": 0}, \"shapes\": [{\"fillcolor\": \"LightSkyBlue\", \"layer\": \"below\", \"line\": {\"width\": 0}, \"opacity\": 0.5, \"type\": \"rect\", \"x0\": 11.115261697226948, \"x1\": 13.024082565068134, \"xref\": \"x\", \"y0\": 2.82, \"y1\": 4.33, \"yref\": \"y\"}, {\"fillcolor\": \"LightSkyBlue\", \"layer\": \"below\", \"line\": {\"width\": 0}, \"opacity\": 0.5, \"type\": \"rect\", \"x0\": 0.0, \"x1\": 37.0, \"xref\": \"x\", \"y0\": 3.6186625814545086, \"y1\": 3.6876488939553282, \"yref\": \"y\"}], \"template\": {\"data\": {\"bar\": [{\"error_x\": {\"color\": \"#2a3f5f\"}, \"error_y\": {\"color\": \"#2a3f5f\"}, \"marker\": {\"line\": {\"color\": \"#E5ECF6\", \"width\": 0.5}}, \"type\": \"bar\"}], \"barpolar\": [{\"marker\": {\"line\": {\"color\": \"#E5ECF6\", \"width\": 0.5}}, \"type\": \"barpolar\"}], \"carpet\": [{\"aaxis\": {\"endlinecolor\": \"#2a3f5f\", \"gridcolor\": \"white\", \"linecolor\": \"white\", \"minorgridcolor\": \"white\", \"startlinecolor\": \"#2a3f5f\"}, \"baxis\": {\"endlinecolor\": \"#2a3f5f\", \"gridcolor\": \"white\", \"linecolor\": \"white\", \"minorgridcolor\": \"white\", \"startlinecolor\": \"#2a3f5f\"}, \"type\": \"carpet\"}], \"choropleth\": [{\"colorbar\": {\"outlinewidth\": 0, \"ticks\": \"\"}, \"type\": \"choropleth\"}], \"contour\": [{\"colorbar\": {\"outlinewidth\": 0, \"ticks\": \"\"}, \"colorscale\": [[0.0, \"#0d0887\"], [0.1111111111111111, \"#46039f\"], [0.2222222222222222, \"#7201a8\"], [0.3333333333333333, \"#9c179e\"], [0.4444444444444444, \"#bd3786\"], [0.5555555555555556, \"#d8576b\"], [0.6666666666666666, \"#ed7953\"], [0.7777777777777778, \"#fb9f3a\"], [0.8888888888888888, \"#fdca26\"], [1.0, \"#f0f921\"]], \"type\": \"contour\"}], \"contourcarpet\": [{\"colorbar\": {\"outlinewidth\": 0, \"ticks\": \"\"}, \"type\": \"contourcarpet\"}], \"heatmap\": [{\"colorbar\": {\"outlinewidth\": 0, \"ticks\": \"\"}, \"colorscale\": [[0.0, \"#0d0887\"], [0.1111111111111111, \"#46039f\"], [0.2222222222222222, \"#7201a8\"], [0.3333333333333333, \"#9c179e\"], [0.4444444444444444, \"#bd3786\"], [0.5555555555555556, \"#d8576b\"], [0.6666666666666666, \"#ed7953\"], [0.7777777777777778, \"#fb9f3a\"], [0.8888888888888888, \"#fdca26\"], [1.0, \"#f0f921\"]], \"type\": \"heatmap\"}], \"heatmapgl\": [{\"colorbar\": {\"outlinewidth\": 0, \"ticks\": \"\"}, \"colorscale\": [[0.0, \"#0d0887\"], [0.1111111111111111, \"#46039f\"], [0.2222222222222222, \"#7201a8\"], [0.3333333333333333, \"#9c179e\"], [0.4444444444444444, \"#bd3786\"], [0.5555555555555556, \"#d8576b\"], [0.6666666666666666, \"#ed7953\"], [0.7777777777777778, \"#fb9f3a\"], [0.8888888888888888, \"#fdca26\"], [1.0, \"#f0f921\"]], \"type\": \"heatmapgl\"}], \"histogram\": [{\"marker\": {\"colorbar\": {\"outlinewidth\": 0, \"ticks\": \"\"}}, \"type\": \"histogram\"}], \"histogram2d\": [{\"colorbar\": {\"outlinewidth\": 0, \"ticks\": \"\"}, \"colorscale\": [[0.0, \"#0d0887\"], [0.1111111111111111, \"#46039f\"], [0.2222222222222222, \"#7201a8\"], [0.3333333333333333, \"#9c179e\"], [0.4444444444444444, \"#bd3786\"], [0.5555555555555556, \"#d8576b\"], [0.6666666666666666, \"#ed7953\"], [0.7777777777777778, \"#fb9f3a\"], [0.8888888888888888, \"#fdca26\"], [1.0, \"#f0f921\"]], \"type\": \"histogram2d\"}], \"histogram2dcontour\": [{\"colorbar\": {\"outlinewidth\": 0, \"ticks\": \"\"}, \"colorscale\": [[0.0, \"#0d0887\"], [0.1111111111111111, \"#46039f\"], [0.2222222222222222, \"#7201a8\"], [0.3333333333333333, \"#9c179e\"], [0.4444444444444444, \"#bd3786\"], [0.5555555555555556, \"#d8576b\"], [0.6666666666666666, \"#ed7953\"], [0.7777777777777778, \"#fb9f3a\"], [0.8888888888888888, \"#fdca26\"], [1.0, \"#f0f921\"]], \"type\": \"histogram2dcontour\"}], \"mesh3d\": [{\"colorbar\": {\"outlinewidth\": 0, \"ticks\": \"\"}, \"type\": \"mesh3d\"}], \"parcoords\": [{\"line\": {\"colorbar\": {\"outlinewidth\": 0, \"ticks\": \"\"}}, \"type\": \"parcoords\"}], \"pie\": [{\"automargin\": true, \"type\": \"pie\"}], \"scatter\": [{\"marker\": {\"colorbar\": {\"outlinewidth\": 0, \"ticks\": \"\"}}, \"type\": \"scatter\"}], \"scatter3d\": [{\"line\": {\"colorbar\": {\"outlinewidth\": 0, \"ticks\": \"\"}}, \"marker\": {\"colorbar\": {\"outlinewidth\": 0, \"ticks\": \"\"}}, \"type\": \"scatter3d\"}], \"scattercarpet\": [{\"marker\": {\"colorbar\": {\"outlinewidth\": 0, \"ticks\": \"\"}}, \"type\": \"scattercarpet\"}], \"scattergeo\": [{\"marker\": {\"colorbar\": {\"outlinewidth\": 0, \"ticks\": \"\"}}, \"type\": \"scattergeo\"}], \"scattergl\": [{\"marker\": {\"colorbar\": {\"outlinewidth\": 0, \"ticks\": \"\"}}, \"type\": \"scattergl\"}], \"scattermapbox\": [{\"marker\": {\"colorbar\": {\"outlinewidth\": 0, \"ticks\": \"\"}}, \"type\": \"scattermapbox\"}], \"scatterpolar\": [{\"marker\": {\"colorbar\": {\"outlinewidth\": 0, \"ticks\": \"\"}}, \"type\": \"scatterpolar\"}], \"scatterpolargl\": [{\"marker\": {\"colorbar\": {\"outlinewidth\": 0, \"ticks\": \"\"}}, \"type\": \"scatterpolargl\"}], \"scatterternary\": [{\"marker\": {\"colorbar\": {\"outlinewidth\": 0, \"ticks\": \"\"}}, \"type\": \"scatterternary\"}], \"surface\": [{\"colorbar\": {\"outlinewidth\": 0, \"ticks\": \"\"}, \"colorscale\": [[0.0, \"#0d0887\"], [0.1111111111111111, \"#46039f\"], [0.2222222222222222, \"#7201a8\"], [0.3333333333333333, \"#9c179e\"], [0.4444444444444444, \"#bd3786\"], [0.5555555555555556, \"#d8576b\"], [0.6666666666666666, \"#ed7953\"], [0.7777777777777778, \"#fb9f3a\"], [0.8888888888888888, \"#fdca26\"], [1.0, \"#f0f921\"]], \"type\": \"surface\"}], \"table\": [{\"cells\": {\"fill\": {\"color\": \"#EBF0F8\"}, \"line\": {\"color\": \"white\"}}, \"header\": {\"fill\": {\"color\": \"#C8D4E3\"}, \"line\": {\"color\": \"white\"}}, \"type\": \"table\"}]}, \"layout\": {\"annotationdefaults\": {\"arrowcolor\": \"#2a3f5f\", \"arrowhead\": 0, \"arrowwidth\": 1}, \"coloraxis\": {\"colorbar\": {\"outlinewidth\": 0, \"ticks\": \"\"}}, \"colorscale\": {\"diverging\": [[0, \"#8e0152\"], [0.1, \"#c51b7d\"], [0.2, \"#de77ae\"], [0.3, \"#f1b6da\"], [0.4, \"#fde0ef\"], [0.5, \"#f7f7f7\"], [0.6, \"#e6f5d0\"], [0.7, \"#b8e186\"], [0.8, \"#7fbc41\"], [0.9, \"#4d9221\"], [1, \"#276419\"]], \"sequential\": [[0.0, \"#0d0887\"], [0.1111111111111111, \"#46039f\"], [0.2222222222222222, \"#7201a8\"], [0.3333333333333333, \"#9c179e\"], [0.4444444444444444, \"#bd3786\"], [0.5555555555555556, \"#d8576b\"], [0.6666666666666666, \"#ed7953\"], [0.7777777777777778, \"#fb9f3a\"], [0.8888888888888888, \"#fdca26\"], [1.0, \"#f0f921\"]], \"sequentialminus\": [[0.0, \"#0d0887\"], [0.1111111111111111, \"#46039f\"], [0.2222222222222222, \"#7201a8\"], [0.3333333333333333, \"#9c179e\"], [0.4444444444444444, \"#bd3786\"], [0.5555555555555556, \"#d8576b\"], [0.6666666666666666, \"#ed7953\"], [0.7777777777777778, \"#fb9f3a\"], [0.8888888888888888, \"#fdca26\"], [1.0, \"#f0f921\"]]}, \"colorway\": [\"#636efa\", \"#EF553B\", \"#00cc96\", \"#ab63fa\", \"#FFA15A\", \"#19d3f3\", \"#FF6692\", \"#B6E880\", \"#FF97FF\", \"#FECB52\"], \"font\": {\"color\": \"#2a3f5f\"}, \"geo\": {\"bgcolor\": \"white\", \"lakecolor\": \"white\", \"landcolor\": \"#E5ECF6\", \"showlakes\": true, \"showland\": true, \"subunitcolor\": \"white\"}, \"hoverlabel\": {\"align\": \"left\"}, \"hovermode\": \"closest\", \"mapbox\": {\"style\": \"light\"}, \"paper_bgcolor\": \"white\", \"plot_bgcolor\": \"#E5ECF6\", \"polar\": {\"angularaxis\": {\"gridcolor\": \"white\", \"linecolor\": \"white\", \"ticks\": \"\"}, \"bgcolor\": \"#E5ECF6\", \"radialaxis\": {\"gridcolor\": \"white\", \"linecolor\": \"white\", \"ticks\": \"\"}}, \"scene\": {\"xaxis\": {\"backgroundcolor\": \"#E5ECF6\", \"gridcolor\": \"white\", \"gridwidth\": 2, \"linecolor\": \"white\", \"showbackground\": true, \"ticks\": \"\", \"zerolinecolor\": \"white\"}, \"yaxis\": {\"backgroundcolor\": \"#E5ECF6\", \"gridcolor\": \"white\", \"gridwidth\": 2, \"linecolor\": \"white\", \"showbackground\": true, \"ticks\": \"\", \"zerolinecolor\": \"white\"}, \"zaxis\": {\"backgroundcolor\": \"#E5ECF6\", \"gridcolor\": \"white\", \"gridwidth\": 2, \"linecolor\": \"white\", \"showbackground\": true, \"ticks\": \"\", \"zerolinecolor\": \"white\"}}, \"shapedefaults\": {\"line\": {\"color\": \"#2a3f5f\"}}, \"ternary\": {\"aaxis\": {\"gridcolor\": \"white\", \"linecolor\": \"white\", \"ticks\": \"\"}, \"baxis\": {\"gridcolor\": \"white\", \"linecolor\": \"white\", \"ticks\": \"\"}, \"bgcolor\": \"#E5ECF6\", \"caxis\": {\"gridcolor\": \"white\", \"linecolor\": \"white\", \"ticks\": \"\"}}, \"title\": {\"x\": 0.05}, \"xaxis\": {\"automargin\": true, \"gridcolor\": \"white\", \"linecolor\": \"white\", \"ticks\": \"\", \"title\": {\"standoff\": 15}, \"zerolinecolor\": \"white\", \"zerolinewidth\": 2}, \"yaxis\": {\"automargin\": true, \"gridcolor\": \"white\", \"linecolor\": \"white\", \"ticks\": \"\", \"title\": {\"standoff\": 15}, \"zerolinecolor\": \"white\", \"zerolinewidth\": 2}}}, \"title\": {\"text\": \"ledighed vs. relevans\"}, \"xaxis\": {\"anchor\": \"y\", \"domain\": [0.0, 0.7363], \"title\": {\"text\": \"ledighed\"}}, \"xaxis2\": {\"anchor\": \"y2\", \"domain\": [0.7413, 1.0], \"matches\": \"x2\", \"showgrid\": true, \"showline\": false, \"showticklabels\": false, \"ticks\": \"\"}, \"xaxis3\": {\"anchor\": \"y3\", \"domain\": [0.0, 0.7363], \"matches\": \"x\", \"showgrid\": true, \"showticklabels\": false}, \"xaxis4\": {\"anchor\": \"y4\", \"domain\": [0.7413, 1.0], \"matches\": \"x2\", \"showgrid\": true, \"showline\": false, \"showticklabels\": false, \"ticks\": \"\"}, \"yaxis\": {\"anchor\": \"x\", \"domain\": [0.0, 0.7326], \"title\": {\"text\": \"relevans\"}}, \"yaxis2\": {\"anchor\": \"x2\", \"domain\": [0.0, 0.7326], \"matches\": \"y\", \"showgrid\": true, \"showticklabels\": false}, \"yaxis3\": {\"anchor\": \"x3\", \"domain\": [0.7426, 1.0], \"matches\": \"y3\", \"showgrid\": true, \"showline\": false, \"showticklabels\": false, \"ticks\": \"\"}, \"yaxis4\": {\"anchor\": \"x4\", \"domain\": [0.7426, 1.0], \"matches\": \"y3\", \"showgrid\": true, \"showline\": false, \"showticklabels\": false, \"ticks\": \"\"}},\n",
       "                        {\"responsive\": true}\n",
       "                    ).then(function(){\n",
       "                            \n",
       "var gd = document.getElementById('cd3bddfb-4fad-4de9-84a9-67e7a476299b');\n",
       "var x = new MutationObserver(function (mutations, observer) {{\n",
       "        var display = window.getComputedStyle(gd).display;\n",
       "        if (!display || display === 'none') {{\n",
       "            console.log([gd, 'removed!']);\n",
       "            Plotly.purge(gd);\n",
       "            observer.disconnect();\n",
       "        }}\n",
       "}});\n",
       "\n",
       "// Listen for the removal of the full notebook cells\n",
       "var notebookContainer = gd.closest('#notebook-container');\n",
       "if (notebookContainer) {{\n",
       "    x.observe(notebookContainer, {childList: true});\n",
       "}}\n",
       "\n",
       "// Listen for the clearing of the current output cell\n",
       "var outputEl = gd.closest('.output');\n",
       "if (outputEl) {{\n",
       "    x.observe(outputEl, {childList: true});\n",
       "}}\n",
       "\n",
       "                        })\n",
       "                };\n",
       "                });\n",
       "            </script>\n",
       "        </div>"
      ]
     },
     "metadata": {},
     "output_type": "display_data"
    },
    {
     "data": {
      "application/vnd.plotly.v1+json": {
       "config": {
        "plotlyServerURL": "https://plot.ly"
       },
       "data": [
        {
         "customdata": [
          [
           "Arkitekt"
          ],
          [
           "Veterinærmedicin"
          ],
          [
           "Designledelse"
          ],
          [
           "Odontologi"
          ],
          [
           "Jura"
          ],
          [
           "Farmaci"
          ],
          [
           "Lyd- og musikteknologi"
          ],
          [
           "Farmaceutisk videnskab"
          ],
          [
           "Tværkulturelle studier"
          ],
          [
           "Amerikanske studier"
          ],
          [
           "Engelsk"
          ],
          [
           "Medialogy"
          ],
          [
           "Medicin og teknologi"
          ],
          [
           "Humanbiologi"
          ],
          [
           "Molecular Biology"
          ],
          [
           "Musikvidenskab"
          ],
          [
           "Informationsvidenskab og kulturformidling"
          ],
          [
           "Human ernæring"
          ],
          [
           "Erhvervssprog og international virksomhedskommunikation"
          ],
          [
           "Industrielt design"
          ],
          [
           "Religionsvidenskab"
          ],
          [
           "Sundhedsteknologi"
          ],
          [
           "Radiograf"
          ],
          [
           "Bioteknologi"
          ],
          [
           "Biologi-bioteknologi"
          ],
          [
           "Landskabsarkitektur"
          ],
          [
           "Corporate Communication"
          ],
          [
           "Biokemi"
          ],
          [
           "Byggeri"
          ],
          [
           "Moderne kultur og kulturformidling"
          ],
          [
           "Sygeplejerske"
          ],
          [
           "Uddannelsesvidenskab"
          ],
          [
           "Filosofi"
          ],
          [
           "Bioinformatik"
          ],
          [
           "Digital design og interaktive teknologier"
          ],
          [
           "Astronomi"
          ],
          [
           "Miljøvidenskab"
          ],
          [
           "Global udvikling"
          ],
          [
           "Samfundsvidenskabelig jura"
          ],
          [
           "Fransk sprog, litteratur og kultur"
          ],
          [
           "Tekstildesign, -håndværk og formidling"
          ],
          [
           "Erhvervsøkonomi og virksomhedskommunikation"
          ],
          [
           "Bygningsdesign"
          ],
          [
           "Fødevareteknologi"
          ],
          [
           "Audiologi"
          ],
          [
           "Cultural Sociology"
          ],
          [
           "Mechatronics Engineering"
          ],
          [
           "Medicine with Industrial Specialisation"
          ],
          [
           "Antropologi"
          ],
          [
           "Biologi"
          ],
          [
           "Anvendt kemi"
          ],
          [
           "It-ledelse"
          ],
          [
           "Molekylær ernæring og fødevareteknologi"
          ],
          [
           "Film- og medievidenskab"
          ],
          [
           "Erhvervsøkonomi og psykologi"
          ],
          [
           "It, kommunikation og organisation"
          ],
          [
           "Datalogi"
          ],
          [
           "Fysik"
          ],
          [
           "Olie- og gasteknologi"
          ],
          [
           "Kultur, kommunikation og globalisering"
          ],
          [
           "Dansk"
          ],
          [
           "Erhvervsøkonomi - erhvervssprog, negot."
          ],
          [
           "Medicin"
          ],
          [
           "Webudvikling"
          ],
          [
           "Fysik og nanoteknologi"
          ],
          [
           "Agronomi"
          ],
          [
           "Pædagogisk filosofi"
          ],
          [
           "Pædagogisk psykologi"
          ],
          [
           "Husdyrvidenskab"
          ],
          [
           "Pædagogik"
          ],
          [
           "Socialt arbejde"
          ],
          [
           "Økonomi"
          ],
          [
           "Erhvervsøkonomi og erhvervsjura"
          ],
          [
           "It-design og applikationsudvikling"
          ],
          [
           "Matematik-økonomi"
          ],
          [
           "Historie"
          ],
          [
           "Bioanalytiker"
          ],
          [
           "Design og business"
          ],
          [
           "Forvaltning"
          ],
          [
           "Kemi og bioteknologi"
          ],
          [
           "Kultur og formidling"
          ],
          [
           "Socialrådgiver"
          ],
          [
           "Tysk"
          ],
          [
           "Litteraturvidenskab"
          ],
          [
           "Erhvervsøkonomi, cand.soc."
          ],
          [
           "Teologi"
          ],
          [
           "Geologi"
          ],
          [
           "Diplomingeniør - bygningsdesign"
          ],
          [
           "Tandplejer"
          ],
          [
           "It-didaktisk design"
          ],
          [
           "Bioinformatik og systembiologi"
          ],
          [
           "Jordbrugsøkonomi"
          ],
          [
           "Fysioterapeut"
          ],
          [
           "Samfundsfag"
          ],
          [
           "Statskundskab"
          ],
          [
           "Sociologi"
          ],
          [
           "Erhvervsøkonomi, cand.merc."
          ],
          [
           "Designer"
          ],
          [
           "Dramaturgi"
          ],
          [
           "Teknologibaseret forretningsudvikling"
          ],
          [
           "Mechanical Engineering"
          ],
          [
           "Softwaredesign"
          ],
          [
           "Agro-Environmental Management"
          ],
          [
           "Transport og logistik"
          ],
          [
           "Matematik"
          ],
          [
           "Sundhedsfremme og sundhedsstrategier"
          ],
          [
           "Kriminologi"
          ],
          [
           "Socialvidenskab"
          ],
          [
           "Ernæring og sundhed"
          ],
          [
           "Kemi (civilingeniør)"
          ],
          [
           "Diplomingeniør - softwareteknologi"
          ],
          [
           "Digital innovation og management"
          ],
          [
           "Kunsthistorie"
          ],
          [
           "Digital design"
          ],
          [
           "Psykologi"
          ],
          [
           "Sundhedsfaglig kandidat"
          ],
          [
           "Psykomotorisk terapeut"
          ],
          [
           "Medievidenskab"
          ],
          [
           "Ergoterapi"
          ],
          [
           "Erhvervsøkonomi og filosofi"
          ],
          [
           "Spansk sprog og kultur"
          ],
          [
           "Mellemøststudier"
          ],
          [
           "Molekylær medicin"
          ],
          [
           "Diplomingeniør - bygning"
          ],
          [
           "Humanistisk-samfundsvidenskabelig idrætsvidenskab"
          ],
          [
           "Informationsvidenskab"
          ],
          [
           "Software"
          ],
          [
           "Folkesundhedsvidenskab"
          ],
          [
           "Diplomingeniør - elektrisk energiteknologi"
          ],
          [
           "Audiologopædi"
          ],
          [
           "Pædagogisk sociologi"
          ],
          [
           "Nanoscience"
          ],
          [
           "Klinisk sygepleje"
          ],
          [
           "Sygepleje"
          ],
          [
           "Anvendt kulturanalyse"
          ],
          [
           "Fødevarevidenskab"
          ],
          [
           "Geografi"
          ],
          [
           "Optometrist"
          ],
          [
           "Bygningskonstruktør"
          ],
          [
           "Ergoterapeut"
          ],
          [
           "Pædagog"
          ],
          [
           "Arbejdslivsstudier"
          ],
          [
           "Fysioterapi"
          ],
          [
           "Have- og parkingeniør"
          ],
          [
           "Kommunikation"
          ],
          [
           "Klinisk ernæring"
          ],
          [
           "Tourism"
          ],
          [
           "Digitale medieteknologier"
          ],
          [
           "Interaktive digitale medier"
          ],
          [
           "International sikkerhed og folkeret"
          ],
          [
           "Design og innovation"
          ],
          [
           "Politisk kommunikation og ledelse"
          ],
          [
           "Lingvistik"
          ],
          [
           "Humanfysiologi"
          ],
          [
           "Laboratorie- og fødevareteknologi"
          ],
          [
           "Medicinalkemi"
          ],
          [
           "Journalistik"
          ],
          [
           "Spil"
          ],
          [
           "Offentlig administration"
          ],
          [
           "Æstetik og kultur"
          ],
          [
           "Softwareudvikling"
          ],
          [
           "IT Product Design"
          ],
          [
           "Kemi"
          ],
          [
           "Revisorkandidat, cand.merc.aud."
          ],
          [
           "Jordemoder"
          ],
          [
           "Oplevelsesøkonomi"
          ],
          [
           "Vision, Graphics and Interactive Systems"
          ],
          [
           "Kemisk og biokemisk teknologi"
          ],
          [
           "Energy Engineering"
          ],
          [
           "Diplomingeniør - maskinteknik"
          ],
          [
           "Industriel økonomi og teknologiledelse"
          ],
          [
           "Materiale- og procesteknologi"
          ],
          [
           "Miljøteknologi"
          ],
          [
           "Byggeteknologi"
          ],
          [
           "Geofysik"
          ],
          [
           "Digital konceptudvikling"
          ],
          [
           "Statistik"
          ],
          [
           "Webkommunikation"
          ],
          [
           "Informationsteknologi"
          ],
          [
           "Farmateknologi"
          ],
          [
           "Multimediedesigner"
          ],
          [
           "International handel og markedsføring"
          ],
          [
           "Business Administration and Information Systems"
          ],
          [
           "Maskinmester"
          ],
          [
           "Politik og administration"
          ],
          [
           "Bæredygtigt design"
          ],
          [
           "Virksomhedsledelse"
          ],
          [
           "Didaktik"
          ],
          [
           "Energiteknologi"
          ],
          [
           "Elektroteknologi"
          ],
          [
           "Lærer i folkeskolen"
          ],
          [
           "Mekanik"
          ],
          [
           "Diplomingeniør - elektronik"
          ],
          [
           "Læring og forandringsprocesser"
          ],
          [
           "International Hospitality Management"
          ],
          [
           "Anvendt filosofi"
          ],
          [
           "Diplomingeniør - eksport og teknologi"
          ],
          [
           "Jordbrug"
          ],
          [
           "Financial Controller"
          ],
          [
           "Pædagogisk antropologi"
          ],
          [
           "Europastudier"
          ],
          [
           "Administrationsøkonom"
          ],
          [
           "International Public Administration and Politics"
          ],
          [
           "Matematisk modellering og computing"
          ],
          [
           "Designteknolog"
          ],
          [
           "Laborant"
          ],
          [
           "Retorik"
          ],
          [
           "IT-teknolog"
          ],
          [
           "Konstruktion og mekanik"
          ],
          [
           "Water and Environment Engineering"
          ],
          [
           "Datamatiker"
          ],
          [
           "Elinstallatør"
          ],
          [
           "Finans"
          ],
          [
           "Markedsføringsøkonom"
          ],
          [
           "Bæredygtig energi"
          ],
          [
           "Procesteknolog"
          ],
          [
           "Lyd og akustisk teknologi"
          ],
          [
           "Serviceøkonom"
          ],
          [
           "Produktudvikling og teknisk integration"
          ],
          [
           "Medieproduktion og ledelse"
          ],
          [
           "It, læring og organisatorisk omstilling"
          ],
          [
           "Miljøteknolog"
          ],
          [
           "Innovation and Business"
          ],
          [
           "Idræt"
          ],
          [
           "Grafisk kommunikation"
          ],
          [
           "Økonomi og informationsteknologi"
          ],
          [
           "Veje og trafik"
          ],
          [
           "Ledelse og informatik i byggeriet"
          ],
          [
           "Logistikøkonom"
          ],
          [
           "Diakoni og socialpædagogik"
          ],
          [
           "Finansøkonom"
          ],
          [
           "Visuel kommunikation"
          ],
          [
           "Handelsøkonom"
          ],
          [
           "Multiplatform storytelling and production"
          ],
          [
           "Jordbrugsteknolog"
          ],
          [
           "Journalist"
          ],
          [
           "Geofysik og rumteknologi"
          ],
          [
           "Automationsteknolog"
          ],
          [
           "Produktionsteknolog"
          ],
          [
           "Kommunikation"
          ],
          [
           "Landinspektørvidenskab"
          ],
          [
           "Tv- og medietilrettelæggelse"
          ],
          [
           "Energiteknolog"
          ],
          [
           "Lærer fra Den frie Lærerskole"
          ]
         ],
         "hoverlabel": {
          "namelength": 0
         },
         "hovertemplate": "ledighed=%{x}<br>faglighed=%{y}<br>Titel=%{customdata[0]}",
         "legendgroup": "",
         "marker": {
          "color": "#636efa",
          "symbol": "circle"
         },
         "mode": "markers",
         "name": "",
         "showlegend": false,
         "type": "scatter",
         "x": [
          11,
          6,
          27,
          3,
          5,
          8,
          13,
          4,
          23,
          22,
          22,
          24,
          4,
          6,
          17,
          16,
          19,
          24,
          18,
          21,
          24,
          1,
          3,
          12,
          14,
          13,
          12,
          18,
          1,
          25,
          1,
          15,
          30,
          5,
          12,
          13,
          10,
          10,
          5,
          23,
          21,
          9,
          14,
          10,
          8,
          12,
          7,
          17,
          23,
          23,
          12,
          12,
          14,
          19,
          7,
          6,
          3,
          6,
          10,
          27,
          16,
          14,
          1,
          13,
          5,
          11,
          17,
          12,
          12,
          14,
          10,
          2,
          6,
          15,
          3,
          26,
          5,
          16,
          11,
          11,
          36,
          6,
          16,
          27,
          7,
          18,
          17,
          4,
          8,
          12,
          8,
          7,
          6,
          14,
          6,
          17,
          7,
          27,
          24,
          7,
          6,
          3,
          18,
          2,
          3,
          20,
          18,
          28,
          11,
          18,
          5,
          6,
          31,
          24,
          10,
          7,
          20,
          20,
          5,
          19,
          22,
          22,
          14,
          4,
          10,
          13,
          3,
          11,
          3,
          2,
          13,
          14,
          1,
          3,
          23,
          8,
          13,
          1,
          7,
          10,
          8,
          12,
          5,
          14,
          22,
          10,
          19,
          5,
          37,
          20,
          6,
          12,
          14,
          12,
          13,
          17,
          12,
          12,
          12,
          31,
          7,
          19,
          12,
          2,
          2,
          28,
          4,
          6,
          5,
          5,
          4,
          6,
          11,
          4,
          18,
          20,
          2,
          16,
          0,
          7,
          15,
          12,
          6,
          3,
          18,
          16,
          16,
          13,
          22,
          4,
          6,
          1,
          5,
          19,
          13,
          30,
          12,
          16,
          10,
          17,
          26,
          19,
          10,
          2,
          12,
          7,
          18,
          11,
          2,
          2,
          10,
          2,
          4,
          8,
          12,
          13,
          2,
          9,
          15,
          14,
          16,
          22,
          7,
          15,
          19,
          4,
          1,
          6,
          7,
          7,
          6,
          16,
          8,
          21,
          10,
          11,
          11,
          3,
          10,
          8,
          4,
          14,
          12,
          19
         ],
         "xaxis": "x",
         "y": [
          4.46,
          4.74,
          4.53,
          4.4,
          4.37,
          4.41,
          4.2,
          4.25,
          4.73,
          4.4,
          4.64,
          4.53,
          4.49,
          4.69,
          4.65,
          4.68,
          4.49,
          4.52,
          4.49,
          3.79,
          4.73,
          4.65,
          4.42,
          4.7,
          4.59,
          4.48,
          4.44,
          4.69,
          4.51,
          4.8,
          4.39,
          4.55,
          4.68,
          4.48,
          4.42,
          4.73,
          4.77,
          4.58,
          4.51,
          4.67,
          4.59,
          4.24,
          4.42,
          4.69,
          4.42,
          4.14,
          4.58,
          4.33,
          4.6,
          4.67,
          4.57,
          4.51,
          4.55,
          4.36,
          4.46,
          4.47,
          4.61,
          4.72,
          4.61,
          4.31,
          4.54,
          4.48,
          4.55,
          4.13,
          4.62,
          4.58,
          4.65,
          4.62,
          4.66,
          4.67,
          4.61,
          4.56,
          4.49,
          4.32,
          4.55,
          4.68,
          4.43,
          4.07,
          4.57,
          4.47,
          4.63,
          4.32,
          4.56,
          4.8,
          4.46,
          4.79,
          4.68,
          4.52,
          4.44,
          4.47,
          4.69,
          4.47,
          4.45,
          4.62,
          4.55,
          4.54,
          4.39,
          4.2,
          4.61,
          4.29,
          4.65,
          4.6,
          4.45,
          4.46,
          4.71,
          4.46,
          4.49,
          4.56,
          4.37,
          4.39,
          4.23,
          4.21,
          4.63,
          4.32,
          4.45,
          4.61,
          4.41,
          4.2,
          4.57,
          4.25,
          4.73,
          4.75,
          4.64,
          4.34,
          4.45,
          4.38,
          4.64,
          4.53,
          4.36,
          4.76,
          4.75,
          4.58,
          4.66,
          4.5,
          4.3,
          4.52,
          4.59,
          4.61,
          4.08,
          4.4,
          4.37,
          4.39,
          4.59,
          4.62,
          4.43,
          4.84,
          4.49,
          4.36,
          4.67,
          4.87,
          4.62,
          4.85,
          4.88,
          4.79,
          4,
          4.61,
          4.44,
          4.86,
          4.43,
          4.83,
          4.2,
          4.24,
          4.72,
          4.47,
          4.6,
          4.43,
          4.38,
          4.53,
          4.39,
          4.36,
          4.41,
          4.4,
          4.62,
          4.52,
          4.38,
          4.23,
          4.95,
          4.39,
          4.55,
          4.68,
          4.14,
          4.18,
          4.38,
          4.33,
          4.59,
          4.51,
          4.12,
          4.6,
          4.26,
          4.56,
          4.41,
          4.79,
          4.55,
          4.31,
          4.15,
          4.73,
          4.04,
          4.24,
          4.45,
          4.69,
          4.4,
          4.19,
          4.3,
          4.61,
          4.23,
          4.46,
          4.53,
          4.17,
          4.65,
          4.59,
          4.19,
          4.28,
          4.37,
          4.22,
          4.33,
          4.55,
          4.78,
          4.23,
          4.13,
          4.29,
          4.28,
          4.52,
          4.26,
          4.56,
          4.53,
          3.99,
          4.6,
          4.83,
          4.13,
          4.61,
          4.34,
          4.61,
          4.26,
          4.65,
          4.43,
          4.22,
          4.76,
          4.27,
          4.24,
          4.43,
          4.56,
          4.24,
          4.16,
          4.69
         ],
         "yaxis": "y"
        },
        {
         "alignmentgroup": "True",
         "bingroup": "x",
         "hoverlabel": {
          "namelength": 0
         },
         "hovertemplate": "ledighed=%{x}<br>count=%{y}",
         "legendgroup": "",
         "marker": {
          "color": "#636efa"
         },
         "name": "",
         "offsetgroup": "",
         "opacity": 0.5,
         "showlegend": false,
         "type": "histogram",
         "x": [
          11,
          6,
          27,
          3,
          5,
          8,
          13,
          4,
          23,
          22,
          22,
          24,
          4,
          6,
          17,
          16,
          19,
          24,
          18,
          21,
          24,
          1,
          3,
          12,
          14,
          13,
          12,
          18,
          1,
          25,
          1,
          15,
          30,
          5,
          12,
          13,
          10,
          10,
          5,
          23,
          21,
          9,
          14,
          10,
          8,
          12,
          7,
          17,
          23,
          23,
          12,
          12,
          14,
          19,
          7,
          6,
          3,
          6,
          10,
          27,
          16,
          14,
          1,
          13,
          5,
          11,
          17,
          12,
          12,
          14,
          10,
          2,
          6,
          15,
          3,
          26,
          5,
          16,
          11,
          11,
          36,
          6,
          16,
          27,
          7,
          18,
          17,
          4,
          8,
          12,
          8,
          7,
          6,
          14,
          6,
          17,
          7,
          27,
          24,
          7,
          6,
          3,
          18,
          2,
          3,
          20,
          18,
          28,
          11,
          18,
          5,
          6,
          31,
          24,
          10,
          7,
          20,
          20,
          5,
          19,
          22,
          22,
          14,
          4,
          10,
          13,
          3,
          11,
          3,
          2,
          13,
          14,
          1,
          3,
          23,
          8,
          13,
          1,
          7,
          10,
          8,
          12,
          5,
          14,
          22,
          10,
          19,
          5,
          37,
          20,
          6,
          12,
          14,
          12,
          13,
          17,
          12,
          12,
          12,
          31,
          7,
          19,
          12,
          2,
          2,
          28,
          4,
          6,
          5,
          5,
          4,
          6,
          11,
          4,
          18,
          20,
          2,
          16,
          0,
          7,
          15,
          12,
          6,
          3,
          18,
          16,
          16,
          13,
          22,
          4,
          6,
          1,
          5,
          19,
          13,
          30,
          12,
          16,
          10,
          17,
          26,
          19,
          10,
          2,
          12,
          7,
          18,
          11,
          2,
          2,
          10,
          2,
          4,
          8,
          12,
          13,
          2,
          9,
          15,
          14,
          16,
          22,
          7,
          15,
          19,
          4,
          1,
          6,
          7,
          7,
          6,
          16,
          8,
          21,
          10,
          11,
          11,
          3,
          10,
          8,
          4,
          14,
          12,
          19
         ],
         "xaxis": "x3",
         "yaxis": "y3"
        },
        {
         "alignmentgroup": "True",
         "bingroup": "y",
         "hoverlabel": {
          "namelength": 0
         },
         "hovertemplate": "faglighed=%{y}<br>count=%{x}",
         "legendgroup": "",
         "marker": {
          "color": "#636efa"
         },
         "name": "",
         "offsetgroup": "",
         "opacity": 0.5,
         "showlegend": false,
         "type": "histogram",
         "xaxis": "x2",
         "y": [
          4.46,
          4.74,
          4.53,
          4.4,
          4.37,
          4.41,
          4.2,
          4.25,
          4.73,
          4.4,
          4.64,
          4.53,
          4.49,
          4.69,
          4.65,
          4.68,
          4.49,
          4.52,
          4.49,
          3.79,
          4.73,
          4.65,
          4.42,
          4.7,
          4.59,
          4.48,
          4.44,
          4.69,
          4.51,
          4.8,
          4.39,
          4.55,
          4.68,
          4.48,
          4.42,
          4.73,
          4.77,
          4.58,
          4.51,
          4.67,
          4.59,
          4.24,
          4.42,
          4.69,
          4.42,
          4.14,
          4.58,
          4.33,
          4.6,
          4.67,
          4.57,
          4.51,
          4.55,
          4.36,
          4.46,
          4.47,
          4.61,
          4.72,
          4.61,
          4.31,
          4.54,
          4.48,
          4.55,
          4.13,
          4.62,
          4.58,
          4.65,
          4.62,
          4.66,
          4.67,
          4.61,
          4.56,
          4.49,
          4.32,
          4.55,
          4.68,
          4.43,
          4.07,
          4.57,
          4.47,
          4.63,
          4.32,
          4.56,
          4.8,
          4.46,
          4.79,
          4.68,
          4.52,
          4.44,
          4.47,
          4.69,
          4.47,
          4.45,
          4.62,
          4.55,
          4.54,
          4.39,
          4.2,
          4.61,
          4.29,
          4.65,
          4.6,
          4.45,
          4.46,
          4.71,
          4.46,
          4.49,
          4.56,
          4.37,
          4.39,
          4.23,
          4.21,
          4.63,
          4.32,
          4.45,
          4.61,
          4.41,
          4.2,
          4.57,
          4.25,
          4.73,
          4.75,
          4.64,
          4.34,
          4.45,
          4.38,
          4.64,
          4.53,
          4.36,
          4.76,
          4.75,
          4.58,
          4.66,
          4.5,
          4.3,
          4.52,
          4.59,
          4.61,
          4.08,
          4.4,
          4.37,
          4.39,
          4.59,
          4.62,
          4.43,
          4.84,
          4.49,
          4.36,
          4.67,
          4.87,
          4.62,
          4.85,
          4.88,
          4.79,
          4,
          4.61,
          4.44,
          4.86,
          4.43,
          4.83,
          4.2,
          4.24,
          4.72,
          4.47,
          4.6,
          4.43,
          4.38,
          4.53,
          4.39,
          4.36,
          4.41,
          4.4,
          4.62,
          4.52,
          4.38,
          4.23,
          4.95,
          4.39,
          4.55,
          4.68,
          4.14,
          4.18,
          4.38,
          4.33,
          4.59,
          4.51,
          4.12,
          4.6,
          4.26,
          4.56,
          4.41,
          4.79,
          4.55,
          4.31,
          4.15,
          4.73,
          4.04,
          4.24,
          4.45,
          4.69,
          4.4,
          4.19,
          4.3,
          4.61,
          4.23,
          4.46,
          4.53,
          4.17,
          4.65,
          4.59,
          4.19,
          4.28,
          4.37,
          4.22,
          4.33,
          4.55,
          4.78,
          4.23,
          4.13,
          4.29,
          4.28,
          4.52,
          4.26,
          4.56,
          4.53,
          3.99,
          4.6,
          4.83,
          4.13,
          4.61,
          4.34,
          4.61,
          4.26,
          4.65,
          4.43,
          4.22,
          4.76,
          4.27,
          4.24,
          4.43,
          4.56,
          4.24,
          4.16,
          4.69
         ],
         "yaxis": "y2"
        },
        {
         "hoverlabel": {
          "namelength": 0
         },
         "hovertemplate": "<b>LOWESS trendline</b><br><br>ledighed=%{x}<br>faglighed=%{y} <b>(trend)</b>",
         "legendgroup": "",
         "marker": {
          "color": "#636efa",
          "symbol": "circle"
         },
         "mode": "lines",
         "name": "",
         "showlegend": false,
         "type": "scatter",
         "x": [
          0,
          1,
          1,
          1,
          1,
          1,
          1,
          1,
          1,
          2,
          2,
          2,
          2,
          2,
          2,
          2,
          2,
          2,
          2,
          2,
          3,
          3,
          3,
          3,
          3,
          3,
          3,
          3,
          3,
          3,
          3,
          4,
          4,
          4,
          4,
          4,
          4,
          4,
          4,
          4,
          4,
          4,
          5,
          5,
          5,
          5,
          5,
          5,
          5,
          5,
          5,
          5,
          5,
          5,
          6,
          6,
          6,
          6,
          6,
          6,
          6,
          6,
          6,
          6,
          6,
          6,
          6,
          6,
          6,
          6,
          6,
          7,
          7,
          7,
          7,
          7,
          7,
          7,
          7,
          7,
          7,
          7,
          7,
          7,
          7,
          8,
          8,
          8,
          8,
          8,
          8,
          8,
          8,
          8,
          9,
          9,
          10,
          10,
          10,
          10,
          10,
          10,
          10,
          10,
          10,
          10,
          10,
          10,
          10,
          10,
          11,
          11,
          11,
          11,
          11,
          11,
          11,
          11,
          11,
          11,
          12,
          12,
          12,
          12,
          12,
          12,
          12,
          12,
          12,
          12,
          12,
          12,
          12,
          12,
          12,
          12,
          12,
          12,
          12,
          12,
          12,
          13,
          13,
          13,
          13,
          13,
          13,
          13,
          13,
          13,
          13,
          13,
          14,
          14,
          14,
          14,
          14,
          14,
          14,
          14,
          14,
          14,
          14,
          14,
          15,
          15,
          15,
          15,
          15,
          16,
          16,
          16,
          16,
          16,
          16,
          16,
          16,
          16,
          16,
          17,
          17,
          17,
          17,
          17,
          17,
          17,
          18,
          18,
          18,
          18,
          18,
          18,
          18,
          18,
          18,
          19,
          19,
          19,
          19,
          19,
          19,
          19,
          19,
          19,
          20,
          20,
          20,
          20,
          20,
          21,
          21,
          21,
          22,
          22,
          22,
          22,
          22,
          22,
          22,
          23,
          23,
          23,
          23,
          23,
          24,
          24,
          24,
          24,
          24,
          25,
          26,
          26,
          27,
          27,
          27,
          27,
          28,
          28,
          30,
          30,
          31,
          31,
          36,
          37
         ],
         "xaxis": "x",
         "y": [
          4.567305177869784,
          4.5495187356298645,
          4.5495187356298645,
          4.5495187356298645,
          4.5495187356298645,
          4.5495187356298645,
          4.5495187356298645,
          4.5495187356298645,
          4.5495187356298645,
          4.532831275840014,
          4.532831275840014,
          4.532831275840014,
          4.532831275840014,
          4.532831275840014,
          4.532831275840014,
          4.532831275840014,
          4.532831275840014,
          4.532831275840014,
          4.532831275840014,
          4.532831275840014,
          4.517298567903923,
          4.517298567903923,
          4.517298567903923,
          4.517298567903923,
          4.517298567903923,
          4.517298567903923,
          4.517298567903923,
          4.517298567903923,
          4.517298567903923,
          4.517298567903923,
          4.517298567903923,
          4.502706357092244,
          4.502706357092244,
          4.502706357092244,
          4.502706357092244,
          4.502706357092244,
          4.502706357092244,
          4.502706357092244,
          4.502706357092244,
          4.502706357092244,
          4.502706357092244,
          4.502706357092244,
          4.48882810653546,
          4.48882810653546,
          4.48882810653546,
          4.48882810653546,
          4.48882810653546,
          4.48882810653546,
          4.48882810653546,
          4.48882810653546,
          4.48882810653546,
          4.48882810653546,
          4.48882810653546,
          4.48882810653546,
          4.475724372588287,
          4.475724372588287,
          4.475724372588287,
          4.475724372588287,
          4.475724372588287,
          4.475724372588287,
          4.475724372588287,
          4.475724372588287,
          4.475724372588287,
          4.475724372588287,
          4.475724372588287,
          4.475724372588287,
          4.475724372588287,
          4.475724372588287,
          4.475724372588287,
          4.475724372588287,
          4.475724372588287,
          4.464400478917551,
          4.464400478917551,
          4.464400478917551,
          4.464400478917551,
          4.464400478917551,
          4.464400478917551,
          4.464400478917551,
          4.464400478917551,
          4.464400478917551,
          4.464400478917551,
          4.464400478917551,
          4.464400478917551,
          4.464400478917551,
          4.464400478917551,
          4.462381358128681,
          4.462381358128681,
          4.462381358128681,
          4.462381358128681,
          4.462381358128681,
          4.462381358128681,
          4.462381358128681,
          4.462381358128681,
          4.462381358128681,
          4.463742110354459,
          4.463742110354459,
          4.465638636667368,
          4.465638636667368,
          4.465638636667368,
          4.465638636667368,
          4.465638636667368,
          4.465638636667368,
          4.465638636667368,
          4.465638636667368,
          4.465638636667368,
          4.465638636667368,
          4.465638636667368,
          4.465638636667368,
          4.465638636667368,
          4.465638636667368,
          4.4671849145442035,
          4.4671849145442035,
          4.4671849145442035,
          4.4671849145442035,
          4.4671849145442035,
          4.4671849145442035,
          4.4671849145442035,
          4.4671849145442035,
          4.4671849145442035,
          4.4671849145442035,
          4.471218464895014,
          4.471218464895014,
          4.471218464895014,
          4.471218464895014,
          4.471218464895014,
          4.471218464895014,
          4.471218464895014,
          4.471218464895014,
          4.471218464895014,
          4.471218464895014,
          4.471218464895014,
          4.471218464895014,
          4.471218464895014,
          4.471218464895014,
          4.471218464895014,
          4.471218464895014,
          4.471218464895014,
          4.471218464895014,
          4.471218464895014,
          4.471218464895014,
          4.471218464895014,
          4.47627301626463,
          4.47627301626463,
          4.47627301626463,
          4.47627301626463,
          4.47627301626463,
          4.47627301626463,
          4.47627301626463,
          4.47627301626463,
          4.47627301626463,
          4.47627301626463,
          4.47627301626463,
          4.479686186919207,
          4.479686186919207,
          4.479686186919207,
          4.479686186919207,
          4.479686186919207,
          4.479686186919207,
          4.479686186919207,
          4.479686186919207,
          4.479686186919207,
          4.479686186919207,
          4.479686186919207,
          4.479686186919207,
          4.481162148130922,
          4.481162148130922,
          4.481162148130922,
          4.481162148130922,
          4.481162148130922,
          4.486723425737728,
          4.486723425737728,
          4.486723425737728,
          4.486723425737728,
          4.486723425737728,
          4.486723425737728,
          4.486723425737728,
          4.486723425737728,
          4.486723425737728,
          4.486723425737728,
          4.492829326467776,
          4.492829326467776,
          4.492829326467776,
          4.492829326467776,
          4.492829326467776,
          4.492829326467776,
          4.492829326467776,
          4.501028896597194,
          4.501028896597194,
          4.501028896597194,
          4.501028896597194,
          4.501028896597194,
          4.501028896597194,
          4.501028896597194,
          4.501028896597194,
          4.501028896597194,
          4.507319978328984,
          4.507319978328984,
          4.507319978328984,
          4.507319978328984,
          4.507319978328984,
          4.507319978328984,
          4.507319978328984,
          4.507319978328984,
          4.507319978328984,
          4.513910166447467,
          4.513910166447467,
          4.513910166447467,
          4.513910166447467,
          4.513910166447467,
          4.522243340391644,
          4.522243340391644,
          4.522243340391644,
          4.531453219340445,
          4.531453219340445,
          4.531453219340445,
          4.531453219340445,
          4.531453219340445,
          4.531453219340445,
          4.531453219340445,
          4.54098243251637,
          4.54098243251637,
          4.54098243251637,
          4.54098243251637,
          4.54098243251637,
          4.5505665706179625,
          4.5505665706179625,
          4.5505665706179625,
          4.5505665706179625,
          4.5505665706179625,
          4.560045767224374,
          4.56940907477879,
          4.56940907477879,
          4.578683018548471,
          4.578683018548471,
          4.578683018548471,
          4.578683018548471,
          4.587906365861564,
          4.587906365861564,
          4.6064450022961925,
          4.6064450022961925,
          4.615872507294718,
          4.615872507294718,
          4.664594704353588,
          4.674518464303903
         ],
         "yaxis": "y"
        }
       ],
       "layout": {
        "barmode": "overlay",
        "legend": {
         "tracegroupgap": 0
        },
        "shapes": [
         {
          "fillcolor": "LightSkyBlue",
          "layer": "below",
          "line": {
           "width": 0
          },
          "opacity": 0.5,
          "type": "rect",
          "x0": 11.115261697226948,
          "x1": 13.024082565068134,
          "xref": "x",
          "y0": 3.79,
          "y1": 4.95,
          "yref": "y"
         },
         {
          "fillcolor": "LightSkyBlue",
          "layer": "below",
          "line": {
           "width": 0
          },
          "opacity": 0.5,
          "type": "rect",
          "x0": 0,
          "x1": 37,
          "xref": "x",
          "y0": 4.461177068608538,
          "y1": 4.510216374014415,
          "yref": "y"
         }
        ],
        "template": {
         "data": {
          "bar": [
           {
            "error_x": {
             "color": "#2a3f5f"
            },
            "error_y": {
             "color": "#2a3f5f"
            },
            "marker": {
             "line": {
              "color": "#E5ECF6",
              "width": 0.5
             }
            },
            "type": "bar"
           }
          ],
          "barpolar": [
           {
            "marker": {
             "line": {
              "color": "#E5ECF6",
              "width": 0.5
             }
            },
            "type": "barpolar"
           }
          ],
          "carpet": [
           {
            "aaxis": {
             "endlinecolor": "#2a3f5f",
             "gridcolor": "white",
             "linecolor": "white",
             "minorgridcolor": "white",
             "startlinecolor": "#2a3f5f"
            },
            "baxis": {
             "endlinecolor": "#2a3f5f",
             "gridcolor": "white",
             "linecolor": "white",
             "minorgridcolor": "white",
             "startlinecolor": "#2a3f5f"
            },
            "type": "carpet"
           }
          ],
          "choropleth": [
           {
            "colorbar": {
             "outlinewidth": 0,
             "ticks": ""
            },
            "type": "choropleth"
           }
          ],
          "contour": [
           {
            "colorbar": {
             "outlinewidth": 0,
             "ticks": ""
            },
            "colorscale": [
             [
              0,
              "#0d0887"
             ],
             [
              0.1111111111111111,
              "#46039f"
             ],
             [
              0.2222222222222222,
              "#7201a8"
             ],
             [
              0.3333333333333333,
              "#9c179e"
             ],
             [
              0.4444444444444444,
              "#bd3786"
             ],
             [
              0.5555555555555556,
              "#d8576b"
             ],
             [
              0.6666666666666666,
              "#ed7953"
             ],
             [
              0.7777777777777778,
              "#fb9f3a"
             ],
             [
              0.8888888888888888,
              "#fdca26"
             ],
             [
              1,
              "#f0f921"
             ]
            ],
            "type": "contour"
           }
          ],
          "contourcarpet": [
           {
            "colorbar": {
             "outlinewidth": 0,
             "ticks": ""
            },
            "type": "contourcarpet"
           }
          ],
          "heatmap": [
           {
            "colorbar": {
             "outlinewidth": 0,
             "ticks": ""
            },
            "colorscale": [
             [
              0,
              "#0d0887"
             ],
             [
              0.1111111111111111,
              "#46039f"
             ],
             [
              0.2222222222222222,
              "#7201a8"
             ],
             [
              0.3333333333333333,
              "#9c179e"
             ],
             [
              0.4444444444444444,
              "#bd3786"
             ],
             [
              0.5555555555555556,
              "#d8576b"
             ],
             [
              0.6666666666666666,
              "#ed7953"
             ],
             [
              0.7777777777777778,
              "#fb9f3a"
             ],
             [
              0.8888888888888888,
              "#fdca26"
             ],
             [
              1,
              "#f0f921"
             ]
            ],
            "type": "heatmap"
           }
          ],
          "heatmapgl": [
           {
            "colorbar": {
             "outlinewidth": 0,
             "ticks": ""
            },
            "colorscale": [
             [
              0,
              "#0d0887"
             ],
             [
              0.1111111111111111,
              "#46039f"
             ],
             [
              0.2222222222222222,
              "#7201a8"
             ],
             [
              0.3333333333333333,
              "#9c179e"
             ],
             [
              0.4444444444444444,
              "#bd3786"
             ],
             [
              0.5555555555555556,
              "#d8576b"
             ],
             [
              0.6666666666666666,
              "#ed7953"
             ],
             [
              0.7777777777777778,
              "#fb9f3a"
             ],
             [
              0.8888888888888888,
              "#fdca26"
             ],
             [
              1,
              "#f0f921"
             ]
            ],
            "type": "heatmapgl"
           }
          ],
          "histogram": [
           {
            "marker": {
             "colorbar": {
              "outlinewidth": 0,
              "ticks": ""
             }
            },
            "type": "histogram"
           }
          ],
          "histogram2d": [
           {
            "colorbar": {
             "outlinewidth": 0,
             "ticks": ""
            },
            "colorscale": [
             [
              0,
              "#0d0887"
             ],
             [
              0.1111111111111111,
              "#46039f"
             ],
             [
              0.2222222222222222,
              "#7201a8"
             ],
             [
              0.3333333333333333,
              "#9c179e"
             ],
             [
              0.4444444444444444,
              "#bd3786"
             ],
             [
              0.5555555555555556,
              "#d8576b"
             ],
             [
              0.6666666666666666,
              "#ed7953"
             ],
             [
              0.7777777777777778,
              "#fb9f3a"
             ],
             [
              0.8888888888888888,
              "#fdca26"
             ],
             [
              1,
              "#f0f921"
             ]
            ],
            "type": "histogram2d"
           }
          ],
          "histogram2dcontour": [
           {
            "colorbar": {
             "outlinewidth": 0,
             "ticks": ""
            },
            "colorscale": [
             [
              0,
              "#0d0887"
             ],
             [
              0.1111111111111111,
              "#46039f"
             ],
             [
              0.2222222222222222,
              "#7201a8"
             ],
             [
              0.3333333333333333,
              "#9c179e"
             ],
             [
              0.4444444444444444,
              "#bd3786"
             ],
             [
              0.5555555555555556,
              "#d8576b"
             ],
             [
              0.6666666666666666,
              "#ed7953"
             ],
             [
              0.7777777777777778,
              "#fb9f3a"
             ],
             [
              0.8888888888888888,
              "#fdca26"
             ],
             [
              1,
              "#f0f921"
             ]
            ],
            "type": "histogram2dcontour"
           }
          ],
          "mesh3d": [
           {
            "colorbar": {
             "outlinewidth": 0,
             "ticks": ""
            },
            "type": "mesh3d"
           }
          ],
          "parcoords": [
           {
            "line": {
             "colorbar": {
              "outlinewidth": 0,
              "ticks": ""
             }
            },
            "type": "parcoords"
           }
          ],
          "pie": [
           {
            "automargin": true,
            "type": "pie"
           }
          ],
          "scatter": [
           {
            "marker": {
             "colorbar": {
              "outlinewidth": 0,
              "ticks": ""
             }
            },
            "type": "scatter"
           }
          ],
          "scatter3d": [
           {
            "line": {
             "colorbar": {
              "outlinewidth": 0,
              "ticks": ""
             }
            },
            "marker": {
             "colorbar": {
              "outlinewidth": 0,
              "ticks": ""
             }
            },
            "type": "scatter3d"
           }
          ],
          "scattercarpet": [
           {
            "marker": {
             "colorbar": {
              "outlinewidth": 0,
              "ticks": ""
             }
            },
            "type": "scattercarpet"
           }
          ],
          "scattergeo": [
           {
            "marker": {
             "colorbar": {
              "outlinewidth": 0,
              "ticks": ""
             }
            },
            "type": "scattergeo"
           }
          ],
          "scattergl": [
           {
            "marker": {
             "colorbar": {
              "outlinewidth": 0,
              "ticks": ""
             }
            },
            "type": "scattergl"
           }
          ],
          "scattermapbox": [
           {
            "marker": {
             "colorbar": {
              "outlinewidth": 0,
              "ticks": ""
             }
            },
            "type": "scattermapbox"
           }
          ],
          "scatterpolar": [
           {
            "marker": {
             "colorbar": {
              "outlinewidth": 0,
              "ticks": ""
             }
            },
            "type": "scatterpolar"
           }
          ],
          "scatterpolargl": [
           {
            "marker": {
             "colorbar": {
              "outlinewidth": 0,
              "ticks": ""
             }
            },
            "type": "scatterpolargl"
           }
          ],
          "scatterternary": [
           {
            "marker": {
             "colorbar": {
              "outlinewidth": 0,
              "ticks": ""
             }
            },
            "type": "scatterternary"
           }
          ],
          "surface": [
           {
            "colorbar": {
             "outlinewidth": 0,
             "ticks": ""
            },
            "colorscale": [
             [
              0,
              "#0d0887"
             ],
             [
              0.1111111111111111,
              "#46039f"
             ],
             [
              0.2222222222222222,
              "#7201a8"
             ],
             [
              0.3333333333333333,
              "#9c179e"
             ],
             [
              0.4444444444444444,
              "#bd3786"
             ],
             [
              0.5555555555555556,
              "#d8576b"
             ],
             [
              0.6666666666666666,
              "#ed7953"
             ],
             [
              0.7777777777777778,
              "#fb9f3a"
             ],
             [
              0.8888888888888888,
              "#fdca26"
             ],
             [
              1,
              "#f0f921"
             ]
            ],
            "type": "surface"
           }
          ],
          "table": [
           {
            "cells": {
             "fill": {
              "color": "#EBF0F8"
             },
             "line": {
              "color": "white"
             }
            },
            "header": {
             "fill": {
              "color": "#C8D4E3"
             },
             "line": {
              "color": "white"
             }
            },
            "type": "table"
           }
          ]
         },
         "layout": {
          "annotationdefaults": {
           "arrowcolor": "#2a3f5f",
           "arrowhead": 0,
           "arrowwidth": 1
          },
          "coloraxis": {
           "colorbar": {
            "outlinewidth": 0,
            "ticks": ""
           }
          },
          "colorscale": {
           "diverging": [
            [
             0,
             "#8e0152"
            ],
            [
             0.1,
             "#c51b7d"
            ],
            [
             0.2,
             "#de77ae"
            ],
            [
             0.3,
             "#f1b6da"
            ],
            [
             0.4,
             "#fde0ef"
            ],
            [
             0.5,
             "#f7f7f7"
            ],
            [
             0.6,
             "#e6f5d0"
            ],
            [
             0.7,
             "#b8e186"
            ],
            [
             0.8,
             "#7fbc41"
            ],
            [
             0.9,
             "#4d9221"
            ],
            [
             1,
             "#276419"
            ]
           ],
           "sequential": [
            [
             0,
             "#0d0887"
            ],
            [
             0.1111111111111111,
             "#46039f"
            ],
            [
             0.2222222222222222,
             "#7201a8"
            ],
            [
             0.3333333333333333,
             "#9c179e"
            ],
            [
             0.4444444444444444,
             "#bd3786"
            ],
            [
             0.5555555555555556,
             "#d8576b"
            ],
            [
             0.6666666666666666,
             "#ed7953"
            ],
            [
             0.7777777777777778,
             "#fb9f3a"
            ],
            [
             0.8888888888888888,
             "#fdca26"
            ],
            [
             1,
             "#f0f921"
            ]
           ],
           "sequentialminus": [
            [
             0,
             "#0d0887"
            ],
            [
             0.1111111111111111,
             "#46039f"
            ],
            [
             0.2222222222222222,
             "#7201a8"
            ],
            [
             0.3333333333333333,
             "#9c179e"
            ],
            [
             0.4444444444444444,
             "#bd3786"
            ],
            [
             0.5555555555555556,
             "#d8576b"
            ],
            [
             0.6666666666666666,
             "#ed7953"
            ],
            [
             0.7777777777777778,
             "#fb9f3a"
            ],
            [
             0.8888888888888888,
             "#fdca26"
            ],
            [
             1,
             "#f0f921"
            ]
           ]
          },
          "colorway": [
           "#636efa",
           "#EF553B",
           "#00cc96",
           "#ab63fa",
           "#FFA15A",
           "#19d3f3",
           "#FF6692",
           "#B6E880",
           "#FF97FF",
           "#FECB52"
          ],
          "font": {
           "color": "#2a3f5f"
          },
          "geo": {
           "bgcolor": "white",
           "lakecolor": "white",
           "landcolor": "#E5ECF6",
           "showlakes": true,
           "showland": true,
           "subunitcolor": "white"
          },
          "hoverlabel": {
           "align": "left"
          },
          "hovermode": "closest",
          "mapbox": {
           "style": "light"
          },
          "paper_bgcolor": "white",
          "plot_bgcolor": "#E5ECF6",
          "polar": {
           "angularaxis": {
            "gridcolor": "white",
            "linecolor": "white",
            "ticks": ""
           },
           "bgcolor": "#E5ECF6",
           "radialaxis": {
            "gridcolor": "white",
            "linecolor": "white",
            "ticks": ""
           }
          },
          "scene": {
           "xaxis": {
            "backgroundcolor": "#E5ECF6",
            "gridcolor": "white",
            "gridwidth": 2,
            "linecolor": "white",
            "showbackground": true,
            "ticks": "",
            "zerolinecolor": "white"
           },
           "yaxis": {
            "backgroundcolor": "#E5ECF6",
            "gridcolor": "white",
            "gridwidth": 2,
            "linecolor": "white",
            "showbackground": true,
            "ticks": "",
            "zerolinecolor": "white"
           },
           "zaxis": {
            "backgroundcolor": "#E5ECF6",
            "gridcolor": "white",
            "gridwidth": 2,
            "linecolor": "white",
            "showbackground": true,
            "ticks": "",
            "zerolinecolor": "white"
           }
          },
          "shapedefaults": {
           "line": {
            "color": "#2a3f5f"
           }
          },
          "ternary": {
           "aaxis": {
            "gridcolor": "white",
            "linecolor": "white",
            "ticks": ""
           },
           "baxis": {
            "gridcolor": "white",
            "linecolor": "white",
            "ticks": ""
           },
           "bgcolor": "#E5ECF6",
           "caxis": {
            "gridcolor": "white",
            "linecolor": "white",
            "ticks": ""
           }
          },
          "title": {
           "x": 0.05
          },
          "xaxis": {
           "automargin": true,
           "gridcolor": "white",
           "linecolor": "white",
           "ticks": "",
           "title": {
            "standoff": 15
           },
           "zerolinecolor": "white",
           "zerolinewidth": 2
          },
          "yaxis": {
           "automargin": true,
           "gridcolor": "white",
           "linecolor": "white",
           "ticks": "",
           "title": {
            "standoff": 15
           },
           "zerolinecolor": "white",
           "zerolinewidth": 2
          }
         }
        },
        "title": {
         "text": "ledighed vs. faglighed"
        },
        "xaxis": {
         "anchor": "y",
         "domain": [
          0,
          0.7363
         ],
         "title": {
          "text": "ledighed"
         }
        },
        "xaxis2": {
         "anchor": "y2",
         "domain": [
          0.7413,
          1
         ],
         "matches": "x2",
         "showgrid": true,
         "showline": false,
         "showticklabels": false,
         "ticks": ""
        },
        "xaxis3": {
         "anchor": "y3",
         "domain": [
          0,
          0.7363
         ],
         "matches": "x",
         "showgrid": true,
         "showticklabels": false
        },
        "xaxis4": {
         "anchor": "y4",
         "domain": [
          0.7413,
          1
         ],
         "matches": "x2",
         "showgrid": true,
         "showline": false,
         "showticklabels": false,
         "ticks": ""
        },
        "yaxis": {
         "anchor": "x",
         "domain": [
          0,
          0.7326
         ],
         "title": {
          "text": "faglighed"
         }
        },
        "yaxis2": {
         "anchor": "x2",
         "domain": [
          0,
          0.7326
         ],
         "matches": "y",
         "showgrid": true,
         "showticklabels": false
        },
        "yaxis3": {
         "anchor": "x3",
         "domain": [
          0.7426,
          1
         ],
         "matches": "y3",
         "showgrid": true,
         "showline": false,
         "showticklabels": false,
         "ticks": ""
        },
        "yaxis4": {
         "anchor": "x4",
         "domain": [
          0.7426,
          1
         ],
         "matches": "y3",
         "showgrid": true,
         "showline": false,
         "showticklabels": false,
         "ticks": ""
        }
       }
      },
      "text/html": [
       "<div>\n",
       "        \n",
       "        \n",
       "            <div id=\"96b23439-7327-4aba-b2a9-fe76cb130bf6\" class=\"plotly-graph-div\" style=\"height:525px; width:100%;\"></div>\n",
       "            <script type=\"text/javascript\">\n",
       "                require([\"plotly\"], function(Plotly) {\n",
       "                    window.PLOTLYENV=window.PLOTLYENV || {};\n",
       "                    \n",
       "                if (document.getElementById(\"96b23439-7327-4aba-b2a9-fe76cb130bf6\")) {\n",
       "                    Plotly.newPlot(\n",
       "                        '96b23439-7327-4aba-b2a9-fe76cb130bf6',\n",
       "                        [{\"customdata\": [[\"Arkitekt\"], [\"Veterin\\u00e6rmedicin\"], [\"Designledelse\"], [\"Odontologi\"], [\"Jura\"], [\"Farmaci\"], [\"Lyd- og musikteknologi\"], [\"Farmaceutisk videnskab\"], [\"Tv\\u00e6rkulturelle studier\"], [\"Amerikanske studier\"], [\"Engelsk\"], [\"Medialogy\"], [\"Medicin og teknologi\"], [\"Humanbiologi\"], [\"Molecular Biology\"], [\"Musikvidenskab\"], [\"Informationsvidenskab og kulturformidling\"], [\"Human ern\\u00e6ring\"], [\"Erhvervssprog og international virksomhedskommunikation\"], [\"Industrielt design\"], [\"Religionsvidenskab\"], [\"Sundhedsteknologi\"], [\"Radiograf\"], [\"Bioteknologi\"], [\"Biologi-bioteknologi\"], [\"Landskabsarkitektur\"], [\"Corporate Communication\"], [\"Biokemi\"], [\"Byggeri\"], [\"Moderne kultur og kulturformidling\"], [\"Sygeplejerske\"], [\"Uddannelsesvidenskab\"], [\"Filosofi\"], [\"Bioinformatik\"], [\"Digital design og interaktive teknologier\"], [\"Astronomi\"], [\"Milj\\u00f8videnskab\"], [\"Global udvikling\"], [\"Samfundsvidenskabelig jura\"], [\"Fransk sprog, litteratur og kultur\"], [\"Tekstildesign, -h\\u00e5ndv\\u00e6rk og formidling\"], [\"Erhvervs\\u00f8konomi og virksomhedskommunikation\"], [\"Bygningsdesign\"], [\"F\\u00f8devareteknologi\"], [\"Audiologi\"], [\"Cultural Sociology\"], [\"Mechatronics Engineering\"], [\"Medicine with Industrial Specialisation\"], [\"Antropologi\"], [\"Biologi\"], [\"Anvendt kemi\"], [\"It-ledelse\"], [\"Molekyl\\u00e6r ern\\u00e6ring og f\\u00f8devareteknologi\"], [\"Film- og medievidenskab\"], [\"Erhvervs\\u00f8konomi og psykologi\"], [\"It, kommunikation og organisation\"], [\"Datalogi\"], [\"Fysik\"], [\"Olie- og gasteknologi\"], [\"Kultur, kommunikation og globalisering\"], [\"Dansk\"], [\"Erhvervs\\u00f8konomi - erhvervssprog, negot.\"], [\"Medicin\"], [\"Webudvikling\"], [\"Fysik og nanoteknologi\"], [\"Agronomi\"], [\"P\\u00e6dagogisk filosofi\"], [\"P\\u00e6dagogisk psykologi\"], [\"Husdyrvidenskab\"], [\"P\\u00e6dagogik\"], [\"Socialt arbejde\"], [\"\\u00d8konomi\"], [\"Erhvervs\\u00f8konomi og erhvervsjura\"], [\"It-design og applikationsudvikling\"], [\"Matematik-\\u00f8konomi\"], [\"Historie\"], [\"Bioanalytiker\"], [\"Design og business\"], [\"Forvaltning\"], [\"Kemi og bioteknologi\"], [\"Kultur og formidling\"], [\"Socialr\\u00e5dgiver\"], [\"Tysk\"], [\"Litteraturvidenskab\"], [\"Erhvervs\\u00f8konomi, cand.soc.\"], [\"Teologi\"], [\"Geologi\"], [\"Diplomingeni\\u00f8r - bygningsdesign\"], [\"Tandplejer\"], [\"It-didaktisk design\"], [\"Bioinformatik og systembiologi\"], [\"Jordbrugs\\u00f8konomi\"], [\"Fysioterapeut\"], [\"Samfundsfag\"], [\"Statskundskab\"], [\"Sociologi\"], [\"Erhvervs\\u00f8konomi, cand.merc.\"], [\"Designer\"], [\"Dramaturgi\"], [\"Teknologibaseret forretningsudvikling\"], [\"Mechanical Engineering\"], [\"Softwaredesign\"], [\"Agro-Environmental Management\"], [\"Transport og logistik\"], [\"Matematik\"], [\"Sundhedsfremme og sundhedsstrategier\"], [\"Kriminologi\"], [\"Socialvidenskab\"], [\"Ern\\u00e6ring og sundhed\"], [\"Kemi (civilingeni\\u00f8r)\"], [\"Diplomingeni\\u00f8r - softwareteknologi\"], [\"Digital innovation og management\"], [\"Kunsthistorie\"], [\"Digital design\"], [\"Psykologi\"], [\"Sundhedsfaglig kandidat\"], [\"Psykomotorisk terapeut\"], [\"Medievidenskab\"], [\"Ergoterapi\"], [\"Erhvervs\\u00f8konomi og filosofi\"], [\"Spansk sprog og kultur\"], [\"Mellem\\u00f8ststudier\"], [\"Molekyl\\u00e6r medicin\"], [\"Diplomingeni\\u00f8r - bygning\"], [\"Humanistisk-samfundsvidenskabelig idr\\u00e6tsvidenskab\"], [\"Informationsvidenskab\"], [\"Software\"], [\"Folkesundhedsvidenskab\"], [\"Diplomingeni\\u00f8r - elektrisk energiteknologi\"], [\"Audiologop\\u00e6di\"], [\"P\\u00e6dagogisk sociologi\"], [\"Nanoscience\"], [\"Klinisk sygepleje\"], [\"Sygepleje\"], [\"Anvendt kulturanalyse\"], [\"F\\u00f8devarevidenskab\"], [\"Geografi\"], [\"Optometrist\"], [\"Bygningskonstrukt\\u00f8r\"], [\"Ergoterapeut\"], [\"P\\u00e6dagog\"], [\"Arbejdslivsstudier\"], [\"Fysioterapi\"], [\"Have- og parkingeni\\u00f8r\"], [\"Kommunikation\"], [\"Klinisk ern\\u00e6ring\"], [\"Tourism\"], [\"Digitale medieteknologier\"], [\"Interaktive digitale medier\"], [\"International sikkerhed og folkeret\"], [\"Design og innovation\"], [\"Politisk kommunikation og ledelse\"], [\"Lingvistik\"], [\"Humanfysiologi\"], [\"Laboratorie- og f\\u00f8devareteknologi\"], [\"Medicinalkemi\"], [\"Journalistik\"], [\"Spil\"], [\"Offentlig administration\"], [\"\\u00c6stetik og kultur\"], [\"Softwareudvikling\"], [\"IT Product Design\"], [\"Kemi\"], [\"Revisorkandidat, cand.merc.aud.\"], [\"Jordemoder\"], [\"Oplevelses\\u00f8konomi\"], [\"Vision, Graphics and Interactive Systems\"], [\"Kemisk og biokemisk teknologi\"], [\"Energy Engineering\"], [\"Diplomingeni\\u00f8r - maskinteknik\"], [\"Industriel \\u00f8konomi og teknologiledelse\"], [\"Materiale- og procesteknologi\"], [\"Milj\\u00f8teknologi\"], [\"Byggeteknologi\"], [\"Geofysik\"], [\"Digital konceptudvikling\"], [\"Statistik\"], [\"Webkommunikation\"], [\"Informationsteknologi\"], [\"Farmateknologi\"], [\"Multimediedesigner\"], [\"International handel og markedsf\\u00f8ring\"], [\"Business Administration and Information Systems\"], [\"Maskinmester\"], [\"Politik og administration\"], [\"B\\u00e6redygtigt design\"], [\"Virksomhedsledelse\"], [\"Didaktik\"], [\"Energiteknologi\"], [\"Elektroteknologi\"], [\"L\\u00e6rer i folkeskolen\"], [\"Mekanik\"], [\"Diplomingeni\\u00f8r - elektronik\"], [\"L\\u00e6ring og forandringsprocesser\"], [\"International Hospitality Management\"], [\"Anvendt filosofi\"], [\"Diplomingeni\\u00f8r - eksport og teknologi\"], [\"Jordbrug\"], [\"Financial Controller\"], [\"P\\u00e6dagogisk antropologi\"], [\"Europastudier\"], [\"Administrations\\u00f8konom\"], [\"International Public Administration and Politics\"], [\"Matematisk modellering og computing\"], [\"Designteknolog\"], [\"Laborant\"], [\"Retorik\"], [\"IT-teknolog\"], [\"Konstruktion og mekanik\"], [\"Water and Environment Engineering\"], [\"Datamatiker\"], [\"Elinstallat\\u00f8r\"], [\"Finans\"], [\"Markedsf\\u00f8rings\\u00f8konom\"], [\"B\\u00e6redygtig energi\"], [\"Procesteknolog\"], [\"Lyd og akustisk teknologi\"], [\"Service\\u00f8konom\"], [\"Produktudvikling og teknisk integration\"], [\"Medieproduktion og ledelse\"], [\"It, l\\u00e6ring og organisatorisk omstilling\"], [\"Milj\\u00f8teknolog\"], [\"Innovation and Business\"], [\"Idr\\u00e6t\"], [\"Grafisk kommunikation\"], [\"\\u00d8konomi og informationsteknologi\"], [\"Veje og trafik\"], [\"Ledelse og informatik i byggeriet\"], [\"Logistik\\u00f8konom\"], [\"Diakoni og socialp\\u00e6dagogik\"], [\"Finans\\u00f8konom\"], [\"Visuel kommunikation\"], [\"Handels\\u00f8konom\"], [\"Multiplatform storytelling and production\"], [\"Jordbrugsteknolog\"], [\"Journalist\"], [\"Geofysik og rumteknologi\"], [\"Automationsteknolog\"], [\"Produktionsteknolog\"], [\"Kommunikation\"], [\"Landinspekt\\u00f8rvidenskab\"], [\"Tv- og medietilrettel\\u00e6ggelse\"], [\"Energiteknolog\"], [\"L\\u00e6rer fra Den frie L\\u00e6rerskole\"]], \"hoverlabel\": {\"namelength\": 0}, \"hovertemplate\": \"ledighed=%{x}<br>faglighed=%{y}<br>Titel=%{customdata[0]}\", \"legendgroup\": \"\", \"marker\": {\"color\": \"#636efa\", \"symbol\": \"circle\"}, \"mode\": \"markers\", \"name\": \"\", \"showlegend\": false, \"type\": \"scatter\", \"x\": [11.0, 6.0, 27.0, 3.0, 5.0, 8.0, 13.0, 4.0, 23.0, 22.0, 22.0, 24.0, 4.0, 6.0, 17.0, 16.0, 19.0, 24.0, 18.0, 21.0, 24.0, 1.0, 3.0, 12.0, 14.0, 13.0, 12.0, 18.0, 1.0, 25.0, 1.0, 15.0, 30.0, 5.0, 12.0, 13.0, 10.0, 10.0, 5.0, 23.0, 21.0, 9.0, 14.0, 10.0, 8.0, 12.0, 7.0, 17.0, 23.0, 23.0, 12.0, 12.0, 14.0, 19.0, 7.0, 6.0, 3.0, 6.0, 10.0, 27.0, 16.0, 14.0, 1.0, 13.0, 5.0, 11.0, 17.0, 12.0, 12.0, 14.0, 10.0, 2.0, 6.0, 15.0, 3.0, 26.0, 5.0, 16.0, 11.0, 11.0, 36.0, 6.0, 16.0, 27.0, 7.0, 18.0, 17.0, 4.0, 8.0, 12.0, 8.0, 7.0, 6.0, 14.0, 6.0, 17.0, 7.0, 27.0, 24.0, 7.0, 6.0, 3.0, 18.0, 2.0, 3.0, 20.0, 18.0, 28.0, 11.0, 18.0, 5.0, 6.0, 31.0, 24.0, 10.0, 7.0, 20.0, 20.0, 5.0, 19.0, 22.0, 22.0, 14.0, 4.0, 10.0, 13.0, 3.0, 11.0, 3.0, 2.0, 13.0, 14.0, 1.0, 3.0, 23.0, 8.0, 13.0, 1.0, 7.0, 10.0, 8.0, 12.0, 5.0, 14.0, 22.0, 10.0, 19.0, 5.0, 37.0, 20.0, 6.0, 12.0, 14.0, 12.0, 13.0, 17.0, 12.0, 12.0, 12.0, 31.0, 7.0, 19.0, 12.0, 2.0, 2.0, 28.0, 4.0, 6.0, 5.0, 5.0, 4.0, 6.0, 11.0, 4.0, 18.0, 20.0, 2.0, 16.0, 0.0, 7.0, 15.0, 12.0, 6.0, 3.0, 18.0, 16.0, 16.0, 13.0, 22.0, 4.0, 6.0, 1.0, 5.0, 19.0, 13.0, 30.0, 12.0, 16.0, 10.0, 17.0, 26.0, 19.0, 10.0, 2.0, 12.0, 7.0, 18.0, 11.0, 2.0, 2.0, 10.0, 2.0, 4.0, 8.0, 12.0, 13.0, 2.0, 9.0, 15.0, 14.0, 16.0, 22.0, 7.0, 15.0, 19.0, 4.0, 1.0, 6.0, 7.0, 7.0, 6.0, 16.0, 8.0, 21.0, 10.0, 11.0, 11.0, 3.0, 10.0, 8.0, 4.0, 14.0, 12.0, 19.0], \"xaxis\": \"x\", \"y\": [4.46, 4.74, 4.53, 4.4, 4.37, 4.41, 4.2, 4.25, 4.73, 4.4, 4.64, 4.53, 4.49, 4.69, 4.65, 4.68, 4.49, 4.52, 4.49, 3.79, 4.73, 4.65, 4.42, 4.7, 4.59, 4.48, 4.44, 4.69, 4.51, 4.8, 4.39, 4.55, 4.68, 4.48, 4.42, 4.73, 4.77, 4.58, 4.51, 4.67, 4.59, 4.24, 4.42, 4.69, 4.42, 4.14, 4.58, 4.33, 4.6, 4.67, 4.57, 4.51, 4.55, 4.36, 4.46, 4.47, 4.61, 4.72, 4.61, 4.31, 4.54, 4.48, 4.55, 4.13, 4.62, 4.58, 4.65, 4.62, 4.66, 4.67, 4.61, 4.56, 4.49, 4.32, 4.55, 4.68, 4.43, 4.07, 4.57, 4.47, 4.63, 4.32, 4.56, 4.8, 4.46, 4.79, 4.68, 4.52, 4.44, 4.47, 4.69, 4.47, 4.45, 4.62, 4.55, 4.54, 4.39, 4.2, 4.61, 4.29, 4.65, 4.6, 4.45, 4.46, 4.71, 4.46, 4.49, 4.56, 4.37, 4.39, 4.23, 4.21, 4.63, 4.32, 4.45, 4.61, 4.41, 4.2, 4.57, 4.25, 4.73, 4.75, 4.64, 4.34, 4.45, 4.38, 4.64, 4.53, 4.36, 4.76, 4.75, 4.58, 4.66, 4.5, 4.3, 4.52, 4.59, 4.61, 4.08, 4.4, 4.37, 4.39, 4.59, 4.62, 4.43, 4.84, 4.49, 4.36, 4.67, 4.87, 4.62, 4.85, 4.88, 4.79, 4.0, 4.61, 4.44, 4.86, 4.43, 4.83, 4.2, 4.24, 4.72, 4.47, 4.6, 4.43, 4.38, 4.53, 4.39, 4.36, 4.41, 4.4, 4.62, 4.52, 4.38, 4.23, 4.95, 4.39, 4.55, 4.68, 4.14, 4.18, 4.38, 4.33, 4.59, 4.51, 4.12, 4.6, 4.26, 4.56, 4.41, 4.79, 4.55, 4.31, 4.15, 4.73, 4.04, 4.24, 4.45, 4.69, 4.4, 4.19, 4.3, 4.61, 4.23, 4.46, 4.53, 4.17, 4.65, 4.59, 4.19, 4.28, 4.37, 4.22, 4.33, 4.55, 4.78, 4.23, 4.13, 4.29, 4.28, 4.52, 4.26, 4.56, 4.53, 3.99, 4.6, 4.83, 4.13, 4.61, 4.34, 4.61, 4.26, 4.65, 4.43, 4.22, 4.76, 4.27, 4.24, 4.43, 4.56, 4.24, 4.16, 4.69], \"yaxis\": \"y\"}, {\"alignmentgroup\": \"True\", \"bingroup\": \"x\", \"hoverlabel\": {\"namelength\": 0}, \"hovertemplate\": \"ledighed=%{x}<br>count=%{y}\", \"legendgroup\": \"\", \"marker\": {\"color\": \"#636efa\"}, \"name\": \"\", \"offsetgroup\": \"\", \"opacity\": 0.5, \"showlegend\": false, \"type\": \"histogram\", \"x\": [11.0, 6.0, 27.0, 3.0, 5.0, 8.0, 13.0, 4.0, 23.0, 22.0, 22.0, 24.0, 4.0, 6.0, 17.0, 16.0, 19.0, 24.0, 18.0, 21.0, 24.0, 1.0, 3.0, 12.0, 14.0, 13.0, 12.0, 18.0, 1.0, 25.0, 1.0, 15.0, 30.0, 5.0, 12.0, 13.0, 10.0, 10.0, 5.0, 23.0, 21.0, 9.0, 14.0, 10.0, 8.0, 12.0, 7.0, 17.0, 23.0, 23.0, 12.0, 12.0, 14.0, 19.0, 7.0, 6.0, 3.0, 6.0, 10.0, 27.0, 16.0, 14.0, 1.0, 13.0, 5.0, 11.0, 17.0, 12.0, 12.0, 14.0, 10.0, 2.0, 6.0, 15.0, 3.0, 26.0, 5.0, 16.0, 11.0, 11.0, 36.0, 6.0, 16.0, 27.0, 7.0, 18.0, 17.0, 4.0, 8.0, 12.0, 8.0, 7.0, 6.0, 14.0, 6.0, 17.0, 7.0, 27.0, 24.0, 7.0, 6.0, 3.0, 18.0, 2.0, 3.0, 20.0, 18.0, 28.0, 11.0, 18.0, 5.0, 6.0, 31.0, 24.0, 10.0, 7.0, 20.0, 20.0, 5.0, 19.0, 22.0, 22.0, 14.0, 4.0, 10.0, 13.0, 3.0, 11.0, 3.0, 2.0, 13.0, 14.0, 1.0, 3.0, 23.0, 8.0, 13.0, 1.0, 7.0, 10.0, 8.0, 12.0, 5.0, 14.0, 22.0, 10.0, 19.0, 5.0, 37.0, 20.0, 6.0, 12.0, 14.0, 12.0, 13.0, 17.0, 12.0, 12.0, 12.0, 31.0, 7.0, 19.0, 12.0, 2.0, 2.0, 28.0, 4.0, 6.0, 5.0, 5.0, 4.0, 6.0, 11.0, 4.0, 18.0, 20.0, 2.0, 16.0, 0.0, 7.0, 15.0, 12.0, 6.0, 3.0, 18.0, 16.0, 16.0, 13.0, 22.0, 4.0, 6.0, 1.0, 5.0, 19.0, 13.0, 30.0, 12.0, 16.0, 10.0, 17.0, 26.0, 19.0, 10.0, 2.0, 12.0, 7.0, 18.0, 11.0, 2.0, 2.0, 10.0, 2.0, 4.0, 8.0, 12.0, 13.0, 2.0, 9.0, 15.0, 14.0, 16.0, 22.0, 7.0, 15.0, 19.0, 4.0, 1.0, 6.0, 7.0, 7.0, 6.0, 16.0, 8.0, 21.0, 10.0, 11.0, 11.0, 3.0, 10.0, 8.0, 4.0, 14.0, 12.0, 19.0], \"xaxis\": \"x3\", \"yaxis\": \"y3\"}, {\"alignmentgroup\": \"True\", \"bingroup\": \"y\", \"hoverlabel\": {\"namelength\": 0}, \"hovertemplate\": \"faglighed=%{y}<br>count=%{x}\", \"legendgroup\": \"\", \"marker\": {\"color\": \"#636efa\"}, \"name\": \"\", \"offsetgroup\": \"\", \"opacity\": 0.5, \"showlegend\": false, \"type\": \"histogram\", \"xaxis\": \"x2\", \"y\": [4.46, 4.74, 4.53, 4.4, 4.37, 4.41, 4.2, 4.25, 4.73, 4.4, 4.64, 4.53, 4.49, 4.69, 4.65, 4.68, 4.49, 4.52, 4.49, 3.79, 4.73, 4.65, 4.42, 4.7, 4.59, 4.48, 4.44, 4.69, 4.51, 4.8, 4.39, 4.55, 4.68, 4.48, 4.42, 4.73, 4.77, 4.58, 4.51, 4.67, 4.59, 4.24, 4.42, 4.69, 4.42, 4.14, 4.58, 4.33, 4.6, 4.67, 4.57, 4.51, 4.55, 4.36, 4.46, 4.47, 4.61, 4.72, 4.61, 4.31, 4.54, 4.48, 4.55, 4.13, 4.62, 4.58, 4.65, 4.62, 4.66, 4.67, 4.61, 4.56, 4.49, 4.32, 4.55, 4.68, 4.43, 4.07, 4.57, 4.47, 4.63, 4.32, 4.56, 4.8, 4.46, 4.79, 4.68, 4.52, 4.44, 4.47, 4.69, 4.47, 4.45, 4.62, 4.55, 4.54, 4.39, 4.2, 4.61, 4.29, 4.65, 4.6, 4.45, 4.46, 4.71, 4.46, 4.49, 4.56, 4.37, 4.39, 4.23, 4.21, 4.63, 4.32, 4.45, 4.61, 4.41, 4.2, 4.57, 4.25, 4.73, 4.75, 4.64, 4.34, 4.45, 4.38, 4.64, 4.53, 4.36, 4.76, 4.75, 4.58, 4.66, 4.5, 4.3, 4.52, 4.59, 4.61, 4.08, 4.4, 4.37, 4.39, 4.59, 4.62, 4.43, 4.84, 4.49, 4.36, 4.67, 4.87, 4.62, 4.85, 4.88, 4.79, 4.0, 4.61, 4.44, 4.86, 4.43, 4.83, 4.2, 4.24, 4.72, 4.47, 4.6, 4.43, 4.38, 4.53, 4.39, 4.36, 4.41, 4.4, 4.62, 4.52, 4.38, 4.23, 4.95, 4.39, 4.55, 4.68, 4.14, 4.18, 4.38, 4.33, 4.59, 4.51, 4.12, 4.6, 4.26, 4.56, 4.41, 4.79, 4.55, 4.31, 4.15, 4.73, 4.04, 4.24, 4.45, 4.69, 4.4, 4.19, 4.3, 4.61, 4.23, 4.46, 4.53, 4.17, 4.65, 4.59, 4.19, 4.28, 4.37, 4.22, 4.33, 4.55, 4.78, 4.23, 4.13, 4.29, 4.28, 4.52, 4.26, 4.56, 4.53, 3.99, 4.6, 4.83, 4.13, 4.61, 4.34, 4.61, 4.26, 4.65, 4.43, 4.22, 4.76, 4.27, 4.24, 4.43, 4.56, 4.24, 4.16, 4.69], \"yaxis\": \"y2\"}, {\"hoverlabel\": {\"namelength\": 0}, \"hovertemplate\": \"<b>LOWESS trendline</b><br><br>ledighed=%{x}<br>faglighed=%{y} <b>(trend)</b>\", \"legendgroup\": \"\", \"marker\": {\"color\": \"#636efa\", \"symbol\": \"circle\"}, \"mode\": \"lines\", \"name\": \"\", \"showlegend\": false, \"type\": \"scatter\", \"x\": [0.0, 1.0, 1.0, 1.0, 1.0, 1.0, 1.0, 1.0, 1.0, 2.0, 2.0, 2.0, 2.0, 2.0, 2.0, 2.0, 2.0, 2.0, 2.0, 2.0, 3.0, 3.0, 3.0, 3.0, 3.0, 3.0, 3.0, 3.0, 3.0, 3.0, 3.0, 4.0, 4.0, 4.0, 4.0, 4.0, 4.0, 4.0, 4.0, 4.0, 4.0, 4.0, 5.0, 5.0, 5.0, 5.0, 5.0, 5.0, 5.0, 5.0, 5.0, 5.0, 5.0, 5.0, 6.0, 6.0, 6.0, 6.0, 6.0, 6.0, 6.0, 6.0, 6.0, 6.0, 6.0, 6.0, 6.0, 6.0, 6.0, 6.0, 6.0, 7.0, 7.0, 7.0, 7.0, 7.0, 7.0, 7.0, 7.0, 7.0, 7.0, 7.0, 7.0, 7.0, 7.0, 8.0, 8.0, 8.0, 8.0, 8.0, 8.0, 8.0, 8.0, 8.0, 9.0, 9.0, 10.0, 10.0, 10.0, 10.0, 10.0, 10.0, 10.0, 10.0, 10.0, 10.0, 10.0, 10.0, 10.0, 10.0, 11.0, 11.0, 11.0, 11.0, 11.0, 11.0, 11.0, 11.0, 11.0, 11.0, 12.0, 12.0, 12.0, 12.0, 12.0, 12.0, 12.0, 12.0, 12.0, 12.0, 12.0, 12.0, 12.0, 12.0, 12.0, 12.0, 12.0, 12.0, 12.0, 12.0, 12.0, 13.0, 13.0, 13.0, 13.0, 13.0, 13.0, 13.0, 13.0, 13.0, 13.0, 13.0, 14.0, 14.0, 14.0, 14.0, 14.0, 14.0, 14.0, 14.0, 14.0, 14.0, 14.0, 14.0, 15.0, 15.0, 15.0, 15.0, 15.0, 16.0, 16.0, 16.0, 16.0, 16.0, 16.0, 16.0, 16.0, 16.0, 16.0, 17.0, 17.0, 17.0, 17.0, 17.0, 17.0, 17.0, 18.0, 18.0, 18.0, 18.0, 18.0, 18.0, 18.0, 18.0, 18.0, 19.0, 19.0, 19.0, 19.0, 19.0, 19.0, 19.0, 19.0, 19.0, 20.0, 20.0, 20.0, 20.0, 20.0, 21.0, 21.0, 21.0, 22.0, 22.0, 22.0, 22.0, 22.0, 22.0, 22.0, 23.0, 23.0, 23.0, 23.0, 23.0, 24.0, 24.0, 24.0, 24.0, 24.0, 25.0, 26.0, 26.0, 27.0, 27.0, 27.0, 27.0, 28.0, 28.0, 30.0, 30.0, 31.0, 31.0, 36.0, 37.0], \"xaxis\": \"x\", \"y\": [4.567305177869784, 4.5495187356298645, 4.5495187356298645, 4.5495187356298645, 4.5495187356298645, 4.5495187356298645, 4.5495187356298645, 4.5495187356298645, 4.5495187356298645, 4.532831275840014, 4.532831275840014, 4.532831275840014, 4.532831275840014, 4.532831275840014, 4.532831275840014, 4.532831275840014, 4.532831275840014, 4.532831275840014, 4.532831275840014, 4.532831275840014, 4.517298567903923, 4.517298567903923, 4.517298567903923, 4.517298567903923, 4.517298567903923, 4.517298567903923, 4.517298567903923, 4.517298567903923, 4.517298567903923, 4.517298567903923, 4.517298567903923, 4.502706357092244, 4.502706357092244, 4.502706357092244, 4.502706357092244, 4.502706357092244, 4.502706357092244, 4.502706357092244, 4.502706357092244, 4.502706357092244, 4.502706357092244, 4.502706357092244, 4.48882810653546, 4.48882810653546, 4.48882810653546, 4.48882810653546, 4.48882810653546, 4.48882810653546, 4.48882810653546, 4.48882810653546, 4.48882810653546, 4.48882810653546, 4.48882810653546, 4.48882810653546, 4.475724372588287, 4.475724372588287, 4.475724372588287, 4.475724372588287, 4.475724372588287, 4.475724372588287, 4.475724372588287, 4.475724372588287, 4.475724372588287, 4.475724372588287, 4.475724372588287, 4.475724372588287, 4.475724372588287, 4.475724372588287, 4.475724372588287, 4.475724372588287, 4.475724372588287, 4.464400478917551, 4.464400478917551, 4.464400478917551, 4.464400478917551, 4.464400478917551, 4.464400478917551, 4.464400478917551, 4.464400478917551, 4.464400478917551, 4.464400478917551, 4.464400478917551, 4.464400478917551, 4.464400478917551, 4.464400478917551, 4.462381358128681, 4.462381358128681, 4.462381358128681, 4.462381358128681, 4.462381358128681, 4.462381358128681, 4.462381358128681, 4.462381358128681, 4.462381358128681, 4.463742110354459, 4.463742110354459, 4.465638636667368, 4.465638636667368, 4.465638636667368, 4.465638636667368, 4.465638636667368, 4.465638636667368, 4.465638636667368, 4.465638636667368, 4.465638636667368, 4.465638636667368, 4.465638636667368, 4.465638636667368, 4.465638636667368, 4.465638636667368, 4.4671849145442035, 4.4671849145442035, 4.4671849145442035, 4.4671849145442035, 4.4671849145442035, 4.4671849145442035, 4.4671849145442035, 4.4671849145442035, 4.4671849145442035, 4.4671849145442035, 4.471218464895014, 4.471218464895014, 4.471218464895014, 4.471218464895014, 4.471218464895014, 4.471218464895014, 4.471218464895014, 4.471218464895014, 4.471218464895014, 4.471218464895014, 4.471218464895014, 4.471218464895014, 4.471218464895014, 4.471218464895014, 4.471218464895014, 4.471218464895014, 4.471218464895014, 4.471218464895014, 4.471218464895014, 4.471218464895014, 4.471218464895014, 4.47627301626463, 4.47627301626463, 4.47627301626463, 4.47627301626463, 4.47627301626463, 4.47627301626463, 4.47627301626463, 4.47627301626463, 4.47627301626463, 4.47627301626463, 4.47627301626463, 4.479686186919207, 4.479686186919207, 4.479686186919207, 4.479686186919207, 4.479686186919207, 4.479686186919207, 4.479686186919207, 4.479686186919207, 4.479686186919207, 4.479686186919207, 4.479686186919207, 4.479686186919207, 4.481162148130922, 4.481162148130922, 4.481162148130922, 4.481162148130922, 4.481162148130922, 4.486723425737728, 4.486723425737728, 4.486723425737728, 4.486723425737728, 4.486723425737728, 4.486723425737728, 4.486723425737728, 4.486723425737728, 4.486723425737728, 4.486723425737728, 4.492829326467776, 4.492829326467776, 4.492829326467776, 4.492829326467776, 4.492829326467776, 4.492829326467776, 4.492829326467776, 4.501028896597194, 4.501028896597194, 4.501028896597194, 4.501028896597194, 4.501028896597194, 4.501028896597194, 4.501028896597194, 4.501028896597194, 4.501028896597194, 4.507319978328984, 4.507319978328984, 4.507319978328984, 4.507319978328984, 4.507319978328984, 4.507319978328984, 4.507319978328984, 4.507319978328984, 4.507319978328984, 4.513910166447467, 4.513910166447467, 4.513910166447467, 4.513910166447467, 4.513910166447467, 4.522243340391644, 4.522243340391644, 4.522243340391644, 4.531453219340445, 4.531453219340445, 4.531453219340445, 4.531453219340445, 4.531453219340445, 4.531453219340445, 4.531453219340445, 4.54098243251637, 4.54098243251637, 4.54098243251637, 4.54098243251637, 4.54098243251637, 4.5505665706179625, 4.5505665706179625, 4.5505665706179625, 4.5505665706179625, 4.5505665706179625, 4.560045767224374, 4.56940907477879, 4.56940907477879, 4.578683018548471, 4.578683018548471, 4.578683018548471, 4.578683018548471, 4.587906365861564, 4.587906365861564, 4.6064450022961925, 4.6064450022961925, 4.615872507294718, 4.615872507294718, 4.664594704353588, 4.674518464303903], \"yaxis\": \"y\"}],\n",
       "                        {\"barmode\": \"overlay\", \"legend\": {\"tracegroupgap\": 0}, \"shapes\": [{\"fillcolor\": \"LightSkyBlue\", \"layer\": \"below\", \"line\": {\"width\": 0}, \"opacity\": 0.5, \"type\": \"rect\", \"x0\": 11.115261697226948, \"x1\": 13.024082565068134, \"xref\": \"x\", \"y0\": 3.79, \"y1\": 4.95, \"yref\": \"y\"}, {\"fillcolor\": \"LightSkyBlue\", \"layer\": \"below\", \"line\": {\"width\": 0}, \"opacity\": 0.5, \"type\": \"rect\", \"x0\": 0.0, \"x1\": 37.0, \"xref\": \"x\", \"y0\": 4.461177068608538, \"y1\": 4.510216374014415, \"yref\": \"y\"}], \"template\": {\"data\": {\"bar\": [{\"error_x\": {\"color\": \"#2a3f5f\"}, \"error_y\": {\"color\": \"#2a3f5f\"}, \"marker\": {\"line\": {\"color\": \"#E5ECF6\", \"width\": 0.5}}, \"type\": \"bar\"}], \"barpolar\": [{\"marker\": {\"line\": {\"color\": \"#E5ECF6\", \"width\": 0.5}}, \"type\": \"barpolar\"}], \"carpet\": [{\"aaxis\": {\"endlinecolor\": \"#2a3f5f\", \"gridcolor\": \"white\", \"linecolor\": \"white\", \"minorgridcolor\": \"white\", \"startlinecolor\": \"#2a3f5f\"}, \"baxis\": {\"endlinecolor\": \"#2a3f5f\", \"gridcolor\": \"white\", \"linecolor\": \"white\", \"minorgridcolor\": \"white\", \"startlinecolor\": \"#2a3f5f\"}, \"type\": \"carpet\"}], \"choropleth\": [{\"colorbar\": {\"outlinewidth\": 0, \"ticks\": \"\"}, \"type\": \"choropleth\"}], \"contour\": [{\"colorbar\": {\"outlinewidth\": 0, \"ticks\": \"\"}, \"colorscale\": [[0.0, \"#0d0887\"], [0.1111111111111111, \"#46039f\"], [0.2222222222222222, \"#7201a8\"], [0.3333333333333333, \"#9c179e\"], [0.4444444444444444, \"#bd3786\"], [0.5555555555555556, \"#d8576b\"], [0.6666666666666666, \"#ed7953\"], [0.7777777777777778, \"#fb9f3a\"], [0.8888888888888888, \"#fdca26\"], [1.0, \"#f0f921\"]], \"type\": \"contour\"}], \"contourcarpet\": [{\"colorbar\": {\"outlinewidth\": 0, \"ticks\": \"\"}, \"type\": \"contourcarpet\"}], \"heatmap\": [{\"colorbar\": {\"outlinewidth\": 0, \"ticks\": \"\"}, \"colorscale\": [[0.0, \"#0d0887\"], [0.1111111111111111, \"#46039f\"], [0.2222222222222222, \"#7201a8\"], [0.3333333333333333, \"#9c179e\"], [0.4444444444444444, \"#bd3786\"], [0.5555555555555556, \"#d8576b\"], [0.6666666666666666, \"#ed7953\"], [0.7777777777777778, \"#fb9f3a\"], [0.8888888888888888, \"#fdca26\"], [1.0, \"#f0f921\"]], \"type\": \"heatmap\"}], \"heatmapgl\": [{\"colorbar\": {\"outlinewidth\": 0, \"ticks\": \"\"}, \"colorscale\": [[0.0, \"#0d0887\"], [0.1111111111111111, \"#46039f\"], [0.2222222222222222, \"#7201a8\"], [0.3333333333333333, \"#9c179e\"], [0.4444444444444444, \"#bd3786\"], [0.5555555555555556, \"#d8576b\"], [0.6666666666666666, \"#ed7953\"], [0.7777777777777778, \"#fb9f3a\"], [0.8888888888888888, \"#fdca26\"], [1.0, \"#f0f921\"]], \"type\": \"heatmapgl\"}], \"histogram\": [{\"marker\": {\"colorbar\": {\"outlinewidth\": 0, \"ticks\": \"\"}}, \"type\": \"histogram\"}], \"histogram2d\": [{\"colorbar\": {\"outlinewidth\": 0, \"ticks\": \"\"}, \"colorscale\": [[0.0, \"#0d0887\"], [0.1111111111111111, \"#46039f\"], [0.2222222222222222, \"#7201a8\"], [0.3333333333333333, \"#9c179e\"], [0.4444444444444444, \"#bd3786\"], [0.5555555555555556, \"#d8576b\"], [0.6666666666666666, \"#ed7953\"], [0.7777777777777778, \"#fb9f3a\"], [0.8888888888888888, \"#fdca26\"], [1.0, \"#f0f921\"]], \"type\": \"histogram2d\"}], \"histogram2dcontour\": [{\"colorbar\": {\"outlinewidth\": 0, \"ticks\": \"\"}, \"colorscale\": [[0.0, \"#0d0887\"], [0.1111111111111111, \"#46039f\"], [0.2222222222222222, \"#7201a8\"], [0.3333333333333333, \"#9c179e\"], [0.4444444444444444, \"#bd3786\"], [0.5555555555555556, \"#d8576b\"], [0.6666666666666666, \"#ed7953\"], [0.7777777777777778, \"#fb9f3a\"], [0.8888888888888888, \"#fdca26\"], [1.0, \"#f0f921\"]], \"type\": \"histogram2dcontour\"}], \"mesh3d\": [{\"colorbar\": {\"outlinewidth\": 0, \"ticks\": \"\"}, \"type\": \"mesh3d\"}], \"parcoords\": [{\"line\": {\"colorbar\": {\"outlinewidth\": 0, \"ticks\": \"\"}}, \"type\": \"parcoords\"}], \"pie\": [{\"automargin\": true, \"type\": \"pie\"}], \"scatter\": [{\"marker\": {\"colorbar\": {\"outlinewidth\": 0, \"ticks\": \"\"}}, \"type\": \"scatter\"}], \"scatter3d\": [{\"line\": {\"colorbar\": {\"outlinewidth\": 0, \"ticks\": \"\"}}, \"marker\": {\"colorbar\": {\"outlinewidth\": 0, \"ticks\": \"\"}}, \"type\": \"scatter3d\"}], \"scattercarpet\": [{\"marker\": {\"colorbar\": {\"outlinewidth\": 0, \"ticks\": \"\"}}, \"type\": \"scattercarpet\"}], \"scattergeo\": [{\"marker\": {\"colorbar\": {\"outlinewidth\": 0, \"ticks\": \"\"}}, \"type\": \"scattergeo\"}], \"scattergl\": [{\"marker\": {\"colorbar\": {\"outlinewidth\": 0, \"ticks\": \"\"}}, \"type\": \"scattergl\"}], \"scattermapbox\": [{\"marker\": {\"colorbar\": {\"outlinewidth\": 0, \"ticks\": \"\"}}, \"type\": \"scattermapbox\"}], \"scatterpolar\": [{\"marker\": {\"colorbar\": {\"outlinewidth\": 0, \"ticks\": \"\"}}, \"type\": \"scatterpolar\"}], \"scatterpolargl\": [{\"marker\": {\"colorbar\": {\"outlinewidth\": 0, \"ticks\": \"\"}}, \"type\": \"scatterpolargl\"}], \"scatterternary\": [{\"marker\": {\"colorbar\": {\"outlinewidth\": 0, \"ticks\": \"\"}}, \"type\": \"scatterternary\"}], \"surface\": [{\"colorbar\": {\"outlinewidth\": 0, \"ticks\": \"\"}, \"colorscale\": [[0.0, \"#0d0887\"], [0.1111111111111111, \"#46039f\"], [0.2222222222222222, \"#7201a8\"], [0.3333333333333333, \"#9c179e\"], [0.4444444444444444, \"#bd3786\"], [0.5555555555555556, \"#d8576b\"], [0.6666666666666666, \"#ed7953\"], [0.7777777777777778, \"#fb9f3a\"], [0.8888888888888888, \"#fdca26\"], [1.0, \"#f0f921\"]], \"type\": \"surface\"}], \"table\": [{\"cells\": {\"fill\": {\"color\": \"#EBF0F8\"}, \"line\": {\"color\": \"white\"}}, \"header\": {\"fill\": {\"color\": \"#C8D4E3\"}, \"line\": {\"color\": \"white\"}}, \"type\": \"table\"}]}, \"layout\": {\"annotationdefaults\": {\"arrowcolor\": \"#2a3f5f\", \"arrowhead\": 0, \"arrowwidth\": 1}, \"coloraxis\": {\"colorbar\": {\"outlinewidth\": 0, \"ticks\": \"\"}}, \"colorscale\": {\"diverging\": [[0, \"#8e0152\"], [0.1, \"#c51b7d\"], [0.2, \"#de77ae\"], [0.3, \"#f1b6da\"], [0.4, \"#fde0ef\"], [0.5, \"#f7f7f7\"], [0.6, \"#e6f5d0\"], [0.7, \"#b8e186\"], [0.8, \"#7fbc41\"], [0.9, \"#4d9221\"], [1, \"#276419\"]], \"sequential\": [[0.0, \"#0d0887\"], [0.1111111111111111, \"#46039f\"], [0.2222222222222222, \"#7201a8\"], [0.3333333333333333, \"#9c179e\"], [0.4444444444444444, \"#bd3786\"], [0.5555555555555556, \"#d8576b\"], [0.6666666666666666, \"#ed7953\"], [0.7777777777777778, \"#fb9f3a\"], [0.8888888888888888, \"#fdca26\"], [1.0, \"#f0f921\"]], \"sequentialminus\": [[0.0, \"#0d0887\"], [0.1111111111111111, \"#46039f\"], [0.2222222222222222, \"#7201a8\"], [0.3333333333333333, \"#9c179e\"], [0.4444444444444444, \"#bd3786\"], [0.5555555555555556, \"#d8576b\"], [0.6666666666666666, \"#ed7953\"], [0.7777777777777778, \"#fb9f3a\"], [0.8888888888888888, \"#fdca26\"], [1.0, \"#f0f921\"]]}, \"colorway\": [\"#636efa\", \"#EF553B\", \"#00cc96\", \"#ab63fa\", \"#FFA15A\", \"#19d3f3\", \"#FF6692\", \"#B6E880\", \"#FF97FF\", \"#FECB52\"], \"font\": {\"color\": \"#2a3f5f\"}, \"geo\": {\"bgcolor\": \"white\", \"lakecolor\": \"white\", \"landcolor\": \"#E5ECF6\", \"showlakes\": true, \"showland\": true, \"subunitcolor\": \"white\"}, \"hoverlabel\": {\"align\": \"left\"}, \"hovermode\": \"closest\", \"mapbox\": {\"style\": \"light\"}, \"paper_bgcolor\": \"white\", \"plot_bgcolor\": \"#E5ECF6\", \"polar\": {\"angularaxis\": {\"gridcolor\": \"white\", \"linecolor\": \"white\", \"ticks\": \"\"}, \"bgcolor\": \"#E5ECF6\", \"radialaxis\": {\"gridcolor\": \"white\", \"linecolor\": \"white\", \"ticks\": \"\"}}, \"scene\": {\"xaxis\": {\"backgroundcolor\": \"#E5ECF6\", \"gridcolor\": \"white\", \"gridwidth\": 2, \"linecolor\": \"white\", \"showbackground\": true, \"ticks\": \"\", \"zerolinecolor\": \"white\"}, \"yaxis\": {\"backgroundcolor\": \"#E5ECF6\", \"gridcolor\": \"white\", \"gridwidth\": 2, \"linecolor\": \"white\", \"showbackground\": true, \"ticks\": \"\", \"zerolinecolor\": \"white\"}, \"zaxis\": {\"backgroundcolor\": \"#E5ECF6\", \"gridcolor\": \"white\", \"gridwidth\": 2, \"linecolor\": \"white\", \"showbackground\": true, \"ticks\": \"\", \"zerolinecolor\": \"white\"}}, \"shapedefaults\": {\"line\": {\"color\": \"#2a3f5f\"}}, \"ternary\": {\"aaxis\": {\"gridcolor\": \"white\", \"linecolor\": \"white\", \"ticks\": \"\"}, \"baxis\": {\"gridcolor\": \"white\", \"linecolor\": \"white\", \"ticks\": \"\"}, \"bgcolor\": \"#E5ECF6\", \"caxis\": {\"gridcolor\": \"white\", \"linecolor\": \"white\", \"ticks\": \"\"}}, \"title\": {\"x\": 0.05}, \"xaxis\": {\"automargin\": true, \"gridcolor\": \"white\", \"linecolor\": \"white\", \"ticks\": \"\", \"title\": {\"standoff\": 15}, \"zerolinecolor\": \"white\", \"zerolinewidth\": 2}, \"yaxis\": {\"automargin\": true, \"gridcolor\": \"white\", \"linecolor\": \"white\", \"ticks\": \"\", \"title\": {\"standoff\": 15}, \"zerolinecolor\": \"white\", \"zerolinewidth\": 2}}}, \"title\": {\"text\": \"ledighed vs. faglighed\"}, \"xaxis\": {\"anchor\": \"y\", \"domain\": [0.0, 0.7363], \"title\": {\"text\": \"ledighed\"}}, \"xaxis2\": {\"anchor\": \"y2\", \"domain\": [0.7413, 1.0], \"matches\": \"x2\", \"showgrid\": true, \"showline\": false, \"showticklabels\": false, \"ticks\": \"\"}, \"xaxis3\": {\"anchor\": \"y3\", \"domain\": [0.0, 0.7363], \"matches\": \"x\", \"showgrid\": true, \"showticklabels\": false}, \"xaxis4\": {\"anchor\": \"y4\", \"domain\": [0.7413, 1.0], \"matches\": \"x2\", \"showgrid\": true, \"showline\": false, \"showticklabels\": false, \"ticks\": \"\"}, \"yaxis\": {\"anchor\": \"x\", \"domain\": [0.0, 0.7326], \"title\": {\"text\": \"faglighed\"}}, \"yaxis2\": {\"anchor\": \"x2\", \"domain\": [0.0, 0.7326], \"matches\": \"y\", \"showgrid\": true, \"showticklabels\": false}, \"yaxis3\": {\"anchor\": \"x3\", \"domain\": [0.7426, 1.0], \"matches\": \"y3\", \"showgrid\": true, \"showline\": false, \"showticklabels\": false, \"ticks\": \"\"}, \"yaxis4\": {\"anchor\": \"x4\", \"domain\": [0.7426, 1.0], \"matches\": \"y3\", \"showgrid\": true, \"showline\": false, \"showticklabels\": false, \"ticks\": \"\"}},\n",
       "                        {\"responsive\": true}\n",
       "                    ).then(function(){\n",
       "                            \n",
       "var gd = document.getElementById('96b23439-7327-4aba-b2a9-fe76cb130bf6');\n",
       "var x = new MutationObserver(function (mutations, observer) {{\n",
       "        var display = window.getComputedStyle(gd).display;\n",
       "        if (!display || display === 'none') {{\n",
       "            console.log([gd, 'removed!']);\n",
       "            Plotly.purge(gd);\n",
       "            observer.disconnect();\n",
       "        }}\n",
       "}});\n",
       "\n",
       "// Listen for the removal of the full notebook cells\n",
       "var notebookContainer = gd.closest('#notebook-container');\n",
       "if (notebookContainer) {{\n",
       "    x.observe(notebookContainer, {childList: true});\n",
       "}}\n",
       "\n",
       "// Listen for the clearing of the current output cell\n",
       "var outputEl = gd.closest('.output');\n",
       "if (outputEl) {{\n",
       "    x.observe(outputEl, {childList: true});\n",
       "}}\n",
       "\n",
       "                        })\n",
       "                };\n",
       "                });\n",
       "            </script>\n",
       "        </div>"
      ]
     },
     "metadata": {},
     "output_type": "display_data"
    },
    {
     "data": {
      "application/vnd.plotly.v1+json": {
       "config": {
        "plotlyServerURL": "https://plot.ly"
       },
       "data": [
        {
         "customdata": [
          [
           "Arkitekt"
          ],
          [
           "Veterinærmedicin"
          ],
          [
           "Designledelse"
          ],
          [
           "Odontologi"
          ],
          [
           "Jura"
          ],
          [
           "Farmaci"
          ],
          [
           "Lyd- og musikteknologi"
          ],
          [
           "Farmaceutisk videnskab"
          ],
          [
           "Tværkulturelle studier"
          ],
          [
           "Amerikanske studier"
          ],
          [
           "Engelsk"
          ],
          [
           "Medialogy"
          ],
          [
           "Medicin og teknologi"
          ],
          [
           "Humanbiologi"
          ],
          [
           "Molecular Biology"
          ],
          [
           "Musikvidenskab"
          ],
          [
           "Informationsvidenskab og kulturformidling"
          ],
          [
           "Human ernæring"
          ],
          [
           "Erhvervssprog og international virksomhedskommunikation"
          ],
          [
           "Industrielt design"
          ],
          [
           "Religionsvidenskab"
          ],
          [
           "Sundhedsteknologi"
          ],
          [
           "Radiograf"
          ],
          [
           "Bioteknologi"
          ],
          [
           "Biologi-bioteknologi"
          ],
          [
           "Landskabsarkitektur"
          ],
          [
           "Corporate Communication"
          ],
          [
           "Biokemi"
          ],
          [
           "Byggeri"
          ],
          [
           "Moderne kultur og kulturformidling"
          ],
          [
           "Sygeplejerske"
          ],
          [
           "Uddannelsesvidenskab"
          ],
          [
           "Filosofi"
          ],
          [
           "Bioinformatik"
          ],
          [
           "Digital design og interaktive teknologier"
          ],
          [
           "Astronomi"
          ],
          [
           "Miljøvidenskab"
          ],
          [
           "Global udvikling"
          ],
          [
           "Samfundsvidenskabelig jura"
          ],
          [
           "Fransk sprog, litteratur og kultur"
          ],
          [
           "Tekstildesign, -håndværk og formidling"
          ],
          [
           "Erhvervsøkonomi og virksomhedskommunikation"
          ],
          [
           "Bygningsdesign"
          ],
          [
           "Fødevareteknologi"
          ],
          [
           "Audiologi"
          ],
          [
           "Cultural Sociology"
          ],
          [
           "Mechatronics Engineering"
          ],
          [
           "Medicine with Industrial Specialisation"
          ],
          [
           "Antropologi"
          ],
          [
           "Biologi"
          ],
          [
           "Anvendt kemi"
          ],
          [
           "It-ledelse"
          ],
          [
           "Molekylær ernæring og fødevareteknologi"
          ],
          [
           "Film- og medievidenskab"
          ],
          [
           "Erhvervsøkonomi og psykologi"
          ],
          [
           "It, kommunikation og organisation"
          ],
          [
           "Datalogi"
          ],
          [
           "Fysik"
          ],
          [
           "Olie- og gasteknologi"
          ],
          [
           "Kultur, kommunikation og globalisering"
          ],
          [
           "Dansk"
          ],
          [
           "Erhvervsøkonomi - erhvervssprog, negot."
          ],
          [
           "Medicin"
          ],
          [
           "Webudvikling"
          ],
          [
           "Fysik og nanoteknologi"
          ],
          [
           "Agronomi"
          ],
          [
           "Pædagogisk filosofi"
          ],
          [
           "Pædagogisk psykologi"
          ],
          [
           "Husdyrvidenskab"
          ],
          [
           "Pædagogik"
          ],
          [
           "Socialt arbejde"
          ],
          [
           "Økonomi"
          ],
          [
           "Erhvervsøkonomi og erhvervsjura"
          ],
          [
           "It-design og applikationsudvikling"
          ],
          [
           "Matematik-økonomi"
          ],
          [
           "Historie"
          ],
          [
           "Bioanalytiker"
          ],
          [
           "Design og business"
          ],
          [
           "Forvaltning"
          ],
          [
           "Kemi og bioteknologi"
          ],
          [
           "Kultur og formidling"
          ],
          [
           "Socialrådgiver"
          ],
          [
           "Tysk"
          ],
          [
           "Litteraturvidenskab"
          ],
          [
           "Erhvervsøkonomi, cand.soc."
          ],
          [
           "Teologi"
          ],
          [
           "Geologi"
          ],
          [
           "Diplomingeniør - bygningsdesign"
          ],
          [
           "Tandplejer"
          ],
          [
           "It-didaktisk design"
          ],
          [
           "Bioinformatik og systembiologi"
          ],
          [
           "Jordbrugsøkonomi"
          ],
          [
           "Fysioterapeut"
          ],
          [
           "Samfundsfag"
          ],
          [
           "Statskundskab"
          ],
          [
           "Sociologi"
          ],
          [
           "Erhvervsøkonomi, cand.merc."
          ],
          [
           "Designer"
          ],
          [
           "Dramaturgi"
          ],
          [
           "Teknologibaseret forretningsudvikling"
          ],
          [
           "Mechanical Engineering"
          ],
          [
           "Softwaredesign"
          ],
          [
           "Agro-Environmental Management"
          ],
          [
           "Transport og logistik"
          ],
          [
           "Matematik"
          ],
          [
           "Sundhedsfremme og sundhedsstrategier"
          ],
          [
           "Kriminologi"
          ],
          [
           "Socialvidenskab"
          ],
          [
           "Ernæring og sundhed"
          ],
          [
           "Kemi (civilingeniør)"
          ],
          [
           "Diplomingeniør - softwareteknologi"
          ],
          [
           "Digital innovation og management"
          ],
          [
           "Kunsthistorie"
          ],
          [
           "Digital design"
          ],
          [
           "Psykologi"
          ],
          [
           "Sundhedsfaglig kandidat"
          ],
          [
           "Psykomotorisk terapeut"
          ],
          [
           "Medievidenskab"
          ],
          [
           "Ergoterapi"
          ],
          [
           "Erhvervsøkonomi og filosofi"
          ],
          [
           "Spansk sprog og kultur"
          ],
          [
           "Mellemøststudier"
          ],
          [
           "Molekylær medicin"
          ],
          [
           "Diplomingeniør - bygning"
          ],
          [
           "Humanistisk-samfundsvidenskabelig idrætsvidenskab"
          ],
          [
           "Informationsvidenskab"
          ],
          [
           "Software"
          ],
          [
           "Folkesundhedsvidenskab"
          ],
          [
           "Diplomingeniør - elektrisk energiteknologi"
          ],
          [
           "Audiologopædi"
          ],
          [
           "Pædagogisk sociologi"
          ],
          [
           "Nanoscience"
          ],
          [
           "Klinisk sygepleje"
          ],
          [
           "Sygepleje"
          ],
          [
           "Anvendt kulturanalyse"
          ],
          [
           "Fødevarevidenskab"
          ],
          [
           "Geografi"
          ],
          [
           "Optometrist"
          ],
          [
           "Bygningskonstruktør"
          ],
          [
           "Ergoterapeut"
          ],
          [
           "Pædagog"
          ],
          [
           "Arbejdslivsstudier"
          ],
          [
           "Fysioterapi"
          ],
          [
           "Have- og parkingeniør"
          ],
          [
           "Kommunikation"
          ],
          [
           "Klinisk ernæring"
          ],
          [
           "Tourism"
          ],
          [
           "Digitale medieteknologier"
          ],
          [
           "Interaktive digitale medier"
          ],
          [
           "International sikkerhed og folkeret"
          ],
          [
           "Design og innovation"
          ],
          [
           "Politisk kommunikation og ledelse"
          ],
          [
           "Lingvistik"
          ],
          [
           "Humanfysiologi"
          ],
          [
           "Laboratorie- og fødevareteknologi"
          ],
          [
           "Medicinalkemi"
          ],
          [
           "Journalistik"
          ],
          [
           "Spil"
          ],
          [
           "Offentlig administration"
          ],
          [
           "Æstetik og kultur"
          ],
          [
           "Softwareudvikling"
          ],
          [
           "IT Product Design"
          ],
          [
           "Kemi"
          ],
          [
           "Revisorkandidat, cand.merc.aud."
          ],
          [
           "Jordemoder"
          ],
          [
           "Oplevelsesøkonomi"
          ],
          [
           "Vision, Graphics and Interactive Systems"
          ],
          [
           "Kemisk og biokemisk teknologi"
          ],
          [
           "Energy Engineering"
          ],
          [
           "Diplomingeniør - maskinteknik"
          ],
          [
           "Industriel økonomi og teknologiledelse"
          ],
          [
           "Materiale- og procesteknologi"
          ],
          [
           "Miljøteknologi"
          ],
          [
           "Byggeteknologi"
          ],
          [
           "Geofysik"
          ],
          [
           "Digital konceptudvikling"
          ],
          [
           "Statistik"
          ],
          [
           "Webkommunikation"
          ],
          [
           "Informationsteknologi"
          ],
          [
           "Farmateknologi"
          ],
          [
           "Multimediedesigner"
          ],
          [
           "International handel og markedsføring"
          ],
          [
           "Business Administration and Information Systems"
          ],
          [
           "Maskinmester"
          ],
          [
           "Politik og administration"
          ],
          [
           "Bæredygtigt design"
          ],
          [
           "Virksomhedsledelse"
          ],
          [
           "Didaktik"
          ],
          [
           "Energiteknologi"
          ],
          [
           "Elektroteknologi"
          ],
          [
           "Lærer i folkeskolen"
          ],
          [
           "Mekanik"
          ],
          [
           "Diplomingeniør - elektronik"
          ],
          [
           "Læring og forandringsprocesser"
          ],
          [
           "International Hospitality Management"
          ],
          [
           "Anvendt filosofi"
          ],
          [
           "Diplomingeniør - eksport og teknologi"
          ],
          [
           "Jordbrug"
          ],
          [
           "Financial Controller"
          ],
          [
           "Pædagogisk antropologi"
          ],
          [
           "Europastudier"
          ],
          [
           "Administrationsøkonom"
          ],
          [
           "International Public Administration and Politics"
          ],
          [
           "Matematisk modellering og computing"
          ],
          [
           "Designteknolog"
          ],
          [
           "Laborant"
          ],
          [
           "Retorik"
          ],
          [
           "IT-teknolog"
          ],
          [
           "Konstruktion og mekanik"
          ],
          [
           "Water and Environment Engineering"
          ],
          [
           "Datamatiker"
          ],
          [
           "Elinstallatør"
          ],
          [
           "Finans"
          ],
          [
           "Markedsføringsøkonom"
          ],
          [
           "Bæredygtig energi"
          ],
          [
           "Procesteknolog"
          ],
          [
           "Lyd og akustisk teknologi"
          ],
          [
           "Serviceøkonom"
          ],
          [
           "Produktudvikling og teknisk integration"
          ],
          [
           "Medieproduktion og ledelse"
          ],
          [
           "It, læring og organisatorisk omstilling"
          ],
          [
           "Miljøteknolog"
          ],
          [
           "Innovation and Business"
          ],
          [
           "Idræt"
          ],
          [
           "Grafisk kommunikation"
          ],
          [
           "Økonomi og informationsteknologi"
          ],
          [
           "Veje og trafik"
          ],
          [
           "Ledelse og informatik i byggeriet"
          ],
          [
           "Logistikøkonom"
          ],
          [
           "Diakoni og socialpædagogik"
          ],
          [
           "Finansøkonom"
          ],
          [
           "Visuel kommunikation"
          ],
          [
           "Handelsøkonom"
          ],
          [
           "Multiplatform storytelling and production"
          ],
          [
           "Jordbrugsteknolog"
          ],
          [
           "Journalist"
          ],
          [
           "Geofysik og rumteknologi"
          ],
          [
           "Automationsteknolog"
          ],
          [
           "Produktionsteknolog"
          ],
          [
           "Kommunikation"
          ],
          [
           "Landinspektørvidenskab"
          ],
          [
           "Tv- og medietilrettelæggelse"
          ],
          [
           "Energiteknolog"
          ],
          [
           "Lærer fra Den frie Lærerskole"
          ]
         ],
         "hoverlabel": {
          "namelength": 0
         },
         "hovertemplate": "ledighed=%{x}<br>socialt=%{y}<br>Titel=%{customdata[0]}",
         "legendgroup": "",
         "marker": {
          "color": "#636efa",
          "symbol": "circle"
         },
         "mode": "markers",
         "name": "",
         "showlegend": false,
         "type": "scatter",
         "x": [
          11,
          6,
          27,
          3,
          5,
          8,
          13,
          4,
          23,
          22,
          22,
          24,
          4,
          6,
          17,
          16,
          19,
          24,
          18,
          21,
          24,
          1,
          3,
          12,
          14,
          13,
          12,
          18,
          1,
          25,
          1,
          15,
          30,
          5,
          12,
          13,
          10,
          10,
          5,
          23,
          21,
          9,
          14,
          10,
          8,
          12,
          7,
          17,
          23,
          23,
          12,
          12,
          14,
          19,
          7,
          6,
          3,
          6,
          10,
          27,
          16,
          14,
          1,
          13,
          5,
          11,
          17,
          12,
          12,
          14,
          10,
          2,
          6,
          15,
          3,
          26,
          5,
          16,
          11,
          11,
          36,
          6,
          16,
          27,
          7,
          18,
          17,
          4,
          8,
          12,
          8,
          7,
          6,
          14,
          6,
          17,
          7,
          27,
          24,
          7,
          6,
          3,
          18,
          2,
          3,
          20,
          18,
          28,
          11,
          18,
          5,
          6,
          31,
          24,
          10,
          7,
          20,
          20,
          5,
          19,
          22,
          22,
          14,
          4,
          10,
          13,
          3,
          11,
          3,
          2,
          13,
          14,
          1,
          3,
          23,
          8,
          13,
          1,
          7,
          10,
          8,
          12,
          5,
          14,
          22,
          10,
          19,
          5,
          37,
          20,
          6,
          12,
          14,
          12,
          13,
          17,
          12,
          12,
          12,
          31,
          7,
          19,
          12,
          2,
          2,
          28,
          4,
          6,
          5,
          5,
          4,
          6,
          11,
          4,
          18,
          20,
          2,
          16,
          0,
          7,
          15,
          12,
          6,
          3,
          18,
          16,
          16,
          13,
          22,
          4,
          6,
          1,
          5,
          19,
          13,
          30,
          12,
          16,
          10,
          17,
          26,
          19,
          10,
          2,
          12,
          7,
          18,
          11,
          2,
          2,
          10,
          2,
          4,
          8,
          12,
          13,
          2,
          9,
          15,
          14,
          16,
          22,
          7,
          15,
          19,
          4,
          1,
          6,
          7,
          7,
          6,
          16,
          8,
          21,
          10,
          11,
          11,
          3,
          10,
          8,
          4,
          14,
          12,
          19
         ],
         "xaxis": "x",
         "y": [
          4.12,
          4.03,
          3.76,
          4.13,
          3.43,
          3.85,
          3.27,
          3.6,
          3.9,
          3.35,
          3.65,
          3.79,
          4.13,
          4.05,
          3.85,
          4.03,
          3.13,
          3.47,
          3.56,
          4.07,
          3.67,
          3.83,
          3.77,
          3.92,
          4.02,
          3.96,
          3.73,
          4.05,
          4.09,
          3.42,
          3.82,
          3.58,
          3.53,
          3.62,
          4.07,
          4.55,
          3.83,
          4.21,
          3.38,
          3.56,
          3.5,
          3.66,
          4,
          4.17,
          3.83,
          3.47,
          3.58,
          3.59,
          4.03,
          3.99,
          3.87,
          4.08,
          3.98,
          3.7,
          3.97,
          4.05,
          3.69,
          4.17,
          3.92,
          3.79,
          3.57,
          3.64,
          4.04,
          3.51,
          4.1,
          3.86,
          3.72,
          3.49,
          3.6,
          3.55,
          3.35,
          3.77,
          3.63,
          3.56,
          4.37,
          3.76,
          3.86,
          3.68,
          3.54,
          4.44,
          3.3,
          3.67,
          3.33,
          3.72,
          4.27,
          3.68,
          4.22,
          4.07,
          3.93,
          3.19,
          4.24,
          4.08,
          4.04,
          3.63,
          3.81,
          3.86,
          3.79,
          4.11,
          4.28,
          3.63,
          3.81,
          4.1,
          4.09,
          3.85,
          4.09,
          3.4,
          3.56,
          3.63,
          3.61,
          4.22,
          3.75,
          4.12,
          3.49,
          3.93,
          3.66,
          3.49,
          3.89,
          4.03,
          3.28,
          3.87,
          3.75,
          3.95,
          4.09,
          3.91,
          4.07,
          3.76,
          3.91,
          3.74,
          3.89,
          3.82,
          3.6,
          4.15,
          3.73,
          3.77,
          3.57,
          3.88,
          3.86,
          3.9,
          3.9,
          3.91,
          3.91,
          3.44,
          3.53,
          4.03,
          3.46,
          3.72,
          3.86,
          3.9,
          4.04,
          3.67,
          4.1,
          3.87,
          4.12,
          4.07,
          3.71,
          3.63,
          3.91,
          3.88,
          3.56,
          3.74,
          3.57,
          3.97,
          3.99,
          3.21,
          3.69,
          3.88,
          3.25,
          4,
          4.18,
          4.03,
          4.01,
          3.9,
          3.99,
          3.89,
          4.38,
          3.81,
          3.97,
          3.49,
          3.9,
          3.98,
          3.89,
          3.73,
          3.84,
          3.86,
          3.64,
          4.13,
          3.68,
          3.65,
          3.85,
          3.98,
          3.9,
          3.97,
          3.93,
          3.72,
          3.72,
          3.93,
          3.69,
          3.61,
          3.92,
          3.88,
          3.48,
          3.65,
          3.5,
          3.64,
          3.79,
          3.86,
          3.81,
          3.78,
          3.95,
          3.88,
          3.71,
          3.91,
          3.87,
          3.85,
          4.04,
          3.78,
          3.84,
          3.95,
          3.66,
          3.4,
          3.51,
          4.19,
          3.82,
          4.02,
          3.83,
          3.85,
          4.14,
          3.17,
          3.8,
          4.15,
          3.83,
          4.34,
          3.78,
          4.32,
          3.96,
          4.22,
          4.18,
          3.9,
          3.84,
          3.82,
          3.98,
          4.14,
          3.8,
          4.67
         ],
         "yaxis": "y"
        },
        {
         "alignmentgroup": "True",
         "bingroup": "x",
         "hoverlabel": {
          "namelength": 0
         },
         "hovertemplate": "ledighed=%{x}<br>count=%{y}",
         "legendgroup": "",
         "marker": {
          "color": "#636efa"
         },
         "name": "",
         "offsetgroup": "",
         "opacity": 0.5,
         "showlegend": false,
         "type": "histogram",
         "x": [
          11,
          6,
          27,
          3,
          5,
          8,
          13,
          4,
          23,
          22,
          22,
          24,
          4,
          6,
          17,
          16,
          19,
          24,
          18,
          21,
          24,
          1,
          3,
          12,
          14,
          13,
          12,
          18,
          1,
          25,
          1,
          15,
          30,
          5,
          12,
          13,
          10,
          10,
          5,
          23,
          21,
          9,
          14,
          10,
          8,
          12,
          7,
          17,
          23,
          23,
          12,
          12,
          14,
          19,
          7,
          6,
          3,
          6,
          10,
          27,
          16,
          14,
          1,
          13,
          5,
          11,
          17,
          12,
          12,
          14,
          10,
          2,
          6,
          15,
          3,
          26,
          5,
          16,
          11,
          11,
          36,
          6,
          16,
          27,
          7,
          18,
          17,
          4,
          8,
          12,
          8,
          7,
          6,
          14,
          6,
          17,
          7,
          27,
          24,
          7,
          6,
          3,
          18,
          2,
          3,
          20,
          18,
          28,
          11,
          18,
          5,
          6,
          31,
          24,
          10,
          7,
          20,
          20,
          5,
          19,
          22,
          22,
          14,
          4,
          10,
          13,
          3,
          11,
          3,
          2,
          13,
          14,
          1,
          3,
          23,
          8,
          13,
          1,
          7,
          10,
          8,
          12,
          5,
          14,
          22,
          10,
          19,
          5,
          37,
          20,
          6,
          12,
          14,
          12,
          13,
          17,
          12,
          12,
          12,
          31,
          7,
          19,
          12,
          2,
          2,
          28,
          4,
          6,
          5,
          5,
          4,
          6,
          11,
          4,
          18,
          20,
          2,
          16,
          0,
          7,
          15,
          12,
          6,
          3,
          18,
          16,
          16,
          13,
          22,
          4,
          6,
          1,
          5,
          19,
          13,
          30,
          12,
          16,
          10,
          17,
          26,
          19,
          10,
          2,
          12,
          7,
          18,
          11,
          2,
          2,
          10,
          2,
          4,
          8,
          12,
          13,
          2,
          9,
          15,
          14,
          16,
          22,
          7,
          15,
          19,
          4,
          1,
          6,
          7,
          7,
          6,
          16,
          8,
          21,
          10,
          11,
          11,
          3,
          10,
          8,
          4,
          14,
          12,
          19
         ],
         "xaxis": "x3",
         "yaxis": "y3"
        },
        {
         "alignmentgroup": "True",
         "bingroup": "y",
         "hoverlabel": {
          "namelength": 0
         },
         "hovertemplate": "socialt=%{y}<br>count=%{x}",
         "legendgroup": "",
         "marker": {
          "color": "#636efa"
         },
         "name": "",
         "offsetgroup": "",
         "opacity": 0.5,
         "showlegend": false,
         "type": "histogram",
         "xaxis": "x2",
         "y": [
          4.12,
          4.03,
          3.76,
          4.13,
          3.43,
          3.85,
          3.27,
          3.6,
          3.9,
          3.35,
          3.65,
          3.79,
          4.13,
          4.05,
          3.85,
          4.03,
          3.13,
          3.47,
          3.56,
          4.07,
          3.67,
          3.83,
          3.77,
          3.92,
          4.02,
          3.96,
          3.73,
          4.05,
          4.09,
          3.42,
          3.82,
          3.58,
          3.53,
          3.62,
          4.07,
          4.55,
          3.83,
          4.21,
          3.38,
          3.56,
          3.5,
          3.66,
          4,
          4.17,
          3.83,
          3.47,
          3.58,
          3.59,
          4.03,
          3.99,
          3.87,
          4.08,
          3.98,
          3.7,
          3.97,
          4.05,
          3.69,
          4.17,
          3.92,
          3.79,
          3.57,
          3.64,
          4.04,
          3.51,
          4.1,
          3.86,
          3.72,
          3.49,
          3.6,
          3.55,
          3.35,
          3.77,
          3.63,
          3.56,
          4.37,
          3.76,
          3.86,
          3.68,
          3.54,
          4.44,
          3.3,
          3.67,
          3.33,
          3.72,
          4.27,
          3.68,
          4.22,
          4.07,
          3.93,
          3.19,
          4.24,
          4.08,
          4.04,
          3.63,
          3.81,
          3.86,
          3.79,
          4.11,
          4.28,
          3.63,
          3.81,
          4.1,
          4.09,
          3.85,
          4.09,
          3.4,
          3.56,
          3.63,
          3.61,
          4.22,
          3.75,
          4.12,
          3.49,
          3.93,
          3.66,
          3.49,
          3.89,
          4.03,
          3.28,
          3.87,
          3.75,
          3.95,
          4.09,
          3.91,
          4.07,
          3.76,
          3.91,
          3.74,
          3.89,
          3.82,
          3.6,
          4.15,
          3.73,
          3.77,
          3.57,
          3.88,
          3.86,
          3.9,
          3.9,
          3.91,
          3.91,
          3.44,
          3.53,
          4.03,
          3.46,
          3.72,
          3.86,
          3.9,
          4.04,
          3.67,
          4.1,
          3.87,
          4.12,
          4.07,
          3.71,
          3.63,
          3.91,
          3.88,
          3.56,
          3.74,
          3.57,
          3.97,
          3.99,
          3.21,
          3.69,
          3.88,
          3.25,
          4,
          4.18,
          4.03,
          4.01,
          3.9,
          3.99,
          3.89,
          4.38,
          3.81,
          3.97,
          3.49,
          3.9,
          3.98,
          3.89,
          3.73,
          3.84,
          3.86,
          3.64,
          4.13,
          3.68,
          3.65,
          3.85,
          3.98,
          3.9,
          3.97,
          3.93,
          3.72,
          3.72,
          3.93,
          3.69,
          3.61,
          3.92,
          3.88,
          3.48,
          3.65,
          3.5,
          3.64,
          3.79,
          3.86,
          3.81,
          3.78,
          3.95,
          3.88,
          3.71,
          3.91,
          3.87,
          3.85,
          4.04,
          3.78,
          3.84,
          3.95,
          3.66,
          3.4,
          3.51,
          4.19,
          3.82,
          4.02,
          3.83,
          3.85,
          4.14,
          3.17,
          3.8,
          4.15,
          3.83,
          4.34,
          3.78,
          4.32,
          3.96,
          4.22,
          4.18,
          3.9,
          3.84,
          3.82,
          3.98,
          4.14,
          3.8,
          4.67
         ],
         "yaxis": "y2"
        },
        {
         "hoverlabel": {
          "namelength": 0
         },
         "hovertemplate": "<b>LOWESS trendline</b><br><br>ledighed=%{x}<br>socialt=%{y} <b>(trend)</b>",
         "legendgroup": "",
         "marker": {
          "color": "#636efa",
          "symbol": "circle"
         },
         "mode": "lines",
         "name": "",
         "showlegend": false,
         "type": "scatter",
         "x": [
          0,
          1,
          1,
          1,
          1,
          1,
          1,
          1,
          1,
          2,
          2,
          2,
          2,
          2,
          2,
          2,
          2,
          2,
          2,
          2,
          3,
          3,
          3,
          3,
          3,
          3,
          3,
          3,
          3,
          3,
          3,
          4,
          4,
          4,
          4,
          4,
          4,
          4,
          4,
          4,
          4,
          4,
          5,
          5,
          5,
          5,
          5,
          5,
          5,
          5,
          5,
          5,
          5,
          5,
          6,
          6,
          6,
          6,
          6,
          6,
          6,
          6,
          6,
          6,
          6,
          6,
          6,
          6,
          6,
          6,
          6,
          7,
          7,
          7,
          7,
          7,
          7,
          7,
          7,
          7,
          7,
          7,
          7,
          7,
          7,
          8,
          8,
          8,
          8,
          8,
          8,
          8,
          8,
          8,
          9,
          9,
          10,
          10,
          10,
          10,
          10,
          10,
          10,
          10,
          10,
          10,
          10,
          10,
          10,
          10,
          11,
          11,
          11,
          11,
          11,
          11,
          11,
          11,
          11,
          11,
          12,
          12,
          12,
          12,
          12,
          12,
          12,
          12,
          12,
          12,
          12,
          12,
          12,
          12,
          12,
          12,
          12,
          12,
          12,
          12,
          12,
          13,
          13,
          13,
          13,
          13,
          13,
          13,
          13,
          13,
          13,
          13,
          14,
          14,
          14,
          14,
          14,
          14,
          14,
          14,
          14,
          14,
          14,
          14,
          15,
          15,
          15,
          15,
          15,
          16,
          16,
          16,
          16,
          16,
          16,
          16,
          16,
          16,
          16,
          17,
          17,
          17,
          17,
          17,
          17,
          17,
          18,
          18,
          18,
          18,
          18,
          18,
          18,
          18,
          18,
          19,
          19,
          19,
          19,
          19,
          19,
          19,
          19,
          19,
          20,
          20,
          20,
          20,
          20,
          21,
          21,
          21,
          22,
          22,
          22,
          22,
          22,
          22,
          22,
          23,
          23,
          23,
          23,
          23,
          24,
          24,
          24,
          24,
          24,
          25,
          26,
          26,
          27,
          27,
          27,
          27,
          28,
          28,
          30,
          30,
          31,
          31,
          36,
          37
         ],
         "xaxis": "x",
         "y": [
          3.89950570197656,
          3.8953982451281104,
          3.8953982451281104,
          3.8953982451281104,
          3.8953982451281104,
          3.8953982451281104,
          3.8953982451281104,
          3.8953982451281104,
          3.8953982451281104,
          3.8912612739386625,
          3.8912612739386625,
          3.8912612739386625,
          3.8912612739386625,
          3.8912612739386625,
          3.8912612739386625,
          3.8912612739386625,
          3.8912612739386625,
          3.8912612739386625,
          3.8912612739386625,
          3.8912612739386625,
          3.8869565403129025,
          3.8869565403129025,
          3.8869565403129025,
          3.8869565403129025,
          3.8869565403129025,
          3.8869565403129025,
          3.8869565403129025,
          3.8869565403129025,
          3.8869565403129025,
          3.8869565403129025,
          3.8869565403129025,
          3.8825515233947763,
          3.8825515233947763,
          3.8825515233947763,
          3.8825515233947763,
          3.8825515233947763,
          3.8825515233947763,
          3.8825515233947763,
          3.8825515233947763,
          3.8825515233947763,
          3.8825515233947763,
          3.8825515233947763,
          3.8780395968034984,
          3.8780395968034984,
          3.8780395968034984,
          3.8780395968034984,
          3.8780395968034984,
          3.8780395968034984,
          3.8780395968034984,
          3.8780395968034984,
          3.8780395968034984,
          3.8780395968034984,
          3.8780395968034984,
          3.8780395968034984,
          3.873361394798251,
          3.873361394798251,
          3.873361394798251,
          3.873361394798251,
          3.873361394798251,
          3.873361394798251,
          3.873361394798251,
          3.873361394798251,
          3.873361394798251,
          3.873361394798251,
          3.873361394798251,
          3.873361394798251,
          3.873361394798251,
          3.873361394798251,
          3.873361394798251,
          3.873361394798251,
          3.873361394798251,
          3.868840589155403,
          3.868840589155403,
          3.868840589155403,
          3.868840589155403,
          3.868840589155403,
          3.868840589155403,
          3.868840589155403,
          3.868840589155403,
          3.868840589155403,
          3.868840589155403,
          3.868840589155403,
          3.868840589155403,
          3.868840589155403,
          3.868840589155403,
          3.8605314995017923,
          3.8605314995017923,
          3.8605314995017923,
          3.8605314995017923,
          3.8605314995017923,
          3.8605314995017923,
          3.8605314995017923,
          3.8605314995017923,
          3.8605314995017923,
          3.8517533208049133,
          3.8517533208049133,
          3.843137950522786,
          3.843137950522786,
          3.843137950522786,
          3.843137950522786,
          3.843137950522786,
          3.843137950522786,
          3.843137950522786,
          3.843137950522786,
          3.843137950522786,
          3.843137950522786,
          3.843137950522786,
          3.843137950522786,
          3.843137950522786,
          3.843137950522786,
          3.8332549813249983,
          3.8332549813249983,
          3.8332549813249983,
          3.8332549813249983,
          3.8332549813249983,
          3.8332549813249983,
          3.8332549813249983,
          3.8332549813249983,
          3.8332549813249983,
          3.8332549813249983,
          3.8222557235673653,
          3.8222557235673653,
          3.8222557235673653,
          3.8222557235673653,
          3.8222557235673653,
          3.8222557235673653,
          3.8222557235673653,
          3.8222557235673653,
          3.8222557235673653,
          3.8222557235673653,
          3.8222557235673653,
          3.8222557235673653,
          3.8222557235673653,
          3.8222557235673653,
          3.8222557235673653,
          3.8222557235673653,
          3.8222557235673653,
          3.8222557235673653,
          3.8222557235673653,
          3.8222557235673653,
          3.8222557235673653,
          3.814677710769139,
          3.814677710769139,
          3.814677710769139,
          3.814677710769139,
          3.814677710769139,
          3.814677710769139,
          3.814677710769139,
          3.814677710769139,
          3.814677710769139,
          3.814677710769139,
          3.814677710769139,
          3.8072755926439874,
          3.8072755926439874,
          3.8072755926439874,
          3.8072755926439874,
          3.8072755926439874,
          3.8072755926439874,
          3.8072755926439874,
          3.8072755926439874,
          3.8072755926439874,
          3.8072755926439874,
          3.8072755926439874,
          3.8072755926439874,
          3.803519557207766,
          3.803519557207766,
          3.803519557207766,
          3.803519557207766,
          3.803519557207766,
          3.8003991961354178,
          3.8003991961354178,
          3.8003991961354178,
          3.8003991961354178,
          3.8003991961354178,
          3.8003991961354178,
          3.8003991961354178,
          3.8003991961354178,
          3.8003991961354178,
          3.8003991961354178,
          3.7959746032508956,
          3.7959746032508956,
          3.7959746032508956,
          3.7959746032508956,
          3.7959746032508956,
          3.7959746032508956,
          3.7959746032508956,
          3.7910908483255,
          3.7910908483255,
          3.7910908483255,
          3.7910908483255,
          3.7910908483255,
          3.7910908483255,
          3.7910908483255,
          3.7910908483255,
          3.7910908483255,
          3.7866732952117004,
          3.7866732952117004,
          3.7866732952117004,
          3.7866732952117004,
          3.7866732952117004,
          3.7866732952117004,
          3.7866732952117004,
          3.7866732952117004,
          3.7866732952117004,
          3.7822660600316076,
          3.7822660600316076,
          3.7822660600316076,
          3.7822660600316076,
          3.7822660600316076,
          3.777026778644876,
          3.777026778644876,
          3.777026778644876,
          3.7713312229051175,
          3.7713312229051175,
          3.7713312229051175,
          3.7713312229051175,
          3.7713312229051175,
          3.7713312229051175,
          3.7713312229051175,
          3.764819652728975,
          3.764819652728975,
          3.764819652728975,
          3.764819652728975,
          3.764819652728975,
          3.7583898572393446,
          3.7583898572393446,
          3.7583898572393446,
          3.7583898572393446,
          3.7583898572393446,
          3.7523868848153863,
          3.7466981466734097,
          3.7466981466734097,
          3.7411865145388528,
          3.7411865145388528,
          3.7411865145388528,
          3.7411865145388528,
          3.7357622608793832,
          3.7357622608793832,
          3.7248552917694484,
          3.7248552917694484,
          3.719263233936399,
          3.719263233936399,
          3.68949150047175,
          3.6832645832727087
         ],
         "yaxis": "y"
        }
       ],
       "layout": {
        "barmode": "overlay",
        "legend": {
         "tracegroupgap": 0
        },
        "shapes": [
         {
          "fillcolor": "LightSkyBlue",
          "layer": "below",
          "line": {
           "width": 0
          },
          "opacity": 0.5,
          "type": "rect",
          "x0": 11.115261697226948,
          "x1": 13.024082565068134,
          "xref": "x",
          "y0": 3.13,
          "y1": 4.67,
          "yref": "y"
         },
         {
          "fillcolor": "LightSkyBlue",
          "layer": "below",
          "line": {
           "width": 0
          },
          "opacity": 0.5,
          "type": "rect",
          "x0": 0,
          "x1": 37,
          "xref": "x",
          "y0": 3.795955633744867,
          "y1": 3.8606837105174274,
          "yref": "y"
         }
        ],
        "template": {
         "data": {
          "bar": [
           {
            "error_x": {
             "color": "#2a3f5f"
            },
            "error_y": {
             "color": "#2a3f5f"
            },
            "marker": {
             "line": {
              "color": "#E5ECF6",
              "width": 0.5
             }
            },
            "type": "bar"
           }
          ],
          "barpolar": [
           {
            "marker": {
             "line": {
              "color": "#E5ECF6",
              "width": 0.5
             }
            },
            "type": "barpolar"
           }
          ],
          "carpet": [
           {
            "aaxis": {
             "endlinecolor": "#2a3f5f",
             "gridcolor": "white",
             "linecolor": "white",
             "minorgridcolor": "white",
             "startlinecolor": "#2a3f5f"
            },
            "baxis": {
             "endlinecolor": "#2a3f5f",
             "gridcolor": "white",
             "linecolor": "white",
             "minorgridcolor": "white",
             "startlinecolor": "#2a3f5f"
            },
            "type": "carpet"
           }
          ],
          "choropleth": [
           {
            "colorbar": {
             "outlinewidth": 0,
             "ticks": ""
            },
            "type": "choropleth"
           }
          ],
          "contour": [
           {
            "colorbar": {
             "outlinewidth": 0,
             "ticks": ""
            },
            "colorscale": [
             [
              0,
              "#0d0887"
             ],
             [
              0.1111111111111111,
              "#46039f"
             ],
             [
              0.2222222222222222,
              "#7201a8"
             ],
             [
              0.3333333333333333,
              "#9c179e"
             ],
             [
              0.4444444444444444,
              "#bd3786"
             ],
             [
              0.5555555555555556,
              "#d8576b"
             ],
             [
              0.6666666666666666,
              "#ed7953"
             ],
             [
              0.7777777777777778,
              "#fb9f3a"
             ],
             [
              0.8888888888888888,
              "#fdca26"
             ],
             [
              1,
              "#f0f921"
             ]
            ],
            "type": "contour"
           }
          ],
          "contourcarpet": [
           {
            "colorbar": {
             "outlinewidth": 0,
             "ticks": ""
            },
            "type": "contourcarpet"
           }
          ],
          "heatmap": [
           {
            "colorbar": {
             "outlinewidth": 0,
             "ticks": ""
            },
            "colorscale": [
             [
              0,
              "#0d0887"
             ],
             [
              0.1111111111111111,
              "#46039f"
             ],
             [
              0.2222222222222222,
              "#7201a8"
             ],
             [
              0.3333333333333333,
              "#9c179e"
             ],
             [
              0.4444444444444444,
              "#bd3786"
             ],
             [
              0.5555555555555556,
              "#d8576b"
             ],
             [
              0.6666666666666666,
              "#ed7953"
             ],
             [
              0.7777777777777778,
              "#fb9f3a"
             ],
             [
              0.8888888888888888,
              "#fdca26"
             ],
             [
              1,
              "#f0f921"
             ]
            ],
            "type": "heatmap"
           }
          ],
          "heatmapgl": [
           {
            "colorbar": {
             "outlinewidth": 0,
             "ticks": ""
            },
            "colorscale": [
             [
              0,
              "#0d0887"
             ],
             [
              0.1111111111111111,
              "#46039f"
             ],
             [
              0.2222222222222222,
              "#7201a8"
             ],
             [
              0.3333333333333333,
              "#9c179e"
             ],
             [
              0.4444444444444444,
              "#bd3786"
             ],
             [
              0.5555555555555556,
              "#d8576b"
             ],
             [
              0.6666666666666666,
              "#ed7953"
             ],
             [
              0.7777777777777778,
              "#fb9f3a"
             ],
             [
              0.8888888888888888,
              "#fdca26"
             ],
             [
              1,
              "#f0f921"
             ]
            ],
            "type": "heatmapgl"
           }
          ],
          "histogram": [
           {
            "marker": {
             "colorbar": {
              "outlinewidth": 0,
              "ticks": ""
             }
            },
            "type": "histogram"
           }
          ],
          "histogram2d": [
           {
            "colorbar": {
             "outlinewidth": 0,
             "ticks": ""
            },
            "colorscale": [
             [
              0,
              "#0d0887"
             ],
             [
              0.1111111111111111,
              "#46039f"
             ],
             [
              0.2222222222222222,
              "#7201a8"
             ],
             [
              0.3333333333333333,
              "#9c179e"
             ],
             [
              0.4444444444444444,
              "#bd3786"
             ],
             [
              0.5555555555555556,
              "#d8576b"
             ],
             [
              0.6666666666666666,
              "#ed7953"
             ],
             [
              0.7777777777777778,
              "#fb9f3a"
             ],
             [
              0.8888888888888888,
              "#fdca26"
             ],
             [
              1,
              "#f0f921"
             ]
            ],
            "type": "histogram2d"
           }
          ],
          "histogram2dcontour": [
           {
            "colorbar": {
             "outlinewidth": 0,
             "ticks": ""
            },
            "colorscale": [
             [
              0,
              "#0d0887"
             ],
             [
              0.1111111111111111,
              "#46039f"
             ],
             [
              0.2222222222222222,
              "#7201a8"
             ],
             [
              0.3333333333333333,
              "#9c179e"
             ],
             [
              0.4444444444444444,
              "#bd3786"
             ],
             [
              0.5555555555555556,
              "#d8576b"
             ],
             [
              0.6666666666666666,
              "#ed7953"
             ],
             [
              0.7777777777777778,
              "#fb9f3a"
             ],
             [
              0.8888888888888888,
              "#fdca26"
             ],
             [
              1,
              "#f0f921"
             ]
            ],
            "type": "histogram2dcontour"
           }
          ],
          "mesh3d": [
           {
            "colorbar": {
             "outlinewidth": 0,
             "ticks": ""
            },
            "type": "mesh3d"
           }
          ],
          "parcoords": [
           {
            "line": {
             "colorbar": {
              "outlinewidth": 0,
              "ticks": ""
             }
            },
            "type": "parcoords"
           }
          ],
          "pie": [
           {
            "automargin": true,
            "type": "pie"
           }
          ],
          "scatter": [
           {
            "marker": {
             "colorbar": {
              "outlinewidth": 0,
              "ticks": ""
             }
            },
            "type": "scatter"
           }
          ],
          "scatter3d": [
           {
            "line": {
             "colorbar": {
              "outlinewidth": 0,
              "ticks": ""
             }
            },
            "marker": {
             "colorbar": {
              "outlinewidth": 0,
              "ticks": ""
             }
            },
            "type": "scatter3d"
           }
          ],
          "scattercarpet": [
           {
            "marker": {
             "colorbar": {
              "outlinewidth": 0,
              "ticks": ""
             }
            },
            "type": "scattercarpet"
           }
          ],
          "scattergeo": [
           {
            "marker": {
             "colorbar": {
              "outlinewidth": 0,
              "ticks": ""
             }
            },
            "type": "scattergeo"
           }
          ],
          "scattergl": [
           {
            "marker": {
             "colorbar": {
              "outlinewidth": 0,
              "ticks": ""
             }
            },
            "type": "scattergl"
           }
          ],
          "scattermapbox": [
           {
            "marker": {
             "colorbar": {
              "outlinewidth": 0,
              "ticks": ""
             }
            },
            "type": "scattermapbox"
           }
          ],
          "scatterpolar": [
           {
            "marker": {
             "colorbar": {
              "outlinewidth": 0,
              "ticks": ""
             }
            },
            "type": "scatterpolar"
           }
          ],
          "scatterpolargl": [
           {
            "marker": {
             "colorbar": {
              "outlinewidth": 0,
              "ticks": ""
             }
            },
            "type": "scatterpolargl"
           }
          ],
          "scatterternary": [
           {
            "marker": {
             "colorbar": {
              "outlinewidth": 0,
              "ticks": ""
             }
            },
            "type": "scatterternary"
           }
          ],
          "surface": [
           {
            "colorbar": {
             "outlinewidth": 0,
             "ticks": ""
            },
            "colorscale": [
             [
              0,
              "#0d0887"
             ],
             [
              0.1111111111111111,
              "#46039f"
             ],
             [
              0.2222222222222222,
              "#7201a8"
             ],
             [
              0.3333333333333333,
              "#9c179e"
             ],
             [
              0.4444444444444444,
              "#bd3786"
             ],
             [
              0.5555555555555556,
              "#d8576b"
             ],
             [
              0.6666666666666666,
              "#ed7953"
             ],
             [
              0.7777777777777778,
              "#fb9f3a"
             ],
             [
              0.8888888888888888,
              "#fdca26"
             ],
             [
              1,
              "#f0f921"
             ]
            ],
            "type": "surface"
           }
          ],
          "table": [
           {
            "cells": {
             "fill": {
              "color": "#EBF0F8"
             },
             "line": {
              "color": "white"
             }
            },
            "header": {
             "fill": {
              "color": "#C8D4E3"
             },
             "line": {
              "color": "white"
             }
            },
            "type": "table"
           }
          ]
         },
         "layout": {
          "annotationdefaults": {
           "arrowcolor": "#2a3f5f",
           "arrowhead": 0,
           "arrowwidth": 1
          },
          "coloraxis": {
           "colorbar": {
            "outlinewidth": 0,
            "ticks": ""
           }
          },
          "colorscale": {
           "diverging": [
            [
             0,
             "#8e0152"
            ],
            [
             0.1,
             "#c51b7d"
            ],
            [
             0.2,
             "#de77ae"
            ],
            [
             0.3,
             "#f1b6da"
            ],
            [
             0.4,
             "#fde0ef"
            ],
            [
             0.5,
             "#f7f7f7"
            ],
            [
             0.6,
             "#e6f5d0"
            ],
            [
             0.7,
             "#b8e186"
            ],
            [
             0.8,
             "#7fbc41"
            ],
            [
             0.9,
             "#4d9221"
            ],
            [
             1,
             "#276419"
            ]
           ],
           "sequential": [
            [
             0,
             "#0d0887"
            ],
            [
             0.1111111111111111,
             "#46039f"
            ],
            [
             0.2222222222222222,
             "#7201a8"
            ],
            [
             0.3333333333333333,
             "#9c179e"
            ],
            [
             0.4444444444444444,
             "#bd3786"
            ],
            [
             0.5555555555555556,
             "#d8576b"
            ],
            [
             0.6666666666666666,
             "#ed7953"
            ],
            [
             0.7777777777777778,
             "#fb9f3a"
            ],
            [
             0.8888888888888888,
             "#fdca26"
            ],
            [
             1,
             "#f0f921"
            ]
           ],
           "sequentialminus": [
            [
             0,
             "#0d0887"
            ],
            [
             0.1111111111111111,
             "#46039f"
            ],
            [
             0.2222222222222222,
             "#7201a8"
            ],
            [
             0.3333333333333333,
             "#9c179e"
            ],
            [
             0.4444444444444444,
             "#bd3786"
            ],
            [
             0.5555555555555556,
             "#d8576b"
            ],
            [
             0.6666666666666666,
             "#ed7953"
            ],
            [
             0.7777777777777778,
             "#fb9f3a"
            ],
            [
             0.8888888888888888,
             "#fdca26"
            ],
            [
             1,
             "#f0f921"
            ]
           ]
          },
          "colorway": [
           "#636efa",
           "#EF553B",
           "#00cc96",
           "#ab63fa",
           "#FFA15A",
           "#19d3f3",
           "#FF6692",
           "#B6E880",
           "#FF97FF",
           "#FECB52"
          ],
          "font": {
           "color": "#2a3f5f"
          },
          "geo": {
           "bgcolor": "white",
           "lakecolor": "white",
           "landcolor": "#E5ECF6",
           "showlakes": true,
           "showland": true,
           "subunitcolor": "white"
          },
          "hoverlabel": {
           "align": "left"
          },
          "hovermode": "closest",
          "mapbox": {
           "style": "light"
          },
          "paper_bgcolor": "white",
          "plot_bgcolor": "#E5ECF6",
          "polar": {
           "angularaxis": {
            "gridcolor": "white",
            "linecolor": "white",
            "ticks": ""
           },
           "bgcolor": "#E5ECF6",
           "radialaxis": {
            "gridcolor": "white",
            "linecolor": "white",
            "ticks": ""
           }
          },
          "scene": {
           "xaxis": {
            "backgroundcolor": "#E5ECF6",
            "gridcolor": "white",
            "gridwidth": 2,
            "linecolor": "white",
            "showbackground": true,
            "ticks": "",
            "zerolinecolor": "white"
           },
           "yaxis": {
            "backgroundcolor": "#E5ECF6",
            "gridcolor": "white",
            "gridwidth": 2,
            "linecolor": "white",
            "showbackground": true,
            "ticks": "",
            "zerolinecolor": "white"
           },
           "zaxis": {
            "backgroundcolor": "#E5ECF6",
            "gridcolor": "white",
            "gridwidth": 2,
            "linecolor": "white",
            "showbackground": true,
            "ticks": "",
            "zerolinecolor": "white"
           }
          },
          "shapedefaults": {
           "line": {
            "color": "#2a3f5f"
           }
          },
          "ternary": {
           "aaxis": {
            "gridcolor": "white",
            "linecolor": "white",
            "ticks": ""
           },
           "baxis": {
            "gridcolor": "white",
            "linecolor": "white",
            "ticks": ""
           },
           "bgcolor": "#E5ECF6",
           "caxis": {
            "gridcolor": "white",
            "linecolor": "white",
            "ticks": ""
           }
          },
          "title": {
           "x": 0.05
          },
          "xaxis": {
           "automargin": true,
           "gridcolor": "white",
           "linecolor": "white",
           "ticks": "",
           "title": {
            "standoff": 15
           },
           "zerolinecolor": "white",
           "zerolinewidth": 2
          },
          "yaxis": {
           "automargin": true,
           "gridcolor": "white",
           "linecolor": "white",
           "ticks": "",
           "title": {
            "standoff": 15
           },
           "zerolinecolor": "white",
           "zerolinewidth": 2
          }
         }
        },
        "title": {
         "text": "ledighed vs. socialt"
        },
        "xaxis": {
         "anchor": "y",
         "domain": [
          0,
          0.7363
         ],
         "title": {
          "text": "ledighed"
         }
        },
        "xaxis2": {
         "anchor": "y2",
         "domain": [
          0.7413,
          1
         ],
         "matches": "x2",
         "showgrid": true,
         "showline": false,
         "showticklabels": false,
         "ticks": ""
        },
        "xaxis3": {
         "anchor": "y3",
         "domain": [
          0,
          0.7363
         ],
         "matches": "x",
         "showgrid": true,
         "showticklabels": false
        },
        "xaxis4": {
         "anchor": "y4",
         "domain": [
          0.7413,
          1
         ],
         "matches": "x2",
         "showgrid": true,
         "showline": false,
         "showticklabels": false,
         "ticks": ""
        },
        "yaxis": {
         "anchor": "x",
         "domain": [
          0,
          0.7326
         ],
         "title": {
          "text": "socialt"
         }
        },
        "yaxis2": {
         "anchor": "x2",
         "domain": [
          0,
          0.7326
         ],
         "matches": "y",
         "showgrid": true,
         "showticklabels": false
        },
        "yaxis3": {
         "anchor": "x3",
         "domain": [
          0.7426,
          1
         ],
         "matches": "y3",
         "showgrid": true,
         "showline": false,
         "showticklabels": false,
         "ticks": ""
        },
        "yaxis4": {
         "anchor": "x4",
         "domain": [
          0.7426,
          1
         ],
         "matches": "y3",
         "showgrid": true,
         "showline": false,
         "showticklabels": false,
         "ticks": ""
        }
       }
      },
      "text/html": [
       "<div>\n",
       "        \n",
       "        \n",
       "            <div id=\"97eddfd6-aef7-4a90-b307-b49dea21823c\" class=\"plotly-graph-div\" style=\"height:525px; width:100%;\"></div>\n",
       "            <script type=\"text/javascript\">\n",
       "                require([\"plotly\"], function(Plotly) {\n",
       "                    window.PLOTLYENV=window.PLOTLYENV || {};\n",
       "                    \n",
       "                if (document.getElementById(\"97eddfd6-aef7-4a90-b307-b49dea21823c\")) {\n",
       "                    Plotly.newPlot(\n",
       "                        '97eddfd6-aef7-4a90-b307-b49dea21823c',\n",
       "                        [{\"customdata\": [[\"Arkitekt\"], [\"Veterin\\u00e6rmedicin\"], [\"Designledelse\"], [\"Odontologi\"], [\"Jura\"], [\"Farmaci\"], [\"Lyd- og musikteknologi\"], [\"Farmaceutisk videnskab\"], [\"Tv\\u00e6rkulturelle studier\"], [\"Amerikanske studier\"], [\"Engelsk\"], [\"Medialogy\"], [\"Medicin og teknologi\"], [\"Humanbiologi\"], [\"Molecular Biology\"], [\"Musikvidenskab\"], [\"Informationsvidenskab og kulturformidling\"], [\"Human ern\\u00e6ring\"], [\"Erhvervssprog og international virksomhedskommunikation\"], [\"Industrielt design\"], [\"Religionsvidenskab\"], [\"Sundhedsteknologi\"], [\"Radiograf\"], [\"Bioteknologi\"], [\"Biologi-bioteknologi\"], [\"Landskabsarkitektur\"], [\"Corporate Communication\"], [\"Biokemi\"], [\"Byggeri\"], [\"Moderne kultur og kulturformidling\"], [\"Sygeplejerske\"], [\"Uddannelsesvidenskab\"], [\"Filosofi\"], [\"Bioinformatik\"], [\"Digital design og interaktive teknologier\"], [\"Astronomi\"], [\"Milj\\u00f8videnskab\"], [\"Global udvikling\"], [\"Samfundsvidenskabelig jura\"], [\"Fransk sprog, litteratur og kultur\"], [\"Tekstildesign, -h\\u00e5ndv\\u00e6rk og formidling\"], [\"Erhvervs\\u00f8konomi og virksomhedskommunikation\"], [\"Bygningsdesign\"], [\"F\\u00f8devareteknologi\"], [\"Audiologi\"], [\"Cultural Sociology\"], [\"Mechatronics Engineering\"], [\"Medicine with Industrial Specialisation\"], [\"Antropologi\"], [\"Biologi\"], [\"Anvendt kemi\"], [\"It-ledelse\"], [\"Molekyl\\u00e6r ern\\u00e6ring og f\\u00f8devareteknologi\"], [\"Film- og medievidenskab\"], [\"Erhvervs\\u00f8konomi og psykologi\"], [\"It, kommunikation og organisation\"], [\"Datalogi\"], [\"Fysik\"], [\"Olie- og gasteknologi\"], [\"Kultur, kommunikation og globalisering\"], [\"Dansk\"], [\"Erhvervs\\u00f8konomi - erhvervssprog, negot.\"], [\"Medicin\"], [\"Webudvikling\"], [\"Fysik og nanoteknologi\"], [\"Agronomi\"], [\"P\\u00e6dagogisk filosofi\"], [\"P\\u00e6dagogisk psykologi\"], [\"Husdyrvidenskab\"], [\"P\\u00e6dagogik\"], [\"Socialt arbejde\"], [\"\\u00d8konomi\"], [\"Erhvervs\\u00f8konomi og erhvervsjura\"], [\"It-design og applikationsudvikling\"], [\"Matematik-\\u00f8konomi\"], [\"Historie\"], [\"Bioanalytiker\"], [\"Design og business\"], [\"Forvaltning\"], [\"Kemi og bioteknologi\"], [\"Kultur og formidling\"], [\"Socialr\\u00e5dgiver\"], [\"Tysk\"], [\"Litteraturvidenskab\"], [\"Erhvervs\\u00f8konomi, cand.soc.\"], [\"Teologi\"], [\"Geologi\"], [\"Diplomingeni\\u00f8r - bygningsdesign\"], [\"Tandplejer\"], [\"It-didaktisk design\"], [\"Bioinformatik og systembiologi\"], [\"Jordbrugs\\u00f8konomi\"], [\"Fysioterapeut\"], [\"Samfundsfag\"], [\"Statskundskab\"], [\"Sociologi\"], [\"Erhvervs\\u00f8konomi, cand.merc.\"], [\"Designer\"], [\"Dramaturgi\"], [\"Teknologibaseret forretningsudvikling\"], [\"Mechanical Engineering\"], [\"Softwaredesign\"], [\"Agro-Environmental Management\"], [\"Transport og logistik\"], [\"Matematik\"], [\"Sundhedsfremme og sundhedsstrategier\"], [\"Kriminologi\"], [\"Socialvidenskab\"], [\"Ern\\u00e6ring og sundhed\"], [\"Kemi (civilingeni\\u00f8r)\"], [\"Diplomingeni\\u00f8r - softwareteknologi\"], [\"Digital innovation og management\"], [\"Kunsthistorie\"], [\"Digital design\"], [\"Psykologi\"], [\"Sundhedsfaglig kandidat\"], [\"Psykomotorisk terapeut\"], [\"Medievidenskab\"], [\"Ergoterapi\"], [\"Erhvervs\\u00f8konomi og filosofi\"], [\"Spansk sprog og kultur\"], [\"Mellem\\u00f8ststudier\"], [\"Molekyl\\u00e6r medicin\"], [\"Diplomingeni\\u00f8r - bygning\"], [\"Humanistisk-samfundsvidenskabelig idr\\u00e6tsvidenskab\"], [\"Informationsvidenskab\"], [\"Software\"], [\"Folkesundhedsvidenskab\"], [\"Diplomingeni\\u00f8r - elektrisk energiteknologi\"], [\"Audiologop\\u00e6di\"], [\"P\\u00e6dagogisk sociologi\"], [\"Nanoscience\"], [\"Klinisk sygepleje\"], [\"Sygepleje\"], [\"Anvendt kulturanalyse\"], [\"F\\u00f8devarevidenskab\"], [\"Geografi\"], [\"Optometrist\"], [\"Bygningskonstrukt\\u00f8r\"], [\"Ergoterapeut\"], [\"P\\u00e6dagog\"], [\"Arbejdslivsstudier\"], [\"Fysioterapi\"], [\"Have- og parkingeni\\u00f8r\"], [\"Kommunikation\"], [\"Klinisk ern\\u00e6ring\"], [\"Tourism\"], [\"Digitale medieteknologier\"], [\"Interaktive digitale medier\"], [\"International sikkerhed og folkeret\"], [\"Design og innovation\"], [\"Politisk kommunikation og ledelse\"], [\"Lingvistik\"], [\"Humanfysiologi\"], [\"Laboratorie- og f\\u00f8devareteknologi\"], [\"Medicinalkemi\"], [\"Journalistik\"], [\"Spil\"], [\"Offentlig administration\"], [\"\\u00c6stetik og kultur\"], [\"Softwareudvikling\"], [\"IT Product Design\"], [\"Kemi\"], [\"Revisorkandidat, cand.merc.aud.\"], [\"Jordemoder\"], [\"Oplevelses\\u00f8konomi\"], [\"Vision, Graphics and Interactive Systems\"], [\"Kemisk og biokemisk teknologi\"], [\"Energy Engineering\"], [\"Diplomingeni\\u00f8r - maskinteknik\"], [\"Industriel \\u00f8konomi og teknologiledelse\"], [\"Materiale- og procesteknologi\"], [\"Milj\\u00f8teknologi\"], [\"Byggeteknologi\"], [\"Geofysik\"], [\"Digital konceptudvikling\"], [\"Statistik\"], [\"Webkommunikation\"], [\"Informationsteknologi\"], [\"Farmateknologi\"], [\"Multimediedesigner\"], [\"International handel og markedsf\\u00f8ring\"], [\"Business Administration and Information Systems\"], [\"Maskinmester\"], [\"Politik og administration\"], [\"B\\u00e6redygtigt design\"], [\"Virksomhedsledelse\"], [\"Didaktik\"], [\"Energiteknologi\"], [\"Elektroteknologi\"], [\"L\\u00e6rer i folkeskolen\"], [\"Mekanik\"], [\"Diplomingeni\\u00f8r - elektronik\"], [\"L\\u00e6ring og forandringsprocesser\"], [\"International Hospitality Management\"], [\"Anvendt filosofi\"], [\"Diplomingeni\\u00f8r - eksport og teknologi\"], [\"Jordbrug\"], [\"Financial Controller\"], [\"P\\u00e6dagogisk antropologi\"], [\"Europastudier\"], [\"Administrations\\u00f8konom\"], [\"International Public Administration and Politics\"], [\"Matematisk modellering og computing\"], [\"Designteknolog\"], [\"Laborant\"], [\"Retorik\"], [\"IT-teknolog\"], [\"Konstruktion og mekanik\"], [\"Water and Environment Engineering\"], [\"Datamatiker\"], [\"Elinstallat\\u00f8r\"], [\"Finans\"], [\"Markedsf\\u00f8rings\\u00f8konom\"], [\"B\\u00e6redygtig energi\"], [\"Procesteknolog\"], [\"Lyd og akustisk teknologi\"], [\"Service\\u00f8konom\"], [\"Produktudvikling og teknisk integration\"], [\"Medieproduktion og ledelse\"], [\"It, l\\u00e6ring og organisatorisk omstilling\"], [\"Milj\\u00f8teknolog\"], [\"Innovation and Business\"], [\"Idr\\u00e6t\"], [\"Grafisk kommunikation\"], [\"\\u00d8konomi og informationsteknologi\"], [\"Veje og trafik\"], [\"Ledelse og informatik i byggeriet\"], [\"Logistik\\u00f8konom\"], [\"Diakoni og socialp\\u00e6dagogik\"], [\"Finans\\u00f8konom\"], [\"Visuel kommunikation\"], [\"Handels\\u00f8konom\"], [\"Multiplatform storytelling and production\"], [\"Jordbrugsteknolog\"], [\"Journalist\"], [\"Geofysik og rumteknologi\"], [\"Automationsteknolog\"], [\"Produktionsteknolog\"], [\"Kommunikation\"], [\"Landinspekt\\u00f8rvidenskab\"], [\"Tv- og medietilrettel\\u00e6ggelse\"], [\"Energiteknolog\"], [\"L\\u00e6rer fra Den frie L\\u00e6rerskole\"]], \"hoverlabel\": {\"namelength\": 0}, \"hovertemplate\": \"ledighed=%{x}<br>socialt=%{y}<br>Titel=%{customdata[0]}\", \"legendgroup\": \"\", \"marker\": {\"color\": \"#636efa\", \"symbol\": \"circle\"}, \"mode\": \"markers\", \"name\": \"\", \"showlegend\": false, \"type\": \"scatter\", \"x\": [11.0, 6.0, 27.0, 3.0, 5.0, 8.0, 13.0, 4.0, 23.0, 22.0, 22.0, 24.0, 4.0, 6.0, 17.0, 16.0, 19.0, 24.0, 18.0, 21.0, 24.0, 1.0, 3.0, 12.0, 14.0, 13.0, 12.0, 18.0, 1.0, 25.0, 1.0, 15.0, 30.0, 5.0, 12.0, 13.0, 10.0, 10.0, 5.0, 23.0, 21.0, 9.0, 14.0, 10.0, 8.0, 12.0, 7.0, 17.0, 23.0, 23.0, 12.0, 12.0, 14.0, 19.0, 7.0, 6.0, 3.0, 6.0, 10.0, 27.0, 16.0, 14.0, 1.0, 13.0, 5.0, 11.0, 17.0, 12.0, 12.0, 14.0, 10.0, 2.0, 6.0, 15.0, 3.0, 26.0, 5.0, 16.0, 11.0, 11.0, 36.0, 6.0, 16.0, 27.0, 7.0, 18.0, 17.0, 4.0, 8.0, 12.0, 8.0, 7.0, 6.0, 14.0, 6.0, 17.0, 7.0, 27.0, 24.0, 7.0, 6.0, 3.0, 18.0, 2.0, 3.0, 20.0, 18.0, 28.0, 11.0, 18.0, 5.0, 6.0, 31.0, 24.0, 10.0, 7.0, 20.0, 20.0, 5.0, 19.0, 22.0, 22.0, 14.0, 4.0, 10.0, 13.0, 3.0, 11.0, 3.0, 2.0, 13.0, 14.0, 1.0, 3.0, 23.0, 8.0, 13.0, 1.0, 7.0, 10.0, 8.0, 12.0, 5.0, 14.0, 22.0, 10.0, 19.0, 5.0, 37.0, 20.0, 6.0, 12.0, 14.0, 12.0, 13.0, 17.0, 12.0, 12.0, 12.0, 31.0, 7.0, 19.0, 12.0, 2.0, 2.0, 28.0, 4.0, 6.0, 5.0, 5.0, 4.0, 6.0, 11.0, 4.0, 18.0, 20.0, 2.0, 16.0, 0.0, 7.0, 15.0, 12.0, 6.0, 3.0, 18.0, 16.0, 16.0, 13.0, 22.0, 4.0, 6.0, 1.0, 5.0, 19.0, 13.0, 30.0, 12.0, 16.0, 10.0, 17.0, 26.0, 19.0, 10.0, 2.0, 12.0, 7.0, 18.0, 11.0, 2.0, 2.0, 10.0, 2.0, 4.0, 8.0, 12.0, 13.0, 2.0, 9.0, 15.0, 14.0, 16.0, 22.0, 7.0, 15.0, 19.0, 4.0, 1.0, 6.0, 7.0, 7.0, 6.0, 16.0, 8.0, 21.0, 10.0, 11.0, 11.0, 3.0, 10.0, 8.0, 4.0, 14.0, 12.0, 19.0], \"xaxis\": \"x\", \"y\": [4.12, 4.03, 3.76, 4.13, 3.43, 3.85, 3.27, 3.6, 3.9, 3.35, 3.65, 3.79, 4.13, 4.05, 3.85, 4.03, 3.13, 3.47, 3.56, 4.07, 3.67, 3.83, 3.77, 3.92, 4.02, 3.96, 3.73, 4.05, 4.09, 3.42, 3.82, 3.58, 3.53, 3.62, 4.07, 4.55, 3.83, 4.21, 3.38, 3.56, 3.5, 3.66, 4.0, 4.17, 3.83, 3.47, 3.58, 3.59, 4.03, 3.99, 3.87, 4.08, 3.98, 3.7, 3.97, 4.05, 3.69, 4.17, 3.92, 3.79, 3.57, 3.64, 4.04, 3.51, 4.1, 3.86, 3.72, 3.49, 3.6, 3.55, 3.35, 3.77, 3.63, 3.56, 4.37, 3.76, 3.86, 3.68, 3.54, 4.44, 3.3, 3.67, 3.33, 3.72, 4.27, 3.68, 4.22, 4.07, 3.93, 3.19, 4.24, 4.08, 4.04, 3.63, 3.81, 3.86, 3.79, 4.11, 4.28, 3.63, 3.81, 4.1, 4.09, 3.85, 4.09, 3.4, 3.56, 3.63, 3.61, 4.22, 3.75, 4.12, 3.49, 3.93, 3.66, 3.49, 3.89, 4.03, 3.28, 3.87, 3.75, 3.95, 4.09, 3.91, 4.07, 3.76, 3.91, 3.74, 3.89, 3.82, 3.6, 4.15, 3.73, 3.77, 3.57, 3.88, 3.86, 3.9, 3.9, 3.91, 3.91, 3.44, 3.53, 4.03, 3.46, 3.72, 3.86, 3.9, 4.04, 3.67, 4.1, 3.87, 4.12, 4.07, 3.71, 3.63, 3.91, 3.88, 3.56, 3.74, 3.57, 3.97, 3.99, 3.21, 3.69, 3.88, 3.25, 4.0, 4.18, 4.03, 4.01, 3.9, 3.99, 3.89, 4.38, 3.81, 3.97, 3.49, 3.9, 3.98, 3.89, 3.73, 3.84, 3.86, 3.64, 4.13, 3.68, 3.65, 3.85, 3.98, 3.9, 3.97, 3.93, 3.72, 3.72, 3.93, 3.69, 3.61, 3.92, 3.88, 3.48, 3.65, 3.5, 3.64, 3.79, 3.86, 3.81, 3.78, 3.95, 3.88, 3.71, 3.91, 3.87, 3.85, 4.04, 3.78, 3.84, 3.95, 3.66, 3.4, 3.51, 4.19, 3.82, 4.02, 3.83, 3.85, 4.14, 3.17, 3.8, 4.15, 3.83, 4.34, 3.78, 4.32, 3.96, 4.22, 4.18, 3.9, 3.84, 3.82, 3.98, 4.14, 3.8, 4.67], \"yaxis\": \"y\"}, {\"alignmentgroup\": \"True\", \"bingroup\": \"x\", \"hoverlabel\": {\"namelength\": 0}, \"hovertemplate\": \"ledighed=%{x}<br>count=%{y}\", \"legendgroup\": \"\", \"marker\": {\"color\": \"#636efa\"}, \"name\": \"\", \"offsetgroup\": \"\", \"opacity\": 0.5, \"showlegend\": false, \"type\": \"histogram\", \"x\": [11.0, 6.0, 27.0, 3.0, 5.0, 8.0, 13.0, 4.0, 23.0, 22.0, 22.0, 24.0, 4.0, 6.0, 17.0, 16.0, 19.0, 24.0, 18.0, 21.0, 24.0, 1.0, 3.0, 12.0, 14.0, 13.0, 12.0, 18.0, 1.0, 25.0, 1.0, 15.0, 30.0, 5.0, 12.0, 13.0, 10.0, 10.0, 5.0, 23.0, 21.0, 9.0, 14.0, 10.0, 8.0, 12.0, 7.0, 17.0, 23.0, 23.0, 12.0, 12.0, 14.0, 19.0, 7.0, 6.0, 3.0, 6.0, 10.0, 27.0, 16.0, 14.0, 1.0, 13.0, 5.0, 11.0, 17.0, 12.0, 12.0, 14.0, 10.0, 2.0, 6.0, 15.0, 3.0, 26.0, 5.0, 16.0, 11.0, 11.0, 36.0, 6.0, 16.0, 27.0, 7.0, 18.0, 17.0, 4.0, 8.0, 12.0, 8.0, 7.0, 6.0, 14.0, 6.0, 17.0, 7.0, 27.0, 24.0, 7.0, 6.0, 3.0, 18.0, 2.0, 3.0, 20.0, 18.0, 28.0, 11.0, 18.0, 5.0, 6.0, 31.0, 24.0, 10.0, 7.0, 20.0, 20.0, 5.0, 19.0, 22.0, 22.0, 14.0, 4.0, 10.0, 13.0, 3.0, 11.0, 3.0, 2.0, 13.0, 14.0, 1.0, 3.0, 23.0, 8.0, 13.0, 1.0, 7.0, 10.0, 8.0, 12.0, 5.0, 14.0, 22.0, 10.0, 19.0, 5.0, 37.0, 20.0, 6.0, 12.0, 14.0, 12.0, 13.0, 17.0, 12.0, 12.0, 12.0, 31.0, 7.0, 19.0, 12.0, 2.0, 2.0, 28.0, 4.0, 6.0, 5.0, 5.0, 4.0, 6.0, 11.0, 4.0, 18.0, 20.0, 2.0, 16.0, 0.0, 7.0, 15.0, 12.0, 6.0, 3.0, 18.0, 16.0, 16.0, 13.0, 22.0, 4.0, 6.0, 1.0, 5.0, 19.0, 13.0, 30.0, 12.0, 16.0, 10.0, 17.0, 26.0, 19.0, 10.0, 2.0, 12.0, 7.0, 18.0, 11.0, 2.0, 2.0, 10.0, 2.0, 4.0, 8.0, 12.0, 13.0, 2.0, 9.0, 15.0, 14.0, 16.0, 22.0, 7.0, 15.0, 19.0, 4.0, 1.0, 6.0, 7.0, 7.0, 6.0, 16.0, 8.0, 21.0, 10.0, 11.0, 11.0, 3.0, 10.0, 8.0, 4.0, 14.0, 12.0, 19.0], \"xaxis\": \"x3\", \"yaxis\": \"y3\"}, {\"alignmentgroup\": \"True\", \"bingroup\": \"y\", \"hoverlabel\": {\"namelength\": 0}, \"hovertemplate\": \"socialt=%{y}<br>count=%{x}\", \"legendgroup\": \"\", \"marker\": {\"color\": \"#636efa\"}, \"name\": \"\", \"offsetgroup\": \"\", \"opacity\": 0.5, \"showlegend\": false, \"type\": \"histogram\", \"xaxis\": \"x2\", \"y\": [4.12, 4.03, 3.76, 4.13, 3.43, 3.85, 3.27, 3.6, 3.9, 3.35, 3.65, 3.79, 4.13, 4.05, 3.85, 4.03, 3.13, 3.47, 3.56, 4.07, 3.67, 3.83, 3.77, 3.92, 4.02, 3.96, 3.73, 4.05, 4.09, 3.42, 3.82, 3.58, 3.53, 3.62, 4.07, 4.55, 3.83, 4.21, 3.38, 3.56, 3.5, 3.66, 4.0, 4.17, 3.83, 3.47, 3.58, 3.59, 4.03, 3.99, 3.87, 4.08, 3.98, 3.7, 3.97, 4.05, 3.69, 4.17, 3.92, 3.79, 3.57, 3.64, 4.04, 3.51, 4.1, 3.86, 3.72, 3.49, 3.6, 3.55, 3.35, 3.77, 3.63, 3.56, 4.37, 3.76, 3.86, 3.68, 3.54, 4.44, 3.3, 3.67, 3.33, 3.72, 4.27, 3.68, 4.22, 4.07, 3.93, 3.19, 4.24, 4.08, 4.04, 3.63, 3.81, 3.86, 3.79, 4.11, 4.28, 3.63, 3.81, 4.1, 4.09, 3.85, 4.09, 3.4, 3.56, 3.63, 3.61, 4.22, 3.75, 4.12, 3.49, 3.93, 3.66, 3.49, 3.89, 4.03, 3.28, 3.87, 3.75, 3.95, 4.09, 3.91, 4.07, 3.76, 3.91, 3.74, 3.89, 3.82, 3.6, 4.15, 3.73, 3.77, 3.57, 3.88, 3.86, 3.9, 3.9, 3.91, 3.91, 3.44, 3.53, 4.03, 3.46, 3.72, 3.86, 3.9, 4.04, 3.67, 4.1, 3.87, 4.12, 4.07, 3.71, 3.63, 3.91, 3.88, 3.56, 3.74, 3.57, 3.97, 3.99, 3.21, 3.69, 3.88, 3.25, 4.0, 4.18, 4.03, 4.01, 3.9, 3.99, 3.89, 4.38, 3.81, 3.97, 3.49, 3.9, 3.98, 3.89, 3.73, 3.84, 3.86, 3.64, 4.13, 3.68, 3.65, 3.85, 3.98, 3.9, 3.97, 3.93, 3.72, 3.72, 3.93, 3.69, 3.61, 3.92, 3.88, 3.48, 3.65, 3.5, 3.64, 3.79, 3.86, 3.81, 3.78, 3.95, 3.88, 3.71, 3.91, 3.87, 3.85, 4.04, 3.78, 3.84, 3.95, 3.66, 3.4, 3.51, 4.19, 3.82, 4.02, 3.83, 3.85, 4.14, 3.17, 3.8, 4.15, 3.83, 4.34, 3.78, 4.32, 3.96, 4.22, 4.18, 3.9, 3.84, 3.82, 3.98, 4.14, 3.8, 4.67], \"yaxis\": \"y2\"}, {\"hoverlabel\": {\"namelength\": 0}, \"hovertemplate\": \"<b>LOWESS trendline</b><br><br>ledighed=%{x}<br>socialt=%{y} <b>(trend)</b>\", \"legendgroup\": \"\", \"marker\": {\"color\": \"#636efa\", \"symbol\": \"circle\"}, \"mode\": \"lines\", \"name\": \"\", \"showlegend\": false, \"type\": \"scatter\", \"x\": [0.0, 1.0, 1.0, 1.0, 1.0, 1.0, 1.0, 1.0, 1.0, 2.0, 2.0, 2.0, 2.0, 2.0, 2.0, 2.0, 2.0, 2.0, 2.0, 2.0, 3.0, 3.0, 3.0, 3.0, 3.0, 3.0, 3.0, 3.0, 3.0, 3.0, 3.0, 4.0, 4.0, 4.0, 4.0, 4.0, 4.0, 4.0, 4.0, 4.0, 4.0, 4.0, 5.0, 5.0, 5.0, 5.0, 5.0, 5.0, 5.0, 5.0, 5.0, 5.0, 5.0, 5.0, 6.0, 6.0, 6.0, 6.0, 6.0, 6.0, 6.0, 6.0, 6.0, 6.0, 6.0, 6.0, 6.0, 6.0, 6.0, 6.0, 6.0, 7.0, 7.0, 7.0, 7.0, 7.0, 7.0, 7.0, 7.0, 7.0, 7.0, 7.0, 7.0, 7.0, 7.0, 8.0, 8.0, 8.0, 8.0, 8.0, 8.0, 8.0, 8.0, 8.0, 9.0, 9.0, 10.0, 10.0, 10.0, 10.0, 10.0, 10.0, 10.0, 10.0, 10.0, 10.0, 10.0, 10.0, 10.0, 10.0, 11.0, 11.0, 11.0, 11.0, 11.0, 11.0, 11.0, 11.0, 11.0, 11.0, 12.0, 12.0, 12.0, 12.0, 12.0, 12.0, 12.0, 12.0, 12.0, 12.0, 12.0, 12.0, 12.0, 12.0, 12.0, 12.0, 12.0, 12.0, 12.0, 12.0, 12.0, 13.0, 13.0, 13.0, 13.0, 13.0, 13.0, 13.0, 13.0, 13.0, 13.0, 13.0, 14.0, 14.0, 14.0, 14.0, 14.0, 14.0, 14.0, 14.0, 14.0, 14.0, 14.0, 14.0, 15.0, 15.0, 15.0, 15.0, 15.0, 16.0, 16.0, 16.0, 16.0, 16.0, 16.0, 16.0, 16.0, 16.0, 16.0, 17.0, 17.0, 17.0, 17.0, 17.0, 17.0, 17.0, 18.0, 18.0, 18.0, 18.0, 18.0, 18.0, 18.0, 18.0, 18.0, 19.0, 19.0, 19.0, 19.0, 19.0, 19.0, 19.0, 19.0, 19.0, 20.0, 20.0, 20.0, 20.0, 20.0, 21.0, 21.0, 21.0, 22.0, 22.0, 22.0, 22.0, 22.0, 22.0, 22.0, 23.0, 23.0, 23.0, 23.0, 23.0, 24.0, 24.0, 24.0, 24.0, 24.0, 25.0, 26.0, 26.0, 27.0, 27.0, 27.0, 27.0, 28.0, 28.0, 30.0, 30.0, 31.0, 31.0, 36.0, 37.0], \"xaxis\": \"x\", \"y\": [3.89950570197656, 3.8953982451281104, 3.8953982451281104, 3.8953982451281104, 3.8953982451281104, 3.8953982451281104, 3.8953982451281104, 3.8953982451281104, 3.8953982451281104, 3.8912612739386625, 3.8912612739386625, 3.8912612739386625, 3.8912612739386625, 3.8912612739386625, 3.8912612739386625, 3.8912612739386625, 3.8912612739386625, 3.8912612739386625, 3.8912612739386625, 3.8912612739386625, 3.8869565403129025, 3.8869565403129025, 3.8869565403129025, 3.8869565403129025, 3.8869565403129025, 3.8869565403129025, 3.8869565403129025, 3.8869565403129025, 3.8869565403129025, 3.8869565403129025, 3.8869565403129025, 3.8825515233947763, 3.8825515233947763, 3.8825515233947763, 3.8825515233947763, 3.8825515233947763, 3.8825515233947763, 3.8825515233947763, 3.8825515233947763, 3.8825515233947763, 3.8825515233947763, 3.8825515233947763, 3.8780395968034984, 3.8780395968034984, 3.8780395968034984, 3.8780395968034984, 3.8780395968034984, 3.8780395968034984, 3.8780395968034984, 3.8780395968034984, 3.8780395968034984, 3.8780395968034984, 3.8780395968034984, 3.8780395968034984, 3.873361394798251, 3.873361394798251, 3.873361394798251, 3.873361394798251, 3.873361394798251, 3.873361394798251, 3.873361394798251, 3.873361394798251, 3.873361394798251, 3.873361394798251, 3.873361394798251, 3.873361394798251, 3.873361394798251, 3.873361394798251, 3.873361394798251, 3.873361394798251, 3.873361394798251, 3.868840589155403, 3.868840589155403, 3.868840589155403, 3.868840589155403, 3.868840589155403, 3.868840589155403, 3.868840589155403, 3.868840589155403, 3.868840589155403, 3.868840589155403, 3.868840589155403, 3.868840589155403, 3.868840589155403, 3.868840589155403, 3.8605314995017923, 3.8605314995017923, 3.8605314995017923, 3.8605314995017923, 3.8605314995017923, 3.8605314995017923, 3.8605314995017923, 3.8605314995017923, 3.8605314995017923, 3.8517533208049133, 3.8517533208049133, 3.843137950522786, 3.843137950522786, 3.843137950522786, 3.843137950522786, 3.843137950522786, 3.843137950522786, 3.843137950522786, 3.843137950522786, 3.843137950522786, 3.843137950522786, 3.843137950522786, 3.843137950522786, 3.843137950522786, 3.843137950522786, 3.8332549813249983, 3.8332549813249983, 3.8332549813249983, 3.8332549813249983, 3.8332549813249983, 3.8332549813249983, 3.8332549813249983, 3.8332549813249983, 3.8332549813249983, 3.8332549813249983, 3.8222557235673653, 3.8222557235673653, 3.8222557235673653, 3.8222557235673653, 3.8222557235673653, 3.8222557235673653, 3.8222557235673653, 3.8222557235673653, 3.8222557235673653, 3.8222557235673653, 3.8222557235673653, 3.8222557235673653, 3.8222557235673653, 3.8222557235673653, 3.8222557235673653, 3.8222557235673653, 3.8222557235673653, 3.8222557235673653, 3.8222557235673653, 3.8222557235673653, 3.8222557235673653, 3.814677710769139, 3.814677710769139, 3.814677710769139, 3.814677710769139, 3.814677710769139, 3.814677710769139, 3.814677710769139, 3.814677710769139, 3.814677710769139, 3.814677710769139, 3.814677710769139, 3.8072755926439874, 3.8072755926439874, 3.8072755926439874, 3.8072755926439874, 3.8072755926439874, 3.8072755926439874, 3.8072755926439874, 3.8072755926439874, 3.8072755926439874, 3.8072755926439874, 3.8072755926439874, 3.8072755926439874, 3.803519557207766, 3.803519557207766, 3.803519557207766, 3.803519557207766, 3.803519557207766, 3.8003991961354178, 3.8003991961354178, 3.8003991961354178, 3.8003991961354178, 3.8003991961354178, 3.8003991961354178, 3.8003991961354178, 3.8003991961354178, 3.8003991961354178, 3.8003991961354178, 3.7959746032508956, 3.7959746032508956, 3.7959746032508956, 3.7959746032508956, 3.7959746032508956, 3.7959746032508956, 3.7959746032508956, 3.7910908483255, 3.7910908483255, 3.7910908483255, 3.7910908483255, 3.7910908483255, 3.7910908483255, 3.7910908483255, 3.7910908483255, 3.7910908483255, 3.7866732952117004, 3.7866732952117004, 3.7866732952117004, 3.7866732952117004, 3.7866732952117004, 3.7866732952117004, 3.7866732952117004, 3.7866732952117004, 3.7866732952117004, 3.7822660600316076, 3.7822660600316076, 3.7822660600316076, 3.7822660600316076, 3.7822660600316076, 3.777026778644876, 3.777026778644876, 3.777026778644876, 3.7713312229051175, 3.7713312229051175, 3.7713312229051175, 3.7713312229051175, 3.7713312229051175, 3.7713312229051175, 3.7713312229051175, 3.764819652728975, 3.764819652728975, 3.764819652728975, 3.764819652728975, 3.764819652728975, 3.7583898572393446, 3.7583898572393446, 3.7583898572393446, 3.7583898572393446, 3.7583898572393446, 3.7523868848153863, 3.7466981466734097, 3.7466981466734097, 3.7411865145388528, 3.7411865145388528, 3.7411865145388528, 3.7411865145388528, 3.7357622608793832, 3.7357622608793832, 3.7248552917694484, 3.7248552917694484, 3.719263233936399, 3.719263233936399, 3.68949150047175, 3.6832645832727087], \"yaxis\": \"y\"}],\n",
       "                        {\"barmode\": \"overlay\", \"legend\": {\"tracegroupgap\": 0}, \"shapes\": [{\"fillcolor\": \"LightSkyBlue\", \"layer\": \"below\", \"line\": {\"width\": 0}, \"opacity\": 0.5, \"type\": \"rect\", \"x0\": 11.115261697226948, \"x1\": 13.024082565068134, \"xref\": \"x\", \"y0\": 3.13, \"y1\": 4.67, \"yref\": \"y\"}, {\"fillcolor\": \"LightSkyBlue\", \"layer\": \"below\", \"line\": {\"width\": 0}, \"opacity\": 0.5, \"type\": \"rect\", \"x0\": 0.0, \"x1\": 37.0, \"xref\": \"x\", \"y0\": 3.795955633744867, \"y1\": 3.8606837105174274, \"yref\": \"y\"}], \"template\": {\"data\": {\"bar\": [{\"error_x\": {\"color\": \"#2a3f5f\"}, \"error_y\": {\"color\": \"#2a3f5f\"}, \"marker\": {\"line\": {\"color\": \"#E5ECF6\", \"width\": 0.5}}, \"type\": \"bar\"}], \"barpolar\": [{\"marker\": {\"line\": {\"color\": \"#E5ECF6\", \"width\": 0.5}}, \"type\": \"barpolar\"}], \"carpet\": [{\"aaxis\": {\"endlinecolor\": \"#2a3f5f\", \"gridcolor\": \"white\", \"linecolor\": \"white\", \"minorgridcolor\": \"white\", \"startlinecolor\": \"#2a3f5f\"}, \"baxis\": {\"endlinecolor\": \"#2a3f5f\", \"gridcolor\": \"white\", \"linecolor\": \"white\", \"minorgridcolor\": \"white\", \"startlinecolor\": \"#2a3f5f\"}, \"type\": \"carpet\"}], \"choropleth\": [{\"colorbar\": {\"outlinewidth\": 0, \"ticks\": \"\"}, \"type\": \"choropleth\"}], \"contour\": [{\"colorbar\": {\"outlinewidth\": 0, \"ticks\": \"\"}, \"colorscale\": [[0.0, \"#0d0887\"], [0.1111111111111111, \"#46039f\"], [0.2222222222222222, \"#7201a8\"], [0.3333333333333333, \"#9c179e\"], [0.4444444444444444, \"#bd3786\"], [0.5555555555555556, \"#d8576b\"], [0.6666666666666666, \"#ed7953\"], [0.7777777777777778, \"#fb9f3a\"], [0.8888888888888888, \"#fdca26\"], [1.0, \"#f0f921\"]], \"type\": \"contour\"}], \"contourcarpet\": [{\"colorbar\": {\"outlinewidth\": 0, \"ticks\": \"\"}, \"type\": \"contourcarpet\"}], \"heatmap\": [{\"colorbar\": {\"outlinewidth\": 0, \"ticks\": \"\"}, \"colorscale\": [[0.0, \"#0d0887\"], [0.1111111111111111, \"#46039f\"], [0.2222222222222222, \"#7201a8\"], [0.3333333333333333, \"#9c179e\"], [0.4444444444444444, \"#bd3786\"], [0.5555555555555556, \"#d8576b\"], [0.6666666666666666, \"#ed7953\"], [0.7777777777777778, \"#fb9f3a\"], [0.8888888888888888, \"#fdca26\"], [1.0, \"#f0f921\"]], \"type\": \"heatmap\"}], \"heatmapgl\": [{\"colorbar\": {\"outlinewidth\": 0, \"ticks\": \"\"}, \"colorscale\": [[0.0, \"#0d0887\"], [0.1111111111111111, \"#46039f\"], [0.2222222222222222, \"#7201a8\"], [0.3333333333333333, \"#9c179e\"], [0.4444444444444444, \"#bd3786\"], [0.5555555555555556, \"#d8576b\"], [0.6666666666666666, \"#ed7953\"], [0.7777777777777778, \"#fb9f3a\"], [0.8888888888888888, \"#fdca26\"], [1.0, \"#f0f921\"]], \"type\": \"heatmapgl\"}], \"histogram\": [{\"marker\": {\"colorbar\": {\"outlinewidth\": 0, \"ticks\": \"\"}}, \"type\": \"histogram\"}], \"histogram2d\": [{\"colorbar\": {\"outlinewidth\": 0, \"ticks\": \"\"}, \"colorscale\": [[0.0, \"#0d0887\"], [0.1111111111111111, \"#46039f\"], [0.2222222222222222, \"#7201a8\"], [0.3333333333333333, \"#9c179e\"], [0.4444444444444444, \"#bd3786\"], [0.5555555555555556, \"#d8576b\"], [0.6666666666666666, \"#ed7953\"], [0.7777777777777778, \"#fb9f3a\"], [0.8888888888888888, \"#fdca26\"], [1.0, \"#f0f921\"]], \"type\": \"histogram2d\"}], \"histogram2dcontour\": [{\"colorbar\": {\"outlinewidth\": 0, \"ticks\": \"\"}, \"colorscale\": [[0.0, \"#0d0887\"], [0.1111111111111111, \"#46039f\"], [0.2222222222222222, \"#7201a8\"], [0.3333333333333333, \"#9c179e\"], [0.4444444444444444, \"#bd3786\"], [0.5555555555555556, \"#d8576b\"], [0.6666666666666666, \"#ed7953\"], [0.7777777777777778, \"#fb9f3a\"], [0.8888888888888888, \"#fdca26\"], [1.0, \"#f0f921\"]], \"type\": \"histogram2dcontour\"}], \"mesh3d\": [{\"colorbar\": {\"outlinewidth\": 0, \"ticks\": \"\"}, \"type\": \"mesh3d\"}], \"parcoords\": [{\"line\": {\"colorbar\": {\"outlinewidth\": 0, \"ticks\": \"\"}}, \"type\": \"parcoords\"}], \"pie\": [{\"automargin\": true, \"type\": \"pie\"}], \"scatter\": [{\"marker\": {\"colorbar\": {\"outlinewidth\": 0, \"ticks\": \"\"}}, \"type\": \"scatter\"}], \"scatter3d\": [{\"line\": {\"colorbar\": {\"outlinewidth\": 0, \"ticks\": \"\"}}, \"marker\": {\"colorbar\": {\"outlinewidth\": 0, \"ticks\": \"\"}}, \"type\": \"scatter3d\"}], \"scattercarpet\": [{\"marker\": {\"colorbar\": {\"outlinewidth\": 0, \"ticks\": \"\"}}, \"type\": \"scattercarpet\"}], \"scattergeo\": [{\"marker\": {\"colorbar\": {\"outlinewidth\": 0, \"ticks\": \"\"}}, \"type\": \"scattergeo\"}], \"scattergl\": [{\"marker\": {\"colorbar\": {\"outlinewidth\": 0, \"ticks\": \"\"}}, \"type\": \"scattergl\"}], \"scattermapbox\": [{\"marker\": {\"colorbar\": {\"outlinewidth\": 0, \"ticks\": \"\"}}, \"type\": \"scattermapbox\"}], \"scatterpolar\": [{\"marker\": {\"colorbar\": {\"outlinewidth\": 0, \"ticks\": \"\"}}, \"type\": \"scatterpolar\"}], \"scatterpolargl\": [{\"marker\": {\"colorbar\": {\"outlinewidth\": 0, \"ticks\": \"\"}}, \"type\": \"scatterpolargl\"}], \"scatterternary\": [{\"marker\": {\"colorbar\": {\"outlinewidth\": 0, \"ticks\": \"\"}}, \"type\": \"scatterternary\"}], \"surface\": [{\"colorbar\": {\"outlinewidth\": 0, \"ticks\": \"\"}, \"colorscale\": [[0.0, \"#0d0887\"], [0.1111111111111111, \"#46039f\"], [0.2222222222222222, \"#7201a8\"], [0.3333333333333333, \"#9c179e\"], [0.4444444444444444, \"#bd3786\"], [0.5555555555555556, \"#d8576b\"], [0.6666666666666666, \"#ed7953\"], [0.7777777777777778, \"#fb9f3a\"], [0.8888888888888888, \"#fdca26\"], [1.0, \"#f0f921\"]], \"type\": \"surface\"}], \"table\": [{\"cells\": {\"fill\": {\"color\": \"#EBF0F8\"}, \"line\": {\"color\": \"white\"}}, \"header\": {\"fill\": {\"color\": \"#C8D4E3\"}, \"line\": {\"color\": \"white\"}}, \"type\": \"table\"}]}, \"layout\": {\"annotationdefaults\": {\"arrowcolor\": \"#2a3f5f\", \"arrowhead\": 0, \"arrowwidth\": 1}, \"coloraxis\": {\"colorbar\": {\"outlinewidth\": 0, \"ticks\": \"\"}}, \"colorscale\": {\"diverging\": [[0, \"#8e0152\"], [0.1, \"#c51b7d\"], [0.2, \"#de77ae\"], [0.3, \"#f1b6da\"], [0.4, \"#fde0ef\"], [0.5, \"#f7f7f7\"], [0.6, \"#e6f5d0\"], [0.7, \"#b8e186\"], [0.8, \"#7fbc41\"], [0.9, \"#4d9221\"], [1, \"#276419\"]], \"sequential\": [[0.0, \"#0d0887\"], [0.1111111111111111, \"#46039f\"], [0.2222222222222222, \"#7201a8\"], [0.3333333333333333, \"#9c179e\"], [0.4444444444444444, \"#bd3786\"], [0.5555555555555556, \"#d8576b\"], [0.6666666666666666, \"#ed7953\"], [0.7777777777777778, \"#fb9f3a\"], [0.8888888888888888, \"#fdca26\"], [1.0, \"#f0f921\"]], \"sequentialminus\": [[0.0, \"#0d0887\"], [0.1111111111111111, \"#46039f\"], [0.2222222222222222, \"#7201a8\"], [0.3333333333333333, \"#9c179e\"], [0.4444444444444444, \"#bd3786\"], [0.5555555555555556, \"#d8576b\"], [0.6666666666666666, \"#ed7953\"], [0.7777777777777778, \"#fb9f3a\"], [0.8888888888888888, \"#fdca26\"], [1.0, \"#f0f921\"]]}, \"colorway\": [\"#636efa\", \"#EF553B\", \"#00cc96\", \"#ab63fa\", \"#FFA15A\", \"#19d3f3\", \"#FF6692\", \"#B6E880\", \"#FF97FF\", \"#FECB52\"], \"font\": {\"color\": \"#2a3f5f\"}, \"geo\": {\"bgcolor\": \"white\", \"lakecolor\": \"white\", \"landcolor\": \"#E5ECF6\", \"showlakes\": true, \"showland\": true, \"subunitcolor\": \"white\"}, \"hoverlabel\": {\"align\": \"left\"}, \"hovermode\": \"closest\", \"mapbox\": {\"style\": \"light\"}, \"paper_bgcolor\": \"white\", \"plot_bgcolor\": \"#E5ECF6\", \"polar\": {\"angularaxis\": {\"gridcolor\": \"white\", \"linecolor\": \"white\", \"ticks\": \"\"}, \"bgcolor\": \"#E5ECF6\", \"radialaxis\": {\"gridcolor\": \"white\", \"linecolor\": \"white\", \"ticks\": \"\"}}, \"scene\": {\"xaxis\": {\"backgroundcolor\": \"#E5ECF6\", \"gridcolor\": \"white\", \"gridwidth\": 2, \"linecolor\": \"white\", \"showbackground\": true, \"ticks\": \"\", \"zerolinecolor\": \"white\"}, \"yaxis\": {\"backgroundcolor\": \"#E5ECF6\", \"gridcolor\": \"white\", \"gridwidth\": 2, \"linecolor\": \"white\", \"showbackground\": true, \"ticks\": \"\", \"zerolinecolor\": \"white\"}, \"zaxis\": {\"backgroundcolor\": \"#E5ECF6\", \"gridcolor\": \"white\", \"gridwidth\": 2, \"linecolor\": \"white\", \"showbackground\": true, \"ticks\": \"\", \"zerolinecolor\": \"white\"}}, \"shapedefaults\": {\"line\": {\"color\": \"#2a3f5f\"}}, \"ternary\": {\"aaxis\": {\"gridcolor\": \"white\", \"linecolor\": \"white\", \"ticks\": \"\"}, \"baxis\": {\"gridcolor\": \"white\", \"linecolor\": \"white\", \"ticks\": \"\"}, \"bgcolor\": \"#E5ECF6\", \"caxis\": {\"gridcolor\": \"white\", \"linecolor\": \"white\", \"ticks\": \"\"}}, \"title\": {\"x\": 0.05}, \"xaxis\": {\"automargin\": true, \"gridcolor\": \"white\", \"linecolor\": \"white\", \"ticks\": \"\", \"title\": {\"standoff\": 15}, \"zerolinecolor\": \"white\", \"zerolinewidth\": 2}, \"yaxis\": {\"automargin\": true, \"gridcolor\": \"white\", \"linecolor\": \"white\", \"ticks\": \"\", \"title\": {\"standoff\": 15}, \"zerolinecolor\": \"white\", \"zerolinewidth\": 2}}}, \"title\": {\"text\": \"ledighed vs. socialt\"}, \"xaxis\": {\"anchor\": \"y\", \"domain\": [0.0, 0.7363], \"title\": {\"text\": \"ledighed\"}}, \"xaxis2\": {\"anchor\": \"y2\", \"domain\": [0.7413, 1.0], \"matches\": \"x2\", \"showgrid\": true, \"showline\": false, \"showticklabels\": false, \"ticks\": \"\"}, \"xaxis3\": {\"anchor\": \"y3\", \"domain\": [0.0, 0.7363], \"matches\": \"x\", \"showgrid\": true, \"showticklabels\": false}, \"xaxis4\": {\"anchor\": \"y4\", \"domain\": [0.7413, 1.0], \"matches\": \"x2\", \"showgrid\": true, \"showline\": false, \"showticklabels\": false, \"ticks\": \"\"}, \"yaxis\": {\"anchor\": \"x\", \"domain\": [0.0, 0.7326], \"title\": {\"text\": \"socialt\"}}, \"yaxis2\": {\"anchor\": \"x2\", \"domain\": [0.0, 0.7326], \"matches\": \"y\", \"showgrid\": true, \"showticklabels\": false}, \"yaxis3\": {\"anchor\": \"x3\", \"domain\": [0.7426, 1.0], \"matches\": \"y3\", \"showgrid\": true, \"showline\": false, \"showticklabels\": false, \"ticks\": \"\"}, \"yaxis4\": {\"anchor\": \"x4\", \"domain\": [0.7426, 1.0], \"matches\": \"y3\", \"showgrid\": true, \"showline\": false, \"showticklabels\": false, \"ticks\": \"\"}},\n",
       "                        {\"responsive\": true}\n",
       "                    ).then(function(){\n",
       "                            \n",
       "var gd = document.getElementById('97eddfd6-aef7-4a90-b307-b49dea21823c');\n",
       "var x = new MutationObserver(function (mutations, observer) {{\n",
       "        var display = window.getComputedStyle(gd).display;\n",
       "        if (!display || display === 'none') {{\n",
       "            console.log([gd, 'removed!']);\n",
       "            Plotly.purge(gd);\n",
       "            observer.disconnect();\n",
       "        }}\n",
       "}});\n",
       "\n",
       "// Listen for the removal of the full notebook cells\n",
       "var notebookContainer = gd.closest('#notebook-container');\n",
       "if (notebookContainer) {{\n",
       "    x.observe(notebookContainer, {childList: true});\n",
       "}}\n",
       "\n",
       "// Listen for the clearing of the current output cell\n",
       "var outputEl = gd.closest('.output');\n",
       "if (outputEl) {{\n",
       "    x.observe(outputEl, {childList: true});\n",
       "}}\n",
       "\n",
       "                        })\n",
       "                };\n",
       "                });\n",
       "            </script>\n",
       "        </div>"
      ]
     },
     "metadata": {},
     "output_type": "display_data"
    },
    {
     "data": {
      "application/vnd.plotly.v1+json": {
       "config": {
        "plotlyServerURL": "https://plot.ly"
       },
       "data": [
        {
         "customdata": [
          [
           "Arkitekt"
          ],
          [
           "Veterinærmedicin"
          ],
          [
           "Designledelse"
          ],
          [
           "Odontologi"
          ],
          [
           "Jura"
          ],
          [
           "Farmaci"
          ],
          [
           "Lyd- og musikteknologi"
          ],
          [
           "Farmaceutisk videnskab"
          ],
          [
           "Tværkulturelle studier"
          ],
          [
           "Amerikanske studier"
          ],
          [
           "Engelsk"
          ],
          [
           "Medialogy"
          ],
          [
           "Medicin og teknologi"
          ],
          [
           "Humanbiologi"
          ],
          [
           "Molecular Biology"
          ],
          [
           "Musikvidenskab"
          ],
          [
           "Informationsvidenskab og kulturformidling"
          ],
          [
           "Human ernæring"
          ],
          [
           "Erhvervssprog og international virksomhedskommunikation"
          ],
          [
           "Industrielt design"
          ],
          [
           "Religionsvidenskab"
          ],
          [
           "Sundhedsteknologi"
          ],
          [
           "Radiograf"
          ],
          [
           "Bioteknologi"
          ],
          [
           "Biologi-bioteknologi"
          ],
          [
           "Landskabsarkitektur"
          ],
          [
           "Corporate Communication"
          ],
          [
           "Biokemi"
          ],
          [
           "Byggeri"
          ],
          [
           "Moderne kultur og kulturformidling"
          ],
          [
           "Sygeplejerske"
          ],
          [
           "Uddannelsesvidenskab"
          ],
          [
           "Filosofi"
          ],
          [
           "Bioinformatik"
          ],
          [
           "Digital design og interaktive teknologier"
          ],
          [
           "Astronomi"
          ],
          [
           "Miljøvidenskab"
          ],
          [
           "Global udvikling"
          ],
          [
           "Samfundsvidenskabelig jura"
          ],
          [
           "Fransk sprog, litteratur og kultur"
          ],
          [
           "Tekstildesign, -håndværk og formidling"
          ],
          [
           "Erhvervsøkonomi og virksomhedskommunikation"
          ],
          [
           "Bygningsdesign"
          ],
          [
           "Fødevareteknologi"
          ],
          [
           "Audiologi"
          ],
          [
           "Cultural Sociology"
          ],
          [
           "Mechatronics Engineering"
          ],
          [
           "Medicine with Industrial Specialisation"
          ],
          [
           "Antropologi"
          ],
          [
           "Biologi"
          ],
          [
           "Anvendt kemi"
          ],
          [
           "It-ledelse"
          ],
          [
           "Molekylær ernæring og fødevareteknologi"
          ],
          [
           "Film- og medievidenskab"
          ],
          [
           "Erhvervsøkonomi og psykologi"
          ],
          [
           "It, kommunikation og organisation"
          ],
          [
           "Datalogi"
          ],
          [
           "Fysik"
          ],
          [
           "Olie- og gasteknologi"
          ],
          [
           "Kultur, kommunikation og globalisering"
          ],
          [
           "Dansk"
          ],
          [
           "Erhvervsøkonomi - erhvervssprog, negot."
          ],
          [
           "Medicin"
          ],
          [
           "Webudvikling"
          ],
          [
           "Fysik og nanoteknologi"
          ],
          [
           "Agronomi"
          ],
          [
           "Pædagogisk filosofi"
          ],
          [
           "Pædagogisk psykologi"
          ],
          [
           "Husdyrvidenskab"
          ],
          [
           "Pædagogik"
          ],
          [
           "Socialt arbejde"
          ],
          [
           "Økonomi"
          ],
          [
           "Erhvervsøkonomi og erhvervsjura"
          ],
          [
           "It-design og applikationsudvikling"
          ],
          [
           "Matematik-økonomi"
          ],
          [
           "Historie"
          ],
          [
           "Bioanalytiker"
          ],
          [
           "Design og business"
          ],
          [
           "Forvaltning"
          ],
          [
           "Kemi og bioteknologi"
          ],
          [
           "Kultur og formidling"
          ],
          [
           "Socialrådgiver"
          ],
          [
           "Tysk"
          ],
          [
           "Litteraturvidenskab"
          ],
          [
           "Erhvervsøkonomi, cand.soc."
          ],
          [
           "Teologi"
          ],
          [
           "Geologi"
          ],
          [
           "Diplomingeniør - bygningsdesign"
          ],
          [
           "Tandplejer"
          ],
          [
           "It-didaktisk design"
          ],
          [
           "Bioinformatik og systembiologi"
          ],
          [
           "Jordbrugsøkonomi"
          ],
          [
           "Fysioterapeut"
          ],
          [
           "Samfundsfag"
          ],
          [
           "Statskundskab"
          ],
          [
           "Sociologi"
          ],
          [
           "Erhvervsøkonomi, cand.merc."
          ],
          [
           "Designer"
          ],
          [
           "Dramaturgi"
          ],
          [
           "Teknologibaseret forretningsudvikling"
          ],
          [
           "Mechanical Engineering"
          ],
          [
           "Softwaredesign"
          ],
          [
           "Agro-Environmental Management"
          ],
          [
           "Transport og logistik"
          ],
          [
           "Matematik"
          ],
          [
           "Sundhedsfremme og sundhedsstrategier"
          ],
          [
           "Kriminologi"
          ],
          [
           "Socialvidenskab"
          ],
          [
           "Ernæring og sundhed"
          ],
          [
           "Kemi (civilingeniør)"
          ],
          [
           "Diplomingeniør - softwareteknologi"
          ],
          [
           "Digital innovation og management"
          ],
          [
           "Kunsthistorie"
          ],
          [
           "Digital design"
          ],
          [
           "Psykologi"
          ],
          [
           "Sundhedsfaglig kandidat"
          ],
          [
           "Psykomotorisk terapeut"
          ],
          [
           "Medievidenskab"
          ],
          [
           "Ergoterapi"
          ],
          [
           "Erhvervsøkonomi og filosofi"
          ],
          [
           "Spansk sprog og kultur"
          ],
          [
           "Mellemøststudier"
          ],
          [
           "Molekylær medicin"
          ],
          [
           "Diplomingeniør - bygning"
          ],
          [
           "Humanistisk-samfundsvidenskabelig idrætsvidenskab"
          ],
          [
           "Informationsvidenskab"
          ],
          [
           "Software"
          ],
          [
           "Folkesundhedsvidenskab"
          ],
          [
           "Diplomingeniør - elektrisk energiteknologi"
          ],
          [
           "Audiologopædi"
          ],
          [
           "Pædagogisk sociologi"
          ],
          [
           "Nanoscience"
          ],
          [
           "Klinisk sygepleje"
          ],
          [
           "Sygepleje"
          ],
          [
           "Anvendt kulturanalyse"
          ],
          [
           "Fødevarevidenskab"
          ],
          [
           "Geografi"
          ],
          [
           "Optometrist"
          ],
          [
           "Bygningskonstruktør"
          ],
          [
           "Ergoterapeut"
          ],
          [
           "Pædagog"
          ],
          [
           "Arbejdslivsstudier"
          ],
          [
           "Fysioterapi"
          ],
          [
           "Have- og parkingeniør"
          ],
          [
           "Kommunikation"
          ],
          [
           "Klinisk ernæring"
          ],
          [
           "Tourism"
          ],
          [
           "Digitale medieteknologier"
          ],
          [
           "Interaktive digitale medier"
          ],
          [
           "International sikkerhed og folkeret"
          ],
          [
           "Design og innovation"
          ],
          [
           "Politisk kommunikation og ledelse"
          ],
          [
           "Lingvistik"
          ],
          [
           "Humanfysiologi"
          ],
          [
           "Laboratorie- og fødevareteknologi"
          ],
          [
           "Medicinalkemi"
          ],
          [
           "Journalistik"
          ],
          [
           "Spil"
          ],
          [
           "Offentlig administration"
          ],
          [
           "Æstetik og kultur"
          ],
          [
           "Softwareudvikling"
          ],
          [
           "IT Product Design"
          ],
          [
           "Kemi"
          ],
          [
           "Revisorkandidat, cand.merc.aud."
          ],
          [
           "Jordemoder"
          ],
          [
           "Oplevelsesøkonomi"
          ],
          [
           "Vision, Graphics and Interactive Systems"
          ],
          [
           "Kemisk og biokemisk teknologi"
          ],
          [
           "Energy Engineering"
          ],
          [
           "Diplomingeniør - maskinteknik"
          ],
          [
           "Industriel økonomi og teknologiledelse"
          ],
          [
           "Materiale- og procesteknologi"
          ],
          [
           "Miljøteknologi"
          ],
          [
           "Byggeteknologi"
          ],
          [
           "Geofysik"
          ],
          [
           "Digital konceptudvikling"
          ],
          [
           "Statistik"
          ],
          [
           "Webkommunikation"
          ],
          [
           "Informationsteknologi"
          ],
          [
           "Farmateknologi"
          ],
          [
           "Multimediedesigner"
          ],
          [
           "International handel og markedsføring"
          ],
          [
           "Business Administration and Information Systems"
          ],
          [
           "Maskinmester"
          ],
          [
           "Politik og administration"
          ],
          [
           "Bæredygtigt design"
          ],
          [
           "Virksomhedsledelse"
          ],
          [
           "Didaktik"
          ],
          [
           "Energiteknologi"
          ],
          [
           "Elektroteknologi"
          ],
          [
           "Lærer i folkeskolen"
          ],
          [
           "Mekanik"
          ],
          [
           "Diplomingeniør - elektronik"
          ],
          [
           "Læring og forandringsprocesser"
          ],
          [
           "International Hospitality Management"
          ],
          [
           "Anvendt filosofi"
          ],
          [
           "Diplomingeniør - eksport og teknologi"
          ],
          [
           "Jordbrug"
          ],
          [
           "Financial Controller"
          ],
          [
           "Pædagogisk antropologi"
          ],
          [
           "Europastudier"
          ],
          [
           "Administrationsøkonom"
          ],
          [
           "International Public Administration and Politics"
          ],
          [
           "Matematisk modellering og computing"
          ],
          [
           "Designteknolog"
          ],
          [
           "Laborant"
          ],
          [
           "Retorik"
          ],
          [
           "IT-teknolog"
          ],
          [
           "Konstruktion og mekanik"
          ],
          [
           "Water and Environment Engineering"
          ],
          [
           "Datamatiker"
          ],
          [
           "Elinstallatør"
          ],
          [
           "Finans"
          ],
          [
           "Markedsføringsøkonom"
          ],
          [
           "Bæredygtig energi"
          ],
          [
           "Procesteknolog"
          ],
          [
           "Lyd og akustisk teknologi"
          ],
          [
           "Serviceøkonom"
          ],
          [
           "Produktudvikling og teknisk integration"
          ],
          [
           "Medieproduktion og ledelse"
          ],
          [
           "It, læring og organisatorisk omstilling"
          ],
          [
           "Miljøteknolog"
          ],
          [
           "Innovation and Business"
          ],
          [
           "Idræt"
          ],
          [
           "Grafisk kommunikation"
          ],
          [
           "Økonomi og informationsteknologi"
          ],
          [
           "Veje og trafik"
          ],
          [
           "Ledelse og informatik i byggeriet"
          ],
          [
           "Logistikøkonom"
          ],
          [
           "Diakoni og socialpædagogik"
          ],
          [
           "Finansøkonom"
          ],
          [
           "Visuel kommunikation"
          ],
          [
           "Handelsøkonom"
          ],
          [
           "Multiplatform storytelling and production"
          ],
          [
           "Jordbrugsteknolog"
          ],
          [
           "Journalist"
          ],
          [
           "Geofysik og rumteknologi"
          ],
          [
           "Automationsteknolog"
          ],
          [
           "Produktionsteknolog"
          ],
          [
           "Kommunikation"
          ],
          [
           "Landinspektørvidenskab"
          ],
          [
           "Tv- og medietilrettelæggelse"
          ],
          [
           "Energiteknolog"
          ],
          [
           "Lærer fra Den frie Lærerskole"
          ]
         ],
         "hoverlabel": {
          "namelength": 0
         },
         "hovertemplate": "ledighed=%{x}<br>tidsforbrug=%{y}<br>Titel=%{customdata[0]}",
         "legendgroup": "",
         "marker": {
          "color": "#636efa",
          "symbol": "circle"
         },
         "mode": "markers",
         "name": "",
         "showlegend": false,
         "type": "scatter",
         "x": [
          11,
          6,
          27,
          3,
          5,
          8,
          13,
          4,
          23,
          22,
          22,
          24,
          4,
          6,
          17,
          16,
          19,
          24,
          18,
          21,
          24,
          1,
          3,
          12,
          14,
          13,
          12,
          18,
          1,
          25,
          1,
          15,
          30,
          5,
          12,
          13,
          10,
          10,
          5,
          23,
          21,
          9,
          14,
          10,
          8,
          12,
          7,
          17,
          23,
          23,
          12,
          12,
          14,
          19,
          7,
          6,
          3,
          6,
          10,
          27,
          16,
          14,
          1,
          13,
          5,
          11,
          17,
          12,
          12,
          14,
          10,
          2,
          6,
          15,
          3,
          26,
          5,
          16,
          11,
          11,
          36,
          6,
          16,
          27,
          7,
          18,
          17,
          4,
          8,
          12,
          8,
          7,
          6,
          14,
          6,
          17,
          7,
          27,
          24,
          7,
          6,
          3,
          18,
          2,
          3,
          20,
          18,
          28,
          11,
          18,
          5,
          6,
          31,
          24,
          10,
          7,
          20,
          20,
          5,
          19,
          22,
          22,
          14,
          4,
          10,
          13,
          3,
          11,
          3,
          2,
          13,
          14,
          1,
          3,
          23,
          8,
          13,
          1,
          7,
          10,
          8,
          12,
          5,
          14,
          22,
          10,
          19,
          5,
          37,
          20,
          6,
          12,
          14,
          12,
          13,
          17,
          12,
          12,
          12,
          31,
          7,
          19,
          12,
          2,
          2,
          28,
          4,
          6,
          5,
          5,
          4,
          6,
          11,
          4,
          18,
          20,
          2,
          16,
          0,
          7,
          15,
          12,
          6,
          3,
          18,
          16,
          16,
          13,
          22,
          4,
          6,
          1,
          5,
          19,
          13,
          30,
          12,
          16,
          10,
          17,
          26,
          19,
          10,
          2,
          12,
          7,
          18,
          11,
          2,
          2,
          10,
          2,
          4,
          8,
          12,
          13,
          2,
          9,
          15,
          14,
          16,
          22,
          7,
          15,
          19,
          4,
          1,
          6,
          7,
          7,
          6,
          16,
          8,
          21,
          10,
          11,
          11,
          3,
          10,
          8,
          4,
          14,
          12,
          19
         ],
         "xaxis": "x",
         "y": [
          45,
          52,
          35,
          47,
          33,
          45,
          40,
          45.5,
          35,
          30,
          31,
          37,
          41,
          45,
          45,
          32.5,
          30,
          40,
          34,
          45.5,
          38,
          42,
          39,
          40,
          40,
          41,
          36,
          43,
          44,
          30,
          42,
          35,
          36,
          38,
          36,
          41,
          41.5,
          40.5,
          32,
          29.5,
          38,
          27,
          43,
          36,
          34.5,
          36,
          47.5,
          41,
          35,
          39.5,
          42,
          40,
          41,
          30,
          32,
          37,
          41,
          40,
          40,
          37,
          31,
          32,
          44,
          38,
          43,
          40,
          42,
          35,
          39.5,
          35,
          36,
          38,
          34,
          37,
          37,
          35,
          44,
          40,
          30,
          44,
          35.5,
          37,
          38.5,
          37,
          38.5,
          35,
          37,
          42,
          42,
          37,
          37,
          37,
          41,
          34,
          34,
          32,
          36,
          45,
          36.5,
          36,
          44,
          44.5,
          37,
          38,
          38,
          37,
          37,
          30.5,
          40,
          41,
          40,
          35,
          33,
          32,
          34,
          40,
          39,
          29,
          40,
          33.5,
          33,
          37,
          42,
          42,
          29.5,
          35,
          40.5,
          36,
          41,
          33,
          36,
          45,
          39,
          37,
          37,
          39.5,
          34,
          37,
          42,
          40,
          40,
          32,
          37,
          41.5,
          31,
          36.5,
          37,
          43,
          35,
          40,
          36,
          32,
          28,
          36,
          40,
          46,
          37,
          35,
          36,
          32,
          36,
          45,
          42,
          24,
          45,
          38,
          44,
          41,
          47,
          42,
          41,
          41,
          40,
          41,
          37,
          40,
          38,
          31,
          40,
          40,
          40,
          38,
          30,
          42,
          37,
          44.5,
          32,
          31.5,
          40,
          42,
          34,
          45.5,
          42,
          38,
          38,
          35,
          36,
          37,
          42,
          35,
          33,
          36,
          34,
          39.5,
          40,
          39,
          32,
          39,
          41,
          46.5,
          37,
          43.5,
          37,
          37,
          44,
          42,
          47,
          36,
          40,
          37,
          33.5,
          40,
          41,
          30,
          48,
          34,
          42,
          36.5,
          38,
          33.5,
          34,
          42,
          38,
          38,
          38,
          37,
          41,
          41,
          38,
          35,
          37,
          37,
          35.5,
          35
         ],
         "yaxis": "y"
        },
        {
         "alignmentgroup": "True",
         "bingroup": "x",
         "hoverlabel": {
          "namelength": 0
         },
         "hovertemplate": "ledighed=%{x}<br>count=%{y}",
         "legendgroup": "",
         "marker": {
          "color": "#636efa"
         },
         "name": "",
         "offsetgroup": "",
         "opacity": 0.5,
         "showlegend": false,
         "type": "histogram",
         "x": [
          11,
          6,
          27,
          3,
          5,
          8,
          13,
          4,
          23,
          22,
          22,
          24,
          4,
          6,
          17,
          16,
          19,
          24,
          18,
          21,
          24,
          1,
          3,
          12,
          14,
          13,
          12,
          18,
          1,
          25,
          1,
          15,
          30,
          5,
          12,
          13,
          10,
          10,
          5,
          23,
          21,
          9,
          14,
          10,
          8,
          12,
          7,
          17,
          23,
          23,
          12,
          12,
          14,
          19,
          7,
          6,
          3,
          6,
          10,
          27,
          16,
          14,
          1,
          13,
          5,
          11,
          17,
          12,
          12,
          14,
          10,
          2,
          6,
          15,
          3,
          26,
          5,
          16,
          11,
          11,
          36,
          6,
          16,
          27,
          7,
          18,
          17,
          4,
          8,
          12,
          8,
          7,
          6,
          14,
          6,
          17,
          7,
          27,
          24,
          7,
          6,
          3,
          18,
          2,
          3,
          20,
          18,
          28,
          11,
          18,
          5,
          6,
          31,
          24,
          10,
          7,
          20,
          20,
          5,
          19,
          22,
          22,
          14,
          4,
          10,
          13,
          3,
          11,
          3,
          2,
          13,
          14,
          1,
          3,
          23,
          8,
          13,
          1,
          7,
          10,
          8,
          12,
          5,
          14,
          22,
          10,
          19,
          5,
          37,
          20,
          6,
          12,
          14,
          12,
          13,
          17,
          12,
          12,
          12,
          31,
          7,
          19,
          12,
          2,
          2,
          28,
          4,
          6,
          5,
          5,
          4,
          6,
          11,
          4,
          18,
          20,
          2,
          16,
          0,
          7,
          15,
          12,
          6,
          3,
          18,
          16,
          16,
          13,
          22,
          4,
          6,
          1,
          5,
          19,
          13,
          30,
          12,
          16,
          10,
          17,
          26,
          19,
          10,
          2,
          12,
          7,
          18,
          11,
          2,
          2,
          10,
          2,
          4,
          8,
          12,
          13,
          2,
          9,
          15,
          14,
          16,
          22,
          7,
          15,
          19,
          4,
          1,
          6,
          7,
          7,
          6,
          16,
          8,
          21,
          10,
          11,
          11,
          3,
          10,
          8,
          4,
          14,
          12,
          19
         ],
         "xaxis": "x3",
         "yaxis": "y3"
        },
        {
         "alignmentgroup": "True",
         "bingroup": "y",
         "hoverlabel": {
          "namelength": 0
         },
         "hovertemplate": "tidsforbrug=%{y}<br>count=%{x}",
         "legendgroup": "",
         "marker": {
          "color": "#636efa"
         },
         "name": "",
         "offsetgroup": "",
         "opacity": 0.5,
         "showlegend": false,
         "type": "histogram",
         "xaxis": "x2",
         "y": [
          45,
          52,
          35,
          47,
          33,
          45,
          40,
          45.5,
          35,
          30,
          31,
          37,
          41,
          45,
          45,
          32.5,
          30,
          40,
          34,
          45.5,
          38,
          42,
          39,
          40,
          40,
          41,
          36,
          43,
          44,
          30,
          42,
          35,
          36,
          38,
          36,
          41,
          41.5,
          40.5,
          32,
          29.5,
          38,
          27,
          43,
          36,
          34.5,
          36,
          47.5,
          41,
          35,
          39.5,
          42,
          40,
          41,
          30,
          32,
          37,
          41,
          40,
          40,
          37,
          31,
          32,
          44,
          38,
          43,
          40,
          42,
          35,
          39.5,
          35,
          36,
          38,
          34,
          37,
          37,
          35,
          44,
          40,
          30,
          44,
          35.5,
          37,
          38.5,
          37,
          38.5,
          35,
          37,
          42,
          42,
          37,
          37,
          37,
          41,
          34,
          34,
          32,
          36,
          45,
          36.5,
          36,
          44,
          44.5,
          37,
          38,
          38,
          37,
          37,
          30.5,
          40,
          41,
          40,
          35,
          33,
          32,
          34,
          40,
          39,
          29,
          40,
          33.5,
          33,
          37,
          42,
          42,
          29.5,
          35,
          40.5,
          36,
          41,
          33,
          36,
          45,
          39,
          37,
          37,
          39.5,
          34,
          37,
          42,
          40,
          40,
          32,
          37,
          41.5,
          31,
          36.5,
          37,
          43,
          35,
          40,
          36,
          32,
          28,
          36,
          40,
          46,
          37,
          35,
          36,
          32,
          36,
          45,
          42,
          24,
          45,
          38,
          44,
          41,
          47,
          42,
          41,
          41,
          40,
          41,
          37,
          40,
          38,
          31,
          40,
          40,
          40,
          38,
          30,
          42,
          37,
          44.5,
          32,
          31.5,
          40,
          42,
          34,
          45.5,
          42,
          38,
          38,
          35,
          36,
          37,
          42,
          35,
          33,
          36,
          34,
          39.5,
          40,
          39,
          32,
          39,
          41,
          46.5,
          37,
          43.5,
          37,
          37,
          44,
          42,
          47,
          36,
          40,
          37,
          33.5,
          40,
          41,
          30,
          48,
          34,
          42,
          36.5,
          38,
          33.5,
          34,
          42,
          38,
          38,
          38,
          37,
          41,
          41,
          38,
          35,
          37,
          37,
          35.5,
          35
         ],
         "yaxis": "y2"
        },
        {
         "hoverlabel": {
          "namelength": 0
         },
         "hovertemplate": "<b>LOWESS trendline</b><br><br>ledighed=%{x}<br>tidsforbrug=%{y} <b>(trend)</b>",
         "legendgroup": "",
         "marker": {
          "color": "#636efa",
          "symbol": "circle"
         },
         "mode": "lines",
         "name": "",
         "showlegend": false,
         "type": "scatter",
         "x": [
          0,
          1,
          1,
          1,
          1,
          1,
          1,
          1,
          1,
          2,
          2,
          2,
          2,
          2,
          2,
          2,
          2,
          2,
          2,
          2,
          3,
          3,
          3,
          3,
          3,
          3,
          3,
          3,
          3,
          3,
          3,
          4,
          4,
          4,
          4,
          4,
          4,
          4,
          4,
          4,
          4,
          4,
          5,
          5,
          5,
          5,
          5,
          5,
          5,
          5,
          5,
          5,
          5,
          5,
          6,
          6,
          6,
          6,
          6,
          6,
          6,
          6,
          6,
          6,
          6,
          6,
          6,
          6,
          6,
          6,
          6,
          7,
          7,
          7,
          7,
          7,
          7,
          7,
          7,
          7,
          7,
          7,
          7,
          7,
          7,
          8,
          8,
          8,
          8,
          8,
          8,
          8,
          8,
          8,
          9,
          9,
          10,
          10,
          10,
          10,
          10,
          10,
          10,
          10,
          10,
          10,
          10,
          10,
          10,
          10,
          11,
          11,
          11,
          11,
          11,
          11,
          11,
          11,
          11,
          11,
          12,
          12,
          12,
          12,
          12,
          12,
          12,
          12,
          12,
          12,
          12,
          12,
          12,
          12,
          12,
          12,
          12,
          12,
          12,
          12,
          12,
          13,
          13,
          13,
          13,
          13,
          13,
          13,
          13,
          13,
          13,
          13,
          14,
          14,
          14,
          14,
          14,
          14,
          14,
          14,
          14,
          14,
          14,
          14,
          15,
          15,
          15,
          15,
          15,
          16,
          16,
          16,
          16,
          16,
          16,
          16,
          16,
          16,
          16,
          17,
          17,
          17,
          17,
          17,
          17,
          17,
          18,
          18,
          18,
          18,
          18,
          18,
          18,
          18,
          18,
          19,
          19,
          19,
          19,
          19,
          19,
          19,
          19,
          19,
          20,
          20,
          20,
          20,
          20,
          21,
          21,
          21,
          22,
          22,
          22,
          22,
          22,
          22,
          22,
          23,
          23,
          23,
          23,
          23,
          24,
          24,
          24,
          24,
          24,
          25,
          26,
          26,
          27,
          27,
          27,
          27,
          28,
          28,
          30,
          30,
          31,
          31,
          36,
          37
         ],
         "xaxis": "x",
         "y": [
          41.999054730393446,
          41.49954086180111,
          41.49954086180111,
          41.49954086180111,
          41.49954086180111,
          41.49954086180111,
          41.49954086180111,
          41.49954086180111,
          41.49954086180111,
          41.00943800086675,
          41.00943800086675,
          41.00943800086675,
          41.00943800086675,
          41.00943800086675,
          41.00943800086675,
          41.00943800086675,
          41.00943800086675,
          41.00943800086675,
          41.00943800086675,
          41.00943800086675,
          40.532320832125954,
          40.532320832125954,
          40.532320832125954,
          40.532320832125954,
          40.532320832125954,
          40.532320832125954,
          40.532320832125954,
          40.532320832125954,
          40.532320832125954,
          40.532320832125954,
          40.532320832125954,
          40.071796924678424,
          40.071796924678424,
          40.071796924678424,
          40.071796924678424,
          40.071796924678424,
          40.071796924678424,
          40.071796924678424,
          40.071796924678424,
          40.071796924678424,
          40.071796924678424,
          40.071796924678424,
          39.630541512604296,
          39.630541512604296,
          39.630541512604296,
          39.630541512604296,
          39.630541512604296,
          39.630541512604296,
          39.630541512604296,
          39.630541512604296,
          39.630541512604296,
          39.630541512604296,
          39.630541512604296,
          39.630541512604296,
          39.205334941815934,
          39.205334941815934,
          39.205334941815934,
          39.205334941815934,
          39.205334941815934,
          39.205334941815934,
          39.205334941815934,
          39.205334941815934,
          39.205334941815934,
          39.205334941815934,
          39.205334941815934,
          39.205334941815934,
          39.205334941815934,
          39.205334941815934,
          39.205334941815934,
          39.205334941815934,
          39.205334941815934,
          38.78172122032255,
          38.78172122032255,
          38.78172122032255,
          38.78172122032255,
          38.78172122032255,
          38.78172122032255,
          38.78172122032255,
          38.78172122032255,
          38.78172122032255,
          38.78172122032255,
          38.78172122032255,
          38.78172122032255,
          38.78172122032255,
          38.78172122032255,
          38.48036263141396,
          38.48036263141396,
          38.48036263141396,
          38.48036263141396,
          38.48036263141396,
          38.48036263141396,
          38.48036263141396,
          38.48036263141396,
          38.48036263141396,
          38.225748448033436,
          38.225748448033436,
          38.02774422726628,
          38.02774422726628,
          38.02774422726628,
          38.02774422726628,
          38.02774422726628,
          38.02774422726628,
          38.02774422726628,
          38.02774422726628,
          38.02774422726628,
          38.02774422726628,
          38.02774422726628,
          38.02774422726628,
          38.02774422726628,
          38.02774422726628,
          37.88728904389809,
          37.88728904389809,
          37.88728904389809,
          37.88728904389809,
          37.88728904389809,
          37.88728904389809,
          37.88728904389809,
          37.88728904389809,
          37.88728904389809,
          37.88728904389809,
          37.79377583147217,
          37.79377583147217,
          37.79377583147217,
          37.79377583147217,
          37.79377583147217,
          37.79377583147217,
          37.79377583147217,
          37.79377583147217,
          37.79377583147217,
          37.79377583147217,
          37.79377583147217,
          37.79377583147217,
          37.79377583147217,
          37.79377583147217,
          37.79377583147217,
          37.79377583147217,
          37.79377583147217,
          37.79377583147217,
          37.79377583147217,
          37.79377583147217,
          37.79377583147217,
          37.66944964860124,
          37.66944964860124,
          37.66944964860124,
          37.66944964860124,
          37.66944964860124,
          37.66944964860124,
          37.66944964860124,
          37.66944964860124,
          37.66944964860124,
          37.66944964860124,
          37.66944964860124,
          37.54865731331587,
          37.54865731331587,
          37.54865731331587,
          37.54865731331587,
          37.54865731331587,
          37.54865731331587,
          37.54865731331587,
          37.54865731331587,
          37.54865731331587,
          37.54865731331587,
          37.54865731331587,
          37.54865731331587,
          37.417474310066325,
          37.417474310066325,
          37.417474310066325,
          37.417474310066325,
          37.417474310066325,
          37.245173559205206,
          37.245173559205206,
          37.245173559205206,
          37.245173559205206,
          37.245173559205206,
          37.245173559205206,
          37.245173559205206,
          37.245173559205206,
          37.245173559205206,
          37.245173559205206,
          37.07250780978841,
          37.07250780978841,
          37.07250780978841,
          37.07250780978841,
          37.07250780978841,
          37.07250780978841,
          37.07250780978841,
          36.87578315531835,
          36.87578315531835,
          36.87578315531835,
          36.87578315531835,
          36.87578315531835,
          36.87578315531835,
          36.87578315531835,
          36.87578315531835,
          36.87578315531835,
          36.70042271417532,
          36.70042271417532,
          36.70042271417532,
          36.70042271417532,
          36.70042271417532,
          36.70042271417532,
          36.70042271417532,
          36.70042271417532,
          36.70042271417532,
          36.53133003487284,
          36.53133003487284,
          36.53133003487284,
          36.53133003487284,
          36.53133003487284,
          36.3494721151057,
          36.3494721151057,
          36.3494721151057,
          36.15936201765084,
          36.15936201765084,
          36.15936201765084,
          36.15936201765084,
          36.15936201765084,
          36.15936201765084,
          36.15936201765084,
          35.97534000639585,
          35.97534000639585,
          35.97534000639585,
          35.97534000639585,
          35.97534000639585,
          35.80778353254674,
          35.80778353254674,
          35.80778353254674,
          35.80778353254674,
          35.80778353254674,
          35.6511974344488,
          35.49897879778348,
          35.49897879778348,
          35.34783287201338,
          35.34783287201338,
          35.34783287201338,
          35.34783287201338,
          35.19657142570513,
          35.19657142570513,
          34.89116409983054,
          34.89116409983054,
          34.7367862858257,
          34.7367862858257,
          33.96184551533088,
          33.81017327666766
         ],
         "yaxis": "y"
        }
       ],
       "layout": {
        "barmode": "overlay",
        "legend": {
         "tracegroupgap": 0
        },
        "shapes": [
         {
          "fillcolor": "LightSkyBlue",
          "layer": "below",
          "line": {
           "width": 0
          },
          "opacity": 0.5,
          "type": "rect",
          "x0": 11.115261697226948,
          "x1": 13.024082565068134,
          "xref": "x",
          "y0": 24,
          "y1": 52,
          "yref": "y"
         },
         {
          "fillcolor": "LightSkyBlue",
          "layer": "below",
          "line": {
           "width": 0
          },
          "opacity": 0.5,
          "type": "rect",
          "x0": 0,
          "x1": 37,
          "xref": "x",
          "y0": 37.46502236650339,
          "y1": 38.58415796136546,
          "yref": "y"
         }
        ],
        "template": {
         "data": {
          "bar": [
           {
            "error_x": {
             "color": "#2a3f5f"
            },
            "error_y": {
             "color": "#2a3f5f"
            },
            "marker": {
             "line": {
              "color": "#E5ECF6",
              "width": 0.5
             }
            },
            "type": "bar"
           }
          ],
          "barpolar": [
           {
            "marker": {
             "line": {
              "color": "#E5ECF6",
              "width": 0.5
             }
            },
            "type": "barpolar"
           }
          ],
          "carpet": [
           {
            "aaxis": {
             "endlinecolor": "#2a3f5f",
             "gridcolor": "white",
             "linecolor": "white",
             "minorgridcolor": "white",
             "startlinecolor": "#2a3f5f"
            },
            "baxis": {
             "endlinecolor": "#2a3f5f",
             "gridcolor": "white",
             "linecolor": "white",
             "minorgridcolor": "white",
             "startlinecolor": "#2a3f5f"
            },
            "type": "carpet"
           }
          ],
          "choropleth": [
           {
            "colorbar": {
             "outlinewidth": 0,
             "ticks": ""
            },
            "type": "choropleth"
           }
          ],
          "contour": [
           {
            "colorbar": {
             "outlinewidth": 0,
             "ticks": ""
            },
            "colorscale": [
             [
              0,
              "#0d0887"
             ],
             [
              0.1111111111111111,
              "#46039f"
             ],
             [
              0.2222222222222222,
              "#7201a8"
             ],
             [
              0.3333333333333333,
              "#9c179e"
             ],
             [
              0.4444444444444444,
              "#bd3786"
             ],
             [
              0.5555555555555556,
              "#d8576b"
             ],
             [
              0.6666666666666666,
              "#ed7953"
             ],
             [
              0.7777777777777778,
              "#fb9f3a"
             ],
             [
              0.8888888888888888,
              "#fdca26"
             ],
             [
              1,
              "#f0f921"
             ]
            ],
            "type": "contour"
           }
          ],
          "contourcarpet": [
           {
            "colorbar": {
             "outlinewidth": 0,
             "ticks": ""
            },
            "type": "contourcarpet"
           }
          ],
          "heatmap": [
           {
            "colorbar": {
             "outlinewidth": 0,
             "ticks": ""
            },
            "colorscale": [
             [
              0,
              "#0d0887"
             ],
             [
              0.1111111111111111,
              "#46039f"
             ],
             [
              0.2222222222222222,
              "#7201a8"
             ],
             [
              0.3333333333333333,
              "#9c179e"
             ],
             [
              0.4444444444444444,
              "#bd3786"
             ],
             [
              0.5555555555555556,
              "#d8576b"
             ],
             [
              0.6666666666666666,
              "#ed7953"
             ],
             [
              0.7777777777777778,
              "#fb9f3a"
             ],
             [
              0.8888888888888888,
              "#fdca26"
             ],
             [
              1,
              "#f0f921"
             ]
            ],
            "type": "heatmap"
           }
          ],
          "heatmapgl": [
           {
            "colorbar": {
             "outlinewidth": 0,
             "ticks": ""
            },
            "colorscale": [
             [
              0,
              "#0d0887"
             ],
             [
              0.1111111111111111,
              "#46039f"
             ],
             [
              0.2222222222222222,
              "#7201a8"
             ],
             [
              0.3333333333333333,
              "#9c179e"
             ],
             [
              0.4444444444444444,
              "#bd3786"
             ],
             [
              0.5555555555555556,
              "#d8576b"
             ],
             [
              0.6666666666666666,
              "#ed7953"
             ],
             [
              0.7777777777777778,
              "#fb9f3a"
             ],
             [
              0.8888888888888888,
              "#fdca26"
             ],
             [
              1,
              "#f0f921"
             ]
            ],
            "type": "heatmapgl"
           }
          ],
          "histogram": [
           {
            "marker": {
             "colorbar": {
              "outlinewidth": 0,
              "ticks": ""
             }
            },
            "type": "histogram"
           }
          ],
          "histogram2d": [
           {
            "colorbar": {
             "outlinewidth": 0,
             "ticks": ""
            },
            "colorscale": [
             [
              0,
              "#0d0887"
             ],
             [
              0.1111111111111111,
              "#46039f"
             ],
             [
              0.2222222222222222,
              "#7201a8"
             ],
             [
              0.3333333333333333,
              "#9c179e"
             ],
             [
              0.4444444444444444,
              "#bd3786"
             ],
             [
              0.5555555555555556,
              "#d8576b"
             ],
             [
              0.6666666666666666,
              "#ed7953"
             ],
             [
              0.7777777777777778,
              "#fb9f3a"
             ],
             [
              0.8888888888888888,
              "#fdca26"
             ],
             [
              1,
              "#f0f921"
             ]
            ],
            "type": "histogram2d"
           }
          ],
          "histogram2dcontour": [
           {
            "colorbar": {
             "outlinewidth": 0,
             "ticks": ""
            },
            "colorscale": [
             [
              0,
              "#0d0887"
             ],
             [
              0.1111111111111111,
              "#46039f"
             ],
             [
              0.2222222222222222,
              "#7201a8"
             ],
             [
              0.3333333333333333,
              "#9c179e"
             ],
             [
              0.4444444444444444,
              "#bd3786"
             ],
             [
              0.5555555555555556,
              "#d8576b"
             ],
             [
              0.6666666666666666,
              "#ed7953"
             ],
             [
              0.7777777777777778,
              "#fb9f3a"
             ],
             [
              0.8888888888888888,
              "#fdca26"
             ],
             [
              1,
              "#f0f921"
             ]
            ],
            "type": "histogram2dcontour"
           }
          ],
          "mesh3d": [
           {
            "colorbar": {
             "outlinewidth": 0,
             "ticks": ""
            },
            "type": "mesh3d"
           }
          ],
          "parcoords": [
           {
            "line": {
             "colorbar": {
              "outlinewidth": 0,
              "ticks": ""
             }
            },
            "type": "parcoords"
           }
          ],
          "pie": [
           {
            "automargin": true,
            "type": "pie"
           }
          ],
          "scatter": [
           {
            "marker": {
             "colorbar": {
              "outlinewidth": 0,
              "ticks": ""
             }
            },
            "type": "scatter"
           }
          ],
          "scatter3d": [
           {
            "line": {
             "colorbar": {
              "outlinewidth": 0,
              "ticks": ""
             }
            },
            "marker": {
             "colorbar": {
              "outlinewidth": 0,
              "ticks": ""
             }
            },
            "type": "scatter3d"
           }
          ],
          "scattercarpet": [
           {
            "marker": {
             "colorbar": {
              "outlinewidth": 0,
              "ticks": ""
             }
            },
            "type": "scattercarpet"
           }
          ],
          "scattergeo": [
           {
            "marker": {
             "colorbar": {
              "outlinewidth": 0,
              "ticks": ""
             }
            },
            "type": "scattergeo"
           }
          ],
          "scattergl": [
           {
            "marker": {
             "colorbar": {
              "outlinewidth": 0,
              "ticks": ""
             }
            },
            "type": "scattergl"
           }
          ],
          "scattermapbox": [
           {
            "marker": {
             "colorbar": {
              "outlinewidth": 0,
              "ticks": ""
             }
            },
            "type": "scattermapbox"
           }
          ],
          "scatterpolar": [
           {
            "marker": {
             "colorbar": {
              "outlinewidth": 0,
              "ticks": ""
             }
            },
            "type": "scatterpolar"
           }
          ],
          "scatterpolargl": [
           {
            "marker": {
             "colorbar": {
              "outlinewidth": 0,
              "ticks": ""
             }
            },
            "type": "scatterpolargl"
           }
          ],
          "scatterternary": [
           {
            "marker": {
             "colorbar": {
              "outlinewidth": 0,
              "ticks": ""
             }
            },
            "type": "scatterternary"
           }
          ],
          "surface": [
           {
            "colorbar": {
             "outlinewidth": 0,
             "ticks": ""
            },
            "colorscale": [
             [
              0,
              "#0d0887"
             ],
             [
              0.1111111111111111,
              "#46039f"
             ],
             [
              0.2222222222222222,
              "#7201a8"
             ],
             [
              0.3333333333333333,
              "#9c179e"
             ],
             [
              0.4444444444444444,
              "#bd3786"
             ],
             [
              0.5555555555555556,
              "#d8576b"
             ],
             [
              0.6666666666666666,
              "#ed7953"
             ],
             [
              0.7777777777777778,
              "#fb9f3a"
             ],
             [
              0.8888888888888888,
              "#fdca26"
             ],
             [
              1,
              "#f0f921"
             ]
            ],
            "type": "surface"
           }
          ],
          "table": [
           {
            "cells": {
             "fill": {
              "color": "#EBF0F8"
             },
             "line": {
              "color": "white"
             }
            },
            "header": {
             "fill": {
              "color": "#C8D4E3"
             },
             "line": {
              "color": "white"
             }
            },
            "type": "table"
           }
          ]
         },
         "layout": {
          "annotationdefaults": {
           "arrowcolor": "#2a3f5f",
           "arrowhead": 0,
           "arrowwidth": 1
          },
          "coloraxis": {
           "colorbar": {
            "outlinewidth": 0,
            "ticks": ""
           }
          },
          "colorscale": {
           "diverging": [
            [
             0,
             "#8e0152"
            ],
            [
             0.1,
             "#c51b7d"
            ],
            [
             0.2,
             "#de77ae"
            ],
            [
             0.3,
             "#f1b6da"
            ],
            [
             0.4,
             "#fde0ef"
            ],
            [
             0.5,
             "#f7f7f7"
            ],
            [
             0.6,
             "#e6f5d0"
            ],
            [
             0.7,
             "#b8e186"
            ],
            [
             0.8,
             "#7fbc41"
            ],
            [
             0.9,
             "#4d9221"
            ],
            [
             1,
             "#276419"
            ]
           ],
           "sequential": [
            [
             0,
             "#0d0887"
            ],
            [
             0.1111111111111111,
             "#46039f"
            ],
            [
             0.2222222222222222,
             "#7201a8"
            ],
            [
             0.3333333333333333,
             "#9c179e"
            ],
            [
             0.4444444444444444,
             "#bd3786"
            ],
            [
             0.5555555555555556,
             "#d8576b"
            ],
            [
             0.6666666666666666,
             "#ed7953"
            ],
            [
             0.7777777777777778,
             "#fb9f3a"
            ],
            [
             0.8888888888888888,
             "#fdca26"
            ],
            [
             1,
             "#f0f921"
            ]
           ],
           "sequentialminus": [
            [
             0,
             "#0d0887"
            ],
            [
             0.1111111111111111,
             "#46039f"
            ],
            [
             0.2222222222222222,
             "#7201a8"
            ],
            [
             0.3333333333333333,
             "#9c179e"
            ],
            [
             0.4444444444444444,
             "#bd3786"
            ],
            [
             0.5555555555555556,
             "#d8576b"
            ],
            [
             0.6666666666666666,
             "#ed7953"
            ],
            [
             0.7777777777777778,
             "#fb9f3a"
            ],
            [
             0.8888888888888888,
             "#fdca26"
            ],
            [
             1,
             "#f0f921"
            ]
           ]
          },
          "colorway": [
           "#636efa",
           "#EF553B",
           "#00cc96",
           "#ab63fa",
           "#FFA15A",
           "#19d3f3",
           "#FF6692",
           "#B6E880",
           "#FF97FF",
           "#FECB52"
          ],
          "font": {
           "color": "#2a3f5f"
          },
          "geo": {
           "bgcolor": "white",
           "lakecolor": "white",
           "landcolor": "#E5ECF6",
           "showlakes": true,
           "showland": true,
           "subunitcolor": "white"
          },
          "hoverlabel": {
           "align": "left"
          },
          "hovermode": "closest",
          "mapbox": {
           "style": "light"
          },
          "paper_bgcolor": "white",
          "plot_bgcolor": "#E5ECF6",
          "polar": {
           "angularaxis": {
            "gridcolor": "white",
            "linecolor": "white",
            "ticks": ""
           },
           "bgcolor": "#E5ECF6",
           "radialaxis": {
            "gridcolor": "white",
            "linecolor": "white",
            "ticks": ""
           }
          },
          "scene": {
           "xaxis": {
            "backgroundcolor": "#E5ECF6",
            "gridcolor": "white",
            "gridwidth": 2,
            "linecolor": "white",
            "showbackground": true,
            "ticks": "",
            "zerolinecolor": "white"
           },
           "yaxis": {
            "backgroundcolor": "#E5ECF6",
            "gridcolor": "white",
            "gridwidth": 2,
            "linecolor": "white",
            "showbackground": true,
            "ticks": "",
            "zerolinecolor": "white"
           },
           "zaxis": {
            "backgroundcolor": "#E5ECF6",
            "gridcolor": "white",
            "gridwidth": 2,
            "linecolor": "white",
            "showbackground": true,
            "ticks": "",
            "zerolinecolor": "white"
           }
          },
          "shapedefaults": {
           "line": {
            "color": "#2a3f5f"
           }
          },
          "ternary": {
           "aaxis": {
            "gridcolor": "white",
            "linecolor": "white",
            "ticks": ""
           },
           "baxis": {
            "gridcolor": "white",
            "linecolor": "white",
            "ticks": ""
           },
           "bgcolor": "#E5ECF6",
           "caxis": {
            "gridcolor": "white",
            "linecolor": "white",
            "ticks": ""
           }
          },
          "title": {
           "x": 0.05
          },
          "xaxis": {
           "automargin": true,
           "gridcolor": "white",
           "linecolor": "white",
           "ticks": "",
           "title": {
            "standoff": 15
           },
           "zerolinecolor": "white",
           "zerolinewidth": 2
          },
          "yaxis": {
           "automargin": true,
           "gridcolor": "white",
           "linecolor": "white",
           "ticks": "",
           "title": {
            "standoff": 15
           },
           "zerolinecolor": "white",
           "zerolinewidth": 2
          }
         }
        },
        "title": {
         "text": "ledighed vs. tidsforbrug"
        },
        "xaxis": {
         "anchor": "y",
         "domain": [
          0,
          0.7363
         ],
         "title": {
          "text": "ledighed"
         }
        },
        "xaxis2": {
         "anchor": "y2",
         "domain": [
          0.7413,
          1
         ],
         "matches": "x2",
         "showgrid": true,
         "showline": false,
         "showticklabels": false,
         "ticks": ""
        },
        "xaxis3": {
         "anchor": "y3",
         "domain": [
          0,
          0.7363
         ],
         "matches": "x",
         "showgrid": true,
         "showticklabels": false
        },
        "xaxis4": {
         "anchor": "y4",
         "domain": [
          0.7413,
          1
         ],
         "matches": "x2",
         "showgrid": true,
         "showline": false,
         "showticklabels": false,
         "ticks": ""
        },
        "yaxis": {
         "anchor": "x",
         "domain": [
          0,
          0.7326
         ],
         "title": {
          "text": "tidsforbrug"
         }
        },
        "yaxis2": {
         "anchor": "x2",
         "domain": [
          0,
          0.7326
         ],
         "matches": "y",
         "showgrid": true,
         "showticklabels": false
        },
        "yaxis3": {
         "anchor": "x3",
         "domain": [
          0.7426,
          1
         ],
         "matches": "y3",
         "showgrid": true,
         "showline": false,
         "showticklabels": false,
         "ticks": ""
        },
        "yaxis4": {
         "anchor": "x4",
         "domain": [
          0.7426,
          1
         ],
         "matches": "y3",
         "showgrid": true,
         "showline": false,
         "showticklabels": false,
         "ticks": ""
        }
       }
      },
      "text/html": [
       "<div>\n",
       "        \n",
       "        \n",
       "            <div id=\"dbf1b51a-882b-406d-9e06-d59173318b0b\" class=\"plotly-graph-div\" style=\"height:525px; width:100%;\"></div>\n",
       "            <script type=\"text/javascript\">\n",
       "                require([\"plotly\"], function(Plotly) {\n",
       "                    window.PLOTLYENV=window.PLOTLYENV || {};\n",
       "                    \n",
       "                if (document.getElementById(\"dbf1b51a-882b-406d-9e06-d59173318b0b\")) {\n",
       "                    Plotly.newPlot(\n",
       "                        'dbf1b51a-882b-406d-9e06-d59173318b0b',\n",
       "                        [{\"customdata\": [[\"Arkitekt\"], [\"Veterin\\u00e6rmedicin\"], [\"Designledelse\"], [\"Odontologi\"], [\"Jura\"], [\"Farmaci\"], [\"Lyd- og musikteknologi\"], [\"Farmaceutisk videnskab\"], [\"Tv\\u00e6rkulturelle studier\"], [\"Amerikanske studier\"], [\"Engelsk\"], [\"Medialogy\"], [\"Medicin og teknologi\"], [\"Humanbiologi\"], [\"Molecular Biology\"], [\"Musikvidenskab\"], [\"Informationsvidenskab og kulturformidling\"], [\"Human ern\\u00e6ring\"], [\"Erhvervssprog og international virksomhedskommunikation\"], [\"Industrielt design\"], [\"Religionsvidenskab\"], [\"Sundhedsteknologi\"], [\"Radiograf\"], [\"Bioteknologi\"], [\"Biologi-bioteknologi\"], [\"Landskabsarkitektur\"], [\"Corporate Communication\"], [\"Biokemi\"], [\"Byggeri\"], [\"Moderne kultur og kulturformidling\"], [\"Sygeplejerske\"], [\"Uddannelsesvidenskab\"], [\"Filosofi\"], [\"Bioinformatik\"], [\"Digital design og interaktive teknologier\"], [\"Astronomi\"], [\"Milj\\u00f8videnskab\"], [\"Global udvikling\"], [\"Samfundsvidenskabelig jura\"], [\"Fransk sprog, litteratur og kultur\"], [\"Tekstildesign, -h\\u00e5ndv\\u00e6rk og formidling\"], [\"Erhvervs\\u00f8konomi og virksomhedskommunikation\"], [\"Bygningsdesign\"], [\"F\\u00f8devareteknologi\"], [\"Audiologi\"], [\"Cultural Sociology\"], [\"Mechatronics Engineering\"], [\"Medicine with Industrial Specialisation\"], [\"Antropologi\"], [\"Biologi\"], [\"Anvendt kemi\"], [\"It-ledelse\"], [\"Molekyl\\u00e6r ern\\u00e6ring og f\\u00f8devareteknologi\"], [\"Film- og medievidenskab\"], [\"Erhvervs\\u00f8konomi og psykologi\"], [\"It, kommunikation og organisation\"], [\"Datalogi\"], [\"Fysik\"], [\"Olie- og gasteknologi\"], [\"Kultur, kommunikation og globalisering\"], [\"Dansk\"], [\"Erhvervs\\u00f8konomi - erhvervssprog, negot.\"], [\"Medicin\"], [\"Webudvikling\"], [\"Fysik og nanoteknologi\"], [\"Agronomi\"], [\"P\\u00e6dagogisk filosofi\"], [\"P\\u00e6dagogisk psykologi\"], [\"Husdyrvidenskab\"], [\"P\\u00e6dagogik\"], [\"Socialt arbejde\"], [\"\\u00d8konomi\"], [\"Erhvervs\\u00f8konomi og erhvervsjura\"], [\"It-design og applikationsudvikling\"], [\"Matematik-\\u00f8konomi\"], [\"Historie\"], [\"Bioanalytiker\"], [\"Design og business\"], [\"Forvaltning\"], [\"Kemi og bioteknologi\"], [\"Kultur og formidling\"], [\"Socialr\\u00e5dgiver\"], [\"Tysk\"], [\"Litteraturvidenskab\"], [\"Erhvervs\\u00f8konomi, cand.soc.\"], [\"Teologi\"], [\"Geologi\"], [\"Diplomingeni\\u00f8r - bygningsdesign\"], [\"Tandplejer\"], [\"It-didaktisk design\"], [\"Bioinformatik og systembiologi\"], [\"Jordbrugs\\u00f8konomi\"], [\"Fysioterapeut\"], [\"Samfundsfag\"], [\"Statskundskab\"], [\"Sociologi\"], [\"Erhvervs\\u00f8konomi, cand.merc.\"], [\"Designer\"], [\"Dramaturgi\"], [\"Teknologibaseret forretningsudvikling\"], [\"Mechanical Engineering\"], [\"Softwaredesign\"], [\"Agro-Environmental Management\"], [\"Transport og logistik\"], [\"Matematik\"], [\"Sundhedsfremme og sundhedsstrategier\"], [\"Kriminologi\"], [\"Socialvidenskab\"], [\"Ern\\u00e6ring og sundhed\"], [\"Kemi (civilingeni\\u00f8r)\"], [\"Diplomingeni\\u00f8r - softwareteknologi\"], [\"Digital innovation og management\"], [\"Kunsthistorie\"], [\"Digital design\"], [\"Psykologi\"], [\"Sundhedsfaglig kandidat\"], [\"Psykomotorisk terapeut\"], [\"Medievidenskab\"], [\"Ergoterapi\"], [\"Erhvervs\\u00f8konomi og filosofi\"], [\"Spansk sprog og kultur\"], [\"Mellem\\u00f8ststudier\"], [\"Molekyl\\u00e6r medicin\"], [\"Diplomingeni\\u00f8r - bygning\"], [\"Humanistisk-samfundsvidenskabelig idr\\u00e6tsvidenskab\"], [\"Informationsvidenskab\"], [\"Software\"], [\"Folkesundhedsvidenskab\"], [\"Diplomingeni\\u00f8r - elektrisk energiteknologi\"], [\"Audiologop\\u00e6di\"], [\"P\\u00e6dagogisk sociologi\"], [\"Nanoscience\"], [\"Klinisk sygepleje\"], [\"Sygepleje\"], [\"Anvendt kulturanalyse\"], [\"F\\u00f8devarevidenskab\"], [\"Geografi\"], [\"Optometrist\"], [\"Bygningskonstrukt\\u00f8r\"], [\"Ergoterapeut\"], [\"P\\u00e6dagog\"], [\"Arbejdslivsstudier\"], [\"Fysioterapi\"], [\"Have- og parkingeni\\u00f8r\"], [\"Kommunikation\"], [\"Klinisk ern\\u00e6ring\"], [\"Tourism\"], [\"Digitale medieteknologier\"], [\"Interaktive digitale medier\"], [\"International sikkerhed og folkeret\"], [\"Design og innovation\"], [\"Politisk kommunikation og ledelse\"], [\"Lingvistik\"], [\"Humanfysiologi\"], [\"Laboratorie- og f\\u00f8devareteknologi\"], [\"Medicinalkemi\"], [\"Journalistik\"], [\"Spil\"], [\"Offentlig administration\"], [\"\\u00c6stetik og kultur\"], [\"Softwareudvikling\"], [\"IT Product Design\"], [\"Kemi\"], [\"Revisorkandidat, cand.merc.aud.\"], [\"Jordemoder\"], [\"Oplevelses\\u00f8konomi\"], [\"Vision, Graphics and Interactive Systems\"], [\"Kemisk og biokemisk teknologi\"], [\"Energy Engineering\"], [\"Diplomingeni\\u00f8r - maskinteknik\"], [\"Industriel \\u00f8konomi og teknologiledelse\"], [\"Materiale- og procesteknologi\"], [\"Milj\\u00f8teknologi\"], [\"Byggeteknologi\"], [\"Geofysik\"], [\"Digital konceptudvikling\"], [\"Statistik\"], [\"Webkommunikation\"], [\"Informationsteknologi\"], [\"Farmateknologi\"], [\"Multimediedesigner\"], [\"International handel og markedsf\\u00f8ring\"], [\"Business Administration and Information Systems\"], [\"Maskinmester\"], [\"Politik og administration\"], [\"B\\u00e6redygtigt design\"], [\"Virksomhedsledelse\"], [\"Didaktik\"], [\"Energiteknologi\"], [\"Elektroteknologi\"], [\"L\\u00e6rer i folkeskolen\"], [\"Mekanik\"], [\"Diplomingeni\\u00f8r - elektronik\"], [\"L\\u00e6ring og forandringsprocesser\"], [\"International Hospitality Management\"], [\"Anvendt filosofi\"], [\"Diplomingeni\\u00f8r - eksport og teknologi\"], [\"Jordbrug\"], [\"Financial Controller\"], [\"P\\u00e6dagogisk antropologi\"], [\"Europastudier\"], [\"Administrations\\u00f8konom\"], [\"International Public Administration and Politics\"], [\"Matematisk modellering og computing\"], [\"Designteknolog\"], [\"Laborant\"], [\"Retorik\"], [\"IT-teknolog\"], [\"Konstruktion og mekanik\"], [\"Water and Environment Engineering\"], [\"Datamatiker\"], [\"Elinstallat\\u00f8r\"], [\"Finans\"], [\"Markedsf\\u00f8rings\\u00f8konom\"], [\"B\\u00e6redygtig energi\"], [\"Procesteknolog\"], [\"Lyd og akustisk teknologi\"], [\"Service\\u00f8konom\"], [\"Produktudvikling og teknisk integration\"], [\"Medieproduktion og ledelse\"], [\"It, l\\u00e6ring og organisatorisk omstilling\"], [\"Milj\\u00f8teknolog\"], [\"Innovation and Business\"], [\"Idr\\u00e6t\"], [\"Grafisk kommunikation\"], [\"\\u00d8konomi og informationsteknologi\"], [\"Veje og trafik\"], [\"Ledelse og informatik i byggeriet\"], [\"Logistik\\u00f8konom\"], [\"Diakoni og socialp\\u00e6dagogik\"], [\"Finans\\u00f8konom\"], [\"Visuel kommunikation\"], [\"Handels\\u00f8konom\"], [\"Multiplatform storytelling and production\"], [\"Jordbrugsteknolog\"], [\"Journalist\"], [\"Geofysik og rumteknologi\"], [\"Automationsteknolog\"], [\"Produktionsteknolog\"], [\"Kommunikation\"], [\"Landinspekt\\u00f8rvidenskab\"], [\"Tv- og medietilrettel\\u00e6ggelse\"], [\"Energiteknolog\"], [\"L\\u00e6rer fra Den frie L\\u00e6rerskole\"]], \"hoverlabel\": {\"namelength\": 0}, \"hovertemplate\": \"ledighed=%{x}<br>tidsforbrug=%{y}<br>Titel=%{customdata[0]}\", \"legendgroup\": \"\", \"marker\": {\"color\": \"#636efa\", \"symbol\": \"circle\"}, \"mode\": \"markers\", \"name\": \"\", \"showlegend\": false, \"type\": \"scatter\", \"x\": [11.0, 6.0, 27.0, 3.0, 5.0, 8.0, 13.0, 4.0, 23.0, 22.0, 22.0, 24.0, 4.0, 6.0, 17.0, 16.0, 19.0, 24.0, 18.0, 21.0, 24.0, 1.0, 3.0, 12.0, 14.0, 13.0, 12.0, 18.0, 1.0, 25.0, 1.0, 15.0, 30.0, 5.0, 12.0, 13.0, 10.0, 10.0, 5.0, 23.0, 21.0, 9.0, 14.0, 10.0, 8.0, 12.0, 7.0, 17.0, 23.0, 23.0, 12.0, 12.0, 14.0, 19.0, 7.0, 6.0, 3.0, 6.0, 10.0, 27.0, 16.0, 14.0, 1.0, 13.0, 5.0, 11.0, 17.0, 12.0, 12.0, 14.0, 10.0, 2.0, 6.0, 15.0, 3.0, 26.0, 5.0, 16.0, 11.0, 11.0, 36.0, 6.0, 16.0, 27.0, 7.0, 18.0, 17.0, 4.0, 8.0, 12.0, 8.0, 7.0, 6.0, 14.0, 6.0, 17.0, 7.0, 27.0, 24.0, 7.0, 6.0, 3.0, 18.0, 2.0, 3.0, 20.0, 18.0, 28.0, 11.0, 18.0, 5.0, 6.0, 31.0, 24.0, 10.0, 7.0, 20.0, 20.0, 5.0, 19.0, 22.0, 22.0, 14.0, 4.0, 10.0, 13.0, 3.0, 11.0, 3.0, 2.0, 13.0, 14.0, 1.0, 3.0, 23.0, 8.0, 13.0, 1.0, 7.0, 10.0, 8.0, 12.0, 5.0, 14.0, 22.0, 10.0, 19.0, 5.0, 37.0, 20.0, 6.0, 12.0, 14.0, 12.0, 13.0, 17.0, 12.0, 12.0, 12.0, 31.0, 7.0, 19.0, 12.0, 2.0, 2.0, 28.0, 4.0, 6.0, 5.0, 5.0, 4.0, 6.0, 11.0, 4.0, 18.0, 20.0, 2.0, 16.0, 0.0, 7.0, 15.0, 12.0, 6.0, 3.0, 18.0, 16.0, 16.0, 13.0, 22.0, 4.0, 6.0, 1.0, 5.0, 19.0, 13.0, 30.0, 12.0, 16.0, 10.0, 17.0, 26.0, 19.0, 10.0, 2.0, 12.0, 7.0, 18.0, 11.0, 2.0, 2.0, 10.0, 2.0, 4.0, 8.0, 12.0, 13.0, 2.0, 9.0, 15.0, 14.0, 16.0, 22.0, 7.0, 15.0, 19.0, 4.0, 1.0, 6.0, 7.0, 7.0, 6.0, 16.0, 8.0, 21.0, 10.0, 11.0, 11.0, 3.0, 10.0, 8.0, 4.0, 14.0, 12.0, 19.0], \"xaxis\": \"x\", \"y\": [45.0, 52.0, 35.0, 47.0, 33.0, 45.0, 40.0, 45.5, 35.0, 30.0, 31.0, 37.0, 41.0, 45.0, 45.0, 32.5, 30.0, 40.0, 34.0, 45.5, 38.0, 42.0, 39.0, 40.0, 40.0, 41.0, 36.0, 43.0, 44.0, 30.0, 42.0, 35.0, 36.0, 38.0, 36.0, 41.0, 41.5, 40.5, 32.0, 29.5, 38.0, 27.0, 43.0, 36.0, 34.5, 36.0, 47.5, 41.0, 35.0, 39.5, 42.0, 40.0, 41.0, 30.0, 32.0, 37.0, 41.0, 40.0, 40.0, 37.0, 31.0, 32.0, 44.0, 38.0, 43.0, 40.0, 42.0, 35.0, 39.5, 35.0, 36.0, 38.0, 34.0, 37.0, 37.0, 35.0, 44.0, 40.0, 30.0, 44.0, 35.5, 37.0, 38.5, 37.0, 38.5, 35.0, 37.0, 42.0, 42.0, 37.0, 37.0, 37.0, 41.0, 34.0, 34.0, 32.0, 36.0, 45.0, 36.5, 36.0, 44.0, 44.5, 37.0, 38.0, 38.0, 37.0, 37.0, 30.5, 40.0, 41.0, 40.0, 35.0, 33.0, 32.0, 34.0, 40.0, 39.0, 29.0, 40.0, 33.5, 33.0, 37.0, 42.0, 42.0, 29.5, 35.0, 40.5, 36.0, 41.0, 33.0, 36.0, 45.0, 39.0, 37.0, 37.0, 39.5, 34.0, 37.0, 42.0, 40.0, 40.0, 32.0, 37.0, 41.5, 31.0, 36.5, 37.0, 43.0, 35.0, 40.0, 36.0, 32.0, 28.0, 36.0, 40.0, 46.0, 37.0, 35.0, 36.0, 32.0, 36.0, 45.0, 42.0, 24.0, 45.0, 38.0, 44.0, 41.0, 47.0, 42.0, 41.0, 41.0, 40.0, 41.0, 37.0, 40.0, 38.0, 31.0, 40.0, 40.0, 40.0, 38.0, 30.0, 42.0, 37.0, 44.5, 32.0, 31.5, 40.0, 42.0, 34.0, 45.5, 42.0, 38.0, 38.0, 35.0, 36.0, 37.0, 42.0, 35.0, 33.0, 36.0, 34.0, 39.5, 40.0, 39.0, 32.0, 39.0, 41.0, 46.5, 37.0, 43.5, 37.0, 37.0, 44.0, 42.0, 47.0, 36.0, 40.0, 37.0, 33.5, 40.0, 41.0, 30.0, 48.0, 34.0, 42.0, 36.5, 38.0, 33.5, 34.0, 42.0, 38.0, 38.0, 38.0, 37.0, 41.0, 41.0, 38.0, 35.0, 37.0, 37.0, 35.5, 35.0], \"yaxis\": \"y\"}, {\"alignmentgroup\": \"True\", \"bingroup\": \"x\", \"hoverlabel\": {\"namelength\": 0}, \"hovertemplate\": \"ledighed=%{x}<br>count=%{y}\", \"legendgroup\": \"\", \"marker\": {\"color\": \"#636efa\"}, \"name\": \"\", \"offsetgroup\": \"\", \"opacity\": 0.5, \"showlegend\": false, \"type\": \"histogram\", \"x\": [11.0, 6.0, 27.0, 3.0, 5.0, 8.0, 13.0, 4.0, 23.0, 22.0, 22.0, 24.0, 4.0, 6.0, 17.0, 16.0, 19.0, 24.0, 18.0, 21.0, 24.0, 1.0, 3.0, 12.0, 14.0, 13.0, 12.0, 18.0, 1.0, 25.0, 1.0, 15.0, 30.0, 5.0, 12.0, 13.0, 10.0, 10.0, 5.0, 23.0, 21.0, 9.0, 14.0, 10.0, 8.0, 12.0, 7.0, 17.0, 23.0, 23.0, 12.0, 12.0, 14.0, 19.0, 7.0, 6.0, 3.0, 6.0, 10.0, 27.0, 16.0, 14.0, 1.0, 13.0, 5.0, 11.0, 17.0, 12.0, 12.0, 14.0, 10.0, 2.0, 6.0, 15.0, 3.0, 26.0, 5.0, 16.0, 11.0, 11.0, 36.0, 6.0, 16.0, 27.0, 7.0, 18.0, 17.0, 4.0, 8.0, 12.0, 8.0, 7.0, 6.0, 14.0, 6.0, 17.0, 7.0, 27.0, 24.0, 7.0, 6.0, 3.0, 18.0, 2.0, 3.0, 20.0, 18.0, 28.0, 11.0, 18.0, 5.0, 6.0, 31.0, 24.0, 10.0, 7.0, 20.0, 20.0, 5.0, 19.0, 22.0, 22.0, 14.0, 4.0, 10.0, 13.0, 3.0, 11.0, 3.0, 2.0, 13.0, 14.0, 1.0, 3.0, 23.0, 8.0, 13.0, 1.0, 7.0, 10.0, 8.0, 12.0, 5.0, 14.0, 22.0, 10.0, 19.0, 5.0, 37.0, 20.0, 6.0, 12.0, 14.0, 12.0, 13.0, 17.0, 12.0, 12.0, 12.0, 31.0, 7.0, 19.0, 12.0, 2.0, 2.0, 28.0, 4.0, 6.0, 5.0, 5.0, 4.0, 6.0, 11.0, 4.0, 18.0, 20.0, 2.0, 16.0, 0.0, 7.0, 15.0, 12.0, 6.0, 3.0, 18.0, 16.0, 16.0, 13.0, 22.0, 4.0, 6.0, 1.0, 5.0, 19.0, 13.0, 30.0, 12.0, 16.0, 10.0, 17.0, 26.0, 19.0, 10.0, 2.0, 12.0, 7.0, 18.0, 11.0, 2.0, 2.0, 10.0, 2.0, 4.0, 8.0, 12.0, 13.0, 2.0, 9.0, 15.0, 14.0, 16.0, 22.0, 7.0, 15.0, 19.0, 4.0, 1.0, 6.0, 7.0, 7.0, 6.0, 16.0, 8.0, 21.0, 10.0, 11.0, 11.0, 3.0, 10.0, 8.0, 4.0, 14.0, 12.0, 19.0], \"xaxis\": \"x3\", \"yaxis\": \"y3\"}, {\"alignmentgroup\": \"True\", \"bingroup\": \"y\", \"hoverlabel\": {\"namelength\": 0}, \"hovertemplate\": \"tidsforbrug=%{y}<br>count=%{x}\", \"legendgroup\": \"\", \"marker\": {\"color\": \"#636efa\"}, \"name\": \"\", \"offsetgroup\": \"\", \"opacity\": 0.5, \"showlegend\": false, \"type\": \"histogram\", \"xaxis\": \"x2\", \"y\": [45.0, 52.0, 35.0, 47.0, 33.0, 45.0, 40.0, 45.5, 35.0, 30.0, 31.0, 37.0, 41.0, 45.0, 45.0, 32.5, 30.0, 40.0, 34.0, 45.5, 38.0, 42.0, 39.0, 40.0, 40.0, 41.0, 36.0, 43.0, 44.0, 30.0, 42.0, 35.0, 36.0, 38.0, 36.0, 41.0, 41.5, 40.5, 32.0, 29.5, 38.0, 27.0, 43.0, 36.0, 34.5, 36.0, 47.5, 41.0, 35.0, 39.5, 42.0, 40.0, 41.0, 30.0, 32.0, 37.0, 41.0, 40.0, 40.0, 37.0, 31.0, 32.0, 44.0, 38.0, 43.0, 40.0, 42.0, 35.0, 39.5, 35.0, 36.0, 38.0, 34.0, 37.0, 37.0, 35.0, 44.0, 40.0, 30.0, 44.0, 35.5, 37.0, 38.5, 37.0, 38.5, 35.0, 37.0, 42.0, 42.0, 37.0, 37.0, 37.0, 41.0, 34.0, 34.0, 32.0, 36.0, 45.0, 36.5, 36.0, 44.0, 44.5, 37.0, 38.0, 38.0, 37.0, 37.0, 30.5, 40.0, 41.0, 40.0, 35.0, 33.0, 32.0, 34.0, 40.0, 39.0, 29.0, 40.0, 33.5, 33.0, 37.0, 42.0, 42.0, 29.5, 35.0, 40.5, 36.0, 41.0, 33.0, 36.0, 45.0, 39.0, 37.0, 37.0, 39.5, 34.0, 37.0, 42.0, 40.0, 40.0, 32.0, 37.0, 41.5, 31.0, 36.5, 37.0, 43.0, 35.0, 40.0, 36.0, 32.0, 28.0, 36.0, 40.0, 46.0, 37.0, 35.0, 36.0, 32.0, 36.0, 45.0, 42.0, 24.0, 45.0, 38.0, 44.0, 41.0, 47.0, 42.0, 41.0, 41.0, 40.0, 41.0, 37.0, 40.0, 38.0, 31.0, 40.0, 40.0, 40.0, 38.0, 30.0, 42.0, 37.0, 44.5, 32.0, 31.5, 40.0, 42.0, 34.0, 45.5, 42.0, 38.0, 38.0, 35.0, 36.0, 37.0, 42.0, 35.0, 33.0, 36.0, 34.0, 39.5, 40.0, 39.0, 32.0, 39.0, 41.0, 46.5, 37.0, 43.5, 37.0, 37.0, 44.0, 42.0, 47.0, 36.0, 40.0, 37.0, 33.5, 40.0, 41.0, 30.0, 48.0, 34.0, 42.0, 36.5, 38.0, 33.5, 34.0, 42.0, 38.0, 38.0, 38.0, 37.0, 41.0, 41.0, 38.0, 35.0, 37.0, 37.0, 35.5, 35.0], \"yaxis\": \"y2\"}, {\"hoverlabel\": {\"namelength\": 0}, \"hovertemplate\": \"<b>LOWESS trendline</b><br><br>ledighed=%{x}<br>tidsforbrug=%{y} <b>(trend)</b>\", \"legendgroup\": \"\", \"marker\": {\"color\": \"#636efa\", \"symbol\": \"circle\"}, \"mode\": \"lines\", \"name\": \"\", \"showlegend\": false, \"type\": \"scatter\", \"x\": [0.0, 1.0, 1.0, 1.0, 1.0, 1.0, 1.0, 1.0, 1.0, 2.0, 2.0, 2.0, 2.0, 2.0, 2.0, 2.0, 2.0, 2.0, 2.0, 2.0, 3.0, 3.0, 3.0, 3.0, 3.0, 3.0, 3.0, 3.0, 3.0, 3.0, 3.0, 4.0, 4.0, 4.0, 4.0, 4.0, 4.0, 4.0, 4.0, 4.0, 4.0, 4.0, 5.0, 5.0, 5.0, 5.0, 5.0, 5.0, 5.0, 5.0, 5.0, 5.0, 5.0, 5.0, 6.0, 6.0, 6.0, 6.0, 6.0, 6.0, 6.0, 6.0, 6.0, 6.0, 6.0, 6.0, 6.0, 6.0, 6.0, 6.0, 6.0, 7.0, 7.0, 7.0, 7.0, 7.0, 7.0, 7.0, 7.0, 7.0, 7.0, 7.0, 7.0, 7.0, 7.0, 8.0, 8.0, 8.0, 8.0, 8.0, 8.0, 8.0, 8.0, 8.0, 9.0, 9.0, 10.0, 10.0, 10.0, 10.0, 10.0, 10.0, 10.0, 10.0, 10.0, 10.0, 10.0, 10.0, 10.0, 10.0, 11.0, 11.0, 11.0, 11.0, 11.0, 11.0, 11.0, 11.0, 11.0, 11.0, 12.0, 12.0, 12.0, 12.0, 12.0, 12.0, 12.0, 12.0, 12.0, 12.0, 12.0, 12.0, 12.0, 12.0, 12.0, 12.0, 12.0, 12.0, 12.0, 12.0, 12.0, 13.0, 13.0, 13.0, 13.0, 13.0, 13.0, 13.0, 13.0, 13.0, 13.0, 13.0, 14.0, 14.0, 14.0, 14.0, 14.0, 14.0, 14.0, 14.0, 14.0, 14.0, 14.0, 14.0, 15.0, 15.0, 15.0, 15.0, 15.0, 16.0, 16.0, 16.0, 16.0, 16.0, 16.0, 16.0, 16.0, 16.0, 16.0, 17.0, 17.0, 17.0, 17.0, 17.0, 17.0, 17.0, 18.0, 18.0, 18.0, 18.0, 18.0, 18.0, 18.0, 18.0, 18.0, 19.0, 19.0, 19.0, 19.0, 19.0, 19.0, 19.0, 19.0, 19.0, 20.0, 20.0, 20.0, 20.0, 20.0, 21.0, 21.0, 21.0, 22.0, 22.0, 22.0, 22.0, 22.0, 22.0, 22.0, 23.0, 23.0, 23.0, 23.0, 23.0, 24.0, 24.0, 24.0, 24.0, 24.0, 25.0, 26.0, 26.0, 27.0, 27.0, 27.0, 27.0, 28.0, 28.0, 30.0, 30.0, 31.0, 31.0, 36.0, 37.0], \"xaxis\": \"x\", \"y\": [41.999054730393446, 41.49954086180111, 41.49954086180111, 41.49954086180111, 41.49954086180111, 41.49954086180111, 41.49954086180111, 41.49954086180111, 41.49954086180111, 41.00943800086675, 41.00943800086675, 41.00943800086675, 41.00943800086675, 41.00943800086675, 41.00943800086675, 41.00943800086675, 41.00943800086675, 41.00943800086675, 41.00943800086675, 41.00943800086675, 40.532320832125954, 40.532320832125954, 40.532320832125954, 40.532320832125954, 40.532320832125954, 40.532320832125954, 40.532320832125954, 40.532320832125954, 40.532320832125954, 40.532320832125954, 40.532320832125954, 40.071796924678424, 40.071796924678424, 40.071796924678424, 40.071796924678424, 40.071796924678424, 40.071796924678424, 40.071796924678424, 40.071796924678424, 40.071796924678424, 40.071796924678424, 40.071796924678424, 39.630541512604296, 39.630541512604296, 39.630541512604296, 39.630541512604296, 39.630541512604296, 39.630541512604296, 39.630541512604296, 39.630541512604296, 39.630541512604296, 39.630541512604296, 39.630541512604296, 39.630541512604296, 39.205334941815934, 39.205334941815934, 39.205334941815934, 39.205334941815934, 39.205334941815934, 39.205334941815934, 39.205334941815934, 39.205334941815934, 39.205334941815934, 39.205334941815934, 39.205334941815934, 39.205334941815934, 39.205334941815934, 39.205334941815934, 39.205334941815934, 39.205334941815934, 39.205334941815934, 38.78172122032255, 38.78172122032255, 38.78172122032255, 38.78172122032255, 38.78172122032255, 38.78172122032255, 38.78172122032255, 38.78172122032255, 38.78172122032255, 38.78172122032255, 38.78172122032255, 38.78172122032255, 38.78172122032255, 38.78172122032255, 38.48036263141396, 38.48036263141396, 38.48036263141396, 38.48036263141396, 38.48036263141396, 38.48036263141396, 38.48036263141396, 38.48036263141396, 38.48036263141396, 38.225748448033436, 38.225748448033436, 38.02774422726628, 38.02774422726628, 38.02774422726628, 38.02774422726628, 38.02774422726628, 38.02774422726628, 38.02774422726628, 38.02774422726628, 38.02774422726628, 38.02774422726628, 38.02774422726628, 38.02774422726628, 38.02774422726628, 38.02774422726628, 37.88728904389809, 37.88728904389809, 37.88728904389809, 37.88728904389809, 37.88728904389809, 37.88728904389809, 37.88728904389809, 37.88728904389809, 37.88728904389809, 37.88728904389809, 37.79377583147217, 37.79377583147217, 37.79377583147217, 37.79377583147217, 37.79377583147217, 37.79377583147217, 37.79377583147217, 37.79377583147217, 37.79377583147217, 37.79377583147217, 37.79377583147217, 37.79377583147217, 37.79377583147217, 37.79377583147217, 37.79377583147217, 37.79377583147217, 37.79377583147217, 37.79377583147217, 37.79377583147217, 37.79377583147217, 37.79377583147217, 37.66944964860124, 37.66944964860124, 37.66944964860124, 37.66944964860124, 37.66944964860124, 37.66944964860124, 37.66944964860124, 37.66944964860124, 37.66944964860124, 37.66944964860124, 37.66944964860124, 37.54865731331587, 37.54865731331587, 37.54865731331587, 37.54865731331587, 37.54865731331587, 37.54865731331587, 37.54865731331587, 37.54865731331587, 37.54865731331587, 37.54865731331587, 37.54865731331587, 37.54865731331587, 37.417474310066325, 37.417474310066325, 37.417474310066325, 37.417474310066325, 37.417474310066325, 37.245173559205206, 37.245173559205206, 37.245173559205206, 37.245173559205206, 37.245173559205206, 37.245173559205206, 37.245173559205206, 37.245173559205206, 37.245173559205206, 37.245173559205206, 37.07250780978841, 37.07250780978841, 37.07250780978841, 37.07250780978841, 37.07250780978841, 37.07250780978841, 37.07250780978841, 36.87578315531835, 36.87578315531835, 36.87578315531835, 36.87578315531835, 36.87578315531835, 36.87578315531835, 36.87578315531835, 36.87578315531835, 36.87578315531835, 36.70042271417532, 36.70042271417532, 36.70042271417532, 36.70042271417532, 36.70042271417532, 36.70042271417532, 36.70042271417532, 36.70042271417532, 36.70042271417532, 36.53133003487284, 36.53133003487284, 36.53133003487284, 36.53133003487284, 36.53133003487284, 36.3494721151057, 36.3494721151057, 36.3494721151057, 36.15936201765084, 36.15936201765084, 36.15936201765084, 36.15936201765084, 36.15936201765084, 36.15936201765084, 36.15936201765084, 35.97534000639585, 35.97534000639585, 35.97534000639585, 35.97534000639585, 35.97534000639585, 35.80778353254674, 35.80778353254674, 35.80778353254674, 35.80778353254674, 35.80778353254674, 35.6511974344488, 35.49897879778348, 35.49897879778348, 35.34783287201338, 35.34783287201338, 35.34783287201338, 35.34783287201338, 35.19657142570513, 35.19657142570513, 34.89116409983054, 34.89116409983054, 34.7367862858257, 34.7367862858257, 33.96184551533088, 33.81017327666766], \"yaxis\": \"y\"}],\n",
       "                        {\"barmode\": \"overlay\", \"legend\": {\"tracegroupgap\": 0}, \"shapes\": [{\"fillcolor\": \"LightSkyBlue\", \"layer\": \"below\", \"line\": {\"width\": 0}, \"opacity\": 0.5, \"type\": \"rect\", \"x0\": 11.115261697226948, \"x1\": 13.024082565068134, \"xref\": \"x\", \"y0\": 24.0, \"y1\": 52.0, \"yref\": \"y\"}, {\"fillcolor\": \"LightSkyBlue\", \"layer\": \"below\", \"line\": {\"width\": 0}, \"opacity\": 0.5, \"type\": \"rect\", \"x0\": 0.0, \"x1\": 37.0, \"xref\": \"x\", \"y0\": 37.46502236650339, \"y1\": 38.58415796136546, \"yref\": \"y\"}], \"template\": {\"data\": {\"bar\": [{\"error_x\": {\"color\": \"#2a3f5f\"}, \"error_y\": {\"color\": \"#2a3f5f\"}, \"marker\": {\"line\": {\"color\": \"#E5ECF6\", \"width\": 0.5}}, \"type\": \"bar\"}], \"barpolar\": [{\"marker\": {\"line\": {\"color\": \"#E5ECF6\", \"width\": 0.5}}, \"type\": \"barpolar\"}], \"carpet\": [{\"aaxis\": {\"endlinecolor\": \"#2a3f5f\", \"gridcolor\": \"white\", \"linecolor\": \"white\", \"minorgridcolor\": \"white\", \"startlinecolor\": \"#2a3f5f\"}, \"baxis\": {\"endlinecolor\": \"#2a3f5f\", \"gridcolor\": \"white\", \"linecolor\": \"white\", \"minorgridcolor\": \"white\", \"startlinecolor\": \"#2a3f5f\"}, \"type\": \"carpet\"}], \"choropleth\": [{\"colorbar\": {\"outlinewidth\": 0, \"ticks\": \"\"}, \"type\": \"choropleth\"}], \"contour\": [{\"colorbar\": {\"outlinewidth\": 0, \"ticks\": \"\"}, \"colorscale\": [[0.0, \"#0d0887\"], [0.1111111111111111, \"#46039f\"], [0.2222222222222222, \"#7201a8\"], [0.3333333333333333, \"#9c179e\"], [0.4444444444444444, \"#bd3786\"], [0.5555555555555556, \"#d8576b\"], [0.6666666666666666, \"#ed7953\"], [0.7777777777777778, \"#fb9f3a\"], [0.8888888888888888, \"#fdca26\"], [1.0, \"#f0f921\"]], \"type\": \"contour\"}], \"contourcarpet\": [{\"colorbar\": {\"outlinewidth\": 0, \"ticks\": \"\"}, \"type\": \"contourcarpet\"}], \"heatmap\": [{\"colorbar\": {\"outlinewidth\": 0, \"ticks\": \"\"}, \"colorscale\": [[0.0, \"#0d0887\"], [0.1111111111111111, \"#46039f\"], [0.2222222222222222, \"#7201a8\"], [0.3333333333333333, \"#9c179e\"], [0.4444444444444444, \"#bd3786\"], [0.5555555555555556, \"#d8576b\"], [0.6666666666666666, \"#ed7953\"], [0.7777777777777778, \"#fb9f3a\"], [0.8888888888888888, \"#fdca26\"], [1.0, \"#f0f921\"]], \"type\": \"heatmap\"}], \"heatmapgl\": [{\"colorbar\": {\"outlinewidth\": 0, \"ticks\": \"\"}, \"colorscale\": [[0.0, \"#0d0887\"], [0.1111111111111111, \"#46039f\"], [0.2222222222222222, \"#7201a8\"], [0.3333333333333333, \"#9c179e\"], [0.4444444444444444, \"#bd3786\"], [0.5555555555555556, \"#d8576b\"], [0.6666666666666666, \"#ed7953\"], [0.7777777777777778, \"#fb9f3a\"], [0.8888888888888888, \"#fdca26\"], [1.0, \"#f0f921\"]], \"type\": \"heatmapgl\"}], \"histogram\": [{\"marker\": {\"colorbar\": {\"outlinewidth\": 0, \"ticks\": \"\"}}, \"type\": \"histogram\"}], \"histogram2d\": [{\"colorbar\": {\"outlinewidth\": 0, \"ticks\": \"\"}, \"colorscale\": [[0.0, \"#0d0887\"], [0.1111111111111111, \"#46039f\"], [0.2222222222222222, \"#7201a8\"], [0.3333333333333333, \"#9c179e\"], [0.4444444444444444, \"#bd3786\"], [0.5555555555555556, \"#d8576b\"], [0.6666666666666666, \"#ed7953\"], [0.7777777777777778, \"#fb9f3a\"], [0.8888888888888888, \"#fdca26\"], [1.0, \"#f0f921\"]], \"type\": \"histogram2d\"}], \"histogram2dcontour\": [{\"colorbar\": {\"outlinewidth\": 0, \"ticks\": \"\"}, \"colorscale\": [[0.0, \"#0d0887\"], [0.1111111111111111, \"#46039f\"], [0.2222222222222222, \"#7201a8\"], [0.3333333333333333, \"#9c179e\"], [0.4444444444444444, \"#bd3786\"], [0.5555555555555556, \"#d8576b\"], [0.6666666666666666, \"#ed7953\"], [0.7777777777777778, \"#fb9f3a\"], [0.8888888888888888, \"#fdca26\"], [1.0, \"#f0f921\"]], \"type\": \"histogram2dcontour\"}], \"mesh3d\": [{\"colorbar\": {\"outlinewidth\": 0, \"ticks\": \"\"}, \"type\": \"mesh3d\"}], \"parcoords\": [{\"line\": {\"colorbar\": {\"outlinewidth\": 0, \"ticks\": \"\"}}, \"type\": \"parcoords\"}], \"pie\": [{\"automargin\": true, \"type\": \"pie\"}], \"scatter\": [{\"marker\": {\"colorbar\": {\"outlinewidth\": 0, \"ticks\": \"\"}}, \"type\": \"scatter\"}], \"scatter3d\": [{\"line\": {\"colorbar\": {\"outlinewidth\": 0, \"ticks\": \"\"}}, \"marker\": {\"colorbar\": {\"outlinewidth\": 0, \"ticks\": \"\"}}, \"type\": \"scatter3d\"}], \"scattercarpet\": [{\"marker\": {\"colorbar\": {\"outlinewidth\": 0, \"ticks\": \"\"}}, \"type\": \"scattercarpet\"}], \"scattergeo\": [{\"marker\": {\"colorbar\": {\"outlinewidth\": 0, \"ticks\": \"\"}}, \"type\": \"scattergeo\"}], \"scattergl\": [{\"marker\": {\"colorbar\": {\"outlinewidth\": 0, \"ticks\": \"\"}}, \"type\": \"scattergl\"}], \"scattermapbox\": [{\"marker\": {\"colorbar\": {\"outlinewidth\": 0, \"ticks\": \"\"}}, \"type\": \"scattermapbox\"}], \"scatterpolar\": [{\"marker\": {\"colorbar\": {\"outlinewidth\": 0, \"ticks\": \"\"}}, \"type\": \"scatterpolar\"}], \"scatterpolargl\": [{\"marker\": {\"colorbar\": {\"outlinewidth\": 0, \"ticks\": \"\"}}, \"type\": \"scatterpolargl\"}], \"scatterternary\": [{\"marker\": {\"colorbar\": {\"outlinewidth\": 0, \"ticks\": \"\"}}, \"type\": \"scatterternary\"}], \"surface\": [{\"colorbar\": {\"outlinewidth\": 0, \"ticks\": \"\"}, \"colorscale\": [[0.0, \"#0d0887\"], [0.1111111111111111, \"#46039f\"], [0.2222222222222222, \"#7201a8\"], [0.3333333333333333, \"#9c179e\"], [0.4444444444444444, \"#bd3786\"], [0.5555555555555556, \"#d8576b\"], [0.6666666666666666, \"#ed7953\"], [0.7777777777777778, \"#fb9f3a\"], [0.8888888888888888, \"#fdca26\"], [1.0, \"#f0f921\"]], \"type\": \"surface\"}], \"table\": [{\"cells\": {\"fill\": {\"color\": \"#EBF0F8\"}, \"line\": {\"color\": \"white\"}}, \"header\": {\"fill\": {\"color\": \"#C8D4E3\"}, \"line\": {\"color\": \"white\"}}, \"type\": \"table\"}]}, \"layout\": {\"annotationdefaults\": {\"arrowcolor\": \"#2a3f5f\", \"arrowhead\": 0, \"arrowwidth\": 1}, \"coloraxis\": {\"colorbar\": {\"outlinewidth\": 0, \"ticks\": \"\"}}, \"colorscale\": {\"diverging\": [[0, \"#8e0152\"], [0.1, \"#c51b7d\"], [0.2, \"#de77ae\"], [0.3, \"#f1b6da\"], [0.4, \"#fde0ef\"], [0.5, \"#f7f7f7\"], [0.6, \"#e6f5d0\"], [0.7, \"#b8e186\"], [0.8, \"#7fbc41\"], [0.9, \"#4d9221\"], [1, \"#276419\"]], \"sequential\": [[0.0, \"#0d0887\"], [0.1111111111111111, \"#46039f\"], [0.2222222222222222, \"#7201a8\"], [0.3333333333333333, \"#9c179e\"], [0.4444444444444444, \"#bd3786\"], [0.5555555555555556, \"#d8576b\"], [0.6666666666666666, \"#ed7953\"], [0.7777777777777778, \"#fb9f3a\"], [0.8888888888888888, \"#fdca26\"], [1.0, \"#f0f921\"]], \"sequentialminus\": [[0.0, \"#0d0887\"], [0.1111111111111111, \"#46039f\"], [0.2222222222222222, \"#7201a8\"], [0.3333333333333333, \"#9c179e\"], [0.4444444444444444, \"#bd3786\"], [0.5555555555555556, \"#d8576b\"], [0.6666666666666666, \"#ed7953\"], [0.7777777777777778, \"#fb9f3a\"], [0.8888888888888888, \"#fdca26\"], [1.0, \"#f0f921\"]]}, \"colorway\": [\"#636efa\", \"#EF553B\", \"#00cc96\", \"#ab63fa\", \"#FFA15A\", \"#19d3f3\", \"#FF6692\", \"#B6E880\", \"#FF97FF\", \"#FECB52\"], \"font\": {\"color\": \"#2a3f5f\"}, \"geo\": {\"bgcolor\": \"white\", \"lakecolor\": \"white\", \"landcolor\": \"#E5ECF6\", \"showlakes\": true, \"showland\": true, \"subunitcolor\": \"white\"}, \"hoverlabel\": {\"align\": \"left\"}, \"hovermode\": \"closest\", \"mapbox\": {\"style\": \"light\"}, \"paper_bgcolor\": \"white\", \"plot_bgcolor\": \"#E5ECF6\", \"polar\": {\"angularaxis\": {\"gridcolor\": \"white\", \"linecolor\": \"white\", \"ticks\": \"\"}, \"bgcolor\": \"#E5ECF6\", \"radialaxis\": {\"gridcolor\": \"white\", \"linecolor\": \"white\", \"ticks\": \"\"}}, \"scene\": {\"xaxis\": {\"backgroundcolor\": \"#E5ECF6\", \"gridcolor\": \"white\", \"gridwidth\": 2, \"linecolor\": \"white\", \"showbackground\": true, \"ticks\": \"\", \"zerolinecolor\": \"white\"}, \"yaxis\": {\"backgroundcolor\": \"#E5ECF6\", \"gridcolor\": \"white\", \"gridwidth\": 2, \"linecolor\": \"white\", \"showbackground\": true, \"ticks\": \"\", \"zerolinecolor\": \"white\"}, \"zaxis\": {\"backgroundcolor\": \"#E5ECF6\", \"gridcolor\": \"white\", \"gridwidth\": 2, \"linecolor\": \"white\", \"showbackground\": true, \"ticks\": \"\", \"zerolinecolor\": \"white\"}}, \"shapedefaults\": {\"line\": {\"color\": \"#2a3f5f\"}}, \"ternary\": {\"aaxis\": {\"gridcolor\": \"white\", \"linecolor\": \"white\", \"ticks\": \"\"}, \"baxis\": {\"gridcolor\": \"white\", \"linecolor\": \"white\", \"ticks\": \"\"}, \"bgcolor\": \"#E5ECF6\", \"caxis\": {\"gridcolor\": \"white\", \"linecolor\": \"white\", \"ticks\": \"\"}}, \"title\": {\"x\": 0.05}, \"xaxis\": {\"automargin\": true, \"gridcolor\": \"white\", \"linecolor\": \"white\", \"ticks\": \"\", \"title\": {\"standoff\": 15}, \"zerolinecolor\": \"white\", \"zerolinewidth\": 2}, \"yaxis\": {\"automargin\": true, \"gridcolor\": \"white\", \"linecolor\": \"white\", \"ticks\": \"\", \"title\": {\"standoff\": 15}, \"zerolinecolor\": \"white\", \"zerolinewidth\": 2}}}, \"title\": {\"text\": \"ledighed vs. tidsforbrug\"}, \"xaxis\": {\"anchor\": \"y\", \"domain\": [0.0, 0.7363], \"title\": {\"text\": \"ledighed\"}}, \"xaxis2\": {\"anchor\": \"y2\", \"domain\": [0.7413, 1.0], \"matches\": \"x2\", \"showgrid\": true, \"showline\": false, \"showticklabels\": false, \"ticks\": \"\"}, \"xaxis3\": {\"anchor\": \"y3\", \"domain\": [0.0, 0.7363], \"matches\": \"x\", \"showgrid\": true, \"showticklabels\": false}, \"xaxis4\": {\"anchor\": \"y4\", \"domain\": [0.7413, 1.0], \"matches\": \"x2\", \"showgrid\": true, \"showline\": false, \"showticklabels\": false, \"ticks\": \"\"}, \"yaxis\": {\"anchor\": \"x\", \"domain\": [0.0, 0.7326], \"title\": {\"text\": \"tidsforbrug\"}}, \"yaxis2\": {\"anchor\": \"x2\", \"domain\": [0.0, 0.7326], \"matches\": \"y\", \"showgrid\": true, \"showticklabels\": false}, \"yaxis3\": {\"anchor\": \"x3\", \"domain\": [0.7426, 1.0], \"matches\": \"y3\", \"showgrid\": true, \"showline\": false, \"showticklabels\": false, \"ticks\": \"\"}, \"yaxis4\": {\"anchor\": \"x4\", \"domain\": [0.7426, 1.0], \"matches\": \"y3\", \"showgrid\": true, \"showline\": false, \"showticklabels\": false, \"ticks\": \"\"}},\n",
       "                        {\"responsive\": true}\n",
       "                    ).then(function(){\n",
       "                            \n",
       "var gd = document.getElementById('dbf1b51a-882b-406d-9e06-d59173318b0b');\n",
       "var x = new MutationObserver(function (mutations, observer) {{\n",
       "        var display = window.getComputedStyle(gd).display;\n",
       "        if (!display || display === 'none') {{\n",
       "            console.log([gd, 'removed!']);\n",
       "            Plotly.purge(gd);\n",
       "            observer.disconnect();\n",
       "        }}\n",
       "}});\n",
       "\n",
       "// Listen for the removal of the full notebook cells\n",
       "var notebookContainer = gd.closest('#notebook-container');\n",
       "if (notebookContainer) {{\n",
       "    x.observe(notebookContainer, {childList: true});\n",
       "}}\n",
       "\n",
       "// Listen for the clearing of the current output cell\n",
       "var outputEl = gd.closest('.output');\n",
       "if (outputEl) {{\n",
       "    x.observe(outputEl, {childList: true});\n",
       "}}\n",
       "\n",
       "                        })\n",
       "                };\n",
       "                });\n",
       "            </script>\n",
       "        </div>"
      ]
     },
     "metadata": {},
     "output_type": "display_data"
    }
   ],
   "source": [
    "testing_for = \"ledighed\"\n",
    "\n",
    "for term in data_løn.mean().index:\n",
    "    nice_plot(testing_for, term, show_us=False)"
   ]
  },
  {
   "cell_type": "markdown",
   "metadata": {},
   "source": [
    "Something that could be fun: \n",
    "- Frafald vs.\n",
    "    - ledighed\n",
    "    - stress\n",
    "    - kvalitet\n",
    "    - d\n",
    "\n",
    "\n",
    "- ensom vs. stress\n",
    "- kvalitet vs. relevans\n",
    "- ensom vs. frafald"
   ]
  },
  {
   "cell_type": "markdown",
   "metadata": {},
   "source": [
    "fig = px.scatter_matrix(data_løn)\n",
    "fig.show()"
   ]
  }
 ],
 "metadata": {
  "kernelspec": {
   "display_name": "Python 3",
   "language": "python",
   "name": "python3"
  },
  "language_info": {
   "codemirror_mode": {
    "name": "ipython",
    "version": 3
   },
   "file_extension": ".py",
   "mimetype": "text/x-python",
   "name": "python",
   "nbconvert_exporter": "python",
   "pygments_lexer": "ipython3",
   "version": "3.6.0"
  }
 },
 "nbformat": 4,
 "nbformat_minor": 2
}
